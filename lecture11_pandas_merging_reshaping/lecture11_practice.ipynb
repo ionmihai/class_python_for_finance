{
 "cells": [
  {
   "cell_type": "markdown",
   "id": "a3b49fed",
   "metadata": {},
   "source": [
    "Run the cell below."
   ]
  },
  {
   "cell_type": "code",
   "execution_count": 1,
   "id": "6e8b70a0",
   "metadata": {},
   "outputs": [
    {
     "data": {
      "text/html": [
       "<div>\n",
       "<style scoped>\n",
       "    .dataframe tbody tr th:only-of-type {\n",
       "        vertical-align: middle;\n",
       "    }\n",
       "\n",
       "    .dataframe tbody tr th {\n",
       "        vertical-align: top;\n",
       "    }\n",
       "\n",
       "    .dataframe thead th {\n",
       "        text-align: right;\n",
       "    }\n",
       "</style>\n",
       "<table border=\"1\" class=\"dataframe\">\n",
       "  <thead>\n",
       "    <tr style=\"text-align: right;\">\n",
       "      <th></th>\n",
       "      <th>weight</th>\n",
       "      <th>year</th>\n",
       "      <th>ret</th>\n",
       "      <th>N</th>\n",
       "    </tr>\n",
       "  </thead>\n",
       "  <tbody>\n",
       "    <tr>\n",
       "      <th>0</th>\n",
       "      <td>ew</td>\n",
       "      <td>2010</td>\n",
       "      <td>0.10</td>\n",
       "      <td>5</td>\n",
       "    </tr>\n",
       "    <tr>\n",
       "      <th>1</th>\n",
       "      <td>vw</td>\n",
       "      <td>2010</td>\n",
       "      <td>0.15</td>\n",
       "      <td>3</td>\n",
       "    </tr>\n",
       "    <tr>\n",
       "      <th>2</th>\n",
       "      <td>ew</td>\n",
       "      <td>2011</td>\n",
       "      <td>0.05</td>\n",
       "      <td>4</td>\n",
       "    </tr>\n",
       "    <tr>\n",
       "      <th>3</th>\n",
       "      <td>vw</td>\n",
       "      <td>2011</td>\n",
       "      <td>0.01</td>\n",
       "      <td>10</td>\n",
       "    </tr>\n",
       "  </tbody>\n",
       "</table>\n",
       "</div>"
      ],
      "text/plain": [
       "  weight  year   ret   N\n",
       "0     ew  2010  0.10   5\n",
       "1     vw  2010  0.15   3\n",
       "2     ew  2011  0.05   4\n",
       "3     vw  2011  0.01  10"
      ]
     },
     "execution_count": 1,
     "metadata": {},
     "output_type": "execute_result"
    }
   ],
   "source": [
    "import pandas as pd\n",
    "import pandas_datareader as pdr\n",
    "\n",
    "ind = pd.DataFrame({'weight':['ew','vw','ew','vw'], \n",
    "                      'year': ['2010','2010','2011','2011'], \n",
    "                      'ret': [0.1,0.15,0.05,0.01],\n",
    "                      'N':[5,3,4,10]})\n",
    "ind"
   ]
  },
  {
   "cell_type": "markdown",
   "id": "d5e4590f",
   "metadata": {},
   "source": [
    "Reshape the data in the ``ret`` and ``N`` columns of the ``ind`` dataframe, so that each year gets its own row and different weight types ('ew' and 'vw') get their own columns. Call this new, reshaped dataframe ``ind_long``. Print ``ind_long``."
   ]
  },
  {
   "cell_type": "code",
   "execution_count": 2,
   "id": "21724b91",
   "metadata": {},
   "outputs": [
    {
     "data": {
      "text/html": [
       "<div>\n",
       "<style scoped>\n",
       "    .dataframe tbody tr th:only-of-type {\n",
       "        vertical-align: middle;\n",
       "    }\n",
       "\n",
       "    .dataframe tbody tr th {\n",
       "        vertical-align: top;\n",
       "    }\n",
       "\n",
       "    .dataframe thead tr th {\n",
       "        text-align: left;\n",
       "    }\n",
       "\n",
       "    .dataframe thead tr:last-of-type th {\n",
       "        text-align: right;\n",
       "    }\n",
       "</style>\n",
       "<table border=\"1\" class=\"dataframe\">\n",
       "  <thead>\n",
       "    <tr>\n",
       "      <th></th>\n",
       "      <th colspan=\"2\" halign=\"left\">ret</th>\n",
       "      <th colspan=\"2\" halign=\"left\">N</th>\n",
       "    </tr>\n",
       "    <tr>\n",
       "      <th>weight</th>\n",
       "      <th>ew</th>\n",
       "      <th>vw</th>\n",
       "      <th>ew</th>\n",
       "      <th>vw</th>\n",
       "    </tr>\n",
       "    <tr>\n",
       "      <th>year</th>\n",
       "      <th></th>\n",
       "      <th></th>\n",
       "      <th></th>\n",
       "      <th></th>\n",
       "    </tr>\n",
       "  </thead>\n",
       "  <tbody>\n",
       "    <tr>\n",
       "      <th>2010</th>\n",
       "      <td>0.10</td>\n",
       "      <td>0.15</td>\n",
       "      <td>5.0</td>\n",
       "      <td>3.0</td>\n",
       "    </tr>\n",
       "    <tr>\n",
       "      <th>2011</th>\n",
       "      <td>0.05</td>\n",
       "      <td>0.01</td>\n",
       "      <td>4.0</td>\n",
       "      <td>10.0</td>\n",
       "    </tr>\n",
       "  </tbody>\n",
       "</table>\n",
       "</div>"
      ],
      "text/plain": [
       "         ret          N      \n",
       "weight    ew    vw   ew    vw\n",
       "year                         \n",
       "2010    0.10  0.15  5.0   3.0\n",
       "2011    0.05  0.01  4.0  10.0"
      ]
     },
     "execution_count": 2,
     "metadata": {},
     "output_type": "execute_result"
    }
   ],
   "source": [
    "ind_long = ind.pivot(index='year', columns = 'weight', values=['ret','N'])\n",
    "ind_long"
   ]
  },
  {
   "cell_type": "markdown",
   "id": "f2b8b393",
   "metadata": {},
   "source": [
    "Reshape ``ind_long`` back into a dataframe that has the same columns as ``ind``. Call this new dataframe ``ind_wide``. Print ``ind_wide``."
   ]
  },
  {
   "cell_type": "code",
   "execution_count": 5,
   "id": "0d9ecad2",
   "metadata": {},
   "outputs": [
    {
     "data": {
      "text/html": [
       "<div>\n",
       "<style scoped>\n",
       "    .dataframe tbody tr th:only-of-type {\n",
       "        vertical-align: middle;\n",
       "    }\n",
       "\n",
       "    .dataframe tbody tr th {\n",
       "        vertical-align: top;\n",
       "    }\n",
       "\n",
       "    .dataframe thead th {\n",
       "        text-align: right;\n",
       "    }\n",
       "</style>\n",
       "<table border=\"1\" class=\"dataframe\">\n",
       "  <thead>\n",
       "    <tr style=\"text-align: right;\">\n",
       "      <th></th>\n",
       "      <th>year</th>\n",
       "      <th>weight</th>\n",
       "      <th>ret</th>\n",
       "      <th>N</th>\n",
       "    </tr>\n",
       "  </thead>\n",
       "  <tbody>\n",
       "    <tr>\n",
       "      <th>0</th>\n",
       "      <td>2010</td>\n",
       "      <td>ew</td>\n",
       "      <td>0.10</td>\n",
       "      <td>5.0</td>\n",
       "    </tr>\n",
       "    <tr>\n",
       "      <th>1</th>\n",
       "      <td>2010</td>\n",
       "      <td>vw</td>\n",
       "      <td>0.15</td>\n",
       "      <td>3.0</td>\n",
       "    </tr>\n",
       "    <tr>\n",
       "      <th>2</th>\n",
       "      <td>2011</td>\n",
       "      <td>ew</td>\n",
       "      <td>0.05</td>\n",
       "      <td>4.0</td>\n",
       "    </tr>\n",
       "    <tr>\n",
       "      <th>3</th>\n",
       "      <td>2011</td>\n",
       "      <td>vw</td>\n",
       "      <td>0.01</td>\n",
       "      <td>10.0</td>\n",
       "    </tr>\n",
       "  </tbody>\n",
       "</table>\n",
       "</div>"
      ],
      "text/plain": [
       "   year weight   ret     N\n",
       "0  2010     ew  0.10   5.0\n",
       "1  2010     vw  0.15   3.0\n",
       "2  2011     ew  0.05   4.0\n",
       "3  2011     vw  0.01  10.0"
      ]
     },
     "execution_count": 5,
     "metadata": {},
     "output_type": "execute_result"
    }
   ],
   "source": [
    "ind_wide = ind_long.stack(level=1).reset_index()\n",
    "ind_wide"
   ]
  },
  {
   "cell_type": "markdown",
   "id": "b7b854d9",
   "metadata": {},
   "source": [
    "Use the ``pandas_datareader`` package to download data on the 'GDP' and 'GNP' series from the St. Louis FRED for the year 2020 (should have 4 rows, one for each quarter in 2020). You can download the data for both series at the same time (i.e. into the same dataframe) by supplying the 'GDP' and 'GNP' names as elements of a single list. Call this new dataframe ``macro1`` and print it."
   ]
  },
  {
   "cell_type": "code",
   "execution_count": 6,
   "id": "6194f81c",
   "metadata": {},
   "outputs": [
    {
     "data": {
      "text/html": [
       "<div>\n",
       "<style scoped>\n",
       "    .dataframe tbody tr th:only-of-type {\n",
       "        vertical-align: middle;\n",
       "    }\n",
       "\n",
       "    .dataframe tbody tr th {\n",
       "        vertical-align: top;\n",
       "    }\n",
       "\n",
       "    .dataframe thead th {\n",
       "        text-align: right;\n",
       "    }\n",
       "</style>\n",
       "<table border=\"1\" class=\"dataframe\">\n",
       "  <thead>\n",
       "    <tr style=\"text-align: right;\">\n",
       "      <th></th>\n",
       "      <th>GDP</th>\n",
       "      <th>GNP</th>\n",
       "    </tr>\n",
       "    <tr>\n",
       "      <th>DATE</th>\n",
       "      <th></th>\n",
       "      <th></th>\n",
       "    </tr>\n",
       "  </thead>\n",
       "  <tbody>\n",
       "    <tr>\n",
       "      <th>2020-01-01</th>\n",
       "      <td>21481.367</td>\n",
       "      <td>21721.267</td>\n",
       "    </tr>\n",
       "    <tr>\n",
       "      <th>2020-04-01</th>\n",
       "      <td>19477.444</td>\n",
       "      <td>19649.442</td>\n",
       "    </tr>\n",
       "    <tr>\n",
       "      <th>2020-07-01</th>\n",
       "      <td>21138.574</td>\n",
       "      <td>21365.412</td>\n",
       "    </tr>\n",
       "    <tr>\n",
       "      <th>2020-10-01</th>\n",
       "      <td>21477.597</td>\n",
       "      <td>21728.223</td>\n",
       "    </tr>\n",
       "  </tbody>\n",
       "</table>\n",
       "</div>"
      ],
      "text/plain": [
       "                  GDP        GNP\n",
       "DATE                            \n",
       "2020-01-01  21481.367  21721.267\n",
       "2020-04-01  19477.444  19649.442\n",
       "2020-07-01  21138.574  21365.412\n",
       "2020-10-01  21477.597  21728.223"
      ]
     },
     "execution_count": 6,
     "metadata": {},
     "output_type": "execute_result"
    }
   ],
   "source": [
    "macro1 = pdr.DataReader(name=['GDP','GNP'], data_source='fred', \n",
    "                       start='2020-01-01', end='2020-12-31')\n",
    "macro1"
   ]
  },
  {
   "cell_type": "markdown",
   "id": "109759e9",
   "metadata": {},
   "source": [
    "Now download data for the same 'gdp' and 'gnp' series for the year 2019. Store these into a dataframe called ``macro2`` and print it out."
   ]
  },
  {
   "cell_type": "code",
   "execution_count": 7,
   "id": "4105b9c2",
   "metadata": {},
   "outputs": [
    {
     "data": {
      "text/html": [
       "<div>\n",
       "<style scoped>\n",
       "    .dataframe tbody tr th:only-of-type {\n",
       "        vertical-align: middle;\n",
       "    }\n",
       "\n",
       "    .dataframe tbody tr th {\n",
       "        vertical-align: top;\n",
       "    }\n",
       "\n",
       "    .dataframe thead th {\n",
       "        text-align: right;\n",
       "    }\n",
       "</style>\n",
       "<table border=\"1\" class=\"dataframe\">\n",
       "  <thead>\n",
       "    <tr style=\"text-align: right;\">\n",
       "      <th></th>\n",
       "      <th>GDP</th>\n",
       "      <th>GNP</th>\n",
       "    </tr>\n",
       "    <tr>\n",
       "      <th>DATE</th>\n",
       "      <th></th>\n",
       "      <th></th>\n",
       "    </tr>\n",
       "  </thead>\n",
       "  <tbody>\n",
       "    <tr>\n",
       "      <th>2019-01-01</th>\n",
       "      <td>21001.591</td>\n",
       "      <td>21254.334</td>\n",
       "    </tr>\n",
       "    <tr>\n",
       "      <th>2019-04-01</th>\n",
       "      <td>21289.268</td>\n",
       "      <td>21564.924</td>\n",
       "    </tr>\n",
       "    <tr>\n",
       "      <th>2019-07-01</th>\n",
       "      <td>21505.012</td>\n",
       "      <td>21780.753</td>\n",
       "    </tr>\n",
       "    <tr>\n",
       "      <th>2019-10-01</th>\n",
       "      <td>21694.458</td>\n",
       "      <td>21955.980</td>\n",
       "    </tr>\n",
       "  </tbody>\n",
       "</table>\n",
       "</div>"
      ],
      "text/plain": [
       "                  GDP        GNP\n",
       "DATE                            \n",
       "2019-01-01  21001.591  21254.334\n",
       "2019-04-01  21289.268  21564.924\n",
       "2019-07-01  21505.012  21780.753\n",
       "2019-10-01  21694.458  21955.980"
      ]
     },
     "execution_count": 7,
     "metadata": {},
     "output_type": "execute_result"
    }
   ],
   "source": [
    "macro2 = pdr.DataReader(name=['GDP','GNP'], data_source='fred', \n",
    "                       start='2019-01-01', end='2019-12-31')\n",
    "macro2"
   ]
  },
  {
   "cell_type": "markdown",
   "id": "3e983e67",
   "metadata": {},
   "source": [
    "Append ``macro1`` to ``macro2`` (stack them on top of each other). Call the resulting dataframe ``vert`` and print it out."
   ]
  },
  {
   "cell_type": "code",
   "execution_count": 8,
   "id": "8b941605",
   "metadata": {},
   "outputs": [
    {
     "data": {
      "text/html": [
       "<div>\n",
       "<style scoped>\n",
       "    .dataframe tbody tr th:only-of-type {\n",
       "        vertical-align: middle;\n",
       "    }\n",
       "\n",
       "    .dataframe tbody tr th {\n",
       "        vertical-align: top;\n",
       "    }\n",
       "\n",
       "    .dataframe thead th {\n",
       "        text-align: right;\n",
       "    }\n",
       "</style>\n",
       "<table border=\"1\" class=\"dataframe\">\n",
       "  <thead>\n",
       "    <tr style=\"text-align: right;\">\n",
       "      <th></th>\n",
       "      <th>GDP</th>\n",
       "      <th>GNP</th>\n",
       "    </tr>\n",
       "    <tr>\n",
       "      <th>DATE</th>\n",
       "      <th></th>\n",
       "      <th></th>\n",
       "    </tr>\n",
       "  </thead>\n",
       "  <tbody>\n",
       "    <tr>\n",
       "      <th>2020-01-01</th>\n",
       "      <td>21481.367</td>\n",
       "      <td>21721.267</td>\n",
       "    </tr>\n",
       "    <tr>\n",
       "      <th>2020-04-01</th>\n",
       "      <td>19477.444</td>\n",
       "      <td>19649.442</td>\n",
       "    </tr>\n",
       "    <tr>\n",
       "      <th>2020-07-01</th>\n",
       "      <td>21138.574</td>\n",
       "      <td>21365.412</td>\n",
       "    </tr>\n",
       "    <tr>\n",
       "      <th>2020-10-01</th>\n",
       "      <td>21477.597</td>\n",
       "      <td>21728.223</td>\n",
       "    </tr>\n",
       "    <tr>\n",
       "      <th>2019-01-01</th>\n",
       "      <td>21001.591</td>\n",
       "      <td>21254.334</td>\n",
       "    </tr>\n",
       "    <tr>\n",
       "      <th>2019-04-01</th>\n",
       "      <td>21289.268</td>\n",
       "      <td>21564.924</td>\n",
       "    </tr>\n",
       "    <tr>\n",
       "      <th>2019-07-01</th>\n",
       "      <td>21505.012</td>\n",
       "      <td>21780.753</td>\n",
       "    </tr>\n",
       "    <tr>\n",
       "      <th>2019-10-01</th>\n",
       "      <td>21694.458</td>\n",
       "      <td>21955.980</td>\n",
       "    </tr>\n",
       "  </tbody>\n",
       "</table>\n",
       "</div>"
      ],
      "text/plain": [
       "                  GDP        GNP\n",
       "DATE                            \n",
       "2020-01-01  21481.367  21721.267\n",
       "2020-04-01  19477.444  19649.442\n",
       "2020-07-01  21138.574  21365.412\n",
       "2020-10-01  21477.597  21728.223\n",
       "2019-01-01  21001.591  21254.334\n",
       "2019-04-01  21289.268  21564.924\n",
       "2019-07-01  21505.012  21780.753\n",
       "2019-10-01  21694.458  21955.980"
      ]
     },
     "execution_count": 8,
     "metadata": {},
     "output_type": "execute_result"
    }
   ],
   "source": [
    "vert = pd.concat([macro1, macro2], axis=0)\n",
    "vert"
   ]
  },
  {
   "cell_type": "markdown",
   "id": "b25fec4d",
   "metadata": {},
   "source": [
    "Also from FRED, download data on real GDP (``name = 'GDPC1'``) for 2019 and 2020. Call the resulting dataframe ``rgdp`` and print it out."
   ]
  },
  {
   "cell_type": "code",
   "execution_count": null,
   "id": "9d226728",
   "metadata": {},
   "outputs": [],
   "source": []
  },
  {
   "cell_type": "markdown",
   "id": "0cb84f73",
   "metadata": {},
   "source": [
    "Concatenate ``vert`` and ``rgdp`` so their data appears side by side into a new dataframe called ``full``. Print ``full``."
   ]
  },
  {
   "cell_type": "code",
   "execution_count": null,
   "id": "38bb9144",
   "metadata": {},
   "outputs": [],
   "source": []
  },
  {
   "cell_type": "markdown",
   "id": "a27c510d",
   "metadata": {},
   "source": [
    "Verify that this gives you the same answer as performing an outer join on ``vert`` and ``rgdp`` using the ``.join()`` function."
   ]
  },
  {
   "cell_type": "code",
   "execution_count": null,
   "id": "ba8b2cef",
   "metadata": {},
   "outputs": [],
   "source": []
  },
  {
   "cell_type": "markdown",
   "id": "f11db7a8",
   "metadata": {},
   "source": [
    "Reset index on ``vert`` and ``rgdp``. Call the resulting dataframes ``vert_reset`` and ``rgdp_reset`` and print them out."
   ]
  },
  {
   "cell_type": "code",
   "execution_count": null,
   "id": "fded9ed8",
   "metadata": {},
   "outputs": [],
   "source": []
  },
  {
   "cell_type": "code",
   "execution_count": null,
   "id": "e4911225",
   "metadata": {},
   "outputs": [],
   "source": []
  },
  {
   "cell_type": "markdown",
   "id": "0422d3c4",
   "metadata": {},
   "source": [
    "Concatenate ``vert_reset`` and ``rgdp_rest`` so their data appears side by side into a new dataframe called ``full_reset``. Print ``full_reset``. Note how this time the dates for the two dataframes don't align anymore. That's because now ``.concat()`` joins the two dataframes based on their new indexes (the 0-7 ones)."
   ]
  },
  {
   "cell_type": "code",
   "execution_count": null,
   "id": "a0a40327",
   "metadata": {},
   "outputs": [],
   "source": []
  },
  {
   "cell_type": "markdown",
   "id": "c9e8afd8",
   "metadata": {},
   "source": [
    "Use ``.merge()`` to perform an outer merge on ``vert_reset`` and ``rgdp_reset`` based on ``DATE``. Print the resulting merged dataframe."
   ]
  },
  {
   "cell_type": "code",
   "execution_count": null,
   "id": "b50781f5",
   "metadata": {},
   "outputs": [],
   "source": []
  }
 ],
 "metadata": {
  "kernelspec": {
   "display_name": "Python 3 (ipykernel)",
   "language": "python",
   "name": "python3"
  },
  "language_info": {
   "codemirror_mode": {
    "name": "ipython",
    "version": 3
   },
   "file_extension": ".py",
   "mimetype": "text/x-python",
   "name": "python",
   "nbconvert_exporter": "python",
   "pygments_lexer": "ipython3",
   "version": "3.8.5"
  },
  "toc": {
   "base_numbering": 1,
   "nav_menu": {},
   "number_sections": true,
   "sideBar": true,
   "skip_h1_title": false,
   "title_cell": "Table of Contents",
   "title_sidebar": "Contents",
   "toc_cell": false,
   "toc_position": {},
   "toc_section_display": true,
   "toc_window_display": false
  }
 },
 "nbformat": 4,
 "nbformat_minor": 5
}
