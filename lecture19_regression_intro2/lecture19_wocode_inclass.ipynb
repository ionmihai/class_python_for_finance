{
 "cells": [
  {
   "cell_type": "markdown",
   "metadata": {
    "toc": true
   },
   "source": [
    "<h1>Table of Contents<span class=\"tocSkip\"></span></h1>\n",
    "<div class=\"toc\"><ul class=\"toc-item\"><li><span><a href=\"#Preliminaries\" data-toc-modified-id=\"Preliminaries-1\"><span class=\"toc-item-num\">1&nbsp;&nbsp;</span>Preliminaries</a></span></li><li><span><a href=\"#Common-uses-for-regression-results\" data-toc-modified-id=\"Common-uses-for-regression-results-2\"><span class=\"toc-item-num\">2&nbsp;&nbsp;</span>Common uses for regression results</a></span><ul class=\"toc-item\"><li><span><a href=\"#Conditional-predictions\" data-toc-modified-id=\"Conditional-predictions-2.1\"><span class=\"toc-item-num\">2.1&nbsp;&nbsp;</span>Conditional predictions</a></span></li><li><span><a href=\"#Unconditional-predictions\" data-toc-modified-id=\"Unconditional-predictions-2.2\"><span class=\"toc-item-num\">2.2&nbsp;&nbsp;</span>Unconditional predictions</a></span></li><li><span><a href=\"#Variance-decomposition\" data-toc-modified-id=\"Variance-decomposition-2.3\"><span class=\"toc-item-num\">2.3&nbsp;&nbsp;</span>Variance decomposition</a></span></li></ul></li><li><span><a href=\"#Interaction-effects-between-explanatory-variables\" data-toc-modified-id=\"Interaction-effects-between-explanatory-variables-3\"><span class=\"toc-item-num\">3&nbsp;&nbsp;</span>Interaction effects between explanatory variables</a></span></li><li><span><a href=\"#Non-linear-explanatory-variables\" data-toc-modified-id=\"Non-linear-explanatory-variables-4\"><span class=\"toc-item-num\">4&nbsp;&nbsp;</span>Non-linear explanatory variables</a></span></li></ul></div>"
   ]
  },
  {
   "cell_type": "markdown",
   "metadata": {},
   "source": [
    "# Preliminaries"
   ]
  },
  {
   "cell_type": "code",
   "execution_count": null,
   "metadata": {},
   "outputs": [],
   "source": [
    "# Import packages\n",
    "import pandas as pd\n",
    "import numpy as np\n",
    "import yfinance as yf\n",
    "import pandas_datareader as pdr\n",
    "import statsmodels.api as sm"
   ]
  },
  {
   "cell_type": "code",
   "execution_count": null,
   "metadata": {},
   "outputs": [],
   "source": [
    "# Load Fama-French factor data\n",
    "ff3f = pdr.DataReader('F-F_Research_Data_Factors', 'famafrench', '2012-01-01')[0]/100\n",
    "ff3f.head(2)"
   ]
  },
  {
   "cell_type": "markdown",
   "metadata": {},
   "source": [
    "Load data on TSLA and clean it:"
   ]
  },
  {
   "cell_type": "code",
   "execution_count": null,
   "metadata": {},
   "outputs": [],
   "source": [
    "    # Download monthly prices (keep only Adjusted Close prices)\n",
    "firm_prices = yf.download('TSLA', '2012-12-01', '2020-12-31', interval = '1mo')['Adj Close'].dropna().to_frame()\n",
    "\n",
    "    # Calculate monthly returns, drop missing, convert from Series to DataFrame\n",
    "firm_ret = firm_prices.pct_change().dropna()\n",
    "\n",
    "    # Rename \"Adj Close\" to \"TSLA\"\n",
    "firm_ret.rename(columns = {'Adj Close': 'TSLA'}, inplace = True)\n",
    "\n",
    "    # Convert index to monthly period date\n",
    "firm_ret.index = firm_ret.index.to_period('M')\n",
    "firm_ret.head(2)"
   ]
  },
  {
   "cell_type": "code",
   "execution_count": null,
   "metadata": {},
   "outputs": [],
   "source": [
    "# Merge the two datasets\n",
    "data = firm_ret.join(ff3f)\n",
    "data['const'] = 1\n",
    "data.head(2)"
   ]
  },
  {
   "cell_type": "code",
   "execution_count": null,
   "metadata": {},
   "outputs": [],
   "source": [
    "# Set up the data\n",
    "    # Dependent variable (left side of the equal sign)\n",
    "y = data['TSLA'] - data['RF']\n",
    "y.head(2)"
   ]
  },
  {
   "cell_type": "code",
   "execution_count": null,
   "metadata": {},
   "outputs": [],
   "source": [
    "    # Independent variable(s) (right side of the equal sign)\n",
    "X = data[['const','Mkt-RF']]\n",
    "X.head(2)"
   ]
  },
  {
   "cell_type": "code",
   "execution_count": null,
   "metadata": {},
   "outputs": [],
   "source": [
    "# Run regression and store results in \"res\" object\n",
    "res = sm.OLS(y,X).fit()\n",
    "print(res.summary())"
   ]
  },
  {
   "cell_type": "markdown",
   "metadata": {},
   "source": [
    "**Challenge**:\n",
    "\n",
    "Estimate the Fama-French three factor model using the data gathered above"
   ]
  },
  {
   "cell_type": "code",
   "execution_count": null,
   "metadata": {},
   "outputs": [],
   "source": []
  },
  {
   "cell_type": "markdown",
   "metadata": {},
   "source": [
    "# Common uses for regression results\n",
    "\n",
    "Assume that we ran a regression of the form:\n",
    "\n",
    "\n",
    "$$y_t = \\alpha + \\beta \\cdot x_t + \\epsilon_t $$\n",
    "\n",
    "In the CAPM regression we ran above, $y_t$ is the excess return on TSLA and $x_t$ is the excess return on the market:\n",
    "\n",
    "$$R_{i,t} - R_{f,t} = \\alpha_i + \\beta_i (R_{m,t} - R_{f,t}) + \\epsilon_{i,t}$$\n"
   ]
  },
  {
   "cell_type": "markdown",
   "metadata": {},
   "source": [
    "## Conditional predictions\n",
    "\n",
    "We can use the results of our regression to estimate what we should expect the value of the dependent variable to be, if we knew the value of the independent variable(s). Mathematically, this is given by:\n",
    "\n",
    "$$ E[y_t | x_t] = \\alpha + \\beta \\cdot x_t $$"
   ]
  },
  {
   "cell_type": "markdown",
   "metadata": {},
   "source": [
    "**Example**:\n",
    "\n",
    "Using the results from the single-factor regression above, what is the expected excess return of TSLA if the market excess return is 2%? "
   ]
  },
  {
   "cell_type": "code",
   "execution_count": null,
   "metadata": {},
   "outputs": [],
   "source": [
    "# Extract coefficients from the results object"
   ]
  },
  {
   "cell_type": "code",
   "execution_count": null,
   "metadata": {},
   "outputs": [],
   "source": [
    "# Conditional prediction"
   ]
  },
  {
   "cell_type": "markdown",
   "metadata": {},
   "source": [
    "**Challenge**:\n",
    "\n",
    "Using the results from the three-factor regression above, what is the expected excess return of TSLA if the market excess return is 2%, the SMB return -1% and the HML return is 0.5%? "
   ]
  },
  {
   "cell_type": "code",
   "execution_count": null,
   "metadata": {},
   "outputs": [],
   "source": [
    "# Extract params"
   ]
  },
  {
   "cell_type": "code",
   "execution_count": null,
   "metadata": {},
   "outputs": [],
   "source": [
    "# Prediction"
   ]
  },
  {
   "cell_type": "markdown",
   "metadata": {},
   "source": [
    "## Unconditional predictions\n",
    "\n",
    "We can use the results of our regression to estimate what we should expect the value of the dependent variable to be, using our best guess for the value of the independent variable(s). Mathematically, this is given by:\n",
    "\n",
    "$$ E[y_t] = \\alpha + \\beta \\cdot E[x_t] $$"
   ]
  },
  {
   "cell_type": "markdown",
   "metadata": {},
   "source": [
    "**Example**:\n",
    "\n",
    "Using the results from the regression above, what is the expected excess return of TSLA (i.e the risk premium on TSLA)? To answer this question, we must first estimate $E[R_m - R_f]$ (i.e. the market risk premium). We do so by taking an average of the excess returns on the market over a very long time (below we use the last 90 years). "
   ]
  },
  {
   "cell_type": "code",
   "execution_count": null,
   "metadata": {},
   "outputs": [],
   "source": [
    "# Download 100 years of data on market excess returns"
   ]
  },
  {
   "cell_type": "code",
   "execution_count": null,
   "metadata": {},
   "outputs": [],
   "source": [
    "# Estimate (monthly) market risk premium"
   ]
  },
  {
   "cell_type": "code",
   "execution_count": null,
   "metadata": {},
   "outputs": [],
   "source": [
    "# Estimate TSLA risk premium"
   ]
  },
  {
   "cell_type": "markdown",
   "metadata": {},
   "source": [
    "**Challenge**:\n",
    "\n",
    "Estimate the risk-premium of TSLA using the three-factor model, and risk-premia estimated using the last 90 years of data."
   ]
  },
  {
   "cell_type": "code",
   "execution_count": null,
   "metadata": {},
   "outputs": [],
   "source": [
    "# Estimate risk-premia"
   ]
  },
  {
   "cell_type": "code",
   "execution_count": null,
   "metadata": {},
   "outputs": [],
   "source": [
    "# Estimate TSLA risk premium"
   ]
  },
  {
   "cell_type": "markdown",
   "metadata": {},
   "source": [
    "## Variance decomposition\n",
    "\n",
    "The regression results can allow us to decompose the total variance of the dependent variable into the portion that can be explained by the variance in the explanatory variables and the portion that can not be explained by these variables. Mathematically, the regression equation implies:\n",
    "\n",
    "$$ Var[Y] = \\beta^2 \\cdot Var[X] + Var[\\epsilon] $$"
   ]
  },
  {
   "cell_type": "markdown",
   "metadata": {},
   "source": [
    "**Example**:\n",
    "\n",
    "Using the results from the regression above, calculate the total variance of TSLA, as well as its systematic variance and its idiosyncratic variance."
   ]
  },
  {
   "cell_type": "code",
   "execution_count": null,
   "metadata": {},
   "outputs": [],
   "source": [
    "# Total risk of tesla (variance)"
   ]
  },
  {
   "cell_type": "code",
   "execution_count": null,
   "metadata": {},
   "outputs": [],
   "source": [
    "# Systematic risk"
   ]
  },
  {
   "cell_type": "code",
   "execution_count": null,
   "metadata": {},
   "outputs": [],
   "source": [
    "# Idiosyncratic risk"
   ]
  },
  {
   "cell_type": "code",
   "execution_count": null,
   "metadata": {},
   "outputs": [],
   "source": [
    "# Another way of calculating idiosyncratic risk (=variance of residuals (epsilon) from the regression )"
   ]
  },
  {
   "cell_type": "code",
   "execution_count": null,
   "metadata": {},
   "outputs": [],
   "source": [
    "# Print all three of them out"
   ]
  },
  {
   "cell_type": "code",
   "execution_count": null,
   "metadata": {
    "scrolled": false
   },
   "outputs": [],
   "source": [
    "# Print as percentages of total risk"
   ]
  },
  {
   "cell_type": "markdown",
   "metadata": {},
   "source": [
    "**Challenge**:\n",
    "\n",
    "Using the Fama-French three factor model, what percentage of TSLA total risk is diversifiable and what percentage is undiversifiable?"
   ]
  },
  {
   "cell_type": "code",
   "execution_count": null,
   "metadata": {},
   "outputs": [],
   "source": []
  },
  {
   "cell_type": "markdown",
   "metadata": {},
   "source": [
    "# Interaction effects between explanatory variables\n",
    "\n",
    "In some circumstances, we might want our linear regression model to allow the relation between two variables to depend on a third variable:\n",
    "\n",
    "$$ Y_t = \\alpha + (\\beta + \\gamma \\cdot Z_t) \\cdot X_t + \\delta \\cdot Z_t + \\epsilon_t $$\n",
    "\n",
    "Note that the effect of X on Y (i.e. $\\beta + \\gamma \\cdot Z_t$) depends on the value of a third variable ($Z_t$).\n",
    "\n",
    "The regression above is often written (equivalently) as:\n",
    "\n",
    "\n",
    "$$ Y_t = \\alpha + \\beta  \\cdot X_t + \\gamma \\cdot Z_t \\cdot X_t + \\delta \\cdot Z_t + \\epsilon_t $$\n",
    "\n",
    "where the $Z_t \\cdot X_t$ term is called the **interaction** between the X and Z variables. This interaction term needs to be constructed in the data before we run our regression (by taking the product of X and Z). "
   ]
  },
  {
   "cell_type": "markdown",
   "metadata": {},
   "source": [
    "**Dummy variables** (or \"indicator\" variables) are variables that take only the values 0 or 1. They are often used in interaction terms (as the $Z$ variable above) to test if the relation between the main variables of interest (Y and X) is significantly different when some particular condition is satisfied (i.e. Z will equal 1 when the condition is satisfied and 0 when it is not)."
   ]
  },
  {
   "cell_type": "markdown",
   "metadata": {},
   "source": [
    "**Example**:\n",
    "\n",
    "Using the same data as in the regressions above, test if: \n",
    "1. TSLA's alpha is significantly different before 2015 than after 2015. \n",
    "2. TSLA's beta is significantly different before 2015 than after 2015. \n",
    "\n",
    "In this example, the $Z_t$ variable will have a value of 0 before 2015 and a value of 1 after 2015. So, before 2015, the equation above becomes \n",
    "\n",
    "$$ Y_t = \\alpha + \\beta  \\cdot X_t  + \\epsilon_t $$\n",
    "\n",
    "and after 2015, it becomes \n",
    "\n",
    "$$ Y_t = \\alpha + \\delta +  (\\beta + \\gamma) X_t +  \\epsilon_t $$\n",
    "\n",
    "Hence, $\\delta$ tells us the difference between the firm's alpha after 2015 and its alpha before 2015. And $\\gamma$ tells us the difference between the firm's beta after 2015 and its beta before 2015."
   ]
  },
  {
   "cell_type": "code",
   "execution_count": null,
   "metadata": {},
   "outputs": [],
   "source": [
    "# Create dummy variable that = 1 after 2015 and 0 before"
   ]
  },
  {
   "cell_type": "code",
   "execution_count": null,
   "metadata": {},
   "outputs": [],
   "source": [
    "# Create interaction term"
   ]
  },
  {
   "cell_type": "code",
   "execution_count": null,
   "metadata": {},
   "outputs": [],
   "source": []
  },
  {
   "cell_type": "code",
   "execution_count": null,
   "metadata": {},
   "outputs": [],
   "source": [
    "# Is the beta of the firm significantly different (at the 5% level) after 2015?"
   ]
  },
  {
   "cell_type": "code",
   "execution_count": null,
   "metadata": {},
   "outputs": [],
   "source": [
    "# Is the alpha of the firm significantly different (at the 5% level) after 2015?"
   ]
  },
  {
   "cell_type": "markdown",
   "metadata": {},
   "source": [
    "# Non-linear explanatory variables\n",
    "\n",
    "In some circumstances we might want to test if there is a significant non-linear relationship between two variables of interest. For example, to test for a quadratic relation between Y and X, we can run the following regression:\n",
    "\n",
    "$$ Y_t = \\alpha + \\beta \\cdot X_t + \\gamma \\cdot X_t^2 + \\epsilon_t$$\n",
    "\n",
    "The $X^2$ variable needs to be created ahead of time in the data, before we run the regression. \n",
    "\n",
    "**Example**:\n",
    "\n",
    "Using the market model above, test if there is a significant quadratic relation between TSLA excess returns and market excess returns."
   ]
  },
  {
   "cell_type": "code",
   "execution_count": null,
   "metadata": {},
   "outputs": [],
   "source": [
    "# Create quadratic market excess returns"
   ]
  },
  {
   "cell_type": "code",
   "execution_count": null,
   "metadata": {},
   "outputs": [],
   "source": []
  }
 ],
 "metadata": {
  "kernelspec": {
   "display_name": "Python 3 (ipykernel)",
   "language": "python",
   "name": "python3"
  },
  "language_info": {
   "codemirror_mode": {
    "name": "ipython",
    "version": 3
   },
   "file_extension": ".py",
   "mimetype": "text/x-python",
   "name": "python",
   "nbconvert_exporter": "python",
   "pygments_lexer": "ipython3",
   "version": "3.8.5"
  },
  "toc": {
   "base_numbering": 1,
   "nav_menu": {},
   "number_sections": true,
   "sideBar": true,
   "skip_h1_title": false,
   "title_cell": "Table of Contents",
   "title_sidebar": "Contents",
   "toc_cell": true,
   "toc_position": {},
   "toc_section_display": true,
   "toc_window_display": false
  }
 },
 "nbformat": 4,
 "nbformat_minor": 4
}
