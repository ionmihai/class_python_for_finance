{
 "cells": [
  {
   "cell_type": "markdown",
   "id": "5cfc9abd",
   "metadata": {},
   "source": [
    "Run the cells below:"
   ]
  },
  {
   "cell_type": "code",
   "execution_count": null,
   "id": "09615c27",
   "metadata": {},
   "outputs": [],
   "source": [
    "import pandas as pd\n",
    "import numpy as np\n",
    "import statsmodels.api as sm\n",
    "import pandas_datareader as pdr"
   ]
  },
  {
   "cell_type": "code",
   "execution_count": null,
   "id": "cbdae69b",
   "metadata": {},
   "outputs": [],
   "source": [
    "df = pdr.DataReader(name=['INDPRO','USEPUINDXM'], data_source='fred',\n",
    "                   start = '1985-01-01', end = '2020-12-31')\n",
    "\n",
    "df.rename(columns = {'INDPRO':'IPRO', 'USEPUINDXM':'EPU'}, inplace = True)\n",
    "df.head()"
   ]
  },
  {
   "cell_type": "code",
   "execution_count": null,
   "id": "940ceb50",
   "metadata": {},
   "outputs": [],
   "source": [
    "df = df.sort_index()\n",
    "df['future_IPRO'] = df['IPRO'].shift(-12) - df['IPRO'] #i.e. the 12-month future change in IPRO\n",
    "df['const'] = 1\n",
    "df.dropna(inplace = True)\n",
    "df"
   ]
  },
  {
   "cell_type": "markdown",
   "id": "b4253031",
   "metadata": {},
   "source": [
    "Regress future industrial production changes (``future_IPRO``) on current policy uncertainty (``EPU``) and the constant."
   ]
  },
  {
   "cell_type": "code",
   "execution_count": null,
   "id": "7e53b861",
   "metadata": {},
   "outputs": [],
   "source": []
  },
  {
   "cell_type": "markdown",
   "id": "e1cdd21d",
   "metadata": {},
   "source": [
    "Using the regression results above, does economic policy uncertainty have a statistically significant effect on changes in future industrial production at the 95\\% confidence level?"
   ]
  },
  {
   "cell_type": "markdown",
   "id": "c0b8b223",
   "metadata": {},
   "source": [
    "A: "
   ]
  },
  {
   "cell_type": "code",
   "execution_count": null,
   "id": "476d5ed2",
   "metadata": {
    "scrolled": true
   },
   "outputs": [],
   "source": []
  },
  {
   "cell_type": "markdown",
   "id": "ce3daf69",
   "metadata": {},
   "source": [
    "Using the results of the regression above, what is the expected change in industrial production over the next 12 months, if the current policy uncertainty level is 100?"
   ]
  },
  {
   "cell_type": "code",
   "execution_count": null,
   "id": "ee47a109",
   "metadata": {},
   "outputs": [],
   "source": []
  },
  {
   "cell_type": "markdown",
   "id": "fd9b432e",
   "metadata": {},
   "source": [
    "Using the results of the regression above (and only the data available in ``df``), what is the expected change in industrial production over the next 12 months?"
   ]
  },
  {
   "cell_type": "code",
   "execution_count": null,
   "id": "e073c829",
   "metadata": {},
   "outputs": [],
   "source": []
  },
  {
   "cell_type": "code",
   "execution_count": null,
   "id": "0b579eb3",
   "metadata": {},
   "outputs": [],
   "source": []
  },
  {
   "cell_type": "markdown",
   "id": "c5e609a6",
   "metadata": {},
   "source": [
    "Create a dummy variable called ``after2000`` which equals 1 after the year 2000 and 0 before. Then interact this dummy variable with the ``EPU`` variable and call this interaction variable ``EPU_x_after2000``. "
   ]
  },
  {
   "cell_type": "code",
   "execution_count": null,
   "id": "c1b494ce",
   "metadata": {},
   "outputs": [],
   "source": []
  },
  {
   "cell_type": "markdown",
   "id": "49fa2d72",
   "metadata": {},
   "source": [
    "Regress ``future_IPRO`` on the ``EPU`` variable, the ``after2000`` dummy variable, and the interaction term you created above. "
   ]
  },
  {
   "cell_type": "code",
   "execution_count": null,
   "id": "703212a2",
   "metadata": {},
   "outputs": [],
   "source": []
  },
  {
   "cell_type": "markdown",
   "id": "34dc3944",
   "metadata": {},
   "source": [
    "Based on the results of this last regression, **prior to the year 2000**, does economic policy uncertainty have a significant effect on future changes in industrial production at the 95\\% confidence level?"
   ]
  },
  {
   "cell_type": "markdown",
   "id": "d5b49265",
   "metadata": {},
   "source": [
    "A: "
   ]
  },
  {
   "cell_type": "code",
   "execution_count": null,
   "id": "13798b22",
   "metadata": {},
   "outputs": [],
   "source": []
  },
  {
   "cell_type": "markdown",
   "id": "ac35de66",
   "metadata": {},
   "source": [
    "Based on the results of this last regression, is the effect of economic policy uncertainty on future changes in industrial production significantly weaker (not as negative) after the year 2000 then prior to 2000 (at the 95\\% confidence level)?"
   ]
  },
  {
   "cell_type": "markdown",
   "id": "96cdad78",
   "metadata": {},
   "source": [
    "A: "
   ]
  },
  {
   "cell_type": "code",
   "execution_count": null,
   "id": "6f4def85",
   "metadata": {},
   "outputs": [],
   "source": []
  }
 ],
 "metadata": {
  "kernelspec": {
   "display_name": "Python 3",
   "language": "python",
   "name": "python3"
  },
  "language_info": {
   "codemirror_mode": {
    "name": "ipython",
    "version": 3
   },
   "file_extension": ".py",
   "mimetype": "text/x-python",
   "name": "python",
   "nbconvert_exporter": "python",
   "pygments_lexer": "ipython3",
   "version": "3.9.7"
  },
  "toc": {
   "base_numbering": 1,
   "nav_menu": {},
   "number_sections": true,
   "sideBar": true,
   "skip_h1_title": false,
   "title_cell": "Table of Contents",
   "title_sidebar": "Contents",
   "toc_cell": false,
   "toc_position": {},
   "toc_section_display": true,
   "toc_window_display": false
  }
 },
 "nbformat": 4,
 "nbformat_minor": 5
}
