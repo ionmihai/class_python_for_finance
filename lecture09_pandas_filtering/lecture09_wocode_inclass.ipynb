{
 "cells": [
  {
   "cell_type": "markdown",
   "id": "b890f3e8",
   "metadata": {
    "toc": true
   },
   "source": [
    "<h1>Table of Contents<span class=\"tocSkip\"></span></h1>\n",
    "<div class=\"toc\"><ul class=\"toc-item\"><li><span><a href=\"#Preliminaries\" data-toc-modified-id=\"Preliminaries-1\"><span class=\"toc-item-num\">1&nbsp;&nbsp;</span>Preliminaries</a></span></li><li><span><a href=\"#Filtering-(subsetting)-pandas-DataFrames\" data-toc-modified-id=\"Filtering-(subsetting)-pandas-DataFrames-2\"><span class=\"toc-item-num\">2&nbsp;&nbsp;</span>Filtering (subsetting) pandas DataFrames</a></span><ul class=\"toc-item\"><li><span><a href=\"#.loc[]\" data-toc-modified-id=\".loc[]-2.1\"><span class=\"toc-item-num\">2.1&nbsp;&nbsp;</span><code>.loc[]</code></a></span><ul class=\"toc-item\"><li><span><a href=\"#Subsetting-with-explicit-labels\" data-toc-modified-id=\"Subsetting-with-explicit-labels-2.1.1\"><span class=\"toc-item-num\">2.1.1&nbsp;&nbsp;</span>Subsetting with explicit labels</a></span></li><li><span><a href=\"#Subsetting-with-slices-on-labels\" data-toc-modified-id=\"Subsetting-with-slices-on-labels-2.1.2\"><span class=\"toc-item-num\">2.1.2&nbsp;&nbsp;</span>Subsetting with slices on labels</a></span></li><li><span><a href=\"#Subsetting-with-boolean-arrays\" data-toc-modified-id=\"Subsetting-with-boolean-arrays-2.1.3\"><span class=\"toc-item-num\">2.1.3&nbsp;&nbsp;</span>Subsetting with boolean arrays</a></span></li></ul></li><li><span><a href=\"#.iloc[]\" data-toc-modified-id=\".iloc[]-2.2\"><span class=\"toc-item-num\">2.2&nbsp;&nbsp;</span><code>.iloc[]</code></a></span></li><li><span><a href=\"#.filter()\" data-toc-modified-id=\".filter()-2.3\"><span class=\"toc-item-num\">2.3&nbsp;&nbsp;</span><code>.filter()</code></a></span></li><li><span><a href=\"#Copies-vs-&quot;views&quot;\" data-toc-modified-id=\"Copies-vs-&quot;views&quot;-2.4\"><span class=\"toc-item-num\">2.4&nbsp;&nbsp;</span>Copies vs \"views\"</a></span></li></ul></li><li><span><a href=\"#Filtering-on-a-MultiIndex\" data-toc-modified-id=\"Filtering-on-a-MultiIndex-3\"><span class=\"toc-item-num\">3&nbsp;&nbsp;</span>Filtering on a MultiIndex</a></span></li></ul></div>"
   ]
  },
  {
   "cell_type": "markdown",
   "id": "9cef828e",
   "metadata": {},
   "source": [
    "# Preliminaries"
   ]
  },
  {
   "cell_type": "code",
   "execution_count": null,
   "id": "41eeac72",
   "metadata": {},
   "outputs": [],
   "source": [
    "import pandas as pd\n",
    "import numpy as np"
   ]
  },
  {
   "cell_type": "code",
   "execution_count": null,
   "id": "29b89782",
   "metadata": {},
   "outputs": [],
   "source": [
    "df = pd.DataFrame(data=[['TSLA',1000, 0.1],['AAPL',2000, 0.05], ['MSFT', 100, 0.07]], \n",
    "                  index = ['Tesla','Apple', 'Microsoft'], \n",
    "                  columns = ['ticker','price', 'return'])\n",
    "df"
   ]
  },
  {
   "cell_type": "markdown",
   "id": "e2d4b5f2",
   "metadata": {},
   "source": [
    "# Filtering (subsetting) pandas DataFrames "
   ]
  },
  {
   "cell_type": "markdown",
   "id": "011f78c9",
   "metadata": {},
   "source": [
    "## ``.loc[]``\n",
    "\n",
    "The most common way to access a subset of the data in a dataframe is through the ``.loc`` attribute. This attribute uses square brackets instead of parentheses and contains two arguments: we use the first one to tell Python which rows we want from the parent dataframe, and the second one to specify which columns we want. This generally looks like this:\n",
    "\n",
    "```python\n",
    "DataFrame.loc[<which_rows>, <which_columns>]\n",
    "```\n",
    "where, instead of ``DataFrame`` you would use the name of the full dataframe you want to subset. Pandas allows for a lot of flexibility as to what you can use instead of ``<which_rows>`` and ``<which_column>`` above. See the examples in the official documentation to get a more complete picture of what is possible with ``.loc[]``: https://pandas.pydata.org/docs/reference/api/pandas.DataFrame.loc.html\n",
    "\n",
    "Below, I cover the most common ways to specify which rows and columns you want:\n",
    "\n",
    "1. By explicitly specifying the names (labels) of the index and/or column(s)\n",
    "2. Using slices (ranges) on the index labels or column labels\n",
    "3. Using anything that returns a boolean sequence (a value of \"True\" in that sequence will be interpreted as \"I want this row/column\")"
   ]
  },
  {
   "cell_type": "markdown",
   "id": "5acc8087",
   "metadata": {},
   "source": [
    "### Subsetting with explicit labels"
   ]
  },
  {
   "cell_type": "code",
   "execution_count": null,
   "id": "3a5e741d",
   "metadata": {},
   "outputs": [],
   "source": []
  },
  {
   "cell_type": "code",
   "execution_count": null,
   "id": "12866093",
   "metadata": {},
   "outputs": [],
   "source": []
  },
  {
   "cell_type": "code",
   "execution_count": null,
   "id": "3f6384fb",
   "metadata": {},
   "outputs": [],
   "source": []
  },
  {
   "cell_type": "code",
   "execution_count": null,
   "id": "e6ce0107",
   "metadata": {},
   "outputs": [],
   "source": []
  },
  {
   "cell_type": "code",
   "execution_count": null,
   "id": "2f44025b",
   "metadata": {},
   "outputs": [],
   "source": []
  },
  {
   "cell_type": "code",
   "execution_count": null,
   "id": "1ab55c13",
   "metadata": {},
   "outputs": [],
   "source": []
  },
  {
   "cell_type": "code",
   "execution_count": null,
   "id": "da00cfc0",
   "metadata": {},
   "outputs": [],
   "source": []
  },
  {
   "cell_type": "markdown",
   "id": "8d211988",
   "metadata": {},
   "source": [
    "### Subsetting with slices on labels"
   ]
  },
  {
   "cell_type": "code",
   "execution_count": null,
   "id": "a192f2fc",
   "metadata": {},
   "outputs": [],
   "source": []
  },
  {
   "cell_type": "code",
   "execution_count": null,
   "id": "f485d977",
   "metadata": {},
   "outputs": [],
   "source": []
  },
  {
   "cell_type": "code",
   "execution_count": null,
   "id": "05f487a9",
   "metadata": {},
   "outputs": [],
   "source": []
  },
  {
   "cell_type": "code",
   "execution_count": null,
   "id": "aa933968",
   "metadata": {},
   "outputs": [],
   "source": []
  },
  {
   "cell_type": "markdown",
   "id": "ba7326c3",
   "metadata": {},
   "source": [
    "### Subsetting with boolean arrays"
   ]
  },
  {
   "cell_type": "code",
   "execution_count": null,
   "id": "0c11c33c",
   "metadata": {},
   "outputs": [],
   "source": []
  },
  {
   "cell_type": "code",
   "execution_count": null,
   "id": "99a80922",
   "metadata": {},
   "outputs": [],
   "source": []
  },
  {
   "cell_type": "code",
   "execution_count": null,
   "id": "1ef7c618",
   "metadata": {},
   "outputs": [],
   "source": []
  },
  {
   "cell_type": "code",
   "execution_count": null,
   "id": "8ac8696a",
   "metadata": {},
   "outputs": [],
   "source": []
  },
  {
   "cell_type": "code",
   "execution_count": null,
   "id": "88be4131",
   "metadata": {},
   "outputs": [],
   "source": []
  },
  {
   "cell_type": "markdown",
   "id": "936311e4",
   "metadata": {},
   "source": [
    "## ``.iloc[]``\n",
    "\n",
    "Works similarly to ``.loc()`` with one crucial exception: ``.iloc()`` uses index/column **integer positions** (as opposed to labels like ``.loc()``)."
   ]
  },
  {
   "cell_type": "code",
   "execution_count": null,
   "id": "7d3a4cbc",
   "metadata": {},
   "outputs": [],
   "source": []
  },
  {
   "cell_type": "code",
   "execution_count": null,
   "id": "f29c4682",
   "metadata": {},
   "outputs": [],
   "source": []
  },
  {
   "cell_type": "code",
   "execution_count": null,
   "id": "78cf9967",
   "metadata": {},
   "outputs": [],
   "source": []
  },
  {
   "cell_type": "markdown",
   "id": "eec2a14b",
   "metadata": {},
   "source": [
    "Slicing also works, but this time we have to use index/column numbers, and the right-most end of the range is **not** included:"
   ]
  },
  {
   "cell_type": "code",
   "execution_count": null,
   "id": "cb4ffb79",
   "metadata": {},
   "outputs": [],
   "source": []
  },
  {
   "cell_type": "markdown",
   "id": "8a5459c5",
   "metadata": {},
   "source": [
    "We rarely use boolean arrays with ``.iloc()`` so we will not cover it here."
   ]
  },
  {
   "cell_type": "markdown",
   "id": "14e7afe4",
   "metadata": {},
   "source": [
    "## ``.filter()``\n",
    "\n",
    "The ``.filter()`` attribute comes in handy if we want to subset based on index or column names (i.e. if we want entire rows or entire columns). In particular, its ``like`` parameter allows us to specify that we want all rows/columns that contain a particular piece of text in their label.\n",
    "\n",
    "Syntax:\n",
    "```python\n",
    "DataFrame.filter(items=None, like=None, regex=None, axis=None)\n",
    "```\n",
    "\n",
    "For example:"
   ]
  },
  {
   "cell_type": "code",
   "execution_count": null,
   "id": "1c861819",
   "metadata": {},
   "outputs": [],
   "source": []
  },
  {
   "cell_type": "code",
   "execution_count": null,
   "id": "e494a23e",
   "metadata": {},
   "outputs": [],
   "source": []
  },
  {
   "cell_type": "code",
   "execution_count": null,
   "id": "8cbb4a96",
   "metadata": {},
   "outputs": [],
   "source": []
  },
  {
   "cell_type": "markdown",
   "id": "84e1c7d5",
   "metadata": {},
   "source": [
    "## Copies vs \"views\""
   ]
  },
  {
   "cell_type": "markdown",
   "id": "096197a7",
   "metadata": {},
   "source": [
    "Let's make a copy of ``df`` that we can safely change for this section:"
   ]
  },
  {
   "cell_type": "code",
   "execution_count": null,
   "id": "0302c6af",
   "metadata": {},
   "outputs": [],
   "source": []
  },
  {
   "cell_type": "markdown",
   "id": "716593ec",
   "metadata": {},
   "source": [
    "Many times, we want to store a subset of a dataframe inside a new dataframe. For example:"
   ]
  },
  {
   "cell_type": "code",
   "execution_count": null,
   "id": "435b145b",
   "metadata": {},
   "outputs": [],
   "source": []
  },
  {
   "cell_type": "markdown",
   "id": "b96d4ce3",
   "metadata": {},
   "source": [
    "Now suppose we have to make a change to the parent dataframe ``newdf``. For example:"
   ]
  },
  {
   "cell_type": "code",
   "execution_count": null,
   "id": "7c2b5173",
   "metadata": {},
   "outputs": [],
   "source": []
  },
  {
   "cell_type": "markdown",
   "id": "11dce0cd",
   "metadata": {},
   "source": [
    "This change will be passed to ``sub``, even tough we never made this change explicitly ourselves:"
   ]
  },
  {
   "cell_type": "code",
   "execution_count": null,
   "id": "e6bf34d7",
   "metadata": {},
   "outputs": [],
   "source": []
  },
  {
   "cell_type": "markdown",
   "id": "8633582d",
   "metadata": {},
   "source": [
    "This happened because, when we created ``sub`` with the command ``sub = newdf.loc[:,'price']``, Pyhton did not actually create an entirely new dataframe. Instead, it just returned something like an address of where in ``newdf`` the ``price`` data can be found. This is called a **view** of the data. \n",
    "\n",
    "This is done to preserve memory and speed up the code, but, like we saw above, it can cause some of our dataframes to change when we edit other dataframes. \n",
    "\n",
    "To avoid this possible problem, I recommend always telling Python to create a copy of the subset of data you want, using the ``.copy()`` attribute. In our example above, ``sub`` should have been created like this: "
   ]
  },
  {
   "cell_type": "code",
   "execution_count": null,
   "id": "c6210b6e",
   "metadata": {},
   "outputs": [],
   "source": []
  },
  {
   "cell_type": "markdown",
   "id": "ddcd1d34",
   "metadata": {},
   "source": [
    "Now, changes to ``newdf``, like this:"
   ]
  },
  {
   "cell_type": "code",
   "execution_count": null,
   "id": "f2ce65d8",
   "metadata": {},
   "outputs": [],
   "source": []
  },
  {
   "cell_type": "markdown",
   "id": "ceff9423",
   "metadata": {},
   "source": [
    "Will not cause ``sub`` to change:"
   ]
  },
  {
   "cell_type": "code",
   "execution_count": null,
   "id": "75277b26",
   "metadata": {},
   "outputs": [],
   "source": []
  },
  {
   "cell_type": "markdown",
   "id": "615b2c36",
   "metadata": {},
   "source": [
    "# Filtering on a MultiIndex"
   ]
  },
  {
   "cell_type": "markdown",
   "id": "52070671",
   "metadata": {},
   "source": [
    "So far, all the dataframes we've seen have had a one-dimensional index (a single column). Dataframes can have a higher-dimensional index, and when they do, Pandas calls that index a MultiIndex (for a more thorough tutorial on MultiIndex, see https://pandas.pydata.org/pandas-docs/stable/user_guide/advanced.html)\n",
    "\n",
    "Let's create an example dataframe with a MultiIndex. Below, we create the MultiIndex using the ``pd.MultiIndex.from_product()`` function, but there are several other ways of creating one (see the link above)."
   ]
  },
  {
   "cell_type": "code",
   "execution_count": null,
   "id": "c1349e37",
   "metadata": {},
   "outputs": [],
   "source": [
    "m = pd.DataFrame(data = np.random.rand(9,3), \n",
    "                 columns = list('ABC'),\n",
    "                 index = pd.MultiIndex.from_product([['AAPL','TSLA','MSFT'], [2007,2008,2009]],\n",
    "                                                    names = ['ticker','year']\n",
    "                                                   )\n",
    "                )\n",
    "m"
   ]
  },
  {
   "cell_type": "markdown",
   "id": "d837e9c4",
   "metadata": {},
   "source": [
    "Now, the index has two columns instead of one:"
   ]
  },
  {
   "cell_type": "code",
   "execution_count": null,
   "id": "f76aab7d",
   "metadata": {},
   "outputs": [],
   "source": []
  },
  {
   "cell_type": "markdown",
   "id": "a40b1cba",
   "metadata": {},
   "source": [
    "Each entry (row) in the index is a tuple (note the parentheses):"
   ]
  },
  {
   "cell_type": "code",
   "execution_count": null,
   "id": "18992ee9",
   "metadata": {},
   "outputs": [],
   "source": []
  },
  {
   "cell_type": "markdown",
   "id": "551426f4",
   "metadata": {},
   "source": [
    "This means that, if we want to use index labels with ``.loc`` to extract some subset of a dataframe, we need to use a tuple when we specify those index labels: "
   ]
  },
  {
   "cell_type": "code",
   "execution_count": null,
   "id": "69257f78",
   "metadata": {},
   "outputs": [],
   "source": []
  },
  {
   "cell_type": "markdown",
   "id": "f5a5d6de",
   "metadata": {},
   "source": [
    "We can use slices on each dimension of the index, though you should make sure that you sorted your data by the values in the index first (using the ``sort_index()`` function (more on this function later):"
   ]
  },
  {
   "cell_type": "code",
   "execution_count": null,
   "id": "c39646df",
   "metadata": {},
   "outputs": [],
   "source": []
  },
  {
   "cell_type": "markdown",
   "id": "7d1f51ee",
   "metadata": {},
   "source": [
    "I recommend using the ``slice()`` function to slice on each dimension of the index. Below, ``slice(None)`` means no condition should be imposed on that dimension of the index:"
   ]
  },
  {
   "cell_type": "code",
   "execution_count": null,
   "id": "e3d8d017",
   "metadata": {},
   "outputs": [],
   "source": []
  },
  {
   "cell_type": "code",
   "execution_count": null,
   "id": "1d45004d",
   "metadata": {},
   "outputs": [],
   "source": []
  },
  {
   "cell_type": "code",
   "execution_count": null,
   "id": "658fca08",
   "metadata": {},
   "outputs": [],
   "source": []
  },
  {
   "cell_type": "markdown",
   "id": "e143ed87",
   "metadata": {},
   "source": [
    "Though indexing on the first dimension of the index is a lot easier:"
   ]
  },
  {
   "cell_type": "code",
   "execution_count": null,
   "id": "d41b0a08",
   "metadata": {},
   "outputs": [],
   "source": []
  },
  {
   "cell_type": "markdown",
   "id": "b1dbf9d7",
   "metadata": {},
   "source": [
    "However, the convenient syntax above does not work for the other dimensions of the index (e.g. ``m.loc[2008:2010]`` will not work)."
   ]
  }
 ],
 "metadata": {
  "kernelspec": {
   "display_name": "Python 3 (ipykernel)",
   "language": "python",
   "name": "python3"
  },
  "language_info": {
   "codemirror_mode": {
    "name": "ipython",
    "version": 3
   },
   "file_extension": ".py",
   "mimetype": "text/x-python",
   "name": "python",
   "nbconvert_exporter": "python",
   "pygments_lexer": "ipython3",
   "version": "3.8.5"
  },
  "toc": {
   "base_numbering": 1,
   "nav_menu": {},
   "number_sections": true,
   "sideBar": true,
   "skip_h1_title": false,
   "title_cell": "Table of Contents",
   "title_sidebar": "Contents",
   "toc_cell": true,
   "toc_position": {},
   "toc_section_display": true,
   "toc_window_display": false
  }
 },
 "nbformat": 4,
 "nbformat_minor": 5
}
