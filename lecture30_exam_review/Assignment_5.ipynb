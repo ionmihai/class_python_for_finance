{
 "cells": [
  {
   "cell_type": "code",
   "execution_count": 1,
   "metadata": {},
   "outputs": [],
   "source": [
    "import pandas as pd\n",
    "import numpy as np\n",
    "import pandas_datareader as pdr\n",
    "import statsmodels.api as sm"
   ]
  },
  {
   "cell_type": "markdown",
   "metadata": {},
   "source": [
    "## Problem 1 (100 points)\n",
    "\n",
    "In this assignment, you will backtest the \"momentum\" strategy which involves going long on stocks with the highest returns in the past 12 months and shorting the stocks with the lowest returns in the past 12 months, and rebalancing these portfolios every month. Please follow the steps below to implement this backtest:\n",
    "\n",
    "- **Data** (10 x 2 = 20 points)\n",
    "    1. Load the \"crspm.zip\" file into a dataframe called ``crsp``. Create a new variable called ``mdate`` which converts the ``date`` variable into a monthly period date. Calculate market capitalization (``mktcap``) as number of shares outstanding (``shrout``) times the absolute value of price (``prc``). Create a new variable ``mktcap_lag1`` that, for each firm, each month, equals the market capitalization (``mktcap``) of that firm in the previous month (assume no duplicates or gaps in the data, i.e. use the ``shift()`` method for lagging). Keep only ``permno``, ``mdate``, ``ret``, ``mktcap_lag1``, and drop all rows that have any missing values in any of those variables. Print the first five and last five rows of the resulting dataset.\n",
    "    2. Create a new variable called ``ret11`` which, for each firm, each month, equals the **net** compounded returns of the firm in the past 12 months, excluding the current month (e.g. for December 2010, ``ret11`` equals the compounded returns from Jan 2010 to Nov 2010). Print a table that gives us the mean and standard deviation of ``ret`` and ``ret11``.\n",
    "    \n",
    "- **Momentum portfolios** (10 x 4 = 40 points)\n",
    "\n",
    "    3. Drop all rows for which ``ret11`` is missing. Then, create a variable called ``ret11_decile`` which, every month, tells us how each firm ranks (which decile) amongst all other firms with respect to their past 11-month returns (``ret11``). Firms in decile 1 will form portfolio 1, firms in decile 2 for portfolio 2, etc. Print out a table that tells us how many observations you have for each decile in your dataset. \n",
    "    4. These portfolios are held for one month, and then they are re-created again (rebalanced) based on the new values of ``ret11`` for the current month. For this reason, the return of a portfolio (decile) in a given month is based on which firms were in that decile in the *previous* month. To help with this (for steps 5 and 6 below), create a new variable called ``portf_nr`` which equals the ``ret11_decile`` that the firm was in the previous month. Print out a table that tells us how many observations you have for each ``portf_nr`` in your dataset. \n",
    "    5. Calculate the monthly equal-weighted (EW) returns of each of the 10 portfolios. Calculate the EW returns to the momentum strategy by subtracting returns of portfolio 1 from the returns of portfolio 10. This will be referred to as the \"spread portfolio\" below. Store these returns in a new dataframe called ``ew_ret`` and print the first 5 and last 5 rows of this dataframe.\n",
    "    6. Repeat step 5 using value-weighted (VW) returns. Use ``mktcap_lag1`` (i.e. the market capitalization at the end of the prior month) as weights.  Store these returns in a new dataframe called ``vw_ret`` and print the first 5 and last 5 rows of this dataframe.  \n",
    "    \n",
    "- **Analysis** (10 x 4 = 40 points)\n",
    "\n",
    "    7. Calculate and print the average EW returns for the 10 momentum portfolios as well as the spread portfolio.\n",
    "        - This should be a 11-by-1 table containing the EW averages\n",
    "    8. Calculate and print the average VW returns for the 10 momentum portfolios as well as the spread portfolio.\n",
    "        - This should be a 11-by-1 table containing the VW averages\n",
    "    9. Calculate and print risk-adjusted average EW returns (with respect to the Fama-French three-factor model) and their t-statistics for the 10 momentum portfolios as well as the spread portfolio\n",
    "        - This should be an 11-by-2 table\n",
    "        - The numbers in this table are \"alpha\" coefficients from regressing each portfolio's EW returns on the Fama-French three factors (in the first column) and the tstats of these coefficients (in the second column). Use HAC standard errors with maxlag = 4.\n",
    "    10. Calculate and print risk-adjusted average VW returns (with respect to the Fama-French three-factor model) and their t-statistics for the 10 momentum portfolios as well as the spread portfolio\n",
    "        - This should be an 11-by-2 table\n",
    "        - The numbers in this table are \"alpha\" coefficients from regressing each portfolio's VW returns on the Fama-French three factors (in the first column) and the tstats of these coefficients (in the second column). Use HAC standard errors with maxlag = 4."
   ]
  },
  {
   "cell_type": "code",
   "execution_count": null,
   "metadata": {},
   "outputs": [],
   "source": [
    "#1"
   ]
  },
  {
   "cell_type": "code",
   "execution_count": null,
   "metadata": {},
   "outputs": [],
   "source": [
    "#2"
   ]
  },
  {
   "cell_type": "code",
   "execution_count": null,
   "metadata": {},
   "outputs": [],
   "source": [
    "#3"
   ]
  },
  {
   "cell_type": "code",
   "execution_count": null,
   "metadata": {},
   "outputs": [],
   "source": [
    "#4"
   ]
  },
  {
   "cell_type": "code",
   "execution_count": null,
   "metadata": {},
   "outputs": [],
   "source": [
    "#5"
   ]
  },
  {
   "cell_type": "code",
   "execution_count": null,
   "metadata": {},
   "outputs": [],
   "source": [
    "#6"
   ]
  },
  {
   "cell_type": "code",
   "execution_count": null,
   "metadata": {},
   "outputs": [],
   "source": [
    "#7"
   ]
  },
  {
   "cell_type": "code",
   "execution_count": null,
   "metadata": {},
   "outputs": [],
   "source": [
    "#8"
   ]
  },
  {
   "cell_type": "code",
   "execution_count": null,
   "metadata": {},
   "outputs": [],
   "source": [
    "#9"
   ]
  },
  {
   "cell_type": "code",
   "execution_count": null,
   "metadata": {},
   "outputs": [],
   "source": [
    "#10"
   ]
  }
 ],
 "metadata": {
  "kernelspec": {
   "display_name": "Python 3 (ipykernel)",
   "language": "python",
   "name": "python3"
  },
  "language_info": {
   "codemirror_mode": {
    "name": "ipython",
    "version": 3
   },
   "file_extension": ".py",
   "mimetype": "text/x-python",
   "name": "python",
   "nbconvert_exporter": "python",
   "pygments_lexer": "ipython3",
   "version": "3.8.5"
  },
  "toc": {
   "base_numbering": 1,
   "nav_menu": {},
   "number_sections": true,
   "sideBar": true,
   "skip_h1_title": false,
   "title_cell": "Table of Contents",
   "title_sidebar": "Contents",
   "toc_cell": false,
   "toc_position": {},
   "toc_section_display": true,
   "toc_window_display": false
  }
 },
 "nbformat": 4,
 "nbformat_minor": 4
}
