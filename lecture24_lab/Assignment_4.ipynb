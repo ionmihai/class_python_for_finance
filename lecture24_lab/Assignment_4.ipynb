{
 "cells": [
  {
   "cell_type": "markdown",
   "metadata": {},
   "source": [
    "Run the cell below:"
   ]
  },
  {
   "cell_type": "code",
   "execution_count": null,
   "metadata": {},
   "outputs": [],
   "source": [
    "import pandas as pd\n",
    "import numpy as np\n",
    "import yfinance as yf\n",
    "import pandas_datareader as pdr\n",
    "import statsmodels.api as sm\n",
    "import statsmodels.tsa.stattools as st\n",
    "from linearmodels import PanelOLS"
   ]
  },
  {
   "cell_type": "markdown",
   "metadata": {},
   "source": [
    "## Problem 1 \n",
    "### (10 x 2 = 20 points)\n",
    "\n",
    "The Fama-French five-factor model adds two new factors to the three-factor model: the RMW (robust minus weak) profitability factor and the CMA (conservative minus aggressive) investment factor. \n",
    "\n",
    "1. Download monthly returns from 1970 to 2020 (inclusive) for the Fama-French five factor model. This is the ``F-F_Research_Data_5_Factors_2x3`` file in the ``famafrench`` database (the first table in the dictionary returned by pandas_datareader gives you the monthly returns). Call this dataframe ``ff5f``. Divide all returns in this dataset by 100. Print the first 5 and last 5 rows in this dataframe.\n",
    "2. Download monthly adjusted-close prices on AAPL from Yahoo Finance, from 2010 to 2020 (inclusive). Use these prices to calculate monthly returns. Call the returns dataframe ``aapl_ret``. Print the first 5 and last 5 rows in this dataframe.\n",
    "3. Merge the ``ff5`` and ``aapl_ret`` dataframes using an inner join on date. Call this merged dataframe ``data``. Add a variable in this dataframe called ``const`` which equals 1 everywhere. Print the first 5 and last 5 rows of ``data``.\n",
    "4. Regress monthly AAPL excess returns from 2010 to 2020 (inclusive) on the Fama-French five factors (Mkt-RF, SMB, HML, RMW, and CMA) and a constant. Print the regression table.\n",
    "\n",
    "Use the print function to provide answers to the following questions (i.e. your answer should be the argument to the print function). All these answers should be based on the results obtained from the regression above.\n",
    "\n",
    "5. Is AAPL mispriced with respect to the five-factor model at the 5% significance level? If so, is it overpriced or underpriced? How did you reach your conclusion?\n",
    "6. Does AAPL have a significant exposure (at the 5% level) to either of the five factors? If so, which ones? How did you reach your conclusion?\n",
    "7. Using the five-factor model, what percentage of AAPL total risk is systematic?\n",
    "8. Using the five-factor model, what excess return do we expect AAPL to have if the returns on the market, SMB, HML, RMW, and CMA factors are 0.5% (i.e. 0.005), 0.2%, 0.3%, 0.6% and -0.1% respectively?\n",
    "9. Use data from 1970 to 2020 to estimate the risk premia (expected excess returns) on the five factors. Print these out.\n",
    "10. Using the estimated risk premia from point 9 above, calculate the risk premium on AAPL stock assuming the true alpha of AAPL is 0. "
   ]
  },
  {
   "cell_type": "code",
   "execution_count": null,
   "metadata": {},
   "outputs": [],
   "source": [
    "# 1"
   ]
  },
  {
   "cell_type": "code",
   "execution_count": null,
   "metadata": {},
   "outputs": [],
   "source": [
    "# 2"
   ]
  },
  {
   "cell_type": "code",
   "execution_count": null,
   "metadata": {},
   "outputs": [],
   "source": [
    "# 3"
   ]
  },
  {
   "cell_type": "code",
   "execution_count": null,
   "metadata": {},
   "outputs": [],
   "source": [
    "# 4"
   ]
  },
  {
   "cell_type": "code",
   "execution_count": null,
   "metadata": {},
   "outputs": [],
   "source": [
    "# 5"
   ]
  },
  {
   "cell_type": "code",
   "execution_count": null,
   "metadata": {},
   "outputs": [],
   "source": [
    "# 6"
   ]
  },
  {
   "cell_type": "code",
   "execution_count": null,
   "metadata": {},
   "outputs": [],
   "source": [
    "# 7"
   ]
  },
  {
   "cell_type": "code",
   "execution_count": null,
   "metadata": {},
   "outputs": [],
   "source": [
    "# 8"
   ]
  },
  {
   "cell_type": "code",
   "execution_count": null,
   "metadata": {},
   "outputs": [],
   "source": [
    "# 9"
   ]
  },
  {
   "cell_type": "code",
   "execution_count": null,
   "metadata": {},
   "outputs": [],
   "source": [
    "# 10"
   ]
  },
  {
   "cell_type": "markdown",
   "metadata": {},
   "source": [
    "## Problem 2 \n",
    "### (5 x 8 = 40 points)\n",
    "\n",
    "For this problem, you will be testing if returns are predictable at the annual level.\n",
    "\n",
    "Data:\n",
    "1. Load the CRSP dataset from the \"crspm.zip\" file and keep only the \"permno\", \"date\", and \"ret\" variables. Drop all rows with any missing values. Call the resulting dataframe \"crsp\" and print its first two rows.\n",
    "    1. In \"crsp\", create a new variable \"year\" that extracts the year from the \"date\" variable (as an integer, not a period date). Print a table that shows only the min and max of the \"year\" variable.\n",
    "    2. Calculate annual compounded returns for each firm, each year, and store those in a separate dataframe called \"crsp_an\". Print the first 5 rows of \"crsp_an\".\n",
    "    \n",
    "2. Load the Compustat dataset from the \"compa.zip\" file and keep only the \"permno\", \"datadate\", \"sich\" (industry identifier) and \"at\" (total assets) variables. Drop all rows with any missing values in this new dataframe. Keep only rows with strictly positive total assets (\"at\"). Call the resulting dataframe \"comp\".\n",
    "    1. In \"comp\", create a new variable \"year\" that extracts the year from the \"datadate\" variable (as an integer, not a period date). Print a table that shows only the min and max of the \"year\" variable.\n",
    "    2. In \"comp\", create a new variable \"ag\" as the annual percentage growth in total assets. Winsorize it at the 1 and 99 percentiles and call this variable \"ag_w\". Print a table that shows the mean and standard deviation of \"ag\" and \"ag_w\".\n",
    "    3. In \"comp\", create a new variable \"sic3\" that contains the first three digits of the \"sich\" variable\n",
    "    \n",
    "3. Merge the resulting \"comp\" dataframe with the \"crsp_an\" dataframe based on \"permno\" and \"year\". Call the merged dataset \"data\" and print out its shape.\n",
    "    1. Create a new variable called \"future_ret\" that, for every firm, every year, stores the annual returns of that firm in the following year. Print the first 5 rows of this dataframe.\n",
    "    2. Set the index of \"data\" to be (\"permno\", \"year\"). Keep only then \"future_ret\", \"ag_w\", and \"sic3\" variables. Create a new variable called \"const\" that equals 1 everywhere. Print out the first 2 rows of this dataset.\n",
    "\n",
    "Analysis:\n",
    "\n",
    "4. Regress \"future_ret\", on current winsorized asset growth (\"ag_w\") and a constant. This should be simple OLS, with no adjustments for fixed effects or corrections to standard errors. Print your results (the regression table)\n",
    "    1. Use the print function to answer the following question: \"Based on these regression results, does current asset growth have statistically significant explanatory power over future returns? How did you reach that conclusion?\"\n",
    "    \n",
    "5. Run the same regression as above, only this time add time fixed effects and industry (\"sic3\") fixed effects, and cluster your standard errors at the firm and year level (ignore the warnings produced in this step, they are harmless). Print your results (the regression table)\n",
    "    1. Use the print function to answer the following question: \"Based on these regression results, does current asset growth have statistically significant explanatory power over future returns? How did you reach that conclusion?\""
   ]
  },
  {
   "cell_type": "code",
   "execution_count": null,
   "metadata": {},
   "outputs": [],
   "source": [
    "# 1"
   ]
  },
  {
   "cell_type": "code",
   "execution_count": null,
   "metadata": {},
   "outputs": [],
   "source": [
    "# 1.A"
   ]
  },
  {
   "cell_type": "code",
   "execution_count": null,
   "metadata": {},
   "outputs": [],
   "source": [
    "# 1.B"
   ]
  },
  {
   "cell_type": "code",
   "execution_count": null,
   "metadata": {},
   "outputs": [],
   "source": [
    "# 2"
   ]
  },
  {
   "cell_type": "code",
   "execution_count": null,
   "metadata": {},
   "outputs": [],
   "source": [
    "# 2.A"
   ]
  },
  {
   "cell_type": "code",
   "execution_count": null,
   "metadata": {},
   "outputs": [],
   "source": [
    "# 2.B"
   ]
  },
  {
   "cell_type": "code",
   "execution_count": null,
   "metadata": {},
   "outputs": [],
   "source": [
    "# 2.C"
   ]
  },
  {
   "cell_type": "code",
   "execution_count": null,
   "metadata": {},
   "outputs": [],
   "source": [
    "# 3"
   ]
  },
  {
   "cell_type": "code",
   "execution_count": null,
   "metadata": {},
   "outputs": [],
   "source": [
    "# 3.A"
   ]
  },
  {
   "cell_type": "code",
   "execution_count": null,
   "metadata": {},
   "outputs": [],
   "source": [
    "# 3.B"
   ]
  },
  {
   "cell_type": "code",
   "execution_count": null,
   "metadata": {},
   "outputs": [],
   "source": [
    "# 4"
   ]
  },
  {
   "cell_type": "code",
   "execution_count": null,
   "metadata": {},
   "outputs": [],
   "source": [
    "# 4.A"
   ]
  },
  {
   "cell_type": "code",
   "execution_count": null,
   "metadata": {},
   "outputs": [],
   "source": [
    "# 5"
   ]
  },
  {
   "cell_type": "code",
   "execution_count": null,
   "metadata": {},
   "outputs": [],
   "source": [
    "# 5.A"
   ]
  },
  {
   "cell_type": "markdown",
   "metadata": {},
   "source": [
    "## Problem 3 \n",
    "### (10 x 4 = 40 points)\n",
    "\n",
    "For this problem we will analyze the effect of tresury yields on future unemployment rates.\n",
    "\n",
    "1. Download data on monthly yields on ten-year treasury bonds (``GS10``) and the unemployment rate (``UNRATE``) from the St Louis Fred from 1960 to 2020 (inclusive). Rename ``GS10`` to ``10yrate`` and ``UNRATE`` to ``unemployment``. Plot these two variables on the same plot.\n",
    "2. Create a variable called ``future_unemployment`` which gives us the unemployment rate from 12 months into the future. Create a variable called ``const`` which equals 1 everywhere. Print the first 5 and last 5 rows of this new version of your dataset.\n",
    "3. Print the correlation between ``future_unemployment`` and ``10yrate``, as well as the 12-month autocorrelations of ```future_unemployment`` and ``10yrate``.\n",
    "4. Regress ``future_unemployment`` on ``10yrate`` and a constant (simple regression with no corrections). Print the regression table.\n",
    "5. Run the same regression as in point 4 above, but this time use an HAC covariance estimator with maximum 5 lags. Print the regression table.\n",
    "6. Use an augmented Dickey-Fuller test to test if you can reject the null hypotheses that ``future_employment`` and ``10yrate`` are non-stationary at the 99\\% confidence level.\n",
    "7. Create a new variable called ``unemployment_change`` which equals ``future_unemployment`` minus its value from 12 months prior (i.e. the 12-month difference in ``future_unemployment``). Create a new variable called ``10yrate_change`` which equals ``10yrate`` minus its value from 12 months prior. Plot these variables on the same graph.\n",
    "8. Use an augmented Dickey-Fuller test to test if you can reject the null hypotheses that ``unemployment_change`` and ``10yrate_change`` are non-stationary at the 99\\% confidence level.\n",
    "9. Regress ``unemployment_change`` on ``10y_rate`` and a constant. Use an HAC covariance estimator with maximum 5 lags. Print the regression table.\n",
    "10. Based on the tests you performed above, do you conclude that treasury yields are a statistically significant predictor of future unemployment at the 99\\% confidence level?"
   ]
  },
  {
   "cell_type": "code",
   "execution_count": null,
   "metadata": {},
   "outputs": [],
   "source": [
    "# 1"
   ]
  },
  {
   "cell_type": "code",
   "execution_count": null,
   "metadata": {},
   "outputs": [],
   "source": [
    "# 2"
   ]
  },
  {
   "cell_type": "code",
   "execution_count": null,
   "metadata": {},
   "outputs": [],
   "source": [
    "# 3"
   ]
  },
  {
   "cell_type": "code",
   "execution_count": null,
   "metadata": {},
   "outputs": [],
   "source": [
    "# 4"
   ]
  },
  {
   "cell_type": "code",
   "execution_count": null,
   "metadata": {},
   "outputs": [],
   "source": [
    "# 5"
   ]
  },
  {
   "cell_type": "code",
   "execution_count": null,
   "metadata": {},
   "outputs": [],
   "source": [
    "# 6"
   ]
  },
  {
   "cell_type": "code",
   "execution_count": null,
   "metadata": {},
   "outputs": [],
   "source": []
  },
  {
   "cell_type": "code",
   "execution_count": null,
   "metadata": {},
   "outputs": [],
   "source": [
    "# 7"
   ]
  },
  {
   "cell_type": "code",
   "execution_count": null,
   "metadata": {},
   "outputs": [],
   "source": [
    "# 8"
   ]
  },
  {
   "cell_type": "code",
   "execution_count": null,
   "metadata": {},
   "outputs": [],
   "source": []
  },
  {
   "cell_type": "code",
   "execution_count": null,
   "metadata": {},
   "outputs": [],
   "source": [
    "# 9"
   ]
  },
  {
   "cell_type": "code",
   "execution_count": null,
   "metadata": {},
   "outputs": [],
   "source": [
    "# 10"
   ]
  }
 ],
 "metadata": {
  "kernelspec": {
   "display_name": "Python 3 (ipykernel)",
   "language": "python",
   "name": "python3"
  },
  "language_info": {
   "codemirror_mode": {
    "name": "ipython",
    "version": 3
   },
   "file_extension": ".py",
   "mimetype": "text/x-python",
   "name": "python",
   "nbconvert_exporter": "python",
   "pygments_lexer": "ipython3",
   "version": "3.8.5"
  },
  "toc": {
   "base_numbering": 1,
   "nav_menu": {},
   "number_sections": false,
   "sideBar": true,
   "skip_h1_title": false,
   "title_cell": "Table of Contents",
   "title_sidebar": "Contents",
   "toc_cell": false,
   "toc_position": {},
   "toc_section_display": true,
   "toc_window_display": false
  }
 },
 "nbformat": 4,
 "nbformat_minor": 4
}
