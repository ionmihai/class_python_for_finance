{
 "cells": [
  {
   "cell_type": "markdown",
   "metadata": {},
   "source": [
    "Run the cell below:"
   ]
  },
  {
   "cell_type": "code",
   "execution_count": 1,
   "metadata": {},
   "outputs": [],
   "source": [
    "import pandas as pd\n",
    "import numpy as np\n",
    "import yfinance as yf\n",
    "import pandas_datareader as pdr\n",
    "import statsmodels.api as sm\n",
    "import statsmodels.tsa.stattools as st\n",
    "from linearmodels import PanelOLS"
   ]
  },
  {
   "cell_type": "markdown",
   "metadata": {},
   "source": [
    "## Problem 1 \n",
    "### (10 x 2 = 20 points)\n",
    "\n",
    "The Fama-French five-factor model adds two new factors to the three-factor model: the RMW (robust minus weak) profitability factor and the CMA (conservative minus aggressive) investment factor. \n",
    "\n",
    "1. Download monthly returns from 1970 to 2020 (inclusive) for the Fama-French five factor model. This is the ``F-F_Research_Data_5_Factors_2x3`` file in the ``famafrench`` database (the first table in the dictionary returned by pandas_datareader gives you the monthly returns). Call this dataframe ``ff5f``. Divide all returns in this dataset by 100. Print the first 5 and last 5 rows in this dataframe.\n",
    "2. Download monthly adjusted-close prices on AAPL from Yahoo Finance, from 2010 to 2020 (inclusive). Use these prices to calculate monthly returns. Call the returns dataframe ``aapl_ret``. Print the first 5 and last 5 rows in this dataframe.\n",
    "3. Merge the ``ff5`` and ``aapl_ret`` dataframes using an inner join on date. Call this merged dataframe ``data``. Add a variable in this dataframe called ``const`` which equals 1 everywhere. Print the first 5 and last 5 rows of ``data``.\n",
    "4. Regress monthly AAPL excess returns from 2010 to 2020 (inclusive) on the Fama-French five factors (Mkt-RF, SMB, HML, RMW, and CMA) and a constant. Print the regression table.\n",
    "\n",
    "Use the print function to provide answers to the following questions (i.e. your answer should be the argument to the print function). All these answers should be based on the results obtained from the regression above.\n",
    "\n",
    "5. Is AAPL mispriced with respect to the five-factor model at the 5% significance level? If so, is it overpriced or underpriced? How did you reach your conclusion?\n",
    "6. Does AAPL have a significant exposure (at the 5% level) to either of the five factors? If so, which ones? How did you reach your conclusion?\n",
    "7. Using the five-factor model, what percentage of AAPL total risk is systematic?\n",
    "8. Using the five-factor model, what excess return do we expect AAPL to have if the returns on the market, SMB, HML, RMW, and CMA factors are 0.5% (i.e. 0.005), 0.2%, 0.3%, 0.6% and -0.1% respectively?\n",
    "9. Use data from 1970 to 2020 to estimate the risk premia (expected excess returns) on the five factors. Print these out.\n",
    "10. Using the estimated risk premia from point 9 above, calculate the risk premium on AAPL stock assuming the true alpha of AAPL is 0. "
   ]
  },
  {
   "cell_type": "code",
   "execution_count": 2,
   "metadata": {},
   "outputs": [
    {
     "name": "stdout",
     "output_type": "stream",
     "text": [
      "Output for part 1:\n"
     ]
    },
    {
     "data": {
      "text/html": [
       "<div>\n",
       "<style scoped>\n",
       "    .dataframe tbody tr th:only-of-type {\n",
       "        vertical-align: middle;\n",
       "    }\n",
       "\n",
       "    .dataframe tbody tr th {\n",
       "        vertical-align: top;\n",
       "    }\n",
       "\n",
       "    .dataframe thead th {\n",
       "        text-align: right;\n",
       "    }\n",
       "</style>\n",
       "<table border=\"1\" class=\"dataframe\">\n",
       "  <thead>\n",
       "    <tr style=\"text-align: right;\">\n",
       "      <th></th>\n",
       "      <th>Mkt-RF</th>\n",
       "      <th>SMB</th>\n",
       "      <th>HML</th>\n",
       "      <th>RMW</th>\n",
       "      <th>CMA</th>\n",
       "      <th>RF</th>\n",
       "    </tr>\n",
       "    <tr>\n",
       "      <th>Date</th>\n",
       "      <th></th>\n",
       "      <th></th>\n",
       "      <th></th>\n",
       "      <th></th>\n",
       "      <th></th>\n",
       "      <th></th>\n",
       "    </tr>\n",
       "  </thead>\n",
       "  <tbody>\n",
       "    <tr>\n",
       "      <th>1970-01</th>\n",
       "      <td>-0.0810</td>\n",
       "      <td>0.0313</td>\n",
       "      <td>0.0312</td>\n",
       "      <td>-0.0171</td>\n",
       "      <td>0.0385</td>\n",
       "      <td>0.0060</td>\n",
       "    </tr>\n",
       "    <tr>\n",
       "      <th>1970-02</th>\n",
       "      <td>0.0513</td>\n",
       "      <td>-0.0274</td>\n",
       "      <td>0.0393</td>\n",
       "      <td>-0.0232</td>\n",
       "      <td>0.0274</td>\n",
       "      <td>0.0062</td>\n",
       "    </tr>\n",
       "    <tr>\n",
       "      <th>1970-03</th>\n",
       "      <td>-0.0106</td>\n",
       "      <td>-0.0240</td>\n",
       "      <td>0.0399</td>\n",
       "      <td>-0.0101</td>\n",
       "      <td>0.0432</td>\n",
       "      <td>0.0057</td>\n",
       "    </tr>\n",
       "    <tr>\n",
       "      <th>1970-04</th>\n",
       "      <td>-0.1100</td>\n",
       "      <td>-0.0637</td>\n",
       "      <td>0.0617</td>\n",
       "      <td>-0.0069</td>\n",
       "      <td>0.0626</td>\n",
       "      <td>0.0050</td>\n",
       "    </tr>\n",
       "    <tr>\n",
       "      <th>1970-05</th>\n",
       "      <td>-0.0692</td>\n",
       "      <td>-0.0445</td>\n",
       "      <td>0.0332</td>\n",
       "      <td>-0.0125</td>\n",
       "      <td>0.0392</td>\n",
       "      <td>0.0053</td>\n",
       "    </tr>\n",
       "    <tr>\n",
       "      <th>...</th>\n",
       "      <td>...</td>\n",
       "      <td>...</td>\n",
       "      <td>...</td>\n",
       "      <td>...</td>\n",
       "      <td>...</td>\n",
       "      <td>...</td>\n",
       "    </tr>\n",
       "    <tr>\n",
       "      <th>2020-08</th>\n",
       "      <td>0.0763</td>\n",
       "      <td>-0.0087</td>\n",
       "      <td>-0.0293</td>\n",
       "      <td>0.0427</td>\n",
       "      <td>-0.0130</td>\n",
       "      <td>0.0001</td>\n",
       "    </tr>\n",
       "    <tr>\n",
       "      <th>2020-09</th>\n",
       "      <td>-0.0363</td>\n",
       "      <td>-0.0007</td>\n",
       "      <td>-0.0266</td>\n",
       "      <td>-0.0129</td>\n",
       "      <td>-0.0177</td>\n",
       "      <td>0.0001</td>\n",
       "    </tr>\n",
       "    <tr>\n",
       "      <th>2020-10</th>\n",
       "      <td>-0.0210</td>\n",
       "      <td>0.0467</td>\n",
       "      <td>0.0419</td>\n",
       "      <td>-0.0093</td>\n",
       "      <td>-0.0073</td>\n",
       "      <td>0.0001</td>\n",
       "    </tr>\n",
       "    <tr>\n",
       "      <th>2020-11</th>\n",
       "      <td>0.1247</td>\n",
       "      <td>0.0706</td>\n",
       "      <td>0.0199</td>\n",
       "      <td>-0.0217</td>\n",
       "      <td>0.0132</td>\n",
       "      <td>0.0001</td>\n",
       "    </tr>\n",
       "    <tr>\n",
       "      <th>2020-12</th>\n",
       "      <td>0.0463</td>\n",
       "      <td>0.0475</td>\n",
       "      <td>-0.0156</td>\n",
       "      <td>-0.0191</td>\n",
       "      <td>-0.0015</td>\n",
       "      <td>0.0001</td>\n",
       "    </tr>\n",
       "  </tbody>\n",
       "</table>\n",
       "<p>612 rows × 6 columns</p>\n",
       "</div>"
      ],
      "text/plain": [
       "         Mkt-RF     SMB     HML     RMW     CMA      RF\n",
       "Date                                                   \n",
       "1970-01 -0.0810  0.0313  0.0312 -0.0171  0.0385  0.0060\n",
       "1970-02  0.0513 -0.0274  0.0393 -0.0232  0.0274  0.0062\n",
       "1970-03 -0.0106 -0.0240  0.0399 -0.0101  0.0432  0.0057\n",
       "1970-04 -0.1100 -0.0637  0.0617 -0.0069  0.0626  0.0050\n",
       "1970-05 -0.0692 -0.0445  0.0332 -0.0125  0.0392  0.0053\n",
       "...         ...     ...     ...     ...     ...     ...\n",
       "2020-08  0.0763 -0.0087 -0.0293  0.0427 -0.0130  0.0001\n",
       "2020-09 -0.0363 -0.0007 -0.0266 -0.0129 -0.0177  0.0001\n",
       "2020-10 -0.0210  0.0467  0.0419 -0.0093 -0.0073  0.0001\n",
       "2020-11  0.1247  0.0706  0.0199 -0.0217  0.0132  0.0001\n",
       "2020-12  0.0463  0.0475 -0.0156 -0.0191 -0.0015  0.0001\n",
       "\n",
       "[612 rows x 6 columns]"
      ]
     },
     "execution_count": 2,
     "metadata": {},
     "output_type": "execute_result"
    }
   ],
   "source": [
    "# 1\n",
    "print(\"Output for part 1:\")\n",
    "\n",
    "ff5f = pdr.DataReader('F-F_Research_Data_5_Factors_2x3', 'famafrench', '1970-01-01', '2020-12-31')[0]/100\n",
    "ff5f"
   ]
  },
  {
   "cell_type": "code",
   "execution_count": 3,
   "metadata": {},
   "outputs": [
    {
     "name": "stdout",
     "output_type": "stream",
     "text": [
      "Output for part 2:\n",
      "[*********************100%***********************]  1 of 1 completed\n"
     ]
    },
    {
     "data": {
      "text/html": [
       "<div>\n",
       "<style scoped>\n",
       "    .dataframe tbody tr th:only-of-type {\n",
       "        vertical-align: middle;\n",
       "    }\n",
       "\n",
       "    .dataframe tbody tr th {\n",
       "        vertical-align: top;\n",
       "    }\n",
       "\n",
       "    .dataframe thead th {\n",
       "        text-align: right;\n",
       "    }\n",
       "</style>\n",
       "<table border=\"1\" class=\"dataframe\">\n",
       "  <thead>\n",
       "    <tr style=\"text-align: right;\">\n",
       "      <th></th>\n",
       "      <th>AAPL</th>\n",
       "    </tr>\n",
       "    <tr>\n",
       "      <th>Date</th>\n",
       "      <th></th>\n",
       "    </tr>\n",
       "  </thead>\n",
       "  <tbody>\n",
       "    <tr>\n",
       "      <th>2010-02</th>\n",
       "      <td>0.065396</td>\n",
       "    </tr>\n",
       "    <tr>\n",
       "      <th>2010-03</th>\n",
       "      <td>0.148470</td>\n",
       "    </tr>\n",
       "    <tr>\n",
       "      <th>2010-04</th>\n",
       "      <td>0.111022</td>\n",
       "    </tr>\n",
       "    <tr>\n",
       "      <th>2010-05</th>\n",
       "      <td>-0.016125</td>\n",
       "    </tr>\n",
       "    <tr>\n",
       "      <th>2010-06</th>\n",
       "      <td>-0.020827</td>\n",
       "    </tr>\n",
       "    <tr>\n",
       "      <th>...</th>\n",
       "      <td>...</td>\n",
       "    </tr>\n",
       "    <tr>\n",
       "      <th>2020-08</th>\n",
       "      <td>0.214379</td>\n",
       "    </tr>\n",
       "    <tr>\n",
       "      <th>2020-09</th>\n",
       "      <td>-0.100908</td>\n",
       "    </tr>\n",
       "    <tr>\n",
       "      <th>2020-10</th>\n",
       "      <td>-0.060012</td>\n",
       "    </tr>\n",
       "    <tr>\n",
       "      <th>2020-11</th>\n",
       "      <td>0.093606</td>\n",
       "    </tr>\n",
       "    <tr>\n",
       "      <th>2020-12</th>\n",
       "      <td>0.116497</td>\n",
       "    </tr>\n",
       "  </tbody>\n",
       "</table>\n",
       "<p>131 rows × 1 columns</p>\n",
       "</div>"
      ],
      "text/plain": [
       "             AAPL\n",
       "Date             \n",
       "2010-02  0.065396\n",
       "2010-03  0.148470\n",
       "2010-04  0.111022\n",
       "2010-05 -0.016125\n",
       "2010-06 -0.020827\n",
       "...           ...\n",
       "2020-08  0.214379\n",
       "2020-09 -0.100908\n",
       "2020-10 -0.060012\n",
       "2020-11  0.093606\n",
       "2020-12  0.116497\n",
       "\n",
       "[131 rows x 1 columns]"
      ]
     },
     "execution_count": 3,
     "metadata": {},
     "output_type": "execute_result"
    }
   ],
   "source": [
    "# 2\n",
    "print(\"Output for part 2:\")\n",
    "\n",
    "aapl_raw = yf.download('AAPL','2010-01-01','2020-12-31',\n",
    "                       interval = '1mo')['Adj Close'].dropna()\n",
    "\n",
    "aapl_ret = aapl_raw.to_frame().pct_change().dropna()\n",
    "aapl_ret.rename(columns = {'Adj Close': 'AAPL'}, inplace = True)\n",
    "aapl_ret.index = aapl_ret.index.to_period('M')\n",
    "aapl_ret"
   ]
  },
  {
   "cell_type": "code",
   "execution_count": 4,
   "metadata": {},
   "outputs": [
    {
     "name": "stdout",
     "output_type": "stream",
     "text": [
      "Output for part 3:\n"
     ]
    },
    {
     "data": {
      "text/html": [
       "<div>\n",
       "<style scoped>\n",
       "    .dataframe tbody tr th:only-of-type {\n",
       "        vertical-align: middle;\n",
       "    }\n",
       "\n",
       "    .dataframe tbody tr th {\n",
       "        vertical-align: top;\n",
       "    }\n",
       "\n",
       "    .dataframe thead th {\n",
       "        text-align: right;\n",
       "    }\n",
       "</style>\n",
       "<table border=\"1\" class=\"dataframe\">\n",
       "  <thead>\n",
       "    <tr style=\"text-align: right;\">\n",
       "      <th></th>\n",
       "      <th>AAPL</th>\n",
       "      <th>Mkt-RF</th>\n",
       "      <th>SMB</th>\n",
       "      <th>HML</th>\n",
       "      <th>RMW</th>\n",
       "      <th>CMA</th>\n",
       "      <th>RF</th>\n",
       "      <th>const</th>\n",
       "    </tr>\n",
       "    <tr>\n",
       "      <th>Date</th>\n",
       "      <th></th>\n",
       "      <th></th>\n",
       "      <th></th>\n",
       "      <th></th>\n",
       "      <th></th>\n",
       "      <th></th>\n",
       "      <th></th>\n",
       "      <th></th>\n",
       "    </tr>\n",
       "  </thead>\n",
       "  <tbody>\n",
       "    <tr>\n",
       "      <th>2010-02</th>\n",
       "      <td>0.065396</td>\n",
       "      <td>0.0340</td>\n",
       "      <td>0.0151</td>\n",
       "      <td>0.0322</td>\n",
       "      <td>-0.0028</td>\n",
       "      <td>0.0140</td>\n",
       "      <td>0.0000</td>\n",
       "      <td>1</td>\n",
       "    </tr>\n",
       "    <tr>\n",
       "      <th>2010-03</th>\n",
       "      <td>0.148470</td>\n",
       "      <td>0.0631</td>\n",
       "      <td>0.0185</td>\n",
       "      <td>0.0221</td>\n",
       "      <td>-0.0063</td>\n",
       "      <td>0.0167</td>\n",
       "      <td>0.0001</td>\n",
       "      <td>1</td>\n",
       "    </tr>\n",
       "    <tr>\n",
       "      <th>2010-04</th>\n",
       "      <td>0.111022</td>\n",
       "      <td>0.0200</td>\n",
       "      <td>0.0498</td>\n",
       "      <td>0.0289</td>\n",
       "      <td>0.0070</td>\n",
       "      <td>0.0174</td>\n",
       "      <td>0.0001</td>\n",
       "      <td>1</td>\n",
       "    </tr>\n",
       "    <tr>\n",
       "      <th>2010-05</th>\n",
       "      <td>-0.016125</td>\n",
       "      <td>-0.0789</td>\n",
       "      <td>0.0004</td>\n",
       "      <td>-0.0244</td>\n",
       "      <td>0.0127</td>\n",
       "      <td>-0.0023</td>\n",
       "      <td>0.0001</td>\n",
       "      <td>1</td>\n",
       "    </tr>\n",
       "    <tr>\n",
       "      <th>2010-06</th>\n",
       "      <td>-0.020827</td>\n",
       "      <td>-0.0557</td>\n",
       "      <td>-0.0247</td>\n",
       "      <td>-0.0470</td>\n",
       "      <td>-0.0018</td>\n",
       "      <td>-0.0155</td>\n",
       "      <td>0.0001</td>\n",
       "      <td>1</td>\n",
       "    </tr>\n",
       "    <tr>\n",
       "      <th>...</th>\n",
       "      <td>...</td>\n",
       "      <td>...</td>\n",
       "      <td>...</td>\n",
       "      <td>...</td>\n",
       "      <td>...</td>\n",
       "      <td>...</td>\n",
       "      <td>...</td>\n",
       "      <td>...</td>\n",
       "    </tr>\n",
       "    <tr>\n",
       "      <th>2020-08</th>\n",
       "      <td>0.214379</td>\n",
       "      <td>0.0763</td>\n",
       "      <td>-0.0087</td>\n",
       "      <td>-0.0293</td>\n",
       "      <td>0.0427</td>\n",
       "      <td>-0.0130</td>\n",
       "      <td>0.0001</td>\n",
       "      <td>1</td>\n",
       "    </tr>\n",
       "    <tr>\n",
       "      <th>2020-09</th>\n",
       "      <td>-0.100908</td>\n",
       "      <td>-0.0363</td>\n",
       "      <td>-0.0007</td>\n",
       "      <td>-0.0266</td>\n",
       "      <td>-0.0129</td>\n",
       "      <td>-0.0177</td>\n",
       "      <td>0.0001</td>\n",
       "      <td>1</td>\n",
       "    </tr>\n",
       "    <tr>\n",
       "      <th>2020-10</th>\n",
       "      <td>-0.060012</td>\n",
       "      <td>-0.0210</td>\n",
       "      <td>0.0467</td>\n",
       "      <td>0.0419</td>\n",
       "      <td>-0.0093</td>\n",
       "      <td>-0.0073</td>\n",
       "      <td>0.0001</td>\n",
       "      <td>1</td>\n",
       "    </tr>\n",
       "    <tr>\n",
       "      <th>2020-11</th>\n",
       "      <td>0.093606</td>\n",
       "      <td>0.1247</td>\n",
       "      <td>0.0706</td>\n",
       "      <td>0.0199</td>\n",
       "      <td>-0.0217</td>\n",
       "      <td>0.0132</td>\n",
       "      <td>0.0001</td>\n",
       "      <td>1</td>\n",
       "    </tr>\n",
       "    <tr>\n",
       "      <th>2020-12</th>\n",
       "      <td>0.116497</td>\n",
       "      <td>0.0463</td>\n",
       "      <td>0.0475</td>\n",
       "      <td>-0.0156</td>\n",
       "      <td>-0.0191</td>\n",
       "      <td>-0.0015</td>\n",
       "      <td>0.0001</td>\n",
       "      <td>1</td>\n",
       "    </tr>\n",
       "  </tbody>\n",
       "</table>\n",
       "<p>131 rows × 8 columns</p>\n",
       "</div>"
      ],
      "text/plain": [
       "             AAPL  Mkt-RF     SMB     HML     RMW     CMA      RF  const\n",
       "Date                                                                    \n",
       "2010-02  0.065396  0.0340  0.0151  0.0322 -0.0028  0.0140  0.0000      1\n",
       "2010-03  0.148470  0.0631  0.0185  0.0221 -0.0063  0.0167  0.0001      1\n",
       "2010-04  0.111022  0.0200  0.0498  0.0289  0.0070  0.0174  0.0001      1\n",
       "2010-05 -0.016125 -0.0789  0.0004 -0.0244  0.0127 -0.0023  0.0001      1\n",
       "2010-06 -0.020827 -0.0557 -0.0247 -0.0470 -0.0018 -0.0155  0.0001      1\n",
       "...           ...     ...     ...     ...     ...     ...     ...    ...\n",
       "2020-08  0.214379  0.0763 -0.0087 -0.0293  0.0427 -0.0130  0.0001      1\n",
       "2020-09 -0.100908 -0.0363 -0.0007 -0.0266 -0.0129 -0.0177  0.0001      1\n",
       "2020-10 -0.060012 -0.0210  0.0467  0.0419 -0.0093 -0.0073  0.0001      1\n",
       "2020-11  0.093606  0.1247  0.0706  0.0199 -0.0217  0.0132  0.0001      1\n",
       "2020-12  0.116497  0.0463  0.0475 -0.0156 -0.0191 -0.0015  0.0001      1\n",
       "\n",
       "[131 rows x 8 columns]"
      ]
     },
     "execution_count": 4,
     "metadata": {},
     "output_type": "execute_result"
    }
   ],
   "source": [
    "# 3\n",
    "print(\"Output for part 3:\")\n",
    "\n",
    "data = aapl_ret.join(ff5f)\n",
    "data['const'] = 1\n",
    "data"
   ]
  },
  {
   "cell_type": "code",
   "execution_count": 5,
   "metadata": {},
   "outputs": [
    {
     "name": "stdout",
     "output_type": "stream",
     "text": [
      "Output for part 4:\n",
      "                            OLS Regression Results                            \n",
      "==============================================================================\n",
      "Dep. Variable:                      y   R-squared:                       0.456\n",
      "Model:                            OLS   Adj. R-squared:                  0.434\n",
      "Method:                 Least Squares   F-statistic:                     20.96\n",
      "Date:                Mon, 04 Apr 2022   Prob (F-statistic):           3.62e-15\n",
      "Time:                        12:40:22   Log-Likelihood:                 188.04\n",
      "No. Observations:                 131   AIC:                            -364.1\n",
      "Df Residuals:                     125   BIC:                            -346.8\n",
      "Df Model:                           5                                         \n",
      "Covariance Type:            nonrobust                                         \n",
      "==============================================================================\n",
      "                 coef    std err          t      P>|t|      [0.025      0.975]\n",
      "------------------------------------------------------------------------------\n",
      "const          0.0087      0.006      1.565      0.120      -0.002       0.020\n",
      "Mkt-RF         1.1960      0.138      8.637      0.000       0.922       1.470\n",
      "SMB           -0.1328      0.252     -0.526      0.600      -0.632       0.367\n",
      "HML           -0.3482      0.248     -1.402      0.164      -0.840       0.143\n",
      "RMW            1.3023      0.362      3.601      0.000       0.587       2.018\n",
      "CMA           -0.7940      0.421     -1.886      0.062      -1.627       0.039\n",
      "==============================================================================\n",
      "Omnibus:                        4.396   Durbin-Watson:                   1.837\n",
      "Prob(Omnibus):                  0.111   Jarque-Bera (JB):                4.153\n",
      "Skew:                          -0.287   Prob(JB):                        0.125\n",
      "Kurtosis:                       3.657   Cond. No.                         87.3\n",
      "==============================================================================\n",
      "\n",
      "Notes:\n",
      "[1] Standard Errors assume that the covariance matrix of the errors is correctly specified.\n"
     ]
    }
   ],
   "source": [
    "# 4\n",
    "print(\"Output for part 4:\")\n",
    "\n",
    "res = sm.OLS(data['AAPL'] - data['RF'],\n",
    "             data[['const','Mkt-RF','SMB','HML','RMW','CMA']],\n",
    "            missing = 'drop').fit()\n",
    "print(res.summary())"
   ]
  },
  {
   "cell_type": "code",
   "execution_count": 6,
   "metadata": {},
   "outputs": [
    {
     "name": "stdout",
     "output_type": "stream",
     "text": [
      "Output for part 5:\n",
      "Question 5 answer: ...\n"
     ]
    }
   ],
   "source": [
    "# 5\n",
    "print(\"Output for part 5:\")\n",
    "print(\"Question 5 answer: ...\")\n",
    "#print(AAPL is not misspriced because the alpha has a pvalue > 0.05')"
   ]
  },
  {
   "cell_type": "code",
   "execution_count": 7,
   "metadata": {},
   "outputs": [
    {
     "name": "stdout",
     "output_type": "stream",
     "text": [
      "Output for part 6:\n",
      "Question 6 answer: ...\n"
     ]
    }
   ],
   "source": [
    "# 6\n",
    "print(\"Output for part 6:\")\n",
    "print(\"Question 6 answer: ...\")\n",
    "#print('The factors on which AAPL loads significantly are the ones with a pvalue < 0.05 are: Mkt-RF and RMW')"
   ]
  },
  {
   "cell_type": "code",
   "execution_count": 8,
   "metadata": {},
   "outputs": [
    {
     "name": "stdout",
     "output_type": "stream",
     "text": [
      "Output for part 7:\n",
      "Question 7 answer: ...\n"
     ]
    }
   ],
   "source": [
    "# 7\n",
    "print(\"Output for part 7:\")\n",
    "print(\"Question 7 answer: ...\")\n",
    "#print('Percentage of AAPL risk that is systematic: ', res.rsquared)"
   ]
  },
  {
   "cell_type": "code",
   "execution_count": 9,
   "metadata": {},
   "outputs": [
    {
     "name": "stdout",
     "output_type": "stream",
     "text": [
      "Output for part 8:\n",
      "Conditional prediction =  0.02198378176014695\n"
     ]
    }
   ],
   "source": [
    "# 8\n",
    "print(\"Output for part 8:\")\n",
    "\n",
    "cond_pred = res.params['const'] + 0.005 * res.params['Mkt-RF'] + 0.002 * res.params['SMB'] + \\\n",
    "            0.003 * res.params['HML'] + 0.006 * res.params['RMW'] -0.001 * res.params['CMA']\n",
    "print('Conditional prediction = ', cond_pred)"
   ]
  },
  {
   "cell_type": "code",
   "execution_count": 10,
   "metadata": {},
   "outputs": [
    {
     "name": "stdout",
     "output_type": "stream",
     "text": [
      "Output for part 9:\n"
     ]
    },
    {
     "data": {
      "text/plain": [
       "Mkt-RF    0.005926\n",
       "SMB       0.001631\n",
       "HML       0.002530\n",
       "RMW       0.002662\n",
       "CMA       0.002972\n",
       "RF        0.003723\n",
       "dtype: float64"
      ]
     },
     "execution_count": 10,
     "metadata": {},
     "output_type": "execute_result"
    }
   ],
   "source": [
    "# 9\n",
    "print(\"Output for part 9:\")\n",
    "\n",
    "rp = ff5f.mean()\n",
    "rp"
   ]
  },
  {
   "cell_type": "code",
   "execution_count": 11,
   "metadata": {},
   "outputs": [
    {
     "name": "stdout",
     "output_type": "stream",
     "text": [
      "Output for part 10:\n",
      "Unconditional prediction =  0.007097167517847282\n"
     ]
    }
   ],
   "source": [
    "# 10\n",
    "print(\"Output for part 10:\")\n",
    "uncond_pred = rp['Mkt-RF'] * res.params['Mkt-RF'] + rp['SMB'] * res.params['SMB'] + \\\n",
    "            rp['HML'] * res.params['HML'] + rp['RMW'] * res.params['RMW'] + rp['CMA'] * res.params['CMA']\n",
    "print('Unconditional prediction = ', uncond_pred)"
   ]
  },
  {
   "cell_type": "markdown",
   "metadata": {},
   "source": [
    "## Problem 2 \n",
    "### (5 x 8 = 40 points)\n",
    "\n",
    "For this problem, you will be testing if returns are predictable at the annual level.\n",
    "\n",
    "Data:\n",
    "1. Load the CRSP dataset from the \"crspm.zip\" file and keep only the \"permno\", \"date\", and \"ret\" variables. Drop all rows with any missing values. Call the resulting dataframe \"crsp\" and print its first two rows.\n",
    "    1. In \"crsp\", create a new variable \"year\" that extracts the year from the \"date\" variable (as an integer, not a period date). Print a table that shows only the min and max of the \"year\" variable.\n",
    "    2. Calculate annual compounded returns for each firm, each year, and store those in a separate dataframe called \"crsp_an\". Print the first 5 rows of \"crsp_an\".\n",
    "    \n",
    "2. Load the Compustat dataset from the \"compa.zip\" file and keep only the \"permno\", \"datadate\", \"sich\" (industry identifier) and \"at\" (total assets) variables. Drop all rows with any missing values in this new dataframe. Keep only rows with strictly positive total assets (\"at\"). Call the resulting dataframe \"comp\".\n",
    "    1. In \"comp\", create a new variable \"year\" that extracts the year from the \"datadate\" variable (as an integer, not a period date). Print a table that shows only the min and max of the \"year\" variable.\n",
    "    2. In \"comp\", create a new variable \"ag\" as the annual percentage growth in total assets. Winsorize it at the 1 and 99 percentiles and call this variable \"ag_w\". Print a table that shows the mean and standard deviation of \"ag\" and \"ag_w\".\n",
    "    3. In \"comp\", create a new variable \"sic3\" that contains the first three digits of the \"sich\" variable\n",
    "    \n",
    "3. Merge the resulting \"comp\" dataframe with the \"crsp_an\" dataframe based on \"permno\" and \"year\". Call the merged dataset \"data\" and print out its shape.\n",
    "    1. Create a new variable called \"future_ret\" that, for every firm, every year, stores the annual returns of that firm in the following year. Print the first 5 rows of this dataframe.\n",
    "    2. Set the index of \"data\" to be (\"permno\", \"year\"). Keep only then \"future_ret\", \"ag_w\", and \"sic3\" variables. Create a new variable called \"const\" that equals 1 everywhere. Print out the first 2 rows of this dataset.\n",
    "\n",
    "Analysis:\n",
    "\n",
    "4. Regress \"future_ret\", on current winsorized asset growth (\"ag_w\") and a constant. This should be simple OLS, with no adjustments for fixed effects or corrections to standard errors. Print your results (the regression table)\n",
    "    1. Use the print function to answer the following question: \"Based on these regression results, does current asset growth have statistically significant explanatory power over future returns? How did you reach that conclusion?\"\n",
    "    \n",
    "5. Run the same regression as above, only this time add time fixed effects and industry (\"sic3\") fixed effects, and cluster your standard errors at the firm and year level (ignore the warnings produced in this step, they are harmless). Print your results (the regression table)\n",
    "    1. Use the print function to answer the following question: \"Based on these regression results, does current asset growth have statistically significant explanatory power over future returns? How did you reach that conclusion?\""
   ]
  },
  {
   "cell_type": "code",
   "execution_count": 12,
   "metadata": {},
   "outputs": [
    {
     "name": "stdout",
     "output_type": "stream",
     "text": [
      "Output for part 1:\n"
     ]
    },
    {
     "data": {
      "text/html": [
       "<div>\n",
       "<style scoped>\n",
       "    .dataframe tbody tr th:only-of-type {\n",
       "        vertical-align: middle;\n",
       "    }\n",
       "\n",
       "    .dataframe tbody tr th {\n",
       "        vertical-align: top;\n",
       "    }\n",
       "\n",
       "    .dataframe thead th {\n",
       "        text-align: right;\n",
       "    }\n",
       "</style>\n",
       "<table border=\"1\" class=\"dataframe\">\n",
       "  <thead>\n",
       "    <tr style=\"text-align: right;\">\n",
       "      <th></th>\n",
       "      <th>permno</th>\n",
       "      <th>date</th>\n",
       "      <th>ret</th>\n",
       "    </tr>\n",
       "  </thead>\n",
       "  <tbody>\n",
       "    <tr>\n",
       "      <th>1</th>\n",
       "      <td>10000.0</td>\n",
       "      <td>1986-02-28</td>\n",
       "      <td>-0.257143</td>\n",
       "    </tr>\n",
       "    <tr>\n",
       "      <th>2</th>\n",
       "      <td>10000.0</td>\n",
       "      <td>1986-03-31</td>\n",
       "      <td>0.365385</td>\n",
       "    </tr>\n",
       "  </tbody>\n",
       "</table>\n",
       "</div>"
      ],
      "text/plain": [
       "    permno        date       ret\n",
       "1  10000.0  1986-02-28 -0.257143\n",
       "2  10000.0  1986-03-31  0.365385"
      ]
     },
     "execution_count": 12,
     "metadata": {},
     "output_type": "execute_result"
    }
   ],
   "source": [
    "# 1\n",
    "print(\"Output for part 1:\")\n",
    "\n",
    "crsp = pd.read_pickle('../../lectures/data/crspm.zip')\n",
    "crsp = crsp[['permno','date','ret']].dropna().copy()\n",
    "crsp.head(2)"
   ]
  },
  {
   "cell_type": "code",
   "execution_count": 13,
   "metadata": {},
   "outputs": [
    {
     "name": "stdout",
     "output_type": "stream",
     "text": [
      "Output for part 1.A:\n"
     ]
    },
    {
     "data": {
      "text/plain": [
       "min    1980\n",
       "max    2020\n",
       "Name: year, dtype: int64"
      ]
     },
     "execution_count": 13,
     "metadata": {},
     "output_type": "execute_result"
    }
   ],
   "source": [
    "# 1.A\n",
    "print(\"Output for part 1.A:\")\n",
    "\n",
    "crsp['year'] = pd.to_datetime(crsp['date']).dt.year\n",
    "crsp['year'].agg(['min','max'])"
   ]
  },
  {
   "cell_type": "code",
   "execution_count": 14,
   "metadata": {},
   "outputs": [
    {
     "name": "stdout",
     "output_type": "stream",
     "text": [
      "Output for part 1.B:\n"
     ]
    },
    {
     "data": {
      "text/html": [
       "<div>\n",
       "<style scoped>\n",
       "    .dataframe tbody tr th:only-of-type {\n",
       "        vertical-align: middle;\n",
       "    }\n",
       "\n",
       "    .dataframe tbody tr th {\n",
       "        vertical-align: top;\n",
       "    }\n",
       "\n",
       "    .dataframe thead th {\n",
       "        text-align: right;\n",
       "    }\n",
       "</style>\n",
       "<table border=\"1\" class=\"dataframe\">\n",
       "  <thead>\n",
       "    <tr style=\"text-align: right;\">\n",
       "      <th></th>\n",
       "      <th></th>\n",
       "      <th>anret</th>\n",
       "    </tr>\n",
       "    <tr>\n",
       "      <th>permno</th>\n",
       "      <th>year</th>\n",
       "      <th></th>\n",
       "    </tr>\n",
       "  </thead>\n",
       "  <tbody>\n",
       "    <tr>\n",
       "      <th rowspan=\"2\" valign=\"top\">10000.0</th>\n",
       "      <th>1986</th>\n",
       "      <td>0.117857</td>\n",
       "    </tr>\n",
       "    <tr>\n",
       "      <th>1987</th>\n",
       "      <td>0.424242</td>\n",
       "    </tr>\n",
       "    <tr>\n",
       "      <th rowspan=\"3\" valign=\"top\">10001.0</th>\n",
       "      <th>1986</th>\n",
       "      <td>1.217368</td>\n",
       "    </tr>\n",
       "    <tr>\n",
       "      <th>1987</th>\n",
       "      <td>0.898725</td>\n",
       "    </tr>\n",
       "    <tr>\n",
       "      <th>1988</th>\n",
       "      <td>1.163160</td>\n",
       "    </tr>\n",
       "  </tbody>\n",
       "</table>\n",
       "</div>"
      ],
      "text/plain": [
       "                 anret\n",
       "permno  year          \n",
       "10000.0 1986  0.117857\n",
       "        1987  0.424242\n",
       "10001.0 1986  1.217368\n",
       "        1987  0.898725\n",
       "        1988  1.163160"
      ]
     },
     "execution_count": 14,
     "metadata": {},
     "output_type": "execute_result"
    }
   ],
   "source": [
    "# 1.B\n",
    "print(\"Output for part 1.B:\")\n",
    "\n",
    "crsp['anret'] = 1 + crsp['ret']\n",
    "crsp_an = crsp.groupby(['permno','year'])['anret'].prod() \n",
    "crsp_an = crsp_an.to_frame()\n",
    "crsp_an.head()"
   ]
  },
  {
   "cell_type": "code",
   "execution_count": 15,
   "metadata": {},
   "outputs": [
    {
     "name": "stdout",
     "output_type": "stream",
     "text": [
      "Output for part 2:\n"
     ]
    },
    {
     "data": {
      "text/html": [
       "<div>\n",
       "<style scoped>\n",
       "    .dataframe tbody tr th:only-of-type {\n",
       "        vertical-align: middle;\n",
       "    }\n",
       "\n",
       "    .dataframe tbody tr th {\n",
       "        vertical-align: top;\n",
       "    }\n",
       "\n",
       "    .dataframe thead th {\n",
       "        text-align: right;\n",
       "    }\n",
       "</style>\n",
       "<table border=\"1\" class=\"dataframe\">\n",
       "  <thead>\n",
       "    <tr style=\"text-align: right;\">\n",
       "      <th></th>\n",
       "      <th>permno</th>\n",
       "      <th>datadate</th>\n",
       "      <th>sich</th>\n",
       "      <th>at</th>\n",
       "    </tr>\n",
       "  </thead>\n",
       "  <tbody>\n",
       "    <tr>\n",
       "      <th>15</th>\n",
       "      <td>10031.0</td>\n",
       "      <td>1988-01-31</td>\n",
       "      <td>5712.0</td>\n",
       "      <td>16.042</td>\n",
       "    </tr>\n",
       "    <tr>\n",
       "      <th>16</th>\n",
       "      <td>10031.0</td>\n",
       "      <td>1989-01-31</td>\n",
       "      <td>5712.0</td>\n",
       "      <td>16.280</td>\n",
       "    </tr>\n",
       "  </tbody>\n",
       "</table>\n",
       "</div>"
      ],
      "text/plain": [
       "     permno    datadate    sich      at\n",
       "15  10031.0  1988-01-31  5712.0  16.042\n",
       "16  10031.0  1989-01-31  5712.0  16.280"
      ]
     },
     "execution_count": 15,
     "metadata": {},
     "output_type": "execute_result"
    }
   ],
   "source": [
    "# 2\n",
    "print(\"Output for part 2:\")\n",
    "\n",
    "comp = pd.read_pickle('../../lectures/data/compa.zip')\n",
    "comp = comp[['permno','datadate','sich','at',]].dropna().copy()\n",
    "comp = comp.loc[comp['at']>0, :].copy()\n",
    "comp.head(2)"
   ]
  },
  {
   "cell_type": "code",
   "execution_count": 16,
   "metadata": {},
   "outputs": [
    {
     "name": "stdout",
     "output_type": "stream",
     "text": [
      "Output for part 2.A:\n"
     ]
    },
    {
     "data": {
      "text/plain": [
       "min    1982\n",
       "max    2020\n",
       "Name: year, dtype: int64"
      ]
     },
     "execution_count": 16,
     "metadata": {},
     "output_type": "execute_result"
    }
   ],
   "source": [
    "# 2.A\n",
    "print(\"Output for part 2.A:\")\n",
    "\n",
    "comp['year'] = pd.to_datetime(comp['datadate']).dt.year\n",
    "comp['year'].agg(['min','max'])"
   ]
  },
  {
   "cell_type": "code",
   "execution_count": 17,
   "metadata": {},
   "outputs": [
    {
     "name": "stdout",
     "output_type": "stream",
     "text": [
      "Output for part 2.B:\n"
     ]
    },
    {
     "data": {
      "text/html": [
       "<div>\n",
       "<style scoped>\n",
       "    .dataframe tbody tr th:only-of-type {\n",
       "        vertical-align: middle;\n",
       "    }\n",
       "\n",
       "    .dataframe tbody tr th {\n",
       "        vertical-align: top;\n",
       "    }\n",
       "\n",
       "    .dataframe thead th {\n",
       "        text-align: right;\n",
       "    }\n",
       "</style>\n",
       "<table border=\"1\" class=\"dataframe\">\n",
       "  <thead>\n",
       "    <tr style=\"text-align: right;\">\n",
       "      <th></th>\n",
       "      <th>ag</th>\n",
       "      <th>ag_w</th>\n",
       "    </tr>\n",
       "  </thead>\n",
       "  <tbody>\n",
       "    <tr>\n",
       "      <th>mean</th>\n",
       "      <td>2.706688</td>\n",
       "      <td>0.143621</td>\n",
       "    </tr>\n",
       "    <tr>\n",
       "      <th>std</th>\n",
       "      <td>1037.143277</td>\n",
       "      <td>0.451803</td>\n",
       "    </tr>\n",
       "  </tbody>\n",
       "</table>\n",
       "</div>"
      ],
      "text/plain": [
       "               ag      ag_w\n",
       "mean     2.706688  0.143621\n",
       "std   1037.143277  0.451803"
      ]
     },
     "execution_count": 17,
     "metadata": {},
     "output_type": "execute_result"
    }
   ],
   "source": [
    "# 2.B\n",
    "print(\"Output for part 2.B:\")\n",
    "\n",
    "comp.sort_values(['permno','year'], inplace = True)\n",
    "comp['at_lag1'] = comp.groupby('permno')['at'].shift(1)\n",
    "\n",
    "comp['ag'] = comp['at']/comp['at_lag1'] - 1\n",
    "comp['ag_w'] = comp['ag'].clip(lower = comp['ag'].quantile(0.01), upper = comp['ag'].quantile(0.99))\n",
    "\n",
    "comp[['ag','ag_w']].agg(['mean','std'])"
   ]
  },
  {
   "cell_type": "code",
   "execution_count": 18,
   "metadata": {},
   "outputs": [
    {
     "name": "stdout",
     "output_type": "stream",
     "text": [
      "Output for part 2.C:\n"
     ]
    },
    {
     "data": {
      "text/html": [
       "<div>\n",
       "<style scoped>\n",
       "    .dataframe tbody tr th:only-of-type {\n",
       "        vertical-align: middle;\n",
       "    }\n",
       "\n",
       "    .dataframe tbody tr th {\n",
       "        vertical-align: top;\n",
       "    }\n",
       "\n",
       "    .dataframe thead th {\n",
       "        text-align: right;\n",
       "    }\n",
       "</style>\n",
       "<table border=\"1\" class=\"dataframe\">\n",
       "  <thead>\n",
       "    <tr style=\"text-align: right;\">\n",
       "      <th></th>\n",
       "      <th>permno</th>\n",
       "      <th>datadate</th>\n",
       "      <th>sich</th>\n",
       "      <th>at</th>\n",
       "      <th>year</th>\n",
       "      <th>at_lag1</th>\n",
       "      <th>ag</th>\n",
       "      <th>ag_w</th>\n",
       "      <th>sic3</th>\n",
       "    </tr>\n",
       "  </thead>\n",
       "  <tbody>\n",
       "    <tr>\n",
       "      <th>188566</th>\n",
       "      <td>10001.0</td>\n",
       "      <td>1987-06-30</td>\n",
       "      <td>4924.0</td>\n",
       "      <td>11.771</td>\n",
       "      <td>1987</td>\n",
       "      <td>NaN</td>\n",
       "      <td>NaN</td>\n",
       "      <td>NaN</td>\n",
       "      <td>492</td>\n",
       "    </tr>\n",
       "    <tr>\n",
       "      <th>188567</th>\n",
       "      <td>10001.0</td>\n",
       "      <td>1988-06-30</td>\n",
       "      <td>4924.0</td>\n",
       "      <td>11.735</td>\n",
       "      <td>1988</td>\n",
       "      <td>11.771</td>\n",
       "      <td>-0.003058</td>\n",
       "      <td>-0.003058</td>\n",
       "      <td>492</td>\n",
       "    </tr>\n",
       "    <tr>\n",
       "      <th>188568</th>\n",
       "      <td>10001.0</td>\n",
       "      <td>1989-06-30</td>\n",
       "      <td>4924.0</td>\n",
       "      <td>18.565</td>\n",
       "      <td>1989</td>\n",
       "      <td>11.735</td>\n",
       "      <td>0.582020</td>\n",
       "      <td>0.582020</td>\n",
       "      <td>492</td>\n",
       "    </tr>\n",
       "    <tr>\n",
       "      <th>188569</th>\n",
       "      <td>10001.0</td>\n",
       "      <td>1990-06-30</td>\n",
       "      <td>4924.0</td>\n",
       "      <td>18.881</td>\n",
       "      <td>1990</td>\n",
       "      <td>18.565</td>\n",
       "      <td>0.017021</td>\n",
       "      <td>0.017021</td>\n",
       "      <td>492</td>\n",
       "    </tr>\n",
       "    <tr>\n",
       "      <th>188570</th>\n",
       "      <td>10001.0</td>\n",
       "      <td>1991-06-30</td>\n",
       "      <td>4924.0</td>\n",
       "      <td>19.599</td>\n",
       "      <td>1991</td>\n",
       "      <td>18.881</td>\n",
       "      <td>0.038028</td>\n",
       "      <td>0.038028</td>\n",
       "      <td>492</td>\n",
       "    </tr>\n",
       "  </tbody>\n",
       "</table>\n",
       "</div>"
      ],
      "text/plain": [
       "         permno    datadate    sich      at  year  at_lag1        ag  \\\n",
       "188566  10001.0  1987-06-30  4924.0  11.771  1987      NaN       NaN   \n",
       "188567  10001.0  1988-06-30  4924.0  11.735  1988   11.771 -0.003058   \n",
       "188568  10001.0  1989-06-30  4924.0  18.565  1989   11.735  0.582020   \n",
       "188569  10001.0  1990-06-30  4924.0  18.881  1990   18.565  0.017021   \n",
       "188570  10001.0  1991-06-30  4924.0  19.599  1991   18.881  0.038028   \n",
       "\n",
       "            ag_w sic3  \n",
       "188566       NaN  492  \n",
       "188567 -0.003058  492  \n",
       "188568  0.582020  492  \n",
       "188569  0.017021  492  \n",
       "188570  0.038028  492  "
      ]
     },
     "execution_count": 18,
     "metadata": {},
     "output_type": "execute_result"
    }
   ],
   "source": [
    "# 2.C\n",
    "print(\"Output for part 2.C:\")\n",
    "\n",
    "comp['sic3'] = comp['sich'].astype(\"string\").str[0:3]\n",
    "comp.head()"
   ]
  },
  {
   "cell_type": "code",
   "execution_count": 19,
   "metadata": {},
   "outputs": [
    {
     "name": "stdout",
     "output_type": "stream",
     "text": [
      "Output for part 3:\n"
     ]
    },
    {
     "data": {
      "text/plain": [
       "(156258, 10)"
      ]
     },
     "execution_count": 19,
     "metadata": {},
     "output_type": "execute_result"
    }
   ],
   "source": [
    "# 3\n",
    "print(\"Output for part 3:\")\n",
    "\n",
    "data = comp.merge(crsp_an, how = 'inner', on = ['permno','year'])\n",
    "data.shape"
   ]
  },
  {
   "cell_type": "code",
   "execution_count": 20,
   "metadata": {},
   "outputs": [
    {
     "name": "stdout",
     "output_type": "stream",
     "text": [
      "Output for part 3.A:\n"
     ]
    },
    {
     "data": {
      "text/html": [
       "<div>\n",
       "<style scoped>\n",
       "    .dataframe tbody tr th:only-of-type {\n",
       "        vertical-align: middle;\n",
       "    }\n",
       "\n",
       "    .dataframe tbody tr th {\n",
       "        vertical-align: top;\n",
       "    }\n",
       "\n",
       "    .dataframe thead th {\n",
       "        text-align: right;\n",
       "    }\n",
       "</style>\n",
       "<table border=\"1\" class=\"dataframe\">\n",
       "  <thead>\n",
       "    <tr style=\"text-align: right;\">\n",
       "      <th></th>\n",
       "      <th>permno</th>\n",
       "      <th>datadate</th>\n",
       "      <th>sich</th>\n",
       "      <th>at</th>\n",
       "      <th>year</th>\n",
       "      <th>at_lag1</th>\n",
       "      <th>ag</th>\n",
       "      <th>ag_w</th>\n",
       "      <th>sic3</th>\n",
       "      <th>anret</th>\n",
       "      <th>future_ret</th>\n",
       "    </tr>\n",
       "  </thead>\n",
       "  <tbody>\n",
       "    <tr>\n",
       "      <th>0</th>\n",
       "      <td>10001.0</td>\n",
       "      <td>1987-06-30</td>\n",
       "      <td>4924.0</td>\n",
       "      <td>11.771</td>\n",
       "      <td>1987</td>\n",
       "      <td>NaN</td>\n",
       "      <td>NaN</td>\n",
       "      <td>NaN</td>\n",
       "      <td>492</td>\n",
       "      <td>0.898725</td>\n",
       "      <td>1.163160</td>\n",
       "    </tr>\n",
       "    <tr>\n",
       "      <th>1</th>\n",
       "      <td>10001.0</td>\n",
       "      <td>1988-06-30</td>\n",
       "      <td>4924.0</td>\n",
       "      <td>11.735</td>\n",
       "      <td>1988</td>\n",
       "      <td>11.771</td>\n",
       "      <td>-0.003058</td>\n",
       "      <td>-0.003058</td>\n",
       "      <td>492</td>\n",
       "      <td>1.163160</td>\n",
       "      <td>1.687923</td>\n",
       "    </tr>\n",
       "    <tr>\n",
       "      <th>2</th>\n",
       "      <td>10001.0</td>\n",
       "      <td>1989-06-30</td>\n",
       "      <td>4924.0</td>\n",
       "      <td>18.565</td>\n",
       "      <td>1989</td>\n",
       "      <td>11.735</td>\n",
       "      <td>0.582020</td>\n",
       "      <td>0.582020</td>\n",
       "      <td>492</td>\n",
       "      <td>1.687923</td>\n",
       "      <td>0.991279</td>\n",
       "    </tr>\n",
       "    <tr>\n",
       "      <th>3</th>\n",
       "      <td>10001.0</td>\n",
       "      <td>1990-06-30</td>\n",
       "      <td>4924.0</td>\n",
       "      <td>18.881</td>\n",
       "      <td>1990</td>\n",
       "      <td>18.565</td>\n",
       "      <td>0.017021</td>\n",
       "      <td>0.017021</td>\n",
       "      <td>492</td>\n",
       "      <td>0.991279</td>\n",
       "      <td>1.607471</td>\n",
       "    </tr>\n",
       "    <tr>\n",
       "      <th>4</th>\n",
       "      <td>10001.0</td>\n",
       "      <td>1991-06-30</td>\n",
       "      <td>4924.0</td>\n",
       "      <td>19.599</td>\n",
       "      <td>1991</td>\n",
       "      <td>18.881</td>\n",
       "      <td>0.038028</td>\n",
       "      <td>0.038028</td>\n",
       "      <td>492</td>\n",
       "      <td>1.607471</td>\n",
       "      <td>1.012620</td>\n",
       "    </tr>\n",
       "  </tbody>\n",
       "</table>\n",
       "</div>"
      ],
      "text/plain": [
       "    permno    datadate    sich      at  year  at_lag1        ag      ag_w  \\\n",
       "0  10001.0  1987-06-30  4924.0  11.771  1987      NaN       NaN       NaN   \n",
       "1  10001.0  1988-06-30  4924.0  11.735  1988   11.771 -0.003058 -0.003058   \n",
       "2  10001.0  1989-06-30  4924.0  18.565  1989   11.735  0.582020  0.582020   \n",
       "3  10001.0  1990-06-30  4924.0  18.881  1990   18.565  0.017021  0.017021   \n",
       "4  10001.0  1991-06-30  4924.0  19.599  1991   18.881  0.038028  0.038028   \n",
       "\n",
       "  sic3     anret  future_ret  \n",
       "0  492  0.898725    1.163160  \n",
       "1  492  1.163160    1.687923  \n",
       "2  492  1.687923    0.991279  \n",
       "3  492  0.991279    1.607471  \n",
       "4  492  1.607471    1.012620  "
      ]
     },
     "execution_count": 20,
     "metadata": {},
     "output_type": "execute_result"
    }
   ],
   "source": [
    "# 3.A\n",
    "print(\"Output for part 3.A:\")\n",
    "\n",
    "data.sort_values(['permno','year'], inplace=True)\n",
    "data['future_ret'] = data.groupby('permno')['anret'].shift(-1)\n",
    "data.head()"
   ]
  },
  {
   "cell_type": "code",
   "execution_count": 21,
   "metadata": {},
   "outputs": [
    {
     "name": "stdout",
     "output_type": "stream",
     "text": [
      "Output for part 3.B:\n"
     ]
    },
    {
     "data": {
      "text/html": [
       "<div>\n",
       "<style scoped>\n",
       "    .dataframe tbody tr th:only-of-type {\n",
       "        vertical-align: middle;\n",
       "    }\n",
       "\n",
       "    .dataframe tbody tr th {\n",
       "        vertical-align: top;\n",
       "    }\n",
       "\n",
       "    .dataframe thead th {\n",
       "        text-align: right;\n",
       "    }\n",
       "</style>\n",
       "<table border=\"1\" class=\"dataframe\">\n",
       "  <thead>\n",
       "    <tr style=\"text-align: right;\">\n",
       "      <th></th>\n",
       "      <th></th>\n",
       "      <th>future_ret</th>\n",
       "      <th>ag_w</th>\n",
       "      <th>sic3</th>\n",
       "      <th>const</th>\n",
       "    </tr>\n",
       "    <tr>\n",
       "      <th>permno</th>\n",
       "      <th>year</th>\n",
       "      <th></th>\n",
       "      <th></th>\n",
       "      <th></th>\n",
       "      <th></th>\n",
       "    </tr>\n",
       "  </thead>\n",
       "  <tbody>\n",
       "    <tr>\n",
       "      <th rowspan=\"2\" valign=\"top\">10001.0</th>\n",
       "      <th>1987</th>\n",
       "      <td>1.163160</td>\n",
       "      <td>NaN</td>\n",
       "      <td>492</td>\n",
       "      <td>1</td>\n",
       "    </tr>\n",
       "    <tr>\n",
       "      <th>1988</th>\n",
       "      <td>1.687923</td>\n",
       "      <td>-0.003058</td>\n",
       "      <td>492</td>\n",
       "      <td>1</td>\n",
       "    </tr>\n",
       "  </tbody>\n",
       "</table>\n",
       "</div>"
      ],
      "text/plain": [
       "              future_ret      ag_w sic3  const\n",
       "permno  year                                  \n",
       "10001.0 1987    1.163160       NaN  492      1\n",
       "        1988    1.687923 -0.003058  492      1"
      ]
     },
     "execution_count": 21,
     "metadata": {},
     "output_type": "execute_result"
    }
   ],
   "source": [
    "# 3.B\n",
    "print(\"Output for part 3.B:\")\n",
    "\n",
    "data.set_index(['permno','year'],inplace = True)\n",
    "data = data[['future_ret','ag_w','sic3']].copy()\n",
    "data['const'] = 1\n",
    "data.head(2)"
   ]
  },
  {
   "cell_type": "code",
   "execution_count": 22,
   "metadata": {},
   "outputs": [
    {
     "name": "stdout",
     "output_type": "stream",
     "text": [
      "Output for part 4:\n",
      "                            OLS Regression Results                            \n",
      "==============================================================================\n",
      "Dep. Variable:             future_ret   R-squared:                       0.004\n",
      "Model:                            OLS   Adj. R-squared:                  0.004\n",
      "Method:                 Least Squares   F-statistic:                     515.0\n",
      "Date:                Mon, 04 Apr 2022   Prob (F-statistic):          8.59e-114\n",
      "Time:                        12:40:25   Log-Likelihood:            -1.7249e+05\n",
      "No. Observations:              125401   AIC:                         3.450e+05\n",
      "Df Residuals:                  125399   BIC:                         3.450e+05\n",
      "Df Model:                           1                                         \n",
      "Covariance Type:            nonrobust                                         \n",
      "==============================================================================\n",
      "                 coef    std err          t      P>|t|      [0.025      0.975]\n",
      "------------------------------------------------------------------------------\n",
      "const          1.1903      0.003    416.810      0.000       1.185       1.196\n",
      "ag_w          -0.1374      0.006    -22.695      0.000      -0.149      -0.126\n",
      "==============================================================================\n",
      "Omnibus:                   259072.226   Durbin-Watson:                   2.071\n",
      "Prob(Omnibus):                  0.000   Jarque-Bera (JB):       5271391516.606\n",
      "Skew:                          16.824   Prob(JB):                         0.00\n",
      "Kurtosis:                    1006.862   Cond. No.                         2.30\n",
      "==============================================================================\n",
      "\n",
      "Notes:\n",
      "[1] Standard Errors assume that the covariance matrix of the errors is correctly specified.\n"
     ]
    }
   ],
   "source": [
    "# 4\n",
    "print(\"Output for part 4:\")\n",
    "\n",
    "res_simple = sm.OLS(data['future_ret'],\n",
    "                    data[['const','ag_w']],\n",
    "                   missing = 'drop').fit()\n",
    "print(res_simple.summary())"
   ]
  },
  {
   "cell_type": "code",
   "execution_count": 23,
   "metadata": {},
   "outputs": [
    {
     "name": "stdout",
     "output_type": "stream",
     "text": [
      "Output for part 4.A:\n",
      "Question 4.A answer: ...\n"
     ]
    }
   ],
   "source": [
    "# 4.A\n",
    "print(\"Output for part 4.A:\")\n",
    "print(\"Question 4.A answer: ...\")\n",
    "\n",
    "#print(\"Yes, because the p-value of the AG variable is lower than 0.05:\",res_simple.pvalues['ag_w'])"
   ]
  },
  {
   "cell_type": "code",
   "execution_count": 24,
   "metadata": {},
   "outputs": [
    {
     "name": "stdout",
     "output_type": "stream",
     "text": [
      "Output for part 5:\n"
     ]
    },
    {
     "name": "stderr",
     "output_type": "stream",
     "text": [
      "/home/imb/anaconda3/lib/python3.9/site-packages/linearmodels/shared/exceptions.py:37: MissingValueWarning: \n",
      "Inputs contain missing values. Dropping rows with missing observations.\n",
      "  warnings.warn(missing_value_warning_msg, MissingValueWarning)\n"
     ]
    },
    {
     "name": "stdout",
     "output_type": "stream",
     "text": [
      "                          PanelOLS Estimation Summary                           \n",
      "================================================================================\n",
      "Dep. Variable:             future_ret   R-squared:                        0.0036\n",
      "Estimator:                   PanelOLS   R-squared (Between):             -0.0149\n",
      "No. Observations:              125401   R-squared (Within):               0.0072\n",
      "Date:                Mon, Apr 04 2022   R-squared (Overall):              0.0041\n",
      "Time:                        12:40:25   Log-likelihood                -1.678e+05\n",
      "Cov. Estimator:             Clustered                                           \n",
      "                                        F-statistic:                      445.92\n",
      "Entities:                       13205   P-value                           0.0000\n",
      "Avg Obs:                       9.4965   Distribution:                F(1,125091)\n",
      "Min Obs:                       1.0000                                           \n",
      "Max Obs:                       66.000   F-statistic (robust):             33.237\n",
      "                                        P-value                           0.0000\n",
      "Time periods:                      38   Distribution:                F(1,125091)\n",
      "Avg Obs:                       3300.0                                           \n",
      "Min Obs:                       4.0000                                           \n",
      "Max Obs:                       5141.0                                           \n",
      "                                                                                \n",
      "                             Parameter Estimates                              \n",
      "==============================================================================\n",
      "            Parameter  Std. Err.     T-stat    P-value    Lower CI    Upper CI\n",
      "------------------------------------------------------------------------------\n",
      "const          1.1885     0.0031     383.17     0.0000      1.1824      1.1945\n",
      "ag_w          -0.1254     0.0217    -5.7652     0.0000     -0.1680     -0.0827\n",
      "==============================================================================\n",
      "\n",
      "F-test for Poolability: 31.536\n",
      "P-value: 0.0000\n",
      "Distribution: F(308,125091)\n",
      "\n",
      "Included effects: Time, Other Effect (sic3)\n",
      "Model includes 1 other effect\n",
      "Other Effect Observations per group (sic3):\n",
      "Avg Obs: 459.34, Min Obs: 0.0000, Max Obs: 9070.0, Groups: 273\n"
     ]
    }
   ],
   "source": [
    "# 5\n",
    "print(\"Output for part 5:\")\n",
    "\n",
    "mod_robust = PanelOLS(data['future_ret'], \n",
    "                      data[['const','ag_w']], \n",
    "                      time_effects = True, other_effects = data['sic3'])\n",
    "res_robust = mod_robust.fit(cov_type = 'clustered', cluster_entity = True, cluster_time = True)\n",
    "print(res_robust.summary)"
   ]
  },
  {
   "cell_type": "code",
   "execution_count": 25,
   "metadata": {},
   "outputs": [
    {
     "name": "stdout",
     "output_type": "stream",
     "text": [
      "Output for part 5.A:\n",
      "Question 5.A answer: ...\n"
     ]
    }
   ],
   "source": [
    "# 5.A\n",
    "print(\"Output for part 5.A:\")\n",
    "print(\"Question 5.A answer: ...\")\n",
    "\n",
    "#print(\"Yes, because the p-value of the AG variable is lower than 0.05:\",res_robust.pvalues[1])"
   ]
  },
  {
   "cell_type": "markdown",
   "metadata": {},
   "source": [
    "## Problem 3 \n",
    "### (10 x 4 = 40 points)\n",
    "\n",
    "For this problem we will analyze the effect of tresury yields on future unemployment rates.\n",
    "\n",
    "1. Download data on monthly yields on ten-year treasury bonds (``GS10``) and the unemployment rate (``UNRATE``) from the St Louis Fred from 1960 to 2020 (inclusive). Rename ``GS10`` to ``10yrate`` and ``UNRATE`` to ``unemployment``. Plot these two variables on the same plot.\n",
    "2. Create a variable called ``future_unemployment`` which gives us the unemployment rate from 12 months into the future. Create a variable called ``const`` which equals 1 everywhere. Print the first 5 and last 5 rows of this new version of your dataset.\n",
    "3. Print the correlation between ``future_unemployment`` and ``10yrate``, as well as the 12-month autocorrelations of ```future_unemployment`` and ``10yrate``.\n",
    "4. Regress ``future_unemployment`` on ``10yrate`` and a constant (simple regression with no corrections). Print the regression table.\n",
    "5. Run the same regression as in point 4 above, but this time use an HAC covariance estimator with maximum 5 lags. Print the regression table.\n",
    "6. Use an augmented Dickey-Fuller test to test if you can reject the null hypotheses that ``future_employment`` and ``10yrate`` are non-stationary at the 99\\% confidence level.\n",
    "7. Create a new variable called ``unemployment_change`` which equals ``future_unemployment`` minus its value from 12 months prior (i.e. the 12-month difference in ``future_unemployment``). Create a new variable called ``10yrate_change`` which equals ``10yrate`` minus its value from 12 months prior. Plot these variables on the same graph.\n",
    "8. Use an augmented Dickey-Fuller test to test if you can reject the null hypotheses that ``unemployment_change`` and ``10yrate_change`` are non-stationary at the 99\\% confidence level.\n",
    "9. Regress ``unemployment_change`` on ``10y_rate`` and a constant. Use an HAC covariance estimator with maximum 5 lags. Print the regression table.\n",
    "10. Based on the tests you performed above, do you conclude that treasury yields are a statistically significant predictor of future unemployment at the 99\\% confidence level?"
   ]
  },
  {
   "cell_type": "code",
   "execution_count": null,
   "metadata": {},
   "outputs": [
    {
     "name": "stdout",
     "output_type": "stream",
     "text": [
      "Output for part 1:\n"
     ]
    }
   ],
   "source": [
    "# 1\n",
    "print(\"Output for part 1:\")\n",
    "\n",
    "df = pdr.DataReader(['UNRATE','GS10'],'fred', '1960-01-01','2020-12-31')\n",
    "df.rename(columns = {'UNRATE': 'unemployment', 'GS10': '10yrate'}, inplace = True)\n",
    "df.plot();"
   ]
  },
  {
   "cell_type": "code",
   "execution_count": null,
   "metadata": {},
   "outputs": [],
   "source": [
    "# 2\n",
    "print(\"Output for part 2:\")\n",
    "\n",
    "df.sort_index(inplace = True)\n",
    "df['future_unemployment'] = df['unemployment'].shift(-12)\n",
    "df['const'] = 1\n",
    "df"
   ]
  },
  {
   "cell_type": "code",
   "execution_count": null,
   "metadata": {},
   "outputs": [],
   "source": [
    "# 3\n",
    "print(\"Output for part 3:\")\n",
    "\n",
    "print(\"Correlation between 10-year rate and future unemployment = \",\n",
    "      df.corr().loc['future_unemployment','10yrate'])\n",
    "\n",
    "print(\"12-month autocorrelation in future unemployment = \",\n",
    "      df['future_unemployment'].autocorr(12))\n",
    "\n",
    "print(\"12-month autocorrelation in 10-year rate = \", df['10yrate'].autocorr(12))"
   ]
  },
  {
   "cell_type": "code",
   "execution_count": null,
   "metadata": {},
   "outputs": [],
   "source": [
    "# 4\n",
    "print(\"Output for part 4:\")\n",
    "\n",
    "res = sm.OLS(df['future_unemployment'],\n",
    "            df[['const','10yrate']],\n",
    "            missing = 'drop').fit()\n",
    "print(res.summary())"
   ]
  },
  {
   "cell_type": "code",
   "execution_count": null,
   "metadata": {},
   "outputs": [],
   "source": [
    "# 5\n",
    "print(\"Output for part 5:\")\n",
    "\n",
    "res_robust = res.get_robustcov_results(cov_type = \"HAC\", maxlags = 5)\n",
    "print(res_robust.summary())"
   ]
  },
  {
   "cell_type": "code",
   "execution_count": null,
   "metadata": {},
   "outputs": [],
   "source": [
    "# 6\n",
    "print(\"Output for part 6:\")\n",
    "\n",
    "future_unemployment_adf = st.adfuller(df['future_unemployment'].dropna())\n",
    "print(\"P-value on ADF test for future unemloyment = \", future_unemployment_adf[1])\n",
    "\n",
    "rate_adf = st.adfuller(df['10yrate'].dropna())\n",
    "print(\"P-value on ADF test for 10-year rate = \", rate_adf[1])"
   ]
  },
  {
   "cell_type": "code",
   "execution_count": null,
   "metadata": {},
   "outputs": [],
   "source": [
    "print(\"Part 6 answer: ... \")\n",
    "#print(\"Both of the p-values above are higher than 1%, so we can not reject non-stationarity for either variable.\")"
   ]
  },
  {
   "cell_type": "code",
   "execution_count": null,
   "metadata": {},
   "outputs": [],
   "source": [
    "# 7\n",
    "print(\"Output for part 7:\")\n",
    "\n",
    "df.sort_index(inplace=True)\n",
    "df['unemployment_change'] = df['future_unemployment'].diff(12)\n",
    "df['10yrate_change'] = df['10yrate'].diff(12)\n",
    "df[['unemployment_change','10yrate_change']].plot();"
   ]
  },
  {
   "cell_type": "code",
   "execution_count": null,
   "metadata": {},
   "outputs": [],
   "source": [
    "# 8\n",
    "print(\"Output for part 8:\")\n",
    "\n",
    "change_unemployment_adf = st.adfuller(df['unemployment_change'].dropna())\n",
    "print(\"P-value on ADF test for unemployment change = \", change_unemployment_adf[1])\n",
    "\n",
    "change_rate_adf = st.adfuller(df['10yrate_change'].dropna())\n",
    "print(\"P-value on ADF test for 10-year rate change = \", change_rate_adf[1])"
   ]
  },
  {
   "cell_type": "code",
   "execution_count": null,
   "metadata": {},
   "outputs": [],
   "source": [
    "print(\"Part 8 answer: ... \")\n",
    "#print(\"Both of the p-values above are lower than 1%, so we can reject non-stationarity for both variables.\")"
   ]
  },
  {
   "cell_type": "code",
   "execution_count": null,
   "metadata": {},
   "outputs": [],
   "source": [
    "# 9\n",
    "print(\"Output for part 9:\")\n",
    "\n",
    "res_adf = sm.OLS(df['unemployment_change'],\n",
    "            df[['const','10yrate_change']],\n",
    "            missing = 'drop').fit()\n",
    "res_robust_adf = res_adf.get_robustcov_results(cov_type = \"HAC\", maxlags = 5)\n",
    "print(res_robust_adf.summary())"
   ]
  },
  {
   "cell_type": "code",
   "execution_count": null,
   "metadata": {},
   "outputs": [],
   "source": [
    "# 10\n",
    "print(\"Output for part 10:\")\n",
    "print(\"Part 10 answer: ... \")\n",
    "\n",
    "#print(\"\"\"Because the levels regression suffers from non-stationarity, and the differenced regression does not,\n",
    "#      we need to draw our conclusion based on the last regression. There, the p-value for the treasury rate is not \n",
    "#      lower than 1%, so we can not conclude that the rate has significant explanatory power over future unemployment.\"\"\") "
   ]
  }
 ],
 "metadata": {
  "kernelspec": {
   "display_name": "Python 3",
   "language": "python",
   "name": "python3"
  },
  "language_info": {
   "codemirror_mode": {
    "name": "ipython",
    "version": 3
   },
   "file_extension": ".py",
   "mimetype": "text/x-python",
   "name": "python",
   "nbconvert_exporter": "python",
   "pygments_lexer": "ipython3",
   "version": "3.9.7"
  },
  "toc": {
   "base_numbering": 1,
   "nav_menu": {},
   "number_sections": false,
   "sideBar": true,
   "skip_h1_title": false,
   "title_cell": "Table of Contents",
   "title_sidebar": "Contents",
   "toc_cell": false,
   "toc_position": {},
   "toc_section_display": true,
   "toc_window_display": false
  }
 },
 "nbformat": 4,
 "nbformat_minor": 4
}
