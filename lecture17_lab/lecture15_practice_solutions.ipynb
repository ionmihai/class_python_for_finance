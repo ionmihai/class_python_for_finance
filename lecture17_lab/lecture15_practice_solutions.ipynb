{
 "cells": [
  {
   "cell_type": "markdown",
   "id": "4df968af",
   "metadata": {},
   "source": [
    "Run the cells below:"
   ]
  },
  {
   "cell_type": "code",
   "execution_count": 1,
   "id": "c532c52f",
   "metadata": {},
   "outputs": [],
   "source": [
    "import pandas as pd\n",
    "import numpy as np\n",
    "import pandas_datareader as pdr"
   ]
  },
  {
   "cell_type": "code",
   "execution_count": 2,
   "id": "fab07143",
   "metadata": {},
   "outputs": [
    {
     "data": {
      "text/html": [
       "<div>\n",
       "<style scoped>\n",
       "    .dataframe tbody tr th:only-of-type {\n",
       "        vertical-align: middle;\n",
       "    }\n",
       "\n",
       "    .dataframe tbody tr th {\n",
       "        vertical-align: top;\n",
       "    }\n",
       "\n",
       "    .dataframe thead tr th {\n",
       "        text-align: left;\n",
       "    }\n",
       "\n",
       "    .dataframe thead tr:last-of-type th {\n",
       "        text-align: right;\n",
       "    }\n",
       "</style>\n",
       "<table border=\"1\" class=\"dataframe\">\n",
       "  <thead>\n",
       "    <tr>\n",
       "      <th>Size</th>\n",
       "      <th colspan=\"3\" halign=\"left\">Small</th>\n",
       "      <th colspan=\"3\" halign=\"left\">Big</th>\n",
       "    </tr>\n",
       "    <tr>\n",
       "      <th>BM</th>\n",
       "      <th>lowBM</th>\n",
       "      <th>medBM</th>\n",
       "      <th>highBM</th>\n",
       "      <th>lowBM</th>\n",
       "      <th>medBM</th>\n",
       "      <th>highBM</th>\n",
       "    </tr>\n",
       "    <tr>\n",
       "      <th>Date</th>\n",
       "      <th></th>\n",
       "      <th></th>\n",
       "      <th></th>\n",
       "      <th></th>\n",
       "      <th></th>\n",
       "      <th></th>\n",
       "    </tr>\n",
       "  </thead>\n",
       "  <tbody>\n",
       "    <tr>\n",
       "      <th>2011</th>\n",
       "      <td>-0.061680</td>\n",
       "      <td>-0.046385</td>\n",
       "      <td>-0.081817</td>\n",
       "      <td>0.042122</td>\n",
       "      <td>0.050152</td>\n",
       "      <td>-0.108594</td>\n",
       "    </tr>\n",
       "    <tr>\n",
       "      <th>2012</th>\n",
       "      <td>0.148000</td>\n",
       "      <td>0.173728</td>\n",
       "      <td>0.211698</td>\n",
       "      <td>0.152935</td>\n",
       "      <td>0.133936</td>\n",
       "      <td>0.286275</td>\n",
       "    </tr>\n",
       "    <tr>\n",
       "      <th>2013</th>\n",
       "      <td>0.445860</td>\n",
       "      <td>0.422425</td>\n",
       "      <td>0.424361</td>\n",
       "      <td>0.330265</td>\n",
       "      <td>0.328741</td>\n",
       "      <td>0.404713</td>\n",
       "    </tr>\n",
       "    <tr>\n",
       "      <th>2014</th>\n",
       "      <td>0.047282</td>\n",
       "      <td>0.046150</td>\n",
       "      <td>0.038384</td>\n",
       "      <td>0.136324</td>\n",
       "      <td>0.113643</td>\n",
       "      <td>0.115993</td>\n",
       "    </tr>\n",
       "    <tr>\n",
       "      <th>2015</th>\n",
       "      <td>-0.028641</td>\n",
       "      <td>-0.030908</td>\n",
       "      <td>-0.097172</td>\n",
       "      <td>0.043370</td>\n",
       "      <td>-0.003420</td>\n",
       "      <td>-0.078721</td>\n",
       "    </tr>\n",
       "    <tr>\n",
       "      <th>2016</th>\n",
       "      <td>0.082497</td>\n",
       "      <td>0.234802</td>\n",
       "      <td>0.365866</td>\n",
       "      <td>0.089963</td>\n",
       "      <td>0.134866</td>\n",
       "      <td>0.259403</td>\n",
       "    </tr>\n",
       "    <tr>\n",
       "      <th>2017</th>\n",
       "      <td>0.253839</td>\n",
       "      <td>0.134554</td>\n",
       "      <td>0.093498</td>\n",
       "      <td>0.291184</td>\n",
       "      <td>0.157087</td>\n",
       "      <td>0.182019</td>\n",
       "    </tr>\n",
       "    <tr>\n",
       "      <th>2018</th>\n",
       "      <td>-0.076285</td>\n",
       "      <td>-0.109226</td>\n",
       "      <td>-0.129023</td>\n",
       "      <td>-0.001631</td>\n",
       "      <td>-0.067676</td>\n",
       "      <td>-0.144950</td>\n",
       "    </tr>\n",
       "    <tr>\n",
       "      <th>2019</th>\n",
       "      <td>0.298197</td>\n",
       "      <td>0.257710</td>\n",
       "      <td>0.151064</td>\n",
       "      <td>0.338510</td>\n",
       "      <td>0.274286</td>\n",
       "      <td>0.275972</td>\n",
       "    </tr>\n",
       "    <tr>\n",
       "      <th>2020</th>\n",
       "      <td>0.574508</td>\n",
       "      <td>0.115714</td>\n",
       "      <td>0.036091</td>\n",
       "      <td>0.362439</td>\n",
       "      <td>0.008197</td>\n",
       "      <td>-0.031121</td>\n",
       "    </tr>\n",
       "  </tbody>\n",
       "</table>\n",
       "</div>"
      ],
      "text/plain": [
       "Size     Small                           Big                    \n",
       "BM       lowBM     medBM    highBM     lowBM     medBM    highBM\n",
       "Date                                                            \n",
       "2011 -0.061680 -0.046385 -0.081817  0.042122  0.050152 -0.108594\n",
       "2012  0.148000  0.173728  0.211698  0.152935  0.133936  0.286275\n",
       "2013  0.445860  0.422425  0.424361  0.330265  0.328741  0.404713\n",
       "2014  0.047282  0.046150  0.038384  0.136324  0.113643  0.115993\n",
       "2015 -0.028641 -0.030908 -0.097172  0.043370 -0.003420 -0.078721\n",
       "2016  0.082497  0.234802  0.365866  0.089963  0.134866  0.259403\n",
       "2017  0.253839  0.134554  0.093498  0.291184  0.157087  0.182019\n",
       "2018 -0.076285 -0.109226 -0.129023 -0.001631 -0.067676 -0.144950\n",
       "2019  0.298197  0.257710  0.151064  0.338510  0.274286  0.275972\n",
       "2020  0.574508  0.115714  0.036091  0.362439  0.008197 -0.031121"
      ]
     },
     "execution_count": 2,
     "metadata": {},
     "output_type": "execute_result"
    }
   ],
   "source": [
    "#Load data on 6 size x bm portfolios (annual VW returns)\n",
    "raw = pdr.DataReader(name = '6_Portfolios_2x3', data_source = 'famafrench', \n",
    "                     start = '2011-01-01', end = '2020-12-31')[2]/100\n",
    "\n",
    "#Rename the columns\n",
    "raw.columns = pd.MultiIndex.from_product([['Small','Big'], ['lowBM','medBM','highBM']], names = ['Size','BM'])\n",
    "raw"
   ]
  },
  {
   "cell_type": "code",
   "execution_count": 3,
   "id": "86c9af27",
   "metadata": {},
   "outputs": [
    {
     "data": {
      "text/html": [
       "<div>\n",
       "<style scoped>\n",
       "    .dataframe tbody tr th:only-of-type {\n",
       "        vertical-align: middle;\n",
       "    }\n",
       "\n",
       "    .dataframe tbody tr th {\n",
       "        vertical-align: top;\n",
       "    }\n",
       "\n",
       "    .dataframe thead th {\n",
       "        text-align: right;\n",
       "    }\n",
       "</style>\n",
       "<table border=\"1\" class=\"dataframe\">\n",
       "  <thead>\n",
       "    <tr style=\"text-align: right;\">\n",
       "      <th>Size</th>\n",
       "      <th>Date</th>\n",
       "      <th>BM</th>\n",
       "      <th>Big</th>\n",
       "      <th>Small</th>\n",
       "    </tr>\n",
       "  </thead>\n",
       "  <tbody>\n",
       "    <tr>\n",
       "      <th>0</th>\n",
       "      <td>2011</td>\n",
       "      <td>highBM</td>\n",
       "      <td>-0.108594</td>\n",
       "      <td>-0.081817</td>\n",
       "    </tr>\n",
       "    <tr>\n",
       "      <th>1</th>\n",
       "      <td>2011</td>\n",
       "      <td>lowBM</td>\n",
       "      <td>0.042122</td>\n",
       "      <td>-0.061680</td>\n",
       "    </tr>\n",
       "    <tr>\n",
       "      <th>2</th>\n",
       "      <td>2011</td>\n",
       "      <td>medBM</td>\n",
       "      <td>0.050152</td>\n",
       "      <td>-0.046385</td>\n",
       "    </tr>\n",
       "    <tr>\n",
       "      <th>3</th>\n",
       "      <td>2012</td>\n",
       "      <td>highBM</td>\n",
       "      <td>0.286275</td>\n",
       "      <td>0.211698</td>\n",
       "    </tr>\n",
       "    <tr>\n",
       "      <th>4</th>\n",
       "      <td>2012</td>\n",
       "      <td>lowBM</td>\n",
       "      <td>0.152935</td>\n",
       "      <td>0.148000</td>\n",
       "    </tr>\n",
       "    <tr>\n",
       "      <th>5</th>\n",
       "      <td>2012</td>\n",
       "      <td>medBM</td>\n",
       "      <td>0.133936</td>\n",
       "      <td>0.173728</td>\n",
       "    </tr>\n",
       "  </tbody>\n",
       "</table>\n",
       "</div>"
      ],
      "text/plain": [
       "Size  Date      BM       Big     Small\n",
       "0     2011  highBM -0.108594 -0.081817\n",
       "1     2011   lowBM  0.042122 -0.061680\n",
       "2     2011   medBM  0.050152 -0.046385\n",
       "3     2012  highBM  0.286275  0.211698\n",
       "4     2012   lowBM  0.152935  0.148000\n",
       "5     2012   medBM  0.133936  0.173728"
      ]
     },
     "execution_count": 3,
     "metadata": {},
     "output_type": "execute_result"
    }
   ],
   "source": [
    "#Stack BM portfolios on top of each other\n",
    "bmstack = raw.stack(level=1).reset_index()\n",
    "bmstack.head(6)"
   ]
  },
  {
   "cell_type": "code",
   "execution_count": 4,
   "id": "e36054b9",
   "metadata": {},
   "outputs": [
    {
     "data": {
      "text/html": [
       "<div>\n",
       "<style scoped>\n",
       "    .dataframe tbody tr th:only-of-type {\n",
       "        vertical-align: middle;\n",
       "    }\n",
       "\n",
       "    .dataframe tbody tr th {\n",
       "        vertical-align: top;\n",
       "    }\n",
       "\n",
       "    .dataframe thead th {\n",
       "        text-align: right;\n",
       "    }\n",
       "</style>\n",
       "<table border=\"1\" class=\"dataframe\">\n",
       "  <thead>\n",
       "    <tr style=\"text-align: right;\">\n",
       "      <th>BM</th>\n",
       "      <th>Date</th>\n",
       "      <th>Size</th>\n",
       "      <th>highBM</th>\n",
       "      <th>lowBM</th>\n",
       "      <th>medBM</th>\n",
       "    </tr>\n",
       "  </thead>\n",
       "  <tbody>\n",
       "    <tr>\n",
       "      <th>0</th>\n",
       "      <td>2011</td>\n",
       "      <td>Big</td>\n",
       "      <td>-0.108594</td>\n",
       "      <td>0.042122</td>\n",
       "      <td>0.050152</td>\n",
       "    </tr>\n",
       "    <tr>\n",
       "      <th>1</th>\n",
       "      <td>2011</td>\n",
       "      <td>Small</td>\n",
       "      <td>-0.081817</td>\n",
       "      <td>-0.061680</td>\n",
       "      <td>-0.046385</td>\n",
       "    </tr>\n",
       "    <tr>\n",
       "      <th>2</th>\n",
       "      <td>2012</td>\n",
       "      <td>Big</td>\n",
       "      <td>0.286275</td>\n",
       "      <td>0.152935</td>\n",
       "      <td>0.133936</td>\n",
       "    </tr>\n",
       "    <tr>\n",
       "      <th>3</th>\n",
       "      <td>2012</td>\n",
       "      <td>Small</td>\n",
       "      <td>0.211698</td>\n",
       "      <td>0.148000</td>\n",
       "      <td>0.173728</td>\n",
       "    </tr>\n",
       "    <tr>\n",
       "      <th>4</th>\n",
       "      <td>2013</td>\n",
       "      <td>Big</td>\n",
       "      <td>0.404713</td>\n",
       "      <td>0.330265</td>\n",
       "      <td>0.328741</td>\n",
       "    </tr>\n",
       "    <tr>\n",
       "      <th>5</th>\n",
       "      <td>2013</td>\n",
       "      <td>Small</td>\n",
       "      <td>0.424361</td>\n",
       "      <td>0.445860</td>\n",
       "      <td>0.422425</td>\n",
       "    </tr>\n",
       "  </tbody>\n",
       "</table>\n",
       "</div>"
      ],
      "text/plain": [
       "BM  Date   Size    highBM     lowBM     medBM\n",
       "0   2011    Big -0.108594  0.042122  0.050152\n",
       "1   2011  Small -0.081817 -0.061680 -0.046385\n",
       "2   2012    Big  0.286275  0.152935  0.133936\n",
       "3   2012  Small  0.211698  0.148000  0.173728\n",
       "4   2013    Big  0.404713  0.330265  0.328741\n",
       "5   2013  Small  0.424361  0.445860  0.422425"
      ]
     },
     "execution_count": 4,
     "metadata": {},
     "output_type": "execute_result"
    }
   ],
   "source": [
    "#Stack Size portfolios on top of each other\n",
    "szstack = raw.stack(level=0).reset_index()\n",
    "szstack.head(6)"
   ]
  },
  {
   "cell_type": "code",
   "execution_count": 5,
   "id": "c942a772",
   "metadata": {},
   "outputs": [
    {
     "data": {
      "text/html": [
       "<div>\n",
       "<style scoped>\n",
       "    .dataframe tbody tr th:only-of-type {\n",
       "        vertical-align: middle;\n",
       "    }\n",
       "\n",
       "    .dataframe tbody tr th {\n",
       "        vertical-align: top;\n",
       "    }\n",
       "\n",
       "    .dataframe thead th {\n",
       "        text-align: right;\n",
       "    }\n",
       "</style>\n",
       "<table border=\"1\" class=\"dataframe\">\n",
       "  <thead>\n",
       "    <tr style=\"text-align: right;\">\n",
       "      <th></th>\n",
       "      <th>Date</th>\n",
       "      <th>Size</th>\n",
       "      <th>BM</th>\n",
       "      <th>vwret</th>\n",
       "    </tr>\n",
       "  </thead>\n",
       "  <tbody>\n",
       "    <tr>\n",
       "      <th>0</th>\n",
       "      <td>2011</td>\n",
       "      <td>Big</td>\n",
       "      <td>highBM</td>\n",
       "      <td>-0.108594</td>\n",
       "    </tr>\n",
       "    <tr>\n",
       "      <th>1</th>\n",
       "      <td>2011</td>\n",
       "      <td>Big</td>\n",
       "      <td>lowBM</td>\n",
       "      <td>0.042122</td>\n",
       "    </tr>\n",
       "    <tr>\n",
       "      <th>2</th>\n",
       "      <td>2011</td>\n",
       "      <td>Big</td>\n",
       "      <td>medBM</td>\n",
       "      <td>0.050152</td>\n",
       "    </tr>\n",
       "    <tr>\n",
       "      <th>3</th>\n",
       "      <td>2011</td>\n",
       "      <td>Small</td>\n",
       "      <td>highBM</td>\n",
       "      <td>-0.081817</td>\n",
       "    </tr>\n",
       "    <tr>\n",
       "      <th>4</th>\n",
       "      <td>2011</td>\n",
       "      <td>Small</td>\n",
       "      <td>lowBM</td>\n",
       "      <td>-0.061680</td>\n",
       "    </tr>\n",
       "    <tr>\n",
       "      <th>5</th>\n",
       "      <td>2011</td>\n",
       "      <td>Small</td>\n",
       "      <td>medBM</td>\n",
       "      <td>-0.046385</td>\n",
       "    </tr>\n",
       "  </tbody>\n",
       "</table>\n",
       "</div>"
      ],
      "text/plain": [
       "   Date   Size      BM     vwret\n",
       "0  2011    Big  highBM -0.108594\n",
       "1  2011    Big   lowBM  0.042122\n",
       "2  2011    Big   medBM  0.050152\n",
       "3  2011  Small  highBM -0.081817\n",
       "4  2011  Small   lowBM -0.061680\n",
       "5  2011  Small   medBM -0.046385"
      ]
     },
     "execution_count": 5,
     "metadata": {},
     "output_type": "execute_result"
    }
   ],
   "source": [
    "#Full stack\n",
    "fullstack = raw.stack(level = [0,1]).reset_index().rename(columns = {0:'vwret'})\n",
    "fullstack.head(6)"
   ]
  },
  {
   "cell_type": "markdown",
   "id": "686dde2b",
   "metadata": {},
   "source": [
    "You can use any of the dataframes above to answer any of the questions below. You will notice that, generally, each question is much easier to answer using one of these dataframes rather than the rest. "
   ]
  },
  {
   "cell_type": "markdown",
   "id": "3f2e2af7",
   "metadata": {},
   "source": [
    "Plot the time-series of returns of each of the three \"Big\" portfolios (in a single plot)."
   ]
  },
  {
   "cell_type": "code",
   "execution_count": 6,
   "id": "6b0b0d85",
   "metadata": {},
   "outputs": [
    {
     "data": {
      "image/png": "[encoded data removed]",
      "text/plain": [
       "<Figure size 432x288 with 1 Axes>"
      ]
     },
     "metadata": {
      "needs_background": "light"
     },
     "output_type": "display_data"
    }
   ],
   "source": [
    "raw['Big'].plot();"
   ]
  },
  {
   "cell_type": "markdown",
   "id": "5c95e65b",
   "metadata": {},
   "source": [
    "Create a table which contains the average returns of each of the 6 portfolios in the dataset (3 small and 3 big). This should be a 3 x 2 table. Which of the 6 portfolios has had the best performance over these last 10 years?"
   ]
  },
  {
   "cell_type": "code",
   "execution_count": 7,
   "id": "d3645b99",
   "metadata": {},
   "outputs": [
    {
     "data": {
      "text/html": [
       "<div>\n",
       "<style scoped>\n",
       "    .dataframe tbody tr th:only-of-type {\n",
       "        vertical-align: middle;\n",
       "    }\n",
       "\n",
       "    .dataframe tbody tr th {\n",
       "        vertical-align: top;\n",
       "    }\n",
       "\n",
       "    .dataframe thead th {\n",
       "        text-align: right;\n",
       "    }\n",
       "</style>\n",
       "<table border=\"1\" class=\"dataframe\">\n",
       "  <thead>\n",
       "    <tr style=\"text-align: right;\">\n",
       "      <th>Size</th>\n",
       "      <th>Big</th>\n",
       "      <th>Small</th>\n",
       "    </tr>\n",
       "    <tr>\n",
       "      <th>BM</th>\n",
       "      <th></th>\n",
       "      <th></th>\n",
       "    </tr>\n",
       "  </thead>\n",
       "  <tbody>\n",
       "    <tr>\n",
       "      <th>highBM</th>\n",
       "      <td>0.116099</td>\n",
       "      <td>0.101295</td>\n",
       "    </tr>\n",
       "    <tr>\n",
       "      <th>lowBM</th>\n",
       "      <td>0.178548</td>\n",
       "      <td>0.168358</td>\n",
       "    </tr>\n",
       "    <tr>\n",
       "      <th>medBM</th>\n",
       "      <td>0.112981</td>\n",
       "      <td>0.119856</td>\n",
       "    </tr>\n",
       "  </tbody>\n",
       "</table>\n",
       "</div>"
      ],
      "text/plain": [
       "Size         Big     Small\n",
       "BM                        \n",
       "highBM  0.116099  0.101295\n",
       "lowBM   0.178548  0.168358\n",
       "medBM   0.112981  0.119856"
      ]
     },
     "execution_count": 7,
     "metadata": {},
     "output_type": "execute_result"
    }
   ],
   "source": [
    "bmstack.groupby('BM').mean()"
   ]
  },
  {
   "cell_type": "markdown",
   "id": "237cde93",
   "metadata": {},
   "source": [
    "Now create an analogous table that contains standard deviations of returns for each of the 6 portfolios. Does the risk-return tradeoff seem to apply?"
   ]
  },
  {
   "cell_type": "code",
   "execution_count": 8,
   "id": "4585e9e2",
   "metadata": {},
   "outputs": [
    {
     "data": {
      "text/html": [
       "<div>\n",
       "<style scoped>\n",
       "    .dataframe tbody tr th:only-of-type {\n",
       "        vertical-align: middle;\n",
       "    }\n",
       "\n",
       "    .dataframe tbody tr th {\n",
       "        vertical-align: top;\n",
       "    }\n",
       "\n",
       "    .dataframe thead th {\n",
       "        text-align: right;\n",
       "    }\n",
       "</style>\n",
       "<table border=\"1\" class=\"dataframe\">\n",
       "  <thead>\n",
       "    <tr style=\"text-align: right;\">\n",
       "      <th>Size</th>\n",
       "      <th>Big</th>\n",
       "      <th>Small</th>\n",
       "    </tr>\n",
       "    <tr>\n",
       "      <th>BM</th>\n",
       "      <th></th>\n",
       "      <th></th>\n",
       "    </tr>\n",
       "  </thead>\n",
       "  <tbody>\n",
       "    <tr>\n",
       "      <th>highBM</th>\n",
       "      <td>0.194640</td>\n",
       "      <td>0.189523</td>\n",
       "    </tr>\n",
       "    <tr>\n",
       "      <th>lowBM</th>\n",
       "      <td>0.139341</td>\n",
       "      <td>0.221147</td>\n",
       "    </tr>\n",
       "    <tr>\n",
       "      <th>medBM</th>\n",
       "      <td>0.123175</td>\n",
       "      <td>0.161650</td>\n",
       "    </tr>\n",
       "  </tbody>\n",
       "</table>\n",
       "</div>"
      ],
      "text/plain": [
       "Size         Big     Small\n",
       "BM                        \n",
       "highBM  0.194640  0.189523\n",
       "lowBM   0.139341  0.221147\n",
       "medBM   0.123175  0.161650"
      ]
     },
     "execution_count": 8,
     "metadata": {},
     "output_type": "execute_result"
    }
   ],
   "source": [
    "bmstack.groupby('BM').std()"
   ]
  },
  {
   "cell_type": "markdown",
   "id": "c7b49a3a",
   "metadata": {},
   "source": [
    "Each year, calculate the average returns of the 3 \"small\" portfolios and the 3 \"big\" portfolios. Then plot these annual averages in the same plot: one for the \"small\" portolios and one for the \"big\" portfolios."
   ]
  },
  {
   "cell_type": "code",
   "execution_count": 9,
   "id": "40f1977d",
   "metadata": {},
   "outputs": [
    {
     "data": {
      "image/png": "[encoded data removed]",
      "text/plain": [
       "<Figure size 432x288 with 1 Axes>"
      ]
     },
     "metadata": {
      "needs_background": "light"
     },
     "output_type": "display_data"
    }
   ],
   "source": [
    "bmstack.groupby('Date').mean().plot();"
   ]
  },
  {
   "cell_type": "markdown",
   "id": "0c92c0ea",
   "metadata": {},
   "source": [
    "Each year, calculate the average return of the two \"lowBM\" portfolios (the \"Small\" one and the \"Big\" one), the average return of the two \"medBM\" portfolios, and the average return of the two \"highBM\" portfolios. Plot these 3 time-series of average returns in the same plot. "
   ]
  },
  {
   "cell_type": "code",
   "execution_count": 10,
   "id": "1d8aa036",
   "metadata": {},
   "outputs": [
    {
     "data": {
      "image/png": "[encoded data removed]",
      "text/plain": [
       "<Figure size 432x288 with 1 Axes>"
      ]
     },
     "metadata": {
      "needs_background": "light"
     },
     "output_type": "display_data"
    }
   ],
   "source": [
    "szstack.groupby('Date').mean().plot();"
   ]
  },
  {
   "cell_type": "markdown",
   "id": "c4501fda",
   "metadata": {},
   "source": [
    "Add a column to the ``fullstack`` dataframe (call it \"maxret\") that, for each year, gives us the maximum return among the returns of the 6 portfolios that year (i.e. this value will be the same for all the 6 rows corresponding to that year). Display the first 12 rows of this new version of ``fullstack``."
   ]
  },
  {
   "cell_type": "code",
   "execution_count": 11,
   "id": "fd4fcfb7",
   "metadata": {},
   "outputs": [
    {
     "data": {
      "text/html": [
       "<div>\n",
       "<style scoped>\n",
       "    .dataframe tbody tr th:only-of-type {\n",
       "        vertical-align: middle;\n",
       "    }\n",
       "\n",
       "    .dataframe tbody tr th {\n",
       "        vertical-align: top;\n",
       "    }\n",
       "\n",
       "    .dataframe thead th {\n",
       "        text-align: right;\n",
       "    }\n",
       "</style>\n",
       "<table border=\"1\" class=\"dataframe\">\n",
       "  <thead>\n",
       "    <tr style=\"text-align: right;\">\n",
       "      <th></th>\n",
       "      <th>Date</th>\n",
       "      <th>Size</th>\n",
       "      <th>BM</th>\n",
       "      <th>vwret</th>\n",
       "      <th>maxret</th>\n",
       "    </tr>\n",
       "  </thead>\n",
       "  <tbody>\n",
       "    <tr>\n",
       "      <th>0</th>\n",
       "      <td>2011</td>\n",
       "      <td>Big</td>\n",
       "      <td>highBM</td>\n",
       "      <td>-0.108594</td>\n",
       "      <td>0.050152</td>\n",
       "    </tr>\n",
       "    <tr>\n",
       "      <th>1</th>\n",
       "      <td>2011</td>\n",
       "      <td>Big</td>\n",
       "      <td>lowBM</td>\n",
       "      <td>0.042122</td>\n",
       "      <td>0.050152</td>\n",
       "    </tr>\n",
       "    <tr>\n",
       "      <th>2</th>\n",
       "      <td>2011</td>\n",
       "      <td>Big</td>\n",
       "      <td>medBM</td>\n",
       "      <td>0.050152</td>\n",
       "      <td>0.050152</td>\n",
       "    </tr>\n",
       "    <tr>\n",
       "      <th>3</th>\n",
       "      <td>2011</td>\n",
       "      <td>Small</td>\n",
       "      <td>highBM</td>\n",
       "      <td>-0.081817</td>\n",
       "      <td>0.050152</td>\n",
       "    </tr>\n",
       "    <tr>\n",
       "      <th>4</th>\n",
       "      <td>2011</td>\n",
       "      <td>Small</td>\n",
       "      <td>lowBM</td>\n",
       "      <td>-0.061680</td>\n",
       "      <td>0.050152</td>\n",
       "    </tr>\n",
       "    <tr>\n",
       "      <th>5</th>\n",
       "      <td>2011</td>\n",
       "      <td>Small</td>\n",
       "      <td>medBM</td>\n",
       "      <td>-0.046385</td>\n",
       "      <td>0.050152</td>\n",
       "    </tr>\n",
       "    <tr>\n",
       "      <th>6</th>\n",
       "      <td>2012</td>\n",
       "      <td>Big</td>\n",
       "      <td>highBM</td>\n",
       "      <td>0.286275</td>\n",
       "      <td>0.286275</td>\n",
       "    </tr>\n",
       "    <tr>\n",
       "      <th>7</th>\n",
       "      <td>2012</td>\n",
       "      <td>Big</td>\n",
       "      <td>lowBM</td>\n",
       "      <td>0.152935</td>\n",
       "      <td>0.286275</td>\n",
       "    </tr>\n",
       "    <tr>\n",
       "      <th>8</th>\n",
       "      <td>2012</td>\n",
       "      <td>Big</td>\n",
       "      <td>medBM</td>\n",
       "      <td>0.133936</td>\n",
       "      <td>0.286275</td>\n",
       "    </tr>\n",
       "    <tr>\n",
       "      <th>9</th>\n",
       "      <td>2012</td>\n",
       "      <td>Small</td>\n",
       "      <td>highBM</td>\n",
       "      <td>0.211698</td>\n",
       "      <td>0.286275</td>\n",
       "    </tr>\n",
       "    <tr>\n",
       "      <th>10</th>\n",
       "      <td>2012</td>\n",
       "      <td>Small</td>\n",
       "      <td>lowBM</td>\n",
       "      <td>0.148000</td>\n",
       "      <td>0.286275</td>\n",
       "    </tr>\n",
       "    <tr>\n",
       "      <th>11</th>\n",
       "      <td>2012</td>\n",
       "      <td>Small</td>\n",
       "      <td>medBM</td>\n",
       "      <td>0.173728</td>\n",
       "      <td>0.286275</td>\n",
       "    </tr>\n",
       "  </tbody>\n",
       "</table>\n",
       "</div>"
      ],
      "text/plain": [
       "    Date   Size      BM     vwret    maxret\n",
       "0   2011    Big  highBM -0.108594  0.050152\n",
       "1   2011    Big   lowBM  0.042122  0.050152\n",
       "2   2011    Big   medBM  0.050152  0.050152\n",
       "3   2011  Small  highBM -0.081817  0.050152\n",
       "4   2011  Small   lowBM -0.061680  0.050152\n",
       "5   2011  Small   medBM -0.046385  0.050152\n",
       "6   2012    Big  highBM  0.286275  0.286275\n",
       "7   2012    Big   lowBM  0.152935  0.286275\n",
       "8   2012    Big   medBM  0.133936  0.286275\n",
       "9   2012  Small  highBM  0.211698  0.286275\n",
       "10  2012  Small   lowBM  0.148000  0.286275\n",
       "11  2012  Small   medBM  0.173728  0.286275"
      ]
     },
     "execution_count": 11,
     "metadata": {},
     "output_type": "execute_result"
    }
   ],
   "source": [
    "fullstack['maxret'] = fullstack.groupby('Date')['vwret'].transform('max')\n",
    "fullstack.head(12)"
   ]
  },
  {
   "cell_type": "markdown",
   "id": "2c1f4db8",
   "metadata": {},
   "source": [
    "Print the time-series of returns you would achieve if you were able to perfectly time which of the 6 portfolios was going to have the largest return that year."
   ]
  },
  {
   "cell_type": "code",
   "execution_count": 12,
   "id": "fe888fca",
   "metadata": {},
   "outputs": [
    {
     "data": {
      "image/png": "[encoded data removed]",
      "text/plain": [
       "<Figure size 432x288 with 1 Axes>"
      ]
     },
     "metadata": {
      "needs_background": "light"
     },
     "output_type": "display_data"
    }
   ],
   "source": [
    "fullstack.groupby('Date')['vwret'].apply(np.max).plot();"
   ]
  },
  {
   "cell_type": "code",
   "execution_count": 13,
   "id": "8269b316",
   "metadata": {},
   "outputs": [
    {
     "data": {
      "image/png": "[encoded data removed]",
      "text/plain": [
       "<Figure size 432x288 with 1 Axes>"
      ]
     },
     "metadata": {
      "needs_background": "light"
     },
     "output_type": "display_data"
    }
   ],
   "source": [
    "#or\n",
    "fullstack[['Date','maxret']].drop_duplicates().set_index('Date').plot();"
   ]
  }
 ],
 "metadata": {
  "kernelspec": {
   "display_name": "Python 3",
   "language": "python",
   "name": "python3"
  },
  "language_info": {
   "codemirror_mode": {
    "name": "ipython",
    "version": 3
   },
   "file_extension": ".py",
   "mimetype": "text/x-python",
   "name": "python",
   "nbconvert_exporter": "python",
   "pygments_lexer": "ipython3",
   "version": "3.9.7"
  }
 },
 "nbformat": 4,
 "nbformat_minor": 5
}
