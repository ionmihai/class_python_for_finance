{
 "cells": [
  {
   "cell_type": "markdown",
   "id": "34bb1cd9",
   "metadata": {},
   "source": [
    "Run the cell below:"
   ]
  },
  {
   "cell_type": "code",
   "execution_count": 1,
   "id": "5bb73fc5",
   "metadata": {},
   "outputs": [],
   "source": [
    "import pandas as pd\n",
    "import numpy as np\n",
    "import yfinance as yf\n",
    "import pandas_datareader as pdr"
   ]
  },
  {
   "cell_type": "markdown",
   "id": "7a56491a",
   "metadata": {},
   "source": [
    "# Problem 1 \n",
    "### (10 x 5 = 50 points)\n",
    "\n",
    "In this problem, you will analyze how the correlation between future corporate investment and current operating cash flows differs between dividend payers and non-payers.\n",
    "\n",
    "1. Load the Compustat data (the \"compa.zip\" file from the \"data\" folder) into a dataframe called ``rawcomp``. Print out the column names of ``rawcomp``.\n",
    "2. Create a new dataframe called ``comp`` that contains the following variables from ``rawcomp``: 'permno','datadate','ppent' (net PP\\&E),'oancf' (operating cash flows),'at' (total assets),'dvc' (cash dividend). Then get rid of all rows that have any missing values in any of these variables. Then keep only the rows where both total assets and net PP\\&E are strictly larger than 0. Display the first two rows of ``comp``. All future instructions refer to the ``comp`` dataframe.\n",
    "3. Create a new column in ``comp`` called ``year`` that extracts just the year from ``datadate``. Then sort ``comp`` by ``permno`` and ``datadate``. Then drop duplicates with respect to ``permno`` and ``year``, keeping only the last observation when a duplicate is found. Print the first two rows of this new version of ``comp``.\n",
    "4. For each firm, each year, calculate the percentage change in ``ppent``. Call this new variable ``invest``. Then create a new variable called ``future_invest`` which gives us the value of ``invest`` from the following year, for each firm (assume there are no \"gaps\" in the data). Finally create a new variable called ``cflow`` which equals operating cash flows divided by total assets. Print a table that gives us the mean, median and standard deviation (only these 3 stats) for the ``invest``, ``future_invest``, and ``cflow`` variables.\n",
    "5. Winsorize ``invest``, ``future_invest``, and ``cflow`` at the 1st and 99th percentiles. Call these winsorize variables ``w_invest``, ``w_future_invest``, and ``w_cflow`` respectively. Print a table that gives us the mean, median and standard deviation (only these 3 stats) for the ``w_invest``, ``w_future_invest``, and ``w_cflow`` variables. (Note how they differ from the non-winsorize statistics.)\n",
    "6. Create a new variable called ``div_payer`` which equals 1 for observations (rows) where the cash divided is strictly larger than 0, and 0 otherwise. Print out how many times ``div_payer`` equals 1 and how many times it equals 0.\n",
    "7. Every year, calculate the correlation between ``w_future_invest`` and ``w_cflow`` using only the observations from that year. Then plot this time-series of correlations over time.\n",
    "8. Now do the same thing separately for divided payers vs non-payers: i.e. every year, you should have two correlations between ``w_future_invest`` and ``w_cflow``: one which uses the data for dividend payers that year, and one using the data for non-payers that year. Store these correlations in a dataframe called ``ann_corrs_div`` and print its first 4 rows.\n",
    "9. Reshape the ``ann_corrs_div`` dataframe to a wide format, where the correlations for dividend payers show up in a separate column from the correlations for non-payers. Call this wide dataframe ``ann_corrs_wide`` and print its first 2 rows.\n",
    "10. Plot the time-series of correlations for dividend payers and the one for non-payers as two lines in the same plot."
   ]
  },
  {
   "cell_type": "code",
   "execution_count": 2,
   "id": "a3be1909",
   "metadata": {},
   "outputs": [
    {
     "name": "stdout",
     "output_type": "stream",
     "text": [
      "Output for part 1:\n"
     ]
    },
    {
     "data": {
      "text/plain": [
       "Index(['permno', 'datadate', 'gvkey', 'tic', 'conm', 'at', 'capx', 'che',\n",
       "       'cogs', 'csho', 'dlc', 'dltt', 'dp', 'dvc', 'ib', 'oancf', 'ppegt',\n",
       "       'ppent', 'revt', 'sale', 'fic', 'prcc_f', 'sich'],\n",
       "      dtype='object')"
      ]
     },
     "execution_count": 2,
     "metadata": {},
     "output_type": "execute_result"
    }
   ],
   "source": [
    "# 1\n",
    "print(\"Output for part 1:\")\n",
    "rawcomp = pd.read_pickle('../../lectures/data/compa.zip')\n",
    "rawcomp.columns"
   ]
  },
  {
   "cell_type": "code",
   "execution_count": 3,
   "id": "55859d12",
   "metadata": {},
   "outputs": [
    {
     "name": "stdout",
     "output_type": "stream",
     "text": [
      "Output for part 2:\n"
     ]
    },
    {
     "data": {
      "text/html": [
       "<div>\n",
       "<style scoped>\n",
       "    .dataframe tbody tr th:only-of-type {\n",
       "        vertical-align: middle;\n",
       "    }\n",
       "\n",
       "    .dataframe tbody tr th {\n",
       "        vertical-align: top;\n",
       "    }\n",
       "\n",
       "    .dataframe thead th {\n",
       "        text-align: right;\n",
       "    }\n",
       "</style>\n",
       "<table border=\"1\" class=\"dataframe\">\n",
       "  <thead>\n",
       "    <tr style=\"text-align: right;\">\n",
       "      <th></th>\n",
       "      <th>permno</th>\n",
       "      <th>datadate</th>\n",
       "      <th>ppent</th>\n",
       "      <th>oancf</th>\n",
       "      <th>at</th>\n",
       "      <th>dvc</th>\n",
       "    </tr>\n",
       "  </thead>\n",
       "  <tbody>\n",
       "    <tr>\n",
       "      <th>15</th>\n",
       "      <td>10031.0</td>\n",
       "      <td>1988-01-31</td>\n",
       "      <td>1.179</td>\n",
       "      <td>-0.987</td>\n",
       "      <td>16.042</td>\n",
       "      <td>0.0</td>\n",
       "    </tr>\n",
       "    <tr>\n",
       "      <th>16</th>\n",
       "      <td>10031.0</td>\n",
       "      <td>1989-01-31</td>\n",
       "      <td>1.076</td>\n",
       "      <td>-2.100</td>\n",
       "      <td>16.280</td>\n",
       "      <td>0.0</td>\n",
       "    </tr>\n",
       "  </tbody>\n",
       "</table>\n",
       "</div>"
      ],
      "text/plain": [
       "     permno    datadate  ppent  oancf      at  dvc\n",
       "15  10031.0  1988-01-31  1.179 -0.987  16.042  0.0\n",
       "16  10031.0  1989-01-31  1.076 -2.100  16.280  0.0"
      ]
     },
     "execution_count": 3,
     "metadata": {},
     "output_type": "execute_result"
    }
   ],
   "source": [
    "# 2\n",
    "print(\"Output for part 2:\")\n",
    "comp = rawcomp[['permno','datadate','ppent','oancf','at','dvc']].copy().dropna()\n",
    "comp = comp.loc[(comp['at']>0) & (comp['ppent'] > 0) , :].copy()\n",
    "comp.head(2)"
   ]
  },
  {
   "cell_type": "code",
   "execution_count": 4,
   "id": "5a7a5af7",
   "metadata": {},
   "outputs": [
    {
     "name": "stdout",
     "output_type": "stream",
     "text": [
      "Output for part 3:\n"
     ]
    },
    {
     "data": {
      "text/html": [
       "<div>\n",
       "<style scoped>\n",
       "    .dataframe tbody tr th:only-of-type {\n",
       "        vertical-align: middle;\n",
       "    }\n",
       "\n",
       "    .dataframe tbody tr th {\n",
       "        vertical-align: top;\n",
       "    }\n",
       "\n",
       "    .dataframe thead th {\n",
       "        text-align: right;\n",
       "    }\n",
       "</style>\n",
       "<table border=\"1\" class=\"dataframe\">\n",
       "  <thead>\n",
       "    <tr style=\"text-align: right;\">\n",
       "      <th></th>\n",
       "      <th>permno</th>\n",
       "      <th>datadate</th>\n",
       "      <th>ppent</th>\n",
       "      <th>oancf</th>\n",
       "      <th>at</th>\n",
       "      <th>dvc</th>\n",
       "      <th>year</th>\n",
       "    </tr>\n",
       "  </thead>\n",
       "  <tbody>\n",
       "    <tr>\n",
       "      <th>188568</th>\n",
       "      <td>10001.0</td>\n",
       "      <td>1989-06-30</td>\n",
       "      <td>14.160</td>\n",
       "      <td>1.772</td>\n",
       "      <td>18.565</td>\n",
       "      <td>0.459</td>\n",
       "      <td>1989</td>\n",
       "    </tr>\n",
       "    <tr>\n",
       "      <th>188569</th>\n",
       "      <td>10001.0</td>\n",
       "      <td>1990-06-30</td>\n",
       "      <td>14.426</td>\n",
       "      <td>1.894</td>\n",
       "      <td>18.881</td>\n",
       "      <td>0.523</td>\n",
       "      <td>1990</td>\n",
       "    </tr>\n",
       "  </tbody>\n",
       "</table>\n",
       "</div>"
      ],
      "text/plain": [
       "         permno    datadate   ppent  oancf      at    dvc  year\n",
       "188568  10001.0  1989-06-30  14.160  1.772  18.565  0.459  1989\n",
       "188569  10001.0  1990-06-30  14.426  1.894  18.881  0.523  1990"
      ]
     },
     "execution_count": 4,
     "metadata": {},
     "output_type": "execute_result"
    }
   ],
   "source": [
    "# 3\n",
    "print(\"Output for part 3:\")\n",
    "comp['year'] = pd.to_datetime(comp['datadate']).dt.year\n",
    "comp = comp.sort_values(['permno','datadate'])\n",
    "comp = comp.drop_duplicates(['permno','year'], keep = 'last')\n",
    "comp.head(2)"
   ]
  },
  {
   "cell_type": "code",
   "execution_count": 5,
   "id": "8c6b5ba9",
   "metadata": {},
   "outputs": [
    {
     "name": "stdout",
     "output_type": "stream",
     "text": [
      "Output for part 4:\n"
     ]
    },
    {
     "data": {
      "text/html": [
       "<div>\n",
       "<style scoped>\n",
       "    .dataframe tbody tr th:only-of-type {\n",
       "        vertical-align: middle;\n",
       "    }\n",
       "\n",
       "    .dataframe tbody tr th {\n",
       "        vertical-align: top;\n",
       "    }\n",
       "\n",
       "    .dataframe thead th {\n",
       "        text-align: right;\n",
       "    }\n",
       "</style>\n",
       "<table border=\"1\" class=\"dataframe\">\n",
       "  <thead>\n",
       "    <tr style=\"text-align: right;\">\n",
       "      <th></th>\n",
       "      <th>invest</th>\n",
       "      <th>future_invest</th>\n",
       "      <th>cflows</th>\n",
       "    </tr>\n",
       "  </thead>\n",
       "  <tbody>\n",
       "    <tr>\n",
       "      <th>mean</th>\n",
       "      <td>2.196809</td>\n",
       "      <td>2.196809</td>\n",
       "      <td>0.003587</td>\n",
       "    </tr>\n",
       "    <tr>\n",
       "      <th>median</th>\n",
       "      <td>0.039628</td>\n",
       "      <td>0.039628</td>\n",
       "      <td>0.056624</td>\n",
       "    </tr>\n",
       "    <tr>\n",
       "      <th>std</th>\n",
       "      <td>234.900724</td>\n",
       "      <td>234.900724</td>\n",
       "      <td>0.387163</td>\n",
       "    </tr>\n",
       "  </tbody>\n",
       "</table>\n",
       "</div>"
      ],
      "text/plain": [
       "            invest  future_invest    cflows\n",
       "mean      2.196809       2.196809  0.003587\n",
       "median    0.039628       0.039628  0.056624\n",
       "std     234.900724     234.900724  0.387163"
      ]
     },
     "execution_count": 5,
     "metadata": {},
     "output_type": "execute_result"
    }
   ],
   "source": [
    "# 4\n",
    "print(\"Output for part 4:\")\n",
    "comp['invest'] = comp.groupby('permno')['ppent'].pct_change()\n",
    "comp['future_invest'] = comp.groupby('permno')['invest'].shift(-1)\n",
    "comp['cflows'] = comp['oancf'] / comp['at']\n",
    "comp[['invest','future_invest','cflows']].agg(['mean','median','std'])"
   ]
  },
  {
   "cell_type": "code",
   "execution_count": 6,
   "id": "d6f84374",
   "metadata": {},
   "outputs": [
    {
     "name": "stdout",
     "output_type": "stream",
     "text": [
      "Output for part 5:\n"
     ]
    },
    {
     "data": {
      "text/html": [
       "<div>\n",
       "<style scoped>\n",
       "    .dataframe tbody tr th:only-of-type {\n",
       "        vertical-align: middle;\n",
       "    }\n",
       "\n",
       "    .dataframe tbody tr th {\n",
       "        vertical-align: top;\n",
       "    }\n",
       "\n",
       "    .dataframe thead th {\n",
       "        text-align: right;\n",
       "    }\n",
       "</style>\n",
       "<table border=\"1\" class=\"dataframe\">\n",
       "  <thead>\n",
       "    <tr style=\"text-align: right;\">\n",
       "      <th></th>\n",
       "      <th>w_invest</th>\n",
       "      <th>w_future_invest</th>\n",
       "      <th>w_cflows</th>\n",
       "    </tr>\n",
       "  </thead>\n",
       "  <tbody>\n",
       "    <tr>\n",
       "      <th>mean</th>\n",
       "      <td>0.213253</td>\n",
       "      <td>0.213253</td>\n",
       "      <td>0.011639</td>\n",
       "    </tr>\n",
       "    <tr>\n",
       "      <th>median</th>\n",
       "      <td>0.039628</td>\n",
       "      <td>0.039628</td>\n",
       "      <td>0.056624</td>\n",
       "    </tr>\n",
       "    <tr>\n",
       "      <th>std</th>\n",
       "      <td>0.756891</td>\n",
       "      <td>0.756891</td>\n",
       "      <td>0.213245</td>\n",
       "    </tr>\n",
       "  </tbody>\n",
       "</table>\n",
       "</div>"
      ],
      "text/plain": [
       "        w_invest  w_future_invest  w_cflows\n",
       "mean    0.213253         0.213253  0.011639\n",
       "median  0.039628         0.039628  0.056624\n",
       "std     0.756891         0.756891  0.213245"
      ]
     },
     "execution_count": 6,
     "metadata": {},
     "output_type": "execute_result"
    }
   ],
   "source": [
    "# 5\n",
    "print(\"Output for part 5:\")\n",
    "for v in ['invest','future_invest','cflows']:\n",
    "    comp[f'w_{v}'] = comp[v].clip(lower=comp[v].quantile(0.01), upper=comp[v].quantile(0.99))\n",
    "\n",
    "comp[['w_invest','w_future_invest','w_cflows']].agg(['mean','median','std'])"
   ]
  },
  {
   "cell_type": "code",
   "execution_count": 7,
   "id": "d1a0c537",
   "metadata": {},
   "outputs": [
    {
     "name": "stdout",
     "output_type": "stream",
     "text": [
      "Output for part 6:\n"
     ]
    },
    {
     "data": {
      "text/plain": [
       "0    111315\n",
       "1     61740\n",
       "Name: div_payer, dtype: int64"
      ]
     },
     "execution_count": 7,
     "metadata": {},
     "output_type": "execute_result"
    }
   ],
   "source": [
    "# 6\n",
    "print(\"Output for part 6:\")\n",
    "comp['div_payer'] = np.where(comp['dvc']>0, 1, 0)\n",
    "comp['div_payer'].value_counts()"
   ]
  },
  {
   "cell_type": "code",
   "execution_count": 8,
   "id": "3a7f94e7",
   "metadata": {},
   "outputs": [
    {
     "name": "stdout",
     "output_type": "stream",
     "text": [
      "Output for part 7:\n"
     ]
    },
    {
     "data": {
      "image/png": "[encoded data removed]",
      "text/plain": [
       "<Figure size 432x288 with 1 Axes>"
      ]
     },
     "metadata": {
      "needs_background": "light"
     },
     "output_type": "display_data"
    }
   ],
   "source": [
    "# 7\n",
    "print(\"Output for part 7:\")\n",
    "annual_corrs = comp.groupby('year')['w_future_invest'].corr(comp['w_cflows']).to_frame()\n",
    "annual_corrs.plot();"
   ]
  },
  {
   "cell_type": "code",
   "execution_count": 9,
   "id": "8c3efa3c",
   "metadata": {},
   "outputs": [
    {
     "name": "stdout",
     "output_type": "stream",
     "text": [
      "Output for part 8:\n"
     ]
    },
    {
     "data": {
      "text/html": [
       "<div>\n",
       "<style scoped>\n",
       "    .dataframe tbody tr th:only-of-type {\n",
       "        vertical-align: middle;\n",
       "    }\n",
       "\n",
       "    .dataframe tbody tr th {\n",
       "        vertical-align: top;\n",
       "    }\n",
       "\n",
       "    .dataframe thead th {\n",
       "        text-align: right;\n",
       "    }\n",
       "</style>\n",
       "<table border=\"1\" class=\"dataframe\">\n",
       "  <thead>\n",
       "    <tr style=\"text-align: right;\">\n",
       "      <th></th>\n",
       "      <th></th>\n",
       "      <th>w_future_invest</th>\n",
       "    </tr>\n",
       "    <tr>\n",
       "      <th>year</th>\n",
       "      <th>div_payer</th>\n",
       "      <th></th>\n",
       "    </tr>\n",
       "  </thead>\n",
       "  <tbody>\n",
       "    <tr>\n",
       "      <th rowspan=\"2\" valign=\"top\">1987</th>\n",
       "      <th>0</th>\n",
       "      <td>-0.072499</td>\n",
       "    </tr>\n",
       "    <tr>\n",
       "      <th>1</th>\n",
       "      <td>0.027246</td>\n",
       "    </tr>\n",
       "    <tr>\n",
       "      <th rowspan=\"2\" valign=\"top\">1988</th>\n",
       "      <th>0</th>\n",
       "      <td>-0.067667</td>\n",
       "    </tr>\n",
       "    <tr>\n",
       "      <th>1</th>\n",
       "      <td>0.051877</td>\n",
       "    </tr>\n",
       "  </tbody>\n",
       "</table>\n",
       "</div>"
      ],
      "text/plain": [
       "                w_future_invest\n",
       "year div_payer                 \n",
       "1987 0                -0.072499\n",
       "     1                 0.027246\n",
       "1988 0                -0.067667\n",
       "     1                 0.051877"
      ]
     },
     "execution_count": 9,
     "metadata": {},
     "output_type": "execute_result"
    }
   ],
   "source": [
    "# 8\n",
    "print(\"Output for part 8:\")\n",
    "ann_corrs_div = comp.groupby(['year','div_payer'])['w_future_invest'].corr(comp['w_cflows']).to_frame()\n",
    "ann_corrs_div.head(4)"
   ]
  },
  {
   "cell_type": "code",
   "execution_count": 10,
   "id": "b5eff8d1",
   "metadata": {},
   "outputs": [
    {
     "name": "stdout",
     "output_type": "stream",
     "text": [
      "Output for part 9:\n"
     ]
    },
    {
     "data": {
      "text/html": [
       "<div>\n",
       "<style scoped>\n",
       "    .dataframe tbody tr th:only-of-type {\n",
       "        vertical-align: middle;\n",
       "    }\n",
       "\n",
       "    .dataframe tbody tr th {\n",
       "        vertical-align: top;\n",
       "    }\n",
       "\n",
       "    .dataframe thead tr th {\n",
       "        text-align: left;\n",
       "    }\n",
       "\n",
       "    .dataframe thead tr:last-of-type th {\n",
       "        text-align: right;\n",
       "    }\n",
       "</style>\n",
       "<table border=\"1\" class=\"dataframe\">\n",
       "  <thead>\n",
       "    <tr>\n",
       "      <th></th>\n",
       "      <th colspan=\"2\" halign=\"left\">w_future_invest</th>\n",
       "    </tr>\n",
       "    <tr>\n",
       "      <th>div_payer</th>\n",
       "      <th>0</th>\n",
       "      <th>1</th>\n",
       "    </tr>\n",
       "    <tr>\n",
       "      <th>year</th>\n",
       "      <th></th>\n",
       "      <th></th>\n",
       "    </tr>\n",
       "  </thead>\n",
       "  <tbody>\n",
       "    <tr>\n",
       "      <th>1987</th>\n",
       "      <td>-0.072499</td>\n",
       "      <td>0.027246</td>\n",
       "    </tr>\n",
       "    <tr>\n",
       "      <th>1988</th>\n",
       "      <td>-0.067667</td>\n",
       "      <td>0.051877</td>\n",
       "    </tr>\n",
       "  </tbody>\n",
       "</table>\n",
       "</div>"
      ],
      "text/plain": [
       "          w_future_invest          \n",
       "div_payer               0         1\n",
       "year                               \n",
       "1987            -0.072499  0.027246\n",
       "1988            -0.067667  0.051877"
      ]
     },
     "execution_count": 10,
     "metadata": {},
     "output_type": "execute_result"
    }
   ],
   "source": [
    "# 9\n",
    "print(\"Output for part 9:\")\n",
    "ann_corrs_wide = ann_corrs_div.reset_index().pivot(index='year',columns='div_payer')\n",
    "ann_corrs_wide.head(2)"
   ]
  },
  {
   "cell_type": "code",
   "execution_count": 11,
   "id": "5cb775e3",
   "metadata": {},
   "outputs": [
    {
     "name": "stdout",
     "output_type": "stream",
     "text": [
      "Output for part 10:\n"
     ]
    },
    {
     "data": {
      "image/png": "[encoded data removed]",
      "text/plain": [
       "<Figure size 432x288 with 1 Axes>"
      ]
     },
     "metadata": {
      "needs_background": "light"
     },
     "output_type": "display_data"
    }
   ],
   "source": [
    "# 10\n",
    "print(\"Output for part 10:\")\n",
    "ann_corrs_wide.plot();"
   ]
  },
  {
   "cell_type": "markdown",
   "id": "712d4d54",
   "metadata": {},
   "source": [
    "# Problem 2\n",
    "### (10 x 5 = 50 points)\n",
    "\n",
    "In this problem, you will calculate value-weighted industry returns using all publicly traded firms from 1980 to 2020.\n",
    "\n",
    "1. Load the monthly CRSP data (the ``crspm.zip`` file from the ``data`` folder) into a new dataframe called ``rawcrsp``. Print the names of the columns of ``rawcrsp``.\n",
    "2. Create a new variable in ``rawcrsp`` called ``mktcap`` (market capitalization) which equals the absolute value of price (``prc``) times the number of shares (``shrout``). Display the first 2 rows of ``rawcrsp``.\n",
    "3. Create a new dataframe called ``crsp`` which contains the following variables from ``rawcrsp``: 'permno','date','ret','mktcap', 'siccd'. Then drop all rows in ``crsp`` which contain any missing values in any of its columns. Display the first 2 rows of ``crsp``.\n",
    "4. Create a new column in ``crsp`` called ``mdate`` which equals the ``date`` variable converted to a monthly \"period\" type. Print a table which contains only the minimum and maximum values of ``mdate``.\n",
    "5. Create a new column in ``crsp`` called ``sector`` which equals the first digit of the SIC code (``siccd``). Print a table which shows how many observations we have for each value of ``sector``.\n",
    "6. Create a new column in ``crsp`` called ``weights`` which, for every firm, every month, gives us the market capitalization of that firm divided by the sum of the market capitalizations of all firms that are in the same sector as that firm that month (think of the weights in a portfolio, where the portfolio is the sector that the firm operates in that month). Use ``.describe()`` to print out the summary statistics of the ``weights`` variable.\n",
    "7. Create a new variable in ``crsp`` called ``vwret`` which equals the firm's return times its industry weight (given by ``weights``). Then, each month, for each sector, add up these ``vwret`` values of the firms in that sector, that month. This will give you the value-weighted return of each sector, each month. Store these returns in a new dataframe called ``ind_vwret``. Display the first 20 rows of ``ind_vwret``.\n",
    "8. Create a new dataframe called ``ind_vwret_wide`` which is a reshaped version of ``ind_vwret``, where the returns of each sector show up in a separate column. Display the first two rows of ``ind_vwret_wide``.\n",
    "9. Plot the returns for sectors 3 (manufacturing) and 6 (finance), in two subplots of the same plot. \n",
    "10. For sectors 3 and 6, compound their returns over time, and plot these two time-series of compounded returns in the same plot."
   ]
  },
  {
   "cell_type": "code",
   "execution_count": 12,
   "id": "e6824b60",
   "metadata": {},
   "outputs": [
    {
     "name": "stdout",
     "output_type": "stream",
     "text": [
      "Output for part 1:\n"
     ]
    },
    {
     "data": {
      "text/plain": [
       "Index(['permno', 'permco', 'date', 'prc', 'ret', 'shrout', 'shrcd', 'exchcd',\n",
       "       'siccd', 'ticker'],\n",
       "      dtype='object')"
      ]
     },
     "execution_count": 12,
     "metadata": {},
     "output_type": "execute_result"
    }
   ],
   "source": [
    "# 1\n",
    "print(\"Output for part 1:\")\n",
    "rawcrsp = pd.read_pickle('../../lectures/data/crspm.zip')\n",
    "rawcrsp.columns"
   ]
  },
  {
   "cell_type": "code",
   "execution_count": 13,
   "id": "96e22fdb",
   "metadata": {},
   "outputs": [
    {
     "name": "stdout",
     "output_type": "stream",
     "text": [
      "Output for part 2:\n"
     ]
    },
    {
     "data": {
      "text/html": [
       "<div>\n",
       "<style scoped>\n",
       "    .dataframe tbody tr th:only-of-type {\n",
       "        vertical-align: middle;\n",
       "    }\n",
       "\n",
       "    .dataframe tbody tr th {\n",
       "        vertical-align: top;\n",
       "    }\n",
       "\n",
       "    .dataframe thead th {\n",
       "        text-align: right;\n",
       "    }\n",
       "</style>\n",
       "<table border=\"1\" class=\"dataframe\">\n",
       "  <thead>\n",
       "    <tr style=\"text-align: right;\">\n",
       "      <th></th>\n",
       "      <th>permno</th>\n",
       "      <th>permco</th>\n",
       "      <th>date</th>\n",
       "      <th>prc</th>\n",
       "      <th>ret</th>\n",
       "      <th>shrout</th>\n",
       "      <th>shrcd</th>\n",
       "      <th>exchcd</th>\n",
       "      <th>siccd</th>\n",
       "      <th>ticker</th>\n",
       "      <th>mktcap</th>\n",
       "    </tr>\n",
       "  </thead>\n",
       "  <tbody>\n",
       "    <tr>\n",
       "      <th>0</th>\n",
       "      <td>10000.0</td>\n",
       "      <td>7952.0</td>\n",
       "      <td>1986-01-31</td>\n",
       "      <td>-4.375</td>\n",
       "      <td>NaN</td>\n",
       "      <td>3680.0</td>\n",
       "      <td>10.0</td>\n",
       "      <td>3.0</td>\n",
       "      <td>3990.0</td>\n",
       "      <td>OMFGA</td>\n",
       "      <td>16100.0</td>\n",
       "    </tr>\n",
       "    <tr>\n",
       "      <th>1</th>\n",
       "      <td>10000.0</td>\n",
       "      <td>7952.0</td>\n",
       "      <td>1986-02-28</td>\n",
       "      <td>-3.250</td>\n",
       "      <td>-0.257143</td>\n",
       "      <td>3680.0</td>\n",
       "      <td>10.0</td>\n",
       "      <td>3.0</td>\n",
       "      <td>3990.0</td>\n",
       "      <td>OMFGA</td>\n",
       "      <td>11960.0</td>\n",
       "    </tr>\n",
       "  </tbody>\n",
       "</table>\n",
       "</div>"
      ],
      "text/plain": [
       "    permno  permco        date    prc       ret  shrout  shrcd  exchcd  \\\n",
       "0  10000.0  7952.0  1986-01-31 -4.375       NaN  3680.0   10.0     3.0   \n",
       "1  10000.0  7952.0  1986-02-28 -3.250 -0.257143  3680.0   10.0     3.0   \n",
       "\n",
       "    siccd ticker   mktcap  \n",
       "0  3990.0  OMFGA  16100.0  \n",
       "1  3990.0  OMFGA  11960.0  "
      ]
     },
     "execution_count": 13,
     "metadata": {},
     "output_type": "execute_result"
    }
   ],
   "source": [
    "# 2\n",
    "print(\"Output for part 2:\")\n",
    "rawcrsp['mktcap'] = rawcrsp['prc'].abs() * rawcrsp['shrout']\n",
    "rawcrsp.head(2)"
   ]
  },
  {
   "cell_type": "code",
   "execution_count": 14,
   "id": "b672ff4e",
   "metadata": {},
   "outputs": [
    {
     "name": "stdout",
     "output_type": "stream",
     "text": [
      "Output for part 3:\n"
     ]
    },
    {
     "data": {
      "text/html": [
       "<div>\n",
       "<style scoped>\n",
       "    .dataframe tbody tr th:only-of-type {\n",
       "        vertical-align: middle;\n",
       "    }\n",
       "\n",
       "    .dataframe tbody tr th {\n",
       "        vertical-align: top;\n",
       "    }\n",
       "\n",
       "    .dataframe thead th {\n",
       "        text-align: right;\n",
       "    }\n",
       "</style>\n",
       "<table border=\"1\" class=\"dataframe\">\n",
       "  <thead>\n",
       "    <tr style=\"text-align: right;\">\n",
       "      <th></th>\n",
       "      <th>permno</th>\n",
       "      <th>date</th>\n",
       "      <th>ret</th>\n",
       "      <th>mktcap</th>\n",
       "      <th>siccd</th>\n",
       "    </tr>\n",
       "  </thead>\n",
       "  <tbody>\n",
       "    <tr>\n",
       "      <th>1</th>\n",
       "      <td>10000.0</td>\n",
       "      <td>1986-02-28</td>\n",
       "      <td>-0.257143</td>\n",
       "      <td>11960.0</td>\n",
       "      <td>3990.0</td>\n",
       "    </tr>\n",
       "    <tr>\n",
       "      <th>2</th>\n",
       "      <td>10000.0</td>\n",
       "      <td>1986-03-31</td>\n",
       "      <td>0.365385</td>\n",
       "      <td>16330.0</td>\n",
       "      <td>3990.0</td>\n",
       "    </tr>\n",
       "  </tbody>\n",
       "</table>\n",
       "</div>"
      ],
      "text/plain": [
       "    permno        date       ret   mktcap   siccd\n",
       "1  10000.0  1986-02-28 -0.257143  11960.0  3990.0\n",
       "2  10000.0  1986-03-31  0.365385  16330.0  3990.0"
      ]
     },
     "execution_count": 14,
     "metadata": {},
     "output_type": "execute_result"
    }
   ],
   "source": [
    "# 3\n",
    "print(\"Output for part 3:\")\n",
    "crsp = rawcrsp[['permno','date','ret','mktcap', 'siccd']].copy().dropna()\n",
    "crsp.head(2)"
   ]
  },
  {
   "cell_type": "code",
   "execution_count": 15,
   "id": "e89bddd5",
   "metadata": {},
   "outputs": [
    {
     "name": "stdout",
     "output_type": "stream",
     "text": [
      "Output for part 4:\n"
     ]
    },
    {
     "data": {
      "text/plain": [
       "min    1980-01\n",
       "max    2020-12\n",
       "Name: mdate, dtype: period[M]"
      ]
     },
     "execution_count": 15,
     "metadata": {},
     "output_type": "execute_result"
    }
   ],
   "source": [
    "# 4\n",
    "print(\"Output for part 4:\")\n",
    "crsp['mdate'] = pd.to_datetime(crsp['date']).dt.to_period('M')\n",
    "crsp['mdate'].agg(['min','max'])"
   ]
  },
  {
   "cell_type": "code",
   "execution_count": 16,
   "id": "fb8ba7a3",
   "metadata": {},
   "outputs": [
    {
     "name": "stdout",
     "output_type": "stream",
     "text": [
      "Output for part 5:\n"
     ]
    },
    {
     "data": {
      "text/plain": [
       "3    643974\n",
       "6    482560\n",
       "2    327363\n",
       "7    271156\n",
       "5    250972\n",
       "4    193575\n",
       "1    151512\n",
       "8    113159\n",
       "9     64948\n",
       "0     31446\n",
       "Name: sector, dtype: Int64"
      ]
     },
     "execution_count": 16,
     "metadata": {},
     "output_type": "execute_result"
    }
   ],
   "source": [
    "# 5\n",
    "print(\"Output for part 5:\")\n",
    "crsp['sector'] = crsp['siccd'].astype('string').str[0]\n",
    "crsp['sector'].value_counts()"
   ]
  },
  {
   "cell_type": "code",
   "execution_count": 17,
   "id": "82ff41b2",
   "metadata": {},
   "outputs": [
    {
     "name": "stdout",
     "output_type": "stream",
     "text": [
      "Output for part 6:\n"
     ]
    },
    {
     "data": {
      "text/plain": [
       "count    2.530665e+06\n",
       "mean     1.850502e-03\n",
       "std      1.242670e-02\n",
       "min      0.000000e+00\n",
       "25%      3.375191e-05\n",
       "50%      1.468634e-04\n",
       "75%      7.255903e-04\n",
       "max      1.000000e+00\n",
       "Name: weights, dtype: float64"
      ]
     },
     "execution_count": 17,
     "metadata": {},
     "output_type": "execute_result"
    }
   ],
   "source": [
    "# 6\n",
    "print(\"Output for part 6:\")\n",
    "crsp['weights'] = crsp.groupby(['mdate','sector'])['mktcap'].transform(lambda x: x / x.sum())\n",
    "crsp['weights'].describe()"
   ]
  },
  {
   "cell_type": "code",
   "execution_count": 18,
   "id": "b07a018a",
   "metadata": {},
   "outputs": [
    {
     "name": "stdout",
     "output_type": "stream",
     "text": [
      "Output for part 7:\n"
     ]
    },
    {
     "data": {
      "text/html": [
       "<div>\n",
       "<style scoped>\n",
       "    .dataframe tbody tr th:only-of-type {\n",
       "        vertical-align: middle;\n",
       "    }\n",
       "\n",
       "    .dataframe tbody tr th {\n",
       "        vertical-align: top;\n",
       "    }\n",
       "\n",
       "    .dataframe thead th {\n",
       "        text-align: right;\n",
       "    }\n",
       "</style>\n",
       "<table border=\"1\" class=\"dataframe\">\n",
       "  <thead>\n",
       "    <tr style=\"text-align: right;\">\n",
       "      <th></th>\n",
       "      <th></th>\n",
       "      <th>vwret</th>\n",
       "    </tr>\n",
       "    <tr>\n",
       "      <th>mdate</th>\n",
       "      <th>sector</th>\n",
       "      <th></th>\n",
       "    </tr>\n",
       "  </thead>\n",
       "  <tbody>\n",
       "    <tr>\n",
       "      <th rowspan=\"10\" valign=\"top\">1980-01</th>\n",
       "      <th>0</th>\n",
       "      <td>0.101065</td>\n",
       "    </tr>\n",
       "    <tr>\n",
       "      <th>1</th>\n",
       "      <td>0.156651</td>\n",
       "    </tr>\n",
       "    <tr>\n",
       "      <th>2</th>\n",
       "      <td>0.080099</td>\n",
       "    </tr>\n",
       "    <tr>\n",
       "      <th>3</th>\n",
       "      <td>0.096289</td>\n",
       "    </tr>\n",
       "    <tr>\n",
       "      <th>4</th>\n",
       "      <td>0.017436</td>\n",
       "    </tr>\n",
       "    <tr>\n",
       "      <th>5</th>\n",
       "      <td>0.019792</td>\n",
       "    </tr>\n",
       "    <tr>\n",
       "      <th>6</th>\n",
       "      <td>0.031370</td>\n",
       "    </tr>\n",
       "    <tr>\n",
       "      <th>7</th>\n",
       "      <td>0.061095</td>\n",
       "    </tr>\n",
       "    <tr>\n",
       "      <th>8</th>\n",
       "      <td>0.107431</td>\n",
       "    </tr>\n",
       "    <tr>\n",
       "      <th>9</th>\n",
       "      <td>2.800000</td>\n",
       "    </tr>\n",
       "    <tr>\n",
       "      <th rowspan=\"10\" valign=\"top\">1980-02</th>\n",
       "      <th>0</th>\n",
       "      <td>0.015623</td>\n",
       "    </tr>\n",
       "    <tr>\n",
       "      <th>1</th>\n",
       "      <td>0.093863</td>\n",
       "    </tr>\n",
       "    <tr>\n",
       "      <th>2</th>\n",
       "      <td>0.059218</td>\n",
       "    </tr>\n",
       "    <tr>\n",
       "      <th>3</th>\n",
       "      <td>-0.036097</td>\n",
       "    </tr>\n",
       "    <tr>\n",
       "      <th>4</th>\n",
       "      <td>-0.025601</td>\n",
       "    </tr>\n",
       "    <tr>\n",
       "      <th>5</th>\n",
       "      <td>-0.041283</td>\n",
       "    </tr>\n",
       "    <tr>\n",
       "      <th>6</th>\n",
       "      <td>-0.038605</td>\n",
       "    </tr>\n",
       "    <tr>\n",
       "      <th>7</th>\n",
       "      <td>-0.032889</td>\n",
       "    </tr>\n",
       "    <tr>\n",
       "      <th>8</th>\n",
       "      <td>-0.033714</td>\n",
       "    </tr>\n",
       "    <tr>\n",
       "      <th>9</th>\n",
       "      <td>1.105263</td>\n",
       "    </tr>\n",
       "  </tbody>\n",
       "</table>\n",
       "</div>"
      ],
      "text/plain": [
       "                   vwret\n",
       "mdate   sector          \n",
       "1980-01 0       0.101065\n",
       "        1       0.156651\n",
       "        2       0.080099\n",
       "        3       0.096289\n",
       "        4       0.017436\n",
       "        5       0.019792\n",
       "        6       0.031370\n",
       "        7       0.061095\n",
       "        8       0.107431\n",
       "        9       2.800000\n",
       "1980-02 0       0.015623\n",
       "        1       0.093863\n",
       "        2       0.059218\n",
       "        3      -0.036097\n",
       "        4      -0.025601\n",
       "        5      -0.041283\n",
       "        6      -0.038605\n",
       "        7      -0.032889\n",
       "        8      -0.033714\n",
       "        9       1.105263"
      ]
     },
     "execution_count": 18,
     "metadata": {},
     "output_type": "execute_result"
    }
   ],
   "source": [
    "# 7\n",
    "print(\"Output for part 7:\")\n",
    "crsp['vwret'] = crsp['ret'] * crsp['weights']\n",
    "ind_vwret = crsp.groupby(['mdate','sector'])['vwret'].sum().to_frame()\n",
    "ind_vwret.head(20)"
   ]
  },
  {
   "cell_type": "code",
   "execution_count": 19,
   "id": "21748be5",
   "metadata": {},
   "outputs": [
    {
     "name": "stdout",
     "output_type": "stream",
     "text": [
      "Output for part 8:\n"
     ]
    },
    {
     "data": {
      "text/html": [
       "<div>\n",
       "<style scoped>\n",
       "    .dataframe tbody tr th:only-of-type {\n",
       "        vertical-align: middle;\n",
       "    }\n",
       "\n",
       "    .dataframe tbody tr th {\n",
       "        vertical-align: top;\n",
       "    }\n",
       "\n",
       "    .dataframe thead tr th {\n",
       "        text-align: left;\n",
       "    }\n",
       "\n",
       "    .dataframe thead tr:last-of-type th {\n",
       "        text-align: right;\n",
       "    }\n",
       "</style>\n",
       "<table border=\"1\" class=\"dataframe\">\n",
       "  <thead>\n",
       "    <tr>\n",
       "      <th></th>\n",
       "      <th colspan=\"10\" halign=\"left\">vwret</th>\n",
       "    </tr>\n",
       "    <tr>\n",
       "      <th>sector</th>\n",
       "      <th>0</th>\n",
       "      <th>1</th>\n",
       "      <th>2</th>\n",
       "      <th>3</th>\n",
       "      <th>4</th>\n",
       "      <th>5</th>\n",
       "      <th>6</th>\n",
       "      <th>7</th>\n",
       "      <th>8</th>\n",
       "      <th>9</th>\n",
       "    </tr>\n",
       "    <tr>\n",
       "      <th>mdate</th>\n",
       "      <th></th>\n",
       "      <th></th>\n",
       "      <th></th>\n",
       "      <th></th>\n",
       "      <th></th>\n",
       "      <th></th>\n",
       "      <th></th>\n",
       "      <th></th>\n",
       "      <th></th>\n",
       "      <th></th>\n",
       "    </tr>\n",
       "  </thead>\n",
       "  <tbody>\n",
       "    <tr>\n",
       "      <th>1980-01</th>\n",
       "      <td>0.101065</td>\n",
       "      <td>0.156651</td>\n",
       "      <td>0.080099</td>\n",
       "      <td>0.096289</td>\n",
       "      <td>0.017436</td>\n",
       "      <td>0.019792</td>\n",
       "      <td>0.031370</td>\n",
       "      <td>0.061095</td>\n",
       "      <td>0.107431</td>\n",
       "      <td>2.800000</td>\n",
       "    </tr>\n",
       "    <tr>\n",
       "      <th>1980-02</th>\n",
       "      <td>0.015623</td>\n",
       "      <td>0.093863</td>\n",
       "      <td>0.059218</td>\n",
       "      <td>-0.036097</td>\n",
       "      <td>-0.025601</td>\n",
       "      <td>-0.041283</td>\n",
       "      <td>-0.038605</td>\n",
       "      <td>-0.032889</td>\n",
       "      <td>-0.033714</td>\n",
       "      <td>1.105263</td>\n",
       "    </tr>\n",
       "  </tbody>\n",
       "</table>\n",
       "</div>"
      ],
      "text/plain": [
       "            vwret                                                              \\\n",
       "sector          0         1         2         3         4         5         6   \n",
       "mdate                                                                           \n",
       "1980-01  0.101065  0.156651  0.080099  0.096289  0.017436  0.019792  0.031370   \n",
       "1980-02  0.015623  0.093863  0.059218 -0.036097 -0.025601 -0.041283 -0.038605   \n",
       "\n",
       "                                       \n",
       "sector          7         8         9  \n",
       "mdate                                  \n",
       "1980-01  0.061095  0.107431  2.800000  \n",
       "1980-02 -0.032889 -0.033714  1.105263  "
      ]
     },
     "execution_count": 19,
     "metadata": {},
     "output_type": "execute_result"
    }
   ],
   "source": [
    "# 8\n",
    "print(\"Output for part 8:\")\n",
    "ind_vwret_wide = ind_vwret.reset_index().pivot(index = 'mdate', columns = 'sector')\n",
    "ind_vwret_wide.head(2)"
   ]
  },
  {
   "cell_type": "code",
   "execution_count": 20,
   "id": "7e795f44",
   "metadata": {},
   "outputs": [
    {
     "name": "stdout",
     "output_type": "stream",
     "text": [
      "Output for part 9:\n"
     ]
    },
    {
     "data": {
      "image/png": "[encoded data removed]",
      "text/plain": [
       "<Figure size 432x288 with 2 Axes>"
      ]
     },
     "metadata": {
      "needs_background": "light"
     },
     "output_type": "display_data"
    }
   ],
   "source": [
    "# 9\n",
    "print(\"Output for part 9:\")\n",
    "ind_vwret_wide[[('vwret','3'),('vwret','6')]].plot(subplots = True);"
   ]
  },
  {
   "cell_type": "code",
   "execution_count": 21,
   "id": "56377c1a",
   "metadata": {},
   "outputs": [
    {
     "name": "stdout",
     "output_type": "stream",
     "text": [
      "Output for part 10:\n"
     ]
    },
    {
     "data": {
      "image/png": "[encoded data removed]",
      "text/plain": [
       "<Figure size 432x288 with 1 Axes>"
      ]
     },
     "metadata": {
      "needs_background": "light"
     },
     "output_type": "display_data"
    }
   ],
   "source": [
    "# 10\n",
    "print(\"Output for part 10:\")\n",
    "(1+ind_vwret_wide[[('vwret','3'),('vwret','6')]]).cumprod().plot();"
   ]
  }
 ],
 "metadata": {
  "kernelspec": {
   "display_name": "Python 3",
   "language": "python",
   "name": "python3"
  },
  "language_info": {
   "codemirror_mode": {
    "name": "ipython",
    "version": 3
   },
   "file_extension": ".py",
   "mimetype": "text/x-python",
   "name": "python",
   "nbconvert_exporter": "python",
   "pygments_lexer": "ipython3",
   "version": "3.9.7"
  },
  "toc": {
   "base_numbering": 1,
   "nav_menu": {},
   "number_sections": false,
   "sideBar": true,
   "skip_h1_title": false,
   "title_cell": "Table of Contents",
   "title_sidebar": "Contents",
   "toc_cell": false,
   "toc_position": {},
   "toc_section_display": true,
   "toc_window_display": false
  }
 },
 "nbformat": 4,
 "nbformat_minor": 5
}
