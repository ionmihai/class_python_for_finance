{
 "cells": [
  {
   "cell_type": "markdown",
   "id": "34bb1cd9",
   "metadata": {},
   "source": [
    "Run the cell below:"
   ]
  },
  {
   "cell_type": "code",
   "execution_count": null,
   "id": "5bb73fc5",
   "metadata": {},
   "outputs": [],
   "source": [
    "import pandas as pd\n",
    "import numpy as np\n",
    "import yfinance as yf\n",
    "import pandas_datareader as pdr"
   ]
  },
  {
   "cell_type": "markdown",
   "id": "7a56491a",
   "metadata": {},
   "source": [
    "# Problem 1 \n",
    "### (10 x 5 = 50 points)\n",
    "\n",
    "In this problem, you will analyze how the correlation between future corporate investment and current operating cash flows differs between dividend payers and non-payers.\n",
    "\n",
    "1. Load the Compustat data (the \"compa.zip\" file from the \"data\" folder) into a dataframe called ``rawcomp``. Print out the column names of ``rawcomp``.\n",
    "2. Create a new dataframe called ``comp`` that contains the following variables from ``rawcomp``: 'permno','datadate','ppent' (net PP\\&E),'oancf' (operating cash flows),'at' (total assets),'dvc' (cash dividend). Then get rid of all rows that have any missing values in any of these variables. Then keep only the rows where both total assets and net PP\\&E are strictly larger than 0. Display the first two rows of ``comp``. All future instructions refer to the ``comp`` dataframe.\n",
    "3. Create a new column in ``comp`` called ``year`` that extracts just the year from ``datadate``. Then sort ``comp`` by ``permno`` and ``datadate``. Then drop duplicates with respect to ``permno`` and ``year``, keeping only the last observation when a duplicate is found. Print the first two rows of this new version of ``comp``.\n",
    "4. For each firm, each year, calculate the percentage change in ``ppent``. Call this new variable ``invest``. Then create a new variable called ``future_invest`` which gives us the value of ``invest`` from the following year, for each firm (assume there are no \"gaps\" in the data). Finally create a new variable called ``cflow`` which equals operating cash flows divided by total assets. Print a table that gives us the mean, median and standard deviation (only these 3 stats) for the ``invest``, ``future_invest``, and ``cflow`` variables.\n",
    "5. Winsorize ``invest``, ``future_invest``, and ``cflow`` at the 1st and 99th percentiles. Call these winsorize variables ``w_invest``, ``w_future_invest``, and ``w_cflow`` respectively. Print a table that gives us the mean, median and standard deviation (only these 3 stats) for the ``w_invest``, ``w_future_invest``, and ``w_cflow`` variables. (Note how they differ from the non-winsorize statistics.)\n",
    "6. Create a new variable called ``div_payer`` which equals 1 for observations (rows) where the cash divided is strictly larger than 0, and 0 otherwise. Print out how many times ``div_payer`` equals 1 and how many times it equals 0.\n",
    "7. Every year, calculate the correlation between ``w_future_invest`` and ``w_cflow`` using only the observations from that year. Then plot this time-series of correlations over time.\n",
    "8. Now do the same thing separately for divided payers vs non-payers: i.e. every year, you should have two correlations between ``w_future_invest`` and ``w_cflow``: one which uses the data for dividend payers that year, and one using the data for non-payers that year. Store these correlations in a dataframe called ``ann_corrs_div`` and print its first 4 rows.\n",
    "9. Reshape the ``ann_corrs_div`` dataframe to a wide format, where the correlations for dividend payers show up in a separate column from the correlations for non-payers. Call this wide dataframe ``ann_corrs_wide`` and print its first 2 rows.\n",
    "10. Plot the time-series of correlations for dividend payers and the one for non-payers as two lines in the same plot."
   ]
  },
  {
   "cell_type": "code",
   "execution_count": null,
   "id": "a3be1909",
   "metadata": {},
   "outputs": [],
   "source": [
    "# 1\n"
   ]
  },
  {
   "cell_type": "code",
   "execution_count": null,
   "id": "55859d12",
   "metadata": {},
   "outputs": [],
   "source": [
    "# 2\n"
   ]
  },
  {
   "cell_type": "code",
   "execution_count": null,
   "id": "5a7a5af7",
   "metadata": {},
   "outputs": [],
   "source": [
    "# 3\n"
   ]
  },
  {
   "cell_type": "code",
   "execution_count": null,
   "id": "8c6b5ba9",
   "metadata": {},
   "outputs": [],
   "source": [
    "# 4\n"
   ]
  },
  {
   "cell_type": "code",
   "execution_count": null,
   "id": "d6f84374",
   "metadata": {},
   "outputs": [],
   "source": [
    "# 5\n"
   ]
  },
  {
   "cell_type": "code",
   "execution_count": null,
   "id": "d1a0c537",
   "metadata": {},
   "outputs": [],
   "source": [
    "# 6\n"
   ]
  },
  {
   "cell_type": "code",
   "execution_count": null,
   "id": "3a7f94e7",
   "metadata": {},
   "outputs": [],
   "source": [
    "# 7\n"
   ]
  },
  {
   "cell_type": "code",
   "execution_count": null,
   "id": "8c3efa3c",
   "metadata": {},
   "outputs": [],
   "source": [
    "# 8\n"
   ]
  },
  {
   "cell_type": "code",
   "execution_count": null,
   "id": "b5eff8d1",
   "metadata": {},
   "outputs": [],
   "source": [
    "# 9\n"
   ]
  },
  {
   "cell_type": "code",
   "execution_count": null,
   "id": "5cb775e3",
   "metadata": {},
   "outputs": [],
   "source": [
    "# 10\n"
   ]
  },
  {
   "cell_type": "markdown",
   "id": "712d4d54",
   "metadata": {},
   "source": [
    "# Problem 2\n",
    "### (10 x 5 = 50 points)\n",
    "\n",
    "In this problem, you will calculate value-weighted industry returns using all publicly traded firms from 1980 to 2020.\n",
    "\n",
    "1. Load the monthly CRSP data (the ``crspm.zip`` file from the ``data`` folder) into a new dataframe called ``rawcrsp``. Print the names of the columns of ``rawcrsp``.\n",
    "2. Create a new variable in ``rawcrsp`` called ``mktcap`` (market capitalization) which equals the absolute value of price (``prc``) times the number of shares (``shrout``). Display the first 2 rows of ``rawcrsp``.\n",
    "3. Create a new dataframe called ``crsp`` which contains the following variables from ``rawcrsp``: 'permno','date','ret','mktcap', 'siccd'. Then drop all rows in ``crsp`` which contain any missing values in any of its columns. Display the first 2 rows of ``crsp``.\n",
    "4. Create a new column in ``crsp`` called ``mdate`` which equals the ``date`` variable converted to a monthly \"period\" type. Print a table which contains only the minimum and maximum values of ``mdate``.\n",
    "5. Create a new column in ``crsp`` called ``sector`` which equals the first digit of the SIC code (``siccd``). Print a table which shows how many observations we have for each value of ``sector``.\n",
    "6. Create a new column in ``crsp`` called ``weights`` which, for every firm, every month, gives us the market capitalization of that firm divided by the sum of the market capitalizations of all firms that are in the same sector as that firm that month (think of the weights in a portfolio, where the portfolio is the sector that the firm operates in that month). Use ``.describe()`` to print out the summary statistics of the ``weights`` variable.\n",
    "7. Create a new variable in ``crsp`` called ``vwret`` which equals the firm's return times its industry weight (given by ``weights``). Then, each month, for each sector, add up these ``vwret`` values of the firms in that sector, that month. This will give you the value-weighted return of each sector, each month. Store these returns in a new dataframe called ``ind_vwret``. Display the first 20 rows of ``ind_vwret``.\n",
    "8. Create a new dataframe called ``ind_vwret_wide`` which is a reshaped version of ``ind_vwret``, where the returns of each sector show up in a separate column. Display the first two rows of ``ind_vwret_wide``.\n",
    "9. Plot the returns for sectors 3 (manufacturing) and 6 (finance), in two subplots of the same plot. \n",
    "10. For sectors 3 and 6, compound their returns over time, and plot these two time-series of compounded returns in the same plot."
   ]
  },
  {
   "cell_type": "code",
   "execution_count": null,
   "id": "e6824b60",
   "metadata": {},
   "outputs": [],
   "source": [
    "# 1\n"
   ]
  },
  {
   "cell_type": "code",
   "execution_count": null,
   "id": "96e22fdb",
   "metadata": {},
   "outputs": [],
   "source": [
    "# 2\n"
   ]
  },
  {
   "cell_type": "code",
   "execution_count": null,
   "id": "b672ff4e",
   "metadata": {},
   "outputs": [],
   "source": [
    "# 3\n"
   ]
  },
  {
   "cell_type": "code",
   "execution_count": null,
   "id": "e89bddd5",
   "metadata": {},
   "outputs": [],
   "source": [
    "# 4\n"
   ]
  },
  {
   "cell_type": "code",
   "execution_count": null,
   "id": "fb8ba7a3",
   "metadata": {},
   "outputs": [],
   "source": [
    "# 5\n"
   ]
  },
  {
   "cell_type": "code",
   "execution_count": null,
   "id": "82ff41b2",
   "metadata": {},
   "outputs": [],
   "source": [
    "# 6\n"
   ]
  },
  {
   "cell_type": "code",
   "execution_count": null,
   "id": "b07a018a",
   "metadata": {},
   "outputs": [],
   "source": [
    "# 7\n"
   ]
  },
  {
   "cell_type": "code",
   "execution_count": null,
   "id": "21748be5",
   "metadata": {},
   "outputs": [],
   "source": [
    "# 8\n"
   ]
  },
  {
   "cell_type": "code",
   "execution_count": null,
   "id": "7e795f44",
   "metadata": {},
   "outputs": [],
   "source": [
    "# 9\n"
   ]
  },
  {
   "cell_type": "code",
   "execution_count": null,
   "id": "56377c1a",
   "metadata": {},
   "outputs": [],
   "source": [
    "# 10\n"
   ]
  }
 ],
 "metadata": {
  "kernelspec": {
   "display_name": "Python 3 (ipykernel)",
   "language": "python",
   "name": "python3"
  },
  "language_info": {
   "codemirror_mode": {
    "name": "ipython",
    "version": 3
   },
   "file_extension": ".py",
   "mimetype": "text/x-python",
   "name": "python",
   "nbconvert_exporter": "python",
   "pygments_lexer": "ipython3",
   "version": "3.8.5"
  },
  "toc": {
   "base_numbering": 1,
   "nav_menu": {},
   "number_sections": false,
   "sideBar": true,
   "skip_h1_title": false,
   "title_cell": "Table of Contents",
   "title_sidebar": "Contents",
   "toc_cell": false,
   "toc_position": {},
   "toc_section_display": true,
   "toc_window_display": false
  }
 },
 "nbformat": 4,
 "nbformat_minor": 5
}
