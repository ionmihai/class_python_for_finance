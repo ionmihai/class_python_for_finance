{
 "cells": [
  {
   "cell_type": "markdown",
   "id": "cb76b07b",
   "metadata": {},
   "source": [
    "Run the cells below:"
   ]
  },
  {
   "cell_type": "code",
   "execution_count": null,
   "id": "acf951e2",
   "metadata": {},
   "outputs": [],
   "source": [
    "import pandas as pd\n",
    "import numpy as np\n",
    "import pandas_datareader as pdr"
   ]
  },
  {
   "cell_type": "code",
   "execution_count": null,
   "id": "7767d4d5",
   "metadata": {},
   "outputs": [],
   "source": [
    "#Load data on 6 size x bm portfolios (annual VW returns)\n",
    "raw = pdr.DataReader(name = '6_Portfolios_2x3', data_source = 'famafrench', \n",
    "                     start = '2011-01-01', end = '2020-12-31')[2]/100\n",
    "\n",
    "#Rename the columns\n",
    "raw.columns = pd.MultiIndex.from_product([['Small','Big'], ['lowBM','medBM','highBM']], names = ['Size','BM'])\n",
    "raw"
   ]
  },
  {
   "cell_type": "code",
   "execution_count": null,
   "id": "524b553c",
   "metadata": {},
   "outputs": [],
   "source": [
    "#Stack BM portfolios on top of each other\n",
    "bmstack = raw.stack(level=1).reset_index()\n",
    "bmstack.head(6)"
   ]
  },
  {
   "cell_type": "code",
   "execution_count": null,
   "id": "ef91cb38",
   "metadata": {},
   "outputs": [],
   "source": [
    "#Stack Size portfolios on top of each other\n",
    "szstack = raw.stack(level=0).reset_index()\n",
    "szstack.head(6)"
   ]
  },
  {
   "cell_type": "code",
   "execution_count": null,
   "id": "abc66f06",
   "metadata": {},
   "outputs": [],
   "source": [
    "#Full stack\n",
    "fullstack = raw.stack(level = [0,1]).reset_index().rename(columns = {0:'vwret'})\n",
    "fullstack.head(6)"
   ]
  },
  {
   "cell_type": "markdown",
   "id": "b2dadc93",
   "metadata": {},
   "source": [
    "You can use any of the dataframes above to answer any of the questions below. You will notice that, generally, each question is much easier to answer using one of these dataframes rather than the rest. "
   ]
  },
  {
   "cell_type": "markdown",
   "id": "ffa6936c",
   "metadata": {},
   "source": [
    "Plot the time-series of returns of each of the three \"Big\" portfolios (in a single plot)."
   ]
  },
  {
   "cell_type": "code",
   "execution_count": null,
   "id": "1d963fca",
   "metadata": {},
   "outputs": [],
   "source": []
  },
  {
   "cell_type": "markdown",
   "id": "4c4b515a",
   "metadata": {},
   "source": [
    "Create a table which contains the average returns of each of the 6 portfolios in the dataset (3 small and 3 big). This should be a 3 x 2 table. Which of the 6 portfolios has had the best performance over these last 10 years?"
   ]
  },
  {
   "cell_type": "code",
   "execution_count": null,
   "id": "3b847762",
   "metadata": {},
   "outputs": [],
   "source": []
  },
  {
   "cell_type": "markdown",
   "id": "7cc33f96",
   "metadata": {},
   "source": [
    "Now create an analogous table that contains standard deviations of returns for each of the 6 portfolios. Does the risk-return tradeoff seem to apply?"
   ]
  },
  {
   "cell_type": "code",
   "execution_count": null,
   "id": "b5c72415",
   "metadata": {},
   "outputs": [],
   "source": []
  },
  {
   "cell_type": "markdown",
   "id": "069209c0",
   "metadata": {},
   "source": [
    "Each year, calculate the average returns of the 3 \"small\" portfolios and the 3 \"big\" portfolios. Then plot these annual averages in the same plot: one for the \"small\" portolios and one for the \"big\" portfolios."
   ]
  },
  {
   "cell_type": "code",
   "execution_count": null,
   "id": "dcc1943d",
   "metadata": {},
   "outputs": [],
   "source": []
  },
  {
   "cell_type": "markdown",
   "id": "ae156b2a",
   "metadata": {},
   "source": [
    "Each year, calculate the average return of the two \"lowBM\" portfolios (the \"Small\" one and the \"Big\" one), the average return of the two \"medBM\" portfolios, and the average return of the two \"highBM\" portfolios. Plot these 3 time-series of average returns in the same plot. "
   ]
  },
  {
   "cell_type": "code",
   "execution_count": null,
   "id": "10ddc4e5",
   "metadata": {},
   "outputs": [],
   "source": []
  },
  {
   "cell_type": "markdown",
   "id": "d50e7a1f",
   "metadata": {},
   "source": [
    "Add a column to the ``fullstack`` dataframe (call it \"maxret\") that, for each year, gives us the maximum return among the returns of the 6 portfolios that year (i.e. this value will be the same for all the 6 rows corresponding to that year). Display the first 12 rows of this new version of ``fullstack``."
   ]
  },
  {
   "cell_type": "code",
   "execution_count": null,
   "id": "cbbd0671",
   "metadata": {},
   "outputs": [],
   "source": []
  },
  {
   "cell_type": "markdown",
   "id": "7b677461",
   "metadata": {},
   "source": [
    "Print the time-series of returns you would achieve if you were able to perfectly time which of the 6 portfolios was going to have the largest return that year."
   ]
  },
  {
   "cell_type": "code",
   "execution_count": null,
   "id": "28a092de",
   "metadata": {},
   "outputs": [],
   "source": []
  },
  {
   "cell_type": "code",
   "execution_count": null,
   "id": "ac76c223",
   "metadata": {},
   "outputs": [],
   "source": []
  }
 ],
 "metadata": {
  "kernelspec": {
   "display_name": "Python 3",
   "language": "python",
   "name": "python3"
  },
  "language_info": {
   "codemirror_mode": {
    "name": "ipython",
    "version": 3
   },
   "file_extension": ".py",
   "mimetype": "text/x-python",
   "name": "python",
   "nbconvert_exporter": "python",
   "pygments_lexer": "ipython3",
   "version": "3.9.7"
  }
 },
 "nbformat": 4,
 "nbformat_minor": 5
}
