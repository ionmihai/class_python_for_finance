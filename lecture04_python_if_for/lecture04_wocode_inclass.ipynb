{
 "cells": [
  {
   "cell_type": "markdown",
   "id": "489bc27a",
   "metadata": {
    "toc": true
   },
   "source": [
    "<h1>Table of Contents<span class=\"tocSkip\"></span></h1>\n",
    "<div class=\"toc\"><ul class=\"toc-item\"><li><span><a href=\"#Conditional-Statements-(if-/-elif-/-else)\" data-toc-modified-id=\"Conditional-Statements-(if-/-elif-/-else)-1\"><span class=\"toc-item-num\">1&nbsp;&nbsp;</span>Conditional Statements (if / elif / else)</a></span></li><li><span><a href=\"#Iteration-('for'-loops)\" data-toc-modified-id=\"Iteration-('for'-loops)-2\"><span class=\"toc-item-num\">2&nbsp;&nbsp;</span>Iteration ('for' loops)</a></span><ul class=\"toc-item\"><li><span><a href=\"#The-range()-function\" data-toc-modified-id=\"The-range()-function-2.1\"><span class=\"toc-item-num\">2.1&nbsp;&nbsp;</span>The range() function</a></span></li><li><span><a href=\"#List-comprehensions\" data-toc-modified-id=\"List-comprehensions-2.2\"><span class=\"toc-item-num\">2.2&nbsp;&nbsp;</span>List comprehensions</a></span></li></ul></li></ul></div>"
   ]
  },
  {
   "cell_type": "markdown",
   "id": "811bd5d7",
   "metadata": {},
   "source": [
    "# Conditional Statements (if / elif / else)\n",
    "\n",
    "Conditional statements allow us to tell Python to run certain lines of code (statements) only if some condition is satisfied. The syntax for conditional statements in python is as follows:\n",
    "\n",
    "```python\n",
    "if <condition>:\n",
    "    <statement(s)>\n",
    "elif <condition>:\n",
    "    <statement(s)>\n",
    "else:\n",
    "    <statement(s)>\n",
    "```\n",
    "Note that the \"<>\" symbols should not appear in your code. They just signify places where *you* are expected to input something. \n",
    "\n",
    "Each conditional statement must have exactly one \"if\" condition, any number of \"elif\" conditions (as long as they are all between \"if\" and \"else\") and zero or one \"else\" statements. Each if/elif/else block is called a **branch** of that conditional statement.\n",
    "\n",
    "Let's work through some examples to show exactly how these conditional statements function:"
   ]
  },
  {
   "cell_type": "code",
   "execution_count": 2,
   "id": "0bfba8fc",
   "metadata": {},
   "outputs": [
    {
     "name": "stdout",
     "output_type": "stream",
     "text": [
      "lt\n"
     ]
    }
   ],
   "source": [
    "a = 9\n",
    "\n",
    "if a < 10:\n",
    "    print('lt')\n",
    "elif a == 10:\n",
    "    print('eq')\n",
    "else:\n",
    "    print('gt')"
   ]
  },
  {
   "cell_type": "markdown",
   "id": "7fc1ae22",
   "metadata": {},
   "source": [
    "Indentation matters: all lines of code under a particular if/else branch must have the same indent (which must be deeper than the indent of the if statement itself):"
   ]
  },
  {
   "cell_type": "code",
   "execution_count": 5,
   "id": "2cd784dc",
   "metadata": {},
   "outputs": [
    {
     "ename": "IndentationError",
     "evalue": "expected an indented block (Temp/ipykernel_13860/2460829337.py, line 2)",
     "output_type": "error",
     "traceback": [
      "\u001b[1;36m  File \u001b[1;32m\"C:\\Users\\ionmi\\AppData\\Local\\Temp/ipykernel_13860/2460829337.py\"\u001b[1;36m, line \u001b[1;32m2\u001b[0m\n\u001b[1;33m    print(\"this wont work\")\u001b[0m\n\u001b[1;37m    ^\u001b[0m\n\u001b[1;31mIndentationError\u001b[0m\u001b[1;31m:\u001b[0m expected an indented block\n"
     ]
    }
   ],
   "source": [
    "if 1 > 0:\n",
    "print(\"this wont work\")"
   ]
  },
  {
   "cell_type": "code",
   "execution_count": 8,
   "id": "aa415449",
   "metadata": {},
   "outputs": [
    {
     "ename": "IndentationError",
     "evalue": "unexpected indent (Temp/ipykernel_13860/3126815951.py, line 3)",
     "output_type": "error",
     "traceback": [
      "\u001b[1;36m  File \u001b[1;32m\"C:\\Users\\ionmi\\AppData\\Local\\Temp/ipykernel_13860/3126815951.py\"\u001b[1;36m, line \u001b[1;32m3\u001b[0m\n\u001b[1;33m    print(\"wont work\")\u001b[0m\n\u001b[1;37m    ^\u001b[0m\n\u001b[1;31mIndentationError\u001b[0m\u001b[1;31m:\u001b[0m unexpected indent\n"
     ]
    }
   ],
   "source": [
    "if 1 > 0:\n",
    "    print('this')\n",
    "        print(\"wont work\")"
   ]
  },
  {
   "cell_type": "markdown",
   "id": "44243f4f",
   "metadata": {},
   "source": [
    "The order of the conditions matters: only the statements under the **first** true condition (from the top) will be executed:"
   ]
  },
  {
   "cell_type": "code",
   "execution_count": 9,
   "id": "34b07ec2",
   "metadata": {},
   "outputs": [
    {
     "name": "stdout",
     "output_type": "stream",
     "text": [
      "1\n"
     ]
    }
   ],
   "source": [
    "if 1 == 1:\n",
    "    print(1)\n",
    "elif 2 == 2:\n",
    "    print(2)\n",
    "else:\n",
    "    print('asd')"
   ]
  },
  {
   "cell_type": "markdown",
   "id": "37d1943b",
   "metadata": {},
   "source": [
    "Anything that has a truth value (i.e. evaluates to True or False) can be supplied as the condition after an \"if\" or \"elif\" (but not after \"else\"):"
   ]
  },
  {
   "cell_type": "code",
   "execution_count": 11,
   "id": "3186e382",
   "metadata": {},
   "outputs": [
    {
     "name": "stdout",
     "output_type": "stream",
     "text": [
      "True\n",
      "it's in\n"
     ]
    }
   ],
   "source": [
    "a = 1 in [1,2]\n",
    "print(a)\n",
    "\n",
    "if a:\n",
    "    print(\"it's in\")"
   ]
  },
  {
   "cell_type": "markdown",
   "id": "4864d376",
   "metadata": {},
   "source": [
    "From the Python official documentation (https://docs.python.org/3/library/stdtypes.html):\n",
    "\n",
    "Here are most of the built-in objects considered false:\n",
    "\n",
    "- constants defined to be false: None and False.\n",
    "\n",
    "- zero of any numeric type: 0, 0.0, 0j, Decimal(0), Fraction(0, 1)\n",
    "\n",
    "- empty sequences and collections: '', (), [], {}, set(), range(0)"
   ]
  },
  {
   "cell_type": "code",
   "execution_count": 14,
   "id": "438ffbd5",
   "metadata": {},
   "outputs": [],
   "source": [
    "if False:\n",
    "    print(1)\n",
    "    \n",
    "if 0:\n",
    "    print(2)\n",
    "    \n",
    "if []:\n",
    "    print(3)"
   ]
  },
  {
   "cell_type": "code",
   "execution_count": 19,
   "id": "e20c2a94",
   "metadata": {},
   "outputs": [
    {
     "name": "stdout",
     "output_type": "stream",
     "text": [
      "1\n",
      "2\n",
      "3\n"
     ]
    }
   ],
   "source": [
    "if True:\n",
    "    print(1)\n",
    "    \n",
    "if 1:\n",
    "    print(2)\n",
    "    \n",
    "if ['asd']:\n",
    "    print(3)"
   ]
  },
  {
   "cell_type": "markdown",
   "id": "687d062b",
   "metadata": {},
   "source": [
    "Compound conditions (joined by logical operators like \"and\", \"or\") can be supplied on any \"if\" and \"elif\". Just make sure each condition is in its own set of parentheses:"
   ]
  },
  {
   "cell_type": "code",
   "execution_count": 20,
   "id": "15fb0092",
   "metadata": {},
   "outputs": [
    {
     "name": "stdout",
     "output_type": "stream",
     "text": [
      "this\n"
     ]
    }
   ],
   "source": [
    "if (1>2) or (2>0):\n",
    "    print('this')"
   ]
  },
  {
   "cell_type": "markdown",
   "id": "8d884a72",
   "metadata": {},
   "source": [
    "# Iteration ('for' loops)"
   ]
  },
  {
   "cell_type": "markdown",
   "id": "1e135585",
   "metadata": {},
   "source": [
    "The concept of iteration is fundamental to all programming languages. Iteration is one of the key reasons why programming is so powerful: it allows us to do something repeatedly, with only a slight modification each time around. We'll explain what that means using lots of examples below, but first, here is the general syntax of a \"for\" loop - the most widely used method of iteration in Python: "
   ]
  },
  {
   "cell_type": "markdown",
   "id": "c814fd3d",
   "metadata": {},
   "source": [
    "```python\n",
    "for <var> in <iterable>:\n",
    "    <statement(s)>\n",
    "```"
   ]
  },
  {
   "cell_type": "markdown",
   "id": "cd2b10a9",
   "metadata": {},
   "source": [
    "For example, in the loop below, \\<var\\> is i, \\<iterable\\> is the list \\[1, 'a', [2,3]\\], and \\<statement(s)\\> is the single line of code \"print(i)\""
   ]
  },
  {
   "cell_type": "code",
   "execution_count": 24,
   "id": "13ec9819",
   "metadata": {},
   "outputs": [
    {
     "name": "stdout",
     "output_type": "stream",
     "text": [
      "1\n",
      "a\n",
      "[2, 3]\n"
     ]
    }
   ],
   "source": [
    "for i in [1 , 'a', [2,3]]:\n",
    "    print(i)"
   ]
  },
  {
   "cell_type": "markdown",
   "id": "e430990e",
   "metadata": {},
   "source": [
    "The for loop \"iterates over\" (i.e. cycles through the elements of) the list \\[1, 'a', [2,3]\\]. Each time around, it assigns that element the name i, and then it executes the line(s) of code in the \"body\" of the for loop (i.e. \"print(i)\") in our example.\n",
    "\n",
    "So the for loop above is equivalent to the following code:"
   ]
  },
  {
   "cell_type": "code",
   "execution_count": 25,
   "id": "2a565e28",
   "metadata": {},
   "outputs": [
    {
     "name": "stdout",
     "output_type": "stream",
     "text": [
      "1\n",
      "a\n",
      "[2, 3]\n"
     ]
    }
   ],
   "source": [
    "i = 1\n",
    "print(i)\n",
    "i = 'a'\n",
    "print(i)\n",
    "i = [2,3]\n",
    "print(i)"
   ]
  },
  {
   "cell_type": "markdown",
   "id": "010ef339",
   "metadata": {},
   "source": [
    "Just like with \"if\" statements, the body of the loop can contain multiple lines of code (statements), as long as they have the same indent:"
   ]
  },
  {
   "cell_type": "code",
   "execution_count": 26,
   "id": "ede08c20",
   "metadata": {},
   "outputs": [
    {
     "name": "stdout",
     "output_type": "stream",
     "text": [
      "1\n",
      "4\n",
      "9\n"
     ]
    }
   ],
   "source": [
    "for i in [1,2,3]:\n",
    "    x = i**2\n",
    "    print(x)"
   ]
  },
  {
   "cell_type": "markdown",
   "id": "d8c41573",
   "metadata": {},
   "source": [
    "Can you tell why the following code does not produce the same output?"
   ]
  },
  {
   "cell_type": "code",
   "execution_count": 29,
   "id": "aa5e662b",
   "metadata": {},
   "outputs": [
    {
     "name": "stdout",
     "output_type": "stream",
     "text": [
      "9\n"
     ]
    }
   ],
   "source": [
    "for i in [1,2,3]:\n",
    "    x = i**2   \n",
    "print(x)"
   ]
  },
  {
   "cell_type": "markdown",
   "id": "a0c50bdd",
   "metadata": {},
   "source": [
    "The \"iterable\" that we iterate over with the for loop, does not have to be a list. It can be any data structure with elements over which Python knows how to cycle (e.g. a tuple, a dictionary, a string, and many others):"
   ]
  },
  {
   "cell_type": "code",
   "execution_count": 30,
   "id": "8ab7d55a",
   "metadata": {},
   "outputs": [
    {
     "name": "stdout",
     "output_type": "stream",
     "text": [
      "a\n",
      "b\n",
      "c\n"
     ]
    }
   ],
   "source": [
    "# Iterating over a string:\n",
    "for x in 'abc':\n",
    "    print(x)"
   ]
  },
  {
   "cell_type": "code",
   "execution_count": 31,
   "id": "2bad2919",
   "metadata": {},
   "outputs": [
    {
     "name": "stdout",
     "output_type": "stream",
     "text": [
      "1\n",
      "2\n",
      "3\n"
     ]
    }
   ],
   "source": [
    "# Iterating over a tuple:\n",
    "for x in (1,2,3):\n",
    "    print(x)"
   ]
  },
  {
   "cell_type": "code",
   "execution_count": 32,
   "id": "8e26c77a",
   "metadata": {},
   "outputs": [
    {
     "name": "stdout",
     "output_type": "stream",
     "text": [
      "1\n",
      "2\n"
     ]
    }
   ],
   "source": [
    "# Iterating over a dict\n",
    "myDict = {1: 'a', \n",
    "          2: 'b'}\n",
    "\n",
    "for x in myDict:\n",
    "    print(x)"
   ]
  },
  {
   "cell_type": "markdown",
   "id": "d516d45e",
   "metadata": {},
   "source": [
    "Note that the loop only iterates over the \"keys\" of the dictionary. If we want access to the \"values\" of the dictionary we have to use the \"values()\" attribute for dictionaries:"
   ]
  },
  {
   "cell_type": "code",
   "execution_count": 33,
   "id": "6c0dd837",
   "metadata": {},
   "outputs": [
    {
     "name": "stdout",
     "output_type": "stream",
     "text": [
      "dict_values(['a', 'b'])\n"
     ]
    }
   ],
   "source": [
    "print(myDict.values())"
   ]
  },
  {
   "cell_type": "code",
   "execution_count": 34,
   "id": "8b495b8e",
   "metadata": {},
   "outputs": [
    {
     "name": "stdout",
     "output_type": "stream",
     "text": [
      "a\n",
      "b\n"
     ]
    }
   ],
   "source": [
    "for x in myDict.values():\n",
    "    print(x)"
   ]
  },
  {
   "cell_type": "markdown",
   "id": "9ac0d47d",
   "metadata": {},
   "source": [
    "This dictionary example shows you that the behavior of the loop depends crucially on the nature of the iterable you supply it (i.e. Python may iterate over objects of different types in different ways). The easiest way to see how Python iterates over objects of a particular type is to just create an example of such a type and then print its elements in a loop.\n",
    "\n",
    "For example, if you were curious how Python iterates over a nested list (a list of lists), you can use something like this:"
   ]
  },
  {
   "cell_type": "code",
   "execution_count": 36,
   "id": "ed9644c6",
   "metadata": {},
   "outputs": [
    {
     "name": "stdout",
     "output_type": "stream",
     "text": [
      "[1, 2]\n",
      "[3, 4]\n",
      "[5, 6]\n"
     ]
    }
   ],
   "source": [
    "m = [[1,2], [3,4], [5,6]]\n",
    "for i in m:\n",
    "    print(i)"
   ]
  },
  {
   "cell_type": "markdown",
   "id": "11242b70",
   "metadata": {},
   "source": [
    "**The \"break\" statement**\n",
    "\n",
    "The \"break\" command tells Python to exit the loop regardless of weather it has finished looping through the elements of its iterable:"
   ]
  },
  {
   "cell_type": "code",
   "execution_count": 37,
   "id": "d1c9499c",
   "metadata": {},
   "outputs": [],
   "source": [
    "for i in [1,2,3]:\n",
    "    break\n",
    "    print(i)"
   ]
  },
  {
   "cell_type": "code",
   "execution_count": 40,
   "id": "109c2442",
   "metadata": {},
   "outputs": [
    {
     "name": "stdout",
     "output_type": "stream",
     "text": [
      "1\n",
      "2\n"
     ]
    }
   ],
   "source": [
    "for i in [1,2,3]:\n",
    "    if i < 3:\n",
    "        print(i)\n",
    "    else:\n",
    "        break"
   ]
  },
  {
   "cell_type": "markdown",
   "id": "1cb8518e",
   "metadata": {},
   "source": [
    "## The range() function\n",
    "\n",
    "A range is another type of iterable that is commonly used in for loops. Ranges are sequences of integers created using the range() function.\n",
    "\n",
    "The syntax of the range function is as follows:\n",
    "```python\n",
    "range(<start>, <end>, <step>)\n",
    "```\n",
    "\n",
    "This gives us all the integers from \"start\" to \"end\" (*excluding* \"end\") in increments of \"step\". Both the \"start\" and \"step\" arguments can be omitted, but \"end\" must be supplied.\n",
    "\n",
    "Let's work through some examples:"
   ]
  },
  {
   "cell_type": "code",
   "execution_count": 41,
   "id": "3c8a3e9c",
   "metadata": {},
   "outputs": [
    {
     "name": "stdout",
     "output_type": "stream",
     "text": [
      "1\n",
      "4\n",
      "7\n"
     ]
    }
   ],
   "source": [
    "for i in range(1,10,3):\n",
    "    print(i)"
   ]
  },
  {
   "cell_type": "code",
   "execution_count": 42,
   "id": "ba91f78e",
   "metadata": {},
   "outputs": [
    {
     "name": "stdout",
     "output_type": "stream",
     "text": [
      "0\n",
      "1\n",
      "2\n"
     ]
    }
   ],
   "source": [
    "for i in range(3):\n",
    "    print(i)"
   ]
  },
  {
   "cell_type": "markdown",
   "id": "0e14d5c4",
   "metadata": {},
   "source": [
    "## List comprehensions\n",
    "\n",
    "If we want to apply some simple transformation to all the elements in an iterable and store these transformations in a new list, we can use a Python construct called **list comprehensions**.\n",
    "\n",
    "The syntax for list comprehensions is as follows:\n",
    "```python\n",
    "<newList> = [<statement> for i in <existingList> if <condition> ]\n",
    "```\n",
    "In the above notation, Python goes through all the elements in \"existingList\" that satisfy \"condition\", inputs each of these elements into \"statement\" (i.e. some Python code) one by one, and collects the results of these statements into a new list called \"newList\".\n",
    "\n",
    "That sounds pretty complicated but it really isn't once you look at some examples:"
   ]
  },
  {
   "cell_type": "code",
   "execution_count": 43,
   "id": "c8fcd8c4",
   "metadata": {},
   "outputs": [
    {
     "name": "stdout",
     "output_type": "stream",
     "text": [
      "[1, 4]\n"
     ]
    }
   ],
   "source": [
    "myiter = [1,2,3]\n",
    "\n",
    "sq = [i**2 for i in myiter if i < 3]\n",
    "print(sq)"
   ]
  },
  {
   "cell_type": "markdown",
   "id": "1b0a9250",
   "metadata": {},
   "source": [
    "The if statement is not required:"
   ]
  },
  {
   "cell_type": "code",
   "execution_count": 44,
   "id": "a709bc1d",
   "metadata": {
    "scrolled": true
   },
   "outputs": [
    {
     "name": "stdout",
     "output_type": "stream",
     "text": [
      "[1, 4, 9]\n"
     ]
    }
   ],
   "source": [
    "sq = [i**2 for i in myiter]\n",
    "print(sq)"
   ]
  },
  {
   "cell_type": "code",
   "execution_count": null,
   "id": "be1aed41",
   "metadata": {},
   "outputs": [],
   "source": []
  }
 ],
 "metadata": {
  "kernelspec": {
   "display_name": "Python 3 (ipykernel)",
   "language": "python",
   "name": "python3"
  },
  "language_info": {
   "codemirror_mode": {
    "name": "ipython",
    "version": 3
   },
   "file_extension": ".py",
   "mimetype": "text/x-python",
   "name": "python",
   "nbconvert_exporter": "python",
   "pygments_lexer": "ipython3",
   "version": "3.8.5"
  },
  "toc": {
   "base_numbering": 1,
   "nav_menu": {},
   "number_sections": true,
   "sideBar": true,
   "skip_h1_title": false,
   "title_cell": "Table of Contents",
   "title_sidebar": "Contents",
   "toc_cell": true,
   "toc_position": {},
   "toc_section_display": true,
   "toc_window_display": false
  }
 },
 "nbformat": 4,
 "nbformat_minor": 5
}
