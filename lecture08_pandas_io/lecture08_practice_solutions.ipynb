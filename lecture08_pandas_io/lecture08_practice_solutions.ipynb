{
 "cells": [
  {
   "cell_type": "markdown",
   "id": "b554ecc1",
   "metadata": {},
   "source": [
    "Run the cell below:"
   ]
  },
  {
   "cell_type": "code",
   "execution_count": 1,
   "id": "c273f254",
   "metadata": {},
   "outputs": [],
   "source": [
    "import pandas as pd"
   ]
  },
  {
   "cell_type": "markdown",
   "id": "b4f3ce1c",
   "metadata": {},
   "source": [
    "If you have not done so already, download the \"compa.zip\", \"crspm.zip\" and \"ff.zip\" files from the \"Lectures and Data / data\" tab in D2L into a \"data\" folder on your computer (located outside the folder containing this file, as explained in ``lecture0``)."
   ]
  },
  {
   "cell_type": "markdown",
   "id": "87b2cb31",
   "metadata": {},
   "source": [
    "Load the Compustat annual accounting data (\"compa.zip\") into a new dataframe called ``comp``."
   ]
  },
  {
   "cell_type": "code",
   "execution_count": 2,
   "id": "c4ed6923",
   "metadata": {},
   "outputs": [],
   "source": [
    "comp = pd.read_pickle('../data/compa.zip')"
   ]
  },
  {
   "cell_type": "markdown",
   "id": "47a3bc36",
   "metadata": {},
   "source": [
    "Print out the names of the columns in the ``comp`` dataframe."
   ]
  },
  {
   "cell_type": "code",
   "execution_count": 3,
   "id": "9463cf6b",
   "metadata": {},
   "outputs": [
    {
     "data": {
      "text/plain": [
       "Index(['permno', 'datadate', 'gvkey', 'tic', 'conm', 'at', 'capx', 'che',\n",
       "       'cogs', 'csho', 'dlc', 'dltt', 'dp', 'dvc', 'ib', 'oancf', 'ppegt',\n",
       "       'ppent', 'revt', 'sale', 'fic', 'prcc_f', 'sich'],\n",
       "      dtype='object')"
      ]
     },
     "execution_count": 3,
     "metadata": {},
     "output_type": "execute_result"
    }
   ],
   "source": [
    "comp.columns"
   ]
  },
  {
   "cell_type": "markdown",
   "id": "780ceb98",
   "metadata": {},
   "source": [
    "Load the CRSP monthly market data (\"crspm.zip\") into a new dataframe called ``crsp``."
   ]
  },
  {
   "cell_type": "code",
   "execution_count": 4,
   "id": "25147be1",
   "metadata": {},
   "outputs": [],
   "source": [
    "crsp = pd.read_pickle('../data/crspm.zip')"
   ]
  },
  {
   "cell_type": "markdown",
   "id": "dd233da8",
   "metadata": {},
   "source": [
    "Print out the names of the columns in the ``crsp`` dataframe."
   ]
  },
  {
   "cell_type": "code",
   "execution_count": 5,
   "id": "11a581ff",
   "metadata": {},
   "outputs": [
    {
     "data": {
      "text/plain": [
       "Index(['permno', 'permco', 'date', 'prc', 'ret', 'shrout', 'shrcd', 'exchcd',\n",
       "       'siccd', 'ticker'],\n",
       "      dtype='object')"
      ]
     },
     "execution_count": 5,
     "metadata": {},
     "output_type": "execute_result"
    }
   ],
   "source": [
    "crsp.columns"
   ]
  },
  {
   "cell_type": "markdown",
   "id": "7b657383",
   "metadata": {},
   "source": [
    "Print out the first three rows in the ``crsp`` dataframe."
   ]
  },
  {
   "cell_type": "code",
   "execution_count": 6,
   "id": "e961f9f9",
   "metadata": {},
   "outputs": [
    {
     "data": {
      "text/html": [
       "<div>\n",
       "<style scoped>\n",
       "    .dataframe tbody tr th:only-of-type {\n",
       "        vertical-align: middle;\n",
       "    }\n",
       "\n",
       "    .dataframe tbody tr th {\n",
       "        vertical-align: top;\n",
       "    }\n",
       "\n",
       "    .dataframe thead th {\n",
       "        text-align: right;\n",
       "    }\n",
       "</style>\n",
       "<table border=\"1\" class=\"dataframe\">\n",
       "  <thead>\n",
       "    <tr style=\"text-align: right;\">\n",
       "      <th></th>\n",
       "      <th>permno</th>\n",
       "      <th>permco</th>\n",
       "      <th>date</th>\n",
       "      <th>prc</th>\n",
       "      <th>ret</th>\n",
       "      <th>shrout</th>\n",
       "      <th>shrcd</th>\n",
       "      <th>exchcd</th>\n",
       "      <th>siccd</th>\n",
       "      <th>ticker</th>\n",
       "    </tr>\n",
       "  </thead>\n",
       "  <tbody>\n",
       "    <tr>\n",
       "      <th>0</th>\n",
       "      <td>10000.0</td>\n",
       "      <td>7952.0</td>\n",
       "      <td>1986-01-31</td>\n",
       "      <td>-4.3750</td>\n",
       "      <td>NaN</td>\n",
       "      <td>3680.0</td>\n",
       "      <td>10.0</td>\n",
       "      <td>3.0</td>\n",
       "      <td>3990.0</td>\n",
       "      <td>OMFGA</td>\n",
       "    </tr>\n",
       "    <tr>\n",
       "      <th>1</th>\n",
       "      <td>10000.0</td>\n",
       "      <td>7952.0</td>\n",
       "      <td>1986-02-28</td>\n",
       "      <td>-3.2500</td>\n",
       "      <td>-0.257143</td>\n",
       "      <td>3680.0</td>\n",
       "      <td>10.0</td>\n",
       "      <td>3.0</td>\n",
       "      <td>3990.0</td>\n",
       "      <td>OMFGA</td>\n",
       "    </tr>\n",
       "    <tr>\n",
       "      <th>2</th>\n",
       "      <td>10000.0</td>\n",
       "      <td>7952.0</td>\n",
       "      <td>1986-03-31</td>\n",
       "      <td>-4.4375</td>\n",
       "      <td>0.365385</td>\n",
       "      <td>3680.0</td>\n",
       "      <td>10.0</td>\n",
       "      <td>3.0</td>\n",
       "      <td>3990.0</td>\n",
       "      <td>OMFGA</td>\n",
       "    </tr>\n",
       "  </tbody>\n",
       "</table>\n",
       "</div>"
      ],
      "text/plain": [
       "    permno  permco        date     prc       ret  shrout  shrcd  exchcd  \\\n",
       "0  10000.0  7952.0  1986-01-31 -4.3750       NaN  3680.0   10.0     3.0   \n",
       "1  10000.0  7952.0  1986-02-28 -3.2500 -0.257143  3680.0   10.0     3.0   \n",
       "2  10000.0  7952.0  1986-03-31 -4.4375  0.365385  3680.0   10.0     3.0   \n",
       "\n",
       "    siccd ticker  \n",
       "0  3990.0  OMFGA  \n",
       "1  3990.0  OMFGA  \n",
       "2  3990.0  OMFGA  "
      ]
     },
     "execution_count": 6,
     "metadata": {},
     "output_type": "execute_result"
    }
   ],
   "source": [
    "crsp.head(3)"
   ]
  },
  {
   "cell_type": "markdown",
   "id": "96d4fc42",
   "metadata": {},
   "source": [
    "Load the Fama-French risk-factor data (\"ff.zip\") into a new dataframe called ``ffrench``."
   ]
  },
  {
   "cell_type": "code",
   "execution_count": 7,
   "id": "d9a565f0",
   "metadata": {},
   "outputs": [],
   "source": [
    "ffrench = pd.read_pickle('../data/ff.zip')"
   ]
  },
  {
   "cell_type": "markdown",
   "id": "4bf823a3",
   "metadata": {},
   "source": [
    "Print out the last three rows in the ``ffrench`` dataframe."
   ]
  },
  {
   "cell_type": "code",
   "execution_count": 8,
   "id": "287987ac",
   "metadata": {},
   "outputs": [
    {
     "data": {
      "text/html": [
       "<div>\n",
       "<style scoped>\n",
       "    .dataframe tbody tr th:only-of-type {\n",
       "        vertical-align: middle;\n",
       "    }\n",
       "\n",
       "    .dataframe tbody tr th {\n",
       "        vertical-align: top;\n",
       "    }\n",
       "\n",
       "    .dataframe thead th {\n",
       "        text-align: right;\n",
       "    }\n",
       "</style>\n",
       "<table border=\"1\" class=\"dataframe\">\n",
       "  <thead>\n",
       "    <tr style=\"text-align: right;\">\n",
       "      <th></th>\n",
       "      <th>date</th>\n",
       "      <th>mktrf</th>\n",
       "      <th>smb</th>\n",
       "      <th>hml</th>\n",
       "      <th>rf</th>\n",
       "      <th>year</th>\n",
       "      <th>month</th>\n",
       "      <th>umd</th>\n",
       "      <th>dateff</th>\n",
       "    </tr>\n",
       "  </thead>\n",
       "  <tbody>\n",
       "    <tr>\n",
       "      <th>1141</th>\n",
       "      <td>2021-08-01</td>\n",
       "      <td>0.0290</td>\n",
       "      <td>-0.0048</td>\n",
       "      <td>-0.0013</td>\n",
       "      <td>0.0</td>\n",
       "      <td>2021.0</td>\n",
       "      <td>8.0</td>\n",
       "      <td>NaN</td>\n",
       "      <td>2021-08-31</td>\n",
       "    </tr>\n",
       "    <tr>\n",
       "      <th>1142</th>\n",
       "      <td>2021-09-01</td>\n",
       "      <td>-0.0437</td>\n",
       "      <td>0.0080</td>\n",
       "      <td>0.0509</td>\n",
       "      <td>0.0</td>\n",
       "      <td>2021.0</td>\n",
       "      <td>9.0</td>\n",
       "      <td>NaN</td>\n",
       "      <td>2021-09-30</td>\n",
       "    </tr>\n",
       "    <tr>\n",
       "      <th>1143</th>\n",
       "      <td>2021-10-01</td>\n",
       "      <td>0.0665</td>\n",
       "      <td>-0.0228</td>\n",
       "      <td>-0.0045</td>\n",
       "      <td>0.0</td>\n",
       "      <td>2021.0</td>\n",
       "      <td>10.0</td>\n",
       "      <td>NaN</td>\n",
       "      <td>2021-10-29</td>\n",
       "    </tr>\n",
       "  </tbody>\n",
       "</table>\n",
       "</div>"
      ],
      "text/plain": [
       "            date   mktrf     smb     hml   rf    year  month  umd      dateff\n",
       "1141  2021-08-01  0.0290 -0.0048 -0.0013  0.0  2021.0    8.0  NaN  2021-08-31\n",
       "1142  2021-09-01 -0.0437  0.0080  0.0509  0.0  2021.0    9.0  NaN  2021-09-30\n",
       "1143  2021-10-01  0.0665 -0.0228 -0.0045  0.0  2021.0   10.0  NaN  2021-10-29"
      ]
     },
     "execution_count": 8,
     "metadata": {},
     "output_type": "execute_result"
    }
   ],
   "source": [
    "ffrench.tail(3)"
   ]
  },
  {
   "cell_type": "markdown",
   "id": "52293fd2",
   "metadata": {},
   "source": [
    "Open the \"practice_data.csv\" file located in the same directory as these lecture notes and inspect the positioning of the data in it. Then, in the cell below, read that data into a new dataframe called ``csvdat``. Make sure that this new dataframe only contains the data in the file, and none of the empty rows and/or columns. Then print out the ``csvdat`` dataframe."
   ]
  },
  {
   "cell_type": "code",
   "execution_count": 4,
   "id": "42c6fb13",
   "metadata": {},
   "outputs": [
    {
     "data": {
      "text/html": [
       "<div>\n",
       "<style scoped>\n",
       "    .dataframe tbody tr th:only-of-type {\n",
       "        vertical-align: middle;\n",
       "    }\n",
       "\n",
       "    .dataframe tbody tr th {\n",
       "        vertical-align: top;\n",
       "    }\n",
       "\n",
       "    .dataframe thead th {\n",
       "        text-align: right;\n",
       "    }\n",
       "</style>\n",
       "<table border=\"1\" class=\"dataframe\">\n",
       "  <thead>\n",
       "    <tr style=\"text-align: right;\">\n",
       "      <th></th>\n",
       "      <th>B</th>\n",
       "      <th>C</th>\n",
       "    </tr>\n",
       "  </thead>\n",
       "  <tbody>\n",
       "    <tr>\n",
       "      <th>0</th>\n",
       "      <td>0.225317</td>\n",
       "      <td>0.146124</td>\n",
       "    </tr>\n",
       "    <tr>\n",
       "      <th>1</th>\n",
       "      <td>0.596614</td>\n",
       "      <td>0.924223</td>\n",
       "    </tr>\n",
       "    <tr>\n",
       "      <th>2</th>\n",
       "      <td>0.329928</td>\n",
       "      <td>0.009659</td>\n",
       "    </tr>\n",
       "    <tr>\n",
       "      <th>3</th>\n",
       "      <td>0.326969</td>\n",
       "      <td>0.816329</td>\n",
       "    </tr>\n",
       "    <tr>\n",
       "      <th>4</th>\n",
       "      <td>0.473522</td>\n",
       "      <td>0.614161</td>\n",
       "    </tr>\n",
       "  </tbody>\n",
       "</table>\n",
       "</div>"
      ],
      "text/plain": [
       "          B         C\n",
       "0  0.225317  0.146124\n",
       "1  0.596614  0.924223\n",
       "2  0.329928  0.009659\n",
       "3  0.326969  0.816329\n",
       "4  0.473522  0.614161"
      ]
     },
     "execution_count": 4,
     "metadata": {},
     "output_type": "execute_result"
    }
   ],
   "source": [
    "csvdat = pd.read_csv('./practice_data.csv', index_col = 0)\n",
    "csvdat"
   ]
  },
  {
   "cell_type": "code",
   "execution_count": 6,
   "id": "7fa2f8f0",
   "metadata": {},
   "outputs": [
    {
     "data": {
      "text/plain": [
       "Index(['B', 'C'], dtype='object')"
      ]
     },
     "execution_count": 6,
     "metadata": {},
     "output_type": "execute_result"
    }
   ],
   "source": [
    "csvdat.columns"
   ]
  },
  {
   "cell_type": "markdown",
   "id": "cc66c2bd",
   "metadata": {},
   "source": [
    "Open the \"practice_data.xlsx\" file located in the same directory as these lecture notes, and inspect the positioning of the data in it. Then, in the cell below, read that data into a new dataframe called ``xlsdat``. Make sure that this new dataframe only contains the data in the file, and none of the empty rows and/or columns. Then print out the ``xlsxdat`` dataframe."
   ]
  },
  {
   "cell_type": "code",
   "execution_count": 10,
   "id": "47a81b4c",
   "metadata": {},
   "outputs": [
    {
     "data": {
      "text/html": [
       "<div>\n",
       "<style scoped>\n",
       "    .dataframe tbody tr th:only-of-type {\n",
       "        vertical-align: middle;\n",
       "    }\n",
       "\n",
       "    .dataframe tbody tr th {\n",
       "        vertical-align: top;\n",
       "    }\n",
       "\n",
       "    .dataframe thead th {\n",
       "        text-align: right;\n",
       "    }\n",
       "</style>\n",
       "<table border=\"1\" class=\"dataframe\">\n",
       "  <thead>\n",
       "    <tr style=\"text-align: right;\">\n",
       "      <th></th>\n",
       "      <th>B</th>\n",
       "      <th>C</th>\n",
       "    </tr>\n",
       "  </thead>\n",
       "  <tbody>\n",
       "    <tr>\n",
       "      <th>0</th>\n",
       "      <td>0.225317</td>\n",
       "      <td>0.146124</td>\n",
       "    </tr>\n",
       "    <tr>\n",
       "      <th>1</th>\n",
       "      <td>0.596614</td>\n",
       "      <td>0.924223</td>\n",
       "    </tr>\n",
       "    <tr>\n",
       "      <th>2</th>\n",
       "      <td>0.329928</td>\n",
       "      <td>0.009659</td>\n",
       "    </tr>\n",
       "    <tr>\n",
       "      <th>3</th>\n",
       "      <td>0.326969</td>\n",
       "      <td>0.816329</td>\n",
       "    </tr>\n",
       "    <tr>\n",
       "      <th>4</th>\n",
       "      <td>0.473522</td>\n",
       "      <td>0.614161</td>\n",
       "    </tr>\n",
       "  </tbody>\n",
       "</table>\n",
       "</div>"
      ],
      "text/plain": [
       "          B         C\n",
       "0  0.225317  0.146124\n",
       "1  0.596614  0.924223\n",
       "2  0.329928  0.009659\n",
       "3  0.326969  0.816329\n",
       "4  0.473522  0.614161"
      ]
     },
     "execution_count": 10,
     "metadata": {},
     "output_type": "execute_result"
    }
   ],
   "source": [
    "xlsdat = pd.read_excel('./practice_data.xlsx', usecols=\"B:D\", skiprows=2, index_col=0)\n",
    "xlsdat"
   ]
  }
 ],
 "metadata": {
  "kernelspec": {
   "display_name": "Python 3 (ipykernel)",
   "language": "python",
   "name": "python3"
  },
  "language_info": {
   "codemirror_mode": {
    "name": "ipython",
    "version": 3
   },
   "file_extension": ".py",
   "mimetype": "text/x-python",
   "name": "python",
   "nbconvert_exporter": "python",
   "pygments_lexer": "ipython3",
   "version": "3.9.16"
  },
  "toc": {
   "base_numbering": 1,
   "nav_menu": {},
   "number_sections": true,
   "sideBar": true,
   "skip_h1_title": false,
   "title_cell": "Table of Contents",
   "title_sidebar": "Contents",
   "toc_cell": false,
   "toc_position": {},
   "toc_section_display": true,
   "toc_window_display": false
  }
 },
 "nbformat": 4,
 "nbformat_minor": 5
}
