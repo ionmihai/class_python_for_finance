{
 "cells": [
  {
   "cell_type": "markdown",
   "id": "b554ecc1",
   "metadata": {},
   "source": [
    "Run the cell below:"
   ]
  },
  {
   "cell_type": "code",
   "execution_count": null,
   "id": "c273f254",
   "metadata": {},
   "outputs": [],
   "source": [
    "import pandas as pd"
   ]
  },
  {
   "cell_type": "markdown",
   "id": "b4f3ce1c",
   "metadata": {},
   "source": [
    "If you have not done so already, download the \"compa.zip\", \"crspm.zip\" and \"ff.zip\" files from the \"Lectures and Data / data\" tab in D2L into a \"data\" folder on your computer (located outside the folder containing this file, as explained in ``lecture0``)."
   ]
  },
  {
   "cell_type": "markdown",
   "id": "87b2cb31",
   "metadata": {},
   "source": [
    "Load the Compustat annual accounting data (\"compa.zip\") into a new dataframe called ``comp``."
   ]
  },
  {
   "cell_type": "code",
   "execution_count": null,
   "id": "c4ed6923",
   "metadata": {},
   "outputs": [],
   "source": []
  },
  {
   "cell_type": "markdown",
   "id": "47a3bc36",
   "metadata": {},
   "source": [
    "Print out the names of the columns in the ``comp`` dataframe."
   ]
  },
  {
   "cell_type": "code",
   "execution_count": null,
   "id": "9463cf6b",
   "metadata": {},
   "outputs": [],
   "source": []
  },
  {
   "cell_type": "markdown",
   "id": "780ceb98",
   "metadata": {},
   "source": [
    "Load the CRSP monthly market data (\"crspm.zip\") into a new dataframe called ``crsp``."
   ]
  },
  {
   "cell_type": "code",
   "execution_count": null,
   "id": "25147be1",
   "metadata": {},
   "outputs": [],
   "source": []
  },
  {
   "cell_type": "markdown",
   "id": "dd233da8",
   "metadata": {},
   "source": [
    "Print out the names of the columns in the ``crsp`` dataframe."
   ]
  },
  {
   "cell_type": "code",
   "execution_count": null,
   "id": "11a581ff",
   "metadata": {},
   "outputs": [],
   "source": []
  },
  {
   "cell_type": "markdown",
   "id": "7b657383",
   "metadata": {},
   "source": [
    "Print out the first three rows in the ``crsp`` dataframe."
   ]
  },
  {
   "cell_type": "code",
   "execution_count": null,
   "id": "e961f9f9",
   "metadata": {},
   "outputs": [],
   "source": []
  },
  {
   "cell_type": "markdown",
   "id": "96d4fc42",
   "metadata": {},
   "source": [
    "Load the Fama-French risk-factor data (\"ff.zip\") into a new dataframe called ``ffrench``."
   ]
  },
  {
   "cell_type": "code",
   "execution_count": null,
   "id": "d9a565f0",
   "metadata": {},
   "outputs": [],
   "source": []
  },
  {
   "cell_type": "markdown",
   "id": "4bf823a3",
   "metadata": {},
   "source": [
    "Print out the last three rows in the ``ffrench`` dataframe."
   ]
  },
  {
   "cell_type": "code",
   "execution_count": null,
   "id": "287987ac",
   "metadata": {},
   "outputs": [],
   "source": []
  },
  {
   "cell_type": "markdown",
   "id": "52293fd2",
   "metadata": {},
   "source": [
    "Open the \"practice_data.csv\" file located in the same directory as these lecture notes and inspect the positioning of the data in it. Then, in the cell below, read that data into a new dataframe called ``csvdat``. Make sure that this new dataframe only contains the data in the file, and none of the empty rows and/or columns. Then print out the ``csvdat`` dataframe."
   ]
  },
  {
   "cell_type": "code",
   "execution_count": null,
   "id": "42c6fb13",
   "metadata": {},
   "outputs": [],
   "source": []
  },
  {
   "cell_type": "markdown",
   "id": "cc66c2bd",
   "metadata": {},
   "source": [
    "Open the \"practice_data.xlsx\" file located in the same directory as these lecture notes, and inspect the positioning of the data in it. Then, in the cell below, read that data into a new dataframe called ``xlsdat``. Make sure that this new dataframe only contains the data in the file, and none of the empty rows and/or columns. Then print out the ``xlsxdat`` dataframe."
   ]
  },
  {
   "cell_type": "code",
   "execution_count": null,
   "id": "47a81b4c",
   "metadata": {},
   "outputs": [],
   "source": []
  }
 ],
 "metadata": {
  "kernelspec": {
   "display_name": "Python 3 (ipykernel)",
   "language": "python",
   "name": "python3"
  },
  "language_info": {
   "codemirror_mode": {
    "name": "ipython",
    "version": 3
   },
   "file_extension": ".py",
   "mimetype": "text/x-python",
   "name": "python",
   "nbconvert_exporter": "python",
   "pygments_lexer": "ipython3",
   "version": "3.8.5"
  },
  "toc": {
   "base_numbering": 1,
   "nav_menu": {},
   "number_sections": true,
   "sideBar": true,
   "skip_h1_title": false,
   "title_cell": "Table of Contents",
   "title_sidebar": "Contents",
   "toc_cell": false,
   "toc_position": {},
   "toc_section_display": true,
   "toc_window_display": false
  }
 },
 "nbformat": 4,
 "nbformat_minor": 5
}
