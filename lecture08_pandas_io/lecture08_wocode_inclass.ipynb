{
 "cells": [
  {
   "cell_type": "markdown",
   "id": "884f2970",
   "metadata": {
    "toc": true
   },
   "source": [
    "<h1>Table of Contents<span class=\"tocSkip\"></span></h1>\n",
    "<div class=\"toc\"><ul class=\"toc-item\"><li><span><a href=\"#Preliminaries\" data-toc-modified-id=\"Preliminaries-1\"><span class=\"toc-item-num\">1&nbsp;&nbsp;</span>Preliminaries</a></span></li><li><span><a href=\"#Relative-vs-absolute-paths\" data-toc-modified-id=\"Relative-vs-absolute-paths-2\"><span class=\"toc-item-num\">2&nbsp;&nbsp;</span>Relative vs absolute paths</a></span></li><li><span><a href=\"#Reading-and-writing-.pkl-(pickle)-files\" data-toc-modified-id=\"Reading-and-writing-.pkl-(pickle)-files-3\"><span class=\"toc-item-num\">3&nbsp;&nbsp;</span>Reading and writing .pkl (pickle) files</a></span><ul class=\"toc-item\"><li><span><a href=\"#.to_pickle()\" data-toc-modified-id=\".to_pickle()-3.1\"><span class=\"toc-item-num\">3.1&nbsp;&nbsp;</span><code>.to_pickle()</code></a></span></li><li><span><a href=\"#.read_pickle()\" data-toc-modified-id=\".read_pickle()-3.2\"><span class=\"toc-item-num\">3.2&nbsp;&nbsp;</span><code>.read_pickle()</code></a></span></li></ul></li><li><span><a href=\"#Reading-and-writing-.txt-and-.csv-files\" data-toc-modified-id=\"Reading-and-writing-.txt-and-.csv-files-4\"><span class=\"toc-item-num\">4&nbsp;&nbsp;</span>Reading and writing .txt and .csv files</a></span><ul class=\"toc-item\"><li><span><a href=\"#.to_csv()\" data-toc-modified-id=\".to_csv()-4.1\"><span class=\"toc-item-num\">4.1&nbsp;&nbsp;</span><code>.to_csv()</code></a></span></li><li><span><a href=\"#.read_csv()\" data-toc-modified-id=\".read_csv()-4.2\"><span class=\"toc-item-num\">4.2&nbsp;&nbsp;</span><code>.read_csv()</code></a></span></li></ul></li><li><span><a href=\"#Reading-and-writing-.xslx-files\" data-toc-modified-id=\"Reading-and-writing-.xslx-files-5\"><span class=\"toc-item-num\">5&nbsp;&nbsp;</span>Reading and writing .xslx files</a></span><ul class=\"toc-item\"><li><span><a href=\"#.to_excel()\" data-toc-modified-id=\".to_excel()-5.1\"><span class=\"toc-item-num\">5.1&nbsp;&nbsp;</span><code>.to_excel()</code></a></span></li><li><span><a href=\"#.read_excel()\" data-toc-modified-id=\".read_excel()-5.2\"><span class=\"toc-item-num\">5.2&nbsp;&nbsp;</span><code>.read_excel()</code></a></span></li></ul></li><li><span><a href=\"#Some-important-data-acquisition-packages\" data-toc-modified-id=\"Some-important-data-acquisition-packages-6\"><span class=\"toc-item-num\">6&nbsp;&nbsp;</span>Some important data-acquisition packages</a></span><ul class=\"toc-item\"><li><span><a href=\"#The-requests-package\" data-toc-modified-id=\"The-requests-package-6.1\"><span class=\"toc-item-num\">6.1&nbsp;&nbsp;</span>The <code>requests</code> package</a></span></li><li><span><a href=\"#The-pandas_datareader-package\" data-toc-modified-id=\"The-pandas_datareader-package-6.2\"><span class=\"toc-item-num\">6.2&nbsp;&nbsp;</span>The <code>pandas_datareader</code> package</a></span></li><li><span><a href=\"#The-yfinance-package\" data-toc-modified-id=\"The-yfinance-package-6.3\"><span class=\"toc-item-num\">6.3&nbsp;&nbsp;</span>The <code>yfinance</code> package</a></span></li><li><span><a href=\"#The-wrds-package-(OPTIONAL)\" data-toc-modified-id=\"The-wrds-package-(OPTIONAL)-6.4\"><span class=\"toc-item-num\">6.4&nbsp;&nbsp;</span>The <code>wrds</code> package (OPTIONAL)</a></span></li></ul></li></ul></div>"
   ]
  },
  {
   "cell_type": "markdown",
   "id": "dc81dffb",
   "metadata": {},
   "source": [
    "# Preliminaries\n",
    "\n",
    "If you have not done so already (you were asked to do this in ``lecture01``):\n",
    "\n",
    "\n",
    "1. Open a Terminal, type the following command and hit enter:\n",
    "    - pip install yfinance pandas-datareader\n",
    "    \n",
    "    \n",
    "2. Open a Terminal, type the following command and hit enter:\n",
    "    - conda install -y openpyxl xlrd"
   ]
  },
  {
   "cell_type": "code",
   "execution_count": 2,
   "id": "9e65530a",
   "metadata": {},
   "outputs": [],
   "source": [
    "import pandas as pd\n",
    "import numpy as np\n",
    "from pathlib import Path\n",
    "import requests\n",
    "import pandas_datareader as pdr\n",
    "import yfinance as yf"
   ]
  },
  {
   "cell_type": "markdown",
   "id": "86c6a246",
   "metadata": {},
   "source": [
    "# Relative vs absolute paths"
   ]
  },
  {
   "cell_type": "markdown",
   "id": "75de24a1",
   "metadata": {},
   "source": [
    "In this lecture, we will have to tell Python exactly where on our drive it should store some files we create. We can do this by specifying the full path to these locations, for example, on my computer:\n",
    "\n",
    "'C:/Users/ionmi/Dropbox/TEACHING'\n",
    "\n",
    "The above is an **absolute path**: it contains the full path to the TEACHING folder on my drive. \n",
    "\n",
    "An alternative way to specify a path (which we will use very often in this course) is to specify that path **relative** to the current working directory. To do this, we use a combination of one or more dots ('.') and/or slashes ('/') which have the following meaning:\n",
    "\n",
    "'.' means the current working directory (in our case, this is the directory where these lecture notes are stored on the drive).\n",
    "\n",
    "'..' means the parent directory of the current working directory.\n",
    "\n",
    "'../..' means the parent of the parent of the current working directory.\n",
    "\n",
    "'../../..' means the parent of the parent of the parent of the current working directory.\n",
    "\n",
    "etc.\n",
    "\n",
    "To see this in practice, we can use the ``Path`` function in the ``pathlib`` package (imported above), which allows us to see the absolute path of a given relative path:"
   ]
  },
  {
   "cell_type": "code",
   "execution_count": 6,
   "id": "34848b71",
   "metadata": {},
   "outputs": [
    {
     "data": {
      "text/plain": [
       "WindowsPath('C:/Users/ionmi/Dropbox/0teaching/UA_2024_Spring_525/lectures/lecture08_pandas_io')"
      ]
     },
     "execution_count": 6,
     "metadata": {},
     "output_type": "execute_result"
    }
   ],
   "source": [
    "Path('.').resolve()"
   ]
  },
  {
   "cell_type": "code",
   "execution_count": 7,
   "id": "3f3ce5f0",
   "metadata": {},
   "outputs": [
    {
     "data": {
      "text/plain": [
       "WindowsPath('C:/Users/ionmi/Dropbox/0teaching/UA_2024_Spring_525/lectures')"
      ]
     },
     "execution_count": 7,
     "metadata": {},
     "output_type": "execute_result"
    }
   ],
   "source": [
    "Path('..').resolve()"
   ]
  },
  {
   "cell_type": "code",
   "execution_count": 11,
   "id": "d49d289b",
   "metadata": {},
   "outputs": [
    {
     "data": {
      "text/plain": [
       "WindowsPath('C:/Users/ionmi/Dropbox/0teaching/UA_2024_Spring_525')"
      ]
     },
     "execution_count": 11,
     "metadata": {},
     "output_type": "execute_result"
    }
   ],
   "source": [
    "Path('../..').resolve()"
   ]
  },
  {
   "cell_type": "markdown",
   "id": "2d2e99d5",
   "metadata": {},
   "source": [
    "# Reading and writing .pkl (pickle) files\n",
    "\n",
    "Python has a proprietary data format called \"pickle\". These types of files have the extension \".pkl\". Saving and loading data from pickle files is significantly faster than from/to \".csv\", so we will be using it quite a bit throughout the course (note, however, the important security warning at the top of the official documentation: https://docs.python.org/3/library/pickle.html)"
   ]
  },
  {
   "cell_type": "code",
   "execution_count": 13,
   "id": "d2cea14e",
   "metadata": {},
   "outputs": [
    {
     "data": {
      "text/html": [
       "<div>\n",
       "<style scoped>\n",
       "    .dataframe tbody tr th:only-of-type {\n",
       "        vertical-align: middle;\n",
       "    }\n",
       "\n",
       "    .dataframe tbody tr th {\n",
       "        vertical-align: top;\n",
       "    }\n",
       "\n",
       "    .dataframe thead th {\n",
       "        text-align: right;\n",
       "    }\n",
       "</style>\n",
       "<table border=\"1\" class=\"dataframe\">\n",
       "  <thead>\n",
       "    <tr style=\"text-align: right;\">\n",
       "      <th></th>\n",
       "      <th>A</th>\n",
       "      <th>B</th>\n",
       "      <th>C</th>\n",
       "      <th>D</th>\n",
       "    </tr>\n",
       "  </thead>\n",
       "  <tbody>\n",
       "    <tr>\n",
       "      <th>0</th>\n",
       "      <td>0.858425</td>\n",
       "      <td>0.722404</td>\n",
       "      <td>0.288317</td>\n",
       "      <td>0.799984</td>\n",
       "    </tr>\n",
       "    <tr>\n",
       "      <th>1</th>\n",
       "      <td>0.944078</td>\n",
       "      <td>0.070143</td>\n",
       "      <td>0.556436</td>\n",
       "      <td>0.790972</td>\n",
       "    </tr>\n",
       "    <tr>\n",
       "      <th>2</th>\n",
       "      <td>0.219669</td>\n",
       "      <td>0.250531</td>\n",
       "      <td>0.043932</td>\n",
       "      <td>0.821353</td>\n",
       "    </tr>\n",
       "    <tr>\n",
       "      <th>3</th>\n",
       "      <td>0.080654</td>\n",
       "      <td>0.644514</td>\n",
       "      <td>0.661249</td>\n",
       "      <td>0.968870</td>\n",
       "    </tr>\n",
       "    <tr>\n",
       "      <th>4</th>\n",
       "      <td>0.903535</td>\n",
       "      <td>0.925662</td>\n",
       "      <td>0.900984</td>\n",
       "      <td>0.245671</td>\n",
       "    </tr>\n",
       "  </tbody>\n",
       "</table>\n",
       "</div>"
      ],
      "text/plain": [
       "          A         B         C         D\n",
       "0  0.858425  0.722404  0.288317  0.799984\n",
       "1  0.944078  0.070143  0.556436  0.790972\n",
       "2  0.219669  0.250531  0.043932  0.821353\n",
       "3  0.080654  0.644514  0.661249  0.968870\n",
       "4  0.903535  0.925662  0.900984  0.245671"
      ]
     },
     "execution_count": 13,
     "metadata": {},
     "output_type": "execute_result"
    }
   ],
   "source": [
    "df = pd.DataFrame(data=np.random.rand(5,4), columns=list('ABCD'))\n",
    "df"
   ]
  },
  {
   "cell_type": "markdown",
   "id": "091c3056",
   "metadata": {},
   "source": [
    "## ``.to_pickle()``"
   ]
  },
  {
   "cell_type": "markdown",
   "id": "a637cd48",
   "metadata": {},
   "source": [
    "To store this data in a .pkl file, we use the \"``.to_pickle``\" function, applied right after the name of the dataframe which contains the data we want to store.\n",
    "\n",
    "\n",
    "Syntax:\n",
    "\n",
    "```python\n",
    "DataFrame.to_pickle(path, compression='infer', protocol=5, storage_options=None)\n",
    "```\n",
    "\n",
    "Note that the first argument (``path``) is mandatory (it has no default value). This argument is where you specify the **name** of the .pkl file you want to create (``mydata.pkl`` below) and the **location** (directory) where this file should be stored (``.`` below) all in a single string, separated by ``/``.  "
   ]
  },
  {
   "cell_type": "code",
   "execution_count": 14,
   "id": "60bba1d5",
   "metadata": {},
   "outputs": [],
   "source": [
    "df.to_pickle('./mydata.pkl')"
   ]
  },
  {
   "cell_type": "markdown",
   "id": "bee68a65",
   "metadata": {},
   "source": [
    "Note that we can also compress the file:"
   ]
  },
  {
   "cell_type": "code",
   "execution_count": 15,
   "id": "9114e161",
   "metadata": {},
   "outputs": [],
   "source": [
    "df.to_pickle('./mydata.zip')"
   ]
  },
  {
   "cell_type": "markdown",
   "id": "f5074af6",
   "metadata": {},
   "source": [
    "## ``.read_pickle()``"
   ]
  },
  {
   "cell_type": "markdown",
   "id": "139547b9",
   "metadata": {},
   "source": [
    "To read data from an existing .pkl file, we use the \"``.read_pickle``\" function, specifying as an argument the path to the file we want to read (including its name):\n",
    "\n",
    "Syntax:\n",
    "```python\n",
    "pandas.read_pickle(filepath_or_buffer, compression='infer', storage_options=None)\n",
    "```\n",
    "\n",
    "For example, if we want to read the contents of the .pkl file we just created above, and store those contents into a new variable ``df2``, we would use:"
   ]
  },
  {
   "cell_type": "code",
   "execution_count": 18,
   "id": "dcf44540",
   "metadata": {},
   "outputs": [],
   "source": [
    "df2 = pd.read_pickle('./mydata.pkl')"
   ]
  },
  {
   "cell_type": "code",
   "execution_count": 19,
   "id": "c771b3d1",
   "metadata": {},
   "outputs": [
    {
     "data": {
      "text/html": [
       "<div>\n",
       "<style scoped>\n",
       "    .dataframe tbody tr th:only-of-type {\n",
       "        vertical-align: middle;\n",
       "    }\n",
       "\n",
       "    .dataframe tbody tr th {\n",
       "        vertical-align: top;\n",
       "    }\n",
       "\n",
       "    .dataframe thead th {\n",
       "        text-align: right;\n",
       "    }\n",
       "</style>\n",
       "<table border=\"1\" class=\"dataframe\">\n",
       "  <thead>\n",
       "    <tr style=\"text-align: right;\">\n",
       "      <th></th>\n",
       "      <th>A</th>\n",
       "      <th>B</th>\n",
       "      <th>C</th>\n",
       "      <th>D</th>\n",
       "    </tr>\n",
       "  </thead>\n",
       "  <tbody>\n",
       "    <tr>\n",
       "      <th>0</th>\n",
       "      <td>0.858425</td>\n",
       "      <td>0.722404</td>\n",
       "      <td>0.288317</td>\n",
       "      <td>0.799984</td>\n",
       "    </tr>\n",
       "    <tr>\n",
       "      <th>1</th>\n",
       "      <td>0.944078</td>\n",
       "      <td>0.070143</td>\n",
       "      <td>0.556436</td>\n",
       "      <td>0.790972</td>\n",
       "    </tr>\n",
       "    <tr>\n",
       "      <th>2</th>\n",
       "      <td>0.219669</td>\n",
       "      <td>0.250531</td>\n",
       "      <td>0.043932</td>\n",
       "      <td>0.821353</td>\n",
       "    </tr>\n",
       "    <tr>\n",
       "      <th>3</th>\n",
       "      <td>0.080654</td>\n",
       "      <td>0.644514</td>\n",
       "      <td>0.661249</td>\n",
       "      <td>0.968870</td>\n",
       "    </tr>\n",
       "    <tr>\n",
       "      <th>4</th>\n",
       "      <td>0.903535</td>\n",
       "      <td>0.925662</td>\n",
       "      <td>0.900984</td>\n",
       "      <td>0.245671</td>\n",
       "    </tr>\n",
       "  </tbody>\n",
       "</table>\n",
       "</div>"
      ],
      "text/plain": [
       "          A         B         C         D\n",
       "0  0.858425  0.722404  0.288317  0.799984\n",
       "1  0.944078  0.070143  0.556436  0.790972\n",
       "2  0.219669  0.250531  0.043932  0.821353\n",
       "3  0.080654  0.644514  0.661249  0.968870\n",
       "4  0.903535  0.925662  0.900984  0.245671"
      ]
     },
     "execution_count": 19,
     "metadata": {},
     "output_type": "execute_result"
    }
   ],
   "source": [
    "df2"
   ]
  },
  {
   "cell_type": "markdown",
   "id": "1716d89d",
   "metadata": {},
   "source": [
    "And we can read compressed .pkl files too:"
   ]
  },
  {
   "cell_type": "code",
   "execution_count": 20,
   "id": "61d5fb6a",
   "metadata": {},
   "outputs": [],
   "source": [
    "df3 = pd.read_pickle('./mydata.zip')"
   ]
  },
  {
   "cell_type": "code",
   "execution_count": 21,
   "id": "a171e8c0",
   "metadata": {},
   "outputs": [
    {
     "data": {
      "text/html": [
       "<div>\n",
       "<style scoped>\n",
       "    .dataframe tbody tr th:only-of-type {\n",
       "        vertical-align: middle;\n",
       "    }\n",
       "\n",
       "    .dataframe tbody tr th {\n",
       "        vertical-align: top;\n",
       "    }\n",
       "\n",
       "    .dataframe thead th {\n",
       "        text-align: right;\n",
       "    }\n",
       "</style>\n",
       "<table border=\"1\" class=\"dataframe\">\n",
       "  <thead>\n",
       "    <tr style=\"text-align: right;\">\n",
       "      <th></th>\n",
       "      <th>A</th>\n",
       "      <th>B</th>\n",
       "      <th>C</th>\n",
       "      <th>D</th>\n",
       "    </tr>\n",
       "  </thead>\n",
       "  <tbody>\n",
       "    <tr>\n",
       "      <th>0</th>\n",
       "      <td>0.858425</td>\n",
       "      <td>0.722404</td>\n",
       "      <td>0.288317</td>\n",
       "      <td>0.799984</td>\n",
       "    </tr>\n",
       "    <tr>\n",
       "      <th>1</th>\n",
       "      <td>0.944078</td>\n",
       "      <td>0.070143</td>\n",
       "      <td>0.556436</td>\n",
       "      <td>0.790972</td>\n",
       "    </tr>\n",
       "    <tr>\n",
       "      <th>2</th>\n",
       "      <td>0.219669</td>\n",
       "      <td>0.250531</td>\n",
       "      <td>0.043932</td>\n",
       "      <td>0.821353</td>\n",
       "    </tr>\n",
       "    <tr>\n",
       "      <th>3</th>\n",
       "      <td>0.080654</td>\n",
       "      <td>0.644514</td>\n",
       "      <td>0.661249</td>\n",
       "      <td>0.968870</td>\n",
       "    </tr>\n",
       "    <tr>\n",
       "      <th>4</th>\n",
       "      <td>0.903535</td>\n",
       "      <td>0.925662</td>\n",
       "      <td>0.900984</td>\n",
       "      <td>0.245671</td>\n",
       "    </tr>\n",
       "  </tbody>\n",
       "</table>\n",
       "</div>"
      ],
      "text/plain": [
       "          A         B         C         D\n",
       "0  0.858425  0.722404  0.288317  0.799984\n",
       "1  0.944078  0.070143  0.556436  0.790972\n",
       "2  0.219669  0.250531  0.043932  0.821353\n",
       "3  0.080654  0.644514  0.661249  0.968870\n",
       "4  0.903535  0.925662  0.900984  0.245671"
      ]
     },
     "execution_count": 21,
     "metadata": {},
     "output_type": "execute_result"
    }
   ],
   "source": [
    "df3"
   ]
  },
  {
   "cell_type": "markdown",
   "id": "acde568d",
   "metadata": {},
   "source": [
    "Note a very important difference in how we use the two functions above. The syntax for ``.to_pickle()`` starts with ``DataFrame.to_pickle`` which tells us that the function must be applied to an existing dataframe. On the other hand, the syntax for ``.read_pickle()`` starts with ``pandas.read_pickle``, which we converted to ``pd.read_pickle``, because we imported pandas as pd in the first cell code in this notebook (at the top). \n",
    "\n",
    "This pattern is the same for all the read-write functions we discuss in this lecture: the \"write\" functions (``.to_pickle()``, ``.to_csv()``, ``.to_excel()``) are written after the name of the dataframe we want to write to a file, while the \"read\" functions (``.read_pickle()``, ``.read_csv()``, ``.read_excel()``) follow the name of the pandas package (which we renamed to ``pd`` above)."
   ]
  },
  {
   "cell_type": "markdown",
   "id": "32882198",
   "metadata": {},
   "source": [
    "# Reading and writing .txt and .csv files \n",
    "\n",
    "The most common way to read and write dataframes from/to .csv and .txt files is with the Pandas functions \"``.to_csv()``\" (for writing) and \"``.read_csv()``\" (for reading):"
   ]
  },
  {
   "cell_type": "markdown",
   "id": "25e71da8",
   "metadata": {},
   "source": [
    "## ``.to_csv()``"
   ]
  },
  {
   "cell_type": "markdown",
   "id": "68846e23",
   "metadata": {},
   "source": [
    "Here is the abbreviated version of the syntax for ``.to_csv()`` excluding parameters that are not used very often:\n",
    "\n",
    "```python\n",
    "DataFrame.to_csv(path_or_buf=None, sep=',', columns=None, header=True, index=True, index_label=None)\n",
    "```\n",
    "\n",
    "Note that the default separator is a comma (``sep=','``) which means we can omit that parameter when we write .csv files. The ``columns`` parameter allows you to specify which columns of the dataframe you want to write in the .csv file."
   ]
  },
  {
   "cell_type": "code",
   "execution_count": 22,
   "id": "246ca858",
   "metadata": {},
   "outputs": [],
   "source": [
    "df.to_csv('./mydata.csv', columns=['B','C'])"
   ]
  },
  {
   "cell_type": "markdown",
   "id": "1263fa3d",
   "metadata": {},
   "source": [
    "To write tab-delimited .txt files, we use ``sep='\\t'`` and change the file extension to ``.txt``:"
   ]
  },
  {
   "cell_type": "code",
   "execution_count": 23,
   "id": "6d108063",
   "metadata": {},
   "outputs": [],
   "source": [
    "df.to_csv('./mydata.txt', sep='\\t')"
   ]
  },
  {
   "cell_type": "markdown",
   "id": "f0184220",
   "metadata": {},
   "source": [
    "To write space-delimited .txt files, we use ``sep=' '`` (though I always recommend using tabs for .txt files):"
   ]
  },
  {
   "cell_type": "code",
   "execution_count": 24,
   "id": "2b1cb6a0",
   "metadata": {},
   "outputs": [],
   "source": [
    "df.to_csv('./mydata_space.txt', sep=' ')"
   ]
  },
  {
   "cell_type": "markdown",
   "id": "8fda03f2",
   "metadata": {},
   "source": [
    "## ``.read_csv()``"
   ]
  },
  {
   "cell_type": "markdown",
   "id": "263db650",
   "metadata": {},
   "source": [
    "Here is the abbreviated version of the syntax for ``.read_csv()`` excluding parameters that are not used very often:\n",
    "\n",
    "```python\n",
    "pandas.read_csv(filepath_or_buffer, sep=',',  header='infer', names=None, index_col=None, usecols=None, nrows=None, \n",
    "                skiprows = None)\n",
    "```\n",
    "\n",
    "Again, the default separator is a comma (``sep=','``) which means we can omit that parameter when we read .csv files:"
   ]
  },
  {
   "cell_type": "code",
   "execution_count": 25,
   "id": "bd665d1c",
   "metadata": {},
   "outputs": [
    {
     "data": {
      "text/html": [
       "<div>\n",
       "<style scoped>\n",
       "    .dataframe tbody tr th:only-of-type {\n",
       "        vertical-align: middle;\n",
       "    }\n",
       "\n",
       "    .dataframe tbody tr th {\n",
       "        vertical-align: top;\n",
       "    }\n",
       "\n",
       "    .dataframe thead th {\n",
       "        text-align: right;\n",
       "    }\n",
       "</style>\n",
       "<table border=\"1\" class=\"dataframe\">\n",
       "  <thead>\n",
       "    <tr style=\"text-align: right;\">\n",
       "      <th></th>\n",
       "      <th>Unnamed: 0</th>\n",
       "      <th>B</th>\n",
       "      <th>C</th>\n",
       "    </tr>\n",
       "  </thead>\n",
       "  <tbody>\n",
       "    <tr>\n",
       "      <th>0</th>\n",
       "      <td>0</td>\n",
       "      <td>0.722404</td>\n",
       "      <td>0.288317</td>\n",
       "    </tr>\n",
       "    <tr>\n",
       "      <th>1</th>\n",
       "      <td>1</td>\n",
       "      <td>0.070143</td>\n",
       "      <td>0.556436</td>\n",
       "    </tr>\n",
       "    <tr>\n",
       "      <th>2</th>\n",
       "      <td>2</td>\n",
       "      <td>0.250531</td>\n",
       "      <td>0.043932</td>\n",
       "    </tr>\n",
       "    <tr>\n",
       "      <th>3</th>\n",
       "      <td>3</td>\n",
       "      <td>0.644514</td>\n",
       "      <td>0.661249</td>\n",
       "    </tr>\n",
       "    <tr>\n",
       "      <th>4</th>\n",
       "      <td>4</td>\n",
       "      <td>0.925662</td>\n",
       "      <td>0.900984</td>\n",
       "    </tr>\n",
       "  </tbody>\n",
       "</table>\n",
       "</div>"
      ],
      "text/plain": [
       "   Unnamed: 0         B         C\n",
       "0           0  0.722404  0.288317\n",
       "1           1  0.070143  0.556436\n",
       "2           2  0.250531  0.043932\n",
       "3           3  0.644514  0.661249\n",
       "4           4  0.925662  0.900984"
      ]
     },
     "execution_count": 25,
     "metadata": {},
     "output_type": "execute_result"
    }
   ],
   "source": [
    "df3 = pd.read_csv('./mydata.csv')\n",
    "df3"
   ]
  },
  {
   "cell_type": "markdown",
   "id": "2e634106",
   "metadata": {},
   "source": [
    "Note however, that we did not specify that the first column is just an index for the table, so that first column was included as data in the table itself. Note also that ``.read_csv()`` guessed that the column names are on the first row, because the default value of the ``header`` parameter is ``infer``. To be safe, I always recommend being explicit about where the row names and column names are (and remember that Python starts counting from 0):"
   ]
  },
  {
   "cell_type": "code",
   "execution_count": 27,
   "id": "02cd71b4",
   "metadata": {},
   "outputs": [
    {
     "data": {
      "text/html": [
       "<div>\n",
       "<style scoped>\n",
       "    .dataframe tbody tr th:only-of-type {\n",
       "        vertical-align: middle;\n",
       "    }\n",
       "\n",
       "    .dataframe tbody tr th {\n",
       "        vertical-align: top;\n",
       "    }\n",
       "\n",
       "    .dataframe thead th {\n",
       "        text-align: right;\n",
       "    }\n",
       "</style>\n",
       "<table border=\"1\" class=\"dataframe\">\n",
       "  <thead>\n",
       "    <tr style=\"text-align: right;\">\n",
       "      <th></th>\n",
       "      <th>B</th>\n",
       "      <th>C</th>\n",
       "    </tr>\n",
       "  </thead>\n",
       "  <tbody>\n",
       "    <tr>\n",
       "      <th>0</th>\n",
       "      <td>0.722404</td>\n",
       "      <td>0.288317</td>\n",
       "    </tr>\n",
       "    <tr>\n",
       "      <th>1</th>\n",
       "      <td>0.070143</td>\n",
       "      <td>0.556436</td>\n",
       "    </tr>\n",
       "    <tr>\n",
       "      <th>2</th>\n",
       "      <td>0.250531</td>\n",
       "      <td>0.043932</td>\n",
       "    </tr>\n",
       "    <tr>\n",
       "      <th>3</th>\n",
       "      <td>0.644514</td>\n",
       "      <td>0.661249</td>\n",
       "    </tr>\n",
       "    <tr>\n",
       "      <th>4</th>\n",
       "      <td>0.925662</td>\n",
       "      <td>0.900984</td>\n",
       "    </tr>\n",
       "  </tbody>\n",
       "</table>\n",
       "</div>"
      ],
      "text/plain": [
       "          B         C\n",
       "0  0.722404  0.288317\n",
       "1  0.070143  0.556436\n",
       "2  0.250531  0.043932\n",
       "3  0.644514  0.661249\n",
       "4  0.925662  0.900984"
      ]
     },
     "execution_count": 27,
     "metadata": {},
     "output_type": "execute_result"
    }
   ],
   "source": [
    "df3 = pd.read_csv('./mydata.csv', index_col=0, header=0)\n",
    "df3"
   ]
  },
  {
   "cell_type": "markdown",
   "id": "d640af8f",
   "metadata": {},
   "source": [
    "To read tab-delimited .txt files, we use ``sep='\\t'``:"
   ]
  },
  {
   "cell_type": "code",
   "execution_count": 28,
   "id": "e39a6bd4",
   "metadata": {},
   "outputs": [
    {
     "data": {
      "text/html": [
       "<div>\n",
       "<style scoped>\n",
       "    .dataframe tbody tr th:only-of-type {\n",
       "        vertical-align: middle;\n",
       "    }\n",
       "\n",
       "    .dataframe tbody tr th {\n",
       "        vertical-align: top;\n",
       "    }\n",
       "\n",
       "    .dataframe thead th {\n",
       "        text-align: right;\n",
       "    }\n",
       "</style>\n",
       "<table border=\"1\" class=\"dataframe\">\n",
       "  <thead>\n",
       "    <tr style=\"text-align: right;\">\n",
       "      <th></th>\n",
       "      <th>A</th>\n",
       "      <th>B</th>\n",
       "      <th>C</th>\n",
       "      <th>D</th>\n",
       "    </tr>\n",
       "  </thead>\n",
       "  <tbody>\n",
       "    <tr>\n",
       "      <th>0</th>\n",
       "      <td>0.858425</td>\n",
       "      <td>0.722404</td>\n",
       "      <td>0.288317</td>\n",
       "      <td>0.799984</td>\n",
       "    </tr>\n",
       "    <tr>\n",
       "      <th>1</th>\n",
       "      <td>0.944078</td>\n",
       "      <td>0.070143</td>\n",
       "      <td>0.556436</td>\n",
       "      <td>0.790972</td>\n",
       "    </tr>\n",
       "    <tr>\n",
       "      <th>2</th>\n",
       "      <td>0.219669</td>\n",
       "      <td>0.250531</td>\n",
       "      <td>0.043932</td>\n",
       "      <td>0.821353</td>\n",
       "    </tr>\n",
       "    <tr>\n",
       "      <th>3</th>\n",
       "      <td>0.080654</td>\n",
       "      <td>0.644514</td>\n",
       "      <td>0.661249</td>\n",
       "      <td>0.968870</td>\n",
       "    </tr>\n",
       "    <tr>\n",
       "      <th>4</th>\n",
       "      <td>0.903535</td>\n",
       "      <td>0.925662</td>\n",
       "      <td>0.900984</td>\n",
       "      <td>0.245671</td>\n",
       "    </tr>\n",
       "  </tbody>\n",
       "</table>\n",
       "</div>"
      ],
      "text/plain": [
       "          A         B         C         D\n",
       "0  0.858425  0.722404  0.288317  0.799984\n",
       "1  0.944078  0.070143  0.556436  0.790972\n",
       "2  0.219669  0.250531  0.043932  0.821353\n",
       "3  0.080654  0.644514  0.661249  0.968870\n",
       "4  0.903535  0.925662  0.900984  0.245671"
      ]
     },
     "execution_count": 28,
     "metadata": {},
     "output_type": "execute_result"
    }
   ],
   "source": [
    "df4 = pd.read_csv('./mydata.txt', sep='\\t', index_col=0, header=0)\n",
    "df4"
   ]
  },
  {
   "cell_type": "markdown",
   "id": "974c2bfe",
   "metadata": {},
   "source": [
    "To read space-delimited .txt files, we use ``sep=' '``:"
   ]
  },
  {
   "cell_type": "code",
   "execution_count": 29,
   "id": "630ca67a",
   "metadata": {},
   "outputs": [
    {
     "data": {
      "text/html": [
       "<div>\n",
       "<style scoped>\n",
       "    .dataframe tbody tr th:only-of-type {\n",
       "        vertical-align: middle;\n",
       "    }\n",
       "\n",
       "    .dataframe tbody tr th {\n",
       "        vertical-align: top;\n",
       "    }\n",
       "\n",
       "    .dataframe thead th {\n",
       "        text-align: right;\n",
       "    }\n",
       "</style>\n",
       "<table border=\"1\" class=\"dataframe\">\n",
       "  <thead>\n",
       "    <tr style=\"text-align: right;\">\n",
       "      <th></th>\n",
       "      <th>A</th>\n",
       "      <th>B</th>\n",
       "      <th>C</th>\n",
       "      <th>D</th>\n",
       "    </tr>\n",
       "  </thead>\n",
       "  <tbody>\n",
       "    <tr>\n",
       "      <th>0</th>\n",
       "      <td>0.858425</td>\n",
       "      <td>0.722404</td>\n",
       "      <td>0.288317</td>\n",
       "      <td>0.799984</td>\n",
       "    </tr>\n",
       "    <tr>\n",
       "      <th>1</th>\n",
       "      <td>0.944078</td>\n",
       "      <td>0.070143</td>\n",
       "      <td>0.556436</td>\n",
       "      <td>0.790972</td>\n",
       "    </tr>\n",
       "    <tr>\n",
       "      <th>2</th>\n",
       "      <td>0.219669</td>\n",
       "      <td>0.250531</td>\n",
       "      <td>0.043932</td>\n",
       "      <td>0.821353</td>\n",
       "    </tr>\n",
       "    <tr>\n",
       "      <th>3</th>\n",
       "      <td>0.080654</td>\n",
       "      <td>0.644514</td>\n",
       "      <td>0.661249</td>\n",
       "      <td>0.968870</td>\n",
       "    </tr>\n",
       "    <tr>\n",
       "      <th>4</th>\n",
       "      <td>0.903535</td>\n",
       "      <td>0.925662</td>\n",
       "      <td>0.900984</td>\n",
       "      <td>0.245671</td>\n",
       "    </tr>\n",
       "  </tbody>\n",
       "</table>\n",
       "</div>"
      ],
      "text/plain": [
       "          A         B         C         D\n",
       "0  0.858425  0.722404  0.288317  0.799984\n",
       "1  0.944078  0.070143  0.556436  0.790972\n",
       "2  0.219669  0.250531  0.043932  0.821353\n",
       "3  0.080654  0.644514  0.661249  0.968870\n",
       "4  0.903535  0.925662  0.900984  0.245671"
      ]
     },
     "execution_count": 29,
     "metadata": {},
     "output_type": "execute_result"
    }
   ],
   "source": [
    "df5 = pd.read_csv('./mydata_space.txt', sep=' ', index_col=0, header=0)\n",
    "df5"
   ]
  },
  {
   "cell_type": "markdown",
   "id": "78752c06",
   "metadata": {},
   "source": [
    "The ``.to_csv()`` and ``.read_csv()`` functions have several other useful parameters. In the practice problems for this lecture, you will be asked to investigate some of them on your own by reading the official documentation:\n",
    "\n",
    "- ``.to_csv()``: https://pandas.pydata.org/docs/reference/api/pandas.DataFrame.to_csv.html\n",
    "- ``.read_csv()``: https://pandas.pydata.org/docs/reference/api/pandas.read_csv.html"
   ]
  },
  {
   "cell_type": "markdown",
   "id": "5c7ea4b8",
   "metadata": {},
   "source": [
    "# Reading and writing .xslx files"
   ]
  },
  {
   "cell_type": "markdown",
   "id": "d9f42cbf",
   "metadata": {},
   "source": [
    "We'll use ``.to_excel()`` to write Excel files and ``.read_excel()`` to read Excel files. The biggest difference from the .csv functions is that, with the excel ones, you can specify a particular sheet in the the Excel file that you want to read/write."
   ]
  },
  {
   "cell_type": "markdown",
   "id": "51613dde",
   "metadata": {},
   "source": [
    "## ``.to_excel()``"
   ]
  },
  {
   "cell_type": "markdown",
   "id": "97e8b101",
   "metadata": {},
   "source": [
    "Here is an abbreviate version of the syntax for ``.to_excel()``:\n",
    "\n",
    "```python\n",
    "DataFrame.to_excel(excel_writer, sheet_name='Sheet1', columns=None)\n",
    "```"
   ]
  },
  {
   "cell_type": "code",
   "execution_count": 30,
   "id": "76aeb802",
   "metadata": {},
   "outputs": [],
   "source": [
    "df.to_excel('./mydata_excel.xlsx', sheet_name='s1', columns=['A','C'])"
   ]
  },
  {
   "cell_type": "markdown",
   "id": "cbe9ad53",
   "metadata": {},
   "source": [
    "## ``.read_excel()``"
   ]
  },
  {
   "cell_type": "markdown",
   "id": "7c34d8ff",
   "metadata": {},
   "source": [
    "Here is an abbreviated version of the syntax for ``.read_excel()``:\n",
    "\n",
    "```python\n",
    "pandas.read_excel(io, sheet_name=0, header=0, names=None, index_col=None, usecols=None, skiprows=None, nrows=None)\n",
    "```"
   ]
  },
  {
   "cell_type": "code",
   "execution_count": 32,
   "id": "a5c444b2",
   "metadata": {},
   "outputs": [
    {
     "data": {
      "text/html": [
       "<div>\n",
       "<style scoped>\n",
       "    .dataframe tbody tr th:only-of-type {\n",
       "        vertical-align: middle;\n",
       "    }\n",
       "\n",
       "    .dataframe tbody tr th {\n",
       "        vertical-align: top;\n",
       "    }\n",
       "\n",
       "    .dataframe thead th {\n",
       "        text-align: right;\n",
       "    }\n",
       "</style>\n",
       "<table border=\"1\" class=\"dataframe\">\n",
       "  <thead>\n",
       "    <tr style=\"text-align: right;\">\n",
       "      <th></th>\n",
       "      <th>A</th>\n",
       "      <th>C</th>\n",
       "    </tr>\n",
       "  </thead>\n",
       "  <tbody>\n",
       "    <tr>\n",
       "      <th>0</th>\n",
       "      <td>0.858425</td>\n",
       "      <td>0.288317</td>\n",
       "    </tr>\n",
       "    <tr>\n",
       "      <th>1</th>\n",
       "      <td>0.944078</td>\n",
       "      <td>0.556436</td>\n",
       "    </tr>\n",
       "    <tr>\n",
       "      <th>2</th>\n",
       "      <td>0.219669</td>\n",
       "      <td>0.043932</td>\n",
       "    </tr>\n",
       "    <tr>\n",
       "      <th>3</th>\n",
       "      <td>0.080654</td>\n",
       "      <td>0.661249</td>\n",
       "    </tr>\n",
       "    <tr>\n",
       "      <th>4</th>\n",
       "      <td>0.903535</td>\n",
       "      <td>0.900984</td>\n",
       "    </tr>\n",
       "  </tbody>\n",
       "</table>\n",
       "</div>"
      ],
      "text/plain": [
       "          A         C\n",
       "0  0.858425  0.288317\n",
       "1  0.944078  0.556436\n",
       "2  0.219669  0.043932\n",
       "3  0.080654  0.661249\n",
       "4  0.903535  0.900984"
      ]
     },
     "execution_count": 32,
     "metadata": {},
     "output_type": "execute_result"
    }
   ],
   "source": [
    "df6 = pd.read_excel('./mydata_excel.xlsx', sheet_name='s1', header=0, index_col=0)\n",
    "df6"
   ]
  },
  {
   "cell_type": "markdown",
   "id": "043b2949",
   "metadata": {},
   "source": [
    "The ``.to_excel()`` and ``.read_excel()`` functions have several other useful parameters. In the practice problems for this lecture, you will be asked to investigate some of them on your own by reading the official documentation:\n",
    "\n",
    "- ``.to_excel()``: https://pandas.pydata.org/docs/reference/api/pandas.DataFrame.to_excel.html\n",
    "- ``.read_excel()``: https://pandas.pydata.org/docs/reference/api/pandas.read_excel.html"
   ]
  },
  {
   "cell_type": "markdown",
   "id": "3882f7f7",
   "metadata": {},
   "source": [
    "# Some important data-acquisition packages"
   ]
  },
  {
   "cell_type": "markdown",
   "id": "f9adde76",
   "metadata": {},
   "source": [
    "## The ``requests`` package"
   ]
  },
  {
   "cell_type": "markdown",
   "id": "478afee8",
   "metadata": {},
   "source": [
    "The ``requests`` package allows us to retrieve data from websites. If you want a more detailed discussion of the full functionality of this package, see the documentation at https://docs.python-requests.org/en/latest/. \n",
    "\n",
    "Here, we'll just see how we can use the package to download data from files hosted on websites. For this, we need the URL to the file we want to download. In the example below, I use data on economic policy uncertainty in the US from this website:\n",
    "\n",
    "https://www.policyuncertainty.com/us_monthly.html\n",
    "\n",
    "If you right-click on the \"Download Data\" link and select \"Copy Link Address\", you should see the link below when you paste it in your code:"
   ]
  },
  {
   "cell_type": "code",
   "execution_count": 33,
   "id": "f9b127e7",
   "metadata": {},
   "outputs": [],
   "source": [
    "url = \"https://www.policyuncertainty.com/media/US_Policy_Uncertainty_Data.xlsx\""
   ]
  },
  {
   "cell_type": "markdown",
   "id": "18e5171d",
   "metadata": {},
   "source": [
    "We use the ``.get()`` function to retrieve the (binary) data from the URL above:"
   ]
  },
  {
   "cell_type": "code",
   "execution_count": 34,
   "id": "a3104a6b",
   "metadata": {},
   "outputs": [],
   "source": [
    "r = requests.get(url)"
   ]
  },
  {
   "cell_type": "markdown",
   "id": "9d70d9a7",
   "metadata": {},
   "source": [
    "We can check if the request was successful using the ``status_code`` attribute. 200 means the request was successful, 404 means there was an error."
   ]
  },
  {
   "cell_type": "code",
   "execution_count": 35,
   "id": "0e457a61",
   "metadata": {},
   "outputs": [
    {
     "data": {
      "text/plain": [
       "200"
      ]
     },
     "execution_count": 35,
     "metadata": {},
     "output_type": "execute_result"
    }
   ],
   "source": [
    "r.status_code"
   ]
  },
  {
   "cell_type": "markdown",
   "id": "9d8c4651",
   "metadata": {},
   "source": [
    "To write the data we retrieved into an Excel file on our computer, we use the Python built-in ``open()`` function, specifying the path to the file we want to write the data to (``'./policy_uncertainty.xlsx`` below), specifying that we are writing binary data in it (``wb`` below):"
   ]
  },
  {
   "cell_type": "code",
   "execution_count": 36,
   "id": "0b59a1eb",
   "metadata": {},
   "outputs": [],
   "source": [
    "outfile = open(file='./policy_uncertainty.xlsx', mode='wb')"
   ]
  },
  {
   "cell_type": "markdown",
   "id": "5fd9e5d5",
   "metadata": {},
   "source": [
    "This just opens the './policy_uncertainty.xlsx' file (creates it if it doesn't exist) and returns something like the address to that file on the drive. It does not write anything in that file:"
   ]
  },
  {
   "cell_type": "code",
   "execution_count": 37,
   "id": "8def85fc",
   "metadata": {},
   "outputs": [
    {
     "data": {
      "text/plain": [
       "_io.BufferedWriter"
      ]
     },
     "execution_count": 37,
     "metadata": {},
     "output_type": "execute_result"
    }
   ],
   "source": [
    "type(outfile)"
   ]
  },
  {
   "cell_type": "markdown",
   "id": "1bb9b876",
   "metadata": {},
   "source": [
    "Now we can write the data into that file using the Python built-in ``write()`` function and then closing that file with the ``close()`` function. Note that the actual data from the URL above is found under the ``content`` attribute of the request ``r`` that we created above."
   ]
  },
  {
   "cell_type": "code",
   "execution_count": 38,
   "id": "3d995c67",
   "metadata": {},
   "outputs": [
    {
     "data": {
      "text/plain": [
       "40247"
      ]
     },
     "execution_count": 38,
     "metadata": {},
     "output_type": "execute_result"
    }
   ],
   "source": [
    "outfile.write(r.content)"
   ]
  },
  {
   "cell_type": "code",
   "execution_count": 39,
   "id": "99051d57",
   "metadata": {},
   "outputs": [],
   "source": [
    "outfile.close()"
   ]
  },
  {
   "cell_type": "markdown",
   "id": "ee1f6665",
   "metadata": {},
   "source": [
    "We can check if this process worked by either manually opening the ``policy_uncertainty.xlsx`` in our working directory, or by using ``pd.read_excel()`` to just read the data into a dataframe and take a look at it:"
   ]
  },
  {
   "cell_type": "code",
   "execution_count": 41,
   "id": "c5a4d3b4",
   "metadata": {},
   "outputs": [
    {
     "data": {
      "text/html": [
       "<div>\n",
       "<style scoped>\n",
       "    .dataframe tbody tr th:only-of-type {\n",
       "        vertical-align: middle;\n",
       "    }\n",
       "\n",
       "    .dataframe tbody tr th {\n",
       "        vertical-align: top;\n",
       "    }\n",
       "\n",
       "    .dataframe thead th {\n",
       "        text-align: right;\n",
       "    }\n",
       "</style>\n",
       "<table border=\"1\" class=\"dataframe\">\n",
       "  <thead>\n",
       "    <tr style=\"text-align: right;\">\n",
       "      <th></th>\n",
       "      <th>Year</th>\n",
       "      <th>Month</th>\n",
       "      <th>Three_Component_Index</th>\n",
       "      <th>News_Based_Policy_Uncert_Index</th>\n",
       "    </tr>\n",
       "  </thead>\n",
       "  <tbody>\n",
       "    <tr>\n",
       "      <th>0</th>\n",
       "      <td>1985</td>\n",
       "      <td>1.0</td>\n",
       "      <td>125.224739</td>\n",
       "      <td>103.748802</td>\n",
       "    </tr>\n",
       "    <tr>\n",
       "      <th>1</th>\n",
       "      <td>1985</td>\n",
       "      <td>2.0</td>\n",
       "      <td>99.020813</td>\n",
       "      <td>78.313202</td>\n",
       "    </tr>\n",
       "    <tr>\n",
       "      <th>2</th>\n",
       "      <td>1985</td>\n",
       "      <td>3.0</td>\n",
       "      <td>112.190506</td>\n",
       "      <td>100.761482</td>\n",
       "    </tr>\n",
       "    <tr>\n",
       "      <th>3</th>\n",
       "      <td>1985</td>\n",
       "      <td>4.0</td>\n",
       "      <td>102.811325</td>\n",
       "      <td>84.778870</td>\n",
       "    </tr>\n",
       "    <tr>\n",
       "      <th>4</th>\n",
       "      <td>1985</td>\n",
       "      <td>5.0</td>\n",
       "      <td>120.082726</td>\n",
       "      <td>98.053658</td>\n",
       "    </tr>\n",
       "    <tr>\n",
       "      <th>...</th>\n",
       "      <td>...</td>\n",
       "      <td>...</td>\n",
       "      <td>...</td>\n",
       "      <td>...</td>\n",
       "    </tr>\n",
       "    <tr>\n",
       "      <th>464</th>\n",
       "      <td>2023</td>\n",
       "      <td>9.0</td>\n",
       "      <td>112.370354</td>\n",
       "      <td>117.698784</td>\n",
       "    </tr>\n",
       "    <tr>\n",
       "      <th>465</th>\n",
       "      <td>2023</td>\n",
       "      <td>10.0</td>\n",
       "      <td>121.670822</td>\n",
       "      <td>133.594086</td>\n",
       "    </tr>\n",
       "    <tr>\n",
       "      <th>466</th>\n",
       "      <td>2023</td>\n",
       "      <td>11.0</td>\n",
       "      <td>129.448074</td>\n",
       "      <td>140.677185</td>\n",
       "    </tr>\n",
       "    <tr>\n",
       "      <th>467</th>\n",
       "      <td>2023</td>\n",
       "      <td>12.0</td>\n",
       "      <td>118.686226</td>\n",
       "      <td>122.284279</td>\n",
       "    </tr>\n",
       "    <tr>\n",
       "      <th>468</th>\n",
       "      <td>2024</td>\n",
       "      <td>1.0</td>\n",
       "      <td>127.382256</td>\n",
       "      <td>137.146561</td>\n",
       "    </tr>\n",
       "  </tbody>\n",
       "</table>\n",
       "<p>469 rows × 4 columns</p>\n",
       "</div>"
      ],
      "text/plain": [
       "     Year  Month  Three_Component_Index  News_Based_Policy_Uncert_Index\n",
       "0    1985    1.0             125.224739                      103.748802\n",
       "1    1985    2.0              99.020813                       78.313202\n",
       "2    1985    3.0             112.190506                      100.761482\n",
       "3    1985    4.0             102.811325                       84.778870\n",
       "4    1985    5.0             120.082726                       98.053658\n",
       "..    ...    ...                    ...                             ...\n",
       "464  2023    9.0             112.370354                      117.698784\n",
       "465  2023   10.0             121.670822                      133.594086\n",
       "466  2023   11.0             129.448074                      140.677185\n",
       "467  2023   12.0             118.686226                      122.284279\n",
       "468  2024    1.0             127.382256                      137.146561\n",
       "\n",
       "[469 rows x 4 columns]"
      ]
     },
     "execution_count": 41,
     "metadata": {},
     "output_type": "execute_result"
    }
   ],
   "source": [
    "df = pd.read_excel('./policy_uncertainty.xlsx').dropna()\n",
    "df"
   ]
  },
  {
   "cell_type": "markdown",
   "id": "38111f87",
   "metadata": {},
   "source": [
    "## The ``pandas_datareader`` package"
   ]
  },
  {
   "cell_type": "markdown",
   "id": "d2df5875",
   "metadata": {},
   "source": [
    "The ``pandas_datareader`` package allows us to download data from many different sources on the internet. Here is a list of all these sources:\n",
    "\n",
    "https://pandas-datareader.readthedocs.io/en/latest/readers/index.html\n",
    "\n",
    "The general syntax to download data from a particular source is as follows: "
   ]
  },
  {
   "cell_type": "markdown",
   "id": "d256841a",
   "metadata": {},
   "source": [
    "Syntax:\n",
    "\n",
    "```python\n",
    "pandas_datareader.DataReader(name,data_source=None,start=None,end=None)\n",
    "```"
   ]
  },
  {
   "cell_type": "markdown",
   "id": "1216b6a3",
   "metadata": {},
   "source": [
    "The two sources I will cover here are the St. Louis Federal Reserve Economic Data (FRED) (``data_source = 'fred'``) which contains a lot of useful **macroeconomic data**, and the Fama-French Data (Ken French’s Data Library) (``data_source = 'famafrench'``)  which contains returns on many portfolios commonly used in **asset pricing** (e.g. the market portfolio, SMB, HML, industry portfolios, etc).\n",
    "\n",
    "For both of these sources, we use the ``name`` parameter to specify **what** exactly we want to download from these data sources. \n",
    "\n",
    "For example, to download data on the the CPI from FRED, we need to use ``name = 'CPIAUCSL'`` which is the internal name that FRED uses for the CPI data:\n",
    "\n",
    "https://fred.stlouisfed.org/series/CPIAUCSL"
   ]
  },
  {
   "cell_type": "code",
   "execution_count": 42,
   "id": "bc33a3a3",
   "metadata": {},
   "outputs": [
    {
     "data": {
      "text/html": [
       "<div>\n",
       "<style scoped>\n",
       "    .dataframe tbody tr th:only-of-type {\n",
       "        vertical-align: middle;\n",
       "    }\n",
       "\n",
       "    .dataframe tbody tr th {\n",
       "        vertical-align: top;\n",
       "    }\n",
       "\n",
       "    .dataframe thead th {\n",
       "        text-align: right;\n",
       "    }\n",
       "</style>\n",
       "<table border=\"1\" class=\"dataframe\">\n",
       "  <thead>\n",
       "    <tr style=\"text-align: right;\">\n",
       "      <th></th>\n",
       "      <th>CPIAUCSL</th>\n",
       "    </tr>\n",
       "    <tr>\n",
       "      <th>DATE</th>\n",
       "      <th></th>\n",
       "    </tr>\n",
       "  </thead>\n",
       "  <tbody>\n",
       "    <tr>\n",
       "      <th>2020-09-01</th>\n",
       "      <td>260.029</td>\n",
       "    </tr>\n",
       "    <tr>\n",
       "      <th>2020-10-01</th>\n",
       "      <td>260.286</td>\n",
       "    </tr>\n",
       "    <tr>\n",
       "      <th>2020-11-01</th>\n",
       "      <td>260.813</td>\n",
       "    </tr>\n",
       "    <tr>\n",
       "      <th>2020-12-01</th>\n",
       "      <td>262.035</td>\n",
       "    </tr>\n",
       "  </tbody>\n",
       "</table>\n",
       "</div>"
      ],
      "text/plain": [
       "            CPIAUCSL\n",
       "DATE                \n",
       "2020-09-01   260.029\n",
       "2020-10-01   260.286\n",
       "2020-11-01   260.813\n",
       "2020-12-01   262.035"
      ]
     },
     "execution_count": 42,
     "metadata": {},
     "output_type": "execute_result"
    }
   ],
   "source": [
    "cpi = pdr.DataReader(name='CPIAUCSL', data_source='fred', \n",
    "                     start='2020-09-01', end='2020-12-31')\n",
    "cpi"
   ]
  },
  {
   "cell_type": "markdown",
   "id": "96fbb796",
   "metadata": {},
   "source": [
    "To download data on the Fama-French three risk factors (market, SMB, and HML) we use ``name = 'F_Research_Data_Factors'\"`` which is the name of the text file containing these factors on Ken French's website:\n",
    "\n",
    "https://mba.tuck.dartmouth.edu/pages/faculty/ken.french/data_library.html"
   ]
  },
  {
   "cell_type": "code",
   "execution_count": 43,
   "id": "6e2df680",
   "metadata": {},
   "outputs": [
    {
     "name": "stderr",
     "output_type": "stream",
     "text": [
      "C:\\Users\\ionmi\\AppData\\Local\\Temp\\ipykernel_4560\\1567472488.py:1: FutureWarning: The argument 'date_parser' is deprecated and will be removed in a future version. Please use 'date_format' instead, or read your data in as 'object' dtype and then call 'to_datetime'.\n",
      "  ff3f = pdr.DataReader(name='F-F_Research_Data_Factors', data_source='famafrench',\n",
      "C:\\Users\\ionmi\\AppData\\Local\\Temp\\ipykernel_4560\\1567472488.py:1: FutureWarning: The argument 'date_parser' is deprecated and will be removed in a future version. Please use 'date_format' instead, or read your data in as 'object' dtype and then call 'to_datetime'.\n",
      "  ff3f = pdr.DataReader(name='F-F_Research_Data_Factors', data_source='famafrench',\n"
     ]
    },
    {
     "data": {
      "text/plain": [
       "{0:          Mkt-RF   SMB   HML    RF\n",
       " Date                             \n",
       " 2020-09   -3.63  0.02 -2.71  0.01\n",
       " 2020-10   -2.10  4.38  4.25  0.01\n",
       " 2020-11   12.47  5.80  2.09  0.01\n",
       " 2020-12    4.63  4.89 -1.51  0.01,\n",
       " 1:       Mkt-RF    SMB    HML    RF\n",
       " Date                            \n",
       " 2020   23.66  13.18 -46.67  0.45,\n",
       " 'DESCR': 'F-F Research Data Factors\\n-------------------------\\n\\nThis file was created by CMPT_ME_BEME_RETS using the 202312 CRSP database. The 1-month TBill return is from Ibbotson and Associates, Inc. Copyright 2023 Kenneth R. French\\n\\n  0 : (4 rows x 4 cols)\\n  1 : Annual Factors: January-December (1 rows x 4 cols)'}"
      ]
     },
     "execution_count": 43,
     "metadata": {},
     "output_type": "execute_result"
    }
   ],
   "source": [
    "ff3f = pdr.DataReader(name='F-F_Research_Data_Factors', data_source='famafrench',\n",
    "                      start='2020-09-01',end = '2020-12-31')\n",
    "ff3f"
   ]
  },
  {
   "cell_type": "markdown",
   "id": "bf6666ee",
   "metadata": {},
   "source": [
    "Note that for the 'famafrench' data source, the 'DataReader' function return a dictionary of dataframes, not a single pandas dataframe. That's because the 'F-F_Research_Data_Factors' contains multiple tables. The monthly returns on the Fama-French risk factors are in the first entry in that dictionary (the 0 key), so we can retrieve it like this:"
   ]
  },
  {
   "cell_type": "code",
   "execution_count": 44,
   "id": "3480c929",
   "metadata": {},
   "outputs": [
    {
     "data": {
      "text/html": [
       "<div>\n",
       "<style scoped>\n",
       "    .dataframe tbody tr th:only-of-type {\n",
       "        vertical-align: middle;\n",
       "    }\n",
       "\n",
       "    .dataframe tbody tr th {\n",
       "        vertical-align: top;\n",
       "    }\n",
       "\n",
       "    .dataframe thead th {\n",
       "        text-align: right;\n",
       "    }\n",
       "</style>\n",
       "<table border=\"1\" class=\"dataframe\">\n",
       "  <thead>\n",
       "    <tr style=\"text-align: right;\">\n",
       "      <th></th>\n",
       "      <th>Mkt-RF</th>\n",
       "      <th>SMB</th>\n",
       "      <th>HML</th>\n",
       "      <th>RF</th>\n",
       "    </tr>\n",
       "    <tr>\n",
       "      <th>Date</th>\n",
       "      <th></th>\n",
       "      <th></th>\n",
       "      <th></th>\n",
       "      <th></th>\n",
       "    </tr>\n",
       "  </thead>\n",
       "  <tbody>\n",
       "    <tr>\n",
       "      <th>2020-09</th>\n",
       "      <td>-3.63</td>\n",
       "      <td>0.02</td>\n",
       "      <td>-2.71</td>\n",
       "      <td>0.01</td>\n",
       "    </tr>\n",
       "    <tr>\n",
       "      <th>2020-10</th>\n",
       "      <td>-2.10</td>\n",
       "      <td>4.38</td>\n",
       "      <td>4.25</td>\n",
       "      <td>0.01</td>\n",
       "    </tr>\n",
       "    <tr>\n",
       "      <th>2020-11</th>\n",
       "      <td>12.47</td>\n",
       "      <td>5.80</td>\n",
       "      <td>2.09</td>\n",
       "      <td>0.01</td>\n",
       "    </tr>\n",
       "    <tr>\n",
       "      <th>2020-12</th>\n",
       "      <td>4.63</td>\n",
       "      <td>4.89</td>\n",
       "      <td>-1.51</td>\n",
       "      <td>0.01</td>\n",
       "    </tr>\n",
       "  </tbody>\n",
       "</table>\n",
       "</div>"
      ],
      "text/plain": [
       "         Mkt-RF   SMB   HML    RF\n",
       "Date                             \n",
       "2020-09   -3.63  0.02 -2.71  0.01\n",
       "2020-10   -2.10  4.38  4.25  0.01\n",
       "2020-11   12.47  5.80  2.09  0.01\n",
       "2020-12    4.63  4.89 -1.51  0.01"
      ]
     },
     "execution_count": 44,
     "metadata": {},
     "output_type": "execute_result"
    }
   ],
   "source": [
    "ff3f[0]"
   ]
  },
  {
   "cell_type": "markdown",
   "id": "4bb5cc96",
   "metadata": {},
   "source": [
    "There is no easy way to know under what ``name`` you can find the data you need. You have to look at the FRED and Fama-French websites first, to see what names those websites use for the data you need and then type those names into your code, like we did above. The same is true for all the other data sources that pandas_datareader allows us to get data from."
   ]
  },
  {
   "cell_type": "markdown",
   "id": "7a5298b7",
   "metadata": {},
   "source": [
    "## The ``yfinance`` package"
   ]
  },
  {
   "cell_type": "markdown",
   "id": "3bf573c2",
   "metadata": {},
   "source": [
    "The ``yfinance`` package allows us to retrieve stock price data from Yahoo Finance. The full documentation for the package can be found here: https://pypi.org/project/yfinance/ (in particular, look under \"Fetching data for multiple tickers\" on the main page).\n",
    "\n",
    "Syntax:\n",
    "```python\n",
    "yfinance.download(tickers, start = None, end = None, interval = '1d')\n",
    "```"
   ]
  },
  {
   "cell_type": "markdown",
   "id": "a5249e02",
   "metadata": {},
   "source": [
    "For example, to retrieve monthly stock prices for Microsoft and Apple, we need to supply their tickers in a single string (separated by a space) as the first parameter to the ``download`` function and change the ``interval`` parameter to ``1mo`` (otherwise it will give us daily data):"
   ]
  },
  {
   "cell_type": "code",
   "execution_count": 47,
   "id": "ea39a097",
   "metadata": {},
   "outputs": [
    {
     "name": "stderr",
     "output_type": "stream",
     "text": [
      "[*********************100%%**********************]  2 of 2 completed\n"
     ]
    },
    {
     "data": {
      "text/html": [
       "<div>\n",
       "<style scoped>\n",
       "    .dataframe tbody tr th:only-of-type {\n",
       "        vertical-align: middle;\n",
       "    }\n",
       "\n",
       "    .dataframe tbody tr th {\n",
       "        vertical-align: top;\n",
       "    }\n",
       "\n",
       "    .dataframe thead tr th {\n",
       "        text-align: left;\n",
       "    }\n",
       "\n",
       "    .dataframe thead tr:last-of-type th {\n",
       "        text-align: right;\n",
       "    }\n",
       "</style>\n",
       "<table border=\"1\" class=\"dataframe\">\n",
       "  <thead>\n",
       "    <tr>\n",
       "      <th></th>\n",
       "      <th colspan=\"2\" halign=\"left\">Adj Close</th>\n",
       "      <th colspan=\"2\" halign=\"left\">Close</th>\n",
       "      <th colspan=\"2\" halign=\"left\">High</th>\n",
       "      <th colspan=\"2\" halign=\"left\">Low</th>\n",
       "      <th colspan=\"2\" halign=\"left\">Open</th>\n",
       "      <th colspan=\"2\" halign=\"left\">Volume</th>\n",
       "    </tr>\n",
       "    <tr>\n",
       "      <th></th>\n",
       "      <th>AAPL</th>\n",
       "      <th>MSFT</th>\n",
       "      <th>AAPL</th>\n",
       "      <th>MSFT</th>\n",
       "      <th>AAPL</th>\n",
       "      <th>MSFT</th>\n",
       "      <th>AAPL</th>\n",
       "      <th>MSFT</th>\n",
       "      <th>AAPL</th>\n",
       "      <th>MSFT</th>\n",
       "      <th>AAPL</th>\n",
       "      <th>MSFT</th>\n",
       "    </tr>\n",
       "    <tr>\n",
       "      <th>Date</th>\n",
       "      <th></th>\n",
       "      <th></th>\n",
       "      <th></th>\n",
       "      <th></th>\n",
       "      <th></th>\n",
       "      <th></th>\n",
       "      <th></th>\n",
       "      <th></th>\n",
       "      <th></th>\n",
       "      <th></th>\n",
       "      <th></th>\n",
       "      <th></th>\n",
       "    </tr>\n",
       "  </thead>\n",
       "  <tbody>\n",
       "    <tr>\n",
       "      <th>2020-09-01</th>\n",
       "      <td>113.604179</td>\n",
       "      <td>204.294250</td>\n",
       "      <td>115.809998</td>\n",
       "      <td>210.330002</td>\n",
       "      <td>137.979996</td>\n",
       "      <td>232.860001</td>\n",
       "      <td>103.099998</td>\n",
       "      <td>196.250000</td>\n",
       "      <td>132.759995</td>\n",
       "      <td>225.509995</td>\n",
       "      <td>3885245100</td>\n",
       "      <td>768176300</td>\n",
       "    </tr>\n",
       "    <tr>\n",
       "      <th>2020-10-01</th>\n",
       "      <td>106.786568</td>\n",
       "      <td>196.659805</td>\n",
       "      <td>108.860001</td>\n",
       "      <td>202.470001</td>\n",
       "      <td>125.389999</td>\n",
       "      <td>225.210007</td>\n",
       "      <td>107.720001</td>\n",
       "      <td>199.619995</td>\n",
       "      <td>117.639999</td>\n",
       "      <td>213.490005</td>\n",
       "      <td>2894666500</td>\n",
       "      <td>631618000</td>\n",
       "    </tr>\n",
       "    <tr>\n",
       "      <th>2020-11-01</th>\n",
       "      <td>116.782486</td>\n",
       "      <td>207.926941</td>\n",
       "      <td>119.050003</td>\n",
       "      <td>214.070007</td>\n",
       "      <td>121.989998</td>\n",
       "      <td>228.119995</td>\n",
       "      <td>107.320000</td>\n",
       "      <td>200.119995</td>\n",
       "      <td>109.110001</td>\n",
       "      <td>204.289993</td>\n",
       "      <td>2123077300</td>\n",
       "      <td>573443000</td>\n",
       "    </tr>\n",
       "    <tr>\n",
       "      <th>2020-12-01</th>\n",
       "      <td>130.387222</td>\n",
       "      <td>216.602905</td>\n",
       "      <td>132.690002</td>\n",
       "      <td>222.419998</td>\n",
       "      <td>138.789993</td>\n",
       "      <td>227.179993</td>\n",
       "      <td>120.010002</td>\n",
       "      <td>209.110001</td>\n",
       "      <td>121.010002</td>\n",
       "      <td>214.509995</td>\n",
       "      <td>2322189600</td>\n",
       "      <td>594761700</td>\n",
       "    </tr>\n",
       "  </tbody>\n",
       "</table>\n",
       "</div>"
      ],
      "text/plain": [
       "             Adj Close                   Close                    High  \\\n",
       "                  AAPL        MSFT        AAPL        MSFT        AAPL   \n",
       "Date                                                                     \n",
       "2020-09-01  113.604179  204.294250  115.809998  210.330002  137.979996   \n",
       "2020-10-01  106.786568  196.659805  108.860001  202.470001  125.389999   \n",
       "2020-11-01  116.782486  207.926941  119.050003  214.070007  121.989998   \n",
       "2020-12-01  130.387222  216.602905  132.690002  222.419998  138.789993   \n",
       "\n",
       "                               Low                    Open              \\\n",
       "                  MSFT        AAPL        MSFT        AAPL        MSFT   \n",
       "Date                                                                     \n",
       "2020-09-01  232.860001  103.099998  196.250000  132.759995  225.509995   \n",
       "2020-10-01  225.210007  107.720001  199.619995  117.639999  213.490005   \n",
       "2020-11-01  228.119995  107.320000  200.119995  109.110001  204.289993   \n",
       "2020-12-01  227.179993  120.010002  209.110001  121.010002  214.509995   \n",
       "\n",
       "                Volume             \n",
       "                  AAPL       MSFT  \n",
       "Date                               \n",
       "2020-09-01  3885245100  768176300  \n",
       "2020-10-01  2894666500  631618000  \n",
       "2020-11-01  2123077300  573443000  \n",
       "2020-12-01  2322189600  594761700  "
      ]
     },
     "execution_count": 47,
     "metadata": {},
     "output_type": "execute_result"
    }
   ],
   "source": [
    "prc = yf.download(tickers='MSFT AAPL', interval='1mo', \n",
    "                  start='2020-09-01', end='2020-12-31')\n",
    "prc"
   ]
  },
  {
   "cell_type": "markdown",
   "id": "ea95e637",
   "metadata": {},
   "source": [
    "We will always drop missing values (with ``.dropna()``) and use Adj Close prices (prices adjusted for dividends and splits):"
   ]
  },
  {
   "cell_type": "code",
   "execution_count": 48,
   "id": "e584dcba",
   "metadata": {},
   "outputs": [
    {
     "data": {
      "text/html": [
       "<div>\n",
       "<style scoped>\n",
       "    .dataframe tbody tr th:only-of-type {\n",
       "        vertical-align: middle;\n",
       "    }\n",
       "\n",
       "    .dataframe tbody tr th {\n",
       "        vertical-align: top;\n",
       "    }\n",
       "\n",
       "    .dataframe thead th {\n",
       "        text-align: right;\n",
       "    }\n",
       "</style>\n",
       "<table border=\"1\" class=\"dataframe\">\n",
       "  <thead>\n",
       "    <tr style=\"text-align: right;\">\n",
       "      <th></th>\n",
       "      <th>AAPL</th>\n",
       "      <th>MSFT</th>\n",
       "    </tr>\n",
       "    <tr>\n",
       "      <th>Date</th>\n",
       "      <th></th>\n",
       "      <th></th>\n",
       "    </tr>\n",
       "  </thead>\n",
       "  <tbody>\n",
       "    <tr>\n",
       "      <th>2020-09-01</th>\n",
       "      <td>113.604179</td>\n",
       "      <td>204.294250</td>\n",
       "    </tr>\n",
       "    <tr>\n",
       "      <th>2020-10-01</th>\n",
       "      <td>106.786568</td>\n",
       "      <td>196.659805</td>\n",
       "    </tr>\n",
       "    <tr>\n",
       "      <th>2020-11-01</th>\n",
       "      <td>116.782486</td>\n",
       "      <td>207.926941</td>\n",
       "    </tr>\n",
       "    <tr>\n",
       "      <th>2020-12-01</th>\n",
       "      <td>130.387222</td>\n",
       "      <td>216.602905</td>\n",
       "    </tr>\n",
       "  </tbody>\n",
       "</table>\n",
       "</div>"
      ],
      "text/plain": [
       "                  AAPL        MSFT\n",
       "Date                              \n",
       "2020-09-01  113.604179  204.294250\n",
       "2020-10-01  106.786568  196.659805\n",
       "2020-11-01  116.782486  207.926941\n",
       "2020-12-01  130.387222  216.602905"
      ]
     },
     "execution_count": 48,
     "metadata": {},
     "output_type": "execute_result"
    }
   ],
   "source": [
    "aprc = prc['Adj Close'].dropna()\n",
    "aprc"
   ]
  },
  {
   "cell_type": "markdown",
   "id": "01abf8e1",
   "metadata": {},
   "source": [
    "Note that, if we download data for a single stock, this will return a pandas Series, not a DataFrame:"
   ]
  },
  {
   "cell_type": "code",
   "execution_count": 49,
   "id": "274d97bd",
   "metadata": {},
   "outputs": [
    {
     "name": "stderr",
     "output_type": "stream",
     "text": [
      "[*********************100%%**********************]  1 of 1 completed\n"
     ]
    },
    {
     "data": {
      "text/plain": [
       "Date\n",
       "2020-09-01    204.294250\n",
       "2020-10-01    196.659805\n",
       "2020-11-01    207.926941\n",
       "2020-12-01    216.602905\n",
       "Name: Adj Close, dtype: float64"
      ]
     },
     "execution_count": 49,
     "metadata": {},
     "output_type": "execute_result"
    }
   ],
   "source": [
    "prc2 = yf.download(tickers='MSFT', interval='1mo', \n",
    "                  start='2020-09-01', end='2020-12-31')['Adj Close'].dropna()\n",
    "prc2"
   ]
  },
  {
   "cell_type": "code",
   "execution_count": 50,
   "id": "b10cb69c",
   "metadata": {},
   "outputs": [
    {
     "data": {
      "text/plain": [
       "pandas.core.series.Series"
      ]
     },
     "execution_count": 50,
     "metadata": {},
     "output_type": "execute_result"
    }
   ],
   "source": [
    "type(prc2)"
   ]
  },
  {
   "cell_type": "markdown",
   "id": "5b409377",
   "metadata": {},
   "source": [
    "As mentioned before, we will usually turn Series objects into dataframes before continuing to work with them any further:"
   ]
  },
  {
   "cell_type": "code",
   "execution_count": 51,
   "id": "88cebef1",
   "metadata": {},
   "outputs": [
    {
     "data": {
      "text/html": [
       "<div>\n",
       "<style scoped>\n",
       "    .dataframe tbody tr th:only-of-type {\n",
       "        vertical-align: middle;\n",
       "    }\n",
       "\n",
       "    .dataframe tbody tr th {\n",
       "        vertical-align: top;\n",
       "    }\n",
       "\n",
       "    .dataframe thead th {\n",
       "        text-align: right;\n",
       "    }\n",
       "</style>\n",
       "<table border=\"1\" class=\"dataframe\">\n",
       "  <thead>\n",
       "    <tr style=\"text-align: right;\">\n",
       "      <th></th>\n",
       "      <th>Adj Close</th>\n",
       "    </tr>\n",
       "    <tr>\n",
       "      <th>Date</th>\n",
       "      <th></th>\n",
       "    </tr>\n",
       "  </thead>\n",
       "  <tbody>\n",
       "    <tr>\n",
       "      <th>2020-09-01</th>\n",
       "      <td>204.294250</td>\n",
       "    </tr>\n",
       "    <tr>\n",
       "      <th>2020-10-01</th>\n",
       "      <td>196.659805</td>\n",
       "    </tr>\n",
       "    <tr>\n",
       "      <th>2020-11-01</th>\n",
       "      <td>207.926941</td>\n",
       "    </tr>\n",
       "    <tr>\n",
       "      <th>2020-12-01</th>\n",
       "      <td>216.602905</td>\n",
       "    </tr>\n",
       "  </tbody>\n",
       "</table>\n",
       "</div>"
      ],
      "text/plain": [
       "             Adj Close\n",
       "Date                  \n",
       "2020-09-01  204.294250\n",
       "2020-10-01  196.659805\n",
       "2020-11-01  207.926941\n",
       "2020-12-01  216.602905"
      ]
     },
     "execution_count": 51,
     "metadata": {},
     "output_type": "execute_result"
    }
   ],
   "source": [
    "aprc2 = prc2.to_frame()\n",
    "aprc2"
   ]
  },
  {
   "cell_type": "markdown",
   "id": "2172a757",
   "metadata": {},
   "source": [
    "## The ``wrds`` package (OPTIONAL)\n",
    "\n",
    "The ``wrds`` package allows us to download data directly from the WRDS database (Wharton Research Data Services). Unfortunately, this functionality is not available for \"class accounts\" like the ones I created for this course. I only mention this package for PhD students, who should be able to use this package with their own individual WRDS credentials (not the common ones provided for this class). The documentation for this package is found here:\n",
    "\n",
    "https://pypi.org/project/wrds/"
   ]
  }
 ],
 "metadata": {
  "kernelspec": {
   "display_name": "Python 3",
   "language": "python",
   "name": "python3"
  },
  "language_info": {
   "codemirror_mode": {
    "name": "ipython",
    "version": 3
   },
   "file_extension": ".py",
   "mimetype": "text/x-python",
   "name": "python",
   "nbconvert_exporter": "python",
   "pygments_lexer": "ipython3",
   "version": "3.11.5"
  },
  "toc": {
   "base_numbering": 1,
   "nav_menu": {},
   "number_sections": true,
   "sideBar": true,
   "skip_h1_title": false,
   "title_cell": "Table of Contents",
   "title_sidebar": "Contents",
   "toc_cell": true,
   "toc_position": {},
   "toc_section_display": true,
   "toc_window_display": false
  },
  "vscode": {
   "interpreter": {
    "hash": "767d51c1340bd893661ea55ea3124f6de3c7a262a8b4abca0554b478b1e2ff90"
   }
  }
 },
 "nbformat": 4,
 "nbformat_minor": 5
}
