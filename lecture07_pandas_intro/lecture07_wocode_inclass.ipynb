{
 "cells": [
  {
   "cell_type": "markdown",
   "id": "24897a14",
   "metadata": {
    "toc": true
   },
   "source": [
    "<h1>Table of Contents<span class=\"tocSkip\"></span></h1>\n",
    "<div class=\"toc\"><ul class=\"toc-item\"><li><span><a href=\"#Pandas-DataFrames\" data-toc-modified-id=\"Pandas-DataFrames-1\"><span class=\"toc-item-num\">1&nbsp;&nbsp;</span>Pandas DataFrames</a></span></li><li><span><a href=\"#Creating-dataframes-with-the-&quot;.DataFrame()&quot;-function\" data-toc-modified-id=\"Creating-dataframes-with-the-&quot;.DataFrame()&quot;-function-2\"><span class=\"toc-item-num\">2&nbsp;&nbsp;</span>Creating dataframes with the \".DataFrame()\" function</a></span></li><li><span><a href=\"#The-structure-of-a-DataFrame:-index,-columns,-values\" data-toc-modified-id=\"The-structure-of-a-DataFrame:-index,-columns,-values-3\"><span class=\"toc-item-num\">3&nbsp;&nbsp;</span>The structure of a DataFrame: index, columns, values</a></span></li><li><span><a href=\"#Manipulating-the-index\" data-toc-modified-id=\"Manipulating-the-index-4\"><span class=\"toc-item-num\">4&nbsp;&nbsp;</span>Manipulating the index</a></span><ul class=\"toc-item\"><li><span><a href=\"#.reset_index()\" data-toc-modified-id=\".reset_index()-4.1\"><span class=\"toc-item-num\">4.1&nbsp;&nbsp;</span><code>.reset_index()</code></a></span></li><li><span><a href=\"#.set_index()\" data-toc-modified-id=\".set_index()-4.2\"><span class=\"toc-item-num\">4.2&nbsp;&nbsp;</span><code>.set_index()</code></a></span></li><li><span><a href=\"#.rename()\" data-toc-modified-id=\".rename()-4.3\"><span class=\"toc-item-num\">4.3&nbsp;&nbsp;</span><code>.rename()</code></a></span></li></ul></li><li><span><a href=\"#Manipulating-columns\" data-toc-modified-id=\"Manipulating-columns-5\"><span class=\"toc-item-num\">5&nbsp;&nbsp;</span>Manipulating columns</a></span><ul class=\"toc-item\"><li><span><a href=\"#.rename()\" data-toc-modified-id=\".rename()-5.1\"><span class=\"toc-item-num\">5.1&nbsp;&nbsp;</span><code>.rename()</code></a></span></li><li><span><a href=\"#Accessing-and-creating-entire-columns\" data-toc-modified-id=\"Accessing-and-creating-entire-columns-5.2\"><span class=\"toc-item-num\">5.2&nbsp;&nbsp;</span>Accessing and creating entire columns</a></span></li></ul></li><li><span><a href=\"#Some-common-Pandas-functions\" data-toc-modified-id=\"Some-common-Pandas-functions-6\"><span class=\"toc-item-num\">6&nbsp;&nbsp;</span>Some common Pandas functions</a></span></li><li><span><a href=\"#Pandas-Series\" data-toc-modified-id=\"Pandas-Series-7\"><span class=\"toc-item-num\">7&nbsp;&nbsp;</span>Pandas Series</a></span></li></ul></div>"
   ]
  },
  {
   "cell_type": "markdown",
   "id": "a4ebf273",
   "metadata": {},
   "source": [
    "# Pandas DataFrames\n",
    "\n",
    "Almost all our data analysis in this course will be performed using a new data structure called Pandas DataFrames. These data structures are implemented in the Pandas package, which comes with the Anaconda installation. It is customary to import the Pandas package as below. "
   ]
  },
  {
   "cell_type": "code",
   "execution_count": null,
   "id": "d266b7eb",
   "metadata": {},
   "outputs": [],
   "source": []
  },
  {
   "cell_type": "markdown",
   "id": "1912b27c",
   "metadata": {},
   "source": [
    "The Pandas package has a very rich functionality. In this course we will cover only a subset of what one can do with this package. If you are interested in a higher level of detail than what is covered in this course, I strongly recommend the official user guide for the package: \n",
    "\n",
    "https://pandas.pydata.org/docs/user_guide/index.html\n",
    "\n",
    "We will be referencing different parts of this user guide at different points in the class. You are not expected to know all the details in the user guide, only the parts that are covered in class, or in the practice problems."
   ]
  },
  {
   "cell_type": "markdown",
   "id": "fd1566a1",
   "metadata": {},
   "source": [
    "The pandas package comes with many different functions/attributes. We will introduce some of the more commonly used attributes gradually over the course of the semester. Remember, in Pyhton, an object attribute is anything that you can put (using dot notation) after the name of that object. We will use the terms \"attribute\", \"method\" and \"function\" interchangeably."
   ]
  },
  {
   "cell_type": "markdown",
   "id": "d7644753",
   "metadata": {},
   "source": [
    "# Creating dataframes with the \".DataFrame()\" function\n",
    "\n",
    "One of the most important functions in the pandas package is the ``.DataFrame()`` function, which allows us to create a new dataframe (this is similar to using ``[]`` to create lists, and using ``{}`` to create dictionaries). \n",
    "\n",
    "The general syntax for ``.DataFrame()`` is as follows:\n",
    "\n",
    "```python\n",
    "pandas.DataFrame(data=None, index=None, columns=None, dtype=None, copy=None)\n",
    "```"
   ]
  },
  {
   "cell_type": "markdown",
   "id": "8f22c8ab",
   "metadata": {},
   "source": [
    "As an aside, every time we introduce a new Pandas function, you should check its official documentation to see how you're supposed to use it. Usually, this is the first result if you Google \"pandas\" followed by the name of that function. For example, Google \"pandas DataFrame()\" and you should get this https://pandas.pydata.org/docs/reference/api/pandas.DataFrame.html as one of the first results. "
   ]
  },
  {
   "cell_type": "markdown",
   "id": "cb90c632",
   "metadata": {},
   "source": [
    "If you imported pandas as pd (as above), you would replace \"pandas\" in the syntax above with \"pd\". \n",
    "\n",
    "For example:"
   ]
  },
  {
   "cell_type": "code",
   "execution_count": null,
   "id": "a1482f69",
   "metadata": {},
   "outputs": [],
   "source": []
  },
  {
   "cell_type": "markdown",
   "id": "9bb987f4",
   "metadata": {},
   "source": [
    "The cell above creates a new variable ``df`` of type ``pandas.core.frame.DataFrame``:"
   ]
  },
  {
   "cell_type": "code",
   "execution_count": null,
   "id": "d5343b1b",
   "metadata": {},
   "outputs": [],
   "source": []
  },
  {
   "cell_type": "markdown",
   "id": "5063c1e7",
   "metadata": {},
   "source": [
    "To print ``df``, we can use the ``print()`` function as usual:"
   ]
  },
  {
   "cell_type": "code",
   "execution_count": null,
   "id": "260d4acc",
   "metadata": {},
   "outputs": [],
   "source": []
  },
  {
   "cell_type": "markdown",
   "id": "66159540",
   "metadata": {},
   "source": [
    "Though simply using the name of the dataframe also works, and the output looks nicer. We will use this method throughout the course:"
   ]
  },
  {
   "cell_type": "code",
   "execution_count": null,
   "id": "9baabaf8",
   "metadata": {},
   "outputs": [],
   "source": []
  },
  {
   "cell_type": "markdown",
   "id": "e25d959e",
   "metadata": {},
   "source": [
    "From the syntax of the ``.DataFrame()`` function, you should be able to tell that any of the three parameters of DataFrame can be omitted (because they all have default falues). \n",
    "\n",
    "For example:"
   ]
  },
  {
   "cell_type": "code",
   "execution_count": null,
   "id": "49591535",
   "metadata": {},
   "outputs": [],
   "source": []
  },
  {
   "cell_type": "code",
   "execution_count": null,
   "id": "657564d8",
   "metadata": {},
   "outputs": [],
   "source": []
  },
  {
   "cell_type": "code",
   "execution_count": null,
   "id": "8dfc1284",
   "metadata": {},
   "outputs": [],
   "source": []
  },
  {
   "cell_type": "markdown",
   "id": "b001ef1c",
   "metadata": {},
   "source": [
    "Finally, if you check the documentation of ``.DataFrame()``, you will see that there are several different types of objects you can supply to each of its parameters. \n",
    "\n",
    "For example, we could have created our initial dataframe ``df`` using a dictionary for the ``data`` parameter (instead of a list):"
   ]
  },
  {
   "cell_type": "code",
   "execution_count": null,
   "id": "84cf19f8",
   "metadata": {},
   "outputs": [],
   "source": []
  },
  {
   "cell_type": "markdown",
   "id": "6cd42af2",
   "metadata": {},
   "source": [
    "Note how the ``columns`` parameter is missing, because column names are specified as the keys in the dictionary supplied to the ``data`` parameter."
   ]
  },
  {
   "cell_type": "markdown",
   "id": "ccdf05a8",
   "metadata": {},
   "source": [
    "We will not go through all the different ways to create a new dataframe. The key point is that **most Pandas functions offer a large degree of flexibility with respect to how they can be used**. This is very helpful for more advanced users, but it can be quite confusing for beginners. You can only get better at this with practice. Look at the documentation, and experiment with different ways to use that particular function. Check the results and see if you can explain what happened. "
   ]
  },
  {
   "cell_type": "markdown",
   "id": "370e5dfe",
   "metadata": {},
   "source": [
    "**I will NOT expect you to know every little detail about the documentation of all the functions we introduce throughout the course**. But you should be able to use those functions in the form that I use them in the notes. For example, given the code above, I expect you to know how to create a new dataframe from a list (first approach at the top) and from a dictionary (see code cell right above this one). In the code below, I also show you how to use the ``numpy`` package to create a dataframe containing some randomly generate data (this comes in handy when you want to quickly generate an example dataframe to test some of your code, when the contents of the data don't really matter):"
   ]
  },
  {
   "cell_type": "code",
   "execution_count": null,
   "id": "f2ef3557",
   "metadata": {},
   "outputs": [],
   "source": []
  },
  {
   "cell_type": "code",
   "execution_count": null,
   "id": "79a6c603",
   "metadata": {},
   "outputs": [],
   "source": []
  },
  {
   "cell_type": "markdown",
   "id": "aa77340d",
   "metadata": {},
   "source": [
    "# The structure of a DataFrame: index, columns, values "
   ]
  },
  {
   "cell_type": "markdown",
   "id": "5913d353",
   "metadata": {},
   "source": [
    "The syntax of the ``.DataFrame()`` function should make it clear what the main components of a dataframe are:\n",
    "\n",
    "- the index: the names of the rows (also referred to as axis 0 of the dataframe)\n",
    "- the columns: the names of the columns (also referred to as axis 1 of the dataframe)\n",
    "- the values: the data contained in the table itself\n",
    "\n",
    "We can access each of these individual parts of the dataframe using the ``.index``, ``.columns`` and ``.values`` attributes:"
   ]
  },
  {
   "cell_type": "code",
   "execution_count": null,
   "id": "2b09824c",
   "metadata": {},
   "outputs": [],
   "source": []
  },
  {
   "cell_type": "code",
   "execution_count": null,
   "id": "8fed0910",
   "metadata": {},
   "outputs": [],
   "source": []
  },
  {
   "cell_type": "code",
   "execution_count": null,
   "id": "abfdbc49",
   "metadata": {},
   "outputs": [],
   "source": []
  },
  {
   "cell_type": "code",
   "execution_count": null,
   "id": "3888bcef",
   "metadata": {},
   "outputs": [],
   "source": []
  },
  {
   "cell_type": "markdown",
   "id": "d5db4ecd",
   "metadata": {},
   "source": [
    "Note that these attributes are not followed by parentheses. They are still attributes, but they do not compute anything, they simply return some property of the dataframe. It is important to pay attention to these details. For example, the ``index`` attribute above is very different from the ``pd.Index()`` attribute (which is more appropriately called a \"function\"):https://pandas.pydata.org/docs/reference/api/pandas.Index.html. "
   ]
  },
  {
   "cell_type": "markdown",
   "id": "928bfc8d",
   "metadata": {},
   "source": [
    "Finally, note that the data inside a dataframe is represented as a numpy array:"
   ]
  },
  {
   "cell_type": "code",
   "execution_count": null,
   "id": "1e0fc10d",
   "metadata": {},
   "outputs": [],
   "source": []
  },
  {
   "cell_type": "markdown",
   "id": "8dfc57ba",
   "metadata": {},
   "source": [
    "At this point in time, it is not important to know anything about the ``numpy`` package or the ``ndarray`` type that comes with it. I just wanted to point out a very important feature of the Python programming language: many packages are built using other existing packages (e.g. pandas uses the numpy and matplotlib packages to name a few).  "
   ]
  },
  {
   "cell_type": "markdown",
   "id": "45a3aebb",
   "metadata": {},
   "source": [
    "The **.info()** function gives us another way to quickly check the structure of our DataFrame:"
   ]
  },
  {
   "cell_type": "code",
   "execution_count": null,
   "id": "d22b1ec2",
   "metadata": {},
   "outputs": [],
   "source": []
  },
  {
   "cell_type": "markdown",
   "id": "380b667d",
   "metadata": {},
   "source": [
    "The **.describe()** function gives us summary statistics for the numerical columns in the dataframe:"
   ]
  },
  {
   "cell_type": "code",
   "execution_count": null,
   "id": "8d68049f",
   "metadata": {},
   "outputs": [],
   "source": []
  },
  {
   "cell_type": "markdown",
   "id": "8b3854b8",
   "metadata": {},
   "source": [
    "The **.dtypes** attribute tells us the data type for each column:"
   ]
  },
  {
   "cell_type": "code",
   "execution_count": null,
   "id": "3d035ade",
   "metadata": {},
   "outputs": [],
   "source": []
  },
  {
   "cell_type": "markdown",
   "id": "14db2db0",
   "metadata": {},
   "source": [
    "The **.shape** attribute tells us the shape of the dataframe:"
   ]
  },
  {
   "cell_type": "code",
   "execution_count": null,
   "id": "c3704883",
   "metadata": {},
   "outputs": [],
   "source": []
  },
  {
   "cell_type": "markdown",
   "id": "f2bae690",
   "metadata": {},
   "source": [
    "# Manipulating the index"
   ]
  },
  {
   "cell_type": "code",
   "execution_count": null,
   "id": "43acfde0",
   "metadata": {},
   "outputs": [],
   "source": []
  },
  {
   "cell_type": "markdown",
   "id": "91cf58c9",
   "metadata": {},
   "source": [
    "## ``.reset_index()``"
   ]
  },
  {
   "cell_type": "markdown",
   "id": "0b3af438",
   "metadata": {},
   "source": [
    "We can switch to a numerical index for our dataframe using the ``.reset_index()`` function. \n",
    "\n",
    "Syntax:\n",
    "\n",
    "```python\n",
    "reset_index(level=None, drop=False, inplace=False, col_level=0, col_fill='')\n",
    "```\n",
    "\n",
    "For example:"
   ]
  },
  {
   "cell_type": "code",
   "execution_count": null,
   "id": "c6c9d458",
   "metadata": {},
   "outputs": [],
   "source": []
  },
  {
   "cell_type": "markdown",
   "id": "ffd99876",
   "metadata": {},
   "source": [
    "Note how this pushed the old index inside the table itself, as a new column."
   ]
  },
  {
   "cell_type": "markdown",
   "id": "99a31fe9",
   "metadata": {},
   "source": [
    "**Very important**: the code above did not actually change ``df``:"
   ]
  },
  {
   "cell_type": "code",
   "execution_count": null,
   "id": "937915a3",
   "metadata": {},
   "outputs": [],
   "source": []
  },
  {
   "cell_type": "markdown",
   "id": "99f3e9a7",
   "metadata": {},
   "source": [
    "To do that, we have to set the ``inplace`` parameter to True:"
   ]
  },
  {
   "cell_type": "code",
   "execution_count": null,
   "id": "0fb82359",
   "metadata": {},
   "outputs": [],
   "source": []
  },
  {
   "cell_type": "code",
   "execution_count": null,
   "id": "1b84d252",
   "metadata": {},
   "outputs": [],
   "source": []
  },
  {
   "cell_type": "markdown",
   "id": "7ca7d19f",
   "metadata": {},
   "source": [
    "Or we can simply re-write the ``df`` dataframe:"
   ]
  },
  {
   "cell_type": "code",
   "execution_count": null,
   "id": "bf012cce",
   "metadata": {},
   "outputs": [],
   "source": []
  },
  {
   "cell_type": "code",
   "execution_count": null,
   "id": "0779bb99",
   "metadata": {},
   "outputs": [],
   "source": []
  },
  {
   "cell_type": "markdown",
   "id": "07e584d4",
   "metadata": {},
   "source": [
    "## ``.set_index()``"
   ]
  },
  {
   "cell_type": "markdown",
   "id": "6562c010",
   "metadata": {},
   "source": [
    "We can use the data in one of the columns, as the new index of the table with the ``.set_index()`` function:\n",
    "\n",
    "Syntax:\n",
    "\n",
    "```python\n",
    "set_index(keys, drop=True, append=False, inplace=False, verify_integrity=False)\n",
    "```\n",
    "\n",
    "For example:"
   ]
  },
  {
   "cell_type": "code",
   "execution_count": null,
   "id": "4147b55a",
   "metadata": {},
   "outputs": [],
   "source": []
  },
  {
   "cell_type": "code",
   "execution_count": null,
   "id": "8d6b466f",
   "metadata": {},
   "outputs": [],
   "source": []
  },
  {
   "cell_type": "markdown",
   "id": "c3ba681a",
   "metadata": {},
   "source": [
    "Note that, once we make the 'ticker' column into an index, it stops showing up as a column:"
   ]
  },
  {
   "cell_type": "code",
   "execution_count": null,
   "id": "6c6fdbcf",
   "metadata": {},
   "outputs": [],
   "source": []
  },
  {
   "cell_type": "markdown",
   "id": "c54471e9",
   "metadata": {},
   "source": [
    "So if we try to set the index to 'ticker' again, we will get an error, because Python can not find the 'ticker' column:"
   ]
  },
  {
   "cell_type": "code",
   "execution_count": null,
   "id": "ebbfda7a",
   "metadata": {},
   "outputs": [],
   "source": [
    "#df.set_index('ticker') #this won't work"
   ]
  },
  {
   "cell_type": "markdown",
   "id": "a95c918b",
   "metadata": {},
   "source": [
    "## ``.rename()``"
   ]
  },
  {
   "cell_type": "markdown",
   "id": "7afd7b3f",
   "metadata": {},
   "source": [
    "We can rename one or more of the index values using the ``.rename()`` function.\n",
    "\n",
    "Syntax:\n",
    "```python\n",
    "rename(mapper=None, index=None, columns=None, axis=None, copy=True, inplace=False, level=None, errors='ignore')\n",
    "```\n",
    "\n",
    "We will supply a dictionary to the ``index`` parameter, where the keys are the current names we want to change in the index, and the values are the new names we want to use.\n",
    "\n",
    "For example:"
   ]
  },
  {
   "cell_type": "code",
   "execution_count": null,
   "id": "323b3907",
   "metadata": {
    "scrolled": true
   },
   "outputs": [],
   "source": []
  },
  {
   "cell_type": "markdown",
   "id": "6c8764e2",
   "metadata": {},
   "source": [
    "As with ``.set_index()``, ``.rename()`` does not actually change the ``df`` dataframe unless we set ``inplace = True`` or we redefine the df variable. This behavior should be expected of any pandas function that has an ``inplace`` parameter:"
   ]
  },
  {
   "cell_type": "code",
   "execution_count": null,
   "id": "c7e1eed1",
   "metadata": {},
   "outputs": [],
   "source": []
  },
  {
   "cell_type": "markdown",
   "id": "35050c21",
   "metadata": {},
   "source": [
    "# Manipulating columns"
   ]
  },
  {
   "cell_type": "markdown",
   "id": "746d1d29",
   "metadata": {},
   "source": [
    "Let's rewrite ``df`` to make sure we're on the same page at this point:"
   ]
  },
  {
   "cell_type": "code",
   "execution_count": null,
   "id": "21bc5523",
   "metadata": {},
   "outputs": [],
   "source": [
    "ndf = pd.DataFrame(data=[['TSLA',1000],['AAPL',2000]], \n",
    "                  index = ['Tesla','Apple'], \n",
    "                  columns = ['ticker','price'])\n",
    "ndf"
   ]
  },
  {
   "cell_type": "markdown",
   "id": "b5db25f4",
   "metadata": {},
   "source": [
    "## ``.rename()``"
   ]
  },
  {
   "cell_type": "markdown",
   "id": "90a2a8e0",
   "metadata": {},
   "source": [
    "We can also rename one or more of the *columns* using the ``.rename()`` function.\n",
    "\n",
    "This time, we will supply a dictionary to the ``columns`` parameter, where the keys are the current names of the columns we want to change, and the values are the new names we want to use.\n",
    "\n",
    "For example"
   ]
  },
  {
   "cell_type": "code",
   "execution_count": null,
   "id": "683b61be",
   "metadata": {},
   "outputs": [],
   "source": []
  },
  {
   "cell_type": "code",
   "execution_count": null,
   "id": "07205dae",
   "metadata": {},
   "outputs": [],
   "source": []
  },
  {
   "cell_type": "markdown",
   "id": "259f5e98",
   "metadata": {},
   "source": [
    "## Accessing and creating entire columns"
   ]
  },
  {
   "cell_type": "markdown",
   "id": "26240b41",
   "metadata": {},
   "source": [
    "We can access the data in an entire column of a dataframe using square brackets after the dataframe name:"
   ]
  },
  {
   "cell_type": "code",
   "execution_count": null,
   "id": "1c655b40",
   "metadata": {},
   "outputs": [],
   "source": []
  },
  {
   "cell_type": "markdown",
   "id": "f74ebc1d",
   "metadata": {},
   "source": [
    "If we want to access multiple columns at once, we have to put their names in a list:"
   ]
  },
  {
   "cell_type": "code",
   "execution_count": null,
   "id": "4b64f9b2",
   "metadata": {},
   "outputs": [],
   "source": []
  },
  {
   "cell_type": "markdown",
   "id": "386f5433",
   "metadata": {},
   "source": [
    "We can create new columns by just supplying the data manually:"
   ]
  },
  {
   "cell_type": "code",
   "execution_count": null,
   "id": "63caaedb",
   "metadata": {},
   "outputs": [],
   "source": []
  },
  {
   "cell_type": "markdown",
   "id": "1cecf1ae",
   "metadata": {},
   "source": [
    "But most of the time, new columns will be created by bringing them over from other dataframes (we'll cover this in a future lecture) or by some calculation involving other existing columns from the dataframe.\n",
    "\n",
    "For example:"
   ]
  },
  {
   "cell_type": "code",
   "execution_count": null,
   "id": "1a2ed88b",
   "metadata": {},
   "outputs": [],
   "source": []
  },
  {
   "cell_type": "markdown",
   "id": "bc9df963",
   "metadata": {},
   "source": [
    "# Some common Pandas functions\n",
    "\n",
    "In this section, we introduce some more Pandas functions that are very commonly used. These are very intuitive so we will not present the syntax for each of them. For the most part, it is very clear what these functions do, just from their name. We will cover many more such functions throughout the course.\n",
    "\n",
    "First, let's create an example dataframe with random integers:"
   ]
  },
  {
   "cell_type": "code",
   "execution_count": null,
   "id": "cdffe756",
   "metadata": {},
   "outputs": [],
   "source": []
  },
  {
   "cell_type": "code",
   "execution_count": null,
   "id": "ce724d07",
   "metadata": {},
   "outputs": [],
   "source": []
  },
  {
   "cell_type": "code",
   "execution_count": null,
   "id": "5b4b5e27",
   "metadata": {},
   "outputs": [],
   "source": []
  },
  {
   "cell_type": "markdown",
   "id": "1bf69833",
   "metadata": {},
   "source": [
    "Count number of non-missing values:"
   ]
  },
  {
   "cell_type": "code",
   "execution_count": null,
   "id": "098f0dc0",
   "metadata": {},
   "outputs": [],
   "source": []
  },
  {
   "cell_type": "markdown",
   "id": "f52a7f3c",
   "metadata": {},
   "source": [
    "Calculate means, medians, standard deviations and variances:"
   ]
  },
  {
   "cell_type": "code",
   "execution_count": null,
   "id": "d4aca0fd",
   "metadata": {},
   "outputs": [],
   "source": []
  },
  {
   "cell_type": "code",
   "execution_count": null,
   "id": "e289fdd1",
   "metadata": {},
   "outputs": [],
   "source": []
  },
  {
   "cell_type": "code",
   "execution_count": null,
   "id": "3e13c6e6",
   "metadata": {},
   "outputs": [],
   "source": []
  },
  {
   "cell_type": "code",
   "execution_count": null,
   "id": "44fc4a99",
   "metadata": {},
   "outputs": [],
   "source": []
  },
  {
   "cell_type": "markdown",
   "id": "9463ca10",
   "metadata": {},
   "source": [
    "Calculate percentage changes from one row to the next:"
   ]
  },
  {
   "cell_type": "code",
   "execution_count": null,
   "id": "e1ac27c4",
   "metadata": {},
   "outputs": [],
   "source": []
  },
  {
   "cell_type": "markdown",
   "id": "b334d9db",
   "metadata": {},
   "source": [
    "Calculate differences between the current row and a different row (default is the prior row):"
   ]
  },
  {
   "cell_type": "code",
   "execution_count": null,
   "id": "4ae17a0d",
   "metadata": {},
   "outputs": [],
   "source": []
  },
  {
   "cell_type": "markdown",
   "id": "d1badcb8",
   "metadata": {},
   "source": [
    "Calculate cumulative sums (sum of values up to that row):"
   ]
  },
  {
   "cell_type": "code",
   "execution_count": null,
   "id": "fde70c7e",
   "metadata": {},
   "outputs": [],
   "source": []
  },
  {
   "cell_type": "markdown",
   "id": "3e64ebf1",
   "metadata": {},
   "source": [
    "Calculate cummulative products (product of values up to that row):"
   ]
  },
  {
   "cell_type": "code",
   "execution_count": null,
   "id": "ba217119",
   "metadata": {},
   "outputs": [],
   "source": []
  },
  {
   "cell_type": "markdown",
   "id": "a353f310",
   "metadata": {},
   "source": [
    "# Pandas Series\n",
    "\n",
    "The pandas package comes with another commonly used data structure: the Series. This is a data structure that contains a single column and an index.\n",
    "\n",
    "For example:"
   ]
  },
  {
   "cell_type": "code",
   "execution_count": null,
   "id": "6a0850d9",
   "metadata": {},
   "outputs": [],
   "source": []
  },
  {
   "cell_type": "code",
   "execution_count": null,
   "id": "8b9ea999",
   "metadata": {},
   "outputs": [],
   "source": []
  },
  {
   "cell_type": "markdown",
   "id": "4cb960a1",
   "metadata": {},
   "source": [
    "We will almost never use Series in our analysis. We only introduce it here because some pandas functions return a Series as a result. For the most part, we will convert series to dataframes using the ``.to_frame()`` function: "
   ]
  },
  {
   "cell_type": "code",
   "execution_count": null,
   "id": "f112fd30",
   "metadata": {},
   "outputs": [],
   "source": []
  },
  {
   "cell_type": "code",
   "execution_count": null,
   "id": "d51d1c41",
   "metadata": {},
   "outputs": [],
   "source": []
  }
 ],
 "metadata": {
  "kernelspec": {
   "display_name": "Python 3 (ipykernel)",
   "language": "python",
   "name": "python3"
  },
  "language_info": {
   "codemirror_mode": {
    "name": "ipython",
    "version": 3
   },
   "file_extension": ".py",
   "mimetype": "text/x-python",
   "name": "python",
   "nbconvert_exporter": "python",
   "pygments_lexer": "ipython3",
   "version": "3.8.5"
  },
  "toc": {
   "base_numbering": 1,
   "nav_menu": {},
   "number_sections": true,
   "sideBar": true,
   "skip_h1_title": false,
   "title_cell": "Table of Contents",
   "title_sidebar": "Contents",
   "toc_cell": true,
   "toc_position": {},
   "toc_section_display": true,
   "toc_window_display": false
  }
 },
 "nbformat": 4,
 "nbformat_minor": 5
}
