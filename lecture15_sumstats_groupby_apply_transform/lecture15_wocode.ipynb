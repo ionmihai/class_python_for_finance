{
 "cells": [
  {
   "cell_type": "markdown",
   "id": "0957c028",
   "metadata": {
    "toc": true
   },
   "source": [
    "<h1>Table of Contents<span class=\"tocSkip\"></span></h1>\n",
    "<div class=\"toc\"><ul class=\"toc-item\"><li><span><a href=\"#Lecture-overview\" data-toc-modified-id=\"Lecture-overview-1\"><span class=\"toc-item-num\">1&nbsp;&nbsp;</span>Lecture overview</a></span></li><li><span><a href=\"#Preliminaries\" data-toc-modified-id=\"Preliminaries-2\"><span class=\"toc-item-num\">2&nbsp;&nbsp;</span>Preliminaries</a></span></li><li><span><a href=\"#Grouping-your-data:-the-.groupby()-function\" data-toc-modified-id=\"Grouping-your-data:-the-.groupby()-function-3\"><span class=\"toc-item-num\">3&nbsp;&nbsp;</span>Grouping your data: the <code>.groupby()</code> function</a></span></li><li><span><a href=\"#The-.apply()-and-.transform()-methods\" data-toc-modified-id=\"The-.apply()-and-.transform()-methods-4\"><span class=\"toc-item-num\">4&nbsp;&nbsp;</span>The <code>.apply()</code> and <code>.transform()</code> methods</a></span></li><li><span><a href=\"#Winsorizing-outliers\" data-toc-modified-id=\"Winsorizing-outliers-5\"><span class=\"toc-item-num\">5&nbsp;&nbsp;</span>Winsorizing outliers</a></span></li></ul></div>"
   ]
  },
  {
   "cell_type": "markdown",
   "id": "e174dc6c",
   "metadata": {},
   "source": [
    "# Lecture overview\n",
    "\n",
    "In this lecture we introduce a set of Pandas functions that are very useful in describing subsamples of your data (this is often called \"subsample analysis\"). Looking at subsamples of your data individually is important because patterns that show up in your overall dataset may look quite different if you limit yourself to a subset of the dataset. This is exemplified in Simpson's Paradox: https://en.wikipedia.org/wiki/Simpson%27s_paradox.\n",
    "\n",
    "We finish the lecture with a discussion of the impact of outliers on your descriptive statistics, and a method of mitigating that impact called \"windsorization\"."
   ]
  },
  {
   "cell_type": "markdown",
   "id": "c07c074a",
   "metadata": {},
   "source": [
    "# Preliminaries"
   ]
  },
  {
   "cell_type": "code",
   "execution_count": null,
   "id": "6fae3d52",
   "metadata": {},
   "outputs": [],
   "source": [
    "import pandas as pd\n",
    "import numpy as np\n",
    "import pandas_datareader as pdr\n",
    "pd.options.display.max_rows = 20"
   ]
  },
  {
   "cell_type": "markdown",
   "id": "eb5bd19a",
   "metadata": {},
   "source": [
    "We'll use data on the Fama-French 5-industry portfolio returns for this lecture:"
   ]
  },
  {
   "cell_type": "code",
   "execution_count": null,
   "id": "4e73d775",
   "metadata": {},
   "outputs": [],
   "source": [
    "raw = pdr.DataReader(name = '5_Industry_Portfolios', data_source = 'famafrench', \n",
    "                     start = '2011-01-01', end = '2020-12-31')\n",
    "raw"
   ]
  },
  {
   "cell_type": "markdown",
   "id": "83f260db",
   "metadata": {},
   "source": [
    "Extract equal-weighted *annual* industry returns, and turn them to decimal (they are in percentage points):"
   ]
  },
  {
   "cell_type": "code",
   "execution_count": null,
   "id": "ccf042cf",
   "metadata": {},
   "outputs": [],
   "source": []
  },
  {
   "cell_type": "markdown",
   "id": "f0438fa0",
   "metadata": {},
   "source": [
    "Let's take a look at the data:"
   ]
  },
  {
   "cell_type": "code",
   "execution_count": null,
   "id": "bfc3d15c",
   "metadata": {},
   "outputs": [],
   "source": []
  },
  {
   "cell_type": "markdown",
   "id": "0abd3833",
   "metadata": {},
   "source": [
    "Calculate cumulative products of gross returns (i.e. compound returns over time) and plot them:"
   ]
  },
  {
   "cell_type": "code",
   "execution_count": null,
   "id": "204736a1",
   "metadata": {},
   "outputs": [],
   "source": []
  },
  {
   "cell_type": "markdown",
   "id": "55d3c9b8",
   "metadata": {},
   "source": [
    "Stack industry returns on top of each other for the purpose of this class:"
   ]
  },
  {
   "cell_type": "code",
   "execution_count": null,
   "id": "0724c6e1",
   "metadata": {},
   "outputs": [],
   "source": []
  },
  {
   "cell_type": "markdown",
   "id": "668de11b",
   "metadata": {},
   "source": [
    "And bring date and industry names as data inside the dataframe:"
   ]
  },
  {
   "cell_type": "code",
   "execution_count": null,
   "id": "7774a833",
   "metadata": {},
   "outputs": [],
   "source": []
  },
  {
   "cell_type": "markdown",
   "id": "7548b28d",
   "metadata": {},
   "source": [
    "**Challenge:**\n",
    "\n",
    "Do the same for value-weighted annual returns (i.e. create a \"vw_long\" dataframe, using the same steps we used for \"ew_long\":"
   ]
  },
  {
   "cell_type": "code",
   "execution_count": null,
   "id": "bde3bcd7",
   "metadata": {},
   "outputs": [],
   "source": []
  },
  {
   "cell_type": "code",
   "execution_count": null,
   "id": "db5196d5",
   "metadata": {},
   "outputs": [],
   "source": []
  },
  {
   "cell_type": "markdown",
   "id": "995be0bb",
   "metadata": {},
   "source": [
    "Merge the EW returns and VW returns into a single dataframe called \"ireturns\":"
   ]
  },
  {
   "cell_type": "code",
   "execution_count": null,
   "id": "72ac4f19",
   "metadata": {},
   "outputs": [],
   "source": []
  },
  {
   "cell_type": "markdown",
   "id": "172118d1",
   "metadata": {},
   "source": [
    "# Grouping your data: the ``.groupby()`` function\n",
    "\n",
    "The ``.groupby()`` function can be used to tell Python that you want to split your data into groups. The parameters of the ``.groupby()`` function tell Python *how* those groups should be created. The purpose is usually to apply some function (e.g. the \".mean()\" function) to each of these groups separately.\n",
    "\n",
    "Abbreviated syntax:\n",
    "```python\n",
    "DataFrame.groupby(by=None, axis=0, level=None, as_index=True, sort=True, dropna=True)\n",
    "```\n",
    "\n",
    "The most important parameter is ``by``. This is where you tell Python which column (or index) in your DataFrame contains the information based on which you want to group your data. Python will split your DataFrame into \"mini\" dataframes, one for each unique value of the variable(s) you supplied to the ``by`` parameter."
   ]
  },
  {
   "cell_type": "markdown",
   "id": "878cbd35",
   "metadata": {},
   "source": [
    "For example, the line below splits ``ireturns`` into 5 different dataframes, one for each unique entry found in the \"Industry\" column, and then applies the ``.mean()`` function for each of these 5 dataframes separately. Finally, these subsample means are all collected into a new dataframe ``ind_means``: "
   ]
  },
  {
   "cell_type": "code",
   "execution_count": null,
   "id": "cb4f27c2",
   "metadata": {},
   "outputs": [],
   "source": []
  },
  {
   "cell_type": "markdown",
   "id": "a3832104",
   "metadata": {},
   "source": [
    "If you don't want the ``by`` variable (i.e. \"Industry\" in the example above) to be the index of the resulting dataframe:"
   ]
  },
  {
   "cell_type": "code",
   "execution_count": null,
   "id": "b08431ed",
   "metadata": {},
   "outputs": [],
   "source": []
  },
  {
   "cell_type": "markdown",
   "id": "33b21339",
   "metadata": {},
   "source": [
    "Another example, with a different ``by`` variable and a different function applied to each group (i.e. median instead of mean):"
   ]
  },
  {
   "cell_type": "code",
   "execution_count": null,
   "id": "355877ff",
   "metadata": {},
   "outputs": [],
   "source": []
  },
  {
   "cell_type": "markdown",
   "id": "31102163",
   "metadata": {},
   "source": [
    "You can group by more than one variable:"
   ]
  },
  {
   "cell_type": "code",
   "execution_count": null,
   "id": "847c7bff",
   "metadata": {},
   "outputs": [],
   "source": []
  },
  {
   "cell_type": "markdown",
   "id": "836b798c",
   "metadata": {},
   "source": [
    "The example above did not really change the ``ireturns`` dataframe, since each \"Date\" x \"Industry\" pair has a single entry for both \"ewret\" and \"vwret\". Since the mean of a single number is the number itself, the ``twodim`` dataframe will be identical to ``ireturns``. Note that this is not necessarily the case if we used a different function instead of ``.mean()``, for example ``.count()``:"
   ]
  },
  {
   "cell_type": "code",
   "execution_count": null,
   "id": "79cc0874",
   "metadata": {},
   "outputs": [],
   "source": []
  },
  {
   "cell_type": "markdown",
   "id": "75bfa87e",
   "metadata": {},
   "source": [
    "You can specify which variable(s) you want to apply the function to, in brackets, right before the function name (if you leave this out (like above), the function will be applied to all the columns in the dataframe):"
   ]
  },
  {
   "cell_type": "code",
   "execution_count": null,
   "id": "91d4d32b",
   "metadata": {},
   "outputs": [],
   "source": []
  },
  {
   "cell_type": "markdown",
   "id": "4a598067",
   "metadata": {},
   "source": [
    "# The ``.apply()`` and ``.transform()`` methods"
   ]
  },
  {
   "cell_type": "markdown",
   "id": "7c9acea9",
   "metadata": {},
   "source": [
    "The ``.apply()`` and ``.transform()``  methods do similar things: they can be used to tell Python to apply a given function to some data from a dataframe. As the examples above show, there are many Pandas functions, like ``.mean()`` and ``.median()`` that can do this without the help of ``.apply()`` or ``.transform()`` (we just have to add the names of these functions after the ``.groupby()`` statement, just like we did above). But what if the function we want to apply is not a built-in Pandas function that can be applied with a dot after the name of a dataframe? This is where ``.apply()`` and ``.transform()`` come in handy. These methods are especially useful when we want to apply a particular function, separately, to each group we created with a ``.groupby`` statement. "
   ]
  },
  {
   "cell_type": "markdown",
   "id": "0da83408",
   "metadata": {},
   "source": [
    "Here is their syntax:\n",
    "\n",
    "Syntax for ``.transform()``:\n",
    "```python\n",
    "DataFrame.transform(func, axis=0, *args, **kwargs)\n",
    "```\n",
    "Syntax for ``.apply()``:\n",
    "```python\n",
    "DataFrame.apply(func, axis=0, raw=False, result_type=None, args=(), **kwargs)\n",
    "```\n",
    "\n",
    "The most important argument is ``func`` which is where we tell Python which function we want to apply to the data. "
   ]
  },
  {
   "cell_type": "markdown",
   "id": "54278a71",
   "metadata": {},
   "source": [
    "The main difference between ``.transform()`` and ``.apply()`` is that ``.transform()`` returns a sequence of the same length as the dataframe to which it is applied, while ``.apply()`` returns a DataFrame or Series of the same size as the number of groups to which it is applied."
   ]
  },
  {
   "cell_type": "code",
   "execution_count": null,
   "id": "9153a129",
   "metadata": {},
   "outputs": [],
   "source": []
  },
  {
   "cell_type": "code",
   "execution_count": null,
   "id": "a65b454d",
   "metadata": {},
   "outputs": [],
   "source": []
  },
  {
   "cell_type": "markdown",
   "id": "f8e7c483",
   "metadata": {},
   "source": [
    "We usually add the results of ``.transform()`` as a new column to the same dataframe:"
   ]
  },
  {
   "cell_type": "code",
   "execution_count": null,
   "id": "dbb41ee0",
   "metadata": {
    "scrolled": true
   },
   "outputs": [],
   "source": []
  },
  {
   "cell_type": "markdown",
   "id": "2a9e5ddf",
   "metadata": {},
   "source": [
    "Note, also, that with ``.transform()``, you can pass the name of the function you want as a **string** to the ``func`` argument, whereas with ``.apply()`` you can not:"
   ]
  },
  {
   "cell_type": "code",
   "execution_count": null,
   "id": "65cdf723",
   "metadata": {},
   "outputs": [],
   "source": []
  },
  {
   "cell_type": "markdown",
   "id": "f566ca75",
   "metadata": {},
   "source": [
    "Whereas the line below will not work. You have to specify which package the \"median\" function belongs to (which is why we used ``.apply(np.median)`` above):"
   ]
  },
  {
   "cell_type": "code",
   "execution_count": null,
   "id": "325b1a3f",
   "metadata": {},
   "outputs": [],
   "source": [
    "#ireturns.groupby('Industry')[['ewret','vwret']].apply('median') #this gives an error"
   ]
  },
  {
   "cell_type": "markdown",
   "id": "564b9ac8",
   "metadata": {},
   "source": [
    "We are not restricted to applying functions that come with a package that we have installed. We can also use a function that we created ourselves."
   ]
  },
  {
   "cell_type": "markdown",
   "id": "bdd9778e",
   "metadata": {},
   "source": [
    "For example, below, we create a function that can take in a Series or a DataFrame of returns, and compounds them:"
   ]
  },
  {
   "cell_type": "code",
   "execution_count": null,
   "id": "af767298",
   "metadata": {},
   "outputs": [],
   "source": []
  },
  {
   "cell_type": "markdown",
   "id": "01621a8e",
   "metadata": {},
   "source": [
    "Now we can apply that function to the returns of each industry:"
   ]
  },
  {
   "cell_type": "code",
   "execution_count": null,
   "id": "17b88b3d",
   "metadata": {},
   "outputs": [],
   "source": []
  },
  {
   "cell_type": "markdown",
   "id": "da3a3afb",
   "metadata": {},
   "source": [
    "Let's see if it worked:"
   ]
  },
  {
   "cell_type": "code",
   "execution_count": null,
   "id": "07303e09",
   "metadata": {},
   "outputs": [],
   "source": []
  },
  {
   "cell_type": "markdown",
   "id": "2e0f3993",
   "metadata": {},
   "source": [
    "# Winsorizing outliers \n",
    "\n",
    "\"Winsorizing\" a variable means replacing its most extreme values with less extreme values. For example, winsorizing a variable \"at the 5 and 95 percentiles\", means that the values of that variable that are smaller than the 5th percentile will be made equal to the 5th percentile and the values that are larger than the 95th percentile will be made equal to the 95th percentile.\n",
    "\n",
    "You can pick other values for the percentiles at which you want to winsorize but (1,99) and (5, 95) are by far the most common ones.\n",
    "\n",
    "To winsorize a variable, in a Pandas dataframe, we use the ``.clip()`` function as below. This also requires us to use the ``.quantile()`` function to calculate the 5th and 95th percentiles. First, let's sort the returns so we can easily see its most extreme values (top and bottom):"
   ]
  },
  {
   "cell_type": "code",
   "execution_count": null,
   "id": "c4e69477",
   "metadata": {},
   "outputs": [],
   "source": []
  },
  {
   "cell_type": "markdown",
   "id": "ef139e3a",
   "metadata": {},
   "source": [
    "Let's calculate the 5th and 95th percentiles:"
   ]
  },
  {
   "cell_type": "code",
   "execution_count": null,
   "id": "a7252e97",
   "metadata": {},
   "outputs": [],
   "source": []
  },
  {
   "cell_type": "code",
   "execution_count": null,
   "id": "86764f1b",
   "metadata": {},
   "outputs": [],
   "source": []
  },
  {
   "cell_type": "markdown",
   "id": "d3746503",
   "metadata": {},
   "source": [
    "And now let's create a version of ``ewret`` that is winsorized at the 5 and 95 percentiles:"
   ]
  },
  {
   "cell_type": "code",
   "execution_count": null,
   "id": "f9c50be1",
   "metadata": {},
   "outputs": [],
   "source": []
  },
  {
   "cell_type": "markdown",
   "id": "c4124a95",
   "metadata": {},
   "source": [
    "Let's see if it worked:"
   ]
  },
  {
   "cell_type": "code",
   "execution_count": null,
   "id": "718de5b1",
   "metadata": {},
   "outputs": [],
   "source": []
  }
 ],
 "metadata": {
  "kernelspec": {
   "display_name": "Python 3 (ipykernel)",
   "language": "python",
   "name": "python3"
  },
  "language_info": {
   "codemirror_mode": {
    "name": "ipython",
    "version": 3
   },
   "file_extension": ".py",
   "mimetype": "text/x-python",
   "name": "python",
   "nbconvert_exporter": "python",
   "pygments_lexer": "ipython3",
   "version": "3.8.5"
  },
  "toc": {
   "base_numbering": 1,
   "nav_menu": {},
   "number_sections": true,
   "sideBar": true,
   "skip_h1_title": false,
   "title_cell": "Table of Contents",
   "title_sidebar": "Contents",
   "toc_cell": true,
   "toc_position": {},
   "toc_section_display": true,
   "toc_window_display": false
  }
 },
 "nbformat": 4,
 "nbformat_minor": 5
}
