{
 "cells": [
  {
   "cell_type": "markdown",
   "id": "b7033b59",
   "metadata": {},
   "source": [
    "Run the cell below:"
   ]
  },
  {
   "cell_type": "code",
   "execution_count": 1,
   "id": "85c01649",
   "metadata": {},
   "outputs": [],
   "source": [
    "var1 = 12\n",
    "var2 = 5.67\n",
    "var3 = \"John Smith\"\n",
    "var4 = False\n",
    "var5 = 0"
   ]
  },
  {
   "cell_type": "markdown",
   "id": "9243b76e",
   "metadata": {},
   "source": [
    "In the cell below, write python code that prints out the type for each of the variables above."
   ]
  },
  {
   "cell_type": "code",
   "execution_count": 2,
   "id": "c68f2287",
   "metadata": {},
   "outputs": [
    {
     "name": "stdout",
     "output_type": "stream",
     "text": [
      "<class 'int'>\n",
      "<class 'float'>\n",
      "<class 'str'>\n",
      "<class 'bool'>\n",
      "<class 'int'>\n"
     ]
    }
   ],
   "source": [
    "print(type(var1))\n",
    "print(type(var2))\n",
    "print(type(var3))\n",
    "print(type(var4))\n",
    "print(type(var5))"
   ]
  },
  {
   "cell_type": "markdown",
   "id": "7560f6db",
   "metadata": {},
   "source": [
    "In the cell below, write python code that multiplies var1 and var2 and prints out the result."
   ]
  },
  {
   "cell_type": "code",
   "execution_count": 3,
   "id": "66236bfd",
   "metadata": {},
   "outputs": [
    {
     "name": "stdout",
     "output_type": "stream",
     "text": [
      "68.03999999999999\n"
     ]
    }
   ],
   "source": [
    "print(var1 * var2)"
   ]
  },
  {
   "cell_type": "markdown",
   "id": "4b38b29b",
   "metadata": {},
   "source": [
    "In the cell below, write python code that appends \" is 11\" at the end of var3. "
   ]
  },
  {
   "cell_type": "code",
   "execution_count": 4,
   "id": "1e822546",
   "metadata": {},
   "outputs": [
    {
     "name": "stdout",
     "output_type": "stream",
     "text": [
      "John Smith is 11\n"
     ]
    }
   ],
   "source": [
    "print(var3 + \" is 11\")"
   ]
  },
  {
   "cell_type": "markdown",
   "id": "444e21cc",
   "metadata": {},
   "source": [
    "In the cell below, write python code that uses string slicing to print out the last 3 characters (letters) of var3 (\"ith\"). "
   ]
  },
  {
   "cell_type": "code",
   "execution_count": 5,
   "id": "bf412453",
   "metadata": {},
   "outputs": [
    {
     "name": "stdout",
     "output_type": "stream",
     "text": [
      "ith\n"
     ]
    }
   ],
   "source": [
    "print(var3[-3:])"
   ]
  },
  {
   "cell_type": "markdown",
   "id": "65280d51",
   "metadata": {},
   "source": [
    "In the cell below, write python code that uses string slicing to print out the second and third characters of var3 (\"oh\") "
   ]
  },
  {
   "cell_type": "code",
   "execution_count": 6,
   "id": "d7ec014a",
   "metadata": {},
   "outputs": [
    {
     "name": "stdout",
     "output_type": "stream",
     "text": [
      "oh\n"
     ]
    }
   ],
   "source": [
    "print(var3[1:3])"
   ]
  },
  {
   "cell_type": "markdown",
   "id": "77a26391",
   "metadata": {},
   "source": [
    "In the cell below, write python code that checks whether var1 and var2 are equal."
   ]
  },
  {
   "cell_type": "code",
   "execution_count": 7,
   "id": "fbb87cb5",
   "metadata": {},
   "outputs": [
    {
     "name": "stdout",
     "output_type": "stream",
     "text": [
      "False\n"
     ]
    }
   ],
   "source": [
    "print(var1 == var2)"
   ]
  },
  {
   "cell_type": "markdown",
   "id": "31a986df",
   "metadata": {},
   "source": [
    "In the cell below, write python code that checks if var1 is larger or equal to var4."
   ]
  },
  {
   "cell_type": "code",
   "execution_count": 8,
   "id": "dfd19628",
   "metadata": {},
   "outputs": [
    {
     "name": "stdout",
     "output_type": "stream",
     "text": [
      "True\n"
     ]
    }
   ],
   "source": [
    "print(var1 >= var4)"
   ]
  },
  {
   "cell_type": "markdown",
   "id": "dd37012b",
   "metadata": {},
   "source": [
    "In the cell below, write python code that checks if either var1 or var4 are True."
   ]
  },
  {
   "cell_type": "code",
   "execution_count": 9,
   "id": "9213bf91",
   "metadata": {},
   "outputs": [
    {
     "name": "stdout",
     "output_type": "stream",
     "text": [
      "False\n"
     ]
    }
   ],
   "source": [
    "print((var1==True) or (var4 == True))"
   ]
  },
  {
   "cell_type": "markdown",
   "id": "e06619ac",
   "metadata": {},
   "source": [
    "In the cell below, write python code that uses an f-string and the variables var1 and var3 to print out \"John Smith is 12 years old."
   ]
  },
  {
   "cell_type": "code",
   "execution_count": 10,
   "id": "92f79f54",
   "metadata": {},
   "outputs": [
    {
     "name": "stdout",
     "output_type": "stream",
     "text": [
      "John Smith is 12 years old\n"
     ]
    }
   ],
   "source": [
    "print(f\"{var3} is {var1} years old\")"
   ]
  },
  {
   "cell_type": "markdown",
   "id": "4f49e3a4",
   "metadata": {},
   "source": [
    "In the cell below, write python code that checks if var4 is not equal to var5."
   ]
  },
  {
   "cell_type": "code",
   "execution_count": 11,
   "id": "7b7d2d5b",
   "metadata": {},
   "outputs": [
    {
     "name": "stdout",
     "output_type": "stream",
     "text": [
      "False\n"
     ]
    }
   ],
   "source": [
    "print(var4 != var5)"
   ]
  }
 ],
 "metadata": {
  "kernelspec": {
   "display_name": "Python 3 (ipykernel)",
   "language": "python",
   "name": "python3"
  },
  "language_info": {
   "codemirror_mode": {
    "name": "ipython",
    "version": 3
   },
   "file_extension": ".py",
   "mimetype": "text/x-python",
   "name": "python",
   "nbconvert_exporter": "python",
   "pygments_lexer": "ipython3",
   "version": "3.8.5"
  },
  "toc": {
   "base_numbering": 1,
   "nav_menu": {},
   "number_sections": true,
   "sideBar": true,
   "skip_h1_title": false,
   "title_cell": "Table of Contents",
   "title_sidebar": "Contents",
   "toc_cell": false,
   "toc_position": {},
   "toc_section_display": true,
   "toc_window_display": false
  }
 },
 "nbformat": 4,
 "nbformat_minor": 5
}
