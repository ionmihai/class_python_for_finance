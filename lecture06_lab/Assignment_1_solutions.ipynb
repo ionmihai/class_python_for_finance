{
 "cells": [
  {
   "cell_type": "markdown",
   "id": "cefcf0d6",
   "metadata": {},
   "source": [
    "Run the cell below:"
   ]
  },
  {
   "cell_type": "code",
   "execution_count": 1,
   "id": "160c7a88",
   "metadata": {},
   "outputs": [
    {
     "name": "stdout",
     "output_type": "stream",
     "text": [
      "var1:\n",
      " [-0.2, -0.1, 0.0, 0.1, 0.2]\n",
      "var2:\n",
      " ['a', 'b', 'c', 'd', 'e']\n",
      "var3:\n",
      " {'ticker': ['a', 'b', 'c', 'd', 'e'], 'return': [-0.2, -0.1, 0.0, 0.1, 0.2]}\n",
      "Lenght of var1:\n",
      " 5\n"
     ]
    }
   ],
   "source": [
    "import numpy as np\n",
    "\n",
    "var1 = [x/10 for x in range(-2,3)]\n",
    "var2 = list('abcde')\n",
    "var3 = {'ticker': var2, 'return': var1}\n",
    "\n",
    "print(\"var1:\\n\",var1) \n",
    "print(\"var2:\\n\",var2)\n",
    "print(\"var3:\\n\",var3)\n",
    "\n",
    "print('Lenght of var1:\\n',len(var1)) # note ``len()`` returns the number of elements in a list"
   ]
  },
  {
   "cell_type": "markdown",
   "id": "896f91ba",
   "metadata": {},
   "source": [
    "In the questions below, you should assume that you do NOT know what the contents of ``var1``, ``var2``, and ``var3`` are. For example, if I ask you to print the first element of ``var1``, you should not just look at the cell above, notice that the first element of ``var1`` is -0.2, and then just use ``print(-0.2)`` to print it out. Instead, you should use ``print(var1[0])``. The latter approach works regardless of what the contents of ``var1`` are. "
   ]
  },
  {
   "cell_type": "markdown",
   "id": "3bf856b0",
   "metadata": {},
   "source": [
    "# Problem 1\n",
    "\n",
    "Print out the first 3 elements of ``var1``. Then print out the last 3 elements of ``var2``. Then print out elements 2,3, and 4 of the ``ticker`` key in the ``var3`` dictionary (i.e. 'b', 'c', 'd')."
   ]
  },
  {
   "cell_type": "code",
   "execution_count": 2,
   "id": "4009e4fc",
   "metadata": {},
   "outputs": [
    {
     "name": "stdout",
     "output_type": "stream",
     "text": [
      "[-0.2, -0.1, 0.0]\n",
      "['c', 'd', 'e']\n",
      "['b', 'c', 'd']\n"
     ]
    }
   ],
   "source": [
    "print(var1[0:3])\n",
    "print(var2[-3:])\n",
    "print(var3['ticker'][1:4])"
   ]
  },
  {
   "cell_type": "markdown",
   "id": "ceab08f1",
   "metadata": {},
   "source": [
    "# Problem 2\n",
    "Write Python code that prints out ``'found it'`` if the ticker ``'e'`` is present among the values of the ``ticker`` key in ``var3``."
   ]
  },
  {
   "cell_type": "code",
   "execution_count": 3,
   "id": "72a92890",
   "metadata": {},
   "outputs": [
    {
     "name": "stdout",
     "output_type": "stream",
     "text": [
      "found it\n"
     ]
    }
   ],
   "source": [
    "if 'e' in var3['ticker']:\n",
    "    print('found it')"
   ]
  },
  {
   "cell_type": "markdown",
   "id": "68fea7b8",
   "metadata": {},
   "source": [
    "# Problem 3\n",
    "Write Python code that prints out ``'not in'`` if the ticker ``'f'`` is NOT present among the values of the ``ticker`` key in ``var3``."
   ]
  },
  {
   "cell_type": "code",
   "execution_count": 4,
   "id": "547595bb",
   "metadata": {},
   "outputs": [
    {
     "name": "stdout",
     "output_type": "stream",
     "text": [
      "not in\n"
     ]
    }
   ],
   "source": [
    "if 'f' not in var3['ticker']:\n",
    "    print('not in')"
   ]
  },
  {
   "cell_type": "markdown",
   "id": "fa96616e",
   "metadata": {},
   "source": [
    "# Problem 4\n",
    "\n",
    "Write a function called ``negatives`` that takes a list as a parameter and returns a list of all the values in that parameter that are negative (strictly smaller than 0). Use this function to print out all the negative values of ``var1``."
   ]
  },
  {
   "cell_type": "code",
   "execution_count": 5,
   "id": "f3ae0f0e",
   "metadata": {},
   "outputs": [
    {
     "name": "stdout",
     "output_type": "stream",
     "text": [
      "[-0.2, -0.1]\n"
     ]
    }
   ],
   "source": [
    "def negatives(inlist):\n",
    "    return [x for x in inlist if x<0]\n",
    "\n",
    "print(negatives(var1))"
   ]
  },
  {
   "cell_type": "markdown",
   "id": "5efa426b",
   "metadata": {},
   "source": [
    "# Problem 5\n",
    "\n",
    "Assume that the values in the ``ticker`` and ``return`` keys of ``var3`` are associated by position (i.e. return -0.2 corresponds to ticker 'a', -0.1 corresponds to 'b' and so on). Write Python code that prints out, one by one, all the ``ticker`` values in ``var3`` corresponding to positive values in the ``return`` key (this should print out 'd' and 'e')."
   ]
  },
  {
   "cell_type": "code",
   "execution_count": 6,
   "id": "01beb824",
   "metadata": {},
   "outputs": [
    {
     "name": "stdout",
     "output_type": "stream",
     "text": [
      "d\n",
      "e\n"
     ]
    }
   ],
   "source": [
    "for i in range(0,len(var3['return'])):\n",
    "    if var3['return'][i] > 0:\n",
    "        print(var3['ticker'][i])"
   ]
  },
  {
   "cell_type": "markdown",
   "id": "c3a50104",
   "metadata": {},
   "source": [
    "# Problem 6\n",
    "\n",
    "Create a new dictionary called ``var4`` with the same keys as ``var3`` but contains only the first 4 elements of the ``ticker`` key in ``var3`` and only the first 4 elements of the ``return`` key in ``var3`` (i.e. ``var4`` should become ``{'ticker': ['a', 'b', 'c', 'd'], 'return': [-0.2, -0.1, 0.0, 0.1]}``). Print out ``var4``."
   ]
  },
  {
   "cell_type": "code",
   "execution_count": 7,
   "id": "9b7490d1",
   "metadata": {},
   "outputs": [
    {
     "data": {
      "text/plain": [
       "{'ticker': ['a', 'b', 'c', 'd'], 'return': [-0.2, -0.1, 0.0, 0.1]}"
      ]
     },
     "execution_count": 7,
     "metadata": {},
     "output_type": "execute_result"
    }
   ],
   "source": [
    "var4 = {'ticker': var3['ticker'][0:4],\n",
    "       'return': var3['return'][0:4]}\n",
    "var4"
   ]
  },
  {
   "cell_type": "markdown",
   "id": "1a29d40b",
   "metadata": {},
   "source": [
    "# Problem 7\n",
    "\n",
    "Create a new dictionary called ``var5`` which contains a copy of the data in ``var4``, but adds the value ``'f'`` to the ``ticker`` key and the value ``0.3`` to the ``return`` key (i.e. ``var5`` should become ``{'ticker': ['a', 'b', 'c', 'd', 'e', 'f'], 'return': [-0.2, -0.1, 0.0, 0.1, 0.2, 0.3]}``). Print ``var5``."
   ]
  },
  {
   "cell_type": "code",
   "execution_count": 8,
   "id": "94c38fbc",
   "metadata": {},
   "outputs": [
    {
     "data": {
      "text/plain": [
       "{'ticker': ['a', 'b', 'c', 'd', 'e', 'f'],\n",
       " 'return': [-0.2, -0.1, 0.0, 0.1, 0.2, 0.3]}"
      ]
     },
     "execution_count": 8,
     "metadata": {},
     "output_type": "execute_result"
    }
   ],
   "source": [
    "var5 = {'ticker': var3['ticker'] + ['f'],\n",
    "        'return': var3['return'] + [0.3]}\n",
    "var5"
   ]
  },
  {
   "cell_type": "markdown",
   "id": "1088e6a7",
   "metadata": {},
   "source": [
    "# Problem 8\n",
    "\n",
    "Write Python code that prints out the ``return`` values in ``var3`` that are either smaller than -0.1 or larger than 0.1 (i.e. this should print -0.2 and 0.2)."
   ]
  },
  {
   "cell_type": "code",
   "execution_count": 9,
   "id": "eeb9ecad",
   "metadata": {},
   "outputs": [
    {
     "name": "stdout",
     "output_type": "stream",
     "text": [
      "-0.2\n",
      "0.2\n"
     ]
    }
   ],
   "source": [
    "for x in var3['return']:\n",
    "    if (x < -0.1) or (x > 0.1):\n",
    "        print(x)"
   ]
  },
  {
   "cell_type": "markdown",
   "id": "3a78ecdc",
   "metadata": {},
   "source": [
    "# Problem 9\n",
    "\n",
    "Use the ``range()`` function to print out all the numbers from 3 to 1 in reverse order (i.e. this should print 3, then 2, then 1)."
   ]
  },
  {
   "cell_type": "code",
   "execution_count": 10,
   "id": "d0bd800b",
   "metadata": {},
   "outputs": [
    {
     "name": "stdout",
     "output_type": "stream",
     "text": [
      "3\n",
      "2\n",
      "1\n"
     ]
    }
   ],
   "source": [
    "for i in range(3,0,-1):\n",
    "    print(i)"
   ]
  },
  {
   "cell_type": "markdown",
   "id": "5edf9b7d",
   "metadata": {},
   "source": [
    "# Problem 10\n",
    "\n",
    "Write Python code that prints out the largest value in ``var1`` that is smaller than 0. If no value smaller than 0 is found, your code should just print 0. Below, I offer some hints as to how you could proceed. You don't have to follow these steps though. "
   ]
  },
  {
   "cell_type": "code",
   "execution_count": 11,
   "id": "153876f3",
   "metadata": {},
   "outputs": [
    {
     "name": "stdout",
     "output_type": "stream",
     "text": [
      "-0.1\n"
     ]
    }
   ],
   "source": [
    "# STEP 1: create a new variable called ``toprint`` equal to the first element in ``var1``\n",
    "\n",
    "toprint = var1[0]\n",
    "\n",
    "# STEP 2: For each element of ``var1`` if that element is smaller than 0 and larger than \n",
    "# ``toprint, replace ``toprint`` with that element \n",
    "\n",
    "for x in var1:\n",
    "    if (x < 0) and (x > toprint):\n",
    "        toprint = x\n",
    "\n",
    "# STEP 3: If ``toprint`` is smaller than 0, print its value. If not, print 0.\n",
    "\n",
    "if toprint < 0:\n",
    "    print(toprint)        \n",
    "else:\n",
    "    print(0)"
   ]
  }
 ],
 "metadata": {
  "kernelspec": {
   "display_name": "Python 3 (ipykernel)",
   "language": "python",
   "name": "python3"
  },
  "language_info": {
   "codemirror_mode": {
    "name": "ipython",
    "version": 3
   },
   "file_extension": ".py",
   "mimetype": "text/x-python",
   "name": "python",
   "nbconvert_exporter": "python",
   "pygments_lexer": "ipython3",
   "version": "3.8.5"
  },
  "toc": {
   "base_numbering": 1,
   "nav_menu": {},
   "number_sections": true,
   "sideBar": true,
   "skip_h1_title": true,
   "title_cell": "Table of Contents",
   "title_sidebar": "Contents",
   "toc_cell": false,
   "toc_position": {},
   "toc_section_display": true,
   "toc_window_display": false
  }
 },
 "nbformat": 4,
 "nbformat_minor": 5
}
