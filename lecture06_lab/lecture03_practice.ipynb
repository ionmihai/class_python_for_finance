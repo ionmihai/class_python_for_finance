{
 "cells": [
  {
   "cell_type": "markdown",
   "id": "edb73dc8",
   "metadata": {},
   "source": [
    "Run the cell below:"
   ]
  },
  {
   "cell_type": "code",
   "execution_count": null,
   "id": "4ff8b847",
   "metadata": {},
   "outputs": [],
   "source": [
    "var1 = [10, \"Finance\", [525, \"problems\"]]\n",
    "var2 = (1,2,3)\n",
    "var3 = {'tickers': ['TSLA','AAPL'],\n",
    "       'prices': [1000, 2000]}"
   ]
  },
  {
   "cell_type": "markdown",
   "id": "5d8fdc1e",
   "metadata": {},
   "source": [
    "In the cell below, write Python code that prints the type for each of the variables above."
   ]
  },
  {
   "cell_type": "code",
   "execution_count": null,
   "id": "afb6e707",
   "metadata": {},
   "outputs": [],
   "source": []
  },
  {
   "cell_type": "markdown",
   "id": "0ea1560a",
   "metadata": {},
   "source": [
    "In the cell below, write Python code that uses slicing to print out the first 2 elements of var1."
   ]
  },
  {
   "cell_type": "code",
   "execution_count": null,
   "id": "0258f51a",
   "metadata": {},
   "outputs": [],
   "source": []
  },
  {
   "cell_type": "markdown",
   "id": "6dd36f58",
   "metadata": {},
   "source": [
    "In the cell below, write Python code that uses slicing to print out the first element of the last element of var1."
   ]
  },
  {
   "cell_type": "code",
   "execution_count": null,
   "id": "ff106120",
   "metadata": {},
   "outputs": [],
   "source": []
  },
  {
   "cell_type": "markdown",
   "id": "61ad4088",
   "metadata": {},
   "source": [
    "In the cell below, write Python code that appends the tuple (-1,0) in front of all the elements in var2 and prints out the answer (i.e. (-1,0,1,2,3))."
   ]
  },
  {
   "cell_type": "code",
   "execution_count": null,
   "id": "1364deee",
   "metadata": {},
   "outputs": [],
   "source": []
  },
  {
   "cell_type": "markdown",
   "id": "71d869e0",
   "metadata": {},
   "source": [
    "In the cell below, write Python code that prints out the tickers in var3 (i.e. ``['TSLA','AAPL']``)."
   ]
  },
  {
   "cell_type": "code",
   "execution_count": null,
   "id": "2ca53a16",
   "metadata": {},
   "outputs": [],
   "source": []
  },
  {
   "cell_type": "markdown",
   "id": "d6ed3f83",
   "metadata": {},
   "source": [
    "In the cell below, write Python code that adds another entry to var3: the key for this new entry should be called 'CEO' and value for this new key should be the list ``['Elon','Tim']``. Then print out this new version of var3."
   ]
  },
  {
   "cell_type": "code",
   "execution_count": null,
   "id": "fba6f193",
   "metadata": {},
   "outputs": [],
   "source": []
  },
  {
   "cell_type": "markdown",
   "id": "c8dc1571",
   "metadata": {},
   "source": [
    "In the cell below, write Python code that deletes the entry you created above for var3, and prints var3 again."
   ]
  },
  {
   "cell_type": "code",
   "execution_count": null,
   "id": "de922182",
   "metadata": {},
   "outputs": [],
   "source": []
  },
  {
   "cell_type": "markdown",
   "id": "e4e9c2a1",
   "metadata": {},
   "source": [
    "In the cell below, write Python code that uses the information in var3 to print out the price of TSLA (i.e. 1000)."
   ]
  },
  {
   "cell_type": "code",
   "execution_count": null,
   "id": "3f86b028",
   "metadata": {},
   "outputs": [],
   "source": []
  },
  {
   "cell_type": "markdown",
   "id": "4f84de29",
   "metadata": {},
   "source": [
    "In the cell below, write Python code that checks whether the number 525 is an element of var1."
   ]
  },
  {
   "cell_type": "code",
   "execution_count": null,
   "id": "3eee96a5",
   "metadata": {},
   "outputs": [],
   "source": []
  },
  {
   "cell_type": "markdown",
   "id": "c29b78a9",
   "metadata": {},
   "source": [
    "In the cell below, write Python code that coppies all the data of var3 into a new variable called var4, then adds 'MSFT' as a third ticker in var4, and 100 as a third price in var4. Then print var4."
   ]
  },
  {
   "cell_type": "code",
   "execution_count": null,
   "id": "82c991be",
   "metadata": {},
   "outputs": [],
   "source": []
  }
 ],
 "metadata": {
  "kernelspec": {
   "display_name": "Python 3 (ipykernel)",
   "language": "python",
   "name": "python3"
  },
  "language_info": {
   "codemirror_mode": {
    "name": "ipython",
    "version": 3
   },
   "file_extension": ".py",
   "mimetype": "text/x-python",
   "name": "python",
   "nbconvert_exporter": "python",
   "pygments_lexer": "ipython3",
   "version": "3.8.5"
  },
  "toc": {
   "base_numbering": 1,
   "nav_menu": {},
   "number_sections": true,
   "sideBar": true,
   "skip_h1_title": false,
   "title_cell": "Table of Contents",
   "title_sidebar": "Contents",
   "toc_cell": false,
   "toc_position": {},
   "toc_section_display": true,
   "toc_window_display": false
  }
 },
 "nbformat": 4,
 "nbformat_minor": 5
}
