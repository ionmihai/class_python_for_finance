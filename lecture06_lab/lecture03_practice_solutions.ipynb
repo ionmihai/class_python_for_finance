{
 "cells": [
  {
   "cell_type": "markdown",
   "id": "bde7f3f2",
   "metadata": {},
   "source": [
    "Run the cell below:"
   ]
  },
  {
   "cell_type": "code",
   "execution_count": 1,
   "id": "99e3da07",
   "metadata": {},
   "outputs": [],
   "source": [
    "var1 = [10, \"Finance\", [525, \"problems\"]]\n",
    "var2 = (1,2,3)\n",
    "var3 = {'tickers': ['TSLA','AAPL'],\n",
    "       'prices': [1000, 2000]}"
   ]
  },
  {
   "cell_type": "markdown",
   "id": "7487470e",
   "metadata": {},
   "source": [
    "In the cell below, write Python code that prints the type for each of the variables above."
   ]
  },
  {
   "cell_type": "code",
   "execution_count": 2,
   "id": "8418f552",
   "metadata": {},
   "outputs": [
    {
     "name": "stdout",
     "output_type": "stream",
     "text": [
      "<class 'list'>\n",
      "<class 'tuple'>\n",
      "<class 'dict'>\n"
     ]
    }
   ],
   "source": [
    "print(type(var1))\n",
    "print(type(var2))\n",
    "print(type(var3))"
   ]
  },
  {
   "cell_type": "markdown",
   "id": "16151b53",
   "metadata": {},
   "source": [
    "In the cell below, write Python code that uses slicing to print out the first 2 elements of var1."
   ]
  },
  {
   "cell_type": "code",
   "execution_count": 3,
   "id": "5eda8b25",
   "metadata": {},
   "outputs": [
    {
     "name": "stdout",
     "output_type": "stream",
     "text": [
      "[10, 'Finance']\n"
     ]
    }
   ],
   "source": [
    "print(var1[:2])"
   ]
  },
  {
   "cell_type": "markdown",
   "id": "c0baa056",
   "metadata": {},
   "source": [
    "In the cell below, write Python code that uses slicing to print out the first element of the last element of var1."
   ]
  },
  {
   "cell_type": "code",
   "execution_count": 4,
   "id": "d12b849a",
   "metadata": {},
   "outputs": [
    {
     "name": "stdout",
     "output_type": "stream",
     "text": [
      "525\n"
     ]
    }
   ],
   "source": [
    "last = var1[-1]\n",
    "print(last[0])\n",
    "\n",
    "# or:\n",
    "# print(last[-1][0])"
   ]
  },
  {
   "cell_type": "markdown",
   "id": "42a63d44",
   "metadata": {},
   "source": [
    "In the cell below, write Python code that appends the tuple (-1,0) in front of all the elements in var2 and prints out the answer (i.e. (-1,0,1,2,3))."
   ]
  },
  {
   "cell_type": "code",
   "execution_count": 5,
   "id": "e8ac075f",
   "metadata": {},
   "outputs": [
    {
     "name": "stdout",
     "output_type": "stream",
     "text": [
      "(-1, 0, 1, 2, 3)\n"
     ]
    }
   ],
   "source": [
    "print((-1,0) + var2)"
   ]
  },
  {
   "cell_type": "markdown",
   "id": "e4417ab3",
   "metadata": {},
   "source": [
    "In the cell below, write Python code that prints out the tickers in var3 (i.e. ``['TSLA','AAPL']``)."
   ]
  },
  {
   "cell_type": "code",
   "execution_count": 6,
   "id": "48dfda50",
   "metadata": {},
   "outputs": [
    {
     "name": "stdout",
     "output_type": "stream",
     "text": [
      "['TSLA', 'AAPL']\n"
     ]
    }
   ],
   "source": [
    "print(var3['tickers'])"
   ]
  },
  {
   "cell_type": "markdown",
   "id": "e6578c60",
   "metadata": {},
   "source": [
    "In the cell below, write Python code that adds another entry to var3: the key for this new entry should be called 'CEO' and value for this new key should be the list ``['Elon','Tim']``. Then print out this new version of var3."
   ]
  },
  {
   "cell_type": "code",
   "execution_count": 7,
   "id": "f8633761",
   "metadata": {},
   "outputs": [
    {
     "name": "stdout",
     "output_type": "stream",
     "text": [
      "{'tickers': ['TSLA', 'AAPL'], 'prices': [1000, 2000], 'CEO': ['Elon', 'Tim']}\n"
     ]
    }
   ],
   "source": [
    "var3['CEO'] = ['Elon','Tim']\n",
    "print(var3)"
   ]
  },
  {
   "cell_type": "markdown",
   "id": "a846cbb6",
   "metadata": {},
   "source": [
    "In the cell below, write Python code that deletes the entry you created above for var3, and prints var3 again."
   ]
  },
  {
   "cell_type": "code",
   "execution_count": 8,
   "id": "98ea9e66",
   "metadata": {},
   "outputs": [
    {
     "name": "stdout",
     "output_type": "stream",
     "text": [
      "{'tickers': ['TSLA', 'AAPL'], 'prices': [1000, 2000]}\n"
     ]
    }
   ],
   "source": [
    "del var3['CEO']\n",
    "print(var3)"
   ]
  },
  {
   "cell_type": "markdown",
   "id": "e1a01961",
   "metadata": {},
   "source": [
    "In the cell below, write Python code that uses the information in var3 to print out the price of TSLA (i.e. 1000)."
   ]
  },
  {
   "cell_type": "code",
   "execution_count": 9,
   "id": "3dd110ed",
   "metadata": {},
   "outputs": [
    {
     "name": "stdout",
     "output_type": "stream",
     "text": [
      "1000\n"
     ]
    }
   ],
   "source": [
    "p = var3['prices']\n",
    "print(p[0])\n",
    "\n",
    "# or\n",
    "# print(var3['prices'][0])"
   ]
  },
  {
   "cell_type": "markdown",
   "id": "298474df",
   "metadata": {},
   "source": [
    "In the cell below, write Python code that checks whether the number 525 is an element of var1."
   ]
  },
  {
   "cell_type": "code",
   "execution_count": 10,
   "id": "7563ba9d",
   "metadata": {},
   "outputs": [
    {
     "name": "stdout",
     "output_type": "stream",
     "text": [
      "False\n"
     ]
    }
   ],
   "source": [
    "print(525 in var1)"
   ]
  },
  {
   "cell_type": "markdown",
   "id": "805c1fb6",
   "metadata": {},
   "source": [
    "In the cell below, write Python code that coppies all the data of var3 into a new variable called var4, then adds 'MSFT' as a third ticker in var4, and 100 as a third price in var4. Then print var4."
   ]
  },
  {
   "cell_type": "code",
   "execution_count": 11,
   "id": "9f2c2ed7",
   "metadata": {},
   "outputs": [
    {
     "name": "stdout",
     "output_type": "stream",
     "text": [
      "{'tickers': ['TSLA', 'AAPL', 'MSTF'], 'prices': [1000, 2000, 100]}\n"
     ]
    }
   ],
   "source": [
    "var4 = var3\n",
    "var4['tickers'] = var4['tickers'] + ['MSTF']\n",
    "var4['prices'] = var4['prices'] + [100]\n",
    "print(var4)"
   ]
  }
 ],
 "metadata": {
  "kernelspec": {
   "display_name": "Python 3 (ipykernel)",
   "language": "python",
   "name": "python3"
  },
  "language_info": {
   "codemirror_mode": {
    "name": "ipython",
    "version": 3
   },
   "file_extension": ".py",
   "mimetype": "text/x-python",
   "name": "python",
   "nbconvert_exporter": "python",
   "pygments_lexer": "ipython3",
   "version": "3.8.5"
  },
  "toc": {
   "base_numbering": 1,
   "nav_menu": {},
   "number_sections": true,
   "sideBar": true,
   "skip_h1_title": false,
   "title_cell": "Table of Contents",
   "title_sidebar": "Contents",
   "toc_cell": false,
   "toc_position": {},
   "toc_section_display": true,
   "toc_window_display": false
  }
 },
 "nbformat": 4,
 "nbformat_minor": 5
}
