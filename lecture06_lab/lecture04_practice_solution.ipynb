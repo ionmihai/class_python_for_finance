{
 "cells": [
  {
   "cell_type": "markdown",
   "id": "b213b669",
   "metadata": {},
   "source": [
    "Run the cell below:"
   ]
  },
  {
   "cell_type": "code",
   "execution_count": 1,
   "id": "c8584b94",
   "metadata": {},
   "outputs": [],
   "source": [
    "var1 = [10, \"Finance\", [525, \"problems\"], (), [], 0.0]\n",
    "var2 = (1,2,3)\n",
    "var3 = {'tickers': ['TSLA','AAPL'],\n",
    "       'prices': [1000, 2000]}\n",
    "var4 = ()"
   ]
  },
  {
   "cell_type": "markdown",
   "id": "18ce202e",
   "metadata": {},
   "source": [
    "In the cell below, write a conditional statement that prints \"in\" if the string \"finance\" is an element of var1."
   ]
  },
  {
   "cell_type": "code",
   "execution_count": 2,
   "id": "499abaab",
   "metadata": {},
   "outputs": [],
   "source": [
    "if \"finance\" in var1:\n",
    "    print(\"in\")"
   ]
  },
  {
   "cell_type": "markdown",
   "id": "dcdaa637",
   "metadata": {},
   "source": [
    "In the cell below, write a conditional statement that adds elements 'one' and 'two' to the tuple var4, if var4 is empty. Then print var4."
   ]
  },
  {
   "cell_type": "code",
   "execution_count": 3,
   "id": "3d9e18f2",
   "metadata": {},
   "outputs": [
    {
     "name": "stdout",
     "output_type": "stream",
     "text": [
      "('one', 'two')\n"
     ]
    }
   ],
   "source": [
    "if not var4:\n",
    "    var4 = var4 + ('one','two')\n",
    "print(var4)"
   ]
  },
  {
   "cell_type": "markdown",
   "id": "8f0e2765",
   "metadata": {},
   "source": [
    "In the cell below, write a conditional statement that replaces var4 with an empty tuple if var4 is not empty. Then print var4."
   ]
  },
  {
   "cell_type": "code",
   "execution_count": 4,
   "id": "42c82d9a",
   "metadata": {},
   "outputs": [
    {
     "name": "stdout",
     "output_type": "stream",
     "text": [
      "()\n"
     ]
    }
   ],
   "source": [
    "if var4:\n",
    "    var4 = ()\n",
    "print(var4)"
   ]
  },
  {
   "cell_type": "markdown",
   "id": "6f88de26",
   "metadata": {},
   "source": [
    "In the cell below, use a for loop and a conditional statement to print out, one by one, all the elements of var2 that are larger than 1."
   ]
  },
  {
   "cell_type": "code",
   "execution_count": 5,
   "id": "551d634f",
   "metadata": {},
   "outputs": [
    {
     "name": "stdout",
     "output_type": "stream",
     "text": [
      "2\n",
      "3\n"
     ]
    }
   ],
   "source": [
    "for i in var2:\n",
    "    if i > 1:\n",
    "        print(i)"
   ]
  },
  {
   "cell_type": "markdown",
   "id": "f6d9f426",
   "metadata": {},
   "source": [
    "In the cell below, use a list comprehension to print out, one by one, all the elements of var2 that are larger than 1."
   ]
  },
  {
   "cell_type": "code",
   "execution_count": 6,
   "id": "fa561304",
   "metadata": {},
   "outputs": [
    {
     "name": "stdout",
     "output_type": "stream",
     "text": [
      "2\n",
      "3\n"
     ]
    }
   ],
   "source": [
    "a = [print(i) for i in var2 if i > 1]"
   ]
  },
  {
   "cell_type": "markdown",
   "id": "34d459ba",
   "metadata": {},
   "source": [
    "In the cell below, use a for loop to print out all the keys of the var3 dictionary."
   ]
  },
  {
   "cell_type": "code",
   "execution_count": 7,
   "id": "b0a8ef6b",
   "metadata": {},
   "outputs": [
    {
     "name": "stdout",
     "output_type": "stream",
     "text": [
      "tickers\n",
      "prices\n"
     ]
    }
   ],
   "source": [
    "for i in var3:\n",
    "    print(i)"
   ]
  },
  {
   "cell_type": "markdown",
   "id": "2f54f91a",
   "metadata": {},
   "source": [
    "In the cell below, use a for loop to print out all the tickers (at once, as a list) and then all the prices (at once, as a list) in var3."
   ]
  },
  {
   "cell_type": "code",
   "execution_count": 8,
   "id": "efe85a6d",
   "metadata": {},
   "outputs": [
    {
     "name": "stdout",
     "output_type": "stream",
     "text": [
      "['TSLA', 'AAPL']\n",
      "[1000, 2000]\n"
     ]
    }
   ],
   "source": [
    "for i in var3:\n",
    "    print(var3[i])"
   ]
  },
  {
   "cell_type": "markdown",
   "id": "fead2243",
   "metadata": {},
   "source": [
    "In the cell below, use a for loop and a conditional statement to print out all the elements of v1 that have a truth value of False."
   ]
  },
  {
   "cell_type": "code",
   "execution_count": 9,
   "id": "a5cd32e6",
   "metadata": {},
   "outputs": [
    {
     "name": "stdout",
     "output_type": "stream",
     "text": [
      "()\n",
      "[]\n",
      "0.0\n"
     ]
    }
   ],
   "source": [
    "for i in var1:\n",
    "    if not i:\n",
    "        print(i)"
   ]
  },
  {
   "cell_type": "markdown",
   "id": "f732dacd",
   "metadata": {},
   "source": [
    "In the cell below, use a list comprehension to create a new list (call it mylist) which contains the square roots of all the elements in var2 (hint: raise all of them to the power 0.5). Then print this new list out."
   ]
  },
  {
   "cell_type": "code",
   "execution_count": 10,
   "id": "76be4852",
   "metadata": {},
   "outputs": [
    {
     "name": "stdout",
     "output_type": "stream",
     "text": [
      "[1.0, 1.4142135623730951, 1.7320508075688772]\n"
     ]
    }
   ],
   "source": [
    "mylist = [i**0.5 for i in var2]\n",
    "print(mylist)"
   ]
  },
  {
   "cell_type": "markdown",
   "id": "07e3d65c",
   "metadata": {},
   "source": [
    "In the cell below, use the range() function to create a list (call it fives) of all multiples of 5 from 10 to 25. Then print this new list out."
   ]
  },
  {
   "cell_type": "code",
   "execution_count": 11,
   "id": "77c7a563",
   "metadata": {},
   "outputs": [
    {
     "name": "stdout",
     "output_type": "stream",
     "text": [
      "[5, 10, 15, 20, 25]\n"
     ]
    }
   ],
   "source": [
    "fives = []\n",
    "for i in range(5,26,5):\n",
    "    fives = fives + [i]\n",
    "print(fives)\n",
    "\n",
    "#or, using the \"list()\" function:\n",
    "#fives = list(range(5,26,5))"
   ]
  }
 ],
 "metadata": {
  "kernelspec": {
   "display_name": "Python 3 (ipykernel)",
   "language": "python",
   "name": "python3"
  },
  "language_info": {
   "codemirror_mode": {
    "name": "ipython",
    "version": 3
   },
   "file_extension": ".py",
   "mimetype": "text/x-python",
   "name": "python",
   "nbconvert_exporter": "python",
   "pygments_lexer": "ipython3",
   "version": "3.8.5"
  },
  "toc": {
   "base_numbering": 1,
   "nav_menu": {},
   "number_sections": true,
   "sideBar": true,
   "skip_h1_title": false,
   "title_cell": "Table of Contents",
   "title_sidebar": "Contents",
   "toc_cell": false,
   "toc_position": {},
   "toc_section_display": true,
   "toc_window_display": false
  }
 },
 "nbformat": 4,
 "nbformat_minor": 5
}
