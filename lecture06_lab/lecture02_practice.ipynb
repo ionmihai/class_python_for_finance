{
 "cells": [
  {
   "cell_type": "markdown",
   "id": "86bd3115",
   "metadata": {},
   "source": [
    "Run the cell below:"
   ]
  },
  {
   "cell_type": "code",
   "execution_count": null,
   "id": "ab6ecd0a",
   "metadata": {},
   "outputs": [],
   "source": [
    "var1 = 12\n",
    "var2 = 5.67\n",
    "var3 = \"John Smith\"\n",
    "var4 = False\n",
    "var5 = 0"
   ]
  },
  {
   "cell_type": "markdown",
   "id": "3c1dec09",
   "metadata": {},
   "source": [
    "In the cell below, write python code that prints out the type for each of the variables above."
   ]
  },
  {
   "cell_type": "code",
   "execution_count": null,
   "id": "8cee5308",
   "metadata": {},
   "outputs": [],
   "source": []
  },
  {
   "cell_type": "markdown",
   "id": "30f5fc4c",
   "metadata": {},
   "source": [
    "In the cell below, write python code that multiplies var1 and var2 and prints out the result."
   ]
  },
  {
   "cell_type": "code",
   "execution_count": null,
   "id": "6b188969",
   "metadata": {},
   "outputs": [],
   "source": []
  },
  {
   "cell_type": "markdown",
   "id": "8567955e",
   "metadata": {},
   "source": [
    "In the cell below, write python code that appends \" is 11\" at the end of var3. "
   ]
  },
  {
   "cell_type": "code",
   "execution_count": null,
   "id": "b897edbd",
   "metadata": {},
   "outputs": [],
   "source": []
  },
  {
   "cell_type": "markdown",
   "id": "62791045",
   "metadata": {},
   "source": [
    "In the cell below, write python code that uses string slicing to print out the last 3 characters (letters) of var3 (\"ith\"). "
   ]
  },
  {
   "cell_type": "code",
   "execution_count": null,
   "id": "ec533d5c",
   "metadata": {},
   "outputs": [],
   "source": []
  },
  {
   "cell_type": "markdown",
   "id": "4c15ee6f",
   "metadata": {},
   "source": [
    "In the cell below, write python code that uses string slicing to print out the second and third characters of var3 (\"oh\") "
   ]
  },
  {
   "cell_type": "code",
   "execution_count": null,
   "id": "bd04c994",
   "metadata": {},
   "outputs": [],
   "source": []
  },
  {
   "cell_type": "markdown",
   "id": "89abeef6",
   "metadata": {},
   "source": [
    "In the cell below, write python code that checks whether var1 and var2 are equal."
   ]
  },
  {
   "cell_type": "code",
   "execution_count": null,
   "id": "11535630",
   "metadata": {},
   "outputs": [],
   "source": []
  },
  {
   "cell_type": "markdown",
   "id": "6bf73854",
   "metadata": {},
   "source": [
    "In the cell below, write python code that checks if var1 is larger than var4."
   ]
  },
  {
   "cell_type": "code",
   "execution_count": null,
   "id": "2ee0d8bc",
   "metadata": {},
   "outputs": [],
   "source": []
  },
  {
   "cell_type": "markdown",
   "id": "1b464043",
   "metadata": {},
   "source": [
    "In the cell below, write python code that checks if either var1 or var4 are True."
   ]
  },
  {
   "cell_type": "code",
   "execution_count": null,
   "id": "74de26e3",
   "metadata": {},
   "outputs": [],
   "source": []
  },
  {
   "cell_type": "markdown",
   "id": "5aa26da6",
   "metadata": {},
   "source": [
    "In the cell below, write python code that uses an f-string and the variables var1 and var3 to print out \"John Smith is 12 years old."
   ]
  },
  {
   "cell_type": "code",
   "execution_count": null,
   "id": "aa28d321",
   "metadata": {},
   "outputs": [],
   "source": []
  },
  {
   "cell_type": "markdown",
   "id": "1c0afaf4",
   "metadata": {},
   "source": [
    "In the cell below, write python code that checks if var4 is not equal to var5."
   ]
  },
  {
   "cell_type": "code",
   "execution_count": null,
   "id": "eac7ab8b",
   "metadata": {},
   "outputs": [],
   "source": []
  }
 ],
 "metadata": {
  "kernelspec": {
   "display_name": "Python 3 (ipykernel)",
   "language": "python",
   "name": "python3"
  },
  "language_info": {
   "codemirror_mode": {
    "name": "ipython",
    "version": 3
   },
   "file_extension": ".py",
   "mimetype": "text/x-python",
   "name": "python",
   "nbconvert_exporter": "python",
   "pygments_lexer": "ipython3",
   "version": "3.8.5"
  },
  "toc": {
   "base_numbering": 1,
   "nav_menu": {},
   "number_sections": true,
   "sideBar": true,
   "skip_h1_title": false,
   "title_cell": "Table of Contents",
   "title_sidebar": "Contents",
   "toc_cell": false,
   "toc_position": {},
   "toc_section_display": true,
   "toc_window_display": false
  }
 },
 "nbformat": 4,
 "nbformat_minor": 5
}
