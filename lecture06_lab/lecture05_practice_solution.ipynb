{
 "cells": [
  {
   "cell_type": "markdown",
   "id": "e489c54f",
   "metadata": {},
   "source": [
    "Write a function called ``func1`` which takes no parameters and returns an empty list. Then use it to append an empty list at the end of this list ``[1,2]`` and print out the result (the result should be ``[1,2,[]]``)."
   ]
  },
  {
   "cell_type": "code",
   "execution_count": 1,
   "id": "c26781c3",
   "metadata": {},
   "outputs": [
    {
     "name": "stdout",
     "output_type": "stream",
     "text": [
      "[1, 2, []]\n"
     ]
    }
   ],
   "source": [
    "def func1():\n",
    "    return []\n",
    "\n",
    "print([1,2] + [func1()])"
   ]
  },
  {
   "cell_type": "markdown",
   "id": "a3ac2126",
   "metadata": {},
   "source": [
    "Write a function called ``func2`` which takes two parameters (arguments) and returns the larger one. Then use it to print out which one of the following is larger: the string \"A\" or the string 'a'."
   ]
  },
  {
   "cell_type": "code",
   "execution_count": 2,
   "id": "9af52f0f",
   "metadata": {},
   "outputs": [
    {
     "name": "stdout",
     "output_type": "stream",
     "text": [
      "a\n"
     ]
    }
   ],
   "source": [
    "def func2(a,b):\n",
    "    if a > b:\n",
    "        return a\n",
    "    else:\n",
    "        return b\n",
    "    \n",
    "print(func2('a','A'))"
   ]
  },
  {
   "cell_type": "markdown",
   "id": "39bddb78",
   "metadata": {},
   "source": [
    "Write a function called ``func3`` which takes two parameters named ``var1`` and ``var2`` and returns the value of ``var2``. What are the results of ``print(func3(1,2))``? What are the results of ``print(func3(var2 = 1, var1 = 2))``? What are the results of ``print(func3([1,2]))``? Can you explain the difference? "
   ]
  },
  {
   "cell_type": "code",
   "execution_count": 3,
   "id": "0088aa4d",
   "metadata": {},
   "outputs": [
    {
     "name": "stdout",
     "output_type": "stream",
     "text": [
      "2\n",
      "1\n"
     ]
    },
    {
     "ename": "TypeError",
     "evalue": "func3() missing 1 required positional argument: 'var2'",
     "output_type": "error",
     "traceback": [
      "\u001b[1;31m---------------------------------------------------------------------------\u001b[0m",
      "\u001b[1;31mTypeError\u001b[0m                                 Traceback (most recent call last)",
      "\u001b[1;32m~\\AppData\\Local\\Temp/ipykernel_20444/4290217186.py\u001b[0m in \u001b[0;36m<module>\u001b[1;34m\u001b[0m\n\u001b[0;32m      4\u001b[0m \u001b[0mprint\u001b[0m\u001b[1;33m(\u001b[0m\u001b[0mfunc3\u001b[0m\u001b[1;33m(\u001b[0m\u001b[1;36m1\u001b[0m\u001b[1;33m,\u001b[0m\u001b[1;36m2\u001b[0m\u001b[1;33m)\u001b[0m\u001b[1;33m)\u001b[0m\u001b[1;33m\u001b[0m\u001b[1;33m\u001b[0m\u001b[0m\n\u001b[0;32m      5\u001b[0m \u001b[0mprint\u001b[0m\u001b[1;33m(\u001b[0m\u001b[0mfunc3\u001b[0m\u001b[1;33m(\u001b[0m\u001b[0mvar2\u001b[0m \u001b[1;33m=\u001b[0m \u001b[1;36m1\u001b[0m\u001b[1;33m,\u001b[0m \u001b[0mvar1\u001b[0m \u001b[1;33m=\u001b[0m \u001b[1;36m2\u001b[0m\u001b[1;33m)\u001b[0m\u001b[1;33m)\u001b[0m\u001b[1;33m\u001b[0m\u001b[1;33m\u001b[0m\u001b[0m\n\u001b[1;32m----> 6\u001b[1;33m \u001b[0mprint\u001b[0m\u001b[1;33m(\u001b[0m\u001b[0mfunc3\u001b[0m\u001b[1;33m(\u001b[0m\u001b[1;33m[\u001b[0m\u001b[1;36m1\u001b[0m\u001b[1;33m,\u001b[0m\u001b[1;36m2\u001b[0m\u001b[1;33m]\u001b[0m\u001b[1;33m)\u001b[0m\u001b[1;33m)\u001b[0m\u001b[1;33m\u001b[0m\u001b[1;33m\u001b[0m\u001b[0m\n\u001b[0m",
      "\u001b[1;31mTypeError\u001b[0m: func3() missing 1 required positional argument: 'var2'"
     ]
    }
   ],
   "source": [
    "def func3(var1, var2):\n",
    "    return var2\n",
    "\n",
    "print(func3(1,2))\n",
    "print(func3(var2 = 1, var1 = 2))\n",
    "print(func3([1,2]))"
   ]
  },
  {
   "cell_type": "markdown",
   "id": "143723bc",
   "metadata": {},
   "source": [
    "Write a function called ``func4`` which takes two parameters called ``thelist`` and ``topower``. Make ``topower`` a default argument, with default value of 1. The ``func4`` function should return a list containing all the elements supplied as ``thelist`` parameter, raised to the power supplied as the ``topower`` parameter. For example ``func4(thelist=[1,2], topower=2)`` should return the list ``[1,4]``. What are the results of ``print(func4([1,2]))``? What are the results of ``print(func4(1,2))``? Can you explain this behavior?"
   ]
  },
  {
   "cell_type": "code",
   "execution_count": 4,
   "id": "1a4125a0",
   "metadata": {},
   "outputs": [
    {
     "name": "stdout",
     "output_type": "stream",
     "text": [
      "[1, 4]\n",
      "[1, 2]\n"
     ]
    },
    {
     "ename": "TypeError",
     "evalue": "'int' object is not iterable",
     "output_type": "error",
     "traceback": [
      "\u001b[1;31m---------------------------------------------------------------------------\u001b[0m",
      "\u001b[1;31mTypeError\u001b[0m                                 Traceback (most recent call last)",
      "\u001b[1;32m~\\AppData\\Local\\Temp/ipykernel_20444/4213214137.py\u001b[0m in \u001b[0;36m<module>\u001b[1;34m\u001b[0m\n\u001b[0;32m      4\u001b[0m \u001b[0mprint\u001b[0m\u001b[1;33m(\u001b[0m\u001b[0mfunc4\u001b[0m\u001b[1;33m(\u001b[0m\u001b[0mthelist\u001b[0m\u001b[1;33m=\u001b[0m\u001b[1;33m[\u001b[0m\u001b[1;36m1\u001b[0m\u001b[1;33m,\u001b[0m\u001b[1;36m2\u001b[0m\u001b[1;33m]\u001b[0m\u001b[1;33m,\u001b[0m \u001b[0mtopower\u001b[0m\u001b[1;33m=\u001b[0m\u001b[1;36m2\u001b[0m\u001b[1;33m)\u001b[0m\u001b[1;33m)\u001b[0m\u001b[1;33m\u001b[0m\u001b[1;33m\u001b[0m\u001b[0m\n\u001b[0;32m      5\u001b[0m \u001b[0mprint\u001b[0m\u001b[1;33m(\u001b[0m\u001b[0mfunc4\u001b[0m\u001b[1;33m(\u001b[0m\u001b[1;33m[\u001b[0m\u001b[1;36m1\u001b[0m\u001b[1;33m,\u001b[0m\u001b[1;36m2\u001b[0m\u001b[1;33m]\u001b[0m\u001b[1;33m)\u001b[0m\u001b[1;33m)\u001b[0m\u001b[1;33m\u001b[0m\u001b[1;33m\u001b[0m\u001b[0m\n\u001b[1;32m----> 6\u001b[1;33m \u001b[0mprint\u001b[0m\u001b[1;33m(\u001b[0m\u001b[0mfunc4\u001b[0m\u001b[1;33m(\u001b[0m\u001b[1;36m1\u001b[0m\u001b[1;33m,\u001b[0m\u001b[1;36m2\u001b[0m\u001b[1;33m)\u001b[0m\u001b[1;33m)\u001b[0m\u001b[1;33m\u001b[0m\u001b[1;33m\u001b[0m\u001b[0m\n\u001b[0m",
      "\u001b[1;32m~\\AppData\\Local\\Temp/ipykernel_20444/4213214137.py\u001b[0m in \u001b[0;36mfunc4\u001b[1;34m(thelist, topower)\u001b[0m\n\u001b[0;32m      1\u001b[0m \u001b[1;32mdef\u001b[0m \u001b[0mfunc4\u001b[0m\u001b[1;33m(\u001b[0m\u001b[0mthelist\u001b[0m\u001b[1;33m,\u001b[0m \u001b[0mtopower\u001b[0m \u001b[1;33m=\u001b[0m \u001b[1;36m1\u001b[0m\u001b[1;33m)\u001b[0m\u001b[1;33m:\u001b[0m\u001b[1;33m\u001b[0m\u001b[1;33m\u001b[0m\u001b[0m\n\u001b[1;32m----> 2\u001b[1;33m     \u001b[1;32mreturn\u001b[0m \u001b[1;33m[\u001b[0m\u001b[0mi\u001b[0m\u001b[1;33m**\u001b[0m\u001b[0mtopower\u001b[0m \u001b[1;32mfor\u001b[0m \u001b[0mi\u001b[0m \u001b[1;32min\u001b[0m \u001b[0mthelist\u001b[0m\u001b[1;33m]\u001b[0m\u001b[1;33m\u001b[0m\u001b[1;33m\u001b[0m\u001b[0m\n\u001b[0m\u001b[0;32m      3\u001b[0m \u001b[1;33m\u001b[0m\u001b[0m\n\u001b[0;32m      4\u001b[0m \u001b[0mprint\u001b[0m\u001b[1;33m(\u001b[0m\u001b[0mfunc4\u001b[0m\u001b[1;33m(\u001b[0m\u001b[0mthelist\u001b[0m\u001b[1;33m=\u001b[0m\u001b[1;33m[\u001b[0m\u001b[1;36m1\u001b[0m\u001b[1;33m,\u001b[0m\u001b[1;36m2\u001b[0m\u001b[1;33m]\u001b[0m\u001b[1;33m,\u001b[0m \u001b[0mtopower\u001b[0m\u001b[1;33m=\u001b[0m\u001b[1;36m2\u001b[0m\u001b[1;33m)\u001b[0m\u001b[1;33m)\u001b[0m\u001b[1;33m\u001b[0m\u001b[1;33m\u001b[0m\u001b[0m\n\u001b[0;32m      5\u001b[0m \u001b[0mprint\u001b[0m\u001b[1;33m(\u001b[0m\u001b[0mfunc4\u001b[0m\u001b[1;33m(\u001b[0m\u001b[1;33m[\u001b[0m\u001b[1;36m1\u001b[0m\u001b[1;33m,\u001b[0m\u001b[1;36m2\u001b[0m\u001b[1;33m]\u001b[0m\u001b[1;33m)\u001b[0m\u001b[1;33m)\u001b[0m\u001b[1;33m\u001b[0m\u001b[1;33m\u001b[0m\u001b[0m\n",
      "\u001b[1;31mTypeError\u001b[0m: 'int' object is not iterable"
     ]
    }
   ],
   "source": [
    "def func4(thelist, topower = 1):\n",
    "    return [i**topower for i in thelist]\n",
    "\n",
    "print(func4(thelist=[1,2], topower=2))\n",
    "print(func4([1,2]))\n",
    "print(func4(1,2))"
   ]
  },
  {
   "cell_type": "markdown",
   "id": "7705de57",
   "metadata": {},
   "source": [
    "Write a function ``func5`` that takes in a list of stock returns and compounds them (hint: add 1 to all of them, multiply them, and subtract 1). Use this function to print the result of compounding 10% and 20%?"
   ]
  },
  {
   "cell_type": "code",
   "execution_count": 5,
   "id": "ca6bb2f3",
   "metadata": {},
   "outputs": [
    {
     "name": "stdout",
     "output_type": "stream",
     "text": [
      "0.32000000000000006\n"
     ]
    }
   ],
   "source": [
    "def func5(ret):\n",
    "    result = 1\n",
    "    for r in ret:\n",
    "        result = result * (1+r)\n",
    "    return result - 1\n",
    "\n",
    "print(func5([0.1, 0.2]))"
   ]
  }
 ],
 "metadata": {
  "kernelspec": {
   "display_name": "Python 3 (ipykernel)",
   "language": "python",
   "name": "python3"
  },
  "language_info": {
   "codemirror_mode": {
    "name": "ipython",
    "version": 3
   },
   "file_extension": ".py",
   "mimetype": "text/x-python",
   "name": "python",
   "nbconvert_exporter": "python",
   "pygments_lexer": "ipython3",
   "version": "3.8.5"
  },
  "toc": {
   "base_numbering": 1,
   "nav_menu": {},
   "number_sections": true,
   "sideBar": true,
   "skip_h1_title": false,
   "title_cell": "Table of Contents",
   "title_sidebar": "Contents",
   "toc_cell": false,
   "toc_position": {},
   "toc_section_display": true,
   "toc_window_display": false
  }
 },
 "nbformat": 4,
 "nbformat_minor": 5
}
