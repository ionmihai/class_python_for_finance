{
 "cells": [
  {
   "cell_type": "markdown",
   "id": "2e0c41b7",
   "metadata": {},
   "source": [
    "Run the cell below:"
   ]
  },
  {
   "cell_type": "code",
   "execution_count": null,
   "id": "7b813ea0",
   "metadata": {},
   "outputs": [],
   "source": [
    "var1 = [10, \"Finance\", [525, \"problems\"], (), [], 0.0]\n",
    "var2 = (1,2,3)\n",
    "var3 = {'tickers': ['TSLA','AAPL'],\n",
    "       'prices': [1000, 2000]}\n",
    "var4 = ()"
   ]
  },
  {
   "cell_type": "markdown",
   "id": "fdc13ef8",
   "metadata": {},
   "source": [
    "In the cell below, write a conditional statement that prints \"in\" if the string \"finance\" is an element of var1."
   ]
  },
  {
   "cell_type": "code",
   "execution_count": null,
   "id": "541566e5",
   "metadata": {},
   "outputs": [],
   "source": []
  },
  {
   "cell_type": "markdown",
   "id": "83fca2d1",
   "metadata": {},
   "source": [
    "In the cell below, write a conditional statement that adds elements 'one' and 'two' to the tuple var4, if var4 is empty. Then print var4."
   ]
  },
  {
   "cell_type": "code",
   "execution_count": null,
   "id": "f896c197",
   "metadata": {},
   "outputs": [],
   "source": []
  },
  {
   "cell_type": "markdown",
   "id": "5a004a9d",
   "metadata": {},
   "source": [
    "In the cell below, write a conditional statement that replaces var4 with an empty tuple if var4 is not empty. Then print var4."
   ]
  },
  {
   "cell_type": "code",
   "execution_count": null,
   "id": "e1bf2d07",
   "metadata": {},
   "outputs": [],
   "source": []
  },
  {
   "cell_type": "markdown",
   "id": "cd07adda",
   "metadata": {},
   "source": [
    "In the cell below, use a for loop and a conditional statement to print out, one by one, all the elements of var2 that are larger than 1."
   ]
  },
  {
   "cell_type": "code",
   "execution_count": null,
   "id": "5bf8306e",
   "metadata": {},
   "outputs": [],
   "source": []
  },
  {
   "cell_type": "markdown",
   "id": "55ded2c7",
   "metadata": {},
   "source": [
    "In the cell below, use a list comprehension to print out, one by one, all the elements of var2 that are larger than 1."
   ]
  },
  {
   "cell_type": "code",
   "execution_count": null,
   "id": "2ff0234e",
   "metadata": {},
   "outputs": [],
   "source": []
  },
  {
   "cell_type": "markdown",
   "id": "46b4b396",
   "metadata": {},
   "source": [
    "In the cell below, use a for loop to print out all the keys of the var3 dictionary."
   ]
  },
  {
   "cell_type": "code",
   "execution_count": null,
   "id": "a35582d3",
   "metadata": {},
   "outputs": [],
   "source": []
  },
  {
   "cell_type": "markdown",
   "id": "ecba26a3",
   "metadata": {},
   "source": [
    "In the cell below, use a for loop to print out all the tickers (at once, as a list) and then all the prices (at once, as a list) in var3."
   ]
  },
  {
   "cell_type": "code",
   "execution_count": null,
   "id": "589998a4",
   "metadata": {},
   "outputs": [],
   "source": []
  },
  {
   "cell_type": "markdown",
   "id": "7d29ef6b",
   "metadata": {},
   "source": [
    "In the cell below, use a for loop and a conditional statement to print out all the elements of v1 that have a truth value of False."
   ]
  },
  {
   "cell_type": "code",
   "execution_count": null,
   "id": "b4bbd8ef",
   "metadata": {},
   "outputs": [],
   "source": []
  },
  {
   "cell_type": "markdown",
   "id": "1ab97815",
   "metadata": {},
   "source": [
    "In the cell below, use a list comprehension to create a new list (call it mylist) which contains the square roots of all the elements in var2 (hint: raise all of them to the power 0.5). Then print this new list out."
   ]
  },
  {
   "cell_type": "code",
   "execution_count": null,
   "id": "9919b0c6",
   "metadata": {},
   "outputs": [],
   "source": []
  },
  {
   "cell_type": "markdown",
   "id": "17d954ba",
   "metadata": {},
   "source": [
    "In the cell below, use the range() function to create a list (call it fives) of all multiples of 5 from 10 to 25. Then print this new list out."
   ]
  },
  {
   "cell_type": "code",
   "execution_count": null,
   "id": "3f0c8313",
   "metadata": {},
   "outputs": [],
   "source": []
  }
 ],
 "metadata": {
  "kernelspec": {
   "display_name": "Python 3 (ipykernel)",
   "language": "python",
   "name": "python3"
  },
  "language_info": {
   "codemirror_mode": {
    "name": "ipython",
    "version": 3
   },
   "file_extension": ".py",
   "mimetype": "text/x-python",
   "name": "python",
   "nbconvert_exporter": "python",
   "pygments_lexer": "ipython3",
   "version": "3.8.5"
  },
  "toc": {
   "base_numbering": 1,
   "nav_menu": {},
   "number_sections": true,
   "sideBar": true,
   "skip_h1_title": false,
   "title_cell": "Table of Contents",
   "title_sidebar": "Contents",
   "toc_cell": false,
   "toc_position": {},
   "toc_section_display": true,
   "toc_window_display": false
  }
 },
 "nbformat": 4,
 "nbformat_minor": 5
}
