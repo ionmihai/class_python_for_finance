{
 "cells": [
  {
   "cell_type": "markdown",
   "metadata": {
    "toc": true
   },
   "source": [
    "<h1>Table of Contents<span class=\"tocSkip\"></span></h1>\n",
    "<div class=\"toc\"><ul class=\"toc-item\"><li><span><a href=\"#Lecture-overview\" data-toc-modified-id=\"Lecture-overview-1\"><span class=\"toc-item-num\">1&nbsp;&nbsp;</span>Lecture overview</a></span></li><li><span><a href=\"#Preliminaries\" data-toc-modified-id=\"Preliminaries-2\"><span class=\"toc-item-num\">2&nbsp;&nbsp;</span>Preliminaries</a></span></li><li><span><a href=\"#Endogeneity\" data-toc-modified-id=\"Endogeneity-3\"><span class=\"toc-item-num\">3&nbsp;&nbsp;</span>Endogeneity</a></span><ul class=\"toc-item\"><li><span><a href=\"#Firm-fixed-effects\" data-toc-modified-id=\"Firm-fixed-effects-3.1\"><span class=\"toc-item-num\">3.1&nbsp;&nbsp;</span>Firm fixed effects</a></span></li><li><span><a href=\"#Time-fixed-effects\" data-toc-modified-id=\"Time-fixed-effects-3.2\"><span class=\"toc-item-num\">3.2&nbsp;&nbsp;</span>Time fixed effects</a></span></li><li><span><a href=\"#Both-time-and-year-fixed-effects:\" data-toc-modified-id=\"Both-time-and-year-fixed-effects:-3.3\"><span class=\"toc-item-num\">3.3&nbsp;&nbsp;</span>Both time and year fixed effects:</a></span></li><li><span><a href=\"#Sector-fixed-effects\" data-toc-modified-id=\"Sector-fixed-effects-3.4\"><span class=\"toc-item-num\">3.4&nbsp;&nbsp;</span>Sector fixed effects</a></span></li></ul></li><li><span><a href=\"#Heteroskedasticity-and-correlated-errors\" data-toc-modified-id=\"Heteroskedasticity-and-correlated-errors-4\"><span class=\"toc-item-num\">4&nbsp;&nbsp;</span>Heteroskedasticity and correlated errors</a></span><ul class=\"toc-item\"><li><span><a href=\"#White-standard-errors\" data-toc-modified-id=\"White-standard-errors-4.1\"><span class=\"toc-item-num\">4.1&nbsp;&nbsp;</span>White standard errors</a></span></li><li><span><a href=\"#Clustering-standard-errors-at-the-firm-level\" data-toc-modified-id=\"Clustering-standard-errors-at-the-firm-level-4.2\"><span class=\"toc-item-num\">4.2&nbsp;&nbsp;</span>Clustering standard errors at the firm level</a></span></li><li><span><a href=\"#Clustering-standard-errors-at-the-year-level\" data-toc-modified-id=\"Clustering-standard-errors-at-the-year-level-4.3\"><span class=\"toc-item-num\">4.3&nbsp;&nbsp;</span>Clustering standard errors at the year level</a></span></li><li><span><a href=\"#Cluster-at-both-the-firm-and-year-level\" data-toc-modified-id=\"Cluster-at-both-the-firm-and-year-level-4.4\"><span class=\"toc-item-num\">4.4&nbsp;&nbsp;</span>Cluster at both the firm and year level</a></span></li><li><span><a href=\"#Clustering-standard-errors-at-the-sector-level\" data-toc-modified-id=\"Clustering-standard-errors-at-the-sector-level-4.5\"><span class=\"toc-item-num\">4.5&nbsp;&nbsp;</span>Clustering standard errors at the sector level</a></span></li></ul></li></ul></div>"
   ]
  },
  {
   "cell_type": "markdown",
   "metadata": {},
   "source": [
    "# Lecture overview\n",
    "\n",
    "Remember from last lecture that we are using the following empirical question to showcase the statistical tools needed to run robust regression analysis: \n",
    "\n",
    "**Which of the following firm characteristics (if any) have statistically significant predictive power over firms' profitability: the firm's cash holdings, its book leverage or its capital investments?**\n",
    "\n",
    "In the previous lecture, we collected the data we needed for this analysis, produced some summary statistics and ran a basic linear regression where firm future profitability is the dependent variable, and firm cash holdings, book leverage, and investment are the explanatory variables. In this lecture, we continue this analysis by tackling two very common issues with linear regression analysis:\n",
    "\n",
    "1. The potential presence of \"fixed-effects\" in the data\n",
    "2. The issue of correlated error terms in the regression"
   ]
  },
  {
   "cell_type": "markdown",
   "metadata": {},
   "source": [
    "The ``statsmodels`` package we used for the introductory regression materials does not implement some of the tools we will discuss in this lecture. So in these lecture notes, we will be using the ``linearmodels`` package, which can be installed by typing:\n",
    "\n",
    "```pip install linearmodels```\n",
    "\n",
    "in a Terminal or Anaconda Prompt. Once you install the package, import the ``PanelOLS`` subpackage as below:"
   ]
  },
  {
   "cell_type": "markdown",
   "metadata": {},
   "source": [
    "# Preliminaries"
   ]
  },
  {
   "cell_type": "code",
   "execution_count": null,
   "metadata": {},
   "outputs": [],
   "source": [
    "# Import packages\n",
    "import pandas as pd\n",
    "import numpy as np\n",
    "import matplotlib.pyplot as plt\n",
    "import statsmodels.api as sm\n",
    "from linearmodels import PanelOLS"
   ]
  },
  {
   "cell_type": "code",
   "execution_count": null,
   "metadata": {},
   "outputs": [],
   "source": [
    "# Load data from last time\n",
    "raw = pd.read_pickle('../data/comp_clean.zip')\n",
    "raw.dtypes"
   ]
  },
  {
   "cell_type": "code",
   "execution_count": null,
   "metadata": {},
   "outputs": [],
   "source": [
    "# Make lists of variable names for convenience\n",
    "yvar = 'w_future_roa'\n",
    "xvars = ['const','w_cash', 'w_leverage','w_investment'] \n",
    "main_vars = [yvar] + xvars"
   ]
  },
  {
   "cell_type": "code",
   "execution_count": null,
   "metadata": {},
   "outputs": [],
   "source": [
    "# Keep only the data we need and set the index\n",
    "comp = raw[['permno','year','sich'] + main_vars].copy()\n",
    "comp['const'] = 1\n",
    "comp = comp.set_index(['permno','year'])\n",
    "comp"
   ]
  },
  {
   "cell_type": "markdown",
   "metadata": {},
   "source": [
    "# Endogeneity\n",
    "\n",
    "We say that your regression may suffer from an endogeneity problem (or an endogeneity bias) if you suspect that the mean independence assumption (see assumption A2 in the regression intro lecture) is not satisfied, i.e. if you think that:\n",
    "\n",
    "$$E[\\epsilon_t | X] \\neq0$$\n",
    "\n",
    "There are many reasons why this issue might arise (look up \"omitted variable bias\", \"reverse causality bias\", and \"measurement error bias\" if you are interested in a deeper analysis). We will not go into each of these possible sources of endogeneity. Here, we only describe the two common ways to address endogeneity issues, and we implement only the latter."
   ]
  },
  {
   "cell_type": "markdown",
   "metadata": {},
   "source": [
    "- **Instrumental Variables (IV) estimation** \n",
    "    - The main idea behind this approach is to find, for every endogenous variable X, another variable Z (called an \"instrument\") which is correlated with X (aka the \"relevance\" condition), but does not affect the dependent variable in any way other than through its relation with X (aka the \"validity\" condition). The Z instrument is then used to extract the exogenous variation in X, which in turn is used in our main regression instead of X.\n",
    "    - This is a very general approach (it can be used regardless of what is causing the endogeneity issue) but it's a bit too advanced to cover in this course. I will simply mention that the \"linearmodels\" package we use in this lecture can also run IV estimation using the \"IV2SLS\" subpackage and I'll leave this for you to study at your own pace."
   ]
  },
  {
   "cell_type": "markdown",
   "metadata": {},
   "source": [
    "- **Fixed effects estimation**    \n",
    "    - This approach deals with the situation in which the endogeneity problem is caused by some unobservable, omitted variable, that is constant either in the cross section or over time\n",
    "        - Example 1: firm fixed effects\n",
    "            - It may be possible that the firm's ROA is also determined by management quality (which we can not measure easily). If high-quality managers, say, also like to hold a lot of cash, then the cash holdings variable in endogenous (in the equation above, cash holdings is part of X and management quality would be part of $\\epsilon$ since it affects ROA but is not part of our explanatory variables X). However, if management quality is relatively constant over time, we can control for its effects on ROA by demeaning the data at the firm level. This is what a firm fixed effects estimator does. \n",
    "        - Example 2: time fixed effects\n",
    "            - It may be the case that, in any given year, some macroeconomic shock affects both ROAs and, cash holdings for all firms (e.g. a recession will decrease ROAs and increase cash holdings almost across the board). If this is the case, then cash holdings is again endogenous. But if the macroeconomic shock is the (approximately) the same for all firms, then we can control for its effects (and fix our endogeneity problem) by demeaning the data at the year level. This is what a time fixed effect estimator does.\n",
    "    - Below, we show how control for both firm and year fixed effects in our example application\n",
    "        "
   ]
  },
  {
   "cell_type": "markdown",
   "metadata": {},
   "source": [
    "We will estimate fixed-effects regressions using the ``PanelOLS`` function that we imported above:\n",
    "\n",
    "Abbreviated syntax:\n",
    "```python\n",
    "PanelOLS(dependent, exog, ,entity_effects=False, time_effects=False, other_effects=None)\n",
    "```\n",
    "The first two arguments is where you tell the function what to use for the dependent variable and independent variables respectively. For firm fixed effects, you set ``entity_effects = True``, for time fixed-effects, you set ``time_effects = True`` and for fixed effects at any other level (e.g. industry), you have to specify the name of the variable that determines which observation is in what group (e.g. an industry identifier for industry fixed-effects). For ``entity_effects`` and ``time_effects``, PanelOLS assumes that the first dimension of the index contains the firm identifier, and the second dimension contains the time identifier (which is why we used ``set_index(['permno','year'])`` above)."
   ]
  },
  {
   "cell_type": "code",
   "execution_count": null,
   "metadata": {},
   "outputs": [],
   "source": [
    "# Run basic regression again, for comparison (ignore warning about missing values if you get one)"
   ]
  },
  {
   "cell_type": "markdown",
   "metadata": {},
   "source": [
    "You can check that the above results are the identical to the ones we obtained in the last lecture, using ``statsmodels.api.OLS``.\n",
    "The ``PanelOLS`` function also tells us that we have 19,139 different entities (firms) in our sample, and 41 different time periods (years)."
   ]
  },
  {
   "cell_type": "markdown",
   "metadata": {},
   "source": [
    "## Firm fixed effects"
   ]
  },
  {
   "cell_type": "code",
   "execution_count": null,
   "metadata": {},
   "outputs": [],
   "source": []
  },
  {
   "cell_type": "markdown",
   "metadata": {},
   "source": [
    "The P-value under ``F-test for Poolability`` is very low, which tells us that the firm fixed effects are jointly statistically significant in our regression (i.e. we should keep them in our regression).\n",
    "\n",
    "Note how the coefficients have changed now that we have included firm fixed effects in our regression. In particular, note that the coefficient on ``w_cash`` has changed sign."
   ]
  },
  {
   "cell_type": "markdown",
   "metadata": {},
   "source": [
    "## Time fixed effects"
   ]
  },
  {
   "cell_type": "code",
   "execution_count": null,
   "metadata": {},
   "outputs": [],
   "source": []
  },
  {
   "cell_type": "markdown",
   "metadata": {},
   "source": [
    "Once again, the P-value for the ``F-test for Poolability`` is very small, which means we should also keep the time fixed effects in our regression. Combined with the previous result, this means we should be including both firm and time fixed effects, which is what we do below.\n",
    "\n",
    "Note also how the coefficient on ``w_cash`` has changed sign again."
   ]
  },
  {
   "cell_type": "markdown",
   "metadata": {},
   "source": [
    "## Both time and year fixed effects:"
   ]
  },
  {
   "cell_type": "code",
   "execution_count": null,
   "metadata": {},
   "outputs": [],
   "source": []
  },
  {
   "cell_type": "markdown",
   "metadata": {},
   "source": [
    "In this final specification, it seems like cash holdings are positively associated with future profitability."
   ]
  },
  {
   "cell_type": "markdown",
   "metadata": {},
   "source": [
    "## Sector fixed effects"
   ]
  },
  {
   "cell_type": "code",
   "execution_count": null,
   "metadata": {},
   "outputs": [],
   "source": []
  },
  {
   "cell_type": "markdown",
   "metadata": {},
   "source": [
    "Note that 'sic2d' contains missing values, which will give us an error if we try to use them as fixed-effects. So we get rid of all missing values in our regression data, and store this in a new dataframe first:"
   ]
  },
  {
   "cell_type": "code",
   "execution_count": null,
   "metadata": {},
   "outputs": [],
   "source": []
  },
  {
   "cell_type": "markdown",
   "metadata": {},
   "source": [
    "Now we can run our industry fixed-effects regression:"
   ]
  },
  {
   "cell_type": "code",
   "execution_count": null,
   "metadata": {},
   "outputs": [],
   "source": []
  },
  {
   "cell_type": "markdown",
   "metadata": {},
   "source": [
    "# Heteroskedasticity and correlated errors\n",
    "\n",
    "We say that our regression may have a heteroskedasticity problem if we believe not all the residual terms in the regression ($\\epsilon$'s) have the same variance, i.e. assumption A3 (see regression intro lecture) is not satisfied.\n",
    "As long as these error terms are not correlated with each other, then we can fix the heteroskedasticity problem by calculating \"White\" standard errors (as in the section below).\n",
    "\n",
    "However, if the believe the residual terms may be correlated with each other (which again violates assumption A3), to address this issue, we have to be more explicit about the dimension in which these correlations occur. The most common are:\n",
    "\n",
    "   - Residuals correlated within firm (i.e. the residuals of a single firm are correlated over time)\n",
    "        - We address this issue by specifying that our standard errors are \"clustered\" at the firm level        \n",
    "        \n",
    "   - Residuals correlated within time (i.e. the residuals of all firms are correlated within a year)\n",
    "        - We address this issue by specifying that our standard errors are clustered at the year level (or month level for monthly frequency data, etc.)"
   ]
  },
  {
   "cell_type": "markdown",
   "metadata": {},
   "source": [
    "To address the problems we highlighted above, we specify how we want our standard errors to be calculated by providing different parameters to the ``.fit()`` function:\n",
    "\n",
    "Abbreviated syntax:\n",
    "```python\n",
    "PanelOLS.fit(cov_type='unadjusted', debiased=True, auto_df=True, count_effects=True, **cov_config)\n",
    "```\n",
    "In articular, we will use ``cov_type = 'robust'`` if we are just worried about heteroskedasticity and we want \"White\" standard errors. We will use ``cov_type = 'clustered'`` if are worried about correlated residuals. In this case, we need to specify ``cluster_entity = True`` if we think residuals are autocorrelated within firm, and/or ``cluster_time = True`` if we thing residuals might be correlated within each time period. "
   ]
  },
  {
   "cell_type": "markdown",
   "metadata": {},
   "source": [
    "We will use the model with firm- and time- fixed effects for the rest of this lecture. So we will just specify the regression model below, and use this model over and over again, each time, specifying a different way to fix standard errors with the ``.fit()`` function. Note than none of these \"fixed\" will change the regression coefficients themselves. Only their statistical significance."
   ]
  },
  {
   "cell_type": "code",
   "execution_count": null,
   "metadata": {},
   "outputs": [],
   "source": []
  },
  {
   "cell_type": "markdown",
   "metadata": {},
   "source": [
    "## White standard errors"
   ]
  },
  {
   "cell_type": "code",
   "execution_count": null,
   "metadata": {},
   "outputs": [],
   "source": []
  },
  {
   "cell_type": "markdown",
   "metadata": {},
   "source": [
    "## Clustering standard errors at the firm level"
   ]
  },
  {
   "cell_type": "code",
   "execution_count": null,
   "metadata": {},
   "outputs": [],
   "source": []
  },
  {
   "cell_type": "markdown",
   "metadata": {},
   "source": [
    "Note how the cash holding variable (which, last lecture, we thought has the highest predictive power over future profitability), is no longer statistically significant at the 95\\% confidence level."
   ]
  },
  {
   "cell_type": "markdown",
   "metadata": {},
   "source": [
    "## Clustering standard errors at the year level"
   ]
  },
  {
   "cell_type": "code",
   "execution_count": null,
   "metadata": {},
   "outputs": [],
   "source": []
  },
  {
   "cell_type": "markdown",
   "metadata": {},
   "source": [
    "## Cluster at both the firm and year level"
   ]
  },
  {
   "cell_type": "code",
   "execution_count": null,
   "metadata": {},
   "outputs": [],
   "source": []
  },
  {
   "cell_type": "markdown",
   "metadata": {},
   "source": [
    "This is probably the specification that I would choose going forward since it accounts for both firm and time fixed effects and then adjusts for any remaining correlation in residuals along both of those dimensions."
   ]
  },
  {
   "cell_type": "markdown",
   "metadata": {},
   "source": [
    "## Clustering standard errors at the sector level\n",
    "\n",
    "We can cluster standard errors along other dimensions of correlation as well. Below we cluster at the industry level."
   ]
  },
  {
   "cell_type": "code",
   "execution_count": null,
   "metadata": {},
   "outputs": [],
   "source": []
  },
  {
   "cell_type": "markdown",
   "metadata": {},
   "source": [
    "Now the cash holdings variable is not even significant at the 45\\% confidence level. The different steps we went through in this lecture to make sure our results are trustworthy, show that the results of our analysis can change quite drastically once we take those steps: using a simple regression specification in the last lecture, it seemed like the cash holdings variable was the strongest predictor of future profitability (with a negative coefficient). Now, we see that in reality, the cash holdings variable is the only one that is NOT statistically significant in our regression."
   ]
  }
 ],
 "metadata": {
  "kernelspec": {
   "display_name": "Python 3 (ipykernel)",
   "language": "python",
   "name": "python3"
  },
  "language_info": {
   "codemirror_mode": {
    "name": "ipython",
    "version": 3
   },
   "file_extension": ".py",
   "mimetype": "text/x-python",
   "name": "python",
   "nbconvert_exporter": "python",
   "pygments_lexer": "ipython3",
   "version": "3.8.5"
  },
  "toc": {
   "base_numbering": 1,
   "nav_menu": {},
   "number_sections": true,
   "sideBar": true,
   "skip_h1_title": false,
   "title_cell": "Table of Contents",
   "title_sidebar": "Contents",
   "toc_cell": true,
   "toc_position": {
    "height": "calc(100% - 180px)",
    "left": "10px",
    "top": "150px",
    "width": "480px"
   },
   "toc_section_display": true,
   "toc_window_display": false
  }
 },
 "nbformat": 4,
 "nbformat_minor": 4
}
