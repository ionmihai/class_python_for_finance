{
 "cells": [
  {
   "cell_type": "markdown",
   "id": "5cfc9abd",
   "metadata": {},
   "source": [
    "Run the cells below:"
   ]
  },
  {
   "cell_type": "code",
   "execution_count": 1,
   "id": "09615c27",
   "metadata": {},
   "outputs": [],
   "source": [
    "import pandas as pd\n",
    "import numpy as np\n",
    "import statsmodels.api as sm\n",
    "import pandas_datareader as pdr"
   ]
  },
  {
   "cell_type": "code",
   "execution_count": 2,
   "id": "cbdae69b",
   "metadata": {},
   "outputs": [
    {
     "data": {
      "text/html": [
       "<div>\n",
       "<style scoped>\n",
       "    .dataframe tbody tr th:only-of-type {\n",
       "        vertical-align: middle;\n",
       "    }\n",
       "\n",
       "    .dataframe tbody tr th {\n",
       "        vertical-align: top;\n",
       "    }\n",
       "\n",
       "    .dataframe thead th {\n",
       "        text-align: right;\n",
       "    }\n",
       "</style>\n",
       "<table border=\"1\" class=\"dataframe\">\n",
       "  <thead>\n",
       "    <tr style=\"text-align: right;\">\n",
       "      <th></th>\n",
       "      <th>IPRO</th>\n",
       "      <th>EPU</th>\n",
       "    </tr>\n",
       "    <tr>\n",
       "      <th>DATE</th>\n",
       "      <th></th>\n",
       "      <th></th>\n",
       "    </tr>\n",
       "  </thead>\n",
       "  <tbody>\n",
       "    <tr>\n",
       "      <th>1985-01-01</th>\n",
       "      <td>54.7203</td>\n",
       "      <td>125.22474</td>\n",
       "    </tr>\n",
       "    <tr>\n",
       "      <th>1985-02-01</th>\n",
       "      <td>54.9100</td>\n",
       "      <td>99.02081</td>\n",
       "    </tr>\n",
       "    <tr>\n",
       "      <th>1985-03-01</th>\n",
       "      <td>54.9841</td>\n",
       "      <td>112.19051</td>\n",
       "    </tr>\n",
       "    <tr>\n",
       "      <th>1985-04-01</th>\n",
       "      <td>54.8853</td>\n",
       "      <td>102.81133</td>\n",
       "    </tr>\n",
       "    <tr>\n",
       "      <th>1985-05-01</th>\n",
       "      <td>54.9520</td>\n",
       "      <td>120.08273</td>\n",
       "    </tr>\n",
       "  </tbody>\n",
       "</table>\n",
       "</div>"
      ],
      "text/plain": [
       "               IPRO        EPU\n",
       "DATE                          \n",
       "1985-01-01  54.7203  125.22474\n",
       "1985-02-01  54.9100   99.02081\n",
       "1985-03-01  54.9841  112.19051\n",
       "1985-04-01  54.8853  102.81133\n",
       "1985-05-01  54.9520  120.08273"
      ]
     },
     "execution_count": 2,
     "metadata": {},
     "output_type": "execute_result"
    }
   ],
   "source": [
    "df = pdr.DataReader(name=['INDPRO','USEPUINDXM'], data_source='fred',\n",
    "                   start = '1985-01-01', end = '2020-12-31')\n",
    "\n",
    "df.rename(columns = {'INDPRO':'IPRO', 'USEPUINDXM':'EPU'}, inplace = True)\n",
    "df.head()"
   ]
  },
  {
   "cell_type": "code",
   "execution_count": 3,
   "id": "940ceb50",
   "metadata": {},
   "outputs": [
    {
     "data": {
      "text/html": [
       "<div>\n",
       "<style scoped>\n",
       "    .dataframe tbody tr th:only-of-type {\n",
       "        vertical-align: middle;\n",
       "    }\n",
       "\n",
       "    .dataframe tbody tr th {\n",
       "        vertical-align: top;\n",
       "    }\n",
       "\n",
       "    .dataframe thead th {\n",
       "        text-align: right;\n",
       "    }\n",
       "</style>\n",
       "<table border=\"1\" class=\"dataframe\">\n",
       "  <thead>\n",
       "    <tr style=\"text-align: right;\">\n",
       "      <th></th>\n",
       "      <th>IPRO</th>\n",
       "      <th>EPU</th>\n",
       "      <th>future_IPRO</th>\n",
       "      <th>const</th>\n",
       "    </tr>\n",
       "    <tr>\n",
       "      <th>DATE</th>\n",
       "      <th></th>\n",
       "      <th></th>\n",
       "      <th></th>\n",
       "      <th></th>\n",
       "    </tr>\n",
       "  </thead>\n",
       "  <tbody>\n",
       "    <tr>\n",
       "      <th>1985-01-01</th>\n",
       "      <td>54.7203</td>\n",
       "      <td>125.22474</td>\n",
       "      <td>1.1590</td>\n",
       "      <td>1</td>\n",
       "    </tr>\n",
       "    <tr>\n",
       "      <th>1985-02-01</th>\n",
       "      <td>54.9100</td>\n",
       "      <td>99.02081</td>\n",
       "      <td>0.5863</td>\n",
       "      <td>1</td>\n",
       "    </tr>\n",
       "    <tr>\n",
       "      <th>1985-03-01</th>\n",
       "      <td>54.9841</td>\n",
       "      <td>112.19051</td>\n",
       "      <td>0.1129</td>\n",
       "      <td>1</td>\n",
       "    </tr>\n",
       "    <tr>\n",
       "      <th>1985-04-01</th>\n",
       "      <td>54.8853</td>\n",
       "      <td>102.81133</td>\n",
       "      <td>0.2747</td>\n",
       "      <td>1</td>\n",
       "    </tr>\n",
       "    <tr>\n",
       "      <th>1985-05-01</th>\n",
       "      <td>54.9520</td>\n",
       "      <td>120.08273</td>\n",
       "      <td>0.3036</td>\n",
       "      <td>1</td>\n",
       "    </tr>\n",
       "    <tr>\n",
       "      <th>...</th>\n",
       "      <td>...</td>\n",
       "      <td>...</td>\n",
       "      <td>...</td>\n",
       "      <td>...</td>\n",
       "    </tr>\n",
       "    <tr>\n",
       "      <th>2019-08-01</th>\n",
       "      <td>102.6882</td>\n",
       "      <td>190.46324</td>\n",
       "      <td>-6.7958</td>\n",
       "      <td>1</td>\n",
       "    </tr>\n",
       "    <tr>\n",
       "      <th>2019-09-01</th>\n",
       "      <td>102.3143</td>\n",
       "      <td>134.36179</td>\n",
       "      <td>-6.7124</td>\n",
       "      <td>1</td>\n",
       "    </tr>\n",
       "    <tr>\n",
       "      <th>2019-10-01</th>\n",
       "      <td>101.4645</td>\n",
       "      <td>118.48822</td>\n",
       "      <td>-4.8191</td>\n",
       "      <td>1</td>\n",
       "    </tr>\n",
       "    <tr>\n",
       "      <th>2019-11-01</th>\n",
       "      <td>101.9876</td>\n",
       "      <td>131.75070</td>\n",
       "      <td>-4.8267</td>\n",
       "      <td>1</td>\n",
       "    </tr>\n",
       "    <tr>\n",
       "      <th>2019-12-01</th>\n",
       "      <td>101.6179</td>\n",
       "      <td>143.46724</td>\n",
       "      <td>-3.3325</td>\n",
       "      <td>1</td>\n",
       "    </tr>\n",
       "  </tbody>\n",
       "</table>\n",
       "<p>420 rows × 4 columns</p>\n",
       "</div>"
      ],
      "text/plain": [
       "                IPRO        EPU  future_IPRO  const\n",
       "DATE                                               \n",
       "1985-01-01   54.7203  125.22474       1.1590      1\n",
       "1985-02-01   54.9100   99.02081       0.5863      1\n",
       "1985-03-01   54.9841  112.19051       0.1129      1\n",
       "1985-04-01   54.8853  102.81133       0.2747      1\n",
       "1985-05-01   54.9520  120.08273       0.3036      1\n",
       "...              ...        ...          ...    ...\n",
       "2019-08-01  102.6882  190.46324      -6.7958      1\n",
       "2019-09-01  102.3143  134.36179      -6.7124      1\n",
       "2019-10-01  101.4645  118.48822      -4.8191      1\n",
       "2019-11-01  101.9876  131.75070      -4.8267      1\n",
       "2019-12-01  101.6179  143.46724      -3.3325      1\n",
       "\n",
       "[420 rows x 4 columns]"
      ]
     },
     "execution_count": 3,
     "metadata": {},
     "output_type": "execute_result"
    }
   ],
   "source": [
    "df = df.sort_index()\n",
    "df['future_IPRO'] = df['IPRO'].shift(-12) - df['IPRO'] #i.e. the 12-month future change in IPRO\n",
    "df['const'] = 1\n",
    "df.dropna(inplace = True)\n",
    "df"
   ]
  },
  {
   "cell_type": "markdown",
   "id": "b4253031",
   "metadata": {},
   "source": [
    "Regress future industrial production changes (``future_IPRO``) on current policy uncertainty (``EPU``) and the constant."
   ]
  },
  {
   "cell_type": "code",
   "execution_count": 4,
   "id": "7e53b861",
   "metadata": {},
   "outputs": [
    {
     "name": "stdout",
     "output_type": "stream",
     "text": [
      "                            OLS Regression Results                            \n",
      "==============================================================================\n",
      "Dep. Variable:            future_IPRO   R-squared:                       0.010\n",
      "Model:                            OLS   Adj. R-squared:                  0.008\n",
      "Method:                 Least Squares   F-statistic:                     4.391\n",
      "Date:                Thu, 03 Mar 2022   Prob (F-statistic):             0.0367\n",
      "Time:                        11:18:56   Log-Likelihood:                -1148.2\n",
      "No. Observations:                 420   AIC:                             2300.\n",
      "Df Residuals:                     418   BIC:                             2309.\n",
      "Df Model:                           1                                         \n",
      "Covariance Type:            nonrobust                                         \n",
      "==============================================================================\n",
      "                 coef    std err          t      P>|t|      [0.025      0.975]\n",
      "------------------------------------------------------------------------------\n",
      "const          2.4543      0.652      3.767      0.000       1.173       3.735\n",
      "EPU           -0.0120      0.006     -2.096      0.037      -0.023      -0.001\n",
      "==============================================================================\n",
      "Omnibus:                      223.792   Durbin-Watson:                   0.086\n",
      "Prob(Omnibus):                  0.000   Jarque-Bera (JB):             1264.930\n",
      "Skew:                          -2.317   Prob(JB):                    2.11e-275\n",
      "Kurtosis:                      10.128   Cond. No.                         407.\n",
      "==============================================================================\n",
      "\n",
      "Notes:\n",
      "[1] Standard Errors assume that the covariance matrix of the errors is correctly specified.\n"
     ]
    }
   ],
   "source": [
    "res = sm.OLS(endog = df['future_IPRO'],\n",
    "            exog = df[['const','EPU']],\n",
    "            missing = 'drop').fit()\n",
    "print(res.summary())"
   ]
  },
  {
   "cell_type": "markdown",
   "id": "04e0cd77",
   "metadata": {},
   "source": [
    "Using the regression results above, does economic policy uncertainty have a statistically significant effect on changes in future industrial production at the 95\\% confidence level?"
   ]
  },
  {
   "cell_type": "markdown",
   "id": "5b5802e4",
   "metadata": {},
   "source": [
    "A: Yes, because the p-value for the EPU coefficient is lower than 5\\%."
   ]
  },
  {
   "cell_type": "code",
   "execution_count": 5,
   "id": "d2de67f5",
   "metadata": {
    "scrolled": true
   },
   "outputs": [
    {
     "data": {
      "text/plain": [
       "0.036719745741563246"
      ]
     },
     "execution_count": 5,
     "metadata": {},
     "output_type": "execute_result"
    }
   ],
   "source": [
    "res.pvalues['EPU']"
   ]
  },
  {
   "cell_type": "markdown",
   "id": "fa6fc2b1",
   "metadata": {},
   "source": [
    "Using the results of the regression above, what is the expected change in industrial production over the next 12 months, if the current policy uncertainty level is 100?"
   ]
  },
  {
   "cell_type": "code",
   "execution_count": 6,
   "id": "752bab31",
   "metadata": {},
   "outputs": [
    {
     "data": {
      "text/plain": [
       "1.2535762168107683"
      ]
     },
     "execution_count": 6,
     "metadata": {},
     "output_type": "execute_result"
    }
   ],
   "source": [
    "res.params['const'] + res.params['EPU'] * 100"
   ]
  },
  {
   "cell_type": "markdown",
   "id": "842c62d3",
   "metadata": {},
   "source": [
    "Using the results of the regression above (and only the data available in ``df``), what is the expected change in industrial production over the next 12 months?"
   ]
  },
  {
   "cell_type": "code",
   "execution_count": 7,
   "id": "e05d5956",
   "metadata": {},
   "outputs": [
    {
     "data": {
      "text/plain": [
       "109.18576304761908"
      ]
     },
     "execution_count": 7,
     "metadata": {},
     "output_type": "execute_result"
    }
   ],
   "source": [
    "expected_epu = df['EPU'].mean()\n",
    "expected_epu"
   ]
  },
  {
   "cell_type": "code",
   "execution_count": 8,
   "id": "4367ba59",
   "metadata": {},
   "outputs": [
    {
     "data": {
      "text/plain": [
       "1.1432819047619052"
      ]
     },
     "execution_count": 8,
     "metadata": {},
     "output_type": "execute_result"
    }
   ],
   "source": [
    "expected_change_in_ipro = res.params['const'] + res.params['EPU'] * expected_epu\n",
    "expected_change_in_ipro"
   ]
  },
  {
   "cell_type": "markdown",
   "id": "bfdb1ccf",
   "metadata": {},
   "source": [
    "Create a dummy variable called ``after2000`` which equals 1 after the year 2000 and 0 before. Then interact this dummy variable with the ``EPU`` variable and call this interaction variable ``EPU_x_after2000``. "
   ]
  },
  {
   "cell_type": "code",
   "execution_count": 9,
   "id": "f3e94c40",
   "metadata": {},
   "outputs": [
    {
     "data": {
      "text/html": [
       "<div>\n",
       "<style scoped>\n",
       "    .dataframe tbody tr th:only-of-type {\n",
       "        vertical-align: middle;\n",
       "    }\n",
       "\n",
       "    .dataframe tbody tr th {\n",
       "        vertical-align: top;\n",
       "    }\n",
       "\n",
       "    .dataframe thead th {\n",
       "        text-align: right;\n",
       "    }\n",
       "</style>\n",
       "<table border=\"1\" class=\"dataframe\">\n",
       "  <thead>\n",
       "    <tr style=\"text-align: right;\">\n",
       "      <th></th>\n",
       "      <th>IPRO</th>\n",
       "      <th>EPU</th>\n",
       "      <th>future_IPRO</th>\n",
       "      <th>const</th>\n",
       "      <th>year</th>\n",
       "      <th>after2000</th>\n",
       "      <th>EPU_x_after2000</th>\n",
       "    </tr>\n",
       "    <tr>\n",
       "      <th>DATE</th>\n",
       "      <th></th>\n",
       "      <th></th>\n",
       "      <th></th>\n",
       "      <th></th>\n",
       "      <th></th>\n",
       "      <th></th>\n",
       "      <th></th>\n",
       "    </tr>\n",
       "  </thead>\n",
       "  <tbody>\n",
       "    <tr>\n",
       "      <th>1985-01-01</th>\n",
       "      <td>54.7203</td>\n",
       "      <td>125.22474</td>\n",
       "      <td>1.1590</td>\n",
       "      <td>1</td>\n",
       "      <td>1985</td>\n",
       "      <td>0</td>\n",
       "      <td>0.00000</td>\n",
       "    </tr>\n",
       "    <tr>\n",
       "      <th>1985-02-01</th>\n",
       "      <td>54.9100</td>\n",
       "      <td>99.02081</td>\n",
       "      <td>0.5863</td>\n",
       "      <td>1</td>\n",
       "      <td>1985</td>\n",
       "      <td>0</td>\n",
       "      <td>0.00000</td>\n",
       "    </tr>\n",
       "    <tr>\n",
       "      <th>1985-03-01</th>\n",
       "      <td>54.9841</td>\n",
       "      <td>112.19051</td>\n",
       "      <td>0.1129</td>\n",
       "      <td>1</td>\n",
       "      <td>1985</td>\n",
       "      <td>0</td>\n",
       "      <td>0.00000</td>\n",
       "    </tr>\n",
       "    <tr>\n",
       "      <th>1985-04-01</th>\n",
       "      <td>54.8853</td>\n",
       "      <td>102.81133</td>\n",
       "      <td>0.2747</td>\n",
       "      <td>1</td>\n",
       "      <td>1985</td>\n",
       "      <td>0</td>\n",
       "      <td>0.00000</td>\n",
       "    </tr>\n",
       "    <tr>\n",
       "      <th>1985-05-01</th>\n",
       "      <td>54.9520</td>\n",
       "      <td>120.08273</td>\n",
       "      <td>0.3036</td>\n",
       "      <td>1</td>\n",
       "      <td>1985</td>\n",
       "      <td>0</td>\n",
       "      <td>0.00000</td>\n",
       "    </tr>\n",
       "    <tr>\n",
       "      <th>...</th>\n",
       "      <td>...</td>\n",
       "      <td>...</td>\n",
       "      <td>...</td>\n",
       "      <td>...</td>\n",
       "      <td>...</td>\n",
       "      <td>...</td>\n",
       "      <td>...</td>\n",
       "    </tr>\n",
       "    <tr>\n",
       "      <th>2019-08-01</th>\n",
       "      <td>102.6882</td>\n",
       "      <td>190.46324</td>\n",
       "      <td>-6.7958</td>\n",
       "      <td>1</td>\n",
       "      <td>2019</td>\n",
       "      <td>1</td>\n",
       "      <td>190.46324</td>\n",
       "    </tr>\n",
       "    <tr>\n",
       "      <th>2019-09-01</th>\n",
       "      <td>102.3143</td>\n",
       "      <td>134.36179</td>\n",
       "      <td>-6.7124</td>\n",
       "      <td>1</td>\n",
       "      <td>2019</td>\n",
       "      <td>1</td>\n",
       "      <td>134.36179</td>\n",
       "    </tr>\n",
       "    <tr>\n",
       "      <th>2019-10-01</th>\n",
       "      <td>101.4645</td>\n",
       "      <td>118.48822</td>\n",
       "      <td>-4.8191</td>\n",
       "      <td>1</td>\n",
       "      <td>2019</td>\n",
       "      <td>1</td>\n",
       "      <td>118.48822</td>\n",
       "    </tr>\n",
       "    <tr>\n",
       "      <th>2019-11-01</th>\n",
       "      <td>101.9876</td>\n",
       "      <td>131.75070</td>\n",
       "      <td>-4.8267</td>\n",
       "      <td>1</td>\n",
       "      <td>2019</td>\n",
       "      <td>1</td>\n",
       "      <td>131.75070</td>\n",
       "    </tr>\n",
       "    <tr>\n",
       "      <th>2019-12-01</th>\n",
       "      <td>101.6179</td>\n",
       "      <td>143.46724</td>\n",
       "      <td>-3.3325</td>\n",
       "      <td>1</td>\n",
       "      <td>2019</td>\n",
       "      <td>1</td>\n",
       "      <td>143.46724</td>\n",
       "    </tr>\n",
       "  </tbody>\n",
       "</table>\n",
       "<p>420 rows × 7 columns</p>\n",
       "</div>"
      ],
      "text/plain": [
       "                IPRO        EPU  future_IPRO  const  year  after2000  \\\n",
       "DATE                                                                   \n",
       "1985-01-01   54.7203  125.22474       1.1590      1  1985          0   \n",
       "1985-02-01   54.9100   99.02081       0.5863      1  1985          0   \n",
       "1985-03-01   54.9841  112.19051       0.1129      1  1985          0   \n",
       "1985-04-01   54.8853  102.81133       0.2747      1  1985          0   \n",
       "1985-05-01   54.9520  120.08273       0.3036      1  1985          0   \n",
       "...              ...        ...          ...    ...   ...        ...   \n",
       "2019-08-01  102.6882  190.46324      -6.7958      1  2019          1   \n",
       "2019-09-01  102.3143  134.36179      -6.7124      1  2019          1   \n",
       "2019-10-01  101.4645  118.48822      -4.8191      1  2019          1   \n",
       "2019-11-01  101.9876  131.75070      -4.8267      1  2019          1   \n",
       "2019-12-01  101.6179  143.46724      -3.3325      1  2019          1   \n",
       "\n",
       "            EPU_x_after2000  \n",
       "DATE                         \n",
       "1985-01-01          0.00000  \n",
       "1985-02-01          0.00000  \n",
       "1985-03-01          0.00000  \n",
       "1985-04-01          0.00000  \n",
       "1985-05-01          0.00000  \n",
       "...                     ...  \n",
       "2019-08-01        190.46324  \n",
       "2019-09-01        134.36179  \n",
       "2019-10-01        118.48822  \n",
       "2019-11-01        131.75070  \n",
       "2019-12-01        143.46724  \n",
       "\n",
       "[420 rows x 7 columns]"
      ]
     },
     "execution_count": 9,
     "metadata": {},
     "output_type": "execute_result"
    }
   ],
   "source": [
    "df['year'] = df.index.to_series().dt.year\n",
    "df['after2000'] = np.where(df['year'] > 2000, 1, 0)\n",
    "df['EPU_x_after2000'] = df['EPU'] * df['after2000']\n",
    "df"
   ]
  },
  {
   "cell_type": "markdown",
   "id": "eab0a435",
   "metadata": {},
   "source": [
    "Regress ``future_IPRO`` on the ``EPU`` variable, the ``after2000`` dummy variable, and the interaction term you created above. "
   ]
  },
  {
   "cell_type": "code",
   "execution_count": 10,
   "id": "321f7f75",
   "metadata": {},
   "outputs": [
    {
     "name": "stdout",
     "output_type": "stream",
     "text": [
      "                            OLS Regression Results                            \n",
      "==============================================================================\n",
      "Dep. Variable:            future_IPRO   R-squared:                       0.081\n",
      "Model:                            OLS   Adj. R-squared:                  0.075\n",
      "Method:                 Least Squares   F-statistic:                     12.29\n",
      "Date:                Thu, 03 Mar 2022   Prob (F-statistic):           1.02e-07\n",
      "Time:                        11:18:56   Log-Likelihood:                -1132.6\n",
      "No. Observations:                 420   AIC:                             2273.\n",
      "Df Residuals:                     416   BIC:                             2289.\n",
      "Df Model:                           3                                         \n",
      "Covariance Type:            nonrobust                                         \n",
      "===================================================================================\n",
      "                      coef    std err          t      P>|t|      [0.025      0.975]\n",
      "-----------------------------------------------------------------------------------\n",
      "const               5.0772      1.142      4.446      0.000       2.833       7.322\n",
      "EPU                -0.0289      0.011     -2.599      0.010      -0.051      -0.007\n",
      "after2000          -5.3292      1.404     -3.795      0.000      -8.090      -2.569\n",
      "EPU_x_after2000     0.0333      0.013      2.566      0.011       0.008       0.059\n",
      "==============================================================================\n",
      "Omnibus:                      209.508   Durbin-Watson:                   0.091\n",
      "Prob(Omnibus):                  0.000   Jarque-Bera (JB):             1064.544\n",
      "Skew:                          -2.181   Prob(JB):                    6.87e-232\n",
      "Kurtosis:                       9.465   Cond. No.                     1.35e+03\n",
      "==============================================================================\n",
      "\n",
      "Notes:\n",
      "[1] Standard Errors assume that the covariance matrix of the errors is correctly specified.\n",
      "[2] The condition number is large, 1.35e+03. This might indicate that there are\n",
      "strong multicollinearity or other numerical problems.\n"
     ]
    }
   ],
   "source": [
    "res = sm.OLS(endog = df['future_IPRO'],\n",
    "            exog = df[['const','EPU','after2000','EPU_x_after2000']],\n",
    "            missing = 'drop').fit()\n",
    "print(res.summary())"
   ]
  },
  {
   "cell_type": "markdown",
   "id": "25b9c1db",
   "metadata": {},
   "source": [
    "Based on the results of this last regression, **prior to the year 2000**, does economic policy uncertainty have a significant effect on future changes in industrial production at the 95\\% confidence level?"
   ]
  },
  {
   "cell_type": "markdown",
   "id": "1bf31a4f",
   "metadata": {},
   "source": [
    "A: Yes, because prior to 2000, ``after2000`` equals 0, so the effect of EPU is just given by the coefficient on the ``EPU`` variable itself. This coefficient has a p-value smaller than 5\\%, so we have a significant effect prior to 2000:"
   ]
  },
  {
   "cell_type": "code",
   "execution_count": 11,
   "id": "d9e0d6d0",
   "metadata": {},
   "outputs": [
    {
     "data": {
      "text/plain": [
       "0.009688993808765865"
      ]
     },
     "execution_count": 11,
     "metadata": {},
     "output_type": "execute_result"
    }
   ],
   "source": [
    "res.pvalues['EPU']"
   ]
  },
  {
   "cell_type": "markdown",
   "id": "c79eec10",
   "metadata": {},
   "source": [
    "Based on the results of this last regression, is the effect of economic policy uncertainty on future changes in industrial production significantly weaker (not as negative) after the year 2000 then prior to 2000 (at the 95\\% confidence level)?"
   ]
  },
  {
   "cell_type": "markdown",
   "id": "95ec5e13",
   "metadata": {},
   "source": [
    "A: Yes, because the difference in the effect of EPU (its effect after 2000 minus its effect before 2000) is given by the coefficient on the interaction term ``EPU_x_after2000`` (see the lecture notes for a more detailed explanation). Since we are performing a one-sided test (i.e. if the effect is **weaker** (larger in absolute terms), not just different), the appropriate p-value is **half** the p-value reported in the regression. This turns out to be lower than 5\\% so we can conclude that the EPU effect is significantly weaker after 2000 than before 2000."
   ]
  },
  {
   "cell_type": "code",
   "execution_count": 12,
   "id": "8862505f",
   "metadata": {},
   "outputs": [
    {
     "data": {
      "text/plain": [
       "0.005314581574386978"
      ]
     },
     "execution_count": 12,
     "metadata": {},
     "output_type": "execute_result"
    }
   ],
   "source": [
    "res.pvalues['EPU_x_after2000'] / 2"
   ]
  }
 ],
 "metadata": {
  "kernelspec": {
   "display_name": "Python 3",
   "language": "python",
   "name": "python3"
  },
  "language_info": {
   "codemirror_mode": {
    "name": "ipython",
    "version": 3
   },
   "file_extension": ".py",
   "mimetype": "text/x-python",
   "name": "python",
   "nbconvert_exporter": "python",
   "pygments_lexer": "ipython3",
   "version": "3.9.7"
  },
  "toc": {
   "base_numbering": 1,
   "nav_menu": {},
   "number_sections": true,
   "sideBar": true,
   "skip_h1_title": false,
   "title_cell": "Table of Contents",
   "title_sidebar": "Contents",
   "toc_cell": false,
   "toc_position": {},
   "toc_section_display": true,
   "toc_window_display": false
  }
 },
 "nbformat": 4,
 "nbformat_minor": 5
}
