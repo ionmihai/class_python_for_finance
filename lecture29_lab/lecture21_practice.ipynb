{
 "cells": [
  {
   "cell_type": "markdown",
   "id": "655b9f05",
   "metadata": {},
   "source": [
    "Run the cells below:"
   ]
  },
  {
   "cell_type": "code",
   "execution_count": null,
   "id": "ebb98c9a",
   "metadata": {},
   "outputs": [],
   "source": [
    "import pandas as pd\n",
    "import statsmodels.api as sm\n",
    "from linearmodels import PanelOLS"
   ]
  },
  {
   "cell_type": "code",
   "execution_count": null,
   "id": "7b690da9",
   "metadata": {},
   "outputs": [],
   "source": [
    "comp = pd.read_pickle('../data/comp_clean.zip')\n",
    "comp.dtypes"
   ]
  },
  {
   "cell_type": "code",
   "execution_count": null,
   "id": "d08bf549",
   "metadata": {},
   "outputs": [],
   "source": [
    "comp = comp.sort_values(['permno','year'])\n",
    "comp['future_invest'] = comp.groupby('permno')['investment'].shift(-1)  "
   ]
  },
  {
   "cell_type": "code",
   "execution_count": null,
   "id": "5a01e71b",
   "metadata": {},
   "outputs": [],
   "source": [
    "for v in ['future_invest','roa', 'cash']:\n",
    "    comp[f'w5_{v}'] = comp[v].clip(lower=comp[v].quantile(0.05), upper=comp[v].quantile(0.95))\n",
    "    \n",
    "comp[['w5_future_invest','w5_roa', 'w5_cash']].agg(['mean','std'])"
   ]
  },
  {
   "cell_type": "code",
   "execution_count": null,
   "id": "09955646",
   "metadata": {},
   "outputs": [],
   "source": [
    "df = comp[['permno','year','w5_future_invest','w5_roa', 'w5_cash','const']].copy().dropna()\n",
    "df.set_index(['permno','year'], inplace=True)"
   ]
  },
  {
   "cell_type": "markdown",
   "id": "555ce942",
   "metadata": {},
   "source": [
    "Regress ``w5_future_invest`` on ``w5_roa`` and ``w5_cash`` (and a constant). Use firm fixed effects in your regression."
   ]
  },
  {
   "cell_type": "code",
   "execution_count": null,
   "id": "04c4da59",
   "metadata": {},
   "outputs": [],
   "source": []
  },
  {
   "cell_type": "markdown",
   "id": "7a0236f7",
   "metadata": {},
   "source": [
    "Regress ``w5_future_invest`` on ``w5_roa`` and ``w5_cash`` (and a constant). Use time fixed effects in your regression."
   ]
  },
  {
   "cell_type": "code",
   "execution_count": null,
   "id": "c3c9e643",
   "metadata": {},
   "outputs": [],
   "source": []
  },
  {
   "cell_type": "markdown",
   "id": "99781677",
   "metadata": {},
   "source": [
    "Regress ``w5_future_invest`` on ``w5_roa`` and ``w5_cash`` (and a constant). Use both firm fixed-effects and time fixed-effects in your regression. Cluster standard errors at the firm level."
   ]
  },
  {
   "cell_type": "code",
   "execution_count": null,
   "id": "af1246fa",
   "metadata": {},
   "outputs": [],
   "source": []
  },
  {
   "cell_type": "markdown",
   "id": "08562c88",
   "metadata": {},
   "source": [
    "Regress ``w5_future_invest`` on ``w5_roa`` and ``w5_cash`` (and a constant). Use both firm fixed-effects and time fixed-effects in your regression. Cluster standard errors at the firm and year level."
   ]
  },
  {
   "cell_type": "code",
   "execution_count": null,
   "id": "35ff0e8d",
   "metadata": {},
   "outputs": [],
   "source": []
  }
 ],
 "metadata": {
  "kernelspec": {
   "display_name": "Python 3 (ipykernel)",
   "language": "python",
   "name": "python3"
  },
  "language_info": {
   "codemirror_mode": {
    "name": "ipython",
    "version": 3
   },
   "file_extension": ".py",
   "mimetype": "text/x-python",
   "name": "python",
   "nbconvert_exporter": "python",
   "pygments_lexer": "ipython3",
   "version": "3.8.5"
  },
  "toc": {
   "base_numbering": 1,
   "nav_menu": {},
   "number_sections": true,
   "sideBar": true,
   "skip_h1_title": false,
   "title_cell": "Table of Contents",
   "title_sidebar": "Contents",
   "toc_cell": false,
   "toc_position": {},
   "toc_section_display": true,
   "toc_window_display": false
  }
 },
 "nbformat": 4,
 "nbformat_minor": 5
}
