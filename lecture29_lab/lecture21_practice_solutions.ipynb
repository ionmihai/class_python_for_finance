{
 "cells": [
  {
   "cell_type": "markdown",
   "id": "655b9f05",
   "metadata": {},
   "source": [
    "Run the cells below:"
   ]
  },
  {
   "cell_type": "code",
   "execution_count": 1,
   "id": "ebb98c9a",
   "metadata": {},
   "outputs": [],
   "source": [
    "import pandas as pd\n",
    "import statsmodels.api as sm\n",
    "from linearmodels import PanelOLS"
   ]
  },
  {
   "cell_type": "code",
   "execution_count": 2,
   "id": "7b690da9",
   "metadata": {},
   "outputs": [
    {
     "data": {
      "text/plain": [
       "permno          float64\n",
       "datadate         object\n",
       "ib              float64\n",
       "at              float64\n",
       "che             float64\n",
       "dltt            float64\n",
       "ppent           float64\n",
       "sich            float64\n",
       "year              int64\n",
       "roa             float64\n",
       "future_roa      float64\n",
       "cash            float64\n",
       "leverage        float64\n",
       "investment      float64\n",
       "w_future_roa    float64\n",
       "w_cash          float64\n",
       "w_leverage      float64\n",
       "w_investment    float64\n",
       "const             int64\n",
       "dtype: object"
      ]
     },
     "execution_count": 2,
     "metadata": {},
     "output_type": "execute_result"
    }
   ],
   "source": [
    "comp = pd.read_pickle('../data/comp_clean.zip')\n",
    "comp.dtypes"
   ]
  },
  {
   "cell_type": "code",
   "execution_count": 3,
   "id": "d08bf549",
   "metadata": {},
   "outputs": [],
   "source": [
    "comp = comp.sort_values(['permno','year'])\n",
    "comp['future_invest'] = comp.groupby('permno')['investment'].shift(-1)  "
   ]
  },
  {
   "cell_type": "code",
   "execution_count": 4,
   "id": "b9ec7452",
   "metadata": {},
   "outputs": [
    {
     "data": {
      "text/html": [
       "<div>\n",
       "<style scoped>\n",
       "    .dataframe tbody tr th:only-of-type {\n",
       "        vertical-align: middle;\n",
       "    }\n",
       "\n",
       "    .dataframe tbody tr th {\n",
       "        vertical-align: top;\n",
       "    }\n",
       "\n",
       "    .dataframe thead th {\n",
       "        text-align: right;\n",
       "    }\n",
       "</style>\n",
       "<table border=\"1\" class=\"dataframe\">\n",
       "  <thead>\n",
       "    <tr style=\"text-align: right;\">\n",
       "      <th></th>\n",
       "      <th>w5_future_invest</th>\n",
       "      <th>w5_roa</th>\n",
       "      <th>w5_cash</th>\n",
       "    </tr>\n",
       "  </thead>\n",
       "  <tbody>\n",
       "    <tr>\n",
       "      <th>mean</th>\n",
       "      <td>0.016095</td>\n",
       "      <td>-0.027871</td>\n",
       "      <td>0.167850</td>\n",
       "    </tr>\n",
       "    <tr>\n",
       "      <th>std</th>\n",
       "      <td>0.055204</td>\n",
       "      <td>0.166513</td>\n",
       "      <td>0.198858</td>\n",
       "    </tr>\n",
       "  </tbody>\n",
       "</table>\n",
       "</div>"
      ],
      "text/plain": [
       "      w5_future_invest    w5_roa   w5_cash\n",
       "mean          0.016095 -0.027871  0.167850\n",
       "std           0.055204  0.166513  0.198858"
      ]
     },
     "execution_count": 4,
     "metadata": {},
     "output_type": "execute_result"
    }
   ],
   "source": [
    "for v in ['future_invest','roa', 'cash']:\n",
    "    comp[f'w5_{v}'] = comp[v].clip(lower=comp[v].quantile(0.05), upper=comp[v].quantile(0.95))\n",
    "    \n",
    "comp[['w5_future_invest','w5_roa', 'w5_cash']].agg(['mean','std'])"
   ]
  },
  {
   "cell_type": "code",
   "execution_count": 5,
   "id": "49999616",
   "metadata": {},
   "outputs": [],
   "source": [
    "df = comp[['permno','year','w5_future_invest','w5_roa', 'w5_cash','const']].copy().dropna()\n",
    "df.set_index(['permno','year'], inplace=True)"
   ]
  },
  {
   "cell_type": "markdown",
   "id": "bed64bb3",
   "metadata": {},
   "source": [
    "Regress ``w5_future_invest`` on ``w5_roa`` and ``w5_cash`` (and a constant). Use firm fixed effects in your regression."
   ]
  },
  {
   "cell_type": "code",
   "execution_count": 6,
   "id": "f42dd0d6",
   "metadata": {},
   "outputs": [
    {
     "name": "stdout",
     "output_type": "stream",
     "text": [
      "                          PanelOLS Estimation Summary                           \n",
      "================================================================================\n",
      "Dep. Variable:       w5_future_invest   R-squared:                        0.0651\n",
      "Estimator:                   PanelOLS   R-squared (Between):             -0.0374\n",
      "No. Observations:              206817   R-squared (Within):               0.0651\n",
      "Date:                Thu, Mar 03 2022   R-squared (Overall):              0.0165\n",
      "Time:                        14:27:00   Log-likelihood                   3.4e+05\n",
      "Cov. Estimator:            Unadjusted                                           \n",
      "                                        F-statistic:                      6457.4\n",
      "Entities:                       21454   P-value                           0.0000\n",
      "Avg Obs:                       9.6400   Distribution:                F(2,185361)\n",
      "Min Obs:                       1.0000                                           \n",
      "Max Obs:                       81.000   F-statistic (robust):             6457.4\n",
      "                                        P-value                           0.0000\n",
      "Time periods:                      41   Distribution:                F(2,185361)\n",
      "Avg Obs:                       5044.3                                           \n",
      "Min Obs:                       6.0000                                           \n",
      "Max Obs:                       7156.0                                           \n",
      "                                                                                \n",
      "                             Parameter Estimates                              \n",
      "==============================================================================\n",
      "            Parameter  Std. Err.     T-stat    P-value    Lower CI    Upper CI\n",
      "------------------------------------------------------------------------------\n",
      "const          0.0055     0.0002     25.639     0.0000      0.0051      0.0059\n",
      "w5_roa         0.0947     0.0011     86.477     0.0000      0.0925      0.0968\n",
      "w5_cash        0.0736     0.0011     68.513     0.0000      0.0715      0.0757\n",
      "==============================================================================\n",
      "\n",
      "F-test for Poolability: 2.8872\n",
      "P-value: 0.0000\n",
      "Distribution: F(21453,185361)\n",
      "\n",
      "Included effects: Entity\n"
     ]
    }
   ],
   "source": [
    "res = PanelOLS(dependent = df['w5_future_invest'], \n",
    "                          exog = df[['const','w5_roa', 'w5_cash']], \n",
    "                          entity_effects = True\n",
    "                         ).fit();\n",
    "print(res.summary)"
   ]
  },
  {
   "cell_type": "markdown",
   "id": "3475b94e",
   "metadata": {},
   "source": [
    "Regress ``w5_future_invest`` on ``w5_roa`` and ``w5_cash`` (and a constant). Use time fixed effects in your regression."
   ]
  },
  {
   "cell_type": "code",
   "execution_count": 7,
   "id": "f575aa38",
   "metadata": {},
   "outputs": [
    {
     "name": "stdout",
     "output_type": "stream",
     "text": [
      "                          PanelOLS Estimation Summary                           \n",
      "================================================================================\n",
      "Dep. Variable:       w5_future_invest   R-squared:                        0.0410\n",
      "Estimator:                   PanelOLS   R-squared (Between):              0.0194\n",
      "No. Observations:              206817   R-squared (Within):               0.0536\n",
      "Date:                Thu, Mar 03 2022   R-squared (Overall):              0.0425\n",
      "Time:                        14:27:01   Log-likelihood                 3.121e+05\n",
      "Cov. Estimator:            Unadjusted                                           \n",
      "                                        F-statistic:                      4417.5\n",
      "Entities:                       21454   P-value                           0.0000\n",
      "Avg Obs:                       9.6400   Distribution:                F(2,206774)\n",
      "Min Obs:                       1.0000                                           \n",
      "Max Obs:                       81.000   F-statistic (robust):             4417.5\n",
      "                                        P-value                           0.0000\n",
      "Time periods:                      41   Distribution:                F(2,206774)\n",
      "Avg Obs:                       5044.3                                           \n",
      "Min Obs:                       6.0000                                           \n",
      "Max Obs:                       7156.0                                           \n",
      "                                                                                \n",
      "                             Parameter Estimates                              \n",
      "==============================================================================\n",
      "            Parameter  Std. Err.     T-stat    P-value    Lower CI    Upper CI\n",
      "------------------------------------------------------------------------------\n",
      "const          0.0127     0.0002     81.198     0.0000      0.0124      0.0130\n",
      "w5_roa         0.0722     0.0008     92.411     0.0000      0.0707      0.0737\n",
      "w5_cash        0.0286     0.0006     45.409     0.0000      0.0273      0.0298\n",
      "==============================================================================\n",
      "\n",
      "F-test for Poolability: 100.67\n",
      "P-value: 0.0000\n",
      "Distribution: F(40,206774)\n",
      "\n",
      "Included effects: Time\n"
     ]
    }
   ],
   "source": [
    "res = PanelOLS(dependent = df['w5_future_invest'], \n",
    "              exog = df[['const','w5_roa', 'w5_cash']], \n",
    "              time_effects = True\n",
    "             ).fit();\n",
    "print(res.summary)"
   ]
  },
  {
   "cell_type": "markdown",
   "id": "7c5ef69d",
   "metadata": {},
   "source": [
    "Regress ``w5_future_invest`` on ``w5_roa`` and ``w5_cash`` (and a constant). Use both firm fixed-effects and time fixed-effects in your regression. Cluster standard errors at the firm level."
   ]
  },
  {
   "cell_type": "code",
   "execution_count": 8,
   "id": "6032c1b2",
   "metadata": {},
   "outputs": [
    {
     "name": "stdout",
     "output_type": "stream",
     "text": [
      "                          PanelOLS Estimation Summary                           \n",
      "================================================================================\n",
      "Dep. Variable:       w5_future_invest   R-squared:                        0.0602\n",
      "Estimator:                   PanelOLS   R-squared (Between):             -0.0312\n",
      "No. Observations:              206817   R-squared (Within):               0.0650\n",
      "Date:                Thu, Mar 03 2022   R-squared (Overall):              0.0187\n",
      "Time:                        14:27:02   Log-likelihood                 3.429e+05\n",
      "Cov. Estimator:             Clustered                                           \n",
      "                                        F-statistic:                      5933.8\n",
      "Entities:                       21454   P-value                           0.0000\n",
      "Avg Obs:                       9.6400   Distribution:                F(2,185321)\n",
      "Min Obs:                       1.0000                                           \n",
      "Max Obs:                       81.000   F-statistic (robust):             2300.9\n",
      "                                        P-value                           0.0000\n",
      "Time periods:                      41   Distribution:                F(2,185321)\n",
      "Avg Obs:                       5044.3                                           \n",
      "Min Obs:                       6.0000                                           \n",
      "Max Obs:                       7156.0                                           \n",
      "                                                                                \n",
      "                             Parameter Estimates                              \n",
      "==============================================================================\n",
      "            Parameter  Std. Err.     T-stat    P-value    Lower CI    Upper CI\n",
      "------------------------------------------------------------------------------\n",
      "const          0.0058     0.0003     20.709     0.0000      0.0052      0.0063\n",
      "w5_roa         0.0891     0.0017     53.414     0.0000      0.0859      0.0924\n",
      "w5_cash        0.0714     0.0016     43.833     0.0000      0.0682      0.0746\n",
      "==============================================================================\n",
      "\n",
      "F-test for Poolability: 3.2106\n",
      "P-value: 0.0000\n",
      "Distribution: F(21493,185321)\n",
      "\n",
      "Included effects: Entity, Time\n"
     ]
    }
   ],
   "source": [
    "res = PanelOLS(dependent = df['w5_future_invest'], \n",
    "              exog = df[['const','w5_roa', 'w5_cash']], \n",
    "              entity_effects = True, time_effects = True\n",
    "             );\n",
    "\n",
    "res2 = res.fit(cov_type='clustered', cluster_entity = True)\n",
    "\n",
    "print(res2.summary)"
   ]
  },
  {
   "cell_type": "markdown",
   "id": "ef75a2b0",
   "metadata": {},
   "source": [
    "Regress ``w5_future_invest`` on ``w5_roa`` and ``w5_cash`` (and a constant). Use both firm fixed-effects and time fixed-effects in your regression. Cluster standard errors at the firm and year level."
   ]
  },
  {
   "cell_type": "code",
   "execution_count": 9,
   "id": "3d609aff",
   "metadata": {},
   "outputs": [
    {
     "name": "stdout",
     "output_type": "stream",
     "text": [
      "                          PanelOLS Estimation Summary                           \n",
      "================================================================================\n",
      "Dep. Variable:       w5_future_invest   R-squared:                        0.0602\n",
      "Estimator:                   PanelOLS   R-squared (Between):             -0.0312\n",
      "No. Observations:              206817   R-squared (Within):               0.0650\n",
      "Date:                Thu, Mar 03 2022   R-squared (Overall):              0.0187\n",
      "Time:                        14:27:03   Log-likelihood                 3.429e+05\n",
      "Cov. Estimator:             Clustered                                           \n",
      "                                        F-statistic:                      5933.8\n",
      "Entities:                       21454   P-value                           0.0000\n",
      "Avg Obs:                       9.6400   Distribution:                F(2,185321)\n",
      "Min Obs:                       1.0000                                           \n",
      "Max Obs:                       81.000   F-statistic (robust):             318.00\n",
      "                                        P-value                           0.0000\n",
      "Time periods:                      41   Distribution:                F(2,185321)\n",
      "Avg Obs:                       5044.3                                           \n",
      "Min Obs:                       6.0000                                           \n",
      "Max Obs:                       7156.0                                           \n",
      "                                                                                \n",
      "                             Parameter Estimates                              \n",
      "==============================================================================\n",
      "            Parameter  Std. Err.     T-stat    P-value    Lower CI    Upper CI\n",
      "------------------------------------------------------------------------------\n",
      "const          0.0058     0.0005     11.548     0.0000      0.0048      0.0067\n",
      "w5_roa         0.0891     0.0038     23.587     0.0000      0.0817      0.0965\n",
      "w5_cash        0.0714     0.0033     21.936     0.0000      0.0651      0.0778\n",
      "==============================================================================\n",
      "\n",
      "F-test for Poolability: 3.2106\n",
      "P-value: 0.0000\n",
      "Distribution: F(21493,185321)\n",
      "\n",
      "Included effects: Entity, Time\n"
     ]
    }
   ],
   "source": [
    "res = PanelOLS(dependent = df['w5_future_invest'], \n",
    "              exog = df[['const','w5_roa', 'w5_cash']], \n",
    "              entity_effects = True, time_effects = True\n",
    "             );\n",
    "\n",
    "res2 = res.fit(cov_type='clustered', cluster_entity = True, cluster_time=True)\n",
    "\n",
    "print(res2.summary)"
   ]
  }
 ],
 "metadata": {
  "kernelspec": {
   "display_name": "Python 3",
   "language": "python",
   "name": "python3"
  },
  "language_info": {
   "codemirror_mode": {
    "name": "ipython",
    "version": 3
   },
   "file_extension": ".py",
   "mimetype": "text/x-python",
   "name": "python",
   "nbconvert_exporter": "python",
   "pygments_lexer": "ipython3",
   "version": "3.9.7"
  },
  "toc": {
   "base_numbering": 1,
   "nav_menu": {},
   "number_sections": true,
   "sideBar": true,
   "skip_h1_title": false,
   "title_cell": "Table of Contents",
   "title_sidebar": "Contents",
   "toc_cell": false,
   "toc_position": {},
   "toc_section_display": true,
   "toc_window_display": false
  }
 },
 "nbformat": 4,
 "nbformat_minor": 5
}
