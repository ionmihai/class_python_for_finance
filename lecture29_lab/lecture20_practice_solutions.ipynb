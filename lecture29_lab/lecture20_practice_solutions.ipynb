{
 "cells": [
  {
   "cell_type": "markdown",
   "id": "655b9f05",
   "metadata": {},
   "source": [
    "Run the cells below:"
   ]
  },
  {
   "cell_type": "code",
   "execution_count": 1,
   "id": "ebb98c9a",
   "metadata": {},
   "outputs": [],
   "source": [
    "import pandas as pd\n",
    "import statsmodels.api as sm"
   ]
  },
  {
   "cell_type": "code",
   "execution_count": 2,
   "id": "7b690da9",
   "metadata": {},
   "outputs": [
    {
     "data": {
      "text/plain": [
       "permno          float64\n",
       "datadate         object\n",
       "ib              float64\n",
       "at              float64\n",
       "che             float64\n",
       "dltt            float64\n",
       "ppent           float64\n",
       "sich            float64\n",
       "year              int64\n",
       "roa             float64\n",
       "future_roa      float64\n",
       "cash            float64\n",
       "leverage        float64\n",
       "investment      float64\n",
       "w_future_roa    float64\n",
       "w_cash          float64\n",
       "w_leverage      float64\n",
       "w_investment    float64\n",
       "const             int64\n",
       "dtype: object"
      ]
     },
     "execution_count": 2,
     "metadata": {},
     "output_type": "execute_result"
    }
   ],
   "source": [
    "comp = pd.read_pickle('../data/comp_clean.zip')\n",
    "comp.dtypes"
   ]
  },
  {
   "cell_type": "markdown",
   "id": "54f602c2",
   "metadata": {},
   "source": [
    "Create a new variable called ``future_invest`` which tells us the firm's ``investment`` in the following year."
   ]
  },
  {
   "cell_type": "code",
   "execution_count": 3,
   "id": "d08bf549",
   "metadata": {},
   "outputs": [],
   "source": [
    "comp = comp.sort_values(['permno','year'])\n",
    "comp['future_invest'] = comp.groupby('permno')['investment'].shift(-1)  "
   ]
  },
  {
   "cell_type": "markdown",
   "id": "19aa377b",
   "metadata": {},
   "source": [
    "Produce a table that gives us only the mean and standard deviation of ``future_invest``, ``roa`` and ``cash``."
   ]
  },
  {
   "cell_type": "code",
   "execution_count": 4,
   "id": "30bbf164",
   "metadata": {},
   "outputs": [
    {
     "data": {
      "text/html": [
       "<div>\n",
       "<style scoped>\n",
       "    .dataframe tbody tr th:only-of-type {\n",
       "        vertical-align: middle;\n",
       "    }\n",
       "\n",
       "    .dataframe tbody tr th {\n",
       "        vertical-align: top;\n",
       "    }\n",
       "\n",
       "    .dataframe thead th {\n",
       "        text-align: right;\n",
       "    }\n",
       "</style>\n",
       "<table border=\"1\" class=\"dataframe\">\n",
       "  <thead>\n",
       "    <tr style=\"text-align: right;\">\n",
       "      <th></th>\n",
       "      <th>future_invest</th>\n",
       "      <th>roa</th>\n",
       "      <th>cash</th>\n",
       "    </tr>\n",
       "  </thead>\n",
       "  <tbody>\n",
       "    <tr>\n",
       "      <th>mean</th>\n",
       "      <td>-0.035447</td>\n",
       "      <td>-0.056431</td>\n",
       "      <td>0.174782</td>\n",
       "    </tr>\n",
       "    <tr>\n",
       "      <th>std</th>\n",
       "      <td>11.025308</td>\n",
       "      <td>1.494764</td>\n",
       "      <td>0.219955</td>\n",
       "    </tr>\n",
       "  </tbody>\n",
       "</table>\n",
       "</div>"
      ],
      "text/plain": [
       "      future_invest       roa      cash\n",
       "mean      -0.035447 -0.056431  0.174782\n",
       "std       11.025308  1.494764  0.219955"
      ]
     },
     "execution_count": 4,
     "metadata": {},
     "output_type": "execute_result"
    }
   ],
   "source": [
    "comp[['future_invest','roa', 'cash']].agg(['mean','std'])"
   ]
  },
  {
   "cell_type": "markdown",
   "id": "7dce4310",
   "metadata": {},
   "source": [
    "Winsorize ``future_invest``, ``roa`` and ``cash`` at the 5 and 95\\% level. Call the winsorized variables ``w5_future_invest``, ``w5_roa`` and ``w5_cash``. Then produce a table that gives us just their mean and standard deviations."
   ]
  },
  {
   "cell_type": "code",
   "execution_count": 5,
   "id": "b118b96a",
   "metadata": {},
   "outputs": [
    {
     "data": {
      "text/html": [
       "<div>\n",
       "<style scoped>\n",
       "    .dataframe tbody tr th:only-of-type {\n",
       "        vertical-align: middle;\n",
       "    }\n",
       "\n",
       "    .dataframe tbody tr th {\n",
       "        vertical-align: top;\n",
       "    }\n",
       "\n",
       "    .dataframe thead th {\n",
       "        text-align: right;\n",
       "    }\n",
       "</style>\n",
       "<table border=\"1\" class=\"dataframe\">\n",
       "  <thead>\n",
       "    <tr style=\"text-align: right;\">\n",
       "      <th></th>\n",
       "      <th>w5_future_invest</th>\n",
       "      <th>w5_roa</th>\n",
       "      <th>w5_cash</th>\n",
       "    </tr>\n",
       "  </thead>\n",
       "  <tbody>\n",
       "    <tr>\n",
       "      <th>mean</th>\n",
       "      <td>0.016095</td>\n",
       "      <td>-0.027871</td>\n",
       "      <td>0.167850</td>\n",
       "    </tr>\n",
       "    <tr>\n",
       "      <th>std</th>\n",
       "      <td>0.055204</td>\n",
       "      <td>0.166513</td>\n",
       "      <td>0.198858</td>\n",
       "    </tr>\n",
       "  </tbody>\n",
       "</table>\n",
       "</div>"
      ],
      "text/plain": [
       "      w5_future_invest    w5_roa   w5_cash\n",
       "mean          0.016095 -0.027871  0.167850\n",
       "std           0.055204  0.166513  0.198858"
      ]
     },
     "execution_count": 5,
     "metadata": {},
     "output_type": "execute_result"
    }
   ],
   "source": [
    "for v in ['future_invest','roa', 'cash']:\n",
    "    comp[f'w5_{v}'] = comp[v].clip(lower=comp[v].quantile(0.05), upper=comp[v].quantile(0.95))\n",
    "    \n",
    "comp[['w5_future_invest','w5_roa', 'w5_cash']].agg(['mean','std'])"
   ]
  },
  {
   "cell_type": "markdown",
   "id": "2d785338",
   "metadata": {},
   "source": [
    "Regress ``w5_future_invest`` on ``w5_roa``, ``w5_cash`` and a constant. Print the results of your regression."
   ]
  },
  {
   "cell_type": "code",
   "execution_count": 6,
   "id": "af017288",
   "metadata": {},
   "outputs": [
    {
     "name": "stdout",
     "output_type": "stream",
     "text": [
      "                            OLS Regression Results                            \n",
      "==============================================================================\n",
      "Dep. Variable:       w5_future_invest   R-squared:                       0.043\n",
      "Model:                            OLS   Adj. R-squared:                  0.043\n",
      "Method:                 Least Squares   F-statistic:                     4602.\n",
      "Date:                Thu, 03 Mar 2022   Prob (F-statistic):               0.00\n",
      "Time:                        14:07:47   Log-Likelihood:             3.1015e+05\n",
      "No. Observations:              206817   AIC:                        -6.203e+05\n",
      "Df Residuals:                  206814   BIC:                        -6.203e+05\n",
      "Df Model:                           2                                         \n",
      "Covariance Type:            nonrobust                                         \n",
      "==============================================================================\n",
      "                 coef    std err          t      P>|t|      [0.025      0.975]\n",
      "------------------------------------------------------------------------------\n",
      "const          0.0131      0.000     83.496      0.000       0.013       0.013\n",
      "w5_roa         0.0746      0.001     95.201      0.000       0.073       0.076\n",
      "w5_cash        0.0263      0.001     41.718      0.000       0.025       0.028\n",
      "==============================================================================\n",
      "Omnibus:                    31044.378   Durbin-Watson:                   1.450\n",
      "Prob(Omnibus):                  0.000   Jarque-Bera (JB):            51709.918\n",
      "Skew:                           1.012   Prob(JB):                         0.00\n",
      "Kurtosis:                       4.379   Cond. No.                         7.15\n",
      "==============================================================================\n",
      "\n",
      "Notes:\n",
      "[1] Standard Errors assume that the covariance matrix of the errors is correctly specified.\n"
     ]
    }
   ],
   "source": [
    "# Using winsorized data at 5 and 95% level\n",
    "results5 = sm.OLS(endog = comp['w5_future_invest'],\n",
    "                      exog = comp[['const','w5_roa','w5_cash']],\n",
    "                      missing = 'drop').fit()\n",
    "print(results5.summary())"
   ]
  },
  {
   "cell_type": "markdown",
   "id": "35da736e",
   "metadata": {},
   "source": [
    "Normalize the ``w5_future_invest``, ``w5_roa`` and ``w5_cash`` variables (subtract the mean and divide by the standard deviation). Call these normalized variables ``n_future_invest``, ``n_roa`` and ``n_cash``. Then produce a table that gives us their mean and standard deviation."
   ]
  },
  {
   "cell_type": "code",
   "execution_count": 7,
   "id": "bec04a32",
   "metadata": {},
   "outputs": [
    {
     "data": {
      "text/html": [
       "<div>\n",
       "<style scoped>\n",
       "    .dataframe tbody tr th:only-of-type {\n",
       "        vertical-align: middle;\n",
       "    }\n",
       "\n",
       "    .dataframe tbody tr th {\n",
       "        vertical-align: top;\n",
       "    }\n",
       "\n",
       "    .dataframe thead th {\n",
       "        text-align: right;\n",
       "    }\n",
       "</style>\n",
       "<table border=\"1\" class=\"dataframe\">\n",
       "  <thead>\n",
       "    <tr style=\"text-align: right;\">\n",
       "      <th></th>\n",
       "      <th>n_future_invest</th>\n",
       "      <th>n_roa</th>\n",
       "      <th>n_cash</th>\n",
       "    </tr>\n",
       "  </thead>\n",
       "  <tbody>\n",
       "    <tr>\n",
       "      <th>mean</th>\n",
       "      <td>1.172636e-14</td>\n",
       "      <td>-4.694453e-14</td>\n",
       "      <td>1.094284e-13</td>\n",
       "    </tr>\n",
       "    <tr>\n",
       "      <th>std</th>\n",
       "      <td>1.000000e+00</td>\n",
       "      <td>1.000000e+00</td>\n",
       "      <td>1.000000e+00</td>\n",
       "    </tr>\n",
       "  </tbody>\n",
       "</table>\n",
       "</div>"
      ],
      "text/plain": [
       "      n_future_invest         n_roa        n_cash\n",
       "mean     1.172636e-14 -4.694453e-14  1.094284e-13\n",
       "std      1.000000e+00  1.000000e+00  1.000000e+00"
      ]
     },
     "execution_count": 7,
     "metadata": {},
     "output_type": "execute_result"
    }
   ],
   "source": [
    "main_vars_wins = ['w5_future_invest','w5_roa', 'w5_cash']\n",
    "normalized_vars = ['n_future_invest','n_roa','n_cash']\n",
    "comp[normalized_vars] = (comp[main_vars_wins] - comp[main_vars_wins].mean()) / comp[main_vars_wins].std()\n",
    "comp[normalized_vars].agg(['mean','std'])"
   ]
  },
  {
   "cell_type": "markdown",
   "id": "bdc126fa",
   "metadata": {},
   "source": [
    "Regress ``n_future_invest`` on ``n_roa`` and ``n_cash`` (and a constant). Print the results of your regression."
   ]
  },
  {
   "cell_type": "code",
   "execution_count": 8,
   "id": "5d01fa35",
   "metadata": {},
   "outputs": [
    {
     "name": "stdout",
     "output_type": "stream",
     "text": [
      "                            OLS Regression Results                            \n",
      "==============================================================================\n",
      "Dep. Variable:        n_future_invest   R-squared:                       0.043\n",
      "Model:                            OLS   Adj. R-squared:                  0.043\n",
      "Method:                 Least Squares   F-statistic:                     4602.\n",
      "Date:                Thu, 03 Mar 2022   Prob (F-statistic):               0.00\n",
      "Time:                        14:07:47   Log-Likelihood:            -2.8894e+05\n",
      "No. Observations:              206817   AIC:                         5.779e+05\n",
      "Df Residuals:                  206814   BIC:                         5.779e+05\n",
      "Df Model:                           2                                         \n",
      "Covariance Type:            nonrobust                                         \n",
      "==============================================================================\n",
      "                 coef    std err          t      P>|t|      [0.025      0.975]\n",
      "------------------------------------------------------------------------------\n",
      "const         -0.0114      0.002     -5.284      0.000      -0.016      -0.007\n",
      "n_roa          0.2251      0.002     95.201      0.000       0.220       0.230\n",
      "n_cash         0.0947      0.002     41.718      0.000       0.090       0.099\n",
      "==============================================================================\n",
      "Omnibus:                    31044.378   Durbin-Watson:                   1.450\n",
      "Prob(Omnibus):                  0.000   Jarque-Bera (JB):            51709.918\n",
      "Skew:                           1.012   Prob(JB):                         0.00\n",
      "Kurtosis:                       4.379   Cond. No.                         1.40\n",
      "==============================================================================\n",
      "\n",
      "Notes:\n",
      "[1] Standard Errors assume that the covariance matrix of the errors is correctly specified.\n"
     ]
    }
   ],
   "source": [
    "# Using normalized data\n",
    "results5 = sm.OLS(endog = comp['n_future_invest'],\n",
    "                      exog = comp[['const','n_roa','n_cash']],\n",
    "                      missing = 'drop').fit()\n",
    "print(results5.summary())"
   ]
  },
  {
   "cell_type": "markdown",
   "id": "4fb6b85d",
   "metadata": {},
   "source": [
    "Given the results in the last regression, what is the estimated effect on future investment of increasing ROA by one standard deviation today?"
   ]
  },
  {
   "cell_type": "markdown",
   "id": "30a7e8d6",
   "metadata": {},
   "source": [
    "A: Since the variables are normalized, increasing ROA by one standard deviation amounts to adding 1 to ``n_roa``. The regression results above say that doing this would increase ``n_future_invest`` by 0.2251. This implies an increase of 0.2251 standard deviations in the ``future_invest`` variable."
   ]
  }
 ],
 "metadata": {
  "kernelspec": {
   "display_name": "Python 3",
   "language": "python",
   "name": "python3"
  },
  "language_info": {
   "codemirror_mode": {
    "name": "ipython",
    "version": 3
   },
   "file_extension": ".py",
   "mimetype": "text/x-python",
   "name": "python",
   "nbconvert_exporter": "python",
   "pygments_lexer": "ipython3",
   "version": "3.9.7"
  },
  "toc": {
   "base_numbering": 1,
   "nav_menu": {},
   "number_sections": true,
   "sideBar": true,
   "skip_h1_title": false,
   "title_cell": "Table of Contents",
   "title_sidebar": "Contents",
   "toc_cell": false,
   "toc_position": {},
   "toc_section_display": true,
   "toc_window_display": false
  }
 },
 "nbformat": 4,
 "nbformat_minor": 5
}
