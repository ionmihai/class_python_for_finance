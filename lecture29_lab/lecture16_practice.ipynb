{
 "cells": [
  {
   "cell_type": "markdown",
   "id": "dee5a007",
   "metadata": {},
   "source": [
    "In this set of practice problems, we will replicate the well-documented \"reversal effect\" in monthly stock returns. This is the finding that, on average, firms with the lowest returns this month, will have the highest returns next month, and firms with the highest returns this month will have the lowest returns next month."
   ]
  },
  {
   "cell_type": "markdown",
   "id": "c0de4add",
   "metadata": {},
   "source": [
    "Run the cells below:"
   ]
  },
  {
   "cell_type": "code",
   "execution_count": null,
   "id": "d665db44",
   "metadata": {},
   "outputs": [],
   "source": [
    "import pandas as pd\n",
    "import numpy as np"
   ]
  },
  {
   "cell_type": "code",
   "execution_count": null,
   "id": "cc63b938",
   "metadata": {},
   "outputs": [],
   "source": [
    "# Read full crspm file\n",
    "raw = pd.read_pickle('../data/crspm.zip')\n",
    "\n",
    "# Calculate market capitalization\n",
    "raw['mktcap'] = raw['prc'].abs() * raw['shrout']\n",
    "\n",
    "# Make monthly period date\n",
    "raw['mdate'] = pd.to_datetime(raw['date']).dt.to_period('M')\n",
    "\n",
    "# Keep only what we need\n",
    "crsp = raw[['permno','mdate','ret','mktcap']].copy()\n",
    "crsp.head()"
   ]
  },
  {
   "cell_type": "markdown",
   "id": "f3b9fdb2",
   "metadata": {},
   "source": [
    "Sort ``crsp`` by ``permno`` and ``mdate``. Then use the ``.shift()`` method to create a new variable inside ``crsp`` called ``next_ret`` that gives us next month's return for each firm. Print out the first 4 rows in ``crsp``."
   ]
  },
  {
   "cell_type": "code",
   "execution_count": null,
   "id": "ce27f786",
   "metadata": {},
   "outputs": [],
   "source": []
  },
  {
   "cell_type": "markdown",
   "id": "6ec72d46",
   "metadata": {},
   "source": [
    "Drop all the rows in ``crsp`` that have any missing value in any of its columns. Then, each month, split firms into 5 equally-sized bins (quintiles), based on how their current month's return ranked among the rest of the firms this month. Create a new variable inside ``crsp`` called ``ret_quint`` which tells us which firm is in which quintile at each point in time. We'll refer to each quintile as a \"portfolio\" going forward."
   ]
  },
  {
   "cell_type": "code",
   "execution_count": null,
   "id": "7f1072be",
   "metadata": {},
   "outputs": [],
   "source": []
  },
  {
   "cell_type": "markdown",
   "id": "8c3777f8",
   "metadata": {},
   "source": [
    "Calculate average \"next-month\" returns (``next_ret``) every month for every quintile portfolio. Store these \"equal-weighted\" portfolio returns in a separate dataframe called ``ewret``. Display the first 10 rows of ``ewret``."
   ]
  },
  {
   "cell_type": "code",
   "execution_count": null,
   "id": "03711186",
   "metadata": {},
   "outputs": [],
   "source": []
  },
  {
   "cell_type": "markdown",
   "id": "53e6414f",
   "metadata": {},
   "source": [
    "Print the time-series of monthly equal-weighted \"next-month\" returns for each of the five quintile portfolios (i.e. one subplot for each portfolio, figure size 10 by 10)."
   ]
  },
  {
   "cell_type": "code",
   "execution_count": null,
   "id": "0ed50430",
   "metadata": {},
   "outputs": [],
   "source": []
  },
  {
   "cell_type": "code",
   "execution_count": null,
   "id": "f903a292",
   "metadata": {},
   "outputs": [],
   "source": []
  },
  {
   "cell_type": "markdown",
   "id": "169c4376",
   "metadata": {},
   "source": [
    "Compound the equal-weighted \"next-month\" returns for each of the five portfolios, at each point in time, and plot these five compounded-return time-series in the same graph."
   ]
  },
  {
   "cell_type": "code",
   "execution_count": null,
   "id": "e5b297e3",
   "metadata": {},
   "outputs": [],
   "source": []
  },
  {
   "cell_type": "code",
   "execution_count": null,
   "id": "9df2536c",
   "metadata": {},
   "outputs": [],
   "source": []
  },
  {
   "cell_type": "markdown",
   "id": "7cd1297a",
   "metadata": {},
   "source": [
    "Which portfolio has the highest compounded equal-weighted return over the entire sample?"
   ]
  },
  {
   "cell_type": "code",
   "execution_count": null,
   "id": "64693b3c",
   "metadata": {},
   "outputs": [],
   "source": []
  },
  {
   "cell_type": "markdown",
   "id": "9b209ca6",
   "metadata": {},
   "source": [
    "Print a 5 x 2 table, where the two columns give us the full-sample mean and standard deviation of equal-weighted \"next-month\" returns for each of the five portfolios. Does the risk-return trade-off seem to apply to these five portfolios?"
   ]
  },
  {
   "cell_type": "code",
   "execution_count": null,
   "id": "fc361d45",
   "metadata": {},
   "outputs": [],
   "source": []
  }
 ],
 "metadata": {
  "kernelspec": {
   "display_name": "Python 3 (ipykernel)",
   "language": "python",
   "name": "python3"
  },
  "language_info": {
   "codemirror_mode": {
    "name": "ipython",
    "version": 3
   },
   "file_extension": ".py",
   "mimetype": "text/x-python",
   "name": "python",
   "nbconvert_exporter": "python",
   "pygments_lexer": "ipython3",
   "version": "3.8.5"
  },
  "toc": {
   "base_numbering": 1,
   "nav_menu": {},
   "number_sections": true,
   "sideBar": true,
   "skip_h1_title": false,
   "title_cell": "Table of Contents",
   "title_sidebar": "Contents",
   "toc_cell": false,
   "toc_position": {},
   "toc_section_display": true,
   "toc_window_display": false
  }
 },
 "nbformat": 4,
 "nbformat_minor": 5
}
