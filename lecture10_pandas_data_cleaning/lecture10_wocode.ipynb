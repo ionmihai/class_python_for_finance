{
 "cells": [
  {
   "cell_type": "markdown",
   "id": "6a69c9a1",
   "metadata": {},
   "source": [
    "# Preliminaries"
   ]
  },
  {
   "cell_type": "code",
   "execution_count": 1,
   "id": "24b7f508",
   "metadata": {},
   "outputs": [],
   "source": [
    "import pandas as pd\n",
    "import numpy as np"
   ]
  },
  {
   "cell_type": "code",
   "execution_count": null,
   "id": "8363a739",
   "metadata": {},
   "outputs": [],
   "source": []
  },
  {
   "cell_type": "code",
   "execution_count": null,
   "id": "6ad440af",
   "metadata": {},
   "outputs": [],
   "source": []
  },
  {
   "cell_type": "code",
   "execution_count": null,
   "id": "7a9f0425",
   "metadata": {},
   "outputs": [],
   "source": []
  },
  {
   "cell_type": "markdown",
   "id": "3ca65b1f",
   "metadata": {},
   "source": [
    "The \"object\" data type (for the ``industry`` and ``ind_code`` columns) is a catch-all term for when Pandas can not determine the exact data type of that column (e.g. int, float, str, etc). Many times, columns containing strings will have this data type."
   ]
  },
  {
   "cell_type": "code",
   "execution_count": null,
   "id": "51429a7e",
   "metadata": {},
   "outputs": [],
   "source": []
  },
  {
   "cell_type": "markdown",
   "id": "001255ff",
   "metadata": {},
   "source": [
    "# Missing values"
   ]
  },
  {
   "cell_type": "markdown",
   "id": "63afc09b",
   "metadata": {},
   "source": [
    "Missing values appear as a special code depending on the datatype of the column in which they appear: ``NaN`` (which stands for \"not a number\") for numeric data types, ``None`` or ``NaN`` for object data type, ``NaT`` for \"datetime\" columns (more on this data type later). "
   ]
  },
  {
   "cell_type": "markdown",
   "id": "12f06200",
   "metadata": {},
   "source": [
    "To find the missing values in the data, we can use the ``.isnull`` (or its equivalent: ``.isna()``):"
   ]
  },
  {
   "cell_type": "code",
   "execution_count": null,
   "id": "f2b8ae5d",
   "metadata": {},
   "outputs": [],
   "source": []
  },
  {
   "cell_type": "code",
   "execution_count": null,
   "id": "99b0a2eb",
   "metadata": {},
   "outputs": [],
   "source": []
  },
  {
   "cell_type": "markdown",
   "id": "a02b05d5",
   "metadata": {},
   "source": [
    "We can drop all the rows that have any missing values using the ``.dropna()`` function:"
   ]
  },
  {
   "cell_type": "code",
   "execution_count": null,
   "id": "c04b82ea",
   "metadata": {},
   "outputs": [],
   "source": []
  },
  {
   "cell_type": "markdown",
   "id": "bf925a43",
   "metadata": {},
   "source": [
    "If we want to drop the rows that have **only** missing values, we have the use ``how = 'all'`` as a parameter:"
   ]
  },
  {
   "cell_type": "code",
   "execution_count": null,
   "id": "7ce7cd4f",
   "metadata": {},
   "outputs": [],
   "source": []
  },
  {
   "cell_type": "markdown",
   "id": "ac921467",
   "metadata": {},
   "source": [
    "If we want to remove all raws that contain missing values in a given column, we have to use ``.loc[]`` and the ``.notnull()`` function:"
   ]
  },
  {
   "cell_type": "code",
   "execution_count": null,
   "id": "259cc352",
   "metadata": {},
   "outputs": [],
   "source": []
  },
  {
   "cell_type": "markdown",
   "id": "a19ae8dd",
   "metadata": {},
   "source": [
    "or we can use the ``subset`` parameter of the ``dropna`` function, which tells the function to look for missing values only in a subset of the columns: "
   ]
  },
  {
   "cell_type": "code",
   "execution_count": null,
   "id": "07c29f93",
   "metadata": {},
   "outputs": [],
   "source": []
  },
  {
   "cell_type": "markdown",
   "id": "7bd63891",
   "metadata": {},
   "source": [
    "# Changing data types\n",
    "\n",
    "Many times, a particular column in our dataframe does not have the datatype we want. There are several functions that allow us to convert one datatype to another. Below, we cover the most commonly used ones:"
   ]
  },
  {
   "cell_type": "markdown",
   "id": "22249e54",
   "metadata": {},
   "source": [
    "## ``.astype()``\n",
    "\n",
    "Specify the new datatype that you want to convert to as an argument to ``.astype()``:"
   ]
  },
  {
   "cell_type": "code",
   "execution_count": null,
   "id": "fc41901c",
   "metadata": {},
   "outputs": [],
   "source": []
  },
  {
   "cell_type": "code",
   "execution_count": null,
   "id": "62cca25b",
   "metadata": {},
   "outputs": [],
   "source": []
  },
  {
   "cell_type": "code",
   "execution_count": null,
   "id": "766f6011",
   "metadata": {},
   "outputs": [],
   "source": []
  },
  {
   "cell_type": "code",
   "execution_count": null,
   "id": "772229bf",
   "metadata": {},
   "outputs": [],
   "source": []
  },
  {
   "cell_type": "code",
   "execution_count": null,
   "id": "b350b59a",
   "metadata": {},
   "outputs": [],
   "source": []
  },
  {
   "cell_type": "markdown",
   "id": "2427970b",
   "metadata": {},
   "source": [
    "It may not look like ``firmid`` is a string data type now, but it is. For example, the below command would not work if ``firmid`` was still numeric:"
   ]
  },
  {
   "cell_type": "code",
   "execution_count": null,
   "id": "87584b53",
   "metadata": {},
   "outputs": [],
   "source": []
  },
  {
   "cell_type": "markdown",
   "id": "2741bbef",
   "metadata": {},
   "source": [
    "## ``.to_numeric()``\n",
    "\n",
    "This is commonly used to convert string (or object) data types to a numeric data type. Unlike ``.astype()`` which can be applied after the name of the dataframe we want to convert, with ``.to_numeric()``, you have to supply that dataframe as an argument:"
   ]
  },
  {
   "cell_type": "code",
   "execution_count": null,
   "id": "bb482f80",
   "metadata": {},
   "outputs": [],
   "source": []
  },
  {
   "cell_type": "code",
   "execution_count": null,
   "id": "3d01ecfc",
   "metadata": {},
   "outputs": [],
   "source": []
  },
  {
   "cell_type": "markdown",
   "id": "e0b1dbc9",
   "metadata": {},
   "source": [
    "In some situations, the ``.to_numeric()`` function will not be successful unless you specify the parameter ``errors = `coerce'``. For example, the code below would not work without that parameter (which is why I always specify it):"
   ]
  },
  {
   "cell_type": "code",
   "execution_count": null,
   "id": "4e8cf6cb",
   "metadata": {},
   "outputs": [],
   "source": []
  },
  {
   "cell_type": "markdown",
   "id": "521c3412",
   "metadata": {},
   "source": [
    "Note that this converted the non-numeric values in the ``ind_code`` column to ``NaN``:"
   ]
  },
  {
   "cell_type": "code",
   "execution_count": null,
   "id": "16b97dbf",
   "metadata": {},
   "outputs": [],
   "source": []
  },
  {
   "cell_type": "markdown",
   "id": "7372c008",
   "metadata": {},
   "source": [
    "# Duplicates and counts\n",
    "\n",
    "In many situations, it is important to know if our data contains any duplicate entries (most of the time we want to eliminate those) as well as explicitly count duplicate entries in any particular column (or set of columns) in our data. We can perform these operations with the ``.duplicated()`` and ``.value_counts()`` functions:"
   ]
  },
  {
   "cell_type": "markdown",
   "id": "faf8ca52",
   "metadata": {},
   "source": [
    "## ``.duplicated()`` and ``.drop_duplicates()``\n",
    "\n",
    "Syntax:\n",
    "```python\n",
    "DataFrame.duplicated(subset=None, keep='first')\n",
    "```\n",
    "\n",
    "where the ``subset`` parameter allows us to specifies where in the dataset (which columns) we are looking for duplicated rows (if unspecified, Pandas will look for instances where an entire row is duplicated). The ``keep`` parameter allows us to specify which of the duplicated rows to keep (if any)."
   ]
  },
  {
   "cell_type": "code",
   "execution_count": null,
   "id": "1e46fd54",
   "metadata": {},
   "outputs": [],
   "source": []
  },
  {
   "cell_type": "code",
   "execution_count": null,
   "id": "918c930a",
   "metadata": {},
   "outputs": [],
   "source": []
  },
  {
   "cell_type": "code",
   "execution_count": null,
   "id": "256aef70",
   "metadata": {},
   "outputs": [],
   "source": []
  },
  {
   "cell_type": "code",
   "execution_count": null,
   "id": "36a18251",
   "metadata": {},
   "outputs": [],
   "source": []
  },
  {
   "cell_type": "markdown",
   "id": "23e6dba0",
   "metadata": {},
   "source": [
    "To drop duplicated data, we can use the ``.duplicated()`` function inside a ``.loc[]``:"
   ]
  },
  {
   "cell_type": "code",
   "execution_count": null,
   "id": "6cafc4ab",
   "metadata": {},
   "outputs": [],
   "source": []
  },
  {
   "cell_type": "markdown",
   "id": "d5811672",
   "metadata": {},
   "source": [
    "or, more commonly, using the ``.drop_duplicates()`` function:"
   ]
  },
  {
   "cell_type": "code",
   "execution_count": null,
   "id": "c00539d5",
   "metadata": {},
   "outputs": [],
   "source": []
  },
  {
   "cell_type": "markdown",
   "id": "61fb7882",
   "metadata": {},
   "source": [
    "Note that the above still keeps the 4th row, and drops the 5th (a duplicate of the 4th). This is because ``keep='first'`` by default for the ``.drop_duplicates()`` function. To eliminate both duplicated rows, we would have to set ``keep=False``:"
   ]
  },
  {
   "cell_type": "code",
   "execution_count": null,
   "id": "81a44fd3",
   "metadata": {},
   "outputs": [],
   "source": []
  },
  {
   "cell_type": "markdown",
   "id": "4769a086",
   "metadata": {},
   "source": [
    "Note also that the meaning of \"first\" and \"last\" for the ``keep`` parameter depends on how your dataframe happens to be sorted at the time you drop the duplicates."
   ]
  },
  {
   "cell_type": "markdown",
   "id": "c876f873",
   "metadata": {},
   "source": [
    "## ``.value_counts()``\n",
    "\n",
    "This finds all the unique values in a column and counts the number of times they appear in that column.\n",
    "\n",
    "Syntax:\n",
    "```python\n",
    "DataFrame.value_counts(subset=None, normalize=False, sort=True, ascending=False, dropna=True)\n",
    "```"
   ]
  },
  {
   "cell_type": "code",
   "execution_count": null,
   "id": "5c324ae5",
   "metadata": {},
   "outputs": [],
   "source": []
  },
  {
   "cell_type": "code",
   "execution_count": null,
   "id": "8c85e446",
   "metadata": {},
   "outputs": [],
   "source": []
  },
  {
   "cell_type": "markdown",
   "id": "294697c8",
   "metadata": {},
   "source": [
    "# Operating on text data (strings)\n",
    "\n",
    "Working with text data is a huge topic in data analysis. The Pandas user guide offers a detailed discussion on the way the Pandas package can be used to operate on text data: https://pandas.pydata.org/pandas-docs/stable/user_guide/text.html#. For the most part, all of this is done with the ``.str`` subpackage and its methods. \n",
    "\n",
    "Here, we cover a very small subset of the functions that are commonly used for string manipulation inside a dataframe.\n",
    "\n",
    "We'll work on the ``df`` dataframe:"
   ]
  },
  {
   "cell_type": "code",
   "execution_count": null,
   "id": "47a3731f",
   "metadata": {},
   "outputs": [],
   "source": []
  },
  {
   "cell_type": "markdown",
   "id": "cfa89b39",
   "metadata": {},
   "source": [
    "It is important to convert a text column to ``string`` type before we manipulate it with ``.str`` functions. For example, the ``industry`` column is currently of type ``object`` so we will convert it to ``string``:"
   ]
  },
  {
   "cell_type": "code",
   "execution_count": null,
   "id": "c0523b9d",
   "metadata": {},
   "outputs": [],
   "source": []
  },
  {
   "cell_type": "markdown",
   "id": "71cca39f",
   "metadata": {},
   "source": [
    "## Slicing into string data"
   ]
  },
  {
   "cell_type": "code",
   "execution_count": null,
   "id": "452d82c6",
   "metadata": {},
   "outputs": [],
   "source": []
  },
  {
   "cell_type": "markdown",
   "id": "108d47aa",
   "metadata": {},
   "source": [
    "## Converting to lower case or upper case"
   ]
  },
  {
   "cell_type": "code",
   "execution_count": null,
   "id": "2afe0ce8",
   "metadata": {},
   "outputs": [],
   "source": []
  },
  {
   "cell_type": "code",
   "execution_count": null,
   "id": "5d688d55",
   "metadata": {},
   "outputs": [],
   "source": []
  },
  {
   "cell_type": "markdown",
   "id": "a6d4ea20",
   "metadata": {},
   "source": [
    "## Substrings"
   ]
  },
  {
   "cell_type": "code",
   "execution_count": null,
   "id": "7ca18cf3",
   "metadata": {},
   "outputs": [],
   "source": []
  },
  {
   "cell_type": "code",
   "execution_count": null,
   "id": "a83ec765",
   "metadata": {},
   "outputs": [],
   "source": []
  },
  {
   "cell_type": "code",
   "execution_count": null,
   "id": "9ba5db85",
   "metadata": {},
   "outputs": [],
   "source": []
  },
  {
   "cell_type": "markdown",
   "id": "d9245641",
   "metadata": {},
   "source": [
    "## Splitting"
   ]
  },
  {
   "cell_type": "code",
   "execution_count": null,
   "id": "bd1b8d25",
   "metadata": {},
   "outputs": [],
   "source": []
  },
  {
   "cell_type": "markdown",
   "id": "d9784814",
   "metadata": {},
   "source": [
    "## Stripping white spaces"
   ]
  },
  {
   "cell_type": "code",
   "execution_count": null,
   "id": "6fabbba9",
   "metadata": {},
   "outputs": [],
   "source": []
  },
  {
   "cell_type": "code",
   "execution_count": null,
   "id": "173e535e",
   "metadata": {},
   "outputs": [],
   "source": []
  },
  {
   "cell_type": "code",
   "execution_count": null,
   "id": "197f46fd",
   "metadata": {},
   "outputs": [],
   "source": []
  },
  {
   "cell_type": "code",
   "execution_count": null,
   "id": "74733106",
   "metadata": {},
   "outputs": [],
   "source": []
  },
  {
   "cell_type": "markdown",
   "id": "57a8323a",
   "metadata": {},
   "source": [
    "## Chaining ``.str`` methods"
   ]
  },
  {
   "cell_type": "code",
   "execution_count": null,
   "id": "2af567c9",
   "metadata": {},
   "outputs": [],
   "source": []
  }
 ],
 "metadata": {
  "kernelspec": {
   "display_name": "base",
   "language": "python",
   "name": "python3"
  },
  "language_info": {
   "codemirror_mode": {
    "name": "ipython",
    "version": 3
   },
   "file_extension": ".py",
   "mimetype": "text/x-python",
   "name": "python",
   "nbconvert_exporter": "python",
   "pygments_lexer": "ipython3",
   "version": "3.8.5"
  },
  "toc": {
   "base_numbering": 1,
   "nav_menu": {},
   "number_sections": true,
   "sideBar": true,
   "skip_h1_title": false,
   "title_cell": "Table of Contents",
   "title_sidebar": "Contents",
   "toc_cell": true,
   "toc_position": {},
   "toc_section_display": true,
   "toc_window_display": false
  },
  "vscode": {
   "interpreter": {
    "hash": "c0d7515943f2d5e6ef3c63d1d45fe29892fe24bc9a1e3b83271f719b8681d46b"
   }
  }
 },
 "nbformat": 4,
 "nbformat_minor": 5
}
