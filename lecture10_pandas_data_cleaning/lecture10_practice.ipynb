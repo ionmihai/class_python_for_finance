{
 "cells": [
  {
   "cell_type": "markdown",
   "id": "b554ecc1",
   "metadata": {},
   "source": [
    "Run the cell below:"
   ]
  },
  {
   "cell_type": "code",
   "execution_count": 1,
   "id": "c273f254",
   "metadata": {},
   "outputs": [],
   "source": [
    "import pandas as pd"
   ]
  },
  {
   "cell_type": "markdown",
   "id": "b4f3ce1c",
   "metadata": {},
   "source": [
    "If you have not done so already, download the \"compa.zip\", \"crspm.zip\" and \"ff.zip\" files from the \"Lectures and Data / data\" tab in D2L into a \"data\" folder on your computer (located outside the folder containing this file, as explained in ``lecture00``)."
   ]
  },
  {
   "cell_type": "markdown",
   "id": "87b2cb31",
   "metadata": {},
   "source": [
    "Load the CRSP monthly market data (\"crspm.zip\") into a new dataframe called ``crsp``."
   ]
  },
  {
   "cell_type": "code",
   "execution_count": 2,
   "id": "70d163ab",
   "metadata": {},
   "outputs": [
    {
     "data": {
      "text/html": [
       "<div>\n",
       "<style scoped>\n",
       "    .dataframe tbody tr th:only-of-type {\n",
       "        vertical-align: middle;\n",
       "    }\n",
       "\n",
       "    .dataframe tbody tr th {\n",
       "        vertical-align: top;\n",
       "    }\n",
       "\n",
       "    .dataframe thead th {\n",
       "        text-align: right;\n",
       "    }\n",
       "</style>\n",
       "<table border=\"1\" class=\"dataframe\">\n",
       "  <thead>\n",
       "    <tr style=\"text-align: right;\">\n",
       "      <th></th>\n",
       "      <th>date</th>\n",
       "      <th>mktrf</th>\n",
       "      <th>smb</th>\n",
       "      <th>hml</th>\n",
       "      <th>rf</th>\n",
       "      <th>year</th>\n",
       "      <th>month</th>\n",
       "      <th>umd</th>\n",
       "      <th>dateff</th>\n",
       "    </tr>\n",
       "  </thead>\n",
       "  <tbody>\n",
       "    <tr>\n",
       "      <th>0</th>\n",
       "      <td>1926-07-01</td>\n",
       "      <td>0.0296</td>\n",
       "      <td>-0.0238</td>\n",
       "      <td>-0.0273</td>\n",
       "      <td>0.0022</td>\n",
       "      <td>1926.0</td>\n",
       "      <td>7.0</td>\n",
       "      <td>NaN</td>\n",
       "      <td>1926-07-31</td>\n",
       "    </tr>\n",
       "    <tr>\n",
       "      <th>1</th>\n",
       "      <td>1926-08-01</td>\n",
       "      <td>0.0264</td>\n",
       "      <td>-0.0147</td>\n",
       "      <td>0.0414</td>\n",
       "      <td>0.0025</td>\n",
       "      <td>1926.0</td>\n",
       "      <td>8.0</td>\n",
       "      <td>NaN</td>\n",
       "      <td>1926-08-31</td>\n",
       "    </tr>\n",
       "    <tr>\n",
       "      <th>2</th>\n",
       "      <td>1926-09-01</td>\n",
       "      <td>0.0036</td>\n",
       "      <td>-0.0139</td>\n",
       "      <td>0.0012</td>\n",
       "      <td>0.0023</td>\n",
       "      <td>1926.0</td>\n",
       "      <td>9.0</td>\n",
       "      <td>NaN</td>\n",
       "      <td>1926-09-30</td>\n",
       "    </tr>\n",
       "    <tr>\n",
       "      <th>3</th>\n",
       "      <td>1926-10-01</td>\n",
       "      <td>-0.0324</td>\n",
       "      <td>-0.0013</td>\n",
       "      <td>0.0065</td>\n",
       "      <td>0.0032</td>\n",
       "      <td>1926.0</td>\n",
       "      <td>10.0</td>\n",
       "      <td>NaN</td>\n",
       "      <td>1926-10-30</td>\n",
       "    </tr>\n",
       "    <tr>\n",
       "      <th>4</th>\n",
       "      <td>1926-11-01</td>\n",
       "      <td>0.0253</td>\n",
       "      <td>-0.0016</td>\n",
       "      <td>-0.0038</td>\n",
       "      <td>0.0031</td>\n",
       "      <td>1926.0</td>\n",
       "      <td>11.0</td>\n",
       "      <td>NaN</td>\n",
       "      <td>1926-11-30</td>\n",
       "    </tr>\n",
       "    <tr>\n",
       "      <th>...</th>\n",
       "      <td>...</td>\n",
       "      <td>...</td>\n",
       "      <td>...</td>\n",
       "      <td>...</td>\n",
       "      <td>...</td>\n",
       "      <td>...</td>\n",
       "      <td>...</td>\n",
       "      <td>...</td>\n",
       "      <td>...</td>\n",
       "    </tr>\n",
       "    <tr>\n",
       "      <th>1139</th>\n",
       "      <td>2021-06-01</td>\n",
       "      <td>0.0275</td>\n",
       "      <td>0.0180</td>\n",
       "      <td>-0.0776</td>\n",
       "      <td>0.0000</td>\n",
       "      <td>2021.0</td>\n",
       "      <td>6.0</td>\n",
       "      <td>NaN</td>\n",
       "      <td>2021-06-30</td>\n",
       "    </tr>\n",
       "    <tr>\n",
       "      <th>1140</th>\n",
       "      <td>2021-07-01</td>\n",
       "      <td>0.0127</td>\n",
       "      <td>-0.0396</td>\n",
       "      <td>-0.0175</td>\n",
       "      <td>0.0000</td>\n",
       "      <td>2021.0</td>\n",
       "      <td>7.0</td>\n",
       "      <td>NaN</td>\n",
       "      <td>2021-07-30</td>\n",
       "    </tr>\n",
       "    <tr>\n",
       "      <th>1141</th>\n",
       "      <td>2021-08-01</td>\n",
       "      <td>0.0290</td>\n",
       "      <td>-0.0048</td>\n",
       "      <td>-0.0013</td>\n",
       "      <td>0.0000</td>\n",
       "      <td>2021.0</td>\n",
       "      <td>8.0</td>\n",
       "      <td>NaN</td>\n",
       "      <td>2021-08-31</td>\n",
       "    </tr>\n",
       "    <tr>\n",
       "      <th>1142</th>\n",
       "      <td>2021-09-01</td>\n",
       "      <td>-0.0437</td>\n",
       "      <td>0.0080</td>\n",
       "      <td>0.0509</td>\n",
       "      <td>0.0000</td>\n",
       "      <td>2021.0</td>\n",
       "      <td>9.0</td>\n",
       "      <td>NaN</td>\n",
       "      <td>2021-09-30</td>\n",
       "    </tr>\n",
       "    <tr>\n",
       "      <th>1143</th>\n",
       "      <td>2021-10-01</td>\n",
       "      <td>0.0665</td>\n",
       "      <td>-0.0228</td>\n",
       "      <td>-0.0045</td>\n",
       "      <td>0.0000</td>\n",
       "      <td>2021.0</td>\n",
       "      <td>10.0</td>\n",
       "      <td>NaN</td>\n",
       "      <td>2021-10-29</td>\n",
       "    </tr>\n",
       "  </tbody>\n",
       "</table>\n",
       "<p>1144 rows × 9 columns</p>\n",
       "</div>"
      ],
      "text/plain": [
       "            date   mktrf     smb     hml      rf    year  month  umd  \\\n",
       "0     1926-07-01  0.0296 -0.0238 -0.0273  0.0022  1926.0    7.0  NaN   \n",
       "1     1926-08-01  0.0264 -0.0147  0.0414  0.0025  1926.0    8.0  NaN   \n",
       "2     1926-09-01  0.0036 -0.0139  0.0012  0.0023  1926.0    9.0  NaN   \n",
       "3     1926-10-01 -0.0324 -0.0013  0.0065  0.0032  1926.0   10.0  NaN   \n",
       "4     1926-11-01  0.0253 -0.0016 -0.0038  0.0031  1926.0   11.0  NaN   \n",
       "...          ...     ...     ...     ...     ...     ...    ...  ...   \n",
       "1139  2021-06-01  0.0275  0.0180 -0.0776  0.0000  2021.0    6.0  NaN   \n",
       "1140  2021-07-01  0.0127 -0.0396 -0.0175  0.0000  2021.0    7.0  NaN   \n",
       "1141  2021-08-01  0.0290 -0.0048 -0.0013  0.0000  2021.0    8.0  NaN   \n",
       "1142  2021-09-01 -0.0437  0.0080  0.0509  0.0000  2021.0    9.0  NaN   \n",
       "1143  2021-10-01  0.0665 -0.0228 -0.0045  0.0000  2021.0   10.0  NaN   \n",
       "\n",
       "          dateff  \n",
       "0     1926-07-31  \n",
       "1     1926-08-31  \n",
       "2     1926-09-30  \n",
       "3     1926-10-30  \n",
       "4     1926-11-30  \n",
       "...          ...  \n",
       "1139  2021-06-30  \n",
       "1140  2021-07-30  \n",
       "1141  2021-08-31  \n",
       "1142  2021-09-30  \n",
       "1143  2021-10-29  \n",
       "\n",
       "[1144 rows x 9 columns]"
      ]
     },
     "execution_count": 2,
     "metadata": {},
     "output_type": "execute_result"
    }
   ],
   "source": [
    "ff = pd.read_pickle('../data/ff.zip')\n",
    "ff"
   ]
  },
  {
   "cell_type": "markdown",
   "id": "2ed42ef7",
   "metadata": {},
   "source": [
    "Print out the number of rows and the number of columns of ``crsp``."
   ]
  },
  {
   "cell_type": "code",
   "execution_count": null,
   "id": "85143a44",
   "metadata": {},
   "outputs": [],
   "source": []
  },
  {
   "cell_type": "markdown",
   "id": "ff15ed16",
   "metadata": {},
   "source": [
    "Print out the data types of all columns in ``crsp``."
   ]
  },
  {
   "cell_type": "code",
   "execution_count": null,
   "id": "9c96fd99",
   "metadata": {},
   "outputs": [],
   "source": []
  },
  {
   "cell_type": "markdown",
   "id": "f10785a4",
   "metadata": {},
   "source": [
    "Replace the column names in ``crsp`` with a version of themselves that is all lower case and stripped of any leading and trailing white spaces. Then print these new column names out."
   ]
  },
  {
   "cell_type": "code",
   "execution_count": null,
   "id": "edbac5cd",
   "metadata": {},
   "outputs": [],
   "source": []
  },
  {
   "cell_type": "markdown",
   "id": "7456b176",
   "metadata": {},
   "source": [
    "Convert the following columns to integer (``int64``) type: 'permno','permco','shrcd','exchcd', 'siccd'. Then print all data types again to verify that this was done correctly."
   ]
  },
  {
   "cell_type": "code",
   "execution_count": null,
   "id": "4ba40cd9",
   "metadata": {},
   "outputs": [],
   "source": []
  },
  {
   "cell_type": "markdown",
   "id": "1a651ac7",
   "metadata": {},
   "source": [
    "Convert ``siccd`` and ``ticker`` to ``string`` type. Then print all data types again to verify that this was done correctly."
   ]
  },
  {
   "cell_type": "code",
   "execution_count": null,
   "id": "a775c7e3",
   "metadata": {},
   "outputs": [],
   "source": []
  },
  {
   "cell_type": "markdown",
   "id": "b981666e",
   "metadata": {},
   "source": [
    "Replace ``crsp`` with a version of itself that does not have any duplicates with respect to ``permno`` and ``date`` (i.e. no two rows with the same ``permno`` and the same ``date``). Then print the number of rows and columns again to see if any rows were dropped."
   ]
  },
  {
   "cell_type": "code",
   "execution_count": null,
   "id": "203254ee",
   "metadata": {},
   "outputs": [],
   "source": []
  },
  {
   "cell_type": "markdown",
   "id": "fc70f748",
   "metadata": {},
   "source": [
    "Replace ``crsp`` with a version of itself that does not have any missing values for ``ret``. Then print the number of rows and columns again to see if any rows were dropped."
   ]
  },
  {
   "cell_type": "code",
   "execution_count": null,
   "id": "1371f5d5",
   "metadata": {},
   "outputs": [],
   "source": []
  },
  {
   "cell_type": "markdown",
   "id": "10071e9b",
   "metadata": {},
   "source": [
    "Create a new column called ``sic1d`` which contains only the first digit in ``siccd``. Then print the first 5 rows of ``crsp``."
   ]
  },
  {
   "cell_type": "code",
   "execution_count": null,
   "id": "584e1171",
   "metadata": {},
   "outputs": [],
   "source": []
  },
  {
   "cell_type": "markdown",
   "id": "de502a1a",
   "metadata": {},
   "source": [
    "Print out how many times each value of ``sic1d`` appears in ``crsp``."
   ]
  },
  {
   "cell_type": "code",
   "execution_count": null,
   "id": "de79a3fe",
   "metadata": {},
   "outputs": [],
   "source": []
  },
  {
   "cell_type": "markdown",
   "id": "e1a980c7",
   "metadata": {},
   "source": [
    "Create a new column called ``mktcap`` (market capitalization) which equals ``shrout`` (shares outstanding) times the absolute value of ``prc`` (use the ``.abs()`` Pandas attribute to calculate the absolute value). Then print the first 5 rows of ``crsp``."
   ]
  },
  {
   "cell_type": "code",
   "execution_count": null,
   "id": "34f4df2a",
   "metadata": {},
   "outputs": [],
   "source": []
  },
  {
   "cell_type": "markdown",
   "id": "39791cc8",
   "metadata": {},
   "source": [
    "Use ``.describe()`` to summarize the ``ret`` and ``mktcap`` variables."
   ]
  },
  {
   "cell_type": "code",
   "execution_count": null,
   "id": "49f9c5bc",
   "metadata": {},
   "outputs": [],
   "source": []
  }
 ],
 "metadata": {
  "kernelspec": {
   "display_name": "base",
   "language": "python",
   "name": "python3"
  },
  "language_info": {
   "codemirror_mode": {
    "name": "ipython",
    "version": 3
   },
   "file_extension": ".py",
   "mimetype": "text/x-python",
   "name": "python",
   "nbconvert_exporter": "python",
   "pygments_lexer": "ipython3",
   "version": "3.8.5"
  },
  "toc": {
   "base_numbering": 1,
   "nav_menu": {},
   "number_sections": true,
   "sideBar": true,
   "skip_h1_title": false,
   "title_cell": "Table of Contents",
   "title_sidebar": "Contents",
   "toc_cell": false,
   "toc_position": {},
   "toc_section_display": true,
   "toc_window_display": false
  },
  "vscode": {
   "interpreter": {
    "hash": "c0d7515943f2d5e6ef3c63d1d45fe29892fe24bc9a1e3b83271f719b8681d46b"
   }
  }
 },
 "nbformat": 4,
 "nbformat_minor": 5
}
