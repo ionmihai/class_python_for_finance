{
 "cells": [
  {
   "cell_type": "markdown",
   "id": "6a69c9a1",
   "metadata": {},
   "source": [
    "# Preliminaries"
   ]
  },
  {
   "cell_type": "code",
   "execution_count": 1,
   "id": "24b7f508",
   "metadata": {},
   "outputs": [],
   "source": [
    "import pandas as pd\n",
    "import numpy as np"
   ]
  },
  {
   "cell_type": "code",
   "execution_count": 2,
   "id": "8363a739",
   "metadata": {},
   "outputs": [
    {
     "data": {
      "text/html": [
       "<div>\n",
       "<style scoped>\n",
       "    .dataframe tbody tr th:only-of-type {\n",
       "        vertical-align: middle;\n",
       "    }\n",
       "\n",
       "    .dataframe tbody tr th {\n",
       "        vertical-align: top;\n",
       "    }\n",
       "\n",
       "    .dataframe thead th {\n",
       "        text-align: right;\n",
       "    }\n",
       "</style>\n",
       "<table border=\"1\" class=\"dataframe\">\n",
       "  <thead>\n",
       "    <tr style=\"text-align: right;\">\n",
       "      <th></th>\n",
       "      <th>firmid</th>\n",
       "      <th>date</th>\n",
       "      <th>return</th>\n",
       "      <th>industry</th>\n",
       "      <th>ind_code</th>\n",
       "    </tr>\n",
       "  </thead>\n",
       "  <tbody>\n",
       "    <tr>\n",
       "      <th>0</th>\n",
       "      <td>1</td>\n",
       "      <td>12/31/2008</td>\n",
       "      <td>0.05</td>\n",
       "      <td>Finance</td>\n",
       "      <td>1</td>\n",
       "    </tr>\n",
       "    <tr>\n",
       "      <th>1</th>\n",
       "      <td>2</td>\n",
       "      <td>NaN</td>\n",
       "      <td>0.45</td>\n",
       "      <td>Construction</td>\n",
       "      <td>2</td>\n",
       "    </tr>\n",
       "    <tr>\n",
       "      <th>2</th>\n",
       "      <td>3</td>\n",
       "      <td>12/31/2008</td>\n",
       "      <td>23.00</td>\n",
       "      <td>NaN</td>\n",
       "      <td>M</td>\n",
       "    </tr>\n",
       "    <tr>\n",
       "      <th>3</th>\n",
       "      <td>1</td>\n",
       "      <td>12/31/2009</td>\n",
       "      <td>0.87</td>\n",
       "      <td>Finance</td>\n",
       "      <td>1</td>\n",
       "    </tr>\n",
       "    <tr>\n",
       "      <th>4</th>\n",
       "      <td>2</td>\n",
       "      <td>12/31/2009</td>\n",
       "      <td>NaN</td>\n",
       "      <td>Construct</td>\n",
       "      <td>2</td>\n",
       "    </tr>\n",
       "    <tr>\n",
       "      <th>5</th>\n",
       "      <td>2</td>\n",
       "      <td>12/31/2009</td>\n",
       "      <td>0.34</td>\n",
       "      <td>Construction</td>\n",
       "      <td>2</td>\n",
       "    </tr>\n",
       "  </tbody>\n",
       "</table>\n",
       "</div>"
      ],
      "text/plain": [
       "   firmid        date  return      industry ind_code\n",
       "0       1  12/31/2008    0.05       Finance        1\n",
       "1       2         NaN    0.45  Construction        2\n",
       "2       3  12/31/2008   23.00           NaN        M\n",
       "3       1  12/31/2009    0.87       Finance        1\n",
       "4       2  12/31/2009     NaN     Construct        2\n",
       "5       2  12/31/2009    0.34  Construction        2"
      ]
     },
     "execution_count": 2,
     "metadata": {},
     "output_type": "execute_result"
    }
   ],
   "source": [
    "df = pd.read_excel('./rawdata.xlsx')\n",
    "df"
   ]
  },
  {
   "cell_type": "code",
   "execution_count": 3,
   "id": "6ad440af",
   "metadata": {},
   "outputs": [
    {
     "data": {
      "text/plain": [
       "firmid        int64\n",
       "date         object\n",
       "return      float64\n",
       "industry     object\n",
       "ind_code     object\n",
       "dtype: object"
      ]
     },
     "execution_count": 3,
     "metadata": {},
     "output_type": "execute_result"
    }
   ],
   "source": [
    "df.dtypes"
   ]
  },
  {
   "cell_type": "code",
   "execution_count": 4,
   "id": "7a9f0425",
   "metadata": {},
   "outputs": [
    {
     "name": "stdout",
     "output_type": "stream",
     "text": [
      "<class 'pandas.core.frame.DataFrame'>\n",
      "RangeIndex: 6 entries, 0 to 5\n",
      "Data columns (total 5 columns):\n",
      " #   Column    Non-Null Count  Dtype  \n",
      "---  ------    --------------  -----  \n",
      " 0   firmid    6 non-null      int64  \n",
      " 1   date      5 non-null      object \n",
      " 2   return    5 non-null      float64\n",
      " 3   industry  5 non-null      object \n",
      " 4   ind_code  6 non-null      object \n",
      "dtypes: float64(1), int64(1), object(3)\n",
      "memory usage: 372.0+ bytes\n"
     ]
    }
   ],
   "source": [
    "df.info()"
   ]
  },
  {
   "cell_type": "markdown",
   "id": "3ca65b1f",
   "metadata": {},
   "source": [
    "The \"object\" data type (for the ``industry`` and ``ind_code`` columns) is a catch-all term for when Pandas can not determine the exact data type of that column (e.g. int, float, str, etc). Many times, columns containing strings will have this data type."
   ]
  },
  {
   "cell_type": "code",
   "execution_count": 5,
   "id": "51429a7e",
   "metadata": {},
   "outputs": [
    {
     "data": {
      "text/html": [
       "<div>\n",
       "<style scoped>\n",
       "    .dataframe tbody tr th:only-of-type {\n",
       "        vertical-align: middle;\n",
       "    }\n",
       "\n",
       "    .dataframe tbody tr th {\n",
       "        vertical-align: top;\n",
       "    }\n",
       "\n",
       "    .dataframe thead th {\n",
       "        text-align: right;\n",
       "    }\n",
       "</style>\n",
       "<table border=\"1\" class=\"dataframe\">\n",
       "  <thead>\n",
       "    <tr style=\"text-align: right;\">\n",
       "      <th></th>\n",
       "      <th>firmid</th>\n",
       "      <th>return</th>\n",
       "    </tr>\n",
       "  </thead>\n",
       "  <tbody>\n",
       "    <tr>\n",
       "      <th>count</th>\n",
       "      <td>6.000000</td>\n",
       "      <td>5.000000</td>\n",
       "    </tr>\n",
       "    <tr>\n",
       "      <th>mean</th>\n",
       "      <td>1.833333</td>\n",
       "      <td>4.942000</td>\n",
       "    </tr>\n",
       "    <tr>\n",
       "      <th>std</th>\n",
       "      <td>0.752773</td>\n",
       "      <td>10.099018</td>\n",
       "    </tr>\n",
       "    <tr>\n",
       "      <th>min</th>\n",
       "      <td>1.000000</td>\n",
       "      <td>0.050000</td>\n",
       "    </tr>\n",
       "    <tr>\n",
       "      <th>25%</th>\n",
       "      <td>1.250000</td>\n",
       "      <td>0.340000</td>\n",
       "    </tr>\n",
       "    <tr>\n",
       "      <th>50%</th>\n",
       "      <td>2.000000</td>\n",
       "      <td>0.450000</td>\n",
       "    </tr>\n",
       "    <tr>\n",
       "      <th>75%</th>\n",
       "      <td>2.000000</td>\n",
       "      <td>0.870000</td>\n",
       "    </tr>\n",
       "    <tr>\n",
       "      <th>max</th>\n",
       "      <td>3.000000</td>\n",
       "      <td>23.000000</td>\n",
       "    </tr>\n",
       "  </tbody>\n",
       "</table>\n",
       "</div>"
      ],
      "text/plain": [
       "         firmid     return\n",
       "count  6.000000   5.000000\n",
       "mean   1.833333   4.942000\n",
       "std    0.752773  10.099018\n",
       "min    1.000000   0.050000\n",
       "25%    1.250000   0.340000\n",
       "50%    2.000000   0.450000\n",
       "75%    2.000000   0.870000\n",
       "max    3.000000  23.000000"
      ]
     },
     "execution_count": 5,
     "metadata": {},
     "output_type": "execute_result"
    }
   ],
   "source": [
    "df.describe()"
   ]
  },
  {
   "cell_type": "markdown",
   "id": "001255ff",
   "metadata": {},
   "source": [
    "# Missing values"
   ]
  },
  {
   "cell_type": "markdown",
   "id": "63afc09b",
   "metadata": {},
   "source": [
    "Missing values appear as a special code depending on the datatype of the column in which they appear: ``NaN`` (which stands for \"not a number\") for numeric data types, ``None`` or ``NaN`` for object data type, ``NaT`` for \"datetime\" columns (more on this data type later). "
   ]
  },
  {
   "cell_type": "markdown",
   "id": "12f06200",
   "metadata": {},
   "source": [
    "To find the missing values in the data, we can use the ``.isnull`` (or its equivalent: ``.isna()``):"
   ]
  },
  {
   "cell_type": "code",
   "execution_count": 6,
   "id": "f2b8ae5d",
   "metadata": {},
   "outputs": [
    {
     "data": {
      "text/plain": [
       "0    False\n",
       "1    False\n",
       "2    False\n",
       "3    False\n",
       "4     True\n",
       "5    False\n",
       "Name: return, dtype: bool"
      ]
     },
     "execution_count": 6,
     "metadata": {},
     "output_type": "execute_result"
    }
   ],
   "source": [
    "df['return'].isnull()"
   ]
  },
  {
   "cell_type": "code",
   "execution_count": 7,
   "id": "99b0a2eb",
   "metadata": {},
   "outputs": [
    {
     "data": {
      "text/html": [
       "<div>\n",
       "<style scoped>\n",
       "    .dataframe tbody tr th:only-of-type {\n",
       "        vertical-align: middle;\n",
       "    }\n",
       "\n",
       "    .dataframe tbody tr th {\n",
       "        vertical-align: top;\n",
       "    }\n",
       "\n",
       "    .dataframe thead th {\n",
       "        text-align: right;\n",
       "    }\n",
       "</style>\n",
       "<table border=\"1\" class=\"dataframe\">\n",
       "  <thead>\n",
       "    <tr style=\"text-align: right;\">\n",
       "      <th></th>\n",
       "      <th>firmid</th>\n",
       "      <th>date</th>\n",
       "      <th>return</th>\n",
       "      <th>industry</th>\n",
       "      <th>ind_code</th>\n",
       "    </tr>\n",
       "  </thead>\n",
       "  <tbody>\n",
       "    <tr>\n",
       "      <th>4</th>\n",
       "      <td>2</td>\n",
       "      <td>12/31/2009</td>\n",
       "      <td>NaN</td>\n",
       "      <td>Construct</td>\n",
       "      <td>2</td>\n",
       "    </tr>\n",
       "  </tbody>\n",
       "</table>\n",
       "</div>"
      ],
      "text/plain": [
       "   firmid        date  return   industry ind_code\n",
       "4       2  12/31/2009     NaN  Construct        2"
      ]
     },
     "execution_count": 7,
     "metadata": {},
     "output_type": "execute_result"
    }
   ],
   "source": [
    "df.loc[df['return'].isnull(),:]"
   ]
  },
  {
   "cell_type": "markdown",
   "id": "a02b05d5",
   "metadata": {},
   "source": [
    "We can drop all the rows that have any missing values using the ``.dropna()`` function:"
   ]
  },
  {
   "cell_type": "code",
   "execution_count": 8,
   "id": "c04b82ea",
   "metadata": {},
   "outputs": [
    {
     "data": {
      "text/html": [
       "<div>\n",
       "<style scoped>\n",
       "    .dataframe tbody tr th:only-of-type {\n",
       "        vertical-align: middle;\n",
       "    }\n",
       "\n",
       "    .dataframe tbody tr th {\n",
       "        vertical-align: top;\n",
       "    }\n",
       "\n",
       "    .dataframe thead th {\n",
       "        text-align: right;\n",
       "    }\n",
       "</style>\n",
       "<table border=\"1\" class=\"dataframe\">\n",
       "  <thead>\n",
       "    <tr style=\"text-align: right;\">\n",
       "      <th></th>\n",
       "      <th>firmid</th>\n",
       "      <th>date</th>\n",
       "      <th>return</th>\n",
       "      <th>industry</th>\n",
       "      <th>ind_code</th>\n",
       "    </tr>\n",
       "  </thead>\n",
       "  <tbody>\n",
       "    <tr>\n",
       "      <th>0</th>\n",
       "      <td>1</td>\n",
       "      <td>12/31/2008</td>\n",
       "      <td>0.05</td>\n",
       "      <td>Finance</td>\n",
       "      <td>1</td>\n",
       "    </tr>\n",
       "    <tr>\n",
       "      <th>3</th>\n",
       "      <td>1</td>\n",
       "      <td>12/31/2009</td>\n",
       "      <td>0.87</td>\n",
       "      <td>Finance</td>\n",
       "      <td>1</td>\n",
       "    </tr>\n",
       "    <tr>\n",
       "      <th>5</th>\n",
       "      <td>2</td>\n",
       "      <td>12/31/2009</td>\n",
       "      <td>0.34</td>\n",
       "      <td>Construction</td>\n",
       "      <td>2</td>\n",
       "    </tr>\n",
       "  </tbody>\n",
       "</table>\n",
       "</div>"
      ],
      "text/plain": [
       "   firmid        date  return      industry ind_code\n",
       "0       1  12/31/2008    0.05       Finance        1\n",
       "3       1  12/31/2009    0.87       Finance        1\n",
       "5       2  12/31/2009    0.34  Construction        2"
      ]
     },
     "execution_count": 8,
     "metadata": {},
     "output_type": "execute_result"
    }
   ],
   "source": [
    "df2 = df.dropna()\n",
    "df2"
   ]
  },
  {
   "cell_type": "markdown",
   "id": "bf925a43",
   "metadata": {},
   "source": [
    "If we want to drop the rows that have **only** missing values, we have the use ``how = 'all'`` as a parameter:"
   ]
  },
  {
   "cell_type": "code",
   "execution_count": 9,
   "id": "7ce7cd4f",
   "metadata": {},
   "outputs": [
    {
     "data": {
      "text/html": [
       "<div>\n",
       "<style scoped>\n",
       "    .dataframe tbody tr th:only-of-type {\n",
       "        vertical-align: middle;\n",
       "    }\n",
       "\n",
       "    .dataframe tbody tr th {\n",
       "        vertical-align: top;\n",
       "    }\n",
       "\n",
       "    .dataframe thead th {\n",
       "        text-align: right;\n",
       "    }\n",
       "</style>\n",
       "<table border=\"1\" class=\"dataframe\">\n",
       "  <thead>\n",
       "    <tr style=\"text-align: right;\">\n",
       "      <th></th>\n",
       "      <th>firmid</th>\n",
       "      <th>date</th>\n",
       "      <th>return</th>\n",
       "      <th>industry</th>\n",
       "      <th>ind_code</th>\n",
       "    </tr>\n",
       "  </thead>\n",
       "  <tbody>\n",
       "    <tr>\n",
       "      <th>0</th>\n",
       "      <td>1</td>\n",
       "      <td>12/31/2008</td>\n",
       "      <td>0.05</td>\n",
       "      <td>Finance</td>\n",
       "      <td>1</td>\n",
       "    </tr>\n",
       "    <tr>\n",
       "      <th>1</th>\n",
       "      <td>2</td>\n",
       "      <td>NaN</td>\n",
       "      <td>0.45</td>\n",
       "      <td>Construction</td>\n",
       "      <td>2</td>\n",
       "    </tr>\n",
       "    <tr>\n",
       "      <th>2</th>\n",
       "      <td>3</td>\n",
       "      <td>12/31/2008</td>\n",
       "      <td>23.00</td>\n",
       "      <td>NaN</td>\n",
       "      <td>M</td>\n",
       "    </tr>\n",
       "    <tr>\n",
       "      <th>3</th>\n",
       "      <td>1</td>\n",
       "      <td>12/31/2009</td>\n",
       "      <td>0.87</td>\n",
       "      <td>Finance</td>\n",
       "      <td>1</td>\n",
       "    </tr>\n",
       "    <tr>\n",
       "      <th>4</th>\n",
       "      <td>2</td>\n",
       "      <td>12/31/2009</td>\n",
       "      <td>NaN</td>\n",
       "      <td>Construct</td>\n",
       "      <td>2</td>\n",
       "    </tr>\n",
       "    <tr>\n",
       "      <th>5</th>\n",
       "      <td>2</td>\n",
       "      <td>12/31/2009</td>\n",
       "      <td>0.34</td>\n",
       "      <td>Construction</td>\n",
       "      <td>2</td>\n",
       "    </tr>\n",
       "  </tbody>\n",
       "</table>\n",
       "</div>"
      ],
      "text/plain": [
       "   firmid        date  return      industry ind_code\n",
       "0       1  12/31/2008    0.05       Finance        1\n",
       "1       2         NaN    0.45  Construction        2\n",
       "2       3  12/31/2008   23.00           NaN        M\n",
       "3       1  12/31/2009    0.87       Finance        1\n",
       "4       2  12/31/2009     NaN     Construct        2\n",
       "5       2  12/31/2009    0.34  Construction        2"
      ]
     },
     "execution_count": 9,
     "metadata": {},
     "output_type": "execute_result"
    }
   ],
   "source": [
    "df2 = df.dropna(how='all')\n",
    "df2"
   ]
  },
  {
   "cell_type": "markdown",
   "id": "ac921467",
   "metadata": {},
   "source": [
    "If we want to remove all raws that contain missing values in a given column, we have to use ``.loc[]`` and the ``.notnull()`` function:"
   ]
  },
  {
   "cell_type": "code",
   "execution_count": 10,
   "id": "259cc352",
   "metadata": {},
   "outputs": [
    {
     "data": {
      "text/html": [
       "<div>\n",
       "<style scoped>\n",
       "    .dataframe tbody tr th:only-of-type {\n",
       "        vertical-align: middle;\n",
       "    }\n",
       "\n",
       "    .dataframe tbody tr th {\n",
       "        vertical-align: top;\n",
       "    }\n",
       "\n",
       "    .dataframe thead th {\n",
       "        text-align: right;\n",
       "    }\n",
       "</style>\n",
       "<table border=\"1\" class=\"dataframe\">\n",
       "  <thead>\n",
       "    <tr style=\"text-align: right;\">\n",
       "      <th></th>\n",
       "      <th>firmid</th>\n",
       "      <th>date</th>\n",
       "      <th>return</th>\n",
       "      <th>industry</th>\n",
       "      <th>ind_code</th>\n",
       "    </tr>\n",
       "  </thead>\n",
       "  <tbody>\n",
       "    <tr>\n",
       "      <th>0</th>\n",
       "      <td>1</td>\n",
       "      <td>12/31/2008</td>\n",
       "      <td>0.05</td>\n",
       "      <td>Finance</td>\n",
       "      <td>1</td>\n",
       "    </tr>\n",
       "    <tr>\n",
       "      <th>1</th>\n",
       "      <td>2</td>\n",
       "      <td>NaN</td>\n",
       "      <td>0.45</td>\n",
       "      <td>Construction</td>\n",
       "      <td>2</td>\n",
       "    </tr>\n",
       "    <tr>\n",
       "      <th>2</th>\n",
       "      <td>3</td>\n",
       "      <td>12/31/2008</td>\n",
       "      <td>23.00</td>\n",
       "      <td>NaN</td>\n",
       "      <td>M</td>\n",
       "    </tr>\n",
       "    <tr>\n",
       "      <th>3</th>\n",
       "      <td>1</td>\n",
       "      <td>12/31/2009</td>\n",
       "      <td>0.87</td>\n",
       "      <td>Finance</td>\n",
       "      <td>1</td>\n",
       "    </tr>\n",
       "    <tr>\n",
       "      <th>5</th>\n",
       "      <td>2</td>\n",
       "      <td>12/31/2009</td>\n",
       "      <td>0.34</td>\n",
       "      <td>Construction</td>\n",
       "      <td>2</td>\n",
       "    </tr>\n",
       "  </tbody>\n",
       "</table>\n",
       "</div>"
      ],
      "text/plain": [
       "   firmid        date  return      industry ind_code\n",
       "0       1  12/31/2008    0.05       Finance        1\n",
       "1       2         NaN    0.45  Construction        2\n",
       "2       3  12/31/2008   23.00           NaN        M\n",
       "3       1  12/31/2009    0.87       Finance        1\n",
       "5       2  12/31/2009    0.34  Construction        2"
      ]
     },
     "execution_count": 10,
     "metadata": {},
     "output_type": "execute_result"
    }
   ],
   "source": [
    "df2 = df.loc[df['return'].notnull(), :]\n",
    "df2"
   ]
  },
  {
   "cell_type": "markdown",
   "id": "a19ae8dd",
   "metadata": {},
   "source": [
    "or we can use the ``subset`` parameter of the ``dropna`` function, which tells the function to look for missing values only in a subset of the columns: "
   ]
  },
  {
   "cell_type": "code",
   "execution_count": 11,
   "id": "07c29f93",
   "metadata": {},
   "outputs": [
    {
     "data": {
      "text/html": [
       "<div>\n",
       "<style scoped>\n",
       "    .dataframe tbody tr th:only-of-type {\n",
       "        vertical-align: middle;\n",
       "    }\n",
       "\n",
       "    .dataframe tbody tr th {\n",
       "        vertical-align: top;\n",
       "    }\n",
       "\n",
       "    .dataframe thead th {\n",
       "        text-align: right;\n",
       "    }\n",
       "</style>\n",
       "<table border=\"1\" class=\"dataframe\">\n",
       "  <thead>\n",
       "    <tr style=\"text-align: right;\">\n",
       "      <th></th>\n",
       "      <th>firmid</th>\n",
       "      <th>date</th>\n",
       "      <th>return</th>\n",
       "      <th>industry</th>\n",
       "      <th>ind_code</th>\n",
       "    </tr>\n",
       "  </thead>\n",
       "  <tbody>\n",
       "    <tr>\n",
       "      <th>0</th>\n",
       "      <td>1</td>\n",
       "      <td>12/31/2008</td>\n",
       "      <td>0.05</td>\n",
       "      <td>Finance</td>\n",
       "      <td>1</td>\n",
       "    </tr>\n",
       "    <tr>\n",
       "      <th>1</th>\n",
       "      <td>2</td>\n",
       "      <td>NaN</td>\n",
       "      <td>0.45</td>\n",
       "      <td>Construction</td>\n",
       "      <td>2</td>\n",
       "    </tr>\n",
       "    <tr>\n",
       "      <th>2</th>\n",
       "      <td>3</td>\n",
       "      <td>12/31/2008</td>\n",
       "      <td>23.00</td>\n",
       "      <td>NaN</td>\n",
       "      <td>M</td>\n",
       "    </tr>\n",
       "    <tr>\n",
       "      <th>3</th>\n",
       "      <td>1</td>\n",
       "      <td>12/31/2009</td>\n",
       "      <td>0.87</td>\n",
       "      <td>Finance</td>\n",
       "      <td>1</td>\n",
       "    </tr>\n",
       "    <tr>\n",
       "      <th>5</th>\n",
       "      <td>2</td>\n",
       "      <td>12/31/2009</td>\n",
       "      <td>0.34</td>\n",
       "      <td>Construction</td>\n",
       "      <td>2</td>\n",
       "    </tr>\n",
       "  </tbody>\n",
       "</table>\n",
       "</div>"
      ],
      "text/plain": [
       "   firmid        date  return      industry ind_code\n",
       "0       1  12/31/2008    0.05       Finance        1\n",
       "1       2         NaN    0.45  Construction        2\n",
       "2       3  12/31/2008   23.00           NaN        M\n",
       "3       1  12/31/2009    0.87       Finance        1\n",
       "5       2  12/31/2009    0.34  Construction        2"
      ]
     },
     "execution_count": 11,
     "metadata": {},
     "output_type": "execute_result"
    }
   ],
   "source": [
    "df2 = df.dropna(subset=['return'])\n",
    "df2"
   ]
  },
  {
   "cell_type": "markdown",
   "id": "7bd63891",
   "metadata": {},
   "source": [
    "# Changing data types\n",
    "\n",
    "Many times, a particular column in our dataframe does not have the datatype we want. There are several functions that allow us to convert one datatype to another. Below, we cover the most commonly used ones:"
   ]
  },
  {
   "cell_type": "markdown",
   "id": "22249e54",
   "metadata": {},
   "source": [
    "## ``.astype()``\n",
    "\n",
    "Specify the new datatype that you want to convert to as an argument to ``.astype()``:"
   ]
  },
  {
   "cell_type": "code",
   "execution_count": 12,
   "id": "fc41901c",
   "metadata": {},
   "outputs": [
    {
     "data": {
      "text/plain": [
       "firmid        int64\n",
       "date         object\n",
       "return      float64\n",
       "industry     object\n",
       "ind_code     object\n",
       "dtype: object"
      ]
     },
     "execution_count": 12,
     "metadata": {},
     "output_type": "execute_result"
    }
   ],
   "source": [
    "df2 = df.copy()\n",
    "df2.dtypes"
   ]
  },
  {
   "cell_type": "code",
   "execution_count": 13,
   "id": "62cca25b",
   "metadata": {},
   "outputs": [
    {
     "data": {
      "text/plain": [
       "firmid      float64\n",
       "date         object\n",
       "return      float64\n",
       "industry     object\n",
       "ind_code     object\n",
       "dtype: object"
      ]
     },
     "execution_count": 13,
     "metadata": {},
     "output_type": "execute_result"
    }
   ],
   "source": [
    "df2['firmid'] = df2['firmid'].astype('float64')\n",
    "df2.dtypes"
   ]
  },
  {
   "cell_type": "code",
   "execution_count": 14,
   "id": "766f6011",
   "metadata": {},
   "outputs": [
    {
     "data": {
      "text/html": [
       "<div>\n",
       "<style scoped>\n",
       "    .dataframe tbody tr th:only-of-type {\n",
       "        vertical-align: middle;\n",
       "    }\n",
       "\n",
       "    .dataframe tbody tr th {\n",
       "        vertical-align: top;\n",
       "    }\n",
       "\n",
       "    .dataframe thead th {\n",
       "        text-align: right;\n",
       "    }\n",
       "</style>\n",
       "<table border=\"1\" class=\"dataframe\">\n",
       "  <thead>\n",
       "    <tr style=\"text-align: right;\">\n",
       "      <th></th>\n",
       "      <th>firmid</th>\n",
       "      <th>date</th>\n",
       "      <th>return</th>\n",
       "      <th>industry</th>\n",
       "      <th>ind_code</th>\n",
       "    </tr>\n",
       "  </thead>\n",
       "  <tbody>\n",
       "    <tr>\n",
       "      <th>0</th>\n",
       "      <td>1.0</td>\n",
       "      <td>12/31/2008</td>\n",
       "      <td>0.05</td>\n",
       "      <td>Finance</td>\n",
       "      <td>1</td>\n",
       "    </tr>\n",
       "    <tr>\n",
       "      <th>1</th>\n",
       "      <td>2.0</td>\n",
       "      <td>NaN</td>\n",
       "      <td>0.45</td>\n",
       "      <td>Construction</td>\n",
       "      <td>2</td>\n",
       "    </tr>\n",
       "    <tr>\n",
       "      <th>2</th>\n",
       "      <td>3.0</td>\n",
       "      <td>12/31/2008</td>\n",
       "      <td>23.00</td>\n",
       "      <td>NaN</td>\n",
       "      <td>M</td>\n",
       "    </tr>\n",
       "    <tr>\n",
       "      <th>3</th>\n",
       "      <td>1.0</td>\n",
       "      <td>12/31/2009</td>\n",
       "      <td>0.87</td>\n",
       "      <td>Finance</td>\n",
       "      <td>1</td>\n",
       "    </tr>\n",
       "    <tr>\n",
       "      <th>4</th>\n",
       "      <td>2.0</td>\n",
       "      <td>12/31/2009</td>\n",
       "      <td>NaN</td>\n",
       "      <td>Construct</td>\n",
       "      <td>2</td>\n",
       "    </tr>\n",
       "    <tr>\n",
       "      <th>5</th>\n",
       "      <td>2.0</td>\n",
       "      <td>12/31/2009</td>\n",
       "      <td>0.34</td>\n",
       "      <td>Construction</td>\n",
       "      <td>2</td>\n",
       "    </tr>\n",
       "  </tbody>\n",
       "</table>\n",
       "</div>"
      ],
      "text/plain": [
       "   firmid        date  return      industry ind_code\n",
       "0     1.0  12/31/2008    0.05       Finance        1\n",
       "1     2.0         NaN    0.45  Construction        2\n",
       "2     3.0  12/31/2008   23.00           NaN        M\n",
       "3     1.0  12/31/2009    0.87       Finance        1\n",
       "4     2.0  12/31/2009     NaN     Construct        2\n",
       "5     2.0  12/31/2009    0.34  Construction        2"
      ]
     },
     "execution_count": 14,
     "metadata": {},
     "output_type": "execute_result"
    }
   ],
   "source": [
    "df2"
   ]
  },
  {
   "cell_type": "code",
   "execution_count": 15,
   "id": "772229bf",
   "metadata": {},
   "outputs": [
    {
     "data": {
      "text/plain": [
       "firmid      string[python]\n",
       "date                object\n",
       "return             float64\n",
       "industry            object\n",
       "ind_code            object\n",
       "dtype: object"
      ]
     },
     "execution_count": 15,
     "metadata": {},
     "output_type": "execute_result"
    }
   ],
   "source": [
    "df2['firmid'] = df2['firmid'].astype('string')\n",
    "df2.dtypes"
   ]
  },
  {
   "cell_type": "code",
   "execution_count": 16,
   "id": "b350b59a",
   "metadata": {},
   "outputs": [
    {
     "data": {
      "text/html": [
       "<div>\n",
       "<style scoped>\n",
       "    .dataframe tbody tr th:only-of-type {\n",
       "        vertical-align: middle;\n",
       "    }\n",
       "\n",
       "    .dataframe tbody tr th {\n",
       "        vertical-align: top;\n",
       "    }\n",
       "\n",
       "    .dataframe thead th {\n",
       "        text-align: right;\n",
       "    }\n",
       "</style>\n",
       "<table border=\"1\" class=\"dataframe\">\n",
       "  <thead>\n",
       "    <tr style=\"text-align: right;\">\n",
       "      <th></th>\n",
       "      <th>firmid</th>\n",
       "      <th>date</th>\n",
       "      <th>return</th>\n",
       "      <th>industry</th>\n",
       "      <th>ind_code</th>\n",
       "    </tr>\n",
       "  </thead>\n",
       "  <tbody>\n",
       "    <tr>\n",
       "      <th>0</th>\n",
       "      <td>1.0</td>\n",
       "      <td>12/31/2008</td>\n",
       "      <td>0.05</td>\n",
       "      <td>Finance</td>\n",
       "      <td>1</td>\n",
       "    </tr>\n",
       "    <tr>\n",
       "      <th>1</th>\n",
       "      <td>2.0</td>\n",
       "      <td>NaN</td>\n",
       "      <td>0.45</td>\n",
       "      <td>Construction</td>\n",
       "      <td>2</td>\n",
       "    </tr>\n",
       "    <tr>\n",
       "      <th>2</th>\n",
       "      <td>3.0</td>\n",
       "      <td>12/31/2008</td>\n",
       "      <td>23.00</td>\n",
       "      <td>NaN</td>\n",
       "      <td>M</td>\n",
       "    </tr>\n",
       "    <tr>\n",
       "      <th>3</th>\n",
       "      <td>1.0</td>\n",
       "      <td>12/31/2009</td>\n",
       "      <td>0.87</td>\n",
       "      <td>Finance</td>\n",
       "      <td>1</td>\n",
       "    </tr>\n",
       "    <tr>\n",
       "      <th>4</th>\n",
       "      <td>2.0</td>\n",
       "      <td>12/31/2009</td>\n",
       "      <td>NaN</td>\n",
       "      <td>Construct</td>\n",
       "      <td>2</td>\n",
       "    </tr>\n",
       "    <tr>\n",
       "      <th>5</th>\n",
       "      <td>2.0</td>\n",
       "      <td>12/31/2009</td>\n",
       "      <td>0.34</td>\n",
       "      <td>Construction</td>\n",
       "      <td>2</td>\n",
       "    </tr>\n",
       "  </tbody>\n",
       "</table>\n",
       "</div>"
      ],
      "text/plain": [
       "  firmid        date  return      industry ind_code\n",
       "0    1.0  12/31/2008    0.05       Finance        1\n",
       "1    2.0         NaN    0.45  Construction        2\n",
       "2    3.0  12/31/2008   23.00           NaN        M\n",
       "3    1.0  12/31/2009    0.87       Finance        1\n",
       "4    2.0  12/31/2009     NaN     Construct        2\n",
       "5    2.0  12/31/2009    0.34  Construction        2"
      ]
     },
     "execution_count": 16,
     "metadata": {},
     "output_type": "execute_result"
    }
   ],
   "source": [
    "df2"
   ]
  },
  {
   "cell_type": "markdown",
   "id": "2427970b",
   "metadata": {},
   "source": [
    "It may not look like ``firmid`` is a string data type now, but it is. For example, the below command would not work if ``firmid`` was still numeric:"
   ]
  },
  {
   "cell_type": "code",
   "execution_count": 17,
   "id": "87584b53",
   "metadata": {},
   "outputs": [
    {
     "data": {
      "text/html": [
       "<div>\n",
       "<style scoped>\n",
       "    .dataframe tbody tr th:only-of-type {\n",
       "        vertical-align: middle;\n",
       "    }\n",
       "\n",
       "    .dataframe tbody tr th {\n",
       "        vertical-align: top;\n",
       "    }\n",
       "\n",
       "    .dataframe thead th {\n",
       "        text-align: right;\n",
       "    }\n",
       "</style>\n",
       "<table border=\"1\" class=\"dataframe\">\n",
       "  <thead>\n",
       "    <tr style=\"text-align: right;\">\n",
       "      <th></th>\n",
       "      <th>firmid</th>\n",
       "      <th>date</th>\n",
       "      <th>return</th>\n",
       "      <th>industry</th>\n",
       "      <th>ind_code</th>\n",
       "      <th>newid</th>\n",
       "    </tr>\n",
       "  </thead>\n",
       "  <tbody>\n",
       "    <tr>\n",
       "      <th>0</th>\n",
       "      <td>1.0</td>\n",
       "      <td>12/31/2008</td>\n",
       "      <td>0.05</td>\n",
       "      <td>Finance</td>\n",
       "      <td>1</td>\n",
       "      <td>1.0abc</td>\n",
       "    </tr>\n",
       "    <tr>\n",
       "      <th>1</th>\n",
       "      <td>2.0</td>\n",
       "      <td>NaN</td>\n",
       "      <td>0.45</td>\n",
       "      <td>Construction</td>\n",
       "      <td>2</td>\n",
       "      <td>2.0abc</td>\n",
       "    </tr>\n",
       "    <tr>\n",
       "      <th>2</th>\n",
       "      <td>3.0</td>\n",
       "      <td>12/31/2008</td>\n",
       "      <td>23.00</td>\n",
       "      <td>NaN</td>\n",
       "      <td>M</td>\n",
       "      <td>3.0abc</td>\n",
       "    </tr>\n",
       "    <tr>\n",
       "      <th>3</th>\n",
       "      <td>1.0</td>\n",
       "      <td>12/31/2009</td>\n",
       "      <td>0.87</td>\n",
       "      <td>Finance</td>\n",
       "      <td>1</td>\n",
       "      <td>1.0abc</td>\n",
       "    </tr>\n",
       "    <tr>\n",
       "      <th>4</th>\n",
       "      <td>2.0</td>\n",
       "      <td>12/31/2009</td>\n",
       "      <td>NaN</td>\n",
       "      <td>Construct</td>\n",
       "      <td>2</td>\n",
       "      <td>2.0abc</td>\n",
       "    </tr>\n",
       "    <tr>\n",
       "      <th>5</th>\n",
       "      <td>2.0</td>\n",
       "      <td>12/31/2009</td>\n",
       "      <td>0.34</td>\n",
       "      <td>Construction</td>\n",
       "      <td>2</td>\n",
       "      <td>2.0abc</td>\n",
       "    </tr>\n",
       "  </tbody>\n",
       "</table>\n",
       "</div>"
      ],
      "text/plain": [
       "  firmid        date  return      industry ind_code   newid\n",
       "0    1.0  12/31/2008    0.05       Finance        1  1.0abc\n",
       "1    2.0         NaN    0.45  Construction        2  2.0abc\n",
       "2    3.0  12/31/2008   23.00           NaN        M  3.0abc\n",
       "3    1.0  12/31/2009    0.87       Finance        1  1.0abc\n",
       "4    2.0  12/31/2009     NaN     Construct        2  2.0abc\n",
       "5    2.0  12/31/2009    0.34  Construction        2  2.0abc"
      ]
     },
     "execution_count": 17,
     "metadata": {},
     "output_type": "execute_result"
    }
   ],
   "source": [
    "df2['newid'] = df2['firmid'] + \"abc\"\n",
    "df2"
   ]
  },
  {
   "cell_type": "markdown",
   "id": "2741bbef",
   "metadata": {},
   "source": [
    "## ``.to_numeric()``\n",
    "\n",
    "This is commonly used to convert string (or object) data types to a numeric data type. Unlike ``.astype()`` which can be applied after the name of the dataframe we want to convert, with ``.to_numeric()``, you have to supply that dataframe as an argument:"
   ]
  },
  {
   "cell_type": "code",
   "execution_count": 18,
   "id": "bb482f80",
   "metadata": {},
   "outputs": [
    {
     "data": {
      "text/plain": [
       "firmid      string[python]\n",
       "date                object\n",
       "return             float64\n",
       "industry            object\n",
       "ind_code            object\n",
       "newid       string[python]\n",
       "dtype: object"
      ]
     },
     "execution_count": 18,
     "metadata": {},
     "output_type": "execute_result"
    }
   ],
   "source": [
    "df2.dtypes"
   ]
  },
  {
   "cell_type": "code",
   "execution_count": 19,
   "id": "3d01ecfc",
   "metadata": {},
   "outputs": [
    {
     "data": {
      "text/plain": [
       "firmid             Float64\n",
       "date                object\n",
       "return             float64\n",
       "industry            object\n",
       "ind_code            object\n",
       "newid       string[python]\n",
       "dtype: object"
      ]
     },
     "execution_count": 19,
     "metadata": {},
     "output_type": "execute_result"
    }
   ],
   "source": [
    "df2['firmid'] = pd.to_numeric(df2['firmid'])\n",
    "df2.dtypes"
   ]
  },
  {
   "cell_type": "markdown",
   "id": "e0b1dbc9",
   "metadata": {},
   "source": [
    "In some situations, the ``.to_numeric()`` function will not be successful unless you specify the parameter ``errors = `coerce'``. For example, the code below would not work without that parameter (which is why I always specify it):"
   ]
  },
  {
   "cell_type": "code",
   "execution_count": 20,
   "id": "4e8cf6cb",
   "metadata": {},
   "outputs": [
    {
     "data": {
      "text/plain": [
       "firmid             Float64\n",
       "date                object\n",
       "return             float64\n",
       "industry            object\n",
       "ind_code           float64\n",
       "newid       string[python]\n",
       "dtype: object"
      ]
     },
     "execution_count": 20,
     "metadata": {},
     "output_type": "execute_result"
    }
   ],
   "source": [
    "df2['ind_code'] = pd.to_numeric(df2['ind_code'], errors='coerce')\n",
    "df2.dtypes"
   ]
  },
  {
   "cell_type": "markdown",
   "id": "521c3412",
   "metadata": {},
   "source": [
    "Note that this converted the non-numeric values in the ``ind_code`` column to ``NaN``:"
   ]
  },
  {
   "cell_type": "code",
   "execution_count": 21,
   "id": "16b97dbf",
   "metadata": {},
   "outputs": [
    {
     "data": {
      "text/html": [
       "<div>\n",
       "<style scoped>\n",
       "    .dataframe tbody tr th:only-of-type {\n",
       "        vertical-align: middle;\n",
       "    }\n",
       "\n",
       "    .dataframe tbody tr th {\n",
       "        vertical-align: top;\n",
       "    }\n",
       "\n",
       "    .dataframe thead th {\n",
       "        text-align: right;\n",
       "    }\n",
       "</style>\n",
       "<table border=\"1\" class=\"dataframe\">\n",
       "  <thead>\n",
       "    <tr style=\"text-align: right;\">\n",
       "      <th></th>\n",
       "      <th>firmid</th>\n",
       "      <th>date</th>\n",
       "      <th>return</th>\n",
       "      <th>industry</th>\n",
       "      <th>ind_code</th>\n",
       "      <th>newid</th>\n",
       "    </tr>\n",
       "  </thead>\n",
       "  <tbody>\n",
       "    <tr>\n",
       "      <th>0</th>\n",
       "      <td>1.0</td>\n",
       "      <td>12/31/2008</td>\n",
       "      <td>0.05</td>\n",
       "      <td>Finance</td>\n",
       "      <td>1.0</td>\n",
       "      <td>1.0abc</td>\n",
       "    </tr>\n",
       "    <tr>\n",
       "      <th>1</th>\n",
       "      <td>2.0</td>\n",
       "      <td>NaN</td>\n",
       "      <td>0.45</td>\n",
       "      <td>Construction</td>\n",
       "      <td>2.0</td>\n",
       "      <td>2.0abc</td>\n",
       "    </tr>\n",
       "    <tr>\n",
       "      <th>2</th>\n",
       "      <td>3.0</td>\n",
       "      <td>12/31/2008</td>\n",
       "      <td>23.00</td>\n",
       "      <td>NaN</td>\n",
       "      <td>NaN</td>\n",
       "      <td>3.0abc</td>\n",
       "    </tr>\n",
       "    <tr>\n",
       "      <th>3</th>\n",
       "      <td>1.0</td>\n",
       "      <td>12/31/2009</td>\n",
       "      <td>0.87</td>\n",
       "      <td>Finance</td>\n",
       "      <td>1.0</td>\n",
       "      <td>1.0abc</td>\n",
       "    </tr>\n",
       "    <tr>\n",
       "      <th>4</th>\n",
       "      <td>2.0</td>\n",
       "      <td>12/31/2009</td>\n",
       "      <td>NaN</td>\n",
       "      <td>Construct</td>\n",
       "      <td>2.0</td>\n",
       "      <td>2.0abc</td>\n",
       "    </tr>\n",
       "    <tr>\n",
       "      <th>5</th>\n",
       "      <td>2.0</td>\n",
       "      <td>12/31/2009</td>\n",
       "      <td>0.34</td>\n",
       "      <td>Construction</td>\n",
       "      <td>2.0</td>\n",
       "      <td>2.0abc</td>\n",
       "    </tr>\n",
       "  </tbody>\n",
       "</table>\n",
       "</div>"
      ],
      "text/plain": [
       "   firmid        date  return      industry  ind_code   newid\n",
       "0     1.0  12/31/2008    0.05       Finance       1.0  1.0abc\n",
       "1     2.0         NaN    0.45  Construction       2.0  2.0abc\n",
       "2     3.0  12/31/2008   23.00           NaN       NaN  3.0abc\n",
       "3     1.0  12/31/2009    0.87       Finance       1.0  1.0abc\n",
       "4     2.0  12/31/2009     NaN     Construct       2.0  2.0abc\n",
       "5     2.0  12/31/2009    0.34  Construction       2.0  2.0abc"
      ]
     },
     "execution_count": 21,
     "metadata": {},
     "output_type": "execute_result"
    }
   ],
   "source": [
    "df2"
   ]
  },
  {
   "cell_type": "markdown",
   "id": "7372c008",
   "metadata": {},
   "source": [
    "# Duplicates and counts\n",
    "\n",
    "In many situations, it is important to know if our data contains any duplicate entries (most of the time we want to eliminate those) as well as explicitly count duplicate entries in any particular column (or set of columns) in our data. We can perform these operations with the ``.duplicated()`` and ``.value_counts()`` functions:"
   ]
  },
  {
   "cell_type": "markdown",
   "id": "faf8ca52",
   "metadata": {},
   "source": [
    "## ``.duplicated()`` and ``.drop_duplicates()``\n",
    "\n",
    "Syntax:\n",
    "```python\n",
    "DataFrame.duplicated(subset=None, keep='first')\n",
    "```\n",
    "\n",
    "where the ``subset`` parameter allows us to specifies where in the dataset (which columns) we are looking for duplicated rows (if unspecified, Pandas will look for instances where an entire row is duplicated). The ``keep`` parameter allows us to specify which of the duplicated rows to keep (if any)."
   ]
  },
  {
   "cell_type": "code",
   "execution_count": 22,
   "id": "1e46fd54",
   "metadata": {},
   "outputs": [
    {
     "data": {
      "text/plain": [
       "0    False\n",
       "1    False\n",
       "2    False\n",
       "3    False\n",
       "4    False\n",
       "5    False\n",
       "dtype: bool"
      ]
     },
     "execution_count": 22,
     "metadata": {},
     "output_type": "execute_result"
    }
   ],
   "source": [
    "df.duplicated()"
   ]
  },
  {
   "cell_type": "code",
   "execution_count": 23,
   "id": "918c930a",
   "metadata": {},
   "outputs": [
    {
     "data": {
      "text/plain": [
       "0    False\n",
       "1    False\n",
       "2    False\n",
       "3    False\n",
       "4    False\n",
       "5     True\n",
       "dtype: bool"
      ]
     },
     "execution_count": 23,
     "metadata": {},
     "output_type": "execute_result"
    }
   ],
   "source": [
    "df.duplicated(subset=['firmid','date'])"
   ]
  },
  {
   "cell_type": "code",
   "execution_count": 24,
   "id": "256aef70",
   "metadata": {},
   "outputs": [
    {
     "data": {
      "text/plain": [
       "0    False\n",
       "1    False\n",
       "2    False\n",
       "3    False\n",
       "4     True\n",
       "5    False\n",
       "dtype: bool"
      ]
     },
     "execution_count": 24,
     "metadata": {},
     "output_type": "execute_result"
    }
   ],
   "source": [
    "df.duplicated(subset=['firmid','date'], keep='last')"
   ]
  },
  {
   "cell_type": "code",
   "execution_count": 25,
   "id": "36a18251",
   "metadata": {},
   "outputs": [
    {
     "data": {
      "text/plain": [
       "0    False\n",
       "1    False\n",
       "2    False\n",
       "3    False\n",
       "4     True\n",
       "5     True\n",
       "dtype: bool"
      ]
     },
     "execution_count": 25,
     "metadata": {},
     "output_type": "execute_result"
    }
   ],
   "source": [
    "df.duplicated(subset=['firmid','date'], keep=False)"
   ]
  },
  {
   "cell_type": "markdown",
   "id": "23e6dba0",
   "metadata": {},
   "source": [
    "To drop duplicated data, we can use the ``.duplicated()`` function inside a ``.loc[]``:"
   ]
  },
  {
   "cell_type": "code",
   "execution_count": 26,
   "id": "6cafc4ab",
   "metadata": {},
   "outputs": [
    {
     "data": {
      "text/html": [
       "<div>\n",
       "<style scoped>\n",
       "    .dataframe tbody tr th:only-of-type {\n",
       "        vertical-align: middle;\n",
       "    }\n",
       "\n",
       "    .dataframe tbody tr th {\n",
       "        vertical-align: top;\n",
       "    }\n",
       "\n",
       "    .dataframe thead th {\n",
       "        text-align: right;\n",
       "    }\n",
       "</style>\n",
       "<table border=\"1\" class=\"dataframe\">\n",
       "  <thead>\n",
       "    <tr style=\"text-align: right;\">\n",
       "      <th></th>\n",
       "      <th>firmid</th>\n",
       "      <th>date</th>\n",
       "      <th>return</th>\n",
       "      <th>industry</th>\n",
       "      <th>ind_code</th>\n",
       "    </tr>\n",
       "  </thead>\n",
       "  <tbody>\n",
       "    <tr>\n",
       "      <th>0</th>\n",
       "      <td>1</td>\n",
       "      <td>12/31/2008</td>\n",
       "      <td>0.05</td>\n",
       "      <td>Finance</td>\n",
       "      <td>1</td>\n",
       "    </tr>\n",
       "    <tr>\n",
       "      <th>1</th>\n",
       "      <td>2</td>\n",
       "      <td>NaN</td>\n",
       "      <td>0.45</td>\n",
       "      <td>Construction</td>\n",
       "      <td>2</td>\n",
       "    </tr>\n",
       "    <tr>\n",
       "      <th>2</th>\n",
       "      <td>3</td>\n",
       "      <td>12/31/2008</td>\n",
       "      <td>23.00</td>\n",
       "      <td>NaN</td>\n",
       "      <td>M</td>\n",
       "    </tr>\n",
       "    <tr>\n",
       "      <th>3</th>\n",
       "      <td>1</td>\n",
       "      <td>12/31/2009</td>\n",
       "      <td>0.87</td>\n",
       "      <td>Finance</td>\n",
       "      <td>1</td>\n",
       "    </tr>\n",
       "    <tr>\n",
       "      <th>4</th>\n",
       "      <td>2</td>\n",
       "      <td>12/31/2009</td>\n",
       "      <td>NaN</td>\n",
       "      <td>Construct</td>\n",
       "      <td>2</td>\n",
       "    </tr>\n",
       "  </tbody>\n",
       "</table>\n",
       "</div>"
      ],
      "text/plain": [
       "   firmid        date  return      industry ind_code\n",
       "0       1  12/31/2008    0.05       Finance        1\n",
       "1       2         NaN    0.45  Construction        2\n",
       "2       3  12/31/2008   23.00           NaN        M\n",
       "3       1  12/31/2009    0.87       Finance        1\n",
       "4       2  12/31/2009     NaN     Construct        2"
      ]
     },
     "execution_count": 26,
     "metadata": {},
     "output_type": "execute_result"
    }
   ],
   "source": [
    "df2 = df.loc[~df.duplicated(subset=['firmid','date'])]\n",
    "df2"
   ]
  },
  {
   "cell_type": "markdown",
   "id": "d5811672",
   "metadata": {},
   "source": [
    "or, more commonly, using the ``.drop_duplicates()`` function:"
   ]
  },
  {
   "cell_type": "code",
   "execution_count": 27,
   "id": "c00539d5",
   "metadata": {},
   "outputs": [
    {
     "data": {
      "text/html": [
       "<div>\n",
       "<style scoped>\n",
       "    .dataframe tbody tr th:only-of-type {\n",
       "        vertical-align: middle;\n",
       "    }\n",
       "\n",
       "    .dataframe tbody tr th {\n",
       "        vertical-align: top;\n",
       "    }\n",
       "\n",
       "    .dataframe thead th {\n",
       "        text-align: right;\n",
       "    }\n",
       "</style>\n",
       "<table border=\"1\" class=\"dataframe\">\n",
       "  <thead>\n",
       "    <tr style=\"text-align: right;\">\n",
       "      <th></th>\n",
       "      <th>firmid</th>\n",
       "      <th>date</th>\n",
       "      <th>return</th>\n",
       "      <th>industry</th>\n",
       "      <th>ind_code</th>\n",
       "    </tr>\n",
       "  </thead>\n",
       "  <tbody>\n",
       "    <tr>\n",
       "      <th>0</th>\n",
       "      <td>1</td>\n",
       "      <td>12/31/2008</td>\n",
       "      <td>0.05</td>\n",
       "      <td>Finance</td>\n",
       "      <td>1</td>\n",
       "    </tr>\n",
       "    <tr>\n",
       "      <th>1</th>\n",
       "      <td>2</td>\n",
       "      <td>NaN</td>\n",
       "      <td>0.45</td>\n",
       "      <td>Construction</td>\n",
       "      <td>2</td>\n",
       "    </tr>\n",
       "    <tr>\n",
       "      <th>2</th>\n",
       "      <td>3</td>\n",
       "      <td>12/31/2008</td>\n",
       "      <td>23.00</td>\n",
       "      <td>NaN</td>\n",
       "      <td>M</td>\n",
       "    </tr>\n",
       "    <tr>\n",
       "      <th>3</th>\n",
       "      <td>1</td>\n",
       "      <td>12/31/2009</td>\n",
       "      <td>0.87</td>\n",
       "      <td>Finance</td>\n",
       "      <td>1</td>\n",
       "    </tr>\n",
       "    <tr>\n",
       "      <th>4</th>\n",
       "      <td>2</td>\n",
       "      <td>12/31/2009</td>\n",
       "      <td>NaN</td>\n",
       "      <td>Construct</td>\n",
       "      <td>2</td>\n",
       "    </tr>\n",
       "  </tbody>\n",
       "</table>\n",
       "</div>"
      ],
      "text/plain": [
       "   firmid        date  return      industry ind_code\n",
       "0       1  12/31/2008    0.05       Finance        1\n",
       "1       2         NaN    0.45  Construction        2\n",
       "2       3  12/31/2008   23.00           NaN        M\n",
       "3       1  12/31/2009    0.87       Finance        1\n",
       "4       2  12/31/2009     NaN     Construct        2"
      ]
     },
     "execution_count": 27,
     "metadata": {},
     "output_type": "execute_result"
    }
   ],
   "source": [
    "df2 = df.drop_duplicates(subset=['firmid','date'])\n",
    "df2"
   ]
  },
  {
   "cell_type": "markdown",
   "id": "61fb7882",
   "metadata": {},
   "source": [
    "Note that the above still keeps the 4th row, and drops the 5th (a duplicate of the 4th). This is because ``keep='first'`` by default for the ``.drop_duplicates()`` function. To eliminate both duplicated rows, we would have to set ``keep=False``:"
   ]
  },
  {
   "cell_type": "code",
   "execution_count": 28,
   "id": "81a44fd3",
   "metadata": {},
   "outputs": [
    {
     "data": {
      "text/html": [
       "<div>\n",
       "<style scoped>\n",
       "    .dataframe tbody tr th:only-of-type {\n",
       "        vertical-align: middle;\n",
       "    }\n",
       "\n",
       "    .dataframe tbody tr th {\n",
       "        vertical-align: top;\n",
       "    }\n",
       "\n",
       "    .dataframe thead th {\n",
       "        text-align: right;\n",
       "    }\n",
       "</style>\n",
       "<table border=\"1\" class=\"dataframe\">\n",
       "  <thead>\n",
       "    <tr style=\"text-align: right;\">\n",
       "      <th></th>\n",
       "      <th>firmid</th>\n",
       "      <th>date</th>\n",
       "      <th>return</th>\n",
       "      <th>industry</th>\n",
       "      <th>ind_code</th>\n",
       "    </tr>\n",
       "  </thead>\n",
       "  <tbody>\n",
       "    <tr>\n",
       "      <th>0</th>\n",
       "      <td>1</td>\n",
       "      <td>12/31/2008</td>\n",
       "      <td>0.05</td>\n",
       "      <td>Finance</td>\n",
       "      <td>1</td>\n",
       "    </tr>\n",
       "    <tr>\n",
       "      <th>1</th>\n",
       "      <td>2</td>\n",
       "      <td>NaN</td>\n",
       "      <td>0.45</td>\n",
       "      <td>Construction</td>\n",
       "      <td>2</td>\n",
       "    </tr>\n",
       "    <tr>\n",
       "      <th>2</th>\n",
       "      <td>3</td>\n",
       "      <td>12/31/2008</td>\n",
       "      <td>23.00</td>\n",
       "      <td>NaN</td>\n",
       "      <td>M</td>\n",
       "    </tr>\n",
       "    <tr>\n",
       "      <th>3</th>\n",
       "      <td>1</td>\n",
       "      <td>12/31/2009</td>\n",
       "      <td>0.87</td>\n",
       "      <td>Finance</td>\n",
       "      <td>1</td>\n",
       "    </tr>\n",
       "  </tbody>\n",
       "</table>\n",
       "</div>"
      ],
      "text/plain": [
       "   firmid        date  return      industry ind_code\n",
       "0       1  12/31/2008    0.05       Finance        1\n",
       "1       2         NaN    0.45  Construction        2\n",
       "2       3  12/31/2008   23.00           NaN        M\n",
       "3       1  12/31/2009    0.87       Finance        1"
      ]
     },
     "execution_count": 28,
     "metadata": {},
     "output_type": "execute_result"
    }
   ],
   "source": [
    "df2 = df.drop_duplicates(subset=['firmid','date'], keep=False)\n",
    "df2"
   ]
  },
  {
   "cell_type": "markdown",
   "id": "4769a086",
   "metadata": {},
   "source": [
    "Note also that the meaning of \"first\" and \"last\" for the ``keep`` parameter depends on how your dataframe happens to be sorted at the time you drop the duplicates."
   ]
  },
  {
   "cell_type": "markdown",
   "id": "c876f873",
   "metadata": {},
   "source": [
    "## ``.value_counts()``\n",
    "\n",
    "This finds all the unique values in a column and counts the number of times they appear in that column.\n",
    "\n",
    "Syntax:\n",
    "```python\n",
    "DataFrame.value_counts(subset=None, normalize=False, sort=True, ascending=False, dropna=True)\n",
    "```"
   ]
  },
  {
   "cell_type": "code",
   "execution_count": 29,
   "id": "5c324ae5",
   "metadata": {},
   "outputs": [
    {
     "data": {
      "text/plain": [
       "industry\n",
       "Finance         2\n",
       "Construction    2\n",
       "Construct       1\n",
       "Name: count, dtype: int64"
      ]
     },
     "execution_count": 29,
     "metadata": {},
     "output_type": "execute_result"
    }
   ],
   "source": [
    "df['industry'].value_counts()"
   ]
  },
  {
   "cell_type": "code",
   "execution_count": 30,
   "id": "8c85e446",
   "metadata": {},
   "outputs": [
    {
     "data": {
      "text/plain": [
       "industry\n",
       "Construction    2\n",
       "Finance         2\n",
       "Construct       1\n",
       "Name: count, dtype: int64"
      ]
     },
     "execution_count": 30,
     "metadata": {},
     "output_type": "execute_result"
    }
   ],
   "source": [
    "df.value_counts('industry')"
   ]
  },
  {
   "cell_type": "markdown",
   "id": "294697c8",
   "metadata": {},
   "source": [
    "# Operating on text data (strings)\n",
    "\n",
    "Working with text data is a huge topic in data analysis. The Pandas user guide offers a detailed discussion on the way the Pandas package can be used to operate on text data: https://pandas.pydata.org/pandas-docs/stable/user_guide/text.html#. For the most part, all of this is done with the ``.str`` subpackage and its methods. \n",
    "\n",
    "Here, we cover a very small subset of the functions that are commonly used for string manipulation inside a dataframe.\n",
    "\n",
    "We'll work on the ``df`` dataframe:"
   ]
  },
  {
   "cell_type": "code",
   "execution_count": 31,
   "id": "47a3731f",
   "metadata": {},
   "outputs": [
    {
     "data": {
      "text/html": [
       "<div>\n",
       "<style scoped>\n",
       "    .dataframe tbody tr th:only-of-type {\n",
       "        vertical-align: middle;\n",
       "    }\n",
       "\n",
       "    .dataframe tbody tr th {\n",
       "        vertical-align: top;\n",
       "    }\n",
       "\n",
       "    .dataframe thead th {\n",
       "        text-align: right;\n",
       "    }\n",
       "</style>\n",
       "<table border=\"1\" class=\"dataframe\">\n",
       "  <thead>\n",
       "    <tr style=\"text-align: right;\">\n",
       "      <th></th>\n",
       "      <th>firmid</th>\n",
       "      <th>date</th>\n",
       "      <th>return</th>\n",
       "      <th>industry</th>\n",
       "      <th>ind_code</th>\n",
       "    </tr>\n",
       "  </thead>\n",
       "  <tbody>\n",
       "    <tr>\n",
       "      <th>0</th>\n",
       "      <td>1</td>\n",
       "      <td>12/31/2008</td>\n",
       "      <td>0.05</td>\n",
       "      <td>Finance</td>\n",
       "      <td>1</td>\n",
       "    </tr>\n",
       "    <tr>\n",
       "      <th>1</th>\n",
       "      <td>2</td>\n",
       "      <td>NaN</td>\n",
       "      <td>0.45</td>\n",
       "      <td>Construction</td>\n",
       "      <td>2</td>\n",
       "    </tr>\n",
       "    <tr>\n",
       "      <th>2</th>\n",
       "      <td>3</td>\n",
       "      <td>12/31/2008</td>\n",
       "      <td>23.00</td>\n",
       "      <td>NaN</td>\n",
       "      <td>M</td>\n",
       "    </tr>\n",
       "    <tr>\n",
       "      <th>3</th>\n",
       "      <td>1</td>\n",
       "      <td>12/31/2009</td>\n",
       "      <td>0.87</td>\n",
       "      <td>Finance</td>\n",
       "      <td>1</td>\n",
       "    </tr>\n",
       "    <tr>\n",
       "      <th>4</th>\n",
       "      <td>2</td>\n",
       "      <td>12/31/2009</td>\n",
       "      <td>NaN</td>\n",
       "      <td>Construct</td>\n",
       "      <td>2</td>\n",
       "    </tr>\n",
       "    <tr>\n",
       "      <th>5</th>\n",
       "      <td>2</td>\n",
       "      <td>12/31/2009</td>\n",
       "      <td>0.34</td>\n",
       "      <td>Construction</td>\n",
       "      <td>2</td>\n",
       "    </tr>\n",
       "  </tbody>\n",
       "</table>\n",
       "</div>"
      ],
      "text/plain": [
       "   firmid        date  return      industry ind_code\n",
       "0       1  12/31/2008    0.05       Finance        1\n",
       "1       2         NaN    0.45  Construction        2\n",
       "2       3  12/31/2008   23.00           NaN        M\n",
       "3       1  12/31/2009    0.87       Finance        1\n",
       "4       2  12/31/2009     NaN     Construct        2\n",
       "5       2  12/31/2009    0.34  Construction        2"
      ]
     },
     "execution_count": 31,
     "metadata": {},
     "output_type": "execute_result"
    }
   ],
   "source": [
    "df"
   ]
  },
  {
   "cell_type": "markdown",
   "id": "cfa89b39",
   "metadata": {},
   "source": [
    "It is important to convert a text column to ``string`` type before we manipulate it with ``.str`` functions. For example, the ``industry`` column is currently of type ``object`` so we will convert it to ``string``:"
   ]
  },
  {
   "cell_type": "code",
   "execution_count": 32,
   "id": "c0523b9d",
   "metadata": {},
   "outputs": [
    {
     "data": {
      "text/html": [
       "<div>\n",
       "<style scoped>\n",
       "    .dataframe tbody tr th:only-of-type {\n",
       "        vertical-align: middle;\n",
       "    }\n",
       "\n",
       "    .dataframe tbody tr th {\n",
       "        vertical-align: top;\n",
       "    }\n",
       "\n",
       "    .dataframe thead th {\n",
       "        text-align: right;\n",
       "    }\n",
       "</style>\n",
       "<table border=\"1\" class=\"dataframe\">\n",
       "  <thead>\n",
       "    <tr style=\"text-align: right;\">\n",
       "      <th></th>\n",
       "      <th>firmid</th>\n",
       "      <th>date</th>\n",
       "      <th>return</th>\n",
       "      <th>industry</th>\n",
       "      <th>ind_code</th>\n",
       "    </tr>\n",
       "  </thead>\n",
       "  <tbody>\n",
       "    <tr>\n",
       "      <th>0</th>\n",
       "      <td>1</td>\n",
       "      <td>12/31/2008</td>\n",
       "      <td>0.05</td>\n",
       "      <td>Finance</td>\n",
       "      <td>1</td>\n",
       "    </tr>\n",
       "    <tr>\n",
       "      <th>1</th>\n",
       "      <td>2</td>\n",
       "      <td>NaN</td>\n",
       "      <td>0.45</td>\n",
       "      <td>Construction</td>\n",
       "      <td>2</td>\n",
       "    </tr>\n",
       "    <tr>\n",
       "      <th>2</th>\n",
       "      <td>3</td>\n",
       "      <td>12/31/2008</td>\n",
       "      <td>23.00</td>\n",
       "      <td>&lt;NA&gt;</td>\n",
       "      <td>M</td>\n",
       "    </tr>\n",
       "    <tr>\n",
       "      <th>3</th>\n",
       "      <td>1</td>\n",
       "      <td>12/31/2009</td>\n",
       "      <td>0.87</td>\n",
       "      <td>Finance</td>\n",
       "      <td>1</td>\n",
       "    </tr>\n",
       "    <tr>\n",
       "      <th>4</th>\n",
       "      <td>2</td>\n",
       "      <td>12/31/2009</td>\n",
       "      <td>NaN</td>\n",
       "      <td>Construct</td>\n",
       "      <td>2</td>\n",
       "    </tr>\n",
       "    <tr>\n",
       "      <th>5</th>\n",
       "      <td>2</td>\n",
       "      <td>12/31/2009</td>\n",
       "      <td>0.34</td>\n",
       "      <td>Construction</td>\n",
       "      <td>2</td>\n",
       "    </tr>\n",
       "  </tbody>\n",
       "</table>\n",
       "</div>"
      ],
      "text/plain": [
       "   firmid        date  return      industry ind_code\n",
       "0       1  12/31/2008    0.05       Finance        1\n",
       "1       2         NaN    0.45  Construction        2\n",
       "2       3  12/31/2008   23.00          <NA>        M\n",
       "3       1  12/31/2009    0.87       Finance        1\n",
       "4       2  12/31/2009     NaN     Construct        2\n",
       "5       2  12/31/2009    0.34  Construction        2"
      ]
     },
     "execution_count": 32,
     "metadata": {},
     "output_type": "execute_result"
    }
   ],
   "source": [
    "df['industry'] = df['industry'].astype('string')\n",
    "df"
   ]
  },
  {
   "cell_type": "markdown",
   "id": "71cca39f",
   "metadata": {},
   "source": [
    "## Slicing into string data"
   ]
  },
  {
   "cell_type": "code",
   "execution_count": 33,
   "id": "452d82c6",
   "metadata": {},
   "outputs": [
    {
     "data": {
      "text/plain": [
       "0     Fin\n",
       "1     Con\n",
       "2    <NA>\n",
       "3     Fin\n",
       "4     Con\n",
       "5     Con\n",
       "Name: industry, dtype: string"
      ]
     },
     "execution_count": 33,
     "metadata": {},
     "output_type": "execute_result"
    }
   ],
   "source": [
    "df['industry'].str[0:3]"
   ]
  },
  {
   "cell_type": "markdown",
   "id": "108d47aa",
   "metadata": {},
   "source": [
    "## Converting to lower case or upper case"
   ]
  },
  {
   "cell_type": "code",
   "execution_count": 34,
   "id": "2afe0ce8",
   "metadata": {},
   "outputs": [
    {
     "data": {
      "text/plain": [
       "0         finance\n",
       "1    construction\n",
       "2            <NA>\n",
       "3         finance\n",
       "4       construct\n",
       "5    construction\n",
       "Name: industry, dtype: string"
      ]
     },
     "execution_count": 34,
     "metadata": {},
     "output_type": "execute_result"
    }
   ],
   "source": [
    "df['industry'].str.lower()"
   ]
  },
  {
   "cell_type": "code",
   "execution_count": 35,
   "id": "5d688d55",
   "metadata": {},
   "outputs": [
    {
     "data": {
      "text/plain": [
       "0         FINANCE\n",
       "1    CONSTRUCTION\n",
       "2            <NA>\n",
       "3         FINANCE\n",
       "4       CONSTRUCT\n",
       "5    CONSTRUCTION\n",
       "Name: industry, dtype: string"
      ]
     },
     "execution_count": 35,
     "metadata": {},
     "output_type": "execute_result"
    }
   ],
   "source": [
    "df['industry'].str.upper()"
   ]
  },
  {
   "cell_type": "markdown",
   "id": "a6d4ea20",
   "metadata": {},
   "source": [
    "## Substrings"
   ]
  },
  {
   "cell_type": "code",
   "execution_count": 36,
   "id": "7ca18cf3",
   "metadata": {},
   "outputs": [
    {
     "data": {
      "text/html": [
       "<div>\n",
       "<style scoped>\n",
       "    .dataframe tbody tr th:only-of-type {\n",
       "        vertical-align: middle;\n",
       "    }\n",
       "\n",
       "    .dataframe tbody tr th {\n",
       "        vertical-align: top;\n",
       "    }\n",
       "\n",
       "    .dataframe thead th {\n",
       "        text-align: right;\n",
       "    }\n",
       "</style>\n",
       "<table border=\"1\" class=\"dataframe\">\n",
       "  <thead>\n",
       "    <tr style=\"text-align: right;\">\n",
       "      <th></th>\n",
       "      <th>firmid</th>\n",
       "      <th>date</th>\n",
       "      <th>return</th>\n",
       "      <th>industry</th>\n",
       "      <th>ind_code</th>\n",
       "    </tr>\n",
       "  </thead>\n",
       "  <tbody>\n",
       "    <tr>\n",
       "      <th>1</th>\n",
       "      <td>2</td>\n",
       "      <td>NaN</td>\n",
       "      <td>0.45</td>\n",
       "      <td>Construction</td>\n",
       "      <td>2</td>\n",
       "    </tr>\n",
       "    <tr>\n",
       "      <th>4</th>\n",
       "      <td>2</td>\n",
       "      <td>12/31/2009</td>\n",
       "      <td>NaN</td>\n",
       "      <td>Construct</td>\n",
       "      <td>2</td>\n",
       "    </tr>\n",
       "    <tr>\n",
       "      <th>5</th>\n",
       "      <td>2</td>\n",
       "      <td>12/31/2009</td>\n",
       "      <td>0.34</td>\n",
       "      <td>Construction</td>\n",
       "      <td>2</td>\n",
       "    </tr>\n",
       "  </tbody>\n",
       "</table>\n",
       "</div>"
      ],
      "text/plain": [
       "   firmid        date  return      industry ind_code\n",
       "1       2         NaN    0.45  Construction        2\n",
       "4       2  12/31/2009     NaN     Construct        2\n",
       "5       2  12/31/2009    0.34  Construction        2"
      ]
     },
     "execution_count": 36,
     "metadata": {},
     "output_type": "execute_result"
    }
   ],
   "source": [
    "df.loc[df['industry'].str.contains(\"Cons\"), :]"
   ]
  },
  {
   "cell_type": "code",
   "execution_count": 37,
   "id": "a83ec765",
   "metadata": {},
   "outputs": [
    {
     "data": {
      "text/html": [
       "<div>\n",
       "<style scoped>\n",
       "    .dataframe tbody tr th:only-of-type {\n",
       "        vertical-align: middle;\n",
       "    }\n",
       "\n",
       "    .dataframe tbody tr th {\n",
       "        vertical-align: top;\n",
       "    }\n",
       "\n",
       "    .dataframe thead th {\n",
       "        text-align: right;\n",
       "    }\n",
       "</style>\n",
       "<table border=\"1\" class=\"dataframe\">\n",
       "  <thead>\n",
       "    <tr style=\"text-align: right;\">\n",
       "      <th></th>\n",
       "      <th>firmid</th>\n",
       "      <th>date</th>\n",
       "      <th>return</th>\n",
       "      <th>industry</th>\n",
       "      <th>ind_code</th>\n",
       "    </tr>\n",
       "  </thead>\n",
       "  <tbody>\n",
       "    <tr>\n",
       "      <th>0</th>\n",
       "      <td>1</td>\n",
       "      <td>12/31/2008</td>\n",
       "      <td>0.05</td>\n",
       "      <td>Finance</td>\n",
       "      <td>1</td>\n",
       "    </tr>\n",
       "    <tr>\n",
       "      <th>1</th>\n",
       "      <td>2</td>\n",
       "      <td>NaN</td>\n",
       "      <td>0.45</td>\n",
       "      <td>Constructionion</td>\n",
       "      <td>2</td>\n",
       "    </tr>\n",
       "    <tr>\n",
       "      <th>2</th>\n",
       "      <td>3</td>\n",
       "      <td>12/31/2008</td>\n",
       "      <td>23.00</td>\n",
       "      <td>&lt;NA&gt;</td>\n",
       "      <td>M</td>\n",
       "    </tr>\n",
       "    <tr>\n",
       "      <th>3</th>\n",
       "      <td>1</td>\n",
       "      <td>12/31/2009</td>\n",
       "      <td>0.87</td>\n",
       "      <td>Finance</td>\n",
       "      <td>1</td>\n",
       "    </tr>\n",
       "    <tr>\n",
       "      <th>4</th>\n",
       "      <td>2</td>\n",
       "      <td>12/31/2009</td>\n",
       "      <td>NaN</td>\n",
       "      <td>Construction</td>\n",
       "      <td>2</td>\n",
       "    </tr>\n",
       "    <tr>\n",
       "      <th>5</th>\n",
       "      <td>2</td>\n",
       "      <td>12/31/2009</td>\n",
       "      <td>0.34</td>\n",
       "      <td>Constructionion</td>\n",
       "      <td>2</td>\n",
       "    </tr>\n",
       "  </tbody>\n",
       "</table>\n",
       "</div>"
      ],
      "text/plain": [
       "   firmid        date  return         industry ind_code\n",
       "0       1  12/31/2008    0.05          Finance        1\n",
       "1       2         NaN    0.45  Constructionion        2\n",
       "2       3  12/31/2008   23.00             <NA>        M\n",
       "3       1  12/31/2009    0.87          Finance        1\n",
       "4       2  12/31/2009     NaN     Construction        2\n",
       "5       2  12/31/2009    0.34  Constructionion        2"
      ]
     },
     "execution_count": 37,
     "metadata": {},
     "output_type": "execute_result"
    }
   ],
   "source": [
    "df['industry'] = df['industry'].str.replace(\"Construct\",\"Construction\")\n",
    "df"
   ]
  },
  {
   "cell_type": "code",
   "execution_count": 41,
   "id": "9ba5db85",
   "metadata": {},
   "outputs": [
    {
     "data": {
      "text/html": [
       "<div>\n",
       "<style scoped>\n",
       "    .dataframe tbody tr th:only-of-type {\n",
       "        vertical-align: middle;\n",
       "    }\n",
       "\n",
       "    .dataframe tbody tr th {\n",
       "        vertical-align: top;\n",
       "    }\n",
       "\n",
       "    .dataframe thead th {\n",
       "        text-align: right;\n",
       "    }\n",
       "</style>\n",
       "<table border=\"1\" class=\"dataframe\">\n",
       "  <thead>\n",
       "    <tr style=\"text-align: right;\">\n",
       "      <th></th>\n",
       "      <th>firmid</th>\n",
       "      <th>date</th>\n",
       "      <th>return</th>\n",
       "      <th>industry</th>\n",
       "      <th>ind_code</th>\n",
       "    </tr>\n",
       "  </thead>\n",
       "  <tbody>\n",
       "    <tr>\n",
       "      <th>0</th>\n",
       "      <td>1</td>\n",
       "      <td>12/31/2008</td>\n",
       "      <td>0.05</td>\n",
       "      <td>Finance</td>\n",
       "      <td>1</td>\n",
       "    </tr>\n",
       "    <tr>\n",
       "      <th>1</th>\n",
       "      <td>2</td>\n",
       "      <td>NaN</td>\n",
       "      <td>0.45</td>\n",
       "      <td>Construction</td>\n",
       "      <td>2</td>\n",
       "    </tr>\n",
       "    <tr>\n",
       "      <th>2</th>\n",
       "      <td>3</td>\n",
       "      <td>12/31/2008</td>\n",
       "      <td>23.00</td>\n",
       "      <td>&lt;NA&gt;</td>\n",
       "      <td>M</td>\n",
       "    </tr>\n",
       "    <tr>\n",
       "      <th>3</th>\n",
       "      <td>1</td>\n",
       "      <td>12/31/2009</td>\n",
       "      <td>0.87</td>\n",
       "      <td>Finance</td>\n",
       "      <td>1</td>\n",
       "    </tr>\n",
       "    <tr>\n",
       "      <th>4</th>\n",
       "      <td>2</td>\n",
       "      <td>12/31/2009</td>\n",
       "      <td>NaN</td>\n",
       "      <td>Construction</td>\n",
       "      <td>2</td>\n",
       "    </tr>\n",
       "    <tr>\n",
       "      <th>5</th>\n",
       "      <td>2</td>\n",
       "      <td>12/31/2009</td>\n",
       "      <td>0.34</td>\n",
       "      <td>Construction</td>\n",
       "      <td>2</td>\n",
       "    </tr>\n",
       "  </tbody>\n",
       "</table>\n",
       "</div>"
      ],
      "text/plain": [
       "   firmid        date  return      industry ind_code\n",
       "0       1  12/31/2008    0.05       Finance        1\n",
       "1       2         NaN    0.45  Construction        2\n",
       "2       3  12/31/2008   23.00          <NA>        M\n",
       "3       1  12/31/2009    0.87       Finance        1\n",
       "4       2  12/31/2009     NaN  Construction        2\n",
       "5       2  12/31/2009    0.34  Construction        2"
      ]
     },
     "execution_count": 41,
     "metadata": {},
     "output_type": "execute_result"
    }
   ],
   "source": [
    "df.loc[df['industry'].str.contains(\"Construct\"), 'industry'] = \"Construction\"\n",
    "df"
   ]
  },
  {
   "cell_type": "markdown",
   "id": "d9245641",
   "metadata": {},
   "source": [
    "## Splitting"
   ]
  },
  {
   "cell_type": "code",
   "execution_count": 44,
   "id": "bd1b8d25",
   "metadata": {},
   "outputs": [
    {
     "data": {
      "text/html": [
       "<div>\n",
       "<style scoped>\n",
       "    .dataframe tbody tr th:only-of-type {\n",
       "        vertical-align: middle;\n",
       "    }\n",
       "\n",
       "    .dataframe tbody tr th {\n",
       "        vertical-align: top;\n",
       "    }\n",
       "\n",
       "    .dataframe thead th {\n",
       "        text-align: right;\n",
       "    }\n",
       "</style>\n",
       "<table border=\"1\" class=\"dataframe\">\n",
       "  <thead>\n",
       "    <tr style=\"text-align: right;\">\n",
       "      <th></th>\n",
       "      <th>firmid</th>\n",
       "      <th>date</th>\n",
       "      <th>return</th>\n",
       "      <th>industry</th>\n",
       "      <th>ind_code</th>\n",
       "      <th>month</th>\n",
       "      <th>day</th>\n",
       "      <th>year</th>\n",
       "    </tr>\n",
       "  </thead>\n",
       "  <tbody>\n",
       "    <tr>\n",
       "      <th>0</th>\n",
       "      <td>1</td>\n",
       "      <td>12/31/2008</td>\n",
       "      <td>0.05</td>\n",
       "      <td>Finance</td>\n",
       "      <td>1</td>\n",
       "      <td>12</td>\n",
       "      <td>31</td>\n",
       "      <td>2008</td>\n",
       "    </tr>\n",
       "    <tr>\n",
       "      <th>1</th>\n",
       "      <td>2</td>\n",
       "      <td>NaN</td>\n",
       "      <td>0.45</td>\n",
       "      <td>Construction</td>\n",
       "      <td>2</td>\n",
       "      <td>NaN</td>\n",
       "      <td>NaN</td>\n",
       "      <td>NaN</td>\n",
       "    </tr>\n",
       "    <tr>\n",
       "      <th>2</th>\n",
       "      <td>3</td>\n",
       "      <td>12/31/2008</td>\n",
       "      <td>23.00</td>\n",
       "      <td>&lt;NA&gt;</td>\n",
       "      <td>M</td>\n",
       "      <td>12</td>\n",
       "      <td>31</td>\n",
       "      <td>2008</td>\n",
       "    </tr>\n",
       "    <tr>\n",
       "      <th>3</th>\n",
       "      <td>1</td>\n",
       "      <td>12/31/2009</td>\n",
       "      <td>0.87</td>\n",
       "      <td>Finance</td>\n",
       "      <td>1</td>\n",
       "      <td>12</td>\n",
       "      <td>31</td>\n",
       "      <td>2009</td>\n",
       "    </tr>\n",
       "    <tr>\n",
       "      <th>4</th>\n",
       "      <td>2</td>\n",
       "      <td>12/31/2009</td>\n",
       "      <td>NaN</td>\n",
       "      <td>Construction</td>\n",
       "      <td>2</td>\n",
       "      <td>12</td>\n",
       "      <td>31</td>\n",
       "      <td>2009</td>\n",
       "    </tr>\n",
       "    <tr>\n",
       "      <th>5</th>\n",
       "      <td>2</td>\n",
       "      <td>12/31/2009</td>\n",
       "      <td>0.34</td>\n",
       "      <td>Construction</td>\n",
       "      <td>2</td>\n",
       "      <td>12</td>\n",
       "      <td>31</td>\n",
       "      <td>2009</td>\n",
       "    </tr>\n",
       "  </tbody>\n",
       "</table>\n",
       "</div>"
      ],
      "text/plain": [
       "   firmid        date  return      industry ind_code month  day  year\n",
       "0       1  12/31/2008    0.05       Finance        1    12   31  2008\n",
       "1       2         NaN    0.45  Construction        2   NaN  NaN   NaN\n",
       "2       3  12/31/2008   23.00          <NA>        M    12   31  2008\n",
       "3       1  12/31/2009    0.87       Finance        1    12   31  2009\n",
       "4       2  12/31/2009     NaN  Construction        2    12   31  2009\n",
       "5       2  12/31/2009    0.34  Construction        2    12   31  2009"
      ]
     },
     "execution_count": 44,
     "metadata": {},
     "output_type": "execute_result"
    }
   ],
   "source": [
    "df[['month','day','year']] = df['date'].str.split(pat='/', expand=True)\n",
    "df"
   ]
  },
  {
   "cell_type": "markdown",
   "id": "d9784814",
   "metadata": {},
   "source": [
    "## Stripping white spaces"
   ]
  },
  {
   "cell_type": "code",
   "execution_count": 45,
   "id": "6fabbba9",
   "metadata": {},
   "outputs": [
    {
     "data": {
      "text/html": [
       "<div>\n",
       "<style scoped>\n",
       "    .dataframe tbody tr th:only-of-type {\n",
       "        vertical-align: middle;\n",
       "    }\n",
       "\n",
       "    .dataframe tbody tr th {\n",
       "        vertical-align: top;\n",
       "    }\n",
       "\n",
       "    .dataframe thead th {\n",
       "        text-align: right;\n",
       "    }\n",
       "</style>\n",
       "<table border=\"1\" class=\"dataframe\">\n",
       "  <thead>\n",
       "    <tr style=\"text-align: right;\">\n",
       "      <th></th>\n",
       "      <th>Column A</th>\n",
       "      <th>Column B</th>\n",
       "    </tr>\n",
       "  </thead>\n",
       "  <tbody>\n",
       "    <tr>\n",
       "      <th>0</th>\n",
       "      <td>0.877501</td>\n",
       "      <td>0.511430</td>\n",
       "    </tr>\n",
       "    <tr>\n",
       "      <th>1</th>\n",
       "      <td>0.250246</td>\n",
       "      <td>0.082140</td>\n",
       "    </tr>\n",
       "    <tr>\n",
       "      <th>2</th>\n",
       "      <td>0.541846</td>\n",
       "      <td>0.039013</td>\n",
       "    </tr>\n",
       "  </tbody>\n",
       "</table>\n",
       "</div>"
      ],
      "text/plain": [
       "    Column A    Column B \n",
       "0    0.877501    0.511430\n",
       "1    0.250246    0.082140\n",
       "2    0.541846    0.039013"
      ]
     },
     "execution_count": 45,
     "metadata": {},
     "output_type": "execute_result"
    }
   ],
   "source": [
    "newdf = pd.DataFrame(np.random.rand(3,2), columns=[' Column A ', \" Column B \"])\n",
    "newdf"
   ]
  },
  {
   "cell_type": "code",
   "execution_count": 47,
   "id": "173e535e",
   "metadata": {},
   "outputs": [],
   "source": [
    "#newdf['Column A']"
   ]
  },
  {
   "cell_type": "code",
   "execution_count": 49,
   "id": "197f46fd",
   "metadata": {},
   "outputs": [
    {
     "data": {
      "text/html": [
       "<div>\n",
       "<style scoped>\n",
       "    .dataframe tbody tr th:only-of-type {\n",
       "        vertical-align: middle;\n",
       "    }\n",
       "\n",
       "    .dataframe tbody tr th {\n",
       "        vertical-align: top;\n",
       "    }\n",
       "\n",
       "    .dataframe thead th {\n",
       "        text-align: right;\n",
       "    }\n",
       "</style>\n",
       "<table border=\"1\" class=\"dataframe\">\n",
       "  <thead>\n",
       "    <tr style=\"text-align: right;\">\n",
       "      <th></th>\n",
       "      <th>Column A</th>\n",
       "      <th>Column B</th>\n",
       "    </tr>\n",
       "  </thead>\n",
       "  <tbody>\n",
       "    <tr>\n",
       "      <th>0</th>\n",
       "      <td>0.877501</td>\n",
       "      <td>0.511430</td>\n",
       "    </tr>\n",
       "    <tr>\n",
       "      <th>1</th>\n",
       "      <td>0.250246</td>\n",
       "      <td>0.082140</td>\n",
       "    </tr>\n",
       "    <tr>\n",
       "      <th>2</th>\n",
       "      <td>0.541846</td>\n",
       "      <td>0.039013</td>\n",
       "    </tr>\n",
       "  </tbody>\n",
       "</table>\n",
       "</div>"
      ],
      "text/plain": [
       "   Column A  Column B\n",
       "0  0.877501  0.511430\n",
       "1  0.250246  0.082140\n",
       "2  0.541846  0.039013"
      ]
     },
     "execution_count": 49,
     "metadata": {},
     "output_type": "execute_result"
    }
   ],
   "source": [
    "newdf.columns = newdf.columns.str.strip()\n",
    "newdf"
   ]
  },
  {
   "cell_type": "code",
   "execution_count": 50,
   "id": "74733106",
   "metadata": {},
   "outputs": [
    {
     "data": {
      "text/plain": [
       "0    0.877501\n",
       "1    0.250246\n",
       "2    0.541846\n",
       "Name: Column A, dtype: float64"
      ]
     },
     "execution_count": 50,
     "metadata": {},
     "output_type": "execute_result"
    }
   ],
   "source": [
    "newdf['Column A']"
   ]
  },
  {
   "cell_type": "markdown",
   "id": "57a8323a",
   "metadata": {},
   "source": [
    "## Chaining ``.str`` methods"
   ]
  },
  {
   "cell_type": "code",
   "execution_count": 52,
   "id": "2af567c9",
   "metadata": {},
   "outputs": [
    {
     "data": {
      "text/html": [
       "<div>\n",
       "<style scoped>\n",
       "    .dataframe tbody tr th:only-of-type {\n",
       "        vertical-align: middle;\n",
       "    }\n",
       "\n",
       "    .dataframe tbody tr th {\n",
       "        vertical-align: top;\n",
       "    }\n",
       "\n",
       "    .dataframe thead th {\n",
       "        text-align: right;\n",
       "    }\n",
       "</style>\n",
       "<table border=\"1\" class=\"dataframe\">\n",
       "  <thead>\n",
       "    <tr style=\"text-align: right;\">\n",
       "      <th></th>\n",
       "      <th>column_a</th>\n",
       "      <th>column_b</th>\n",
       "    </tr>\n",
       "  </thead>\n",
       "  <tbody>\n",
       "    <tr>\n",
       "      <th>0</th>\n",
       "      <td>0.877501</td>\n",
       "      <td>0.511430</td>\n",
       "    </tr>\n",
       "    <tr>\n",
       "      <th>1</th>\n",
       "      <td>0.250246</td>\n",
       "      <td>0.082140</td>\n",
       "    </tr>\n",
       "    <tr>\n",
       "      <th>2</th>\n",
       "      <td>0.541846</td>\n",
       "      <td>0.039013</td>\n",
       "    </tr>\n",
       "  </tbody>\n",
       "</table>\n",
       "</div>"
      ],
      "text/plain": [
       "   column_a  column_b\n",
       "0  0.877501  0.511430\n",
       "1  0.250246  0.082140\n",
       "2  0.541846  0.039013"
      ]
     },
     "execution_count": 52,
     "metadata": {},
     "output_type": "execute_result"
    }
   ],
   "source": [
    "newdf.columns = (newdf.columns\n",
    "                 .str.strip()\n",
    "                 .str.replace(\" \",\"_\")\n",
    "                 .str.lower())\n",
    "newdf"
   ]
  }
 ],
 "metadata": {
  "kernelspec": {
   "display_name": "base",
   "language": "python",
   "name": "python3"
  },
  "language_info": {
   "codemirror_mode": {
    "name": "ipython",
    "version": 3
   },
   "file_extension": ".py",
   "mimetype": "text/x-python",
   "name": "python",
   "nbconvert_exporter": "python",
   "pygments_lexer": "ipython3",
   "version": "3.11.5"
  },
  "toc": {
   "base_numbering": 1,
   "nav_menu": {},
   "number_sections": true,
   "sideBar": true,
   "skip_h1_title": false,
   "title_cell": "Table of Contents",
   "title_sidebar": "Contents",
   "toc_cell": true,
   "toc_position": {},
   "toc_section_display": true,
   "toc_window_display": false
  },
  "vscode": {
   "interpreter": {
    "hash": "c0d7515943f2d5e6ef3c63d1d45fe29892fe24bc9a1e3b83271f719b8681d46b"
   }
  }
 },
 "nbformat": 4,
 "nbformat_minor": 5
}
