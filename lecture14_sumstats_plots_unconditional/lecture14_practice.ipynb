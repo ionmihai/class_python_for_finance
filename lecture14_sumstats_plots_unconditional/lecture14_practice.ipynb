{
 "cells": [
  {
   "cell_type": "markdown",
   "id": "00d4e241",
   "metadata": {},
   "source": [
    "Run the cell below:"
   ]
  },
  {
   "cell_type": "code",
   "execution_count": null,
   "id": "0c4f2c21",
   "metadata": {},
   "outputs": [],
   "source": [
    "import pandas as pd\n",
    "import yfinance as yf"
   ]
  },
  {
   "cell_type": "markdown",
   "id": "91247a09",
   "metadata": {},
   "source": [
    "Use the ``yfinance`` package to download monthly prices for TSLA, AAPL, and NFLX from 2011 to 2020 (inclusive). Store these data in a dataframe called ``raw``. "
   ]
  },
  {
   "cell_type": "code",
   "execution_count": null,
   "id": "5a6d8be9",
   "metadata": {},
   "outputs": [],
   "source": []
  },
  {
   "cell_type": "markdown",
   "id": "ef3de5dc",
   "metadata": {},
   "source": [
    "Use the ``raw`` data to calculate monthly returns for the 3 firms, as percentage changes in adjusted-close prices. Store these returns in a dataframe called ``ret``. Make sure you use ``.dropna()`` to drop all rows with any missing values before you calculate these returns."
   ]
  },
  {
   "cell_type": "code",
   "execution_count": null,
   "id": "46729796",
   "metadata": {},
   "outputs": [],
   "source": []
  },
  {
   "cell_type": "markdown",
   "id": "521adfc2",
   "metadata": {},
   "source": [
    "Plot the returns of each individual firm, as a separate subplot of a single figure. Make the size of the figure 8 (width) by 6 (hight), and call the title of the figure \"Firm Returns\"."
   ]
  },
  {
   "cell_type": "code",
   "execution_count": null,
   "id": "6c8f6bb7",
   "metadata": {},
   "outputs": [],
   "source": []
  },
  {
   "cell_type": "markdown",
   "id": "d4f09d1b",
   "metadata": {},
   "source": [
    "Print out a table that contains just the mean and standard deviation of returns for each of the 3 firms."
   ]
  },
  {
   "cell_type": "code",
   "execution_count": null,
   "id": "bf9a5ef5",
   "metadata": {},
   "outputs": [],
   "source": []
  },
  {
   "cell_type": "markdown",
   "id": "147a8e9d",
   "metadata": {},
   "source": [
    "Print out the covariance matrix for the returns of the 3 firms."
   ]
  },
  {
   "cell_type": "code",
   "execution_count": null,
   "id": "916f28d2",
   "metadata": {},
   "outputs": [],
   "source": []
  },
  {
   "cell_type": "markdown",
   "id": "bd0b5af3",
   "metadata": {},
   "source": [
    "Print out the covariance between the returns of TSLA and AAPL. This should be just a number, not the whole covariance matrix."
   ]
  },
  {
   "cell_type": "code",
   "execution_count": null,
   "id": "f8bc02e4",
   "metadata": {},
   "outputs": [],
   "source": []
  },
  {
   "cell_type": "markdown",
   "id": "70bef866",
   "metadata": {},
   "source": [
    "Print the 12-month autocorrelation in TSLA returns."
   ]
  },
  {
   "cell_type": "code",
   "execution_count": null,
   "id": "bfcc7961",
   "metadata": {},
   "outputs": [],
   "source": []
  },
  {
   "cell_type": "markdown",
   "id": "b43a9ee9",
   "metadata": {},
   "source": [
    "Print the 12-month autocorrelation in NFLX returns. Note the difference in signs between TSLA and NFLX. Think about what that tells us about using past performance to forecast future performance for the two stocks."
   ]
  },
  {
   "cell_type": "code",
   "execution_count": null,
   "id": "acaac20d",
   "metadata": {},
   "outputs": [],
   "source": []
  },
  {
   "cell_type": "markdown",
   "id": "1f71ae44",
   "metadata": {},
   "source": [
    "Plot the moving standard deviation in returns for all 3 firms in the same plot (no subplots). Use a fixed 36-month window."
   ]
  },
  {
   "cell_type": "code",
   "execution_count": null,
   "id": "b612b457",
   "metadata": {},
   "outputs": [],
   "source": []
  }
 ],
 "metadata": {
  "kernelspec": {
   "display_name": "Python 3",
   "language": "python",
   "name": "python3"
  },
  "language_info": {
   "codemirror_mode": {
    "name": "ipython",
    "version": 3
   },
   "file_extension": ".py",
   "mimetype": "text/x-python",
   "name": "python",
   "nbconvert_exporter": "python",
   "pygments_lexer": "ipython3",
   "version": "3.9.7"
  }
 },
 "nbformat": 4,
 "nbformat_minor": 5
}
