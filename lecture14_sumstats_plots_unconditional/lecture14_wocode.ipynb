{
 "cells": [
  {
   "cell_type": "markdown",
   "id": "8270a893",
   "metadata": {
    "toc": true
   },
   "source": [
    "<h1>Table of Contents<span class=\"tocSkip\"></span></h1>\n",
    "<div class=\"toc\"><ul class=\"toc-item\"><li><span><a href=\"#Preliminaries\" data-toc-modified-id=\"Preliminaries-1\"><span class=\"toc-item-num\">1&nbsp;&nbsp;</span>Preliminaries</a></span></li><li><span><a href=\"#Vizualization-tools-(the-.plot()-function)\" data-toc-modified-id=\"Vizualization-tools-(the-.plot()-function)-2\"><span class=\"toc-item-num\">2&nbsp;&nbsp;</span>Vizualization tools (the <code>.plot()</code> function)</a></span><ul class=\"toc-item\"><li><span><a href=\"#Line-plots\" data-toc-modified-id=\"Line-plots-2.1\"><span class=\"toc-item-num\">2.1&nbsp;&nbsp;</span>Line plots</a></span></li><li><span><a href=\"#Scatter-plots\" data-toc-modified-id=\"Scatter-plots-2.2\"><span class=\"toc-item-num\">2.2&nbsp;&nbsp;</span>Scatter plots</a></span></li><li><span><a href=\"#Histograms\" data-toc-modified-id=\"Histograms-2.3\"><span class=\"toc-item-num\">2.3&nbsp;&nbsp;</span>Histograms</a></span></li><li><span><a href=\"#Box-plots\" data-toc-modified-id=\"Box-plots-2.4\"><span class=\"toc-item-num\">2.4&nbsp;&nbsp;</span>Box plots</a></span></li></ul></li><li><span><a href=\"#Single-variable-statistics\" data-toc-modified-id=\"Single-variable-statistics-3\"><span class=\"toc-item-num\">3&nbsp;&nbsp;</span>Single-variable statistics</a></span><ul class=\"toc-item\"><li><span><a href=\"#The-.describe()-function\" data-toc-modified-id=\"The-.describe()-function-3.1\"><span class=\"toc-item-num\">3.1&nbsp;&nbsp;</span>The <code>.describe()</code> function</a></span></li><li><span><a href=\"#Calculating-individual-statistics\" data-toc-modified-id=\"Calculating-individual-statistics-3.2\"><span class=\"toc-item-num\">3.2&nbsp;&nbsp;</span>Calculating individual statistics</a></span><ul class=\"toc-item\"><li><span><a href=\"#.mean()\" data-toc-modified-id=\".mean()-3.2.1\"><span class=\"toc-item-num\">3.2.1&nbsp;&nbsp;</span><code>.mean()</code></a></span></li><li><span><a href=\"#.var()\" data-toc-modified-id=\".var()-3.2.2\"><span class=\"toc-item-num\">3.2.2&nbsp;&nbsp;</span><code>.var()</code></a></span></li><li><span><a href=\"#.std()\" data-toc-modified-id=\".std()-3.2.3\"><span class=\"toc-item-num\">3.2.3&nbsp;&nbsp;</span><code>.std()</code></a></span></li><li><span><a href=\"#.median()\" data-toc-modified-id=\".median()-3.2.4\"><span class=\"toc-item-num\">3.2.4&nbsp;&nbsp;</span><code>.median()</code></a></span></li></ul></li><li><span><a href=\"#Calculating-row-level-statistics\" data-toc-modified-id=\"Calculating-row-level-statistics-3.3\"><span class=\"toc-item-num\">3.3&nbsp;&nbsp;</span>Calculating row-level statistics</a></span></li><li><span><a href=\"#Creating-your-own-list-of-summary-statistics-with-the-.agg()-function\" data-toc-modified-id=\"Creating-your-own-list-of-summary-statistics-with-the-.agg()-function-3.4\"><span class=\"toc-item-num\">3.4&nbsp;&nbsp;</span>Creating your own list of summary statistics with the <code>.agg()</code> function</a></span></li></ul></li><li><span><a href=\"#Two-variable-statistics\" data-toc-modified-id=\"Two-variable-statistics-4\"><span class=\"toc-item-num\">4&nbsp;&nbsp;</span>Two-variable statistics</a></span><ul class=\"toc-item\"><li><span><a href=\"#Covariance:-.cov()\" data-toc-modified-id=\"Covariance:-.cov()-4.1\"><span class=\"toc-item-num\">4.1&nbsp;&nbsp;</span>Covariance: <code>.cov()</code></a></span></li><li><span><a href=\"#Correlation:-.corr()\" data-toc-modified-id=\"Correlation:-.corr()-4.2\"><span class=\"toc-item-num\">4.2&nbsp;&nbsp;</span>Correlation: <code>.corr()</code></a></span></li><li><span><a href=\"#Autocorrelation:-.autocorr()\" data-toc-modified-id=\"Autocorrelation:-.autocorr()-4.3\"><span class=\"toc-item-num\">4.3&nbsp;&nbsp;</span>Autocorrelation: <code>.autocorr()</code></a></span></li></ul></li><li><span><a href=\"#Rolling-statistics\" data-toc-modified-id=\"Rolling-statistics-5\"><span class=\"toc-item-num\">5&nbsp;&nbsp;</span>Rolling statistics</a></span><ul class=\"toc-item\"><li><span><a href=\"#Fixed-window-rolling-statistics\" data-toc-modified-id=\"Fixed-window-rolling-statistics-5.1\"><span class=\"toc-item-num\">5.1&nbsp;&nbsp;</span>Fixed-window rolling statistics</a></span></li><li><span><a href=\"#Expanding-window-rolling-statistics\" data-toc-modified-id=\"Expanding-window-rolling-statistics-5.2\"><span class=\"toc-item-num\">5.2&nbsp;&nbsp;</span>Expanding-window rolling statistics</a></span></li></ul></li></ul></div>"
   ]
  },
  {
   "cell_type": "markdown",
   "id": "a7192ed6",
   "metadata": {},
   "source": [
    "# Preliminaries"
   ]
  },
  {
   "cell_type": "code",
   "execution_count": null,
   "id": "169dc1ed",
   "metadata": {},
   "outputs": [],
   "source": [
    "import pandas as pd\n",
    "import pandas_datareader as pdr"
   ]
  },
  {
   "cell_type": "code",
   "execution_count": null,
   "id": "9afb4920",
   "metadata": {},
   "outputs": [],
   "source": [
    "# Download data on Fama-French three factors (we will use this data in all our examples)\n",
    "ff3 = pdr.DataReader('F-F_Research_Data_Factors', 'famafrench', \n",
    "                     '1970-01-01','2020-12-31'\n",
    "                    )[0]/100\n",
    "ff3"
   ]
  },
  {
   "cell_type": "code",
   "execution_count": null,
   "id": "98310ace",
   "metadata": {
    "scrolled": true
   },
   "outputs": [],
   "source": [
    "# Rename for convenience\n",
    "ff3.rename(columns = {'Mkt-RF': 'MKT'}, inplace = True)\n",
    "ff3.head(2)"
   ]
  },
  {
   "cell_type": "markdown",
   "id": "744da116",
   "metadata": {},
   "source": [
    "# Vizualization tools (the ``.plot()`` function)\n",
    "\n",
    "There are many different ways to visualize the data from a Pandas dataframe (e.g. the ``matplotlib`` and ``seaborn`` packages are very popular). However, for the purpose of this class, the ``.plot()`` function that comes with the Pandas package will be sufficient.\n",
    "\n",
    "Below we work through some examples of the most common types of plots used for financial data: line plots, scatter plots, histograms, and box plots.\n",
    "\n",
    "Abbreviated syntax:\n",
    "```python\n",
    "DataFrame.plot(kind = 'line', x = None, y = None, \n",
    "               title = None, xlabel = None, ylabel = None,\n",
    "               legend = True, grid = False, layout = None, \n",
    "               sharex = True, sharey = False, figsize = None)\n",
    "```\n",
    "\n",
    "More detail on the ``.plot()`` function can be found here:\n",
    "https://pandas.pydata.org/docs/reference/api/pandas.DataFrame.plot.html"
   ]
  },
  {
   "cell_type": "markdown",
   "id": "01e722d3",
   "metadata": {},
   "source": [
    "## Line plots\n",
    "\n",
    "Note that, by default, ``plot()`` creates a \"line\" plot, using the index of the dataframe for the x axis (in our case, the Date):"
   ]
  },
  {
   "cell_type": "code",
   "execution_count": null,
   "id": "8b11de07",
   "metadata": {},
   "outputs": [],
   "source": []
  },
  {
   "cell_type": "markdown",
   "id": "e7236476",
   "metadata": {},
   "source": [
    "You can specify which variables you want plotted by subsetting the overall dataframe first:"
   ]
  },
  {
   "cell_type": "code",
   "execution_count": null,
   "id": "47a69805",
   "metadata": {},
   "outputs": [],
   "source": []
  },
  {
   "cell_type": "markdown",
   "id": "109b23bf",
   "metadata": {},
   "source": [
    "Below, we show more of the functionality of ``.plot()`` through a more involved example:"
   ]
  },
  {
   "cell_type": "code",
   "execution_count": null,
   "id": "6aa83634",
   "metadata": {},
   "outputs": [],
   "source": []
  },
  {
   "cell_type": "markdown",
   "id": "c5a1356c",
   "metadata": {},
   "source": [
    "## Scatter plots\n",
    "To create a scatter plot, we need to change the ``kind`` parameter to \"scatter\" and also specify what is on the x axis and what is on the y axis:"
   ]
  },
  {
   "cell_type": "code",
   "execution_count": null,
   "id": "b53ef029",
   "metadata": {},
   "outputs": [],
   "source": []
  },
  {
   "cell_type": "markdown",
   "id": "a1079120",
   "metadata": {},
   "source": [
    "## Histograms\n",
    "For a histogram, we use ``kind='hist'`` and then use ``subplots=True`` to specify that we want each variable to have its own histogram, in a separate subplot:"
   ]
  },
  {
   "cell_type": "code",
   "execution_count": null,
   "id": "f7013d76",
   "metadata": {},
   "outputs": [],
   "source": []
  },
  {
   "cell_type": "markdown",
   "id": "eb1b34f3",
   "metadata": {},
   "source": [
    "We can change the position of the subplots relative to each other using the ``layout`` parameter:"
   ]
  },
  {
   "cell_type": "code",
   "execution_count": null,
   "id": "5acc935e",
   "metadata": {},
   "outputs": [],
   "source": []
  },
  {
   "cell_type": "markdown",
   "id": "b297da40",
   "metadata": {},
   "source": [
    "We can create a continuous approximation of the histogram using ``kind='density'``:"
   ]
  },
  {
   "cell_type": "code",
   "execution_count": null,
   "id": "2b3d9385",
   "metadata": {},
   "outputs": [],
   "source": []
  },
  {
   "cell_type": "markdown",
   "id": "58a0be87",
   "metadata": {},
   "source": [
    "## Box plots\n",
    "\n",
    "For box plots, we use ``kind='box'``:"
   ]
  },
  {
   "cell_type": "code",
   "execution_count": null,
   "id": "1b08ff77",
   "metadata": {},
   "outputs": [],
   "source": []
  },
  {
   "cell_type": "markdown",
   "id": "d497c028",
   "metadata": {},
   "source": [
    "# Single-variable statistics\n",
    "\n",
    "We start by looking at statistics that describe a single variable (as opposed to the relationship between two variables). \n",
    "\n",
    "Since our data will almost always be in a Pandas dataframe, we will use pandas functions (attributes) to calculate sample statistics, but many other packages can be used to calculate summary statistics for your data (e.g. the ``numpy`` package allows you to calculate descriptive statistics if your data is in a Numpy array)."
   ]
  },
  {
   "cell_type": "markdown",
   "id": "f9130e61",
   "metadata": {},
   "source": [
    "## The ``.describe()`` function\n",
    "\n",
    "We can use the  ``.describe()`` function to get some standard descriptive statistics for the entire dataset. \n",
    "\n",
    "Syntax:\n",
    "```python\n",
    "DataFrame.describe(percentiles=None, include=None, exclude=None, datetime_is_numeric=False)\n",
    "```\n",
    "\n",
    "The default is for ``.describe()`` to produce summary statistics only for numerical data types in the dataframe. You can change this with the ``include`` and ``exclude`` parameters. "
   ]
  },
  {
   "cell_type": "code",
   "execution_count": null,
   "id": "63ddb5dc",
   "metadata": {},
   "outputs": [],
   "source": []
  },
  {
   "cell_type": "markdown",
   "id": "93ace77b",
   "metadata": {},
   "source": [
    "The ``percentiles`` parameter allows you to specify which percentiles you want ``.describe()`` to calculate (default is 25th, 50th and 75th percentiles). For example, below, we only ask for the 50th percentile (the median):"
   ]
  },
  {
   "cell_type": "code",
   "execution_count": null,
   "id": "fdbceb2a",
   "metadata": {},
   "outputs": [],
   "source": []
  },
  {
   "cell_type": "markdown",
   "id": "75f210e2",
   "metadata": {},
   "source": [
    "## Calculating individual statistics\n",
    "\n",
    "Each individual statistic produced by ``.describe()`` has its own function that can be applied either to the entire dataframe or to subsets of it. Below I only show examples for mean, variance, standard deviation and median (but you can also use ``.count()``, ``.min()``, ``.max()``, ``.sum()`` and many others)."
   ]
  },
  {
   "cell_type": "markdown",
   "id": "64b310a3",
   "metadata": {},
   "source": [
    "### ``.mean()``"
   ]
  },
  {
   "cell_type": "code",
   "execution_count": null,
   "id": "83124abc",
   "metadata": {},
   "outputs": [],
   "source": []
  },
  {
   "cell_type": "markdown",
   "id": "486200ea",
   "metadata": {},
   "source": [
    "### ``.var()``"
   ]
  },
  {
   "cell_type": "code",
   "execution_count": null,
   "id": "6e007671",
   "metadata": {},
   "outputs": [],
   "source": []
  },
  {
   "cell_type": "markdown",
   "id": "3db8fb1a",
   "metadata": {},
   "source": [
    "### ``.std()``"
   ]
  },
  {
   "cell_type": "code",
   "execution_count": null,
   "id": "6a24df27",
   "metadata": {},
   "outputs": [],
   "source": []
  },
  {
   "cell_type": "markdown",
   "id": "1c6af8df",
   "metadata": {},
   "source": [
    "### ``.median()``"
   ]
  },
  {
   "cell_type": "code",
   "execution_count": null,
   "id": "440290cd",
   "metadata": {},
   "outputs": [],
   "source": []
  },
  {
   "cell_type": "markdown",
   "id": "f63b61e6",
   "metadata": {},
   "source": [
    "**Challenge:**\n",
    "\n",
    "Note that the output of ``.describe()`` is also a dataframe. So we can use ``.loc[]`` to access specific numbers in that output table.\n",
    "\n",
    "Use the space below to calculate and print the interquartile range (IQR = percentile 75 minus percentile 25) for the 'MKT' variable:"
   ]
  },
  {
   "cell_type": "code",
   "execution_count": null,
   "id": "717b9b14",
   "metadata": {},
   "outputs": [],
   "source": []
  },
  {
   "cell_type": "code",
   "execution_count": null,
   "id": "b0d2dba9",
   "metadata": {},
   "outputs": [],
   "source": []
  },
  {
   "cell_type": "code",
   "execution_count": null,
   "id": "4c72651c",
   "metadata": {},
   "outputs": [],
   "source": []
  },
  {
   "cell_type": "markdown",
   "id": "91f74997",
   "metadata": {},
   "source": [
    "## Calculating row-level statistics\n",
    "\n",
    "All statistical functions in Pandas (e.g. ``.mean()``, ``.median()``, etc) have an ``axis`` argument that allows you to specify if you want that statistic to be calculated column-wise (axis=0, the default) or row-wise (axis=1). "
   ]
  },
  {
   "cell_type": "markdown",
   "id": "52982655",
   "metadata": {},
   "source": [
    "For example, if we want to know, each month, which of the columns in ``ff3`` had the highest return, we would use:"
   ]
  },
  {
   "cell_type": "code",
   "execution_count": null,
   "id": "46b76f07",
   "metadata": {},
   "outputs": [],
   "source": []
  },
  {
   "cell_type": "code",
   "execution_count": null,
   "id": "948b386d",
   "metadata": {},
   "outputs": [],
   "source": []
  },
  {
   "cell_type": "markdown",
   "id": "cf709e8a",
   "metadata": {},
   "source": [
    "As usual, we can also calculate row-wise statistics using only a subset of the columns:"
   ]
  },
  {
   "cell_type": "code",
   "execution_count": null,
   "id": "99b7716d",
   "metadata": {},
   "outputs": [],
   "source": []
  },
  {
   "cell_type": "markdown",
   "id": "20aeffa7",
   "metadata": {},
   "source": [
    "## Creating your own list of summary statistics with the ``.agg()`` function\n",
    "\n",
    "If we want a different selection of summary statistics than the one offered by the ``.describe()`` function, we can use the ``.agg()`` function to specify exactly which statistics we want:\n",
    "\n",
    "Syntax:\n",
    "```python\n",
    "DataFrame.agg(func=None, axis=0, *args, **kwargs)\n",
    "```"
   ]
  },
  {
   "cell_type": "markdown",
   "id": "51fff53c",
   "metadata": {},
   "source": [
    "If you want the same stats for all variables, just provide a list of the names of the functions you want to be used (e.g. use 'mean' for the ``.mean()`` function, 'std' for the ``.std()`` function etc.)."
   ]
  },
  {
   "cell_type": "code",
   "execution_count": null,
   "id": "28397a81",
   "metadata": {},
   "outputs": [],
   "source": []
  },
  {
   "cell_type": "markdown",
   "id": "cc915a75",
   "metadata": {},
   "source": [
    "You can also specify different functions (stats) for each variable:"
   ]
  },
  {
   "cell_type": "code",
   "execution_count": null,
   "id": "7af21ae4",
   "metadata": {},
   "outputs": [],
   "source": []
  },
  {
   "cell_type": "markdown",
   "id": "aff1be98",
   "metadata": {},
   "source": [
    "**Challenge:**\n",
    "\n",
    "Create a table that shows just the mean and standard deviation for the SMB and HML variables"
   ]
  },
  {
   "cell_type": "code",
   "execution_count": null,
   "id": "b3ed227d",
   "metadata": {},
   "outputs": [],
   "source": []
  },
  {
   "cell_type": "markdown",
   "id": "fed71f8e",
   "metadata": {},
   "source": [
    "# Two-variable statistics\n",
    "\n",
    "These are statistics that describe the relation between two variables. The most commonly used ones are the **covariance* and the **correlation**. Both of these try to quantify the strength of the **linear** relation between the two variables. The main difference between them is that the correlation coefficient is bounded between -1 and 1 and so it is easier to interpret. \n",
    "\n",
    "*If two variables are tightly related to each other, but not in a linear fashion (e.g. $Y = X^4$), the covariance and correlation will **underestimate** the strength of that relation.*"
   ]
  },
  {
   "cell_type": "markdown",
   "id": "f59596a8",
   "metadata": {},
   "source": [
    "## Covariance: ``.cov()``\n",
    "\n",
    "The ``cov()`` function produces a covariance matrix for the variables (columns) in the dataframe. The numbers on the diagonal are actually variances. Each number on the off-diagonal is the covariance between the two variables specified in the column/row headers."
   ]
  },
  {
   "cell_type": "code",
   "execution_count": null,
   "id": "6e541489",
   "metadata": {},
   "outputs": [],
   "source": []
  },
  {
   "cell_type": "markdown",
   "id": "4d7d370d",
   "metadata": {},
   "source": [
    "The output table above is a dataframe, so we can access individual numbers in it using the ``.loc[]`` operator. \n",
    "\n",
    "For example, below, we extract the covariance between the 'MKT' and 'SMB' variables:"
   ]
  },
  {
   "cell_type": "code",
   "execution_count": null,
   "id": "49cc3959",
   "metadata": {},
   "outputs": [],
   "source": []
  },
  {
   "cell_type": "markdown",
   "id": "617a947a",
   "metadata": {},
   "source": [
    "Remember, if you want to use these estimates later on, you need to store them as new variables:"
   ]
  },
  {
   "cell_type": "code",
   "execution_count": null,
   "id": "82c1bcee",
   "metadata": {},
   "outputs": [],
   "source": []
  },
  {
   "cell_type": "code",
   "execution_count": null,
   "id": "d17a634d",
   "metadata": {},
   "outputs": [],
   "source": []
  },
  {
   "cell_type": "markdown",
   "id": "7cbbd1f6",
   "metadata": {},
   "source": [
    "## Correlation: ``.corr()``\n",
    "\n",
    "Just like with covariance, we can calculate a correlation matrix for the entire dataset:"
   ]
  },
  {
   "cell_type": "code",
   "execution_count": null,
   "id": "9820a42d",
   "metadata": {},
   "outputs": [],
   "source": []
  },
  {
   "cell_type": "markdown",
   "id": "de78eb40",
   "metadata": {},
   "source": [
    "Or we can extract the correlation of a particular pair of variables in your dataset:"
   ]
  },
  {
   "cell_type": "code",
   "execution_count": null,
   "id": "1bce7610",
   "metadata": {},
   "outputs": [],
   "source": []
  },
  {
   "cell_type": "markdown",
   "id": "81b6aec9",
   "metadata": {},
   "source": [
    "**Challenge:**\n",
    "\n",
    "Calculate the correlation between 'MKT' returns in the current month and the SMB return from 12 months ago."
   ]
  },
  {
   "cell_type": "code",
   "execution_count": null,
   "id": "1c391f68",
   "metadata": {},
   "outputs": [],
   "source": []
  },
  {
   "cell_type": "markdown",
   "id": "5b80a770",
   "metadata": {},
   "source": [
    "## Autocorrelation: ``.autocorr()``\n",
    "\n",
    "The autocorrelation of a variable is the correlation between its current value and a value from the past. So there is not one single autocorrelation for any given variable, there is one autocorrelation for every \"lag\" between the current value and the value from the past. For example, below, we calculate the \"1-month autocorrelation\" and \"12-month autocorrelation\" for the market portfolio returns:"
   ]
  },
  {
   "cell_type": "code",
   "execution_count": null,
   "id": "6f487da0",
   "metadata": {},
   "outputs": [],
   "source": []
  },
  {
   "cell_type": "code",
   "execution_count": null,
   "id": "225c2033",
   "metadata": {},
   "outputs": [],
   "source": []
  },
  {
   "cell_type": "markdown",
   "id": "af11ed0f",
   "metadata": {},
   "source": [
    "And below we verify that the autocorrelation is nothing but the correlation between the current value and a lagged value:"
   ]
  },
  {
   "cell_type": "code",
   "execution_count": null,
   "id": "dd1cb848",
   "metadata": {
    "scrolled": true
   },
   "outputs": [],
   "source": []
  },
  {
   "cell_type": "code",
   "execution_count": null,
   "id": "d774561d",
   "metadata": {
    "scrolled": true
   },
   "outputs": [],
   "source": []
  },
  {
   "cell_type": "markdown",
   "id": "42f5d3a4",
   "metadata": {},
   "source": [
    "# Rolling statistics\n",
    "\n",
    "These are statistics that are re-calculated at each point in time, using either \n",
    "- a fixed number of data points from the past \n",
    "    - these are called \"fixed window\" rolling statistics\n",
    "    - can be calculated with the \"rolling\" Pandas function\n",
    "- all the data from the past (expanding window) \n",
    "    - these are called \"expanding window\" rolling statistics\n",
    "    - can be calculated with the \"expanding\" Pandas function\n",
    "\n",
    "Both the \"expanding\" and the \"rolling\" functions should be followed by the name of the statistic that you want to calculate."
   ]
  },
  {
   "cell_type": "markdown",
   "id": "0a5646f6",
   "metadata": {},
   "source": [
    "## Fixed-window rolling statistics \n",
    "\n",
    "We use the ``.rolling()`` function to calculate summary statistics at each point in time \"t\" using only the observations from \"t - w\" to \"t\", where \"w\" is referred to as the \"window\" length.\n",
    "\n",
    "Syntax:\n",
    "```python\n",
    "DataFrame.rolling(window, min_periods=None, center=False, win_type=None, on=None, axis=0, closed=None, method='single')\n",
    "```"
   ]
  },
  {
   "cell_type": "markdown",
   "id": "21a038a1",
   "metadata": {},
   "source": [
    "As an example, below, we calculate 60-month rolling means (i.e. \"w\" is 60) for all the variables in ``ff3``:"
   ]
  },
  {
   "cell_type": "code",
   "execution_count": null,
   "id": "19bcf67f",
   "metadata": {},
   "outputs": [],
   "source": []
  },
  {
   "cell_type": "code",
   "execution_count": null,
   "id": "0a349733",
   "metadata": {},
   "outputs": [],
   "source": []
  },
  {
   "cell_type": "markdown",
   "id": "0253b5ca",
   "metadata": {},
   "source": [
    "We can calculate rolling versions for all summary statistics that the pandas package knows how to calculate. For example, below, we calculate the rolling, 36-month standard deviations of market returns, and we plot these over time:"
   ]
  },
  {
   "cell_type": "code",
   "execution_count": null,
   "id": "9166d4bd",
   "metadata": {},
   "outputs": [],
   "source": []
  },
  {
   "cell_type": "markdown",
   "id": "3c14b66d",
   "metadata": {},
   "source": [
    "We can even calculate rolling versions of two-variable summary statistics (like correlation and covariance). However, we have to remember that ``.corr()`` and ``.cov()`` produce matrices not single numbers. So if we want rolling correlations between, say, market returns and the risk-free rate, the cell below will produce a correlation matrix at each point in time:"
   ]
  },
  {
   "cell_type": "code",
   "execution_count": null,
   "id": "0c8804b3",
   "metadata": {},
   "outputs": [],
   "source": []
  },
  {
   "cell_type": "markdown",
   "id": "d241638f",
   "metadata": {},
   "source": [
    "Instead, we need to supply one of the variables as a parameter to the ``.corr()`` function:"
   ]
  },
  {
   "cell_type": "code",
   "execution_count": null,
   "id": "2da57779",
   "metadata": {},
   "outputs": [],
   "source": []
  },
  {
   "cell_type": "code",
   "execution_count": null,
   "id": "50a012cc",
   "metadata": {},
   "outputs": [],
   "source": []
  },
  {
   "cell_type": "markdown",
   "id": "e586912e",
   "metadata": {},
   "source": [
    "## Expanding-window rolling statistics\n",
    "\n",
    "With expanding-window summary statistics, at each point in time, we use all the available data up to that point to calculate the statistic. We use the ``.expanding()`` function for this purpose, which also gives us the option to specify that we want to calculate the statistic only if we have a minimum number of observations available at that point (see the ``min_period`` parameter below): \n",
    "\n",
    "Syntax:\n",
    "```python\n",
    "DataFrame.expanding(min_periods=1, center=None, axis=0, method='single')\n",
    "```"
   ]
  },
  {
   "cell_type": "markdown",
   "id": "e4ca45f7",
   "metadata": {},
   "source": [
    "Note that, if we don't supply a large enough ``min_periods``, in the beginning of the sample, the statistics will be calculated using a very low number of observations (starting with 1), so they will be quite volatile:"
   ]
  },
  {
   "cell_type": "code",
   "execution_count": null,
   "id": "e3e7bedc",
   "metadata": {},
   "outputs": [],
   "source": []
  },
  {
   "cell_type": "markdown",
   "id": "6dc40137",
   "metadata": {},
   "source": [
    "This looks a lot more stable if we make sure each statistic is calculated using at least 36 observations:"
   ]
  },
  {
   "cell_type": "code",
   "execution_count": null,
   "id": "83d4d09f",
   "metadata": {},
   "outputs": [],
   "source": []
  },
  {
   "cell_type": "markdown",
   "id": "2ab1c31f",
   "metadata": {},
   "source": [
    "As another example, let's look at the behavior of market volatility over time:"
   ]
  },
  {
   "cell_type": "code",
   "execution_count": null,
   "id": "9f99baa4",
   "metadata": {},
   "outputs": [],
   "source": []
  },
  {
   "cell_type": "markdown",
   "id": "e736d089",
   "metadata": {},
   "source": [
    "Finally, below, we see that the correlation between market returns and tbill yields, while changing over time, is negative throughout (when we do not restrict ourselves to just the prior 60 observations):"
   ]
  },
  {
   "cell_type": "code",
   "execution_count": null,
   "id": "d9849117",
   "metadata": {},
   "outputs": [],
   "source": []
  }
 ],
 "metadata": {
  "kernelspec": {
   "display_name": "Python 3 (ipykernel)",
   "language": "python",
   "name": "python3"
  },
  "language_info": {
   "codemirror_mode": {
    "name": "ipython",
    "version": 3
   },
   "file_extension": ".py",
   "mimetype": "text/x-python",
   "name": "python",
   "nbconvert_exporter": "python",
   "pygments_lexer": "ipython3",
   "version": "3.8.5"
  },
  "toc": {
   "base_numbering": 1,
   "nav_menu": {},
   "number_sections": true,
   "sideBar": true,
   "skip_h1_title": false,
   "title_cell": "Table of Contents",
   "title_sidebar": "Contents",
   "toc_cell": true,
   "toc_position": {},
   "toc_section_display": true,
   "toc_window_display": false
  }
 },
 "nbformat": 4,
 "nbformat_minor": 5
}
