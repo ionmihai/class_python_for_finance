{
 "cells": [
  {
   "cell_type": "markdown",
   "id": "bfd7a738",
   "metadata": {},
   "source": [
    "Run the cell below:"
   ]
  },
  {
   "cell_type": "code",
   "execution_count": 1,
   "id": "454921b4",
   "metadata": {},
   "outputs": [],
   "source": [
    "import pandas as pd\n",
    "import yfinance as yf"
   ]
  },
  {
   "cell_type": "markdown",
   "id": "ef80c30c",
   "metadata": {},
   "source": [
    "Use the ``yfinance`` package to download monthly prices for TSLA, AAPL, and NFLX from 2011 to 2020 (inclusive). Store these data in a dataframe called ``raw``. "
   ]
  },
  {
   "cell_type": "code",
   "execution_count": 2,
   "id": "177bbee5",
   "metadata": {},
   "outputs": [
    {
     "name": "stdout",
     "output_type": "stream",
     "text": [
      "[*********************100%***********************]  3 of 3 completed\n"
     ]
    },
    {
     "data": {
      "text/html": [
       "<div>\n",
       "<style scoped>\n",
       "    .dataframe tbody tr th:only-of-type {\n",
       "        vertical-align: middle;\n",
       "    }\n",
       "\n",
       "    .dataframe tbody tr th {\n",
       "        vertical-align: top;\n",
       "    }\n",
       "\n",
       "    .dataframe thead tr th {\n",
       "        text-align: left;\n",
       "    }\n",
       "\n",
       "    .dataframe thead tr:last-of-type th {\n",
       "        text-align: right;\n",
       "    }\n",
       "</style>\n",
       "<table border=\"1\" class=\"dataframe\">\n",
       "  <thead>\n",
       "    <tr>\n",
       "      <th></th>\n",
       "      <th colspan=\"3\" halign=\"left\">Adj Close</th>\n",
       "      <th colspan=\"3\" halign=\"left\">Close</th>\n",
       "      <th colspan=\"3\" halign=\"left\">High</th>\n",
       "      <th colspan=\"3\" halign=\"left\">Low</th>\n",
       "      <th colspan=\"3\" halign=\"left\">Open</th>\n",
       "      <th colspan=\"3\" halign=\"left\">Volume</th>\n",
       "    </tr>\n",
       "    <tr>\n",
       "      <th></th>\n",
       "      <th>AAPL</th>\n",
       "      <th>NFLX</th>\n",
       "      <th>TSLA</th>\n",
       "      <th>AAPL</th>\n",
       "      <th>NFLX</th>\n",
       "      <th>TSLA</th>\n",
       "      <th>AAPL</th>\n",
       "      <th>NFLX</th>\n",
       "      <th>TSLA</th>\n",
       "      <th>AAPL</th>\n",
       "      <th>NFLX</th>\n",
       "      <th>TSLA</th>\n",
       "      <th>AAPL</th>\n",
       "      <th>NFLX</th>\n",
       "      <th>TSLA</th>\n",
       "      <th>AAPL</th>\n",
       "      <th>NFLX</th>\n",
       "      <th>TSLA</th>\n",
       "    </tr>\n",
       "    <tr>\n",
       "      <th>Date</th>\n",
       "      <th></th>\n",
       "      <th></th>\n",
       "      <th></th>\n",
       "      <th></th>\n",
       "      <th></th>\n",
       "      <th></th>\n",
       "      <th></th>\n",
       "      <th></th>\n",
       "      <th></th>\n",
       "      <th></th>\n",
       "      <th></th>\n",
       "      <th></th>\n",
       "      <th></th>\n",
       "      <th></th>\n",
       "      <th></th>\n",
       "      <th></th>\n",
       "      <th></th>\n",
       "      <th></th>\n",
       "    </tr>\n",
       "  </thead>\n",
       "  <tbody>\n",
       "    <tr>\n",
       "      <th>2011-01-01</th>\n",
       "      <td>10.376816</td>\n",
       "      <td>30.582857</td>\n",
       "      <td>4.820000</td>\n",
       "      <td>12.118571</td>\n",
       "      <td>30.582857</td>\n",
       "      <td>4.820000</td>\n",
       "      <td>12.450000</td>\n",
       "      <td>31.142857</td>\n",
       "      <td>5.742000</td>\n",
       "      <td>11.601429</td>\n",
       "      <td>24.785713</td>\n",
       "      <td>4.474000</td>\n",
       "      <td>11.630000</td>\n",
       "      <td>25.000000</td>\n",
       "      <td>5.368000</td>\n",
       "      <td>1.084154e+10</td>\n",
       "      <td>761392100.0</td>\n",
       "      <td>1.421005e+08</td>\n",
       "    </tr>\n",
       "    <tr>\n",
       "      <th>2011-02-01</th>\n",
       "      <td>10.801595</td>\n",
       "      <td>29.524286</td>\n",
       "      <td>4.778000</td>\n",
       "      <td>12.614643</td>\n",
       "      <td>29.524286</td>\n",
       "      <td>4.778000</td>\n",
       "      <td>13.032143</td>\n",
       "      <td>35.364285</td>\n",
       "      <td>5.098000</td>\n",
       "      <td>12.061429</td>\n",
       "      <td>29.000000</td>\n",
       "      <td>4.222000</td>\n",
       "      <td>12.189286</td>\n",
       "      <td>30.661428</td>\n",
       "      <td>4.862000</td>\n",
       "      <td>9.295950e+09</td>\n",
       "      <td>736982400.0</td>\n",
       "      <td>1.465175e+08</td>\n",
       "    </tr>\n",
       "    <tr>\n",
       "      <th>2011-03-01</th>\n",
       "      <td>10.657866</td>\n",
       "      <td>33.968571</td>\n",
       "      <td>5.550000</td>\n",
       "      <td>12.446786</td>\n",
       "      <td>33.968571</td>\n",
       "      <td>5.550000</td>\n",
       "      <td>12.916786</td>\n",
       "      <td>34.595715</td>\n",
       "      <td>5.742000</td>\n",
       "      <td>11.652143</td>\n",
       "      <td>26.984285</td>\n",
       "      <td>4.354000</td>\n",
       "      <td>12.695357</td>\n",
       "      <td>29.457144</td>\n",
       "      <td>4.810000</td>\n",
       "      <td>1.130646e+10</td>\n",
       "      <td>988351700.0</td>\n",
       "      <td>1.628165e+08</td>\n",
       "    </tr>\n",
       "    <tr>\n",
       "      <th>2011-04-01</th>\n",
       "      <td>10.707403</td>\n",
       "      <td>33.238571</td>\n",
       "      <td>5.520000</td>\n",
       "      <td>12.504643</td>\n",
       "      <td>33.238571</td>\n",
       "      <td>5.520000</td>\n",
       "      <td>12.683214</td>\n",
       "      <td>36.425713</td>\n",
       "      <td>5.636000</td>\n",
       "      <td>11.434286</td>\n",
       "      <td>32.058571</td>\n",
       "      <td>4.840000</td>\n",
       "      <td>12.539643</td>\n",
       "      <td>34.428570</td>\n",
       "      <td>5.490000</td>\n",
       "      <td>9.253829e+09</td>\n",
       "      <td>783979700.0</td>\n",
       "      <td>1.494745e+08</td>\n",
       "    </tr>\n",
       "    <tr>\n",
       "      <th>2011-05-01</th>\n",
       "      <td>10.637067</td>\n",
       "      <td>38.685715</td>\n",
       "      <td>6.028000</td>\n",
       "      <td>12.422500</td>\n",
       "      <td>38.685715</td>\n",
       "      <td>6.028000</td>\n",
       "      <td>12.565357</td>\n",
       "      <td>38.685715</td>\n",
       "      <td>6.056000</td>\n",
       "      <td>11.765000</td>\n",
       "      <td>32.185715</td>\n",
       "      <td>5.104000</td>\n",
       "      <td>12.490714</td>\n",
       "      <td>34.031429</td>\n",
       "      <td>5.520000</td>\n",
       "      <td>6.912060e+09</td>\n",
       "      <td>678188000.0</td>\n",
       "      <td>1.517440e+08</td>\n",
       "    </tr>\n",
       "    <tr>\n",
       "      <th>...</th>\n",
       "      <td>...</td>\n",
       "      <td>...</td>\n",
       "      <td>...</td>\n",
       "      <td>...</td>\n",
       "      <td>...</td>\n",
       "      <td>...</td>\n",
       "      <td>...</td>\n",
       "      <td>...</td>\n",
       "      <td>...</td>\n",
       "      <td>...</td>\n",
       "      <td>...</td>\n",
       "      <td>...</td>\n",
       "      <td>...</td>\n",
       "      <td>...</td>\n",
       "      <td>...</td>\n",
       "      <td>...</td>\n",
       "      <td>...</td>\n",
       "      <td>...</td>\n",
       "    </tr>\n",
       "    <tr>\n",
       "      <th>2020-09-01</th>\n",
       "      <td>114.755981</td>\n",
       "      <td>500.029999</td>\n",
       "      <td>429.010010</td>\n",
       "      <td>115.809998</td>\n",
       "      <td>500.029999</td>\n",
       "      <td>429.010010</td>\n",
       "      <td>137.979996</td>\n",
       "      <td>557.390015</td>\n",
       "      <td>502.489990</td>\n",
       "      <td>103.099998</td>\n",
       "      <td>458.600006</td>\n",
       "      <td>329.880005</td>\n",
       "      <td>132.759995</td>\n",
       "      <td>532.599976</td>\n",
       "      <td>502.140015</td>\n",
       "      <td>3.885245e+09</td>\n",
       "      <td>118796900.0</td>\n",
       "      <td>1.736285e+09</td>\n",
       "    </tr>\n",
       "    <tr>\n",
       "      <th>2020-10-01</th>\n",
       "      <td>107.869240</td>\n",
       "      <td>475.739990</td>\n",
       "      <td>388.040009</td>\n",
       "      <td>108.860001</td>\n",
       "      <td>475.739990</td>\n",
       "      <td>388.040009</td>\n",
       "      <td>125.389999</td>\n",
       "      <td>572.489990</td>\n",
       "      <td>465.899994</td>\n",
       "      <td>107.720001</td>\n",
       "      <td>472.209991</td>\n",
       "      <td>379.109985</td>\n",
       "      <td>117.639999</td>\n",
       "      <td>506.029999</td>\n",
       "      <td>440.760010</td>\n",
       "      <td>2.894666e+09</td>\n",
       "      <td>154302400.0</td>\n",
       "      <td>8.336664e+08</td>\n",
       "    </tr>\n",
       "    <tr>\n",
       "      <th>2020-11-01</th>\n",
       "      <td>117.966499</td>\n",
       "      <td>490.700012</td>\n",
       "      <td>567.599976</td>\n",
       "      <td>119.050003</td>\n",
       "      <td>490.700012</td>\n",
       "      <td>567.599976</td>\n",
       "      <td>121.989998</td>\n",
       "      <td>518.729980</td>\n",
       "      <td>607.799988</td>\n",
       "      <td>107.320000</td>\n",
       "      <td>463.410004</td>\n",
       "      <td>392.299988</td>\n",
       "      <td>109.110001</td>\n",
       "      <td>478.869995</td>\n",
       "      <td>394.000000</td>\n",
       "      <td>2.123077e+09</td>\n",
       "      <td>91788900.0</td>\n",
       "      <td>7.825988e+08</td>\n",
       "    </tr>\n",
       "    <tr>\n",
       "      <th>2020-11-06</th>\n",
       "      <td>NaN</td>\n",
       "      <td>NaN</td>\n",
       "      <td>NaN</td>\n",
       "      <td>NaN</td>\n",
       "      <td>NaN</td>\n",
       "      <td>NaN</td>\n",
       "      <td>NaN</td>\n",
       "      <td>NaN</td>\n",
       "      <td>NaN</td>\n",
       "      <td>NaN</td>\n",
       "      <td>NaN</td>\n",
       "      <td>NaN</td>\n",
       "      <td>NaN</td>\n",
       "      <td>NaN</td>\n",
       "      <td>NaN</td>\n",
       "      <td>NaN</td>\n",
       "      <td>NaN</td>\n",
       "      <td>NaN</td>\n",
       "    </tr>\n",
       "    <tr>\n",
       "      <th>2020-12-01</th>\n",
       "      <td>131.709198</td>\n",
       "      <td>540.729980</td>\n",
       "      <td>705.669983</td>\n",
       "      <td>132.690002</td>\n",
       "      <td>540.729980</td>\n",
       "      <td>705.669983</td>\n",
       "      <td>138.789993</td>\n",
       "      <td>545.500000</td>\n",
       "      <td>718.719971</td>\n",
       "      <td>120.010002</td>\n",
       "      <td>491.290009</td>\n",
       "      <td>541.210022</td>\n",
       "      <td>121.010002</td>\n",
       "      <td>492.339996</td>\n",
       "      <td>597.590027</td>\n",
       "      <td>2.322190e+09</td>\n",
       "      <td>77564100.0</td>\n",
       "      <td>1.196346e+09</td>\n",
       "    </tr>\n",
       "  </tbody>\n",
       "</table>\n",
       "<p>157 rows × 18 columns</p>\n",
       "</div>"
      ],
      "text/plain": [
       "             Adj Close                               Close              \\\n",
       "                  AAPL        NFLX        TSLA        AAPL        NFLX   \n",
       "Date                                                                     \n",
       "2011-01-01   10.376816   30.582857    4.820000   12.118571   30.582857   \n",
       "2011-02-01   10.801595   29.524286    4.778000   12.614643   29.524286   \n",
       "2011-03-01   10.657866   33.968571    5.550000   12.446786   33.968571   \n",
       "2011-04-01   10.707403   33.238571    5.520000   12.504643   33.238571   \n",
       "2011-05-01   10.637067   38.685715    6.028000   12.422500   38.685715   \n",
       "...                ...         ...         ...         ...         ...   \n",
       "2020-09-01  114.755981  500.029999  429.010010  115.809998  500.029999   \n",
       "2020-10-01  107.869240  475.739990  388.040009  108.860001  475.739990   \n",
       "2020-11-01  117.966499  490.700012  567.599976  119.050003  490.700012   \n",
       "2020-11-06         NaN         NaN         NaN         NaN         NaN   \n",
       "2020-12-01  131.709198  540.729980  705.669983  132.690002  540.729980   \n",
       "\n",
       "                              High                                 Low  \\\n",
       "                  TSLA        AAPL        NFLX        TSLA        AAPL   \n",
       "Date                                                                     \n",
       "2011-01-01    4.820000   12.450000   31.142857    5.742000   11.601429   \n",
       "2011-02-01    4.778000   13.032143   35.364285    5.098000   12.061429   \n",
       "2011-03-01    5.550000   12.916786   34.595715    5.742000   11.652143   \n",
       "2011-04-01    5.520000   12.683214   36.425713    5.636000   11.434286   \n",
       "2011-05-01    6.028000   12.565357   38.685715    6.056000   11.765000   \n",
       "...                ...         ...         ...         ...         ...   \n",
       "2020-09-01  429.010010  137.979996  557.390015  502.489990  103.099998   \n",
       "2020-10-01  388.040009  125.389999  572.489990  465.899994  107.720001   \n",
       "2020-11-01  567.599976  121.989998  518.729980  607.799988  107.320000   \n",
       "2020-11-06         NaN         NaN         NaN         NaN         NaN   \n",
       "2020-12-01  705.669983  138.789993  545.500000  718.719971  120.010002   \n",
       "\n",
       "                                          Open                          \\\n",
       "                  NFLX        TSLA        AAPL        NFLX        TSLA   \n",
       "Date                                                                     \n",
       "2011-01-01   24.785713    4.474000   11.630000   25.000000    5.368000   \n",
       "2011-02-01   29.000000    4.222000   12.189286   30.661428    4.862000   \n",
       "2011-03-01   26.984285    4.354000   12.695357   29.457144    4.810000   \n",
       "2011-04-01   32.058571    4.840000   12.539643   34.428570    5.490000   \n",
       "2011-05-01   32.185715    5.104000   12.490714   34.031429    5.520000   \n",
       "...                ...         ...         ...         ...         ...   \n",
       "2020-09-01  458.600006  329.880005  132.759995  532.599976  502.140015   \n",
       "2020-10-01  472.209991  379.109985  117.639999  506.029999  440.760010   \n",
       "2020-11-01  463.410004  392.299988  109.110001  478.869995  394.000000   \n",
       "2020-11-06         NaN         NaN         NaN         NaN         NaN   \n",
       "2020-12-01  491.290009  541.210022  121.010002  492.339996  597.590027   \n",
       "\n",
       "                  Volume                             \n",
       "                    AAPL         NFLX          TSLA  \n",
       "Date                                                 \n",
       "2011-01-01  1.084154e+10  761392100.0  1.421005e+08  \n",
       "2011-02-01  9.295950e+09  736982400.0  1.465175e+08  \n",
       "2011-03-01  1.130646e+10  988351700.0  1.628165e+08  \n",
       "2011-04-01  9.253829e+09  783979700.0  1.494745e+08  \n",
       "2011-05-01  6.912060e+09  678188000.0  1.517440e+08  \n",
       "...                  ...          ...           ...  \n",
       "2020-09-01  3.885245e+09  118796900.0  1.736285e+09  \n",
       "2020-10-01  2.894666e+09  154302400.0  8.336664e+08  \n",
       "2020-11-01  2.123077e+09   91788900.0  7.825988e+08  \n",
       "2020-11-06           NaN          NaN           NaN  \n",
       "2020-12-01  2.322190e+09   77564100.0  1.196346e+09  \n",
       "\n",
       "[157 rows x 18 columns]"
      ]
     },
     "execution_count": 2,
     "metadata": {},
     "output_type": "execute_result"
    }
   ],
   "source": [
    "raw = yf.download(['TSLA','AAPL','NFLX'], interval = '1mo', \n",
    "                  start = '2011-01-01', end = '2020-12-31')\n",
    "raw"
   ]
  },
  {
   "cell_type": "markdown",
   "id": "d3319f9c",
   "metadata": {},
   "source": [
    "Use the ``raw`` data to calculate monthly returns for the 3 firms, as percentage changes in adjusted-close prices. Store these returns in a dataframe called ``ret``. Make sure you use ``.dropna()`` to drop all rows with any missing values before you calculate these returns."
   ]
  },
  {
   "cell_type": "code",
   "execution_count": 3,
   "id": "c9062f49",
   "metadata": {},
   "outputs": [
    {
     "data": {
      "text/html": [
       "<div>\n",
       "<style scoped>\n",
       "    .dataframe tbody tr th:only-of-type {\n",
       "        vertical-align: middle;\n",
       "    }\n",
       "\n",
       "    .dataframe tbody tr th {\n",
       "        vertical-align: top;\n",
       "    }\n",
       "\n",
       "    .dataframe thead th {\n",
       "        text-align: right;\n",
       "    }\n",
       "</style>\n",
       "<table border=\"1\" class=\"dataframe\">\n",
       "  <thead>\n",
       "    <tr style=\"text-align: right;\">\n",
       "      <th></th>\n",
       "      <th>AAPL</th>\n",
       "      <th>NFLX</th>\n",
       "      <th>TSLA</th>\n",
       "    </tr>\n",
       "    <tr>\n",
       "      <th>Date</th>\n",
       "      <th></th>\n",
       "      <th></th>\n",
       "      <th></th>\n",
       "    </tr>\n",
       "  </thead>\n",
       "  <tbody>\n",
       "    <tr>\n",
       "      <th>2011-01-01</th>\n",
       "      <td>NaN</td>\n",
       "      <td>NaN</td>\n",
       "      <td>NaN</td>\n",
       "    </tr>\n",
       "    <tr>\n",
       "      <th>2011-02-01</th>\n",
       "      <td>0.040935</td>\n",
       "      <td>-0.034613</td>\n",
       "      <td>-0.008714</td>\n",
       "    </tr>\n",
       "    <tr>\n",
       "      <th>2011-03-01</th>\n",
       "      <td>-0.013306</td>\n",
       "      <td>0.150530</td>\n",
       "      <td>0.161574</td>\n",
       "    </tr>\n",
       "    <tr>\n",
       "      <th>2011-04-01</th>\n",
       "      <td>0.004648</td>\n",
       "      <td>-0.021490</td>\n",
       "      <td>-0.005405</td>\n",
       "    </tr>\n",
       "    <tr>\n",
       "      <th>2011-05-01</th>\n",
       "      <td>-0.006569</td>\n",
       "      <td>0.163880</td>\n",
       "      <td>0.092029</td>\n",
       "    </tr>\n",
       "    <tr>\n",
       "      <th>...</th>\n",
       "      <td>...</td>\n",
       "      <td>...</td>\n",
       "      <td>...</td>\n",
       "    </tr>\n",
       "    <tr>\n",
       "      <th>2020-08-01</th>\n",
       "      <td>0.214380</td>\n",
       "      <td>0.083211</td>\n",
       "      <td>0.741452</td>\n",
       "    </tr>\n",
       "    <tr>\n",
       "      <th>2020-09-01</th>\n",
       "      <td>-0.100908</td>\n",
       "      <td>-0.055763</td>\n",
       "      <td>-0.139087</td>\n",
       "    </tr>\n",
       "    <tr>\n",
       "      <th>2020-10-01</th>\n",
       "      <td>-0.060012</td>\n",
       "      <td>-0.048577</td>\n",
       "      <td>-0.095499</td>\n",
       "    </tr>\n",
       "    <tr>\n",
       "      <th>2020-11-01</th>\n",
       "      <td>0.093606</td>\n",
       "      <td>0.031446</td>\n",
       "      <td>0.462736</td>\n",
       "    </tr>\n",
       "    <tr>\n",
       "      <th>2020-12-01</th>\n",
       "      <td>0.116497</td>\n",
       "      <td>0.101956</td>\n",
       "      <td>0.243252</td>\n",
       "    </tr>\n",
       "  </tbody>\n",
       "</table>\n",
       "<p>120 rows × 3 columns</p>\n",
       "</div>"
      ],
      "text/plain": [
       "                AAPL      NFLX      TSLA\n",
       "Date                                    \n",
       "2011-01-01       NaN       NaN       NaN\n",
       "2011-02-01  0.040935 -0.034613 -0.008714\n",
       "2011-03-01 -0.013306  0.150530  0.161574\n",
       "2011-04-01  0.004648 -0.021490 -0.005405\n",
       "2011-05-01 -0.006569  0.163880  0.092029\n",
       "...              ...       ...       ...\n",
       "2020-08-01  0.214380  0.083211  0.741452\n",
       "2020-09-01 -0.100908 -0.055763 -0.139087\n",
       "2020-10-01 -0.060012 -0.048577 -0.095499\n",
       "2020-11-01  0.093606  0.031446  0.462736\n",
       "2020-12-01  0.116497  0.101956  0.243252\n",
       "\n",
       "[120 rows x 3 columns]"
      ]
     },
     "execution_count": 3,
     "metadata": {},
     "output_type": "execute_result"
    }
   ],
   "source": [
    "ret = raw['Adj Close'].dropna().pct_change()\n",
    "ret"
   ]
  },
  {
   "cell_type": "markdown",
   "id": "932547ab",
   "metadata": {},
   "source": [
    "Plot the returns of each individual firm, as a separate subplot of a single figure. Make the size of the figure 8 (width) by 6 (hight), and call the title of the figure \"Firm Returns\"."
   ]
  },
  {
   "cell_type": "code",
   "execution_count": 4,
   "id": "0fd26464",
   "metadata": {},
   "outputs": [
    {
     "data": {
      "image/png": "[encoded data removed]",
      "text/plain": [
       "<Figure size 576x432 with 3 Axes>"
      ]
     },
     "metadata": {
      "needs_background": "light"
     },
     "output_type": "display_data"
    }
   ],
   "source": [
    "ret.plot(subplots = True, figsize = (8,6), title = \"Firm Returns\");"
   ]
  },
  {
   "cell_type": "markdown",
   "id": "63290ddb",
   "metadata": {},
   "source": [
    "Print out a table that contains just the mean and standard deviation of returns for each of the 3 firms."
   ]
  },
  {
   "cell_type": "code",
   "execution_count": 5,
   "id": "3701f3fa",
   "metadata": {},
   "outputs": [
    {
     "data": {
      "text/html": [
       "<div>\n",
       "<style scoped>\n",
       "    .dataframe tbody tr th:only-of-type {\n",
       "        vertical-align: middle;\n",
       "    }\n",
       "\n",
       "    .dataframe tbody tr th {\n",
       "        vertical-align: top;\n",
       "    }\n",
       "\n",
       "    .dataframe thead th {\n",
       "        text-align: right;\n",
       "    }\n",
       "</style>\n",
       "<table border=\"1\" class=\"dataframe\">\n",
       "  <thead>\n",
       "    <tr style=\"text-align: right;\">\n",
       "      <th></th>\n",
       "      <th>AAPL</th>\n",
       "      <th>NFLX</th>\n",
       "      <th>TSLA</th>\n",
       "    </tr>\n",
       "  </thead>\n",
       "  <tbody>\n",
       "    <tr>\n",
       "      <th>mean</th>\n",
       "      <td>0.024664</td>\n",
       "      <td>0.037195</td>\n",
       "      <td>0.056422</td>\n",
       "    </tr>\n",
       "    <tr>\n",
       "      <th>std</th>\n",
       "      <td>0.079289</td>\n",
       "      <td>0.166394</td>\n",
       "      <td>0.179973</td>\n",
       "    </tr>\n",
       "  </tbody>\n",
       "</table>\n",
       "</div>"
      ],
      "text/plain": [
       "          AAPL      NFLX      TSLA\n",
       "mean  0.024664  0.037195  0.056422\n",
       "std   0.079289  0.166394  0.179973"
      ]
     },
     "execution_count": 5,
     "metadata": {},
     "output_type": "execute_result"
    }
   ],
   "source": [
    "ret.agg(['mean','std'])"
   ]
  },
  {
   "cell_type": "markdown",
   "id": "8f3cdd76",
   "metadata": {},
   "source": [
    "Print out the covariance matrix for the returns of the 3 firms."
   ]
  },
  {
   "cell_type": "code",
   "execution_count": 6,
   "id": "56d1925c",
   "metadata": {},
   "outputs": [
    {
     "data": {
      "text/html": [
       "<div>\n",
       "<style scoped>\n",
       "    .dataframe tbody tr th:only-of-type {\n",
       "        vertical-align: middle;\n",
       "    }\n",
       "\n",
       "    .dataframe tbody tr th {\n",
       "        vertical-align: top;\n",
       "    }\n",
       "\n",
       "    .dataframe thead th {\n",
       "        text-align: right;\n",
       "    }\n",
       "</style>\n",
       "<table border=\"1\" class=\"dataframe\">\n",
       "  <thead>\n",
       "    <tr style=\"text-align: right;\">\n",
       "      <th></th>\n",
       "      <th>AAPL</th>\n",
       "      <th>NFLX</th>\n",
       "      <th>TSLA</th>\n",
       "    </tr>\n",
       "  </thead>\n",
       "  <tbody>\n",
       "    <tr>\n",
       "      <th>AAPL</th>\n",
       "      <td>0.006287</td>\n",
       "      <td>0.001299</td>\n",
       "      <td>0.004503</td>\n",
       "    </tr>\n",
       "    <tr>\n",
       "      <th>NFLX</th>\n",
       "      <td>0.001299</td>\n",
       "      <td>0.027687</td>\n",
       "      <td>0.005109</td>\n",
       "    </tr>\n",
       "    <tr>\n",
       "      <th>TSLA</th>\n",
       "      <td>0.004503</td>\n",
       "      <td>0.005109</td>\n",
       "      <td>0.032390</td>\n",
       "    </tr>\n",
       "  </tbody>\n",
       "</table>\n",
       "</div>"
      ],
      "text/plain": [
       "          AAPL      NFLX      TSLA\n",
       "AAPL  0.006287  0.001299  0.004503\n",
       "NFLX  0.001299  0.027687  0.005109\n",
       "TSLA  0.004503  0.005109  0.032390"
      ]
     },
     "execution_count": 6,
     "metadata": {},
     "output_type": "execute_result"
    }
   ],
   "source": [
    "ret.cov()"
   ]
  },
  {
   "cell_type": "markdown",
   "id": "d749d0a9",
   "metadata": {},
   "source": [
    "Print out the covariance between the returns of TSLA and AAPL. This should be just a number, not the whole covariance matrix."
   ]
  },
  {
   "cell_type": "code",
   "execution_count": 7,
   "id": "3ad9839f",
   "metadata": {},
   "outputs": [
    {
     "data": {
      "text/plain": [
       "0.004503288972464952"
      ]
     },
     "execution_count": 7,
     "metadata": {},
     "output_type": "execute_result"
    }
   ],
   "source": [
    "covmat = ret[['TSLA','AAPL']].cov()\n",
    "covmat.loc['AAPL','TSLA']"
   ]
  },
  {
   "cell_type": "markdown",
   "id": "bf7c66d3",
   "metadata": {},
   "source": [
    "Print the 12-month autocorrelation in TSLA returns."
   ]
  },
  {
   "cell_type": "code",
   "execution_count": 8,
   "id": "3a84b8c9",
   "metadata": {},
   "outputs": [
    {
     "data": {
      "text/plain": [
       "-0.10391232198236135"
      ]
     },
     "execution_count": 8,
     "metadata": {},
     "output_type": "execute_result"
    }
   ],
   "source": [
    "ret['TSLA'].autocorr(12)"
   ]
  },
  {
   "cell_type": "markdown",
   "id": "204feb62",
   "metadata": {},
   "source": [
    "Print the 12-month autocorrelation in NFLX returns. Note the difference in signs between TSLA and NFLX. Think about what that tells us about using past performance to forecast future performance for the two stocks."
   ]
  },
  {
   "cell_type": "code",
   "execution_count": 9,
   "id": "112f75ba",
   "metadata": {},
   "outputs": [
    {
     "data": {
      "text/plain": [
       "0.15811392475155542"
      ]
     },
     "execution_count": 9,
     "metadata": {},
     "output_type": "execute_result"
    }
   ],
   "source": [
    "ret['NFLX'].autocorr(12)"
   ]
  },
  {
   "cell_type": "markdown",
   "id": "b9b89558",
   "metadata": {},
   "source": [
    "Plot the moving standard deviation in returns for all 3 firms in the same plot (no subplots). Use a fixed 36-month window."
   ]
  },
  {
   "cell_type": "code",
   "execution_count": 10,
   "id": "d56ceaa7",
   "metadata": {},
   "outputs": [
    {
     "data": {
      "image/png": "[encoded data removed]",
      "text/plain": [
       "<Figure size 432x288 with 1 Axes>"
      ]
     },
     "metadata": {
      "needs_background": "light"
     },
     "output_type": "display_data"
    }
   ],
   "source": [
    "ret.rolling(36).std().plot();"
   ]
  }
 ],
 "metadata": {
  "kernelspec": {
   "display_name": "Python 3",
   "language": "python",
   "name": "python3"
  },
  "language_info": {
   "codemirror_mode": {
    "name": "ipython",
    "version": 3
   },
   "file_extension": ".py",
   "mimetype": "text/x-python",
   "name": "python",
   "nbconvert_exporter": "python",
   "pygments_lexer": "ipython3",
   "version": "3.9.7"
  }
 },
 "nbformat": 4,
 "nbformat_minor": 5
}
