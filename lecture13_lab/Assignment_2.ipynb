{
 "cells": [
  {
   "cell_type": "markdown",
   "id": "2879cec8",
   "metadata": {},
   "source": [
    "Run the cell below:"
   ]
  },
  {
   "cell_type": "code",
   "execution_count": null,
   "id": "d2fd1cd0",
   "metadata": {},
   "outputs": [],
   "source": [
    "import pandas as pd\n",
    "import numpy as np\n",
    "import pandas_datareader as pdr\n",
    "import yfinance as yf"
   ]
  },
  {
   "cell_type": "markdown",
   "id": "64d31537",
   "metadata": {},
   "source": [
    "# Problem 1 (25 points)\n",
    "\n",
    "1. Use the ``yfinance`` package to download **monthly** stock prices for Tesla and Apple (tickers TSLA and AAPL) for all months in 2020. Store these in a dataframe called ``prices_raw`` and print the first two rows of this dataframe. \n",
    "2. Create a dataframe called ``prices`` which contains only the non-missing adjusted close prices from ``prices_raw`` (this new dataframe should have only two columns, with no ``NaN`` values). Print the first two rows of the ``prices`` dataframe. \n",
    "3. Then create a dataframe called ``returns`` which contains the percentage changes in the ``prices`` data from one month to the next (i.e. these will be the monthly returns for TSLA and AAPL). Print the first 2 rows in the ``returns`` dataframe.\n",
    "4. Use the ``.describe()`` function to summarize the ``returns`` data.\n",
    "5. Merge the ``returns`` data with the ``prices`` data (using an inner join on date) and print this new, merged, dataframe out."
   ]
  },
  {
   "cell_type": "code",
   "execution_count": null,
   "id": "9e2f9bd1",
   "metadata": {},
   "outputs": [],
   "source": [
    "# 1"
   ]
  },
  {
   "cell_type": "code",
   "execution_count": null,
   "id": "9325aeee",
   "metadata": {},
   "outputs": [],
   "source": [
    "# 2"
   ]
  },
  {
   "cell_type": "code",
   "execution_count": null,
   "id": "6ba5537f",
   "metadata": {},
   "outputs": [],
   "source": [
    "# 3"
   ]
  },
  {
   "cell_type": "code",
   "execution_count": null,
   "id": "fb6bf7e2",
   "metadata": {},
   "outputs": [],
   "source": [
    "# 4"
   ]
  },
  {
   "cell_type": "code",
   "execution_count": null,
   "id": "391bf479",
   "metadata": {},
   "outputs": [],
   "source": [
    "# 5"
   ]
  },
  {
   "cell_type": "markdown",
   "id": "8a04af49",
   "metadata": {},
   "source": [
    "# Problem 2 (25 points)\n",
    "\n",
    "1. Use the ``pandas_datareader`` package do download data on the CPI index (name='CPIAUCSL') from the St. Louis FRED, for all months in 2020. Store this data in a dataframe called ``cpi`` and print the first two rows of this dataframe.\n",
    "2. Merge this ``cpi`` dataframe with the TSLA and AAPL prices you downloaded above (the ``prices`` dataframe from Problem 1) using an inner join on date. Call this merged dataframe ``prices_wcpi`` and print its first two rows.\n",
    "3. Inside the ``prices_wcpi`` dataframe, create two new columns called ``real_AAPL`` and ``real_TSLA`` which contain the TSLA and AAPL prices (respectively) multiplied by 100 and divided by the CPI index. Print the first two rows of this new version of the ``prices_wcpi`` dataframe.\n",
    "4. Create a new dataframe called ``real_returns`` which contains the monthly percentage changes in ``real_AAPL`` and ``real_TSLA``. Print the first two rows of the ``real_returns`` dataframe. \n",
    "5. Use the ``.describe()`` function to summarize the data in the ``real_returns`` dataframe."
   ]
  },
  {
   "cell_type": "code",
   "execution_count": null,
   "id": "1bc3c1c5",
   "metadata": {},
   "outputs": [],
   "source": [
    "# 1"
   ]
  },
  {
   "cell_type": "code",
   "execution_count": null,
   "id": "c317147b",
   "metadata": {},
   "outputs": [],
   "source": [
    "# 2"
   ]
  },
  {
   "cell_type": "code",
   "execution_count": null,
   "id": "a3b412b0",
   "metadata": {},
   "outputs": [],
   "source": [
    "# 3"
   ]
  },
  {
   "cell_type": "code",
   "execution_count": null,
   "id": "fdde6c89",
   "metadata": {},
   "outputs": [],
   "source": [
    "# 4"
   ]
  },
  {
   "cell_type": "code",
   "execution_count": null,
   "id": "1a12a624",
   "metadata": {},
   "outputs": [],
   "source": [
    "# 5"
   ]
  },
  {
   "cell_type": "markdown",
   "id": "6f36fd6d",
   "metadata": {},
   "source": [
    "# Problem 3 (50 points)\n",
    "\n",
    "1. Load the Compustat data (the 'compa.zip' file from the 'data' folder on your computer) into a dataframe called ``rawcomp``. Print the first two rows of ``rawcomp``. \n",
    "2. Create a new dataframe called ``comp`` which contains only the following variables from ``rawcomp``: 'permno', 'datadate', 'tic' (ticker), 'at' (total assets), 'sale' (sales), 'fic' (country of incorporation), and 'sich' (historical industry code). Print the first two rows of ``comp``.\n",
    "3. Inside the ``comp`` dataframe, create a ``date`` column which equals the ``datadate`` dates converted to ``datetime`` format. Print the first two rows of ``comp``.\n",
    "4. Inside the ``comp`` dataframe, create a ``year`` column which equals the ``date`` dates coverted to ``period`` format, with annual frequency. Print the first two rows of ``comp``.\n",
    "5. Inside the ``comp`` dataframe, convert the ``fic`` and ``sich`` columns to ``string`` format, and the ``permno`` column to ``int64`` format. Print the first two rows of ``comp``.\n",
    "6. Print a list of all unique values found in the ``fic`` column, together with counts of how many times each of these values appears in ``fic``.\n",
    "7. Replace ``comp`` with a version of itself which contains only the rows where the contry of incorporation ('fic') is 'USA'. Print ``comp`` (this will actually print only the first and last 5 rows).\n",
    "8. Replace ``comp`` with a version of itself which contains only the rows where both total assets, and sales are strictly larger than 0. Print ``comp``.\n",
    "9. Replace ``comp`` with a version of itself which is sorted by ``permno`` and ``date``. Then, create a new column inside ``comp`` called ``lag_at`` which equals the firm's total assets from one period (row) prior. Use the ``.shift()`` method, with ``permno`` as the firm identifier. Print the first 5 rows of ``comp``.\n",
    "10. Print all the data in ``comp`` for the ``permno`` with value 93436."
   ]
  },
  {
   "cell_type": "code",
   "execution_count": null,
   "id": "0ebbe956",
   "metadata": {},
   "outputs": [],
   "source": [
    "# 1"
   ]
  },
  {
   "cell_type": "code",
   "execution_count": null,
   "id": "3cb29e25",
   "metadata": {},
   "outputs": [],
   "source": [
    "# 2"
   ]
  },
  {
   "cell_type": "code",
   "execution_count": null,
   "id": "d3fcf42e",
   "metadata": {},
   "outputs": [],
   "source": [
    "# 3"
   ]
  },
  {
   "cell_type": "code",
   "execution_count": null,
   "id": "66475ebf",
   "metadata": {},
   "outputs": [],
   "source": [
    "# 4"
   ]
  },
  {
   "cell_type": "code",
   "execution_count": null,
   "id": "6bfa4c75",
   "metadata": {},
   "outputs": [],
   "source": [
    "# 5"
   ]
  },
  {
   "cell_type": "code",
   "execution_count": null,
   "id": "d987be32",
   "metadata": {},
   "outputs": [],
   "source": [
    "# 6"
   ]
  },
  {
   "cell_type": "code",
   "execution_count": null,
   "id": "6d1e09e1",
   "metadata": {},
   "outputs": [],
   "source": [
    "# 7"
   ]
  },
  {
   "cell_type": "code",
   "execution_count": null,
   "id": "093dc6ce",
   "metadata": {},
   "outputs": [],
   "source": [
    "# 8"
   ]
  },
  {
   "cell_type": "code",
   "execution_count": null,
   "id": "eace0d81",
   "metadata": {},
   "outputs": [],
   "source": [
    "# 9"
   ]
  },
  {
   "cell_type": "code",
   "execution_count": null,
   "id": "f174b665",
   "metadata": {},
   "outputs": [],
   "source": [
    "# 10"
   ]
  }
 ],
 "metadata": {
  "kernelspec": {
   "display_name": "Python 3 (ipykernel)",
   "language": "python",
   "name": "python3"
  },
  "language_info": {
   "codemirror_mode": {
    "name": "ipython",
    "version": 3
   },
   "file_extension": ".py",
   "mimetype": "text/x-python",
   "name": "python",
   "nbconvert_exporter": "python",
   "pygments_lexer": "ipython3",
   "version": "3.8.5"
  },
  "toc": {
   "base_numbering": 1,
   "nav_menu": {},
   "number_sections": true,
   "sideBar": true,
   "skip_h1_title": true,
   "title_cell": "Table of Contents",
   "title_sidebar": "Contents",
   "toc_cell": false,
   "toc_position": {},
   "toc_section_display": true,
   "toc_window_display": false
  }
 },
 "nbformat": 4,
 "nbformat_minor": 5
}
