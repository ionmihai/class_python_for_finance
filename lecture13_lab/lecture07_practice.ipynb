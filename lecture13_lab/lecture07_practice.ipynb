{
 "cells": [
  {
   "cell_type": "markdown",
   "id": "bf44f5ef",
   "metadata": {},
   "source": [
    "Run the cell below:"
   ]
  },
  {
   "cell_type": "code",
   "execution_count": null,
   "id": "1b926ccb",
   "metadata": {},
   "outputs": [],
   "source": [
    "import pandas as pd\n",
    "\n",
    "d = {'firmid':[10,11,12], 'tic':['A','B','C'], 'age':[5,3,4]}"
   ]
  },
  {
   "cell_type": "markdown",
   "id": "f903531c",
   "metadata": {},
   "source": [
    "Create a dataframe ``df`` from the dictionary above and print it out."
   ]
  },
  {
   "cell_type": "code",
   "execution_count": null,
   "id": "b53e5fdc",
   "metadata": {},
   "outputs": [],
   "source": []
  },
  {
   "cell_type": "markdown",
   "id": "d196385b",
   "metadata": {},
   "source": [
    "Change ``df`` so that the data in the ``tic`` column is used as the index to the dataframe. Print out ``df`` after you make this change."
   ]
  },
  {
   "cell_type": "code",
   "execution_count": null,
   "id": "d0975a64",
   "metadata": {},
   "outputs": [],
   "source": []
  },
  {
   "cell_type": "markdown",
   "id": "18329c64",
   "metadata": {},
   "source": [
    "Convert ``tic`` back into a column of ``df`` and print ``df`` after you make this change."
   ]
  },
  {
   "cell_type": "code",
   "execution_count": null,
   "id": "e08d6c5f",
   "metadata": {},
   "outputs": [],
   "source": []
  },
  {
   "cell_type": "markdown",
   "id": "d9152aae",
   "metadata": {},
   "source": [
    "In a single line of code, rename the ``tic`` column to ``ticker`` and the ``age`` column to ``firm_age``. Then print this new version of ``df``."
   ]
  },
  {
   "cell_type": "code",
   "execution_count": null,
   "id": "ee73f5b6",
   "metadata": {},
   "outputs": [],
   "source": []
  },
  {
   "cell_type": "markdown",
   "id": "07c128e0",
   "metadata": {},
   "source": [
    "Print out a dataframe that contains just just the ``ticker`` and ``firmid`` columns of ``df``."
   ]
  },
  {
   "cell_type": "code",
   "execution_count": null,
   "id": "e7a86bbe",
   "metadata": {},
   "outputs": [],
   "source": []
  },
  {
   "cell_type": "markdown",
   "id": "1f70414b",
   "metadata": {},
   "source": [
    "Print out the mean of the values in the ``firm_age`` column."
   ]
  },
  {
   "cell_type": "code",
   "execution_count": null,
   "id": "b5d4399c",
   "metadata": {},
   "outputs": [],
   "source": []
  },
  {
   "cell_type": "markdown",
   "id": "54bc52a2",
   "metadata": {},
   "source": [
    "Print out the cumulative sums of the values in the ``firm_age`` column."
   ]
  },
  {
   "cell_type": "code",
   "execution_count": null,
   "id": "9e00c048",
   "metadata": {},
   "outputs": [],
   "source": []
  },
  {
   "cell_type": "markdown",
   "id": "85927dd1",
   "metadata": {},
   "source": [
    "Print out the cumulative products of the values in the ``firm_age`` column."
   ]
  },
  {
   "cell_type": "code",
   "execution_count": null,
   "id": "c883d255",
   "metadata": {},
   "outputs": [],
   "source": []
  }
 ],
 "metadata": {
  "kernelspec": {
   "display_name": "Python 3 (ipykernel)",
   "language": "python",
   "name": "python3"
  },
  "language_info": {
   "codemirror_mode": {
    "name": "ipython",
    "version": 3
   },
   "file_extension": ".py",
   "mimetype": "text/x-python",
   "name": "python",
   "nbconvert_exporter": "python",
   "pygments_lexer": "ipython3",
   "version": "3.8.5"
  },
  "toc": {
   "base_numbering": 1,
   "nav_menu": {},
   "number_sections": true,
   "sideBar": true,
   "skip_h1_title": false,
   "title_cell": "Table of Contents",
   "title_sidebar": "Contents",
   "toc_cell": false,
   "toc_position": {},
   "toc_section_display": true,
   "toc_window_display": false
  }
 },
 "nbformat": 4,
 "nbformat_minor": 5
}
