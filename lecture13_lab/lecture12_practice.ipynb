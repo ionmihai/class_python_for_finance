{
 "cells": [
  {
   "cell_type": "markdown",
   "id": "b554ecc1",
   "metadata": {},
   "source": [
    "Run the cell below:"
   ]
  },
  {
   "cell_type": "code",
   "execution_count": null,
   "id": "c273f254",
   "metadata": {},
   "outputs": [],
   "source": [
    "import pandas as pd"
   ]
  },
  {
   "cell_type": "markdown",
   "id": "b4f3ce1c",
   "metadata": {},
   "source": [
    "If you have not done so already, download the \"compa.zip\", \"crspm.zip\" and \"ff.zip\" files from the \"Lectures and Data / data\" tab in D2L into a \"data\" folder on your computer (located outside the folder containing this file, as explained in ``lecture00``)."
   ]
  },
  {
   "cell_type": "markdown",
   "id": "87b2cb31",
   "metadata": {},
   "source": [
    "Load the CRSP monthly market data (\"crspm.zip\") into a new dataframe called ``crsp``. Print all the data types in ``crsp``."
   ]
  },
  {
   "cell_type": "code",
   "execution_count": null,
   "id": "b0c15e9c",
   "metadata": {},
   "outputs": [],
   "source": []
  },
  {
   "cell_type": "markdown",
   "id": "95e7d2c7",
   "metadata": {},
   "source": [
    "Convert the ``date`` column to ``datetime`` type. Print all the data types again."
   ]
  },
  {
   "cell_type": "code",
   "execution_count": null,
   "id": "9e4a9485",
   "metadata": {},
   "outputs": [],
   "source": []
  },
  {
   "cell_type": "markdown",
   "id": "3b837e1b",
   "metadata": {},
   "source": [
    "Create a new column called ``mdate`` which contains a version of ``date`` converted to ``period`` type, with monthly frequency."
   ]
  },
  {
   "cell_type": "code",
   "execution_count": null,
   "id": "f5a60c97",
   "metadata": {},
   "outputs": [],
   "source": []
  },
  {
   "cell_type": "markdown",
   "id": "01c62108",
   "metadata": {},
   "source": [
    "Create a new column called ``date_6M_ago`` which equals the date 6 months prior to the date recorded in ``mdate``."
   ]
  },
  {
   "cell_type": "code",
   "execution_count": null,
   "id": "0a4624a7",
   "metadata": {},
   "outputs": [],
   "source": []
  },
  {
   "cell_type": "markdown",
   "id": "2b02daf2",
   "metadata": {},
   "source": [
    "Replace ``crsp`` with a version of itself sorted by the values of ``permno`` and ``date``. "
   ]
  },
  {
   "cell_type": "code",
   "execution_count": null,
   "id": "d7f0e868",
   "metadata": {},
   "outputs": [],
   "source": []
  },
  {
   "cell_type": "markdown",
   "id": "adfdd307",
   "metadata": {},
   "source": [
    "Create a new column called ``lag6_ret`` which equals the firm's return from 6 periods (rows) prior. Use the ``.shift()`` method, with ``permno`` as the firm identifier. Then print the first 8 rows of ``crsp``."
   ]
  },
  {
   "cell_type": "code",
   "execution_count": null,
   "id": "e16b9ddf",
   "metadata": {},
   "outputs": [],
   "source": []
  }
 ],
 "metadata": {
  "kernelspec": {
   "display_name": "Python 3 (ipykernel)",
   "language": "python",
   "name": "python3"
  },
  "language_info": {
   "codemirror_mode": {
    "name": "ipython",
    "version": 3
   },
   "file_extension": ".py",
   "mimetype": "text/x-python",
   "name": "python",
   "nbconvert_exporter": "python",
   "pygments_lexer": "ipython3",
   "version": "3.8.5"
  },
  "toc": {
   "base_numbering": 1,
   "nav_menu": {},
   "number_sections": true,
   "sideBar": true,
   "skip_h1_title": false,
   "title_cell": "Table of Contents",
   "title_sidebar": "Contents",
   "toc_cell": false,
   "toc_position": {},
   "toc_section_display": true,
   "toc_window_display": false
  }
 },
 "nbformat": 4,
 "nbformat_minor": 5
}
