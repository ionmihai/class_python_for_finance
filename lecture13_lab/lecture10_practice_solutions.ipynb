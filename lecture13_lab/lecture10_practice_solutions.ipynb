{
 "cells": [
  {
   "cell_type": "markdown",
   "id": "b554ecc1",
   "metadata": {},
   "source": [
    "Run the cell below:"
   ]
  },
  {
   "cell_type": "code",
   "execution_count": 1,
   "id": "c273f254",
   "metadata": {},
   "outputs": [],
   "source": [
    "import pandas as pd"
   ]
  },
  {
   "cell_type": "markdown",
   "id": "b4f3ce1c",
   "metadata": {},
   "source": [
    "If you have not done so already, download the \"compa.zip\", \"crspm.zip\" and \"ff.zip\" files from the \"Lectures and Data / data\" tab in D2L into a \"data\" folder on your computer (located outside the folder containing this file, as explained in ``lecture00``)."
   ]
  },
  {
   "cell_type": "markdown",
   "id": "87b2cb31",
   "metadata": {},
   "source": [
    "Load the CRSP monthly market data (\"crspm.zip\") into a new dataframe called ``crsp``."
   ]
  },
  {
   "cell_type": "code",
   "execution_count": 2,
   "id": "e840efbe",
   "metadata": {},
   "outputs": [],
   "source": [
    "crsp = pd.read_pickle('../data/crspm.zip')"
   ]
  },
  {
   "cell_type": "markdown",
   "id": "814222b9",
   "metadata": {},
   "source": [
    "Print out the number of rows and the number of columns of ``crsp``."
   ]
  },
  {
   "cell_type": "code",
   "execution_count": 3,
   "id": "7ab3ddd9",
   "metadata": {},
   "outputs": [
    {
     "data": {
      "text/plain": [
       "(2553287, 10)"
      ]
     },
     "execution_count": 3,
     "metadata": {},
     "output_type": "execute_result"
    }
   ],
   "source": [
    "crsp.shape"
   ]
  },
  {
   "cell_type": "markdown",
   "id": "5d5605ed",
   "metadata": {},
   "source": [
    "Print out the data types of all columns in ``crsp``."
   ]
  },
  {
   "cell_type": "code",
   "execution_count": 4,
   "id": "7ff20619",
   "metadata": {},
   "outputs": [
    {
     "data": {
      "text/plain": [
       "permno    float64\n",
       "permco    float64\n",
       "date       object\n",
       "prc       float64\n",
       "ret       float64\n",
       "shrout    float64\n",
       "shrcd     float64\n",
       "exchcd    float64\n",
       "siccd     float64\n",
       "ticker     object\n",
       "dtype: object"
      ]
     },
     "execution_count": 4,
     "metadata": {},
     "output_type": "execute_result"
    }
   ],
   "source": [
    "crsp.dtypes"
   ]
  },
  {
   "cell_type": "markdown",
   "id": "8589fad5",
   "metadata": {},
   "source": [
    "Replace the column names in ``crsp`` with a version of themselves that is all lower case and stripped of any leading and trailing white spaces. Then print these new column names out."
   ]
  },
  {
   "cell_type": "code",
   "execution_count": 5,
   "id": "89e5d5c8",
   "metadata": {},
   "outputs": [
    {
     "data": {
      "text/plain": [
       "Index(['permno', 'permco', 'date', 'prc', 'ret', 'shrout', 'shrcd', 'exchcd',\n",
       "       'siccd', 'ticker'],\n",
       "      dtype='object')"
      ]
     },
     "execution_count": 5,
     "metadata": {},
     "output_type": "execute_result"
    }
   ],
   "source": [
    "crsp.columns = crsp.columns.str.lower().str.strip()\n",
    "crsp.columns"
   ]
  },
  {
   "cell_type": "markdown",
   "id": "e76af61c",
   "metadata": {},
   "source": [
    "Convert the following columns to integer (``int64``) type: 'permno','permco','shrcd','exchcd', 'siccd'. Then print all data types again to verify that this was done correctly."
   ]
  },
  {
   "cell_type": "code",
   "execution_count": 6,
   "id": "15ca3a54",
   "metadata": {},
   "outputs": [
    {
     "data": {
      "text/plain": [
       "permno      int64\n",
       "permco      int64\n",
       "date       object\n",
       "prc       float64\n",
       "ret       float64\n",
       "shrout    float64\n",
       "shrcd       int64\n",
       "exchcd      int64\n",
       "siccd       int64\n",
       "ticker     object\n",
       "dtype: object"
      ]
     },
     "execution_count": 6,
     "metadata": {},
     "output_type": "execute_result"
    }
   ],
   "source": [
    "to_convert = ['permno','permco','shrcd','exchcd', 'siccd']\n",
    "crsp[to_convert] = crsp[to_convert].astype('int64')\n",
    "crsp.dtypes"
   ]
  },
  {
   "cell_type": "markdown",
   "id": "9b776053",
   "metadata": {},
   "source": [
    "Convert ``siccd`` and ``ticker`` to ``string`` type. Then print all data types again to verify that this was done correctly."
   ]
  },
  {
   "cell_type": "code",
   "execution_count": 7,
   "id": "00fc7ed0",
   "metadata": {},
   "outputs": [
    {
     "data": {
      "text/plain": [
       "permno      int64\n",
       "permco      int64\n",
       "date       object\n",
       "prc       float64\n",
       "ret       float64\n",
       "shrout    float64\n",
       "shrcd       int64\n",
       "exchcd      int64\n",
       "siccd      string\n",
       "ticker     string\n",
       "dtype: object"
      ]
     },
     "execution_count": 7,
     "metadata": {},
     "output_type": "execute_result"
    }
   ],
   "source": [
    "crsp[['siccd','ticker']] = crsp[['siccd','ticker']].astype('string')\n",
    "crsp.dtypes"
   ]
  },
  {
   "cell_type": "markdown",
   "id": "739b0125",
   "metadata": {},
   "source": [
    "Replace ``crsp`` with a version of itself that does not have any duplicates with respect to ``permno`` and ``date`` (i.e. no two rows with the same ``permno`` and the same ``date``). Then print the number of rows and columns again to see if any rows were dropped."
   ]
  },
  {
   "cell_type": "code",
   "execution_count": 8,
   "id": "b850d98a",
   "metadata": {},
   "outputs": [
    {
     "data": {
      "text/plain": [
       "(2553287, 10)"
      ]
     },
     "execution_count": 8,
     "metadata": {},
     "output_type": "execute_result"
    }
   ],
   "source": [
    "crsp = crsp.drop_duplicates(['permno','date'], keep='last')\n",
    "crsp.shape"
   ]
  },
  {
   "cell_type": "markdown",
   "id": "90e9a5fd",
   "metadata": {},
   "source": [
    "Replace ``crsp`` with a version of itself that does not have any missing values for ``ret``. Then print the number of rows and columns again to see if any rows were dropped."
   ]
  },
  {
   "cell_type": "code",
   "execution_count": 9,
   "id": "4a093ee7",
   "metadata": {},
   "outputs": [
    {
     "data": {
      "text/plain": [
       "(2530665, 10)"
      ]
     },
     "execution_count": 9,
     "metadata": {},
     "output_type": "execute_result"
    }
   ],
   "source": [
    "crsp = crsp.loc[crsp['ret'].notnull(), :]\n",
    "crsp.shape"
   ]
  },
  {
   "cell_type": "markdown",
   "id": "bc354bce",
   "metadata": {},
   "source": [
    "Create a new column called ``sic1d`` which contains only the first digit in ``siccd``. Then print the first 5 rows of ``crsp``."
   ]
  },
  {
   "cell_type": "code",
   "execution_count": 10,
   "id": "b79fb305",
   "metadata": {},
   "outputs": [
    {
     "data": {
      "text/html": [
       "<div>\n",
       "<style scoped>\n",
       "    .dataframe tbody tr th:only-of-type {\n",
       "        vertical-align: middle;\n",
       "    }\n",
       "\n",
       "    .dataframe tbody tr th {\n",
       "        vertical-align: top;\n",
       "    }\n",
       "\n",
       "    .dataframe thead th {\n",
       "        text-align: right;\n",
       "    }\n",
       "</style>\n",
       "<table border=\"1\" class=\"dataframe\">\n",
       "  <thead>\n",
       "    <tr style=\"text-align: right;\">\n",
       "      <th></th>\n",
       "      <th>permno</th>\n",
       "      <th>permco</th>\n",
       "      <th>date</th>\n",
       "      <th>prc</th>\n",
       "      <th>ret</th>\n",
       "      <th>shrout</th>\n",
       "      <th>shrcd</th>\n",
       "      <th>exchcd</th>\n",
       "      <th>siccd</th>\n",
       "      <th>ticker</th>\n",
       "      <th>sic1d</th>\n",
       "    </tr>\n",
       "  </thead>\n",
       "  <tbody>\n",
       "    <tr>\n",
       "      <th>1</th>\n",
       "      <td>10000</td>\n",
       "      <td>7952</td>\n",
       "      <td>1986-02-28</td>\n",
       "      <td>-3.250000</td>\n",
       "      <td>-0.257143</td>\n",
       "      <td>3680.0</td>\n",
       "      <td>10</td>\n",
       "      <td>3</td>\n",
       "      <td>3990</td>\n",
       "      <td>OMFGA</td>\n",
       "      <td>3</td>\n",
       "    </tr>\n",
       "    <tr>\n",
       "      <th>2</th>\n",
       "      <td>10000</td>\n",
       "      <td>7952</td>\n",
       "      <td>1986-03-31</td>\n",
       "      <td>-4.437500</td>\n",
       "      <td>0.365385</td>\n",
       "      <td>3680.0</td>\n",
       "      <td>10</td>\n",
       "      <td>3</td>\n",
       "      <td>3990</td>\n",
       "      <td>OMFGA</td>\n",
       "      <td>3</td>\n",
       "    </tr>\n",
       "    <tr>\n",
       "      <th>3</th>\n",
       "      <td>10000</td>\n",
       "      <td>7952</td>\n",
       "      <td>1986-04-30</td>\n",
       "      <td>-4.000000</td>\n",
       "      <td>-0.098592</td>\n",
       "      <td>3793.0</td>\n",
       "      <td>10</td>\n",
       "      <td>3</td>\n",
       "      <td>3990</td>\n",
       "      <td>OMFGA</td>\n",
       "      <td>3</td>\n",
       "    </tr>\n",
       "    <tr>\n",
       "      <th>4</th>\n",
       "      <td>10000</td>\n",
       "      <td>7952</td>\n",
       "      <td>1986-05-30</td>\n",
       "      <td>-3.109375</td>\n",
       "      <td>-0.222656</td>\n",
       "      <td>3793.0</td>\n",
       "      <td>10</td>\n",
       "      <td>3</td>\n",
       "      <td>3990</td>\n",
       "      <td>OMFGA</td>\n",
       "      <td>3</td>\n",
       "    </tr>\n",
       "    <tr>\n",
       "      <th>5</th>\n",
       "      <td>10000</td>\n",
       "      <td>7952</td>\n",
       "      <td>1986-06-30</td>\n",
       "      <td>-3.093750</td>\n",
       "      <td>-0.005025</td>\n",
       "      <td>3793.0</td>\n",
       "      <td>10</td>\n",
       "      <td>3</td>\n",
       "      <td>3990</td>\n",
       "      <td>OMFGA</td>\n",
       "      <td>3</td>\n",
       "    </tr>\n",
       "  </tbody>\n",
       "</table>\n",
       "</div>"
      ],
      "text/plain": [
       "   permno  permco        date       prc       ret  shrout  shrcd  exchcd  \\\n",
       "1   10000    7952  1986-02-28 -3.250000 -0.257143  3680.0     10       3   \n",
       "2   10000    7952  1986-03-31 -4.437500  0.365385  3680.0     10       3   \n",
       "3   10000    7952  1986-04-30 -4.000000 -0.098592  3793.0     10       3   \n",
       "4   10000    7952  1986-05-30 -3.109375 -0.222656  3793.0     10       3   \n",
       "5   10000    7952  1986-06-30 -3.093750 -0.005025  3793.0     10       3   \n",
       "\n",
       "  siccd ticker sic1d  \n",
       "1  3990  OMFGA     3  \n",
       "2  3990  OMFGA     3  \n",
       "3  3990  OMFGA     3  \n",
       "4  3990  OMFGA     3  \n",
       "5  3990  OMFGA     3  "
      ]
     },
     "execution_count": 10,
     "metadata": {},
     "output_type": "execute_result"
    }
   ],
   "source": [
    "crsp['sic1d'] = crsp['siccd'].str[0]\n",
    "crsp.head()"
   ]
  },
  {
   "cell_type": "markdown",
   "id": "036504f2",
   "metadata": {},
   "source": [
    "Print out how many times each value of ``sic1d`` appears in ``crsp``."
   ]
  },
  {
   "cell_type": "code",
   "execution_count": 11,
   "id": "4b87148f",
   "metadata": {},
   "outputs": [
    {
     "data": {
      "text/plain": [
       "3    643974\n",
       "6    482560\n",
       "2    327363\n",
       "7    271156\n",
       "5    250972\n",
       "4    193575\n",
       "1    151512\n",
       "8    113159\n",
       "9     64948\n",
       "0     31446\n",
       "Name: sic1d, dtype: Int64"
      ]
     },
     "execution_count": 11,
     "metadata": {},
     "output_type": "execute_result"
    }
   ],
   "source": [
    "crsp['sic1d'].value_counts()"
   ]
  },
  {
   "cell_type": "markdown",
   "id": "29e02756",
   "metadata": {},
   "source": [
    "Create a new column called ``mktcap`` (market capitalization) which equals ``shrout`` (shares outstanding) times the absolute value of ``prc`` (use the ``.abs()`` Pandas attribute to calculate the absolute value). Then print the first 5 rows of ``crsp``."
   ]
  },
  {
   "cell_type": "code",
   "execution_count": 12,
   "id": "be6be169",
   "metadata": {},
   "outputs": [
    {
     "data": {
      "text/html": [
       "<div>\n",
       "<style scoped>\n",
       "    .dataframe tbody tr th:only-of-type {\n",
       "        vertical-align: middle;\n",
       "    }\n",
       "\n",
       "    .dataframe tbody tr th {\n",
       "        vertical-align: top;\n",
       "    }\n",
       "\n",
       "    .dataframe thead th {\n",
       "        text-align: right;\n",
       "    }\n",
       "</style>\n",
       "<table border=\"1\" class=\"dataframe\">\n",
       "  <thead>\n",
       "    <tr style=\"text-align: right;\">\n",
       "      <th></th>\n",
       "      <th>permno</th>\n",
       "      <th>permco</th>\n",
       "      <th>date</th>\n",
       "      <th>prc</th>\n",
       "      <th>ret</th>\n",
       "      <th>shrout</th>\n",
       "      <th>shrcd</th>\n",
       "      <th>exchcd</th>\n",
       "      <th>siccd</th>\n",
       "      <th>ticker</th>\n",
       "      <th>sic1d</th>\n",
       "      <th>mktcap</th>\n",
       "    </tr>\n",
       "  </thead>\n",
       "  <tbody>\n",
       "    <tr>\n",
       "      <th>1</th>\n",
       "      <td>10000</td>\n",
       "      <td>7952</td>\n",
       "      <td>1986-02-28</td>\n",
       "      <td>-3.250000</td>\n",
       "      <td>-0.257143</td>\n",
       "      <td>3680.0</td>\n",
       "      <td>10</td>\n",
       "      <td>3</td>\n",
       "      <td>3990</td>\n",
       "      <td>OMFGA</td>\n",
       "      <td>3</td>\n",
       "      <td>11960.000000</td>\n",
       "    </tr>\n",
       "    <tr>\n",
       "      <th>2</th>\n",
       "      <td>10000</td>\n",
       "      <td>7952</td>\n",
       "      <td>1986-03-31</td>\n",
       "      <td>-4.437500</td>\n",
       "      <td>0.365385</td>\n",
       "      <td>3680.0</td>\n",
       "      <td>10</td>\n",
       "      <td>3</td>\n",
       "      <td>3990</td>\n",
       "      <td>OMFGA</td>\n",
       "      <td>3</td>\n",
       "      <td>16330.000000</td>\n",
       "    </tr>\n",
       "    <tr>\n",
       "      <th>3</th>\n",
       "      <td>10000</td>\n",
       "      <td>7952</td>\n",
       "      <td>1986-04-30</td>\n",
       "      <td>-4.000000</td>\n",
       "      <td>-0.098592</td>\n",
       "      <td>3793.0</td>\n",
       "      <td>10</td>\n",
       "      <td>3</td>\n",
       "      <td>3990</td>\n",
       "      <td>OMFGA</td>\n",
       "      <td>3</td>\n",
       "      <td>15172.000000</td>\n",
       "    </tr>\n",
       "    <tr>\n",
       "      <th>4</th>\n",
       "      <td>10000</td>\n",
       "      <td>7952</td>\n",
       "      <td>1986-05-30</td>\n",
       "      <td>-3.109375</td>\n",
       "      <td>-0.222656</td>\n",
       "      <td>3793.0</td>\n",
       "      <td>10</td>\n",
       "      <td>3</td>\n",
       "      <td>3990</td>\n",
       "      <td>OMFGA</td>\n",
       "      <td>3</td>\n",
       "      <td>11793.859375</td>\n",
       "    </tr>\n",
       "    <tr>\n",
       "      <th>5</th>\n",
       "      <td>10000</td>\n",
       "      <td>7952</td>\n",
       "      <td>1986-06-30</td>\n",
       "      <td>-3.093750</td>\n",
       "      <td>-0.005025</td>\n",
       "      <td>3793.0</td>\n",
       "      <td>10</td>\n",
       "      <td>3</td>\n",
       "      <td>3990</td>\n",
       "      <td>OMFGA</td>\n",
       "      <td>3</td>\n",
       "      <td>11734.593750</td>\n",
       "    </tr>\n",
       "  </tbody>\n",
       "</table>\n",
       "</div>"
      ],
      "text/plain": [
       "   permno  permco        date       prc       ret  shrout  shrcd  exchcd  \\\n",
       "1   10000    7952  1986-02-28 -3.250000 -0.257143  3680.0     10       3   \n",
       "2   10000    7952  1986-03-31 -4.437500  0.365385  3680.0     10       3   \n",
       "3   10000    7952  1986-04-30 -4.000000 -0.098592  3793.0     10       3   \n",
       "4   10000    7952  1986-05-30 -3.109375 -0.222656  3793.0     10       3   \n",
       "5   10000    7952  1986-06-30 -3.093750 -0.005025  3793.0     10       3   \n",
       "\n",
       "  siccd ticker sic1d        mktcap  \n",
       "1  3990  OMFGA     3  11960.000000  \n",
       "2  3990  OMFGA     3  16330.000000  \n",
       "3  3990  OMFGA     3  15172.000000  \n",
       "4  3990  OMFGA     3  11793.859375  \n",
       "5  3990  OMFGA     3  11734.593750  "
      ]
     },
     "execution_count": 12,
     "metadata": {},
     "output_type": "execute_result"
    }
   ],
   "source": [
    "crsp['mktcap'] = crsp['prc'].abs() * crsp['shrout']\n",
    "crsp.head()"
   ]
  },
  {
   "cell_type": "markdown",
   "id": "d3660112",
   "metadata": {},
   "source": [
    "Use ``.describe()`` to summarize the ``ret`` and ``mktcap`` variables."
   ]
  },
  {
   "cell_type": "code",
   "execution_count": 13,
   "id": "8c04e604",
   "metadata": {},
   "outputs": [
    {
     "data": {
      "text/html": [
       "<div>\n",
       "<style scoped>\n",
       "    .dataframe tbody tr th:only-of-type {\n",
       "        vertical-align: middle;\n",
       "    }\n",
       "\n",
       "    .dataframe tbody tr th {\n",
       "        vertical-align: top;\n",
       "    }\n",
       "\n",
       "    .dataframe thead th {\n",
       "        text-align: right;\n",
       "    }\n",
       "</style>\n",
       "<table border=\"1\" class=\"dataframe\">\n",
       "  <thead>\n",
       "    <tr style=\"text-align: right;\">\n",
       "      <th></th>\n",
       "      <th>ret</th>\n",
       "      <th>mktcap</th>\n",
       "    </tr>\n",
       "  </thead>\n",
       "  <tbody>\n",
       "    <tr>\n",
       "      <th>count</th>\n",
       "      <td>2.530665e+06</td>\n",
       "      <td>2.530665e+06</td>\n",
       "    </tr>\n",
       "    <tr>\n",
       "      <th>mean</th>\n",
       "      <td>1.181741e-02</td>\n",
       "      <td>2.177878e+06</td>\n",
       "    </tr>\n",
       "    <tr>\n",
       "      <th>std</th>\n",
       "      <td>1.915711e-01</td>\n",
       "      <td>1.526564e+07</td>\n",
       "    </tr>\n",
       "    <tr>\n",
       "      <th>min</th>\n",
       "      <td>-9.936000e-01</td>\n",
       "      <td>0.000000e+00</td>\n",
       "    </tr>\n",
       "    <tr>\n",
       "      <th>25%</th>\n",
       "      <td>-6.868871e-02</td>\n",
       "      <td>2.598750e+04</td>\n",
       "    </tr>\n",
       "    <tr>\n",
       "      <th>50%</th>\n",
       "      <td>0.000000e+00</td>\n",
       "      <td>1.141700e+05</td>\n",
       "    </tr>\n",
       "    <tr>\n",
       "      <th>75%</th>\n",
       "      <td>7.326314e-02</td>\n",
       "      <td>6.237038e+05</td>\n",
       "    </tr>\n",
       "    <tr>\n",
       "      <th>max</th>\n",
       "      <td>2.400000e+01</td>\n",
       "      <td>2.255969e+09</td>\n",
       "    </tr>\n",
       "  </tbody>\n",
       "</table>\n",
       "</div>"
      ],
      "text/plain": [
       "                ret        mktcap\n",
       "count  2.530665e+06  2.530665e+06\n",
       "mean   1.181741e-02  2.177878e+06\n",
       "std    1.915711e-01  1.526564e+07\n",
       "min   -9.936000e-01  0.000000e+00\n",
       "25%   -6.868871e-02  2.598750e+04\n",
       "50%    0.000000e+00  1.141700e+05\n",
       "75%    7.326314e-02  6.237038e+05\n",
       "max    2.400000e+01  2.255969e+09"
      ]
     },
     "execution_count": 13,
     "metadata": {},
     "output_type": "execute_result"
    }
   ],
   "source": [
    "crsp[['ret','mktcap']].describe()"
   ]
  }
 ],
 "metadata": {
  "kernelspec": {
   "display_name": "Python 3 (ipykernel)",
   "language": "python",
   "name": "python3"
  },
  "language_info": {
   "codemirror_mode": {
    "name": "ipython",
    "version": 3
   },
   "file_extension": ".py",
   "mimetype": "text/x-python",
   "name": "python",
   "nbconvert_exporter": "python",
   "pygments_lexer": "ipython3",
   "version": "3.8.5"
  },
  "toc": {
   "base_numbering": 1,
   "nav_menu": {},
   "number_sections": true,
   "sideBar": true,
   "skip_h1_title": false,
   "title_cell": "Table of Contents",
   "title_sidebar": "Contents",
   "toc_cell": false,
   "toc_position": {},
   "toc_section_display": true,
   "toc_window_display": false
  }
 },
 "nbformat": 4,
 "nbformat_minor": 5
}
