{
 "cells": [
  {
   "cell_type": "markdown",
   "id": "b554ecc1",
   "metadata": {},
   "source": [
    "Run the cell below:"
   ]
  },
  {
   "cell_type": "code",
   "execution_count": null,
   "id": "c273f254",
   "metadata": {},
   "outputs": [],
   "source": [
    "import pandas as pd"
   ]
  },
  {
   "cell_type": "markdown",
   "id": "b4f3ce1c",
   "metadata": {},
   "source": [
    "If you have not done so already, download the \"compa.zip\", \"crspm.zip\" and \"ff.zip\" files from the \"Lectures and Data / data\" tab in D2L into a \"data\" folder on your computer (located outside the folder containing this file, as explained in ``lecture00``)."
   ]
  },
  {
   "cell_type": "markdown",
   "id": "87b2cb31",
   "metadata": {},
   "source": [
    "Load the CRSP monthly market data (\"crspm.zip\") into a new dataframe called ``crsp``."
   ]
  },
  {
   "cell_type": "code",
   "execution_count": null,
   "id": "70d163ab",
   "metadata": {},
   "outputs": [],
   "source": []
  },
  {
   "cell_type": "markdown",
   "id": "2ed42ef7",
   "metadata": {},
   "source": [
    "Print out the number of rows and the number of columns of ``crsp``."
   ]
  },
  {
   "cell_type": "code",
   "execution_count": null,
   "id": "85143a44",
   "metadata": {},
   "outputs": [],
   "source": []
  },
  {
   "cell_type": "markdown",
   "id": "ff15ed16",
   "metadata": {},
   "source": [
    "Print out the data types of all columns in ``crsp``."
   ]
  },
  {
   "cell_type": "code",
   "execution_count": null,
   "id": "9c96fd99",
   "metadata": {},
   "outputs": [],
   "source": []
  },
  {
   "cell_type": "markdown",
   "id": "f10785a4",
   "metadata": {},
   "source": [
    "Replace the column names in ``crsp`` with a version of themselves that is all lower case and stripped of any leading and trailing white spaces. Then print these new column names out."
   ]
  },
  {
   "cell_type": "code",
   "execution_count": null,
   "id": "edbac5cd",
   "metadata": {},
   "outputs": [],
   "source": []
  },
  {
   "cell_type": "markdown",
   "id": "7456b176",
   "metadata": {},
   "source": [
    "Convert the following columns to integer (``int64``) type: 'permno','permco','shrcd','exchcd', 'siccd'. Then print all data types again to verify that this was done correctly."
   ]
  },
  {
   "cell_type": "code",
   "execution_count": null,
   "id": "4ba40cd9",
   "metadata": {},
   "outputs": [],
   "source": []
  },
  {
   "cell_type": "markdown",
   "id": "1a651ac7",
   "metadata": {},
   "source": [
    "Convert ``siccd`` and ``ticker`` to ``string`` type. Then print all data types again to verify that this was done correctly."
   ]
  },
  {
   "cell_type": "code",
   "execution_count": null,
   "id": "a775c7e3",
   "metadata": {},
   "outputs": [],
   "source": []
  },
  {
   "cell_type": "markdown",
   "id": "b981666e",
   "metadata": {},
   "source": [
    "Replace ``crsp`` with a version of itself that does not have any duplicates with respect to ``permno`` and ``date`` (i.e. no two rows with the same ``permno`` and the same ``date``). Then print the number of rows and columns again to see if any rows were dropped."
   ]
  },
  {
   "cell_type": "code",
   "execution_count": null,
   "id": "203254ee",
   "metadata": {},
   "outputs": [],
   "source": []
  },
  {
   "cell_type": "markdown",
   "id": "fc70f748",
   "metadata": {},
   "source": [
    "Replace ``crsp`` with a version of itself that does not have any missing values for ``ret``. Then print the number of rows and columns again to see if any rows were dropped."
   ]
  },
  {
   "cell_type": "code",
   "execution_count": null,
   "id": "1371f5d5",
   "metadata": {},
   "outputs": [],
   "source": []
  },
  {
   "cell_type": "markdown",
   "id": "10071e9b",
   "metadata": {},
   "source": [
    "Create a new column called ``sic1d`` which contains only the first digit in ``siccd``. Then print the first 5 rows of ``crsp``."
   ]
  },
  {
   "cell_type": "code",
   "execution_count": null,
   "id": "584e1171",
   "metadata": {},
   "outputs": [],
   "source": []
  },
  {
   "cell_type": "markdown",
   "id": "de502a1a",
   "metadata": {},
   "source": [
    "Print out how many times each value of ``sic1d`` appears in ``crsp``."
   ]
  },
  {
   "cell_type": "code",
   "execution_count": null,
   "id": "de79a3fe",
   "metadata": {},
   "outputs": [],
   "source": []
  },
  {
   "cell_type": "markdown",
   "id": "e1a980c7",
   "metadata": {},
   "source": [
    "Create a new column called ``mktcap`` (market capitalization) which equals ``shrout`` (shares outstanding) times the absolute value of ``prc`` (use the ``.abs()`` Pandas attribute to calculate the absolute value). Then print the first 5 rows of ``crsp``."
   ]
  },
  {
   "cell_type": "code",
   "execution_count": null,
   "id": "34f4df2a",
   "metadata": {},
   "outputs": [],
   "source": []
  },
  {
   "cell_type": "markdown",
   "id": "39791cc8",
   "metadata": {},
   "source": [
    "Use ``.describe()`` to summarize the ``ret`` and ``mktcap`` variables."
   ]
  },
  {
   "cell_type": "code",
   "execution_count": null,
   "id": "49f9c5bc",
   "metadata": {},
   "outputs": [],
   "source": []
  }
 ],
 "metadata": {
  "kernelspec": {
   "display_name": "Python 3 (ipykernel)",
   "language": "python",
   "name": "python3"
  },
  "language_info": {
   "codemirror_mode": {
    "name": "ipython",
    "version": 3
   },
   "file_extension": ".py",
   "mimetype": "text/x-python",
   "name": "python",
   "nbconvert_exporter": "python",
   "pygments_lexer": "ipython3",
   "version": "3.8.5"
  },
  "toc": {
   "base_numbering": 1,
   "nav_menu": {},
   "number_sections": true,
   "sideBar": true,
   "skip_h1_title": false,
   "title_cell": "Table of Contents",
   "title_sidebar": "Contents",
   "toc_cell": false,
   "toc_position": {},
   "toc_section_display": true,
   "toc_window_display": false
  }
 },
 "nbformat": 4,
 "nbformat_minor": 5
}
