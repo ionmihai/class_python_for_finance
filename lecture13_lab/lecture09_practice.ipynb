{
 "cells": [
  {
   "cell_type": "markdown",
   "id": "bf44f5ef",
   "metadata": {},
   "source": [
    "Run the cell below:"
   ]
  },
  {
   "cell_type": "code",
   "execution_count": null,
   "id": "1b926ccb",
   "metadata": {},
   "outputs": [],
   "source": [
    "import pandas as pd\n",
    "\n",
    "d = {'firmid':[10,11,12], 'ticker':['A','B','C'], 'age':[5,3,4]}\n",
    "df = pd.DataFrame(d)\n",
    "df"
   ]
  },
  {
   "cell_type": "markdown",
   "id": "978ba20e",
   "metadata": {},
   "source": [
    "Print the index of ``df``. Note the type of data it stores."
   ]
  },
  {
   "cell_type": "code",
   "execution_count": null,
   "id": "865a3a6f",
   "metadata": {},
   "outputs": [],
   "source": []
  },
  {
   "cell_type": "markdown",
   "id": "fef60f81",
   "metadata": {},
   "source": [
    "Change ``df`` so that its index is 1,2,3 instead of 0,1,2. Print this new version of ``df``."
   ]
  },
  {
   "cell_type": "code",
   "execution_count": null,
   "id": "99fdd641",
   "metadata": {},
   "outputs": [],
   "source": []
  },
  {
   "cell_type": "markdown",
   "id": "f900f230",
   "metadata": {},
   "source": [
    "Use ``.loc[]`` to create a new dataframe ``df2`` (not a Series) which contains the data in ``df`` where the index 2. Then print ``df2``."
   ]
  },
  {
   "cell_type": "code",
   "execution_count": null,
   "id": "90b63689",
   "metadata": {},
   "outputs": [],
   "source": []
  },
  {
   "cell_type": "markdown",
   "id": "0094f5ad",
   "metadata": {},
   "source": [
    "Use ``.iloc[]`` to create a new dataframe ``df3`` (not a Series) which contains the data in ``df`` where the index 2. Then print ``df3``."
   ]
  },
  {
   "cell_type": "code",
   "execution_count": null,
   "id": "af4c4007",
   "metadata": {},
   "outputs": [],
   "source": []
  },
  {
   "cell_type": "markdown",
   "id": "d6c29a75",
   "metadata": {},
   "source": [
    "Create a new dataframe ``df4`` that contains all the data in ``df`` where ``age`` is strictly larger than 3. Then print ``df4``."
   ]
  },
  {
   "cell_type": "code",
   "execution_count": null,
   "id": "37bdd344",
   "metadata": {},
   "outputs": [],
   "source": []
  },
  {
   "cell_type": "markdown",
   "id": "5271a6fc",
   "metadata": {},
   "source": [
    "Create a new dataframe ``df5`` that contains the ``firmid`` and ``age`` for the row with ticker \"C\". Print ``df5``."
   ]
  },
  {
   "cell_type": "code",
   "execution_count": null,
   "id": "fdca0d75",
   "metadata": {},
   "outputs": [],
   "source": []
  },
  {
   "cell_type": "markdown",
   "id": "1138af2d",
   "metadata": {},
   "source": [
    "Create a new dataframe ``df6`` that contains all the data in the ``ticker`` and ``age`` columns of ``df``. Print ``df6``."
   ]
  },
  {
   "cell_type": "code",
   "execution_count": null,
   "id": "5481f8d8",
   "metadata": {},
   "outputs": [],
   "source": []
  },
  {
   "cell_type": "markdown",
   "id": "161886d5",
   "metadata": {},
   "source": [
    "Create a new dataframe ``df7`` which contains the ``age`` data in ``df``, and has ``firmid`` and ``ticker`` as its index (i.e. ``df7`` will have a MultiIndex). Then print ``df7``."
   ]
  },
  {
   "cell_type": "code",
   "execution_count": null,
   "id": "00411658",
   "metadata": {},
   "outputs": [],
   "source": []
  },
  {
   "cell_type": "markdown",
   "id": "752c83f2",
   "metadata": {},
   "source": [
    "Print the index of ``df7``."
   ]
  },
  {
   "cell_type": "code",
   "execution_count": null,
   "id": "34b5ef32",
   "metadata": {},
   "outputs": [],
   "source": []
  }
 ],
 "metadata": {
  "kernelspec": {
   "display_name": "Python 3 (ipykernel)",
   "language": "python",
   "name": "python3"
  },
  "language_info": {
   "codemirror_mode": {
    "name": "ipython",
    "version": 3
   },
   "file_extension": ".py",
   "mimetype": "text/x-python",
   "name": "python",
   "nbconvert_exporter": "python",
   "pygments_lexer": "ipython3",
   "version": "3.8.5"
  },
  "toc": {
   "base_numbering": 1,
   "nav_menu": {},
   "number_sections": true,
   "sideBar": true,
   "skip_h1_title": false,
   "title_cell": "Table of Contents",
   "title_sidebar": "Contents",
   "toc_cell": false,
   "toc_position": {},
   "toc_section_display": true,
   "toc_window_display": false
  }
 },
 "nbformat": 4,
 "nbformat_minor": 5
}
