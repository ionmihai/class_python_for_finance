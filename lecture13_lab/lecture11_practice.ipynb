{
 "cells": [
  {
   "cell_type": "markdown",
   "id": "a3b49fed",
   "metadata": {},
   "source": [
    "Run the cell below."
   ]
  },
  {
   "cell_type": "code",
   "execution_count": null,
   "id": "6e8b70a0",
   "metadata": {},
   "outputs": [],
   "source": [
    "import pandas as pd\n",
    "import pandas_datareader as pdr\n",
    "\n",
    "ind = pd.DataFrame({'weight':['ew','vw','ew','vw'], \n",
    "                      'year': ['2010','2010','2011','2011'], \n",
    "                      'ret': [0.1,0.15,0.05,0.01],\n",
    "                      'N':[5,3,4,10]})\n",
    "ind"
   ]
  },
  {
   "cell_type": "markdown",
   "id": "d5e4590f",
   "metadata": {},
   "source": [
    "Reshape the data in the ``ret`` and ``N`` columns of the ``ind`` dataframe, so that each year gets its own row and different weight types ('ew' and 'vw') get their own columns. Call this new, reshaped dataframe ``ind_long``. Print ``ind_long``."
   ]
  },
  {
   "cell_type": "code",
   "execution_count": null,
   "id": "21724b91",
   "metadata": {},
   "outputs": [],
   "source": []
  },
  {
   "cell_type": "markdown",
   "id": "f2b8b393",
   "metadata": {},
   "source": [
    "Reshape ``ind_long`` back into a dataframe that has the same columns as ``ind``. Call this new dataframe ``ind_wide``. Print ``ind_wide``."
   ]
  },
  {
   "cell_type": "code",
   "execution_count": null,
   "id": "0d9ecad2",
   "metadata": {},
   "outputs": [],
   "source": []
  },
  {
   "cell_type": "markdown",
   "id": "b7b854d9",
   "metadata": {},
   "source": [
    "Use the ``pandas_datareader`` package to download data on the 'GDP' and 'GNP' series from the St. Louis FRED for the year 2020 (should have 4 rows, one for each quarter in 2020). You can download the data for both series at the same time (i.e. into the same dataframe) by supplying the 'GDP' and 'GNP' names as elements of a single list. Call this new dataframe ``macro1`` and print it."
   ]
  },
  {
   "cell_type": "code",
   "execution_count": null,
   "id": "6194f81c",
   "metadata": {},
   "outputs": [],
   "source": []
  },
  {
   "cell_type": "markdown",
   "id": "109759e9",
   "metadata": {},
   "source": [
    "Now download data for the same 'gdp' and 'gnp' series for the year 2019. Store these into a dataframe called ``macro2`` and print it out."
   ]
  },
  {
   "cell_type": "code",
   "execution_count": null,
   "id": "4105b9c2",
   "metadata": {},
   "outputs": [],
   "source": []
  },
  {
   "cell_type": "markdown",
   "id": "3e983e67",
   "metadata": {},
   "source": [
    "Append ``macro1`` to ``macro2`` (stack them on top of each other). Call the resulting dataframe ``vert`` and print it out."
   ]
  },
  {
   "cell_type": "code",
   "execution_count": null,
   "id": "8b941605",
   "metadata": {},
   "outputs": [],
   "source": []
  },
  {
   "cell_type": "markdown",
   "id": "b25fec4d",
   "metadata": {},
   "source": [
    "Also from FRED, download data on real GDP (``name = 'GDPC1'``) for 2019 and 2020. Call the resulting dataframe ``rgdp`` and print it out."
   ]
  },
  {
   "cell_type": "code",
   "execution_count": null,
   "id": "9d226728",
   "metadata": {},
   "outputs": [],
   "source": []
  },
  {
   "cell_type": "markdown",
   "id": "0cb84f73",
   "metadata": {},
   "source": [
    "Concatenate ``vert`` and ``rgdp`` so their data appears side by side into a new dataframe called ``full``. Print ``full``."
   ]
  },
  {
   "cell_type": "code",
   "execution_count": null,
   "id": "38bb9144",
   "metadata": {},
   "outputs": [],
   "source": []
  },
  {
   "cell_type": "markdown",
   "id": "a27c510d",
   "metadata": {},
   "source": [
    "Verify that this gives you the same answer as performing an outer join on ``vert`` and ``rgdp`` using the ``.join()`` function."
   ]
  },
  {
   "cell_type": "code",
   "execution_count": null,
   "id": "ba8b2cef",
   "metadata": {},
   "outputs": [],
   "source": []
  },
  {
   "cell_type": "markdown",
   "id": "f11db7a8",
   "metadata": {},
   "source": [
    "Reset index on ``vert`` and ``rgdp``. Call the resulting dataframes ``vert_reset`` and ``rgdp_reset`` and print them out."
   ]
  },
  {
   "cell_type": "code",
   "execution_count": null,
   "id": "fded9ed8",
   "metadata": {},
   "outputs": [],
   "source": []
  },
  {
   "cell_type": "code",
   "execution_count": null,
   "id": "e4911225",
   "metadata": {},
   "outputs": [],
   "source": []
  },
  {
   "cell_type": "markdown",
   "id": "0422d3c4",
   "metadata": {},
   "source": [
    "Concatenate ``vert_reset`` and ``rgdp_rest`` so their data appears side by side into a new dataframe called ``full_reset``. Print ``full_reset``. Note how this time the dates for the two dataframes don't align anymore. That's because now ``.concat()`` joins the two dataframes based on their new indexes (the 0-7 ones)."
   ]
  },
  {
   "cell_type": "code",
   "execution_count": null,
   "id": "a0a40327",
   "metadata": {},
   "outputs": [],
   "source": []
  },
  {
   "cell_type": "markdown",
   "id": "c9e8afd8",
   "metadata": {},
   "source": [
    "Use ``.merge()`` to perform an outer merge on ``vert_reset`` and ``rgdp_reset`` based on ``DATE``. Print the resulting merged dataframe."
   ]
  },
  {
   "cell_type": "code",
   "execution_count": null,
   "id": "b50781f5",
   "metadata": {},
   "outputs": [],
   "source": []
  }
 ],
 "metadata": {
  "kernelspec": {
   "display_name": "Python 3 (ipykernel)",
   "language": "python",
   "name": "python3"
  },
  "language_info": {
   "codemirror_mode": {
    "name": "ipython",
    "version": 3
   },
   "file_extension": ".py",
   "mimetype": "text/x-python",
   "name": "python",
   "nbconvert_exporter": "python",
   "pygments_lexer": "ipython3",
   "version": "3.8.5"
  },
  "toc": {
   "base_numbering": 1,
   "nav_menu": {},
   "number_sections": true,
   "sideBar": true,
   "skip_h1_title": false,
   "title_cell": "Table of Contents",
   "title_sidebar": "Contents",
   "toc_cell": false,
   "toc_position": {},
   "toc_section_display": true,
   "toc_window_display": false
  }
 },
 "nbformat": 4,
 "nbformat_minor": 5
}
