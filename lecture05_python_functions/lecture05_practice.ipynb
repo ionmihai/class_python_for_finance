{
 "cells": [
  {
   "cell_type": "markdown",
   "id": "951834e1",
   "metadata": {},
   "source": [
    "Write a function called ``func1`` which takes no parameters and returns an empty list. Then use it to append an empty list at the end of this list ``[1,2]`` and print out the result (the result should be ``[1,2,[]]``)."
   ]
  },
  {
   "cell_type": "code",
   "execution_count": 4,
   "id": "3da35d99",
   "metadata": {},
   "outputs": [
    {
     "name": "stdout",
     "output_type": "stream",
     "text": [
      "[1, 2, []]\n",
      "[1, 2, []]\n"
     ]
    }
   ],
   "source": [
    "def func1():\n",
    "    return []\n",
    "\n",
    "print([1,2] + [func1()])\n",
    "\n",
    "a = [1,2]\n",
    "a.append(func1())\n",
    "print(a)"
   ]
  },
  {
   "cell_type": "markdown",
   "id": "b6e47a3d",
   "metadata": {},
   "source": [
    "Write a function called ``func2`` which takes two parameters (arguments) and returns the larger one. Then use it to print out which one of the following is larger: the string \"A\" or the string 'a'."
   ]
  },
  {
   "cell_type": "code",
   "execution_count": 6,
   "id": "8e308842",
   "metadata": {},
   "outputs": [
    {
     "name": "stdout",
     "output_type": "stream",
     "text": [
      "a\n"
     ]
    }
   ],
   "source": [
    "def func2(a,b):\n",
    "    if a > b:\n",
    "        return a\n",
    "    else:\n",
    "        return b \n",
    "    \n",
    "print(func2(\"A\", 'a'))"
   ]
  },
  {
   "cell_type": "markdown",
   "id": "cc7a56dd",
   "metadata": {},
   "source": [
    "Write a function called ``func3`` which takes two parameters named ``var1`` and ``var2`` and returns the value of ``var2``. What are the results of ``print(func3(1,2))``? What are the results of ``print(func3(var2 = 1, var1 = 2))``? What are the results of ``print(func3([1,2]))``? Can you explain the difference? "
   ]
  },
  {
   "cell_type": "code",
   "execution_count": 10,
   "id": "0b94ca62",
   "metadata": {},
   "outputs": [],
   "source": []
  },
  {
   "cell_type": "markdown",
   "id": "c125abba",
   "metadata": {},
   "source": [
    "Write a function called ``func4`` which takes two parameters called ``thelist`` and ``topower``. Make ``topower`` a default argument, with default value of 1. The ``func4`` function should return a list containing all the elements supplied as ``thelist`` parameter, raised to the power supplied as the ``topower`` parameter. For example ``func4(thelist=[1,2], topower=2)`` should return the list ``[1,4]``. What are the results of ``print(func4([1,2]))``? What are the results of ``print(func4(1,2))``? Can you explain this behavior?"
   ]
  },
  {
   "cell_type": "code",
   "execution_count": null,
   "id": "00c6c8be",
   "metadata": {},
   "outputs": [],
   "source": []
  },
  {
   "cell_type": "markdown",
   "id": "9730e6b5",
   "metadata": {},
   "source": [
    "Write a function ``func5`` that takes in a list of stock returns and compounds them (hint: add 1 to all of them, multiply them, and subtract 1). Use this function to print the result of compounding 10% and 20%?"
   ]
  },
  {
   "cell_type": "code",
   "execution_count": null,
   "id": "fdd2f87f",
   "metadata": {},
   "outputs": [],
   "source": []
  }
 ],
 "metadata": {
  "kernelspec": {
   "display_name": "base",
   "language": "python",
   "name": "python3"
  },
  "language_info": {
   "codemirror_mode": {
    "name": "ipython",
    "version": 3
   },
   "file_extension": ".py",
   "mimetype": "text/x-python",
   "name": "python",
   "nbconvert_exporter": "python",
   "pygments_lexer": "ipython3",
   "version": "3.8.5 (default, Sep  3 2020, 21:29:08) [MSC v.1916 64 bit (AMD64)]"
  },
  "toc": {
   "base_numbering": 1,
   "nav_menu": {},
   "number_sections": true,
   "sideBar": true,
   "skip_h1_title": false,
   "title_cell": "Table of Contents",
   "title_sidebar": "Contents",
   "toc_cell": false,
   "toc_position": {},
   "toc_section_display": true,
   "toc_window_display": false
  },
  "vscode": {
   "interpreter": {
    "hash": "c0d7515943f2d5e6ef3c63d1d45fe29892fe24bc9a1e3b83271f719b8681d46b"
   }
  }
 },
 "nbformat": 4,
 "nbformat_minor": 5
}
