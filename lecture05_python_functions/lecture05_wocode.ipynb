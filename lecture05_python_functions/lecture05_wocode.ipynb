{
 "cells": [
  {
   "cell_type": "markdown",
   "id": "5b81d0ef",
   "metadata": {
    "toc": true
   },
   "source": [
    "<h1>Table of Contents<span class=\"tocSkip\"></span></h1>\n",
    "<div class=\"toc\"><ul class=\"toc-item\"><li><span><a href=\"#Lecture-Overview\" data-toc-modified-id=\"Lecture-Overview-1\"><span class=\"toc-item-num\">1&nbsp;&nbsp;</span>Lecture Overview</a></span></li><li><span><a href=\"#Functions\" data-toc-modified-id=\"Functions-2\"><span class=\"toc-item-num\">2&nbsp;&nbsp;</span>Functions</a></span><ul class=\"toc-item\"><li><span><a href=\"#Positional-vs-keyword-arguments\" data-toc-modified-id=\"Positional-vs-keyword-arguments-2.1\"><span class=\"toc-item-num\">2.1&nbsp;&nbsp;</span>Positional vs keyword arguments</a></span></li><li><span><a href=\"#Required-vs-optional-parameters\" data-toc-modified-id=\"Required-vs-optional-parameters-2.2\"><span class=\"toc-item-num\">2.2&nbsp;&nbsp;</span>Required vs optional parameters</a></span></li><li><span><a href=\"#Advanced-properties-of-functions-(OPTIONAL)\" data-toc-modified-id=\"Advanced-properties-of-functions-(OPTIONAL)-2.3\"><span class=\"toc-item-num\">2.3&nbsp;&nbsp;</span>Advanced properties of functions (OPTIONAL)</a></span><ul class=\"toc-item\"><li><span><a href=\"#Side-effects\" data-toc-modified-id=\"Side-effects-2.3.1\"><span class=\"toc-item-num\">2.3.1&nbsp;&nbsp;</span>Side-effects</a></span></li><li><span><a href=\"#Variable-length-argument-lists\" data-toc-modified-id=\"Variable-length-argument-lists-2.3.2\"><span class=\"toc-item-num\">2.3.2&nbsp;&nbsp;</span>Variable-length argument lists</a></span></li></ul></li></ul></li><li><span><a href=\"#Packages\" data-toc-modified-id=\"Packages-3\"><span class=\"toc-item-num\">3&nbsp;&nbsp;</span>Packages</a></span><ul class=\"toc-item\"><li><span><a href=\"#Packages-vs-modules-vs-scripts-(OPTIONAL)\" data-toc-modified-id=\"Packages-vs-modules-vs-scripts-(OPTIONAL)-3.1\"><span class=\"toc-item-num\">3.1&nbsp;&nbsp;</span>Packages vs modules vs scripts (OPTIONAL)</a></span></li></ul></li><li><span><a href=\"#Chaining-commands-together\" data-toc-modified-id=\"Chaining-commands-together-4\"><span class=\"toc-item-num\">4&nbsp;&nbsp;</span>Chaining commands together</a></span></li></ul></div>"
   ]
  },
  {
   "cell_type": "markdown",
   "id": "978e281b",
   "metadata": {},
   "source": [
    "# Lecture Overview\n",
    "\n",
    "In this lecture we introduce \"functions\" which give us a way to re-use a piece of code without having to type it all out every time we need to use it. We show how to construct functions (\"define\" them) and how to use them (\"call\" them). \n",
    "\n",
    "We then introduce \"packages\", which give us a way to bundle multiple functions under a single name. \n",
    "\n",
    "Finally, we show how functions and packages give us a way to chain together multiple Python commands on a single line of code."
   ]
  },
  {
   "cell_type": "markdown",
   "id": "07e8dd29",
   "metadata": {},
   "source": [
    "# Functions\n",
    "\n",
    "Functions are pieces of code with a name. The general syntax for creating a function is as follow:\n",
    "\n",
    "```python\n",
    "def <functionName>(<functionArguments>):\n",
    "    <statement(s)>\n",
    "    return <value>\n",
    "```\n",
    "Declared as above, functions take in some data (\\<functionArguments\\>), perform some calculation based on that data (\\<statement(s)\\>), and output the results of that calculation to be used later on in the program (return \\<\\value>).\n",
    "\n",
    "We will see below, that one can omit the function arguments, the statements in the body of the function, or the return statement at the end (though not all at once).\n",
    "\n",
    "Here is a very simple example of a function that calculates the sum of its arguments and outputs (returns) the value of that sum:"
   ]
  },
  {
   "cell_type": "code",
   "execution_count": null,
   "id": "2a1c48f0",
   "metadata": {},
   "outputs": [],
   "source": []
  },
  {
   "cell_type": "markdown",
   "id": "4d94aedf",
   "metadata": {},
   "source": [
    "Note that the above code only \"**defines**\" what the function \"mysum\" does, but it does not actually \"do\" anything (no calculation is actually performed). To make the function do something, we need to use it in an expression (this is referred to as \"**calling**\" the function):"
   ]
  },
  {
   "cell_type": "code",
   "execution_count": null,
   "id": "0d132c75",
   "metadata": {},
   "outputs": [],
   "source": []
  },
  {
   "cell_type": "code",
   "execution_count": null,
   "id": "cb59b8ba",
   "metadata": {},
   "outputs": [],
   "source": []
  },
  {
   "cell_type": "markdown",
   "id": "79ec5ba9",
   "metadata": {},
   "source": [
    "Some functions have no arguments:"
   ]
  },
  {
   "cell_type": "code",
   "execution_count": null,
   "id": "7e28cead",
   "metadata": {},
   "outputs": [],
   "source": []
  },
  {
   "cell_type": "code",
   "execution_count": null,
   "id": "4de77541",
   "metadata": {},
   "outputs": [],
   "source": []
  },
  {
   "cell_type": "code",
   "execution_count": null,
   "id": "910f93c0",
   "metadata": {},
   "outputs": [],
   "source": []
  },
  {
   "cell_type": "code",
   "execution_count": null,
   "id": "b265982c",
   "metadata": {},
   "outputs": [],
   "source": []
  },
  {
   "cell_type": "markdown",
   "id": "e788c8a2",
   "metadata": {},
   "source": [
    "Some functions have no statements in their body:"
   ]
  },
  {
   "cell_type": "code",
   "execution_count": null,
   "id": "97c43ed0",
   "metadata": {},
   "outputs": [],
   "source": []
  },
  {
   "cell_type": "code",
   "execution_count": null,
   "id": "48175d34",
   "metadata": {},
   "outputs": [],
   "source": []
  },
  {
   "cell_type": "markdown",
   "id": "a3c6d52e",
   "metadata": {},
   "source": [
    "Some functions have no return statement:"
   ]
  },
  {
   "cell_type": "code",
   "execution_count": null,
   "id": "5c91ce6c",
   "metadata": {},
   "outputs": [],
   "source": []
  },
  {
   "cell_type": "code",
   "execution_count": null,
   "id": "0268bac0",
   "metadata": {},
   "outputs": [],
   "source": []
  },
  {
   "cell_type": "code",
   "execution_count": null,
   "id": "ca46dce3",
   "metadata": {},
   "outputs": [],
   "source": []
  },
  {
   "cell_type": "code",
   "execution_count": null,
   "id": "b0d5b418",
   "metadata": {},
   "outputs": [],
   "source": []
  },
  {
   "cell_type": "markdown",
   "id": "5e3a4bae",
   "metadata": {},
   "source": [
    "Functions without a return statements, do actually return something: the Python value \"None\":"
   ]
  },
  {
   "cell_type": "code",
   "execution_count": null,
   "id": "b35bd276",
   "metadata": {},
   "outputs": [],
   "source": []
  },
  {
   "cell_type": "markdown",
   "id": "08beb463",
   "metadata": {},
   "source": [
    "When a function executes a return statement, it does not execute any remaining code in the body of the function (i.e. it **exits**):"
   ]
  },
  {
   "cell_type": "code",
   "execution_count": null,
   "id": "956c9d37",
   "metadata": {},
   "outputs": [],
   "source": []
  },
  {
   "cell_type": "code",
   "execution_count": null,
   "id": "905d591a",
   "metadata": {},
   "outputs": [],
   "source": []
  },
  {
   "cell_type": "markdown",
   "id": "fa90b3af",
   "metadata": {},
   "source": [
    "## Positional vs keyword arguments"
   ]
  },
  {
   "cell_type": "markdown",
   "id": "8a15b8d7",
   "metadata": {},
   "source": [
    "When you call (use) a function, you can provide arguments based on their name (keyword arguments), or based on their position (positional arguments)"
   ]
  },
  {
   "cell_type": "code",
   "execution_count": null,
   "id": "e03d1d7f",
   "metadata": {},
   "outputs": [],
   "source": []
  },
  {
   "cell_type": "markdown",
   "id": "d051f853",
   "metadata": {},
   "source": [
    "Using positional arguments:"
   ]
  },
  {
   "cell_type": "code",
   "execution_count": null,
   "id": "4930981c",
   "metadata": {},
   "outputs": [],
   "source": []
  },
  {
   "cell_type": "markdown",
   "id": "56d46e75",
   "metadata": {},
   "source": [
    "Using keyword arguments:"
   ]
  },
  {
   "cell_type": "code",
   "execution_count": null,
   "id": "7d5ac35d",
   "metadata": {},
   "outputs": [],
   "source": []
  },
  {
   "cell_type": "markdown",
   "id": "9c589080",
   "metadata": {},
   "source": [
    "The benefit of using keyword arguments is that you don't have to remember their order in the function definition, and accidentally do something like this:"
   ]
  },
  {
   "cell_type": "code",
   "execution_count": null,
   "id": "039e832b",
   "metadata": {},
   "outputs": [],
   "source": []
  },
  {
   "cell_type": "markdown",
   "id": "bd2cf02d",
   "metadata": {},
   "source": [
    "As long as you remember the keywords (\"age\" and \"name\" in our example), you don't have to worry about the order in which you supply them to the function call:"
   ]
  },
  {
   "cell_type": "code",
   "execution_count": null,
   "id": "82aad87c",
   "metadata": {},
   "outputs": [],
   "source": []
  },
  {
   "cell_type": "markdown",
   "id": "e19172ba",
   "metadata": {},
   "source": [
    "The drawback of keyword arguments is that you have to remember the keywords:"
   ]
  },
  {
   "cell_type": "code",
   "execution_count": null,
   "id": "cc7ae756",
   "metadata": {},
   "outputs": [],
   "source": []
  },
  {
   "cell_type": "markdown",
   "id": "de6c1710",
   "metadata": {},
   "source": [
    "## Required vs optional parameters"
   ]
  },
  {
   "cell_type": "markdown",
   "id": "a36ee404",
   "metadata": {},
   "source": [
    "Regardless of whether we use positional or keyword arguments, in the examples above, we always had to supply the correct *number* of arguments:"
   ]
  },
  {
   "cell_type": "code",
   "execution_count": null,
   "id": "ca264a69",
   "metadata": {},
   "outputs": [],
   "source": []
  },
  {
   "cell_type": "code",
   "execution_count": null,
   "id": "2a4f20cd",
   "metadata": {},
   "outputs": [],
   "source": []
  },
  {
   "cell_type": "markdown",
   "id": "84f19334",
   "metadata": {},
   "source": [
    "To get around this issue, we can supply **default values** for some of the parameters **when we define the function**, even if these default values are \"empty\" (using the None value):"
   ]
  },
  {
   "cell_type": "code",
   "execution_count": null,
   "id": "0f73ac02",
   "metadata": {},
   "outputs": [],
   "source": []
  },
  {
   "cell_type": "code",
   "execution_count": null,
   "id": "0a81e345",
   "metadata": {},
   "outputs": [],
   "source": []
  },
  {
   "cell_type": "markdown",
   "id": "84c79e17",
   "metadata": {},
   "source": [
    "If we don't have to give a meaningful default value to a parameter, we can use the \"None\" value:"
   ]
  },
  {
   "cell_type": "code",
   "execution_count": null,
   "id": "71a32d3e",
   "metadata": {},
   "outputs": [],
   "source": []
  },
  {
   "cell_type": "code",
   "execution_count": null,
   "id": "f37739cb",
   "metadata": {},
   "outputs": [],
   "source": []
  },
  {
   "cell_type": "markdown",
   "id": "bbfdbc8d",
   "metadata": {},
   "source": [
    "The one rule you need to remember about optional parameters (ones with a default value) is that they need to be specified AFTER all the require parameters:"
   ]
  },
  {
   "cell_type": "code",
   "execution_count": null,
   "id": "f3b0f144",
   "metadata": {},
   "outputs": [],
   "source": []
  },
  {
   "cell_type": "markdown",
   "id": "91c296f6",
   "metadata": {},
   "source": [
    "## Advanced properties of functions (OPTIONAL)"
   ]
  },
  {
   "cell_type": "markdown",
   "id": "59271af8",
   "metadata": {},
   "source": [
    "### Side-effects\n",
    "\n",
    "In some instances, functions can alter the value of the objects used as their parameters:"
   ]
  },
  {
   "cell_type": "code",
   "execution_count": null,
   "id": "257ae479",
   "metadata": {},
   "outputs": [],
   "source": []
  },
  {
   "cell_type": "code",
   "execution_count": null,
   "id": "2c358c65",
   "metadata": {},
   "outputs": [],
   "source": []
  },
  {
   "cell_type": "markdown",
   "id": "c4f7dff7",
   "metadata": {},
   "source": [
    "In some instances, functions can NOT alter the value of their arguments:"
   ]
  },
  {
   "cell_type": "code",
   "execution_count": null,
   "id": "17596c17",
   "metadata": {},
   "outputs": [],
   "source": []
  },
  {
   "cell_type": "code",
   "execution_count": null,
   "id": "c5a7982f",
   "metadata": {},
   "outputs": [],
   "source": []
  },
  {
   "cell_type": "markdown",
   "id": "391f09fa",
   "metadata": {},
   "source": [
    "As a general rule, functions can modify the values of arguments of mutable type (e.g. list, dict) but not the values of arguments of immutable type (e.g. int, str, tuple). If you are interested in more details, a nice discussion is provided here:\n",
    "https://realpython.com/defining-your-own-python-function/#argument-passing"
   ]
  },
  {
   "cell_type": "markdown",
   "id": "bdf01b7f",
   "metadata": {},
   "source": [
    "### Variable-length argument lists\n",
    "\n",
    "You don't have to decide how many arguments your function should take when you define that function. For example, the function below can take in ANY number of arguments and prints them all out:"
   ]
  },
  {
   "cell_type": "code",
   "execution_count": null,
   "id": "91e388d6",
   "metadata": {},
   "outputs": [],
   "source": []
  },
  {
   "cell_type": "code",
   "execution_count": null,
   "id": "3ec21752",
   "metadata": {},
   "outputs": [],
   "source": []
  },
  {
   "cell_type": "code",
   "execution_count": null,
   "id": "e2a1091e",
   "metadata": {},
   "outputs": [],
   "source": []
  },
  {
   "cell_type": "markdown",
   "id": "d859a07a",
   "metadata": {},
   "source": [
    "We will not be using this functionality in this course but you can read more about it here: https://realpython.com/defining-your-own-python-function/#variable-length-argument-lists"
   ]
  },
  {
   "cell_type": "markdown",
   "id": "554ce10a",
   "metadata": {},
   "source": [
    "# Packages\n",
    "\n",
    "Python allows us to use functions defined in a different location. As long as the function we want to use is in a \".py\" file somewhere on your computer, you should be able to \"import\" it in the current file so you can use it.\n",
    "\n",
    "For example, in the same folder as these lectures, you should have a file called \"MyPackage.py\" (though you may not see the \".py\"), which contains two functions: mylist(), and myprint(). We can use those functions here, by just importing \"MyPackage\":"
   ]
  },
  {
   "cell_type": "code",
   "execution_count": null,
   "id": "ac48c24b",
   "metadata": {},
   "outputs": [],
   "source": []
  },
  {
   "cell_type": "markdown",
   "id": "32204a63",
   "metadata": {},
   "source": [
    "Now we can use the functions inside \"MyPackage\" using the dot notation (familiar from when we introduced object attributes):"
   ]
  },
  {
   "cell_type": "code",
   "execution_count": null,
   "id": "df8c16ec",
   "metadata": {},
   "outputs": [],
   "source": []
  },
  {
   "cell_type": "code",
   "execution_count": null,
   "id": "e377e791",
   "metadata": {},
   "outputs": [],
   "source": []
  },
  {
   "cell_type": "markdown",
   "id": "ba2d1302",
   "metadata": {},
   "source": [
    "Often times, we rename a package (right after we import it) to a shorter name (to reduce typing):"
   ]
  },
  {
   "cell_type": "code",
   "execution_count": null,
   "id": "24994be0",
   "metadata": {},
   "outputs": [],
   "source": []
  },
  {
   "cell_type": "code",
   "execution_count": null,
   "id": "8dc86b9e",
   "metadata": {},
   "outputs": [],
   "source": []
  },
  {
   "cell_type": "markdown",
   "id": "2bdda884",
   "metadata": {},
   "source": [
    "We can also import all the functions inside a package in such a way that we don't have to keep specifying the package name every time we use the function (though this approach is not recommended):"
   ]
  },
  {
   "cell_type": "code",
   "execution_count": null,
   "id": "b4645cac",
   "metadata": {},
   "outputs": [],
   "source": []
  },
  {
   "cell_type": "code",
   "execution_count": null,
   "id": "902bd2f1",
   "metadata": {},
   "outputs": [],
   "source": []
  },
  {
   "cell_type": "markdown",
   "id": "ae8c00df",
   "metadata": {},
   "source": [
    "## Packages vs modules vs scripts (OPTIONAL)\n",
    "\n",
    "Some terminology:\n",
    "\n",
    "Python **scripts** are \".py\" files that are primarily meant to be run.\n",
    "\n",
    "Python **modules** are \".py\" files that are primarily meant to be imported.\n",
    "\n",
    "Python **packages** are collections of Python modules.\n",
    "\n",
    "So, technically speaking, the \"MyPackage.py\" file is a module. \n",
    "\n",
    "You do not have to remember this terminology for the purpose of this class. We will USE packages that other people have written, but, to keep things simple, we will not write any scripts, modules, or packages of our own: we will execute all our code inside Jupyter Notebooks like this one. \n",
    "\n",
    "However, if you are serious about Python programming beyond the scope of this class, it is very important to understand exactly how packages, modules, and scripts work. A nice discussion can be found here: https://realpython.com/python-modules-packages/"
   ]
  },
  {
   "cell_type": "markdown",
   "id": "d5eb3387",
   "metadata": {},
   "source": [
    "# Chaining commands together\n",
    "\n",
    "Whenever a function in Python returns a value, we can operate on that value immediately (in the same line of code as the function call).\n",
    "\n",
    "For example the following code:"
   ]
  },
  {
   "cell_type": "code",
   "execution_count": null,
   "id": "e821a645",
   "metadata": {},
   "outputs": [],
   "source": []
  },
  {
   "cell_type": "markdown",
   "id": "8677a9ba",
   "metadata": {},
   "source": [
    "Is equivalent to this:"
   ]
  },
  {
   "cell_type": "code",
   "execution_count": null,
   "id": "02fe4da6",
   "metadata": {},
   "outputs": [],
   "source": []
  },
  {
   "cell_type": "markdown",
   "id": "8bf56f1a",
   "metadata": {},
   "source": [
    "Python first runs the mylist function, which returns the list [1,2]:"
   ]
  },
  {
   "cell_type": "code",
   "execution_count": null,
   "id": "6cd99664",
   "metadata": {},
   "outputs": [],
   "source": []
  },
  {
   "cell_type": "markdown",
   "id": "35735947",
   "metadata": {},
   "source": [
    "And then applies the [-1] slice to that list, running something equivalent to:"
   ]
  },
  {
   "cell_type": "code",
   "execution_count": null,
   "id": "2ab123a7",
   "metadata": {},
   "outputs": [],
   "source": []
  },
  {
   "cell_type": "markdown",
   "id": "80156cd4",
   "metadata": {},
   "source": [
    "We can also chain multiple function calls together:"
   ]
  },
  {
   "cell_type": "code",
   "execution_count": null,
   "id": "5e42a33c",
   "metadata": {},
   "outputs": [],
   "source": []
  },
  {
   "cell_type": "markdown",
   "id": "a0f6a3c9",
   "metadata": {},
   "source": [
    "This works because the output of ``mp.mylist(5,13)`` is a list, and lists have an attribute called ``__len__()`` which returns the number of elements of a list. "
   ]
  },
  {
   "cell_type": "markdown",
   "id": "55604058",
   "metadata": {},
   "source": [
    "We can chain as many function/attribute calls as we want on a single line of code. **Python will execute function/attribute calls from left to right** on any given line of code. So we have to make sure that, whenever we use an attribute, all the code on its left produces output of a type that has the attribute we want to use.\n",
    "\n",
    "For example, in the line below:"
   ]
  },
  {
   "cell_type": "code",
   "execution_count": null,
   "id": "63c2de53",
   "metadata": {},
   "outputs": [],
   "source": []
  },
  {
   "cell_type": "markdown",
   "id": "42fe60cb",
   "metadata": {},
   "source": [
    "We saw that ``mp.mylist(5,13).__len__()`` produces an output of type int (the number 9):"
   ]
  },
  {
   "cell_type": "code",
   "execution_count": null,
   "id": "7650b0ea",
   "metadata": {},
   "outputs": [],
   "source": []
  },
  {
   "cell_type": "markdown",
   "id": "ddc6e76c",
   "metadata": {},
   "source": [
    "And objects of type int, have ``__sizeof__`` as an attribute (which gives us the amount of memory that int is using):"
   ]
  },
  {
   "cell_type": "code",
   "execution_count": null,
   "id": "4f87b9b9",
   "metadata": {},
   "outputs": [],
   "source": []
  },
  {
   "cell_type": "markdown",
   "id": "68ba3274",
   "metadata": {},
   "source": [
    "If ``__sizeof__`` was not in the list above, we could have not applied ``.__sizeof__()`` after ``mp.mylist(5,13).__len__()``"
   ]
  },
  {
   "cell_type": "markdown",
   "id": "c75b0125",
   "metadata": {},
   "source": [
    "Finally, ``mp.mylist(5,13).__len__().__sizeof__()`` shows us that the dot can be used to separate package names (mp), user-written functions (mylist) as well as built-in attributes (``__len__`` and ``__sizeof__``) "
   ]
  }
 ],
 "metadata": {
  "kernelspec": {
   "display_name": "Python 3 (ipykernel)",
   "language": "python",
   "name": "python3"
  },
  "language_info": {
   "codemirror_mode": {
    "name": "ipython",
    "version": 3
   },
   "file_extension": ".py",
   "mimetype": "text/x-python",
   "name": "python",
   "nbconvert_exporter": "python",
   "pygments_lexer": "ipython3",
   "version": "3.8.5"
  },
  "toc": {
   "base_numbering": 1,
   "nav_menu": {},
   "number_sections": true,
   "sideBar": true,
   "skip_h1_title": false,
   "title_cell": "Table of Contents",
   "title_sidebar": "Contents",
   "toc_cell": true,
   "toc_position": {},
   "toc_section_display": true,
   "toc_window_display": false
  }
 },
 "nbformat": 4,
 "nbformat_minor": 5
}
