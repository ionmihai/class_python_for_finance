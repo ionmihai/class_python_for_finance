{
 "cells": [
  {
   "cell_type": "markdown",
   "id": "7603abd3",
   "metadata": {},
   "source": [
    "Run the cells below:"
   ]
  },
  {
   "cell_type": "code",
   "execution_count": null,
   "id": "e71a8075",
   "metadata": {},
   "outputs": [],
   "source": [
    "import pandas as pd\n",
    "import statsmodels.api as sm\n",
    "import pandas_datareader as pdr"
   ]
  },
  {
   "cell_type": "markdown",
   "id": "5c1e1a40",
   "metadata": {},
   "source": [
    "From the St. Louis FRED, download data on monthly US industrial production ('IPROD') and US policy uncertainty ('USEPUINDXM') from 1985 to 2020 (inclusive). "
   ]
  },
  {
   "cell_type": "code",
   "execution_count": null,
   "id": "443b9ea4",
   "metadata": {},
   "outputs": [],
   "source": [
    "df = pdr.DataReader(name=['INDPRO','USEPUINDXM'], data_source='fred',\n",
    "                   start = '1985-01-01', end = '2020-12-31')\n",
    "\n",
    "df.rename(columns = {'INDPRO':'IPRO', 'USEPUINDXM':'EPU'}, inplace = True)\n",
    "df.head()"
   ]
  },
  {
   "cell_type": "code",
   "execution_count": null,
   "id": "e18e95c7",
   "metadata": {},
   "outputs": [],
   "source": [
    "df['future_IPRO'] = df['IPRO'].shift(-6)\n",
    "df['const'] = 1\n",
    "df = df.dropna()\n",
    "df"
   ]
  },
  {
   "cell_type": "markdown",
   "id": "98f17961",
   "metadata": {},
   "source": [
    "Create autocorrelation plots for ``EPU`` and ``future_IPRO``."
   ]
  },
  {
   "cell_type": "code",
   "execution_count": null,
   "id": "008f2ca3",
   "metadata": {},
   "outputs": [],
   "source": []
  },
  {
   "cell_type": "code",
   "execution_count": null,
   "id": "6bd35a5e",
   "metadata": {},
   "outputs": [],
   "source": []
  },
  {
   "cell_type": "markdown",
   "id": "976ae10d",
   "metadata": {},
   "source": [
    "Test if ``EPU`` and ``future_IPRO`` are non-stationary at the 95\\% confidence level."
   ]
  },
  {
   "cell_type": "code",
   "execution_count": null,
   "id": "8f2ad5e3",
   "metadata": {},
   "outputs": [],
   "source": []
  },
  {
   "cell_type": "code",
   "execution_count": null,
   "id": "bb15bfd1",
   "metadata": {},
   "outputs": [],
   "source": []
  },
  {
   "cell_type": "code",
   "execution_count": null,
   "id": "e5c73bba",
   "metadata": {},
   "outputs": [],
   "source": []
  },
  {
   "cell_type": "markdown",
   "id": "1c50258e",
   "metadata": {},
   "source": [
    "A:"
   ]
  },
  {
   "cell_type": "markdown",
   "id": "719a9e89",
   "metadata": {},
   "source": [
    "Create 12-month differences (current value minus value from 12 months ago) in both ``EPU`` and ``future_IPRO``. Call these variables ``diff_EPU`` and ``diff_IPRO``."
   ]
  },
  {
   "cell_type": "code",
   "execution_count": null,
   "id": "7c4aa78f",
   "metadata": {},
   "outputs": [],
   "source": []
  },
  {
   "cell_type": "markdown",
   "id": "40c4f753",
   "metadata": {},
   "source": [
    "Test if ``diff_EPU`` and ``diff_IPRO`` are non-stationary at the 95\\% confidence level."
   ]
  },
  {
   "cell_type": "code",
   "execution_count": null,
   "id": "88953be5",
   "metadata": {},
   "outputs": [],
   "source": []
  },
  {
   "cell_type": "code",
   "execution_count": null,
   "id": "aecff8ec",
   "metadata": {},
   "outputs": [],
   "source": []
  },
  {
   "cell_type": "markdown",
   "id": "420586b5",
   "metadata": {},
   "source": [
    "A:"
   ]
  },
  {
   "cell_type": "markdown",
   "id": "2167d917",
   "metadata": {},
   "source": [
    "Regress ``diff_IPRO`` on ``diff_EPU`` (and a constant). Use a heteroskedasticity-and-autocorrelation consistent (HAC) covariance estimator to control for autocorrelated standard errors."
   ]
  },
  {
   "cell_type": "code",
   "execution_count": null,
   "id": "6d3b5acc",
   "metadata": {},
   "outputs": [],
   "source": []
  },
  {
   "cell_type": "code",
   "execution_count": null,
   "id": "02e450f3",
   "metadata": {},
   "outputs": [],
   "source": []
  },
  {
   "cell_type": "code",
   "execution_count": null,
   "id": "1824e29f",
   "metadata": {},
   "outputs": [],
   "source": []
  },
  {
   "cell_type": "markdown",
   "id": "4320ce8a",
   "metadata": {},
   "source": [
    "Using the results of your regression, is policy uncertainty a significant predictor of future industrial production at the 95\\% confidence level?"
   ]
  },
  {
   "cell_type": "markdown",
   "id": "bed3f757",
   "metadata": {},
   "source": [
    "A:"
   ]
  },
  {
   "cell_type": "code",
   "execution_count": null,
   "id": "636e3072",
   "metadata": {},
   "outputs": [],
   "source": []
  }
 ],
 "metadata": {
  "kernelspec": {
   "display_name": "Python 3 (ipykernel)",
   "language": "python",
   "name": "python3"
  },
  "language_info": {
   "codemirror_mode": {
    "name": "ipython",
    "version": 3
   },
   "file_extension": ".py",
   "mimetype": "text/x-python",
   "name": "python",
   "nbconvert_exporter": "python",
   "pygments_lexer": "ipython3",
   "version": "3.8.5"
  },
  "toc": {
   "base_numbering": 1,
   "nav_menu": {},
   "number_sections": true,
   "sideBar": true,
   "skip_h1_title": false,
   "title_cell": "Table of Contents",
   "title_sidebar": "Contents",
   "toc_cell": false,
   "toc_position": {},
   "toc_section_display": true,
   "toc_window_display": false
  }
 },
 "nbformat": 4,
 "nbformat_minor": 5
}
