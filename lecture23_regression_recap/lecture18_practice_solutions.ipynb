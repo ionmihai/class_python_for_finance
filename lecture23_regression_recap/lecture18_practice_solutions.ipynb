{
 "cells": [
  {
   "cell_type": "markdown",
   "id": "d5368924",
   "metadata": {},
   "source": [
    "Run the cell below:"
   ]
  },
  {
   "cell_type": "code",
   "execution_count": 1,
   "id": "09b4bc38",
   "metadata": {},
   "outputs": [],
   "source": [
    "import pandas as pd\n",
    "import statsmodels.api as sm\n",
    "import pandas_datareader as pdr"
   ]
  },
  {
   "cell_type": "markdown",
   "id": "9aff642a",
   "metadata": {},
   "source": [
    "From the St. Louis FRED, download data on monthly US industrial production ('IPROD') and US policy uncertainty ('USEPUINDXM') from 1985 to 2020 (inclusive). "
   ]
  },
  {
   "cell_type": "code",
   "execution_count": 2,
   "id": "d2da0b42",
   "metadata": {},
   "outputs": [
    {
     "data": {
      "text/html": [
       "<div>\n",
       "<style scoped>\n",
       "    .dataframe tbody tr th:only-of-type {\n",
       "        vertical-align: middle;\n",
       "    }\n",
       "\n",
       "    .dataframe tbody tr th {\n",
       "        vertical-align: top;\n",
       "    }\n",
       "\n",
       "    .dataframe thead th {\n",
       "        text-align: right;\n",
       "    }\n",
       "</style>\n",
       "<table border=\"1\" class=\"dataframe\">\n",
       "  <thead>\n",
       "    <tr style=\"text-align: right;\">\n",
       "      <th></th>\n",
       "      <th>INDPRO</th>\n",
       "      <th>USEPUINDXM</th>\n",
       "    </tr>\n",
       "    <tr>\n",
       "      <th>DATE</th>\n",
       "      <th></th>\n",
       "      <th></th>\n",
       "    </tr>\n",
       "  </thead>\n",
       "  <tbody>\n",
       "    <tr>\n",
       "      <th>1985-01-01</th>\n",
       "      <td>54.7203</td>\n",
       "      <td>125.22474</td>\n",
       "    </tr>\n",
       "    <tr>\n",
       "      <th>1985-02-01</th>\n",
       "      <td>54.9100</td>\n",
       "      <td>99.02081</td>\n",
       "    </tr>\n",
       "    <tr>\n",
       "      <th>1985-03-01</th>\n",
       "      <td>54.9841</td>\n",
       "      <td>112.19051</td>\n",
       "    </tr>\n",
       "    <tr>\n",
       "      <th>1985-04-01</th>\n",
       "      <td>54.8853</td>\n",
       "      <td>102.81133</td>\n",
       "    </tr>\n",
       "    <tr>\n",
       "      <th>1985-05-01</th>\n",
       "      <td>54.9520</td>\n",
       "      <td>120.08273</td>\n",
       "    </tr>\n",
       "    <tr>\n",
       "      <th>...</th>\n",
       "      <td>...</td>\n",
       "      <td>...</td>\n",
       "    </tr>\n",
       "    <tr>\n",
       "      <th>2020-08-01</th>\n",
       "      <td>95.8924</td>\n",
       "      <td>224.42636</td>\n",
       "    </tr>\n",
       "    <tr>\n",
       "      <th>2020-09-01</th>\n",
       "      <td>95.6019</td>\n",
       "      <td>218.05827</td>\n",
       "    </tr>\n",
       "    <tr>\n",
       "      <th>2020-10-01</th>\n",
       "      <td>96.6454</td>\n",
       "      <td>249.17361</td>\n",
       "    </tr>\n",
       "    <tr>\n",
       "      <th>2020-11-01</th>\n",
       "      <td>97.1609</td>\n",
       "      <td>246.70712</td>\n",
       "    </tr>\n",
       "    <tr>\n",
       "      <th>2020-12-01</th>\n",
       "      <td>98.2854</td>\n",
       "      <td>246.12613</td>\n",
       "    </tr>\n",
       "  </tbody>\n",
       "</table>\n",
       "<p>432 rows × 2 columns</p>\n",
       "</div>"
      ],
      "text/plain": [
       "             INDPRO  USEPUINDXM\n",
       "DATE                           \n",
       "1985-01-01  54.7203   125.22474\n",
       "1985-02-01  54.9100    99.02081\n",
       "1985-03-01  54.9841   112.19051\n",
       "1985-04-01  54.8853   102.81133\n",
       "1985-05-01  54.9520   120.08273\n",
       "...             ...         ...\n",
       "2020-08-01  95.8924   224.42636\n",
       "2020-09-01  95.6019   218.05827\n",
       "2020-10-01  96.6454   249.17361\n",
       "2020-11-01  97.1609   246.70712\n",
       "2020-12-01  98.2854   246.12613\n",
       "\n",
       "[432 rows x 2 columns]"
      ]
     },
     "execution_count": 2,
     "metadata": {},
     "output_type": "execute_result"
    }
   ],
   "source": [
    "df = pdr.DataReader(name=['INDPRO','USEPUINDXM'], data_source='fred',\n",
    "                   start = '1985-01-01', end = '2020-12-31')\n",
    "df"
   ]
  },
  {
   "cell_type": "markdown",
   "id": "357771a6",
   "metadata": {},
   "source": [
    "Plot both series, in separate subplots of the same graph."
   ]
  },
  {
   "cell_type": "code",
   "execution_count": 3,
   "id": "c3a76a90",
   "metadata": {},
   "outputs": [
    {
     "data": {
      "image/png": "[encoded data removed]",
      "text/plain": [
       "<Figure size 432x288 with 2 Axes>"
      ]
     },
     "metadata": {
      "needs_background": "light"
     },
     "output_type": "display_data"
    }
   ],
   "source": [
    "df.plot(subplots = True);"
   ]
  },
  {
   "cell_type": "markdown",
   "id": "3a2f74b6",
   "metadata": {},
   "source": [
    "Create a new variable called ``future_ipro``, which gives us the industrial production from 6 months into the future."
   ]
  },
  {
   "cell_type": "code",
   "execution_count": 4,
   "id": "af1e2ccb",
   "metadata": {},
   "outputs": [
    {
     "data": {
      "text/html": [
       "<div>\n",
       "<style scoped>\n",
       "    .dataframe tbody tr th:only-of-type {\n",
       "        vertical-align: middle;\n",
       "    }\n",
       "\n",
       "    .dataframe tbody tr th {\n",
       "        vertical-align: top;\n",
       "    }\n",
       "\n",
       "    .dataframe thead th {\n",
       "        text-align: right;\n",
       "    }\n",
       "</style>\n",
       "<table border=\"1\" class=\"dataframe\">\n",
       "  <thead>\n",
       "    <tr style=\"text-align: right;\">\n",
       "      <th></th>\n",
       "      <th>INDPRO</th>\n",
       "      <th>USEPUINDXM</th>\n",
       "      <th>future_ipro</th>\n",
       "    </tr>\n",
       "    <tr>\n",
       "      <th>DATE</th>\n",
       "      <th></th>\n",
       "      <th></th>\n",
       "      <th></th>\n",
       "    </tr>\n",
       "  </thead>\n",
       "  <tbody>\n",
       "    <tr>\n",
       "      <th>1985-01-01</th>\n",
       "      <td>54.7203</td>\n",
       "      <td>125.22474</td>\n",
       "      <td>54.6420</td>\n",
       "    </tr>\n",
       "    <tr>\n",
       "      <th>1985-02-01</th>\n",
       "      <td>54.9100</td>\n",
       "      <td>99.02081</td>\n",
       "      <td>54.8269</td>\n",
       "    </tr>\n",
       "    <tr>\n",
       "      <th>1985-03-01</th>\n",
       "      <td>54.9841</td>\n",
       "      <td>112.19051</td>\n",
       "      <td>55.0447</td>\n",
       "    </tr>\n",
       "    <tr>\n",
       "      <th>1985-04-01</th>\n",
       "      <td>54.8853</td>\n",
       "      <td>102.81133</td>\n",
       "      <td>54.8418</td>\n",
       "    </tr>\n",
       "    <tr>\n",
       "      <th>1985-05-01</th>\n",
       "      <td>54.9520</td>\n",
       "      <td>120.08273</td>\n",
       "      <td>55.0381</td>\n",
       "    </tr>\n",
       "    <tr>\n",
       "      <th>1985-06-01</th>\n",
       "      <td>54.9269</td>\n",
       "      <td>132.71318</td>\n",
       "      <td>55.5958</td>\n",
       "    </tr>\n",
       "    <tr>\n",
       "      <th>1985-07-01</th>\n",
       "      <td>54.6420</td>\n",
       "      <td>128.00182</td>\n",
       "      <td>55.8793</td>\n",
       "    </tr>\n",
       "  </tbody>\n",
       "</table>\n",
       "</div>"
      ],
      "text/plain": [
       "             INDPRO  USEPUINDXM  future_ipro\n",
       "DATE                                        \n",
       "1985-01-01  54.7203   125.22474      54.6420\n",
       "1985-02-01  54.9100    99.02081      54.8269\n",
       "1985-03-01  54.9841   112.19051      55.0447\n",
       "1985-04-01  54.8853   102.81133      54.8418\n",
       "1985-05-01  54.9520   120.08273      55.0381\n",
       "1985-06-01  54.9269   132.71318      55.5958\n",
       "1985-07-01  54.6420   128.00182      55.8793"
      ]
     },
     "execution_count": 4,
     "metadata": {},
     "output_type": "execute_result"
    }
   ],
   "source": [
    "df['future_ipro'] = df['INDPRO'].shift(-6)\n",
    "df.head(7)"
   ]
  },
  {
   "cell_type": "markdown",
   "id": "5b2ecafb",
   "metadata": {},
   "source": [
    "Create a column of 1's and call it ``const``."
   ]
  },
  {
   "cell_type": "code",
   "execution_count": 5,
   "id": "111a841c",
   "metadata": {},
   "outputs": [
    {
     "data": {
      "text/html": [
       "<div>\n",
       "<style scoped>\n",
       "    .dataframe tbody tr th:only-of-type {\n",
       "        vertical-align: middle;\n",
       "    }\n",
       "\n",
       "    .dataframe tbody tr th {\n",
       "        vertical-align: top;\n",
       "    }\n",
       "\n",
       "    .dataframe thead th {\n",
       "        text-align: right;\n",
       "    }\n",
       "</style>\n",
       "<table border=\"1\" class=\"dataframe\">\n",
       "  <thead>\n",
       "    <tr style=\"text-align: right;\">\n",
       "      <th></th>\n",
       "      <th>INDPRO</th>\n",
       "      <th>USEPUINDXM</th>\n",
       "      <th>future_ipro</th>\n",
       "      <th>const</th>\n",
       "    </tr>\n",
       "    <tr>\n",
       "      <th>DATE</th>\n",
       "      <th></th>\n",
       "      <th></th>\n",
       "      <th></th>\n",
       "      <th></th>\n",
       "    </tr>\n",
       "  </thead>\n",
       "  <tbody>\n",
       "    <tr>\n",
       "      <th>1985-01-01</th>\n",
       "      <td>54.7203</td>\n",
       "      <td>125.22474</td>\n",
       "      <td>54.6420</td>\n",
       "      <td>1</td>\n",
       "    </tr>\n",
       "    <tr>\n",
       "      <th>1985-02-01</th>\n",
       "      <td>54.9100</td>\n",
       "      <td>99.02081</td>\n",
       "      <td>54.8269</td>\n",
       "      <td>1</td>\n",
       "    </tr>\n",
       "  </tbody>\n",
       "</table>\n",
       "</div>"
      ],
      "text/plain": [
       "             INDPRO  USEPUINDXM  future_ipro  const\n",
       "DATE                                               \n",
       "1985-01-01  54.7203   125.22474      54.6420      1\n",
       "1985-02-01  54.9100    99.02081      54.8269      1"
      ]
     },
     "execution_count": 5,
     "metadata": {},
     "output_type": "execute_result"
    }
   ],
   "source": [
    "df['const'] = 1\n",
    "df.head(2)"
   ]
  },
  {
   "cell_type": "markdown",
   "id": "60adee65",
   "metadata": {},
   "source": [
    "Regress future industrial production (``future_ipro``) on current policy uncertainty (``USEPUINDXM``) and the constant."
   ]
  },
  {
   "cell_type": "code",
   "execution_count": 6,
   "id": "2f46aa7c",
   "metadata": {},
   "outputs": [
    {
     "name": "stdout",
     "output_type": "stream",
     "text": [
      "                            OLS Regression Results                            \n",
      "==============================================================================\n",
      "Dep. Variable:            future_ipro   R-squared:                       0.001\n",
      "Model:                            OLS   Adj. R-squared:                 -0.001\n",
      "Method:                 Least Squares   F-statistic:                    0.6099\n",
      "Date:                Wed, 02 Mar 2022   Prob (F-statistic):              0.435\n",
      "Time:                        14:30:22   Log-Likelihood:                -1779.2\n",
      "No. Observations:                 426   AIC:                             3562.\n",
      "Df Residuals:                     424   BIC:                             3570.\n",
      "Df Model:                           1                                         \n",
      "Covariance Type:            nonrobust                                         \n",
      "==============================================================================\n",
      "                 coef    std err          t      P>|t|      [0.025      0.975]\n",
      "------------------------------------------------------------------------------\n",
      "const         83.1545      2.475     33.600      0.000      78.290      88.019\n",
      "USEPUINDXM     0.0166      0.021      0.781      0.435      -0.025       0.058\n",
      "==============================================================================\n",
      "Omnibus:                      199.220   Durbin-Watson:                   0.004\n",
      "Prob(Omnibus):                  0.000   Jarque-Bera (JB):               49.320\n",
      "Skew:                          -0.608   Prob(JB):                     1.95e-11\n",
      "Kurtosis:                       1.860   Cond. No.                         377.\n",
      "==============================================================================\n",
      "\n",
      "Notes:\n",
      "[1] Standard Errors assume that the covariance matrix of the errors is correctly specified.\n"
     ]
    }
   ],
   "source": [
    "res = sm.OLS(endog = df['future_ipro'],\n",
    "            exog = df[['const','USEPUINDXM']],\n",
    "            missing = 'drop').fit()\n",
    "print(res.summary())"
   ]
  },
  {
   "cell_type": "markdown",
   "id": "0b2d973f",
   "metadata": {},
   "source": [
    "Print out just the regression coefficients from the regression output above."
   ]
  },
  {
   "cell_type": "code",
   "execution_count": 7,
   "id": "0c891943",
   "metadata": {},
   "outputs": [
    {
     "data": {
      "text/plain": [
       "const         83.154542\n",
       "USEPUINDXM     0.016559\n",
       "dtype: float64"
      ]
     },
     "execution_count": 7,
     "metadata": {},
     "output_type": "execute_result"
    }
   ],
   "source": [
    "res.params"
   ]
  },
  {
   "cell_type": "markdown",
   "id": "15cb30cd",
   "metadata": {},
   "source": [
    "Print out just the t-statistics from the regression output above."
   ]
  },
  {
   "cell_type": "code",
   "execution_count": 8,
   "id": "dfb8867c",
   "metadata": {},
   "outputs": [
    {
     "data": {
      "text/plain": [
       "const         33.600423\n",
       "USEPUINDXM     0.780943\n",
       "dtype: float64"
      ]
     },
     "execution_count": 8,
     "metadata": {},
     "output_type": "execute_result"
    }
   ],
   "source": [
    "res.tvalues"
   ]
  },
  {
   "cell_type": "markdown",
   "id": "1a891e41",
   "metadata": {},
   "source": [
    "Print out just the p-values from the regression output above."
   ]
  },
  {
   "cell_type": "code",
   "execution_count": 9,
   "id": "8ff75444",
   "metadata": {},
   "outputs": [
    {
     "data": {
      "text/plain": [
       "const         1.351321e-121\n",
       "USEPUINDXM     4.352720e-01\n",
       "dtype: float64"
      ]
     },
     "execution_count": 9,
     "metadata": {},
     "output_type": "execute_result"
    }
   ],
   "source": [
    "res.pvalues"
   ]
  },
  {
   "cell_type": "markdown",
   "id": "99090bce",
   "metadata": {},
   "source": [
    "Based on your regression results, is policy uncertainty a statistically significant predictor of future industrial production at the 95\\% confidence level? Why?"
   ]
  },
  {
   "cell_type": "markdown",
   "id": "48dec5e7",
   "metadata": {},
   "source": [
    "A: it is not, because the p-value of the policy uncertainty variable is not lower than 5\\%: "
   ]
  },
  {
   "cell_type": "code",
   "execution_count": 10,
   "id": "7bddf66d",
   "metadata": {},
   "outputs": [
    {
     "data": {
      "text/plain": [
       "0.43527198325229155"
      ]
     },
     "execution_count": 10,
     "metadata": {},
     "output_type": "execute_result"
    }
   ],
   "source": [
    "res.pvalues['USEPUINDXM']"
   ]
  },
  {
   "cell_type": "markdown",
   "id": "bcfe46ea",
   "metadata": {},
   "source": [
    "Given your regression results, what percentage of the total variance of industrial production can be explained by the variance in policy uncertainty?"
   ]
  },
  {
   "cell_type": "markdown",
   "id": "567ba9dc",
   "metadata": {},
   "source": [
    "A: This is given by the R-squared coefficient:"
   ]
  },
  {
   "cell_type": "code",
   "execution_count": 11,
   "id": "3407ba58",
   "metadata": {},
   "outputs": [
    {
     "data": {
      "text/plain": [
       "0.0014363102707130038"
      ]
     },
     "execution_count": 11,
     "metadata": {},
     "output_type": "execute_result"
    }
   ],
   "source": [
    "res.rsquared"
   ]
  }
 ],
 "metadata": {
  "kernelspec": {
   "display_name": "Python 3",
   "language": "python",
   "name": "python3"
  },
  "language_info": {
   "codemirror_mode": {
    "name": "ipython",
    "version": 3
   },
   "file_extension": ".py",
   "mimetype": "text/x-python",
   "name": "python",
   "nbconvert_exporter": "python",
   "pygments_lexer": "ipython3",
   "version": "3.9.7"
  },
  "toc": {
   "base_numbering": 1,
   "nav_menu": {},
   "number_sections": true,
   "sideBar": true,
   "skip_h1_title": false,
   "title_cell": "Table of Contents",
   "title_sidebar": "Contents",
   "toc_cell": false,
   "toc_position": {},
   "toc_section_display": true,
   "toc_window_display": false
  }
 },
 "nbformat": 4,
 "nbformat_minor": 5
}
