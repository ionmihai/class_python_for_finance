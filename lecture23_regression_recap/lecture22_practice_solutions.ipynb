{
 "cells": [
  {
   "cell_type": "markdown",
   "id": "7603abd3",
   "metadata": {},
   "source": [
    "Run the cells below:"
   ]
  },
  {
   "cell_type": "code",
   "execution_count": 1,
   "id": "e71a8075",
   "metadata": {},
   "outputs": [],
   "source": [
    "import pandas as pd\n",
    "import statsmodels.api as sm\n",
    "import pandas_datareader as pdr"
   ]
  },
  {
   "cell_type": "markdown",
   "id": "5c1e1a40",
   "metadata": {},
   "source": [
    "From the St. Louis FRED, download data on monthly US industrial production ('IPROD') and US policy uncertainty ('USEPUINDXM') from 1985 to 2020 (inclusive). "
   ]
  },
  {
   "cell_type": "code",
   "execution_count": 2,
   "id": "443b9ea4",
   "metadata": {},
   "outputs": [
    {
     "data": {
      "text/html": [
       "<div>\n",
       "<style scoped>\n",
       "    .dataframe tbody tr th:only-of-type {\n",
       "        vertical-align: middle;\n",
       "    }\n",
       "\n",
       "    .dataframe tbody tr th {\n",
       "        vertical-align: top;\n",
       "    }\n",
       "\n",
       "    .dataframe thead th {\n",
       "        text-align: right;\n",
       "    }\n",
       "</style>\n",
       "<table border=\"1\" class=\"dataframe\">\n",
       "  <thead>\n",
       "    <tr style=\"text-align: right;\">\n",
       "      <th></th>\n",
       "      <th>IPRO</th>\n",
       "      <th>EPU</th>\n",
       "    </tr>\n",
       "    <tr>\n",
       "      <th>DATE</th>\n",
       "      <th></th>\n",
       "      <th></th>\n",
       "    </tr>\n",
       "  </thead>\n",
       "  <tbody>\n",
       "    <tr>\n",
       "      <th>1985-01-01</th>\n",
       "      <td>54.7203</td>\n",
       "      <td>125.22474</td>\n",
       "    </tr>\n",
       "    <tr>\n",
       "      <th>1985-02-01</th>\n",
       "      <td>54.9100</td>\n",
       "      <td>99.02081</td>\n",
       "    </tr>\n",
       "    <tr>\n",
       "      <th>1985-03-01</th>\n",
       "      <td>54.9841</td>\n",
       "      <td>112.19051</td>\n",
       "    </tr>\n",
       "    <tr>\n",
       "      <th>1985-04-01</th>\n",
       "      <td>54.8853</td>\n",
       "      <td>102.81133</td>\n",
       "    </tr>\n",
       "    <tr>\n",
       "      <th>1985-05-01</th>\n",
       "      <td>54.9520</td>\n",
       "      <td>120.08273</td>\n",
       "    </tr>\n",
       "  </tbody>\n",
       "</table>\n",
       "</div>"
      ],
      "text/plain": [
       "               IPRO        EPU\n",
       "DATE                          \n",
       "1985-01-01  54.7203  125.22474\n",
       "1985-02-01  54.9100   99.02081\n",
       "1985-03-01  54.9841  112.19051\n",
       "1985-04-01  54.8853  102.81133\n",
       "1985-05-01  54.9520  120.08273"
      ]
     },
     "execution_count": 2,
     "metadata": {},
     "output_type": "execute_result"
    }
   ],
   "source": [
    "df = pdr.DataReader(name=['INDPRO','USEPUINDXM'], data_source='fred',\n",
    "                   start = '1985-01-01', end = '2020-12-31')\n",
    "\n",
    "df.rename(columns = {'INDPRO':'IPRO', 'USEPUINDXM':'EPU'}, inplace = True)\n",
    "df.head()"
   ]
  },
  {
   "cell_type": "code",
   "execution_count": 3,
   "id": "e18e95c7",
   "metadata": {},
   "outputs": [
    {
     "data": {
      "text/html": [
       "<div>\n",
       "<style scoped>\n",
       "    .dataframe tbody tr th:only-of-type {\n",
       "        vertical-align: middle;\n",
       "    }\n",
       "\n",
       "    .dataframe tbody tr th {\n",
       "        vertical-align: top;\n",
       "    }\n",
       "\n",
       "    .dataframe thead th {\n",
       "        text-align: right;\n",
       "    }\n",
       "</style>\n",
       "<table border=\"1\" class=\"dataframe\">\n",
       "  <thead>\n",
       "    <tr style=\"text-align: right;\">\n",
       "      <th></th>\n",
       "      <th>IPRO</th>\n",
       "      <th>EPU</th>\n",
       "      <th>future_IPRO</th>\n",
       "      <th>const</th>\n",
       "    </tr>\n",
       "    <tr>\n",
       "      <th>DATE</th>\n",
       "      <th></th>\n",
       "      <th></th>\n",
       "      <th></th>\n",
       "      <th></th>\n",
       "    </tr>\n",
       "  </thead>\n",
       "  <tbody>\n",
       "    <tr>\n",
       "      <th>1985-01-01</th>\n",
       "      <td>54.7203</td>\n",
       "      <td>125.22474</td>\n",
       "      <td>54.6420</td>\n",
       "      <td>1</td>\n",
       "    </tr>\n",
       "    <tr>\n",
       "      <th>1985-02-01</th>\n",
       "      <td>54.9100</td>\n",
       "      <td>99.02081</td>\n",
       "      <td>54.8269</td>\n",
       "      <td>1</td>\n",
       "    </tr>\n",
       "    <tr>\n",
       "      <th>1985-03-01</th>\n",
       "      <td>54.9841</td>\n",
       "      <td>112.19051</td>\n",
       "      <td>55.0447</td>\n",
       "      <td>1</td>\n",
       "    </tr>\n",
       "    <tr>\n",
       "      <th>1985-04-01</th>\n",
       "      <td>54.8853</td>\n",
       "      <td>102.81133</td>\n",
       "      <td>54.8418</td>\n",
       "      <td>1</td>\n",
       "    </tr>\n",
       "    <tr>\n",
       "      <th>1985-05-01</th>\n",
       "      <td>54.9520</td>\n",
       "      <td>120.08273</td>\n",
       "      <td>55.0381</td>\n",
       "      <td>1</td>\n",
       "    </tr>\n",
       "    <tr>\n",
       "      <th>...</th>\n",
       "      <td>...</td>\n",
       "      <td>...</td>\n",
       "      <td>...</td>\n",
       "      <td>...</td>\n",
       "    </tr>\n",
       "    <tr>\n",
       "      <th>2020-02-01</th>\n",
       "      <td>101.3247</td>\n",
       "      <td>160.51564</td>\n",
       "      <td>95.8924</td>\n",
       "      <td>1</td>\n",
       "    </tr>\n",
       "    <tr>\n",
       "      <th>2020-03-01</th>\n",
       "      <td>97.4477</td>\n",
       "      <td>283.14722</td>\n",
       "      <td>95.6019</td>\n",
       "      <td>1</td>\n",
       "    </tr>\n",
       "    <tr>\n",
       "      <th>2020-04-01</th>\n",
       "      <td>84.2018</td>\n",
       "      <td>268.61639</td>\n",
       "      <td>96.6454</td>\n",
       "      <td>1</td>\n",
       "    </tr>\n",
       "    <tr>\n",
       "      <th>2020-05-01</th>\n",
       "      <td>85.8434</td>\n",
       "      <td>350.45984</td>\n",
       "      <td>97.1609</td>\n",
       "      <td>1</td>\n",
       "    </tr>\n",
       "    <tr>\n",
       "      <th>2020-06-01</th>\n",
       "      <td>91.1622</td>\n",
       "      <td>231.25978</td>\n",
       "      <td>98.2854</td>\n",
       "      <td>1</td>\n",
       "    </tr>\n",
       "  </tbody>\n",
       "</table>\n",
       "<p>426 rows × 4 columns</p>\n",
       "</div>"
      ],
      "text/plain": [
       "                IPRO        EPU  future_IPRO  const\n",
       "DATE                                               \n",
       "1985-01-01   54.7203  125.22474      54.6420      1\n",
       "1985-02-01   54.9100   99.02081      54.8269      1\n",
       "1985-03-01   54.9841  112.19051      55.0447      1\n",
       "1985-04-01   54.8853  102.81133      54.8418      1\n",
       "1985-05-01   54.9520  120.08273      55.0381      1\n",
       "...              ...        ...          ...    ...\n",
       "2020-02-01  101.3247  160.51564      95.8924      1\n",
       "2020-03-01   97.4477  283.14722      95.6019      1\n",
       "2020-04-01   84.2018  268.61639      96.6454      1\n",
       "2020-05-01   85.8434  350.45984      97.1609      1\n",
       "2020-06-01   91.1622  231.25978      98.2854      1\n",
       "\n",
       "[426 rows x 4 columns]"
      ]
     },
     "execution_count": 3,
     "metadata": {},
     "output_type": "execute_result"
    }
   ],
   "source": [
    "df['future_IPRO'] = df['IPRO'].shift(-6)\n",
    "df['const'] = 1\n",
    "df = df.dropna()\n",
    "df"
   ]
  },
  {
   "cell_type": "markdown",
   "id": "98f17961",
   "metadata": {},
   "source": [
    "Create autocorrelation plots for ``EPU`` and ``future_IPRO``."
   ]
  },
  {
   "cell_type": "code",
   "execution_count": 4,
   "id": "008f2ca3",
   "metadata": {},
   "outputs": [
    {
     "data": {
      "image/png": "[encoded data removed]",
      "text/plain": [
       "<Figure size 432x288 with 1 Axes>"
      ]
     },
     "metadata": {
      "needs_background": "light"
     },
     "output_type": "display_data"
    }
   ],
   "source": [
    "pd.plotting.autocorrelation_plot(df['future_IPRO']);"
   ]
  },
  {
   "cell_type": "code",
   "execution_count": 5,
   "id": "6bd35a5e",
   "metadata": {},
   "outputs": [
    {
     "data": {
      "image/png": "[encoded data removed]",
      "text/plain": [
       "<Figure size 432x288 with 1 Axes>"
      ]
     },
     "metadata": {
      "needs_background": "light"
     },
     "output_type": "display_data"
    }
   ],
   "source": [
    "pd.plotting.autocorrelation_plot(df['EPU']);"
   ]
  },
  {
   "cell_type": "markdown",
   "id": "976ae10d",
   "metadata": {},
   "source": [
    "Test if ``EPU`` and ``future_IPRO`` are non-stationary at the 95\\% confidence level."
   ]
  },
  {
   "cell_type": "code",
   "execution_count": 6,
   "id": "8f2ad5e3",
   "metadata": {},
   "outputs": [],
   "source": [
    "import statsmodels.tsa.stattools as st"
   ]
  },
  {
   "cell_type": "code",
   "execution_count": 7,
   "id": "bb15bfd1",
   "metadata": {},
   "outputs": [
    {
     "name": "stdout",
     "output_type": "stream",
     "text": [
      "P-value =  0.3851450432441017\n"
     ]
    }
   ],
   "source": [
    "future_ipro_adf = st.adfuller(df['future_IPRO'])\n",
    "print(\"P-value = \", future_ipro_adf[1])"
   ]
  },
  {
   "cell_type": "code",
   "execution_count": 8,
   "id": "e5c73bba",
   "metadata": {},
   "outputs": [
    {
     "name": "stdout",
     "output_type": "stream",
     "text": [
      "P-value =  0.6246983009254627\n"
     ]
    }
   ],
   "source": [
    "future_epu_adf = st.adfuller(df['EPU'])\n",
    "print(\"P-value = \", future_epu_adf[1])"
   ]
  },
  {
   "cell_type": "markdown",
   "id": "1c50258e",
   "metadata": {},
   "source": [
    "A: both of the above p-values are larger than 5\\%, so we can not reject non-stationarity for either ``EPU`` or ``future_IPRO``."
   ]
  },
  {
   "cell_type": "markdown",
   "id": "719a9e89",
   "metadata": {},
   "source": [
    "Create 12-month differences (current value minus value from 12 months ago) in both ``EPU`` and ``future_IPRO``. Call these variables ``diff_EPU`` and ``diff_IPRO``."
   ]
  },
  {
   "cell_type": "code",
   "execution_count": 9,
   "id": "7c4aa78f",
   "metadata": {},
   "outputs": [
    {
     "data": {
      "text/html": [
       "<div>\n",
       "<style scoped>\n",
       "    .dataframe tbody tr th:only-of-type {\n",
       "        vertical-align: middle;\n",
       "    }\n",
       "\n",
       "    .dataframe tbody tr th {\n",
       "        vertical-align: top;\n",
       "    }\n",
       "\n",
       "    .dataframe thead th {\n",
       "        text-align: right;\n",
       "    }\n",
       "</style>\n",
       "<table border=\"1\" class=\"dataframe\">\n",
       "  <thead>\n",
       "    <tr style=\"text-align: right;\">\n",
       "      <th></th>\n",
       "      <th>IPRO</th>\n",
       "      <th>EPU</th>\n",
       "      <th>future_IPRO</th>\n",
       "      <th>const</th>\n",
       "      <th>diff_EPU</th>\n",
       "      <th>diff_IPRO</th>\n",
       "    </tr>\n",
       "    <tr>\n",
       "      <th>DATE</th>\n",
       "      <th></th>\n",
       "      <th></th>\n",
       "      <th></th>\n",
       "      <th></th>\n",
       "      <th></th>\n",
       "      <th></th>\n",
       "    </tr>\n",
       "  </thead>\n",
       "  <tbody>\n",
       "    <tr>\n",
       "      <th>1985-01-01</th>\n",
       "      <td>54.7203</td>\n",
       "      <td>125.22474</td>\n",
       "      <td>54.6420</td>\n",
       "      <td>1</td>\n",
       "      <td>NaN</td>\n",
       "      <td>NaN</td>\n",
       "    </tr>\n",
       "    <tr>\n",
       "      <th>1985-02-01</th>\n",
       "      <td>54.9100</td>\n",
       "      <td>99.02081</td>\n",
       "      <td>54.8269</td>\n",
       "      <td>1</td>\n",
       "      <td>NaN</td>\n",
       "      <td>NaN</td>\n",
       "    </tr>\n",
       "    <tr>\n",
       "      <th>1985-03-01</th>\n",
       "      <td>54.9841</td>\n",
       "      <td>112.19051</td>\n",
       "      <td>55.0447</td>\n",
       "      <td>1</td>\n",
       "      <td>NaN</td>\n",
       "      <td>NaN</td>\n",
       "    </tr>\n",
       "    <tr>\n",
       "      <th>1985-04-01</th>\n",
       "      <td>54.8853</td>\n",
       "      <td>102.81133</td>\n",
       "      <td>54.8418</td>\n",
       "      <td>1</td>\n",
       "      <td>NaN</td>\n",
       "      <td>NaN</td>\n",
       "    </tr>\n",
       "    <tr>\n",
       "      <th>1985-05-01</th>\n",
       "      <td>54.9520</td>\n",
       "      <td>120.08273</td>\n",
       "      <td>55.0381</td>\n",
       "      <td>1</td>\n",
       "      <td>NaN</td>\n",
       "      <td>NaN</td>\n",
       "    </tr>\n",
       "  </tbody>\n",
       "</table>\n",
       "</div>"
      ],
      "text/plain": [
       "               IPRO        EPU  future_IPRO  const  diff_EPU  diff_IPRO\n",
       "DATE                                                                   \n",
       "1985-01-01  54.7203  125.22474      54.6420      1       NaN        NaN\n",
       "1985-02-01  54.9100   99.02081      54.8269      1       NaN        NaN\n",
       "1985-03-01  54.9841  112.19051      55.0447      1       NaN        NaN\n",
       "1985-04-01  54.8853  102.81133      54.8418      1       NaN        NaN\n",
       "1985-05-01  54.9520  120.08273      55.0381      1       NaN        NaN"
      ]
     },
     "execution_count": 9,
     "metadata": {},
     "output_type": "execute_result"
    }
   ],
   "source": [
    "df[['diff_EPU','diff_IPRO']] = df[['EPU','future_IPRO']].diff(12)\n",
    "df.head()"
   ]
  },
  {
   "cell_type": "markdown",
   "id": "40c4f753",
   "metadata": {},
   "source": [
    "Test if ``diff_EPU`` and ``diff_IPRO`` are non-stationary at the 95\\% confidence level."
   ]
  },
  {
   "cell_type": "code",
   "execution_count": 10,
   "id": "88953be5",
   "metadata": {},
   "outputs": [
    {
     "name": "stdout",
     "output_type": "stream",
     "text": [
      "P-value =  0.004368152079216065\n"
     ]
    }
   ],
   "source": [
    "future_ipro_adf = st.adfuller(df['diff_IPRO'].dropna())\n",
    "print(\"P-value = \", future_ipro_adf[1])"
   ]
  },
  {
   "cell_type": "code",
   "execution_count": 11,
   "id": "aecff8ec",
   "metadata": {},
   "outputs": [
    {
     "name": "stdout",
     "output_type": "stream",
     "text": [
      "P-value =  0.045376210754213143\n"
     ]
    }
   ],
   "source": [
    "future_epu_adf = st.adfuller(df['diff_EPU'].dropna())\n",
    "print(\"P-value = \", future_epu_adf[1])"
   ]
  },
  {
   "cell_type": "markdown",
   "id": "420586b5",
   "metadata": {},
   "source": [
    "A: both of the above p-values are smaller than 5\\%, so we can reject non-stationarity for both ``EPU`` and ``future_IPRO``."
   ]
  },
  {
   "cell_type": "markdown",
   "id": "2167d917",
   "metadata": {},
   "source": [
    "Regress ``diff_IPRO`` on ``diff_EPU`` (and a constant). Use a heteroskedasticity-and-autocorrelation consistent (HAC) covariance estimator to control for autocorrelated standard errors."
   ]
  },
  {
   "cell_type": "code",
   "execution_count": 12,
   "id": "6d3b5acc",
   "metadata": {},
   "outputs": [],
   "source": [
    "res = sm.OLS(endog = df['diff_IPRO'],\n",
    "            exog = df[['const','diff_EPU']],\n",
    "            missing = 'drop').fit()"
   ]
  },
  {
   "cell_type": "code",
   "execution_count": 13,
   "id": "02e450f3",
   "metadata": {},
   "outputs": [
    {
     "data": {
      "text/plain": [
       "4.51076378780532"
      ]
     },
     "execution_count": 13,
     "metadata": {},
     "output_type": "execute_result"
    }
   ],
   "source": [
    "res.nobs**0.25"
   ]
  },
  {
   "cell_type": "code",
   "execution_count": 14,
   "id": "1824e29f",
   "metadata": {},
   "outputs": [
    {
     "name": "stdout",
     "output_type": "stream",
     "text": [
      "                            OLS Regression Results                            \n",
      "==============================================================================\n",
      "Dep. Variable:              diff_IPRO   R-squared:                       0.161\n",
      "Model:                            OLS   Adj. R-squared:                  0.159\n",
      "Method:                 Least Squares   F-statistic:                     21.44\n",
      "Date:                Thu, 03 Mar 2022   Prob (F-statistic):           4.90e-06\n",
      "Time:                        11:30:27   Log-Likelihood:                -1100.4\n",
      "No. Observations:                 414   AIC:                             2205.\n",
      "Df Residuals:                     412   BIC:                             2213.\n",
      "Df Model:                           1                                         \n",
      "Covariance Type:                  HAC                                         \n",
      "==============================================================================\n",
      "                 coef    std err          t      P>|t|      [0.025      0.975]\n",
      "------------------------------------------------------------------------------\n",
      "const          1.2400      0.334      3.717      0.000       0.584       1.896\n",
      "diff_EPU      -0.0421      0.009     -4.630      0.000      -0.060      -0.024\n",
      "==============================================================================\n",
      "Omnibus:                      213.658   Durbin-Watson:                   0.234\n",
      "Prob(Omnibus):                  0.000   Jarque-Bera (JB):             1270.942\n",
      "Skew:                          -2.194   Prob(JB):                    1.04e-276\n",
      "Kurtosis:                      10.377   Cond. No.                         36.1\n",
      "==============================================================================\n",
      "\n",
      "Notes:\n",
      "[1] Standard Errors are heteroscedasticity and autocorrelation robust (HAC) using 4 lags and without small sample correction\n"
     ]
    }
   ],
   "source": [
    "results_hac = res.get_robustcov_results(cov_type = 'HAC', maxlags = 4)\n",
    "print(results_hac.summary())"
   ]
  },
  {
   "cell_type": "markdown",
   "id": "4320ce8a",
   "metadata": {},
   "source": [
    "Using the results of your regression, is policy uncertainty a significant predictor of future industrial production at the 95\\% confidence level?"
   ]
  },
  {
   "cell_type": "markdown",
   "id": "bed3f757",
   "metadata": {},
   "source": [
    "A: Yes, because the p-value of the ``diff_EPU`` coefficient is smaller than 5\\%:"
   ]
  },
  {
   "cell_type": "code",
   "execution_count": 15,
   "id": "636e3072",
   "metadata": {},
   "outputs": [
    {
     "data": {
      "text/plain": [
       "array([2.29793173e-04, 4.90310579e-06])"
      ]
     },
     "execution_count": 15,
     "metadata": {},
     "output_type": "execute_result"
    }
   ],
   "source": [
    "results_hac.pvalues "
   ]
  }
 ],
 "metadata": {
  "kernelspec": {
   "display_name": "Python 3",
   "language": "python",
   "name": "python3"
  },
  "language_info": {
   "codemirror_mode": {
    "name": "ipython",
    "version": 3
   },
   "file_extension": ".py",
   "mimetype": "text/x-python",
   "name": "python",
   "nbconvert_exporter": "python",
   "pygments_lexer": "ipython3",
   "version": "3.9.7"
  },
  "toc": {
   "base_numbering": 1,
   "nav_menu": {},
   "number_sections": true,
   "sideBar": true,
   "skip_h1_title": false,
   "title_cell": "Table of Contents",
   "title_sidebar": "Contents",
   "toc_cell": false,
   "toc_position": {},
   "toc_section_display": true,
   "toc_window_display": false
  }
 },
 "nbformat": 4,
 "nbformat_minor": 5
}
