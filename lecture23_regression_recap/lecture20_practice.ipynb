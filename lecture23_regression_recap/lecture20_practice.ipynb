{
 "cells": [
  {
   "cell_type": "markdown",
   "id": "a99b97e7",
   "metadata": {},
   "source": [
    "Run the cells below:"
   ]
  },
  {
   "cell_type": "code",
   "execution_count": null,
   "id": "f47efa30",
   "metadata": {},
   "outputs": [],
   "source": [
    "import pandas as pd\n",
    "import statsmodels.api as sm"
   ]
  },
  {
   "cell_type": "code",
   "execution_count": null,
   "id": "d77da7be",
   "metadata": {},
   "outputs": [],
   "source": [
    "comp = pd.read_pickle('../data/comp_clean.zip')\n",
    "comp.dtypes"
   ]
  },
  {
   "cell_type": "markdown",
   "id": "4998d5da",
   "metadata": {},
   "source": [
    "Create a new variable called ``future_invest`` which tells us the firm's ``investment`` in the following year."
   ]
  },
  {
   "cell_type": "code",
   "execution_count": null,
   "id": "0b573e7d",
   "metadata": {},
   "outputs": [],
   "source": []
  },
  {
   "cell_type": "markdown",
   "id": "9a62bb69",
   "metadata": {},
   "source": [
    "Produce a table that gives us only the mean and standard deviation of ``future_invest``, ``roa`` and ``cash``."
   ]
  },
  {
   "cell_type": "code",
   "execution_count": null,
   "id": "b7fa7820",
   "metadata": {},
   "outputs": [],
   "source": []
  },
  {
   "cell_type": "markdown",
   "id": "75f1e736",
   "metadata": {},
   "source": [
    "Winsorize ``future_invest``, ``roa`` and ``cash`` at the 5 and 95\\% level. Call the winsorized variables ``w5_future_invest``, ``w5_roa`` and ``w5_cash``. Then produce a table that gives us just their mean and standard deviations."
   ]
  },
  {
   "cell_type": "code",
   "execution_count": null,
   "id": "f2665c2e",
   "metadata": {},
   "outputs": [],
   "source": []
  },
  {
   "cell_type": "markdown",
   "id": "0b038bac",
   "metadata": {},
   "source": [
    "Regress ``w5_future_invest`` on ``w5_roa``, ``w5_cash`` and a constant. Print the results of your regression."
   ]
  },
  {
   "cell_type": "code",
   "execution_count": null,
   "id": "65688a3a",
   "metadata": {},
   "outputs": [],
   "source": []
  },
  {
   "cell_type": "markdown",
   "id": "3817be9a",
   "metadata": {},
   "source": [
    "Normalize the ``w5_future_invest``, ``w5_roa`` and ``w5_cash`` variables (subtract the mean and divide by the standard deviation). Call these normalized variables ``n_future_invest``, ``n_roa`` and ``n_cash``. Then produce a table that gives us their mean and standard deviation."
   ]
  },
  {
   "cell_type": "code",
   "execution_count": null,
   "id": "14447f61",
   "metadata": {},
   "outputs": [],
   "source": []
  },
  {
   "cell_type": "markdown",
   "id": "b52eddec",
   "metadata": {},
   "source": [
    "Regress ``n_future_invest`` on ``n_roa`` and ``n_cash`` (and a constant). Print the results of your regression."
   ]
  },
  {
   "cell_type": "code",
   "execution_count": null,
   "id": "d5fa0dae",
   "metadata": {},
   "outputs": [],
   "source": []
  },
  {
   "cell_type": "markdown",
   "id": "98a7fd71",
   "metadata": {},
   "source": [
    "Given the results in the last regression, what is the estimated effect on future investment of increasing ROA by one standard deviation today?"
   ]
  },
  {
   "cell_type": "markdown",
   "id": "0a146b7c",
   "metadata": {},
   "source": [
    "A: "
   ]
  },
  {
   "cell_type": "code",
   "execution_count": null,
   "id": "a446720c",
   "metadata": {},
   "outputs": [],
   "source": []
  }
 ],
 "metadata": {
  "kernelspec": {
   "display_name": "Python 3",
   "language": "python",
   "name": "python3"
  },
  "language_info": {
   "codemirror_mode": {
    "name": "ipython",
    "version": 3
   },
   "file_extension": ".py",
   "mimetype": "text/x-python",
   "name": "python",
   "nbconvert_exporter": "python",
   "pygments_lexer": "ipython3",
   "version": "3.9.7"
  },
  "toc": {
   "base_numbering": 1,
   "nav_menu": {},
   "number_sections": true,
   "sideBar": true,
   "skip_h1_title": false,
   "title_cell": "Table of Contents",
   "title_sidebar": "Contents",
   "toc_cell": false,
   "toc_position": {},
   "toc_section_display": true,
   "toc_window_display": false
  }
 },
 "nbformat": 4,
 "nbformat_minor": 5
}
