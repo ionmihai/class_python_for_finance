{
 "cells": [
  {
   "cell_type": "markdown",
   "id": "d5368924",
   "metadata": {},
   "source": [
    "Run the cell below:"
   ]
  },
  {
   "cell_type": "code",
   "execution_count": null,
   "id": "09b4bc38",
   "metadata": {},
   "outputs": [],
   "source": [
    "import pandas as pd\n",
    "import statsmodels.api as sm\n",
    "import pandas_datareader as pdr"
   ]
  },
  {
   "cell_type": "markdown",
   "id": "9aff642a",
   "metadata": {},
   "source": [
    "From the St. Louis FRED, download data on monthly US industrial production ('IPROD') and US policy uncertainty ('USEPUINDXM') from 1985 to 2020 (inclusive). "
   ]
  },
  {
   "cell_type": "code",
   "execution_count": null,
   "id": "d2da0b42",
   "metadata": {},
   "outputs": [],
   "source": []
  },
  {
   "cell_type": "markdown",
   "id": "357771a6",
   "metadata": {},
   "source": [
    "Plot both series, in separate subplots of the same graph."
   ]
  },
  {
   "cell_type": "code",
   "execution_count": null,
   "id": "c3a76a90",
   "metadata": {},
   "outputs": [],
   "source": []
  },
  {
   "cell_type": "markdown",
   "id": "3a2f74b6",
   "metadata": {},
   "source": [
    "Create a new variable called ``future_ipro``, which gives us the industrial production from 6 months into the future."
   ]
  },
  {
   "cell_type": "code",
   "execution_count": null,
   "id": "af1e2ccb",
   "metadata": {},
   "outputs": [],
   "source": []
  },
  {
   "cell_type": "markdown",
   "id": "5b2ecafb",
   "metadata": {},
   "source": [
    "Create a column of 1's and call it ``const``."
   ]
  },
  {
   "cell_type": "code",
   "execution_count": null,
   "id": "111a841c",
   "metadata": {},
   "outputs": [],
   "source": []
  },
  {
   "cell_type": "markdown",
   "id": "60adee65",
   "metadata": {},
   "source": [
    "Regress future industrial production (``future_ipro``) on current policy uncertainty (``USEPUINDXM``) and the constant."
   ]
  },
  {
   "cell_type": "code",
   "execution_count": null,
   "id": "2f46aa7c",
   "metadata": {},
   "outputs": [],
   "source": []
  },
  {
   "cell_type": "markdown",
   "id": "0b2d973f",
   "metadata": {},
   "source": [
    "Print out just the regression coefficients from the regression output above."
   ]
  },
  {
   "cell_type": "code",
   "execution_count": null,
   "id": "0c891943",
   "metadata": {},
   "outputs": [],
   "source": []
  },
  {
   "cell_type": "markdown",
   "id": "15cb30cd",
   "metadata": {},
   "source": [
    "Print out just the t-statistics from the regression output above."
   ]
  },
  {
   "cell_type": "code",
   "execution_count": null,
   "id": "dfb8867c",
   "metadata": {},
   "outputs": [],
   "source": []
  },
  {
   "cell_type": "markdown",
   "id": "1a891e41",
   "metadata": {},
   "source": [
    "Print out just the p-values from the regression output above."
   ]
  },
  {
   "cell_type": "code",
   "execution_count": null,
   "id": "8ff75444",
   "metadata": {},
   "outputs": [],
   "source": []
  },
  {
   "cell_type": "markdown",
   "id": "99090bce",
   "metadata": {},
   "source": [
    "Based on your regression results, is policy uncertainty a statistically significant predictor of future industrial production at the 95\\% confidence level? Why?"
   ]
  },
  {
   "cell_type": "markdown",
   "id": "48dec5e7",
   "metadata": {},
   "source": [
    "A:"
   ]
  },
  {
   "cell_type": "code",
   "execution_count": null,
   "id": "7bddf66d",
   "metadata": {},
   "outputs": [],
   "source": []
  },
  {
   "cell_type": "markdown",
   "id": "bcfe46ea",
   "metadata": {},
   "source": [
    "Given your regression results, what percentage of the total variance of industrial production can be explained by the variance in policy uncertainty?"
   ]
  },
  {
   "cell_type": "markdown",
   "id": "567ba9dc",
   "metadata": {},
   "source": [
    "A:"
   ]
  },
  {
   "cell_type": "code",
   "execution_count": null,
   "id": "3407ba58",
   "metadata": {},
   "outputs": [],
   "source": []
  }
 ],
 "metadata": {
  "kernelspec": {
   "display_name": "Python 3",
   "language": "python",
   "name": "python3"
  },
  "language_info": {
   "codemirror_mode": {
    "name": "ipython",
    "version": 3
   },
   "file_extension": ".py",
   "mimetype": "text/x-python",
   "name": "python",
   "nbconvert_exporter": "python",
   "pygments_lexer": "ipython3",
   "version": "3.9.7"
  },
  "toc": {
   "base_numbering": 1,
   "nav_menu": {},
   "number_sections": true,
   "sideBar": true,
   "skip_h1_title": false,
   "title_cell": "Table of Contents",
   "title_sidebar": "Contents",
   "toc_cell": false,
   "toc_position": {},
   "toc_section_display": true,
   "toc_window_display": false
  }
 },
 "nbformat": 4,
 "nbformat_minor": 5
}
