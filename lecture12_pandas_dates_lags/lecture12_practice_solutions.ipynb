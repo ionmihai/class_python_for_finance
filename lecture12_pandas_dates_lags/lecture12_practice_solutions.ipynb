{
 "cells": [
  {
   "cell_type": "markdown",
   "id": "b554ecc1",
   "metadata": {},
   "source": [
    "Run the cell below:"
   ]
  },
  {
   "cell_type": "code",
   "execution_count": 1,
   "id": "c273f254",
   "metadata": {},
   "outputs": [],
   "source": [
    "import pandas as pd"
   ]
  },
  {
   "cell_type": "markdown",
   "id": "b4f3ce1c",
   "metadata": {},
   "source": [
    "If you have not done so already, download the \"compa.zip\", \"crspm.zip\" and \"ff.zip\" files from the \"Lectures and Data / data\" tab in D2L into a \"data\" folder on your computer (located outside the folder containing this file, as explained in ``lecture00``)."
   ]
  },
  {
   "cell_type": "markdown",
   "id": "87b2cb31",
   "metadata": {},
   "source": [
    "Load the CRSP monthly market data (\"crspm.zip\") into a new dataframe called ``crsp``. Print all the data types in ``crsp``."
   ]
  },
  {
   "cell_type": "code",
   "execution_count": 2,
   "id": "884d1067",
   "metadata": {},
   "outputs": [
    {
     "data": {
      "text/plain": [
       "permno    float64\n",
       "permco    float64\n",
       "date       object\n",
       "prc       float64\n",
       "ret       float64\n",
       "shrout    float64\n",
       "shrcd     float64\n",
       "exchcd    float64\n",
       "siccd     float64\n",
       "ticker     object\n",
       "dtype: object"
      ]
     },
     "execution_count": 2,
     "metadata": {},
     "output_type": "execute_result"
    }
   ],
   "source": [
    "crsp = pd.read_pickle('../data/crspm.zip')\n",
    "crsp.dtypes"
   ]
  },
  {
   "cell_type": "markdown",
   "id": "af7b3a97",
   "metadata": {},
   "source": [
    "Convert the ``date`` column to ``datetime`` type. Print all the data types again."
   ]
  },
  {
   "cell_type": "code",
   "execution_count": 3,
   "id": "b3e6397a",
   "metadata": {},
   "outputs": [
    {
     "data": {
      "text/plain": [
       "permno           float64\n",
       "permco           float64\n",
       "date      datetime64[ns]\n",
       "prc              float64\n",
       "ret              float64\n",
       "shrout           float64\n",
       "shrcd            float64\n",
       "exchcd           float64\n",
       "siccd            float64\n",
       "ticker            object\n",
       "dtype: object"
      ]
     },
     "execution_count": 3,
     "metadata": {},
     "output_type": "execute_result"
    }
   ],
   "source": [
    "crsp['date'] = pd.to_datetime(crsp['date'])\n",
    "crsp.dtypes"
   ]
  },
  {
   "cell_type": "markdown",
   "id": "77bb9b72",
   "metadata": {},
   "source": [
    "Create a new column called ``mdate`` which contains a version of ``date`` converted to ``period`` type, with monthly frequency."
   ]
  },
  {
   "cell_type": "code",
   "execution_count": 4,
   "id": "f7c05024",
   "metadata": {},
   "outputs": [
    {
     "data": {
      "text/plain": [
       "permno           float64\n",
       "permco           float64\n",
       "date      datetime64[ns]\n",
       "prc              float64\n",
       "ret              float64\n",
       "shrout           float64\n",
       "shrcd            float64\n",
       "exchcd           float64\n",
       "siccd            float64\n",
       "ticker            object\n",
       "mdate          period[M]\n",
       "dtype: object"
      ]
     },
     "execution_count": 4,
     "metadata": {},
     "output_type": "execute_result"
    }
   ],
   "source": [
    "crsp['mdate'] = crsp['date'].dt.to_period('M')\n",
    "crsp.dtypes"
   ]
  },
  {
   "cell_type": "markdown",
   "id": "c28a7b2b",
   "metadata": {},
   "source": [
    "Create a new column called ``date_6M_ago`` which equals the date 6 months prior to the date recorded in ``mdate``."
   ]
  },
  {
   "cell_type": "code",
   "execution_count": 5,
   "id": "112e1f17",
   "metadata": {},
   "outputs": [
    {
     "data": {
      "text/html": [
       "<div>\n",
       "<style scoped>\n",
       "    .dataframe tbody tr th:only-of-type {\n",
       "        vertical-align: middle;\n",
       "    }\n",
       "\n",
       "    .dataframe tbody tr th {\n",
       "        vertical-align: top;\n",
       "    }\n",
       "\n",
       "    .dataframe thead th {\n",
       "        text-align: right;\n",
       "    }\n",
       "</style>\n",
       "<table border=\"1\" class=\"dataframe\">\n",
       "  <thead>\n",
       "    <tr style=\"text-align: right;\">\n",
       "      <th></th>\n",
       "      <th>permno</th>\n",
       "      <th>permco</th>\n",
       "      <th>date</th>\n",
       "      <th>prc</th>\n",
       "      <th>ret</th>\n",
       "      <th>shrout</th>\n",
       "      <th>shrcd</th>\n",
       "      <th>exchcd</th>\n",
       "      <th>siccd</th>\n",
       "      <th>ticker</th>\n",
       "      <th>mdate</th>\n",
       "      <th>date_6M_ago</th>\n",
       "    </tr>\n",
       "  </thead>\n",
       "  <tbody>\n",
       "    <tr>\n",
       "      <th>0</th>\n",
       "      <td>10000.0</td>\n",
       "      <td>7952.0</td>\n",
       "      <td>1986-01-31</td>\n",
       "      <td>-4.375000</td>\n",
       "      <td>NaN</td>\n",
       "      <td>3680.0</td>\n",
       "      <td>10.0</td>\n",
       "      <td>3.0</td>\n",
       "      <td>3990.0</td>\n",
       "      <td>OMFGA</td>\n",
       "      <td>1986-01</td>\n",
       "      <td>1985-07</td>\n",
       "    </tr>\n",
       "    <tr>\n",
       "      <th>1</th>\n",
       "      <td>10000.0</td>\n",
       "      <td>7952.0</td>\n",
       "      <td>1986-02-28</td>\n",
       "      <td>-3.250000</td>\n",
       "      <td>-0.257143</td>\n",
       "      <td>3680.0</td>\n",
       "      <td>10.0</td>\n",
       "      <td>3.0</td>\n",
       "      <td>3990.0</td>\n",
       "      <td>OMFGA</td>\n",
       "      <td>1986-02</td>\n",
       "      <td>1985-08</td>\n",
       "    </tr>\n",
       "    <tr>\n",
       "      <th>2</th>\n",
       "      <td>10000.0</td>\n",
       "      <td>7952.0</td>\n",
       "      <td>1986-03-31</td>\n",
       "      <td>-4.437500</td>\n",
       "      <td>0.365385</td>\n",
       "      <td>3680.0</td>\n",
       "      <td>10.0</td>\n",
       "      <td>3.0</td>\n",
       "      <td>3990.0</td>\n",
       "      <td>OMFGA</td>\n",
       "      <td>1986-03</td>\n",
       "      <td>1985-09</td>\n",
       "    </tr>\n",
       "    <tr>\n",
       "      <th>3</th>\n",
       "      <td>10000.0</td>\n",
       "      <td>7952.0</td>\n",
       "      <td>1986-04-30</td>\n",
       "      <td>-4.000000</td>\n",
       "      <td>-0.098592</td>\n",
       "      <td>3793.0</td>\n",
       "      <td>10.0</td>\n",
       "      <td>3.0</td>\n",
       "      <td>3990.0</td>\n",
       "      <td>OMFGA</td>\n",
       "      <td>1986-04</td>\n",
       "      <td>1985-10</td>\n",
       "    </tr>\n",
       "    <tr>\n",
       "      <th>4</th>\n",
       "      <td>10000.0</td>\n",
       "      <td>7952.0</td>\n",
       "      <td>1986-05-30</td>\n",
       "      <td>-3.109375</td>\n",
       "      <td>-0.222656</td>\n",
       "      <td>3793.0</td>\n",
       "      <td>10.0</td>\n",
       "      <td>3.0</td>\n",
       "      <td>3990.0</td>\n",
       "      <td>OMFGA</td>\n",
       "      <td>1986-05</td>\n",
       "      <td>1985-11</td>\n",
       "    </tr>\n",
       "  </tbody>\n",
       "</table>\n",
       "</div>"
      ],
      "text/plain": [
       "    permno  permco       date       prc       ret  shrout  shrcd  exchcd  \\\n",
       "0  10000.0  7952.0 1986-01-31 -4.375000       NaN  3680.0   10.0     3.0   \n",
       "1  10000.0  7952.0 1986-02-28 -3.250000 -0.257143  3680.0   10.0     3.0   \n",
       "2  10000.0  7952.0 1986-03-31 -4.437500  0.365385  3680.0   10.0     3.0   \n",
       "3  10000.0  7952.0 1986-04-30 -4.000000 -0.098592  3793.0   10.0     3.0   \n",
       "4  10000.0  7952.0 1986-05-30 -3.109375 -0.222656  3793.0   10.0     3.0   \n",
       "\n",
       "    siccd ticker    mdate date_6M_ago  \n",
       "0  3990.0  OMFGA  1986-01     1985-07  \n",
       "1  3990.0  OMFGA  1986-02     1985-08  \n",
       "2  3990.0  OMFGA  1986-03     1985-09  \n",
       "3  3990.0  OMFGA  1986-04     1985-10  \n",
       "4  3990.0  OMFGA  1986-05     1985-11  "
      ]
     },
     "execution_count": 5,
     "metadata": {},
     "output_type": "execute_result"
    }
   ],
   "source": [
    "crsp['date_6M_ago'] = crsp['mdate'] - 6\n",
    "crsp.head()"
   ]
  },
  {
   "cell_type": "markdown",
   "id": "7f453a8b",
   "metadata": {},
   "source": [
    "Replace ``crsp`` with a version of itself sorted by the values of ``permno`` and ``date``. "
   ]
  },
  {
   "cell_type": "code",
   "execution_count": 6,
   "id": "bc2a7e39",
   "metadata": {},
   "outputs": [],
   "source": [
    "crsp = crsp.sort_values(['permno','date'])"
   ]
  },
  {
   "cell_type": "markdown",
   "id": "7b3b4cb9",
   "metadata": {},
   "source": [
    "Create a new column called ``lag6_ret`` which equals the firm's return from 6 periods (rows) prior. Use the ``.shift()`` method, with ``permno`` as the firm identifier. Then print the first 8 rows of ``crsp``."
   ]
  },
  {
   "cell_type": "code",
   "execution_count": 7,
   "id": "7c00fe30",
   "metadata": {},
   "outputs": [
    {
     "data": {
      "text/html": [
       "<div>\n",
       "<style scoped>\n",
       "    .dataframe tbody tr th:only-of-type {\n",
       "        vertical-align: middle;\n",
       "    }\n",
       "\n",
       "    .dataframe tbody tr th {\n",
       "        vertical-align: top;\n",
       "    }\n",
       "\n",
       "    .dataframe thead th {\n",
       "        text-align: right;\n",
       "    }\n",
       "</style>\n",
       "<table border=\"1\" class=\"dataframe\">\n",
       "  <thead>\n",
       "    <tr style=\"text-align: right;\">\n",
       "      <th></th>\n",
       "      <th>permno</th>\n",
       "      <th>permco</th>\n",
       "      <th>date</th>\n",
       "      <th>prc</th>\n",
       "      <th>ret</th>\n",
       "      <th>shrout</th>\n",
       "      <th>shrcd</th>\n",
       "      <th>exchcd</th>\n",
       "      <th>siccd</th>\n",
       "      <th>ticker</th>\n",
       "      <th>mdate</th>\n",
       "      <th>date_6M_ago</th>\n",
       "      <th>lag6_ret</th>\n",
       "    </tr>\n",
       "  </thead>\n",
       "  <tbody>\n",
       "    <tr>\n",
       "      <th>0</th>\n",
       "      <td>10000.0</td>\n",
       "      <td>7952.0</td>\n",
       "      <td>1986-01-31</td>\n",
       "      <td>-4.375000</td>\n",
       "      <td>NaN</td>\n",
       "      <td>3680.0</td>\n",
       "      <td>10.0</td>\n",
       "      <td>3.0</td>\n",
       "      <td>3990.0</td>\n",
       "      <td>OMFGA</td>\n",
       "      <td>1986-01</td>\n",
       "      <td>1985-07</td>\n",
       "      <td>NaN</td>\n",
       "    </tr>\n",
       "    <tr>\n",
       "      <th>1</th>\n",
       "      <td>10000.0</td>\n",
       "      <td>7952.0</td>\n",
       "      <td>1986-02-28</td>\n",
       "      <td>-3.250000</td>\n",
       "      <td>-0.257143</td>\n",
       "      <td>3680.0</td>\n",
       "      <td>10.0</td>\n",
       "      <td>3.0</td>\n",
       "      <td>3990.0</td>\n",
       "      <td>OMFGA</td>\n",
       "      <td>1986-02</td>\n",
       "      <td>1985-08</td>\n",
       "      <td>NaN</td>\n",
       "    </tr>\n",
       "    <tr>\n",
       "      <th>2</th>\n",
       "      <td>10000.0</td>\n",
       "      <td>7952.0</td>\n",
       "      <td>1986-03-31</td>\n",
       "      <td>-4.437500</td>\n",
       "      <td>0.365385</td>\n",
       "      <td>3680.0</td>\n",
       "      <td>10.0</td>\n",
       "      <td>3.0</td>\n",
       "      <td>3990.0</td>\n",
       "      <td>OMFGA</td>\n",
       "      <td>1986-03</td>\n",
       "      <td>1985-09</td>\n",
       "      <td>NaN</td>\n",
       "    </tr>\n",
       "    <tr>\n",
       "      <th>3</th>\n",
       "      <td>10000.0</td>\n",
       "      <td>7952.0</td>\n",
       "      <td>1986-04-30</td>\n",
       "      <td>-4.000000</td>\n",
       "      <td>-0.098592</td>\n",
       "      <td>3793.0</td>\n",
       "      <td>10.0</td>\n",
       "      <td>3.0</td>\n",
       "      <td>3990.0</td>\n",
       "      <td>OMFGA</td>\n",
       "      <td>1986-04</td>\n",
       "      <td>1985-10</td>\n",
       "      <td>NaN</td>\n",
       "    </tr>\n",
       "    <tr>\n",
       "      <th>4</th>\n",
       "      <td>10000.0</td>\n",
       "      <td>7952.0</td>\n",
       "      <td>1986-05-30</td>\n",
       "      <td>-3.109375</td>\n",
       "      <td>-0.222656</td>\n",
       "      <td>3793.0</td>\n",
       "      <td>10.0</td>\n",
       "      <td>3.0</td>\n",
       "      <td>3990.0</td>\n",
       "      <td>OMFGA</td>\n",
       "      <td>1986-05</td>\n",
       "      <td>1985-11</td>\n",
       "      <td>NaN</td>\n",
       "    </tr>\n",
       "    <tr>\n",
       "      <th>5</th>\n",
       "      <td>10000.0</td>\n",
       "      <td>7952.0</td>\n",
       "      <td>1986-06-30</td>\n",
       "      <td>-3.093750</td>\n",
       "      <td>-0.005025</td>\n",
       "      <td>3793.0</td>\n",
       "      <td>10.0</td>\n",
       "      <td>3.0</td>\n",
       "      <td>3990.0</td>\n",
       "      <td>OMFGA</td>\n",
       "      <td>1986-06</td>\n",
       "      <td>1985-12</td>\n",
       "      <td>NaN</td>\n",
       "    </tr>\n",
       "    <tr>\n",
       "      <th>6</th>\n",
       "      <td>10000.0</td>\n",
       "      <td>7952.0</td>\n",
       "      <td>1986-07-31</td>\n",
       "      <td>-2.843750</td>\n",
       "      <td>-0.080808</td>\n",
       "      <td>3793.0</td>\n",
       "      <td>10.0</td>\n",
       "      <td>3.0</td>\n",
       "      <td>3990.0</td>\n",
       "      <td>OMFGA</td>\n",
       "      <td>1986-07</td>\n",
       "      <td>1986-01</td>\n",
       "      <td>NaN</td>\n",
       "    </tr>\n",
       "    <tr>\n",
       "      <th>7</th>\n",
       "      <td>10000.0</td>\n",
       "      <td>7952.0</td>\n",
       "      <td>1986-08-29</td>\n",
       "      <td>-1.093750</td>\n",
       "      <td>-0.615385</td>\n",
       "      <td>3793.0</td>\n",
       "      <td>10.0</td>\n",
       "      <td>3.0</td>\n",
       "      <td>3990.0</td>\n",
       "      <td>OMFGA</td>\n",
       "      <td>1986-08</td>\n",
       "      <td>1986-02</td>\n",
       "      <td>-0.257143</td>\n",
       "    </tr>\n",
       "  </tbody>\n",
       "</table>\n",
       "</div>"
      ],
      "text/plain": [
       "    permno  permco       date       prc       ret  shrout  shrcd  exchcd  \\\n",
       "0  10000.0  7952.0 1986-01-31 -4.375000       NaN  3680.0   10.0     3.0   \n",
       "1  10000.0  7952.0 1986-02-28 -3.250000 -0.257143  3680.0   10.0     3.0   \n",
       "2  10000.0  7952.0 1986-03-31 -4.437500  0.365385  3680.0   10.0     3.0   \n",
       "3  10000.0  7952.0 1986-04-30 -4.000000 -0.098592  3793.0   10.0     3.0   \n",
       "4  10000.0  7952.0 1986-05-30 -3.109375 -0.222656  3793.0   10.0     3.0   \n",
       "5  10000.0  7952.0 1986-06-30 -3.093750 -0.005025  3793.0   10.0     3.0   \n",
       "6  10000.0  7952.0 1986-07-31 -2.843750 -0.080808  3793.0   10.0     3.0   \n",
       "7  10000.0  7952.0 1986-08-29 -1.093750 -0.615385  3793.0   10.0     3.0   \n",
       "\n",
       "    siccd ticker    mdate date_6M_ago  lag6_ret  \n",
       "0  3990.0  OMFGA  1986-01     1985-07       NaN  \n",
       "1  3990.0  OMFGA  1986-02     1985-08       NaN  \n",
       "2  3990.0  OMFGA  1986-03     1985-09       NaN  \n",
       "3  3990.0  OMFGA  1986-04     1985-10       NaN  \n",
       "4  3990.0  OMFGA  1986-05     1985-11       NaN  \n",
       "5  3990.0  OMFGA  1986-06     1985-12       NaN  \n",
       "6  3990.0  OMFGA  1986-07     1986-01       NaN  \n",
       "7  3990.0  OMFGA  1986-08     1986-02 -0.257143  "
      ]
     },
     "execution_count": 7,
     "metadata": {},
     "output_type": "execute_result"
    }
   ],
   "source": [
    "crsp['lag6_ret'] = crsp.groupby('permno')['ret'].shift(6)\n",
    "crsp.head(8)"
   ]
  }
 ],
 "metadata": {
  "kernelspec": {
   "display_name": "Python 3 (ipykernel)",
   "language": "python",
   "name": "python3"
  },
  "language_info": {
   "codemirror_mode": {
    "name": "ipython",
    "version": 3
   },
   "file_extension": ".py",
   "mimetype": "text/x-python",
   "name": "python",
   "nbconvert_exporter": "python",
   "pygments_lexer": "ipython3",
   "version": "3.8.5"
  },
  "toc": {
   "base_numbering": 1,
   "nav_menu": {},
   "number_sections": true,
   "sideBar": true,
   "skip_h1_title": false,
   "title_cell": "Table of Contents",
   "title_sidebar": "Contents",
   "toc_cell": false,
   "toc_position": {},
   "toc_section_display": true,
   "toc_window_display": false
  }
 },
 "nbformat": 4,
 "nbformat_minor": 5
}
