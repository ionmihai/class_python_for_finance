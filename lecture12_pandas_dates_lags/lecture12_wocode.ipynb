{
 "cells": [
  {
   "cell_type": "markdown",
   "id": "9b9c4d6f",
   "metadata": {
    "toc": true
   },
   "source": [
    "<h1>Table of Contents<span class=\"tocSkip\"></span></h1>\n",
    "<div class=\"toc\"><ul class=\"toc-item\"><li><span><a href=\"#Date-formats:-pd.to_datetime()-and-dt.to_period()\" data-toc-modified-id=\"Date-formats:-pd.to_datetime()-and-dt.to_period()-1\"><span class=\"toc-item-num\">1&nbsp;&nbsp;</span>Date formats: <code>pd.to_datetime()</code> and <code>dt.to_period()</code></a></span></li><li><span><a href=\"#Sorting\" data-toc-modified-id=\"Sorting-2\"><span class=\"toc-item-num\">2&nbsp;&nbsp;</span>Sorting</a></span><ul class=\"toc-item\"><li><span><a href=\"#.sort_values()\" data-toc-modified-id=\".sort_values()-2.1\"><span class=\"toc-item-num\">2.1&nbsp;&nbsp;</span><code>.sort_values()</code></a></span></li><li><span><a href=\"#.sort_index()\" data-toc-modified-id=\".sort_index()-2.2\"><span class=\"toc-item-num\">2.2&nbsp;&nbsp;</span><code>.sort_index()</code></a></span></li></ul></li><li><span><a href=\"#Lagging-and-leading\" data-toc-modified-id=\"Lagging-and-leading-3\"><span class=\"toc-item-num\">3&nbsp;&nbsp;</span>Lagging and leading</a></span><ul class=\"toc-item\"><li><span><a href=\"#Lagging-and-leading-using-.shift()\" data-toc-modified-id=\"Lagging-and-leading-using-.shift()-3.1\"><span class=\"toc-item-num\">3.1&nbsp;&nbsp;</span>Lagging and leading using <code>.shift()</code></a></span></li><li><span><a href=\"#Leading-and-lagging-with-.merge()\" data-toc-modified-id=\"Leading-and-lagging-with-.merge()-3.2\"><span class=\"toc-item-num\">3.2&nbsp;&nbsp;</span>Leading and lagging with <code>.merge()</code></a></span></li></ul></li></ul></div>"
   ]
  },
  {
   "cell_type": "code",
   "execution_count": null,
   "id": "24b7f508",
   "metadata": {},
   "outputs": [],
   "source": [
    "import pandas as pd\n",
    "import numpy as np"
   ]
  },
  {
   "cell_type": "code",
   "execution_count": null,
   "id": "8363a739",
   "metadata": {},
   "outputs": [],
   "source": []
  },
  {
   "cell_type": "markdown",
   "id": "4bc8879e",
   "metadata": {},
   "source": [
    "# Date formats: ``pd.to_datetime()`` and ``dt.to_period()``\n",
    "\n",
    "Pandas offers a lot of flexibility to manipulate dates and time stamps. Much of this functionality can only be used on columns that have the Pandas \"datetime\" data type. We can convert dates to this data type using the ``.to_datetime()`` function."
   ]
  },
  {
   "cell_type": "markdown",
   "id": "cfb1e999",
   "metadata": {},
   "source": [
    "First, note that the ``date`` column in our dataframe is of type \"object\":"
   ]
  },
  {
   "cell_type": "code",
   "execution_count": null,
   "id": "abeabf88",
   "metadata": {},
   "outputs": [],
   "source": []
  },
  {
   "cell_type": "markdown",
   "id": "c2ed0f86",
   "metadata": {},
   "source": [
    "We'll create a copy of the ``df`` dataframe to avoid changing the original data in ``df``:"
   ]
  },
  {
   "cell_type": "code",
   "execution_count": null,
   "id": "bc595a01",
   "metadata": {},
   "outputs": [],
   "source": []
  },
  {
   "cell_type": "code",
   "execution_count": null,
   "id": "f66a7aec",
   "metadata": {},
   "outputs": [],
   "source": []
  },
  {
   "cell_type": "code",
   "execution_count": null,
   "id": "aa6488cd",
   "metadata": {},
   "outputs": [],
   "source": []
  },
  {
   "cell_type": "markdown",
   "id": "08499042",
   "metadata": {},
   "source": [
    "Now we can apply many useful date functions (they usually have the prefix ``dt.``) to this datetime variable. For example, we can extract information about specific components of the date (year, quarter, month, day, etc):"
   ]
  },
  {
   "cell_type": "code",
   "execution_count": null,
   "id": "343e1d18",
   "metadata": {},
   "outputs": [],
   "source": []
  },
  {
   "cell_type": "markdown",
   "id": "638a9fd6",
   "metadata": {},
   "source": [
    "Another common use of the ``.to_datetime()`` function is to construct a datetime variable from date components:"
   ]
  },
  {
   "cell_type": "code",
   "execution_count": null,
   "id": "5a005440",
   "metadata": {},
   "outputs": [],
   "source": []
  },
  {
   "cell_type": "markdown",
   "id": "16fc584f",
   "metadata": {},
   "source": [
    "The other, very commonly used type for date data is the Pandas ``period`` format. This is used to specify that your data has a particular frequency, and can be done by applying the ``.to_period()`` function to a datetime variable (e.g. use 'Y' for yearly frequency data, 'M' for monthly, and 'Q' for quarterly):"
   ]
  },
  {
   "cell_type": "code",
   "execution_count": null,
   "id": "3eb42054",
   "metadata": {},
   "outputs": [],
   "source": []
  },
  {
   "cell_type": "markdown",
   "id": "06ef42fb",
   "metadata": {},
   "source": [
    "These types of ``period`` dates are useful for many operations on the data, the most important one being that Pandas understands what you mean if you want to add or subtract some number of periods to/from a given date. For example:"
   ]
  },
  {
   "cell_type": "code",
   "execution_count": null,
   "id": "5c803b02",
   "metadata": {},
   "outputs": [],
   "source": []
  },
  {
   "cell_type": "markdown",
   "id": "35974bcf",
   "metadata": {},
   "source": [
    "# Sorting\n",
    "\n",
    "We can sort a dataframe based on the values in a particular column using the ``.sort_values()`` function. To sort based on the values in an index, we use the ``.sort_index()`` function. "
   ]
  },
  {
   "cell_type": "markdown",
   "id": "0c581770",
   "metadata": {},
   "source": [
    "## ``.sort_values()``\n",
    "Syntax:\n",
    "```python\n",
    "DataFrame.sort_values(by, axis=0, ascending=True, inplace=False)\n",
    "```"
   ]
  },
  {
   "cell_type": "code",
   "execution_count": null,
   "id": "3250ad51",
   "metadata": {},
   "outputs": [],
   "source": []
  },
  {
   "cell_type": "code",
   "execution_count": null,
   "id": "9ffd4c75",
   "metadata": {},
   "outputs": [],
   "source": []
  },
  {
   "cell_type": "markdown",
   "id": "5423089f",
   "metadata": {},
   "source": [
    "Remember, functions that have an ``inplace`` parameter do not actually change the original dataset unless we set that parameter to ``True``:"
   ]
  },
  {
   "cell_type": "code",
   "execution_count": null,
   "id": "3f518335",
   "metadata": {},
   "outputs": [],
   "source": []
  },
  {
   "cell_type": "code",
   "execution_count": null,
   "id": "5d88ba98",
   "metadata": {},
   "outputs": [],
   "source": []
  },
  {
   "cell_type": "markdown",
   "id": "24285b44",
   "metadata": {},
   "source": [
    "## ``.sort_index()``\n",
    "Abbreviated syntax:\n",
    "```python\n",
    "DataFrame.sort_index(axis=0, level=None, ascending=True, inplace=False)\n",
    "```"
   ]
  },
  {
   "cell_type": "code",
   "execution_count": null,
   "id": "1c16b103",
   "metadata": {},
   "outputs": [],
   "source": []
  },
  {
   "cell_type": "markdown",
   "id": "189c6722",
   "metadata": {},
   "source": [
    "# Lagging and leading"
   ]
  },
  {
   "cell_type": "markdown",
   "id": "25d4e871",
   "metadata": {},
   "source": [
    "In the context of most financial datasets which contain time-indexed information, lagging a particular variable (column) means obtaining the values for that particular variable from a prior point in time (e.g. lagging \"twice\" in a dataset with monthly frequency, means obtaining data from \"two months ago\"). Leading a variable means obtaining values from a future point in time.\n",
    "\n",
    "If you research how to lead and lag variables in with pandas dataframes, most sources (including the official Pandas user guide) claims that you can do this using the ``.shift()`` function. In this section I first show you how to use this method, and then show you that it may run into problems when lagging is done based on dates. I then show you how you can create leads and lags in a more robust way (using ``period`` dates and the ``merge`` function).\n"
   ]
  },
  {
   "cell_type": "markdown",
   "id": "c2f1d0cc",
   "metadata": {},
   "source": [
    "## Lagging and leading using ``.shift()``\n",
    "\n",
    "Syntax:\n",
    "```python\n",
    "DataFrame.shift(periods=1, freq=None, axis=0, fill_value=NoDefault.no_default)\n",
    "```"
   ]
  },
  {
   "cell_type": "markdown",
   "id": "36b80a32",
   "metadata": {},
   "source": [
    "Suppose we want to create a new column ``lag_return`` which tells us, for each firm, its returns from **the prior month**.\n",
    "The general advice you'll see is that you should first sort your dataframe by firm identifier and by date:"
   ]
  },
  {
   "cell_type": "code",
   "execution_count": null,
   "id": "29a16429",
   "metadata": {},
   "outputs": [],
   "source": []
  },
  {
   "cell_type": "markdown",
   "id": "05852946",
   "metadata": {},
   "source": [
    "And then use the ``.shift()`` function, after you tell Python that your dates are grouped at the firm level (each firm identifier has its own set of dates). You can do this with the ``.groupby()`` function (more on this function later):"
   ]
  },
  {
   "cell_type": "code",
   "execution_count": null,
   "id": "b64f1db5",
   "metadata": {},
   "outputs": [],
   "source": []
  },
  {
   "cell_type": "markdown",
   "id": "1be24a83",
   "metadata": {},
   "source": [
    "Note that the entries for ``lag_ret`` on the second row and the last row are not exactly what we want: they do not tell us what the return of the firm was in the prior month. This happens because \n",
    "\n",
    "1. Our data has gaps in coverage (October 2010 is missing for firmid==1)\n",
    "2. Our data has duplicates (there are two entries for December 2010 for firmid==3)"
   ]
  },
  {
   "cell_type": "markdown",
   "id": "de7c9ee1",
   "metadata": {},
   "source": [
    "Note that both of these issues disappear if we first get rid of duplicates and if we interpret \"lagging X times\" to mean \"data from X rows above\" not \"data from X time periods ago\" and \"leading X times\" to mean \"data from X rows below\" and not \"data from X time periods in the future\". To keep things simple, **this is the approach we will take in this course**.\n",
    "\n",
    "However, if this interpretation of lagging and leading is not exactly what you need for your application and you need to lag and lead in terms of calendar periods, you should follow the approach below:"
   ]
  },
  {
   "cell_type": "markdown",
   "id": "7a904492",
   "metadata": {},
   "source": [
    "## Leading and lagging with ``.merge()``"
   ]
  },
  {
   "cell_type": "markdown",
   "id": "7488b8cb",
   "metadata": {},
   "source": [
    "First, create a copy of the original dataset again:"
   ]
  },
  {
   "cell_type": "code",
   "execution_count": null,
   "id": "47093906",
   "metadata": {},
   "outputs": [],
   "source": []
  },
  {
   "cell_type": "markdown",
   "id": "a9863c9b",
   "metadata": {},
   "source": [
    "We will first create a new date variable that tells Python the frequency of our dates:"
   ]
  },
  {
   "cell_type": "code",
   "execution_count": null,
   "id": "7e5494b4",
   "metadata": {},
   "outputs": [],
   "source": []
  },
  {
   "cell_type": "markdown",
   "id": "1be1e927",
   "metadata": {},
   "source": [
    "Now create a new dataframe containing the firm identifiers (``firmid``), the period date (``mdate``) and the variable we want to lag (``return``):"
   ]
  },
  {
   "cell_type": "code",
   "execution_count": null,
   "id": "61cfb11e",
   "metadata": {},
   "outputs": [],
   "source": []
  },
  {
   "cell_type": "markdown",
   "id": "0bbead19",
   "metadata": {},
   "source": [
    "Now add (subtract in case of leads) the number of periods you want to lag the return variable (1 in our example) to the period date:"
   ]
  },
  {
   "cell_type": "code",
   "execution_count": null,
   "id": "ddb3b250",
   "metadata": {},
   "outputs": [],
   "source": []
  },
  {
   "cell_type": "markdown",
   "id": "7e1a51f3",
   "metadata": {},
   "source": [
    "And rename ``return`` to ``lag_return``:"
   ]
  },
  {
   "cell_type": "code",
   "execution_count": null,
   "id": "86265c11",
   "metadata": {},
   "outputs": [],
   "source": []
  },
  {
   "cell_type": "markdown",
   "id": "8c17ecc9",
   "metadata": {},
   "source": [
    "Finally, merge this lagged data into the original dataset:"
   ]
  },
  {
   "cell_type": "code",
   "execution_count": null,
   "id": "53ffaec4",
   "metadata": {},
   "outputs": [],
   "source": []
  },
  {
   "cell_type": "code",
   "execution_count": null,
   "id": "f2354098",
   "metadata": {},
   "outputs": [],
   "source": []
  },
  {
   "cell_type": "markdown",
   "id": "597c90b8",
   "metadata": {},
   "source": [
    "Note that now the second and last entries in ``lag_return`` are correct (they tell us the returns from the prior month). "
   ]
  },
  {
   "cell_type": "markdown",
   "id": "3f126d5b",
   "metadata": {},
   "source": [
    "You still have to contend with what it means that you have duplicate entries for ``return`` for December 2010 for ``firmid==3`` but dealing with duplicates needs to be addressed on a case by case basis, depending on the particulars of the data you are using."
   ]
  }
 ],
 "metadata": {
  "kernelspec": {
   "display_name": "Python 3",
   "language": "python",
   "name": "python3"
  },
  "language_info": {
   "codemirror_mode": {
    "name": "ipython",
    "version": 3
   },
   "file_extension": ".py",
   "mimetype": "text/x-python",
   "name": "python",
   "nbconvert_exporter": "python",
   "pygments_lexer": "ipython3",
   "version": "3.10.6"
  },
  "toc": {
   "base_numbering": 1,
   "nav_menu": {},
   "number_sections": true,
   "sideBar": true,
   "skip_h1_title": false,
   "title_cell": "Table of Contents",
   "title_sidebar": "Contents",
   "toc_cell": true,
   "toc_position": {},
   "toc_section_display": true,
   "toc_window_display": false
  },
  "vscode": {
   "interpreter": {
    "hash": "767d51c1340bd893661ea55ea3124f6de3c7a262a8b4abca0554b478b1e2ff90"
   }
  }
 },
 "nbformat": 4,
 "nbformat_minor": 5
}
