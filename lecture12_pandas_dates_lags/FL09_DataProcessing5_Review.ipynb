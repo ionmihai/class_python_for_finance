{
 "cells": [
  {
   "cell_type": "markdown",
   "metadata": {},
   "source": [
    "# 1. Lecture Overview\n",
    "\n",
    "In this lecture, we apply some of the main tools we covered so far, to prepare the CRSP and Compustat datasets for analysis for the rest of the course. \n",
    "\n",
    "In the Data Science community, this process of transforming a \"raw\" dataset into one that is more appropriate for downstream analysis is also called **data wrangling** or **data munging**. \n",
    "\n",
    "We will save these processed datasets for later use, so we don't have to start from scratch every time we need to use the CRSP and Compustat data later on.\n",
    "\n",
    "- Compustat\n",
    "    - Cleaning\n",
    "    - Building some key variables\n",
    "    \n",
    "    \n",
    "- CRSP\n",
    "    - Cleaning\n",
    "    - Building some key variables"
   ]
  },
  {
   "cell_type": "markdown",
   "metadata": {},
   "source": [
    "# 2. Preliminaries"
   ]
  },
  {
   "cell_type": "code",
   "execution_count": null,
   "metadata": {},
   "outputs": [],
   "source": [
    "# Import libraries\n",
    "import pandas as pd\n",
    "import datetime as dt\n",
    "\n",
    "# Pretty print all cell's output and not just the last one\n",
    "from IPython.core.interactiveshell import InteractiveShell\n",
    "InteractiveShell.ast_node_interactivity = \"all\""
   ]
  },
  {
   "cell_type": "markdown",
   "metadata": {},
   "source": [
    "# 3. Compustat application\n",
    "\n",
    "- Load Compustat data (compa.zip), convert all names to lowercase, rename lpermno to permno and datadate to date\n",
    "- Create the datetime date (dtdate), the annual date (ydate) and set the index for the dataset (permno ydate)\n",
    "- Clean the data\n",
    "    - drop the following columns: 'indfmt', 'consol', 'popsrc', 'curcd', 'datafmt','costat'\n",
    "    - drop observations with negative assets (at) or sales (at)\n",
    "    - keep only firms incorporated in the US (fic == USA)\n",
    "- Create new variables\n",
    "    - capx2assets = capx divided by lagged total assets\n",
    "    - roa = ib divided by lagged total assets\n",
    "    - bleverage = (dlc + dltt) divided by total assets\n",
    "    - cash2assets = che divided by total assets\n",
    "    - cflow2assets = (ib + dp) divided by lagged total assets\n",
    "    - mktcap = prcc_f * csho\n",
    "- Winsorize the new variables at the 1 and 99 percentiles    \n",
    "- Save new variables in a new dataset called \"compa_clean\" (in a tab-delimited txt file)       "
   ]
  },
  {
   "cell_type": "markdown",
   "metadata": {},
   "source": [
    "### Load data and clean variable names"
   ]
  },
  {
   "cell_type": "code",
   "execution_count": null,
   "metadata": {},
   "outputs": [],
   "source": [
    "# Load Compustat data (compa.zip)\n",
    "comp = pd.read_csv('./compa.zip', sep = '\\t', low_memory = False)\n",
    "\n",
    "comp.head()\n",
    "comp.dtypes"
   ]
  },
  {
   "cell_type": "code",
   "execution_count": null,
   "metadata": {},
   "outputs": [],
   "source": [
    "# Convert all column names to lowercase\n",
    "comp.columns = comp.columns.str.lower()\n",
    "comp.dtypes"
   ]
  },
  {
   "cell_type": "code",
   "execution_count": null,
   "metadata": {},
   "outputs": [],
   "source": [
    "# Rename lpermno to permno and datadate to date\n",
    "comp.rename(columns = {'lpermno':'permno','datadate':'date'}, inplace = True)\n",
    "comp.dtypes"
   ]
  },
  {
   "cell_type": "markdown",
   "metadata": {},
   "source": [
    "### Create necessary date variables"
   ]
  },
  {
   "cell_type": "code",
   "execution_count": null,
   "metadata": {},
   "outputs": [],
   "source": [
    "# Create the datetime date (dtdate)\n",
    "comp['dtdate'] = pd.to_datetime(comp['date'], format = '%Y%m%d')\n",
    "\n",
    "# Print just 'dtdate' and 'date' columns\n",
    "comp[['date','dtdate']]"
   ]
  },
  {
   "cell_type": "code",
   "execution_count": null,
   "metadata": {},
   "outputs": [],
   "source": [
    "# Create the annual date (ydate)\n",
    "comp['ydate'] = comp['dtdate'].dt.to_period('Y')\n",
    "\n",
    "# Print all three date columns\n",
    "comp[['date','ydate','dtdate']]"
   ]
  },
  {
   "cell_type": "markdown",
   "metadata": {},
   "source": [
    "### Impose filters (deleting some rows and/or some columns)"
   ]
  },
  {
   "cell_type": "code",
   "execution_count": null,
   "metadata": {},
   "outputs": [],
   "source": [
    "# Find initial number of observations (rows)\n",
    "n_raw = len(comp)\n",
    "print(n_raw)"
   ]
  },
  {
   "cell_type": "code",
   "execution_count": null,
   "metadata": {},
   "outputs": [],
   "source": [
    "# Drop the following columns: 'indfmt', 'consol', 'popsrc', 'curcd', 'datafmt','costat'\n",
    "comp.drop(columns = ['indfmt', 'consol', 'popsrc', 'curcd', 'datafmt','costat'], inplace = True)\n",
    "comp.dtypes #this gives us a full list of the remaining columns so we can check that the above have been deleted"
   ]
  },
  {
   "cell_type": "code",
   "execution_count": null,
   "metadata": {},
   "outputs": [],
   "source": [
    "# Drop observations with negative assets (at) or sales (at)\n",
    "comp = comp.loc[(comp['at']>0) & (comp['sale']>0)].copy()\n",
    "\n",
    "# Calculate how many rows we have left after this step and print it out \n",
    "n_after1 = len(comp)\n",
    "print(n_raw, n_after1, n_raw - n_after1)"
   ]
  },
  {
   "cell_type": "code",
   "execution_count": null,
   "metadata": {},
   "outputs": [],
   "source": [
    "# Keep only firms incorporated in the US (fic == USA)  \n",
    "comp = comp.loc[comp['fic']=='USA'].copy()\n",
    "\n",
    "# Calculate how many rows we have left after this step and print it out \n",
    "n_after2 = len(comp)\n",
    "print(n_after1, n_after2, n_after1 - n_after2)"
   ]
  },
  {
   "cell_type": "markdown",
   "metadata": {},
   "source": [
    "### Set the index of the dataset"
   ]
  },
  {
   "cell_type": "code",
   "execution_count": null,
   "metadata": {},
   "outputs": [],
   "source": [
    "# Set the index\n",
    "comp.set_index(['permno','ydate'], inplace = True, drop = False)\n",
    "comp.head()\n",
    "comp.dtypes"
   ]
  },
  {
   "cell_type": "code",
   "execution_count": null,
   "metadata": {},
   "outputs": [],
   "source": [
    "# Drop duplicates in the index (firms with multiple observations in a given year)\n",
    "comp = comp.loc[~comp.index.duplicated(keep=False)].copy()\n",
    "\n",
    "# Calculate how many rows we have left after this step and print it out \n",
    "n_after3 = len(comp)\n",
    "print(n_after2, n_after3, n_after2 - n_after3)"
   ]
  },
  {
   "cell_type": "markdown",
   "metadata": {},
   "source": [
    "### Create new variables"
   ]
  },
  {
   "cell_type": "code",
   "execution_count": null,
   "metadata": {},
   "outputs": [],
   "source": [
    "# lagged total assets\n",
    "comp['at_lag1'] = comp.groupby(level='permno')['at'].shift(1)\n",
    "\n",
    "# print results\n",
    "comp[['at','at_lag1']]"
   ]
  },
  {
   "cell_type": "code",
   "execution_count": null,
   "metadata": {},
   "outputs": [],
   "source": [
    "# capx2assets = capx divided by lagged total assets\n",
    "comp['capx2assets'] = comp['capx'] / comp['at_lag1']\n",
    "\n",
    "# print results\n",
    "comp[['capx','at_lag1', 'capx2assets']]"
   ]
  },
  {
   "cell_type": "code",
   "execution_count": null,
   "metadata": {},
   "outputs": [],
   "source": [
    "# roa = ib divided by lagged total assets\n",
    "comp['roa'] = comp['ib'] / comp['at_lag1']\n",
    "\n",
    "# print results\n",
    "comp[['ib','at_lag1', 'roa']]"
   ]
  },
  {
   "cell_type": "code",
   "execution_count": null,
   "metadata": {},
   "outputs": [],
   "source": [
    "# bleverage = (dlc + dltt) divided by total assets\n",
    "comp['bleverage'] = (comp['dlc'] + comp['dltt']) / comp['at']\n",
    "\n",
    "# print results\n",
    "comp[['dlc','dltt', 'at', 'bleverage']]"
   ]
  },
  {
   "cell_type": "code",
   "execution_count": null,
   "metadata": {},
   "outputs": [],
   "source": [
    "# cash2assets = che divided by total assets\n",
    "comp['cash2assets'] = comp['che'] / comp['at']\n",
    "\n",
    "# print results\n",
    "comp[['che','at', 'cash2assets']]"
   ]
  },
  {
   "cell_type": "code",
   "execution_count": null,
   "metadata": {},
   "outputs": [],
   "source": [
    "# cflow2assets = (ib + dp) divided by lagged total assets\n",
    "comp['cflow2assets'] = (comp['ib'] + comp['dp']) / comp['at_lag1'] \n",
    "\n",
    "# print results\n",
    "comp[['ib','dp', 'at_lag1', 'cflow2assets']]"
   ]
  },
  {
   "cell_type": "code",
   "execution_count": null,
   "metadata": {},
   "outputs": [],
   "source": [
    "# mktcap = prcc_f * csho\n",
    "comp['mktcap'] = comp['prcc_f'] * comp['csho']\n",
    "\n",
    "# print results\n",
    "comp[['prcc_f','csho', 'mktcap']]"
   ]
  },
  {
   "cell_type": "markdown",
   "metadata": {},
   "source": [
    "#### Example\n",
    "Create a new variable in 'comp' called 'sg5' that equals the percentage growth in sales over the past 5 years (current year vs five years ago). "
   ]
  },
  {
   "cell_type": "code",
   "execution_count": null,
   "metadata": {},
   "outputs": [],
   "source": [
    "# Create column with sales lagged 5 years\n",
    "comp['sale_lag5'] = comp.groupby(level = 'permno')['sale'].shift(5)\n",
    "\n",
    "#Calculate sales growth\n",
    "comp['sg5'] = comp['sale']/comp['sale_lag5'] - 1"
   ]
  },
  {
   "cell_type": "code",
   "execution_count": null,
   "metadata": {},
   "outputs": [],
   "source": [
    "# Print results\n",
    "comp.loc[25881,['sale','sale_lag5','sg5']]"
   ]
  },
  {
   "cell_type": "markdown",
   "metadata": {},
   "source": [
    "### Winsorize the new variables\n",
    "\n",
    "\"Winsorizing\" a variable at the 1 and 99 percentiles, we mean that the values of that variable that are smaller than the 1st percentile are made equal to the 1st percentile and the values that are larger than the 99th percentile are made equal to the 99th percentile.\n",
    "\n",
    "You can pick other values for the percentiles at which you want to winsorize but (1,99) and (5, 95) are by far the most common ones.\n",
    "\n",
    "To winsorize a variable, in a Pandas dataframe, we use the **clip** function as below. This also requires us to use the **quantile** function to calculate the 1 and 99th percentiles."
   ]
  },
  {
   "cell_type": "code",
   "execution_count": null,
   "metadata": {},
   "outputs": [],
   "source": [
    "# Calculate the 1st and 99th percentiles of 'roa'\n",
    "roa_p1 = comp['roa'].quantile(0.01)\n",
    "roa_p99 = comp['roa'].quantile(0.99)\n",
    "\n",
    "print(roa_p1, roa_p99)"
   ]
  },
  {
   "cell_type": "code",
   "execution_count": null,
   "metadata": {},
   "outputs": [],
   "source": [
    "# Winsorize 'roa' at 1st and 99th percentiles\n",
    "comp['roa_w'] = comp['roa'].clip(lower = roa_p1, upper = roa_p99)\n",
    "\n",
    "# Take a look at roa and roa_w\n",
    "comp[['roa','roa_w']]"
   ]
  },
  {
   "cell_type": "code",
   "execution_count": null,
   "metadata": {},
   "outputs": [],
   "source": [
    "# Winsorize the all new variables at the 1 and 99 percentiles \n",
    "for var in ['capx2assets', 'roa', 'bleverage', 'cash2assets', 'cflow2assets', 'mktcap']:\n",
    "    comp[f'{var}_w'] = comp[var].clip(lower = comp[var].quantile(0.01), upper = comp[var].quantile(0.99))"
   ]
  },
  {
   "cell_type": "code",
   "execution_count": null,
   "metadata": {},
   "outputs": [],
   "source": [
    "# Take a quick look at the winsorized variables        \n",
    "comp.filter(like = '_w', axis = 1) "
   ]
  },
  {
   "cell_type": "markdown",
   "metadata": {},
   "source": [
    "### Save the new dataset in a pickle file"
   ]
  },
  {
   "cell_type": "code",
   "execution_count": null,
   "metadata": {},
   "outputs": [],
   "source": [
    "# Save new variables in a new dataset called \"compa_clean\" (in pickle file file)  \n",
    "comp.to_pickle('./comp_clean.pkl')\n",
    "\n",
    "# Remember, you can read this file with \"read_pickle\"\n",
    "comp = pd.read_pickle('./comp_clean.pkl')\n",
    "#comp"
   ]
  },
  {
   "cell_type": "markdown",
   "metadata": {},
   "source": [
    "# 4. CRSP application\n",
    "\n",
    "- Load CRSP file (crspm.zip), convert all names to lowercase\n",
    "- Create monthly date variable (mdate) and set the index for the dataset (permno mdate)\n",
    "- Replace stock price (prc) with its absolute value\n",
    "- Impose filters\n",
    "    - keep only observations where ret is numeric\n",
    "    - keep only observations where exchcd is 1, 2, or 3\n",
    "    - keep only observations where shrcd is 10 or 11\n",
    "- Create new variables\n",
    "    - mktcap = price (prc) times number of shares (shrout)\n",
    "    - ret12 = compounded returns over past 12 months\n",
    "- Save ret and mktcap to a new dataset called \"crsp_clean\" (in a tab-delimited txt file)    "
   ]
  },
  {
   "cell_type": "markdown",
   "metadata": {},
   "source": [
    "### Load data, clean prices, and create date variables"
   ]
  },
  {
   "cell_type": "code",
   "execution_count": null,
   "metadata": {},
   "outputs": [],
   "source": [
    "# Load CRSP file (crspm.zip)\n",
    "crsp = pd.read_csv('./crspm.zip', sep = '\\t', low_memory = False)\n",
    "\n",
    "# Take a look at the dataset\n",
    "crsp\n",
    "crsp.dtypes"
   ]
  },
  {
   "cell_type": "code",
   "execution_count": null,
   "metadata": {},
   "outputs": [],
   "source": [
    "# Convert all column names to lowercase\n",
    "crsp.columns = crsp.columns.str.lower()\n",
    "\n",
    "# Take a look at the dataset\n",
    "crsp.dtypes"
   ]
  },
  {
   "cell_type": "code",
   "execution_count": null,
   "metadata": {},
   "outputs": [],
   "source": [
    "# Replace prc with its absolute value\n",
    "crsp['prc'] = crsp['prc'].abs()\n",
    "\n",
    "# Take a look at the prc column\n",
    "crsp['prc']"
   ]
  },
  {
   "cell_type": "code",
   "execution_count": null,
   "metadata": {},
   "outputs": [],
   "source": [
    "# Create datetime date variable \n",
    "crsp['dtdate'] = pd.to_datetime(crsp['date'], format = '%Y%m%d')\n",
    "\n",
    "# Take a look at the date variables\n",
    "crsp[['date','dtdate']]"
   ]
  },
  {
   "cell_type": "code",
   "execution_count": null,
   "metadata": {},
   "outputs": [],
   "source": [
    "# Create period date variable (monthly frequency)\n",
    "crsp['mdate'] = crsp['dtdate'].dt.to_period('M')\n",
    "\n",
    "# Take a look at the date variables\n",
    "crsp[['date','dtdate', 'mdate']]"
   ]
  },
  {
   "cell_type": "code",
   "execution_count": null,
   "metadata": {},
   "outputs": [],
   "source": [
    "# Another way to look at all the variables containing \"date\" in their name\n",
    "crsp.filter(like = \"date\")"
   ]
  },
  {
   "cell_type": "markdown",
   "metadata": {},
   "source": [
    "### Impose filters"
   ]
  },
  {
   "cell_type": "code",
   "execution_count": null,
   "metadata": {},
   "outputs": [],
   "source": [
    "# Check initial number of observations (rows)\n",
    "n_raw = len(crsp)\n",
    "print(n_raw)  "
   ]
  },
  {
   "cell_type": "code",
   "execution_count": null,
   "metadata": {},
   "outputs": [],
   "source": [
    "# Keep only observations where ret is numeric\n",
    "    # Keep only rows where to_numeric() does not fail on 'ret' column\n",
    "crsp = crsp.loc[pd.to_numeric(crsp['ret'],errors='coerce').notnull()].copy()  \n",
    "crsp\n",
    "    # Convert 'ret' column to numeric type\n",
    "crsp['ret'] = pd.to_numeric(crsp['ret'])\n",
    "\n",
    "# See how many observations were lost after these steps\n",
    "n_after1 = len(crsp)\n",
    "print(n_raw, n_after1, n_raw-n_after1)"
   ]
  },
  {
   "cell_type": "code",
   "execution_count": null,
   "metadata": {},
   "outputs": [],
   "source": [
    "# Keep only observations where exchcd is 1, 2, or 3\n",
    "crsp = crsp.loc[crsp['exchcd'].isin([1,2,3])].copy()\n",
    "\n",
    "# See how many observations were lost after these steps\n",
    "n_after2 = len(crsp)\n",
    "print(n_after1, n_after2, n_after1 - n_after2)"
   ]
  },
  {
   "cell_type": "code",
   "execution_count": null,
   "metadata": {},
   "outputs": [],
   "source": [
    "# Keep only observations where shrcd is 10 or 11\n",
    "crsp = crsp.loc[crsp['shrcd'].isin([10,11])].copy()\n",
    "\n",
    "# See how many observations were lost after these steps\n",
    "n_after3 = len(crsp)\n",
    "print(n_after2, n_after3, n_after2 - n_after3)"
   ]
  },
  {
   "cell_type": "code",
   "execution_count": null,
   "metadata": {},
   "outputs": [],
   "source": [
    "# Drop date, exchcd, shrcd\n",
    "crsp.drop(columns = ['date', 'exchcd', 'shrcd'], inplace = True)    \n",
    "\n",
    "# Take a look at all the variables left in the dataset\n",
    "crsp.dtypes"
   ]
  },
  {
   "cell_type": "markdown",
   "metadata": {},
   "source": [
    "### Set the index"
   ]
  },
  {
   "cell_type": "code",
   "execution_count": null,
   "metadata": {},
   "outputs": [],
   "source": [
    "# Set the index for the dataset (permno mdate)\n",
    "crsp.set_index(['permno', 'mdate'], inplace = True)\n",
    "\n",
    "# Take a look at the dataset\n",
    "crsp"
   ]
  },
  {
   "cell_type": "code",
   "execution_count": null,
   "metadata": {},
   "outputs": [],
   "source": [
    "# Delete duplicate values in the index (firms with multiple observations in a particular month)\n",
    "crsp = crsp.loc[~crsp.index.duplicated(keep = False)].copy()\n",
    "\n",
    "# See how many observations were lost after these steps\n",
    "n_after4 = len(crsp)\n",
    "print(n_after3, n_after4, n_after3 - n_after4)"
   ]
  },
  {
   "cell_type": "markdown",
   "metadata": {},
   "source": [
    "### Create new variables"
   ]
  },
  {
   "cell_type": "code",
   "execution_count": null,
   "metadata": {},
   "outputs": [],
   "source": [
    "# mktcap = prc times shrout\n",
    "crsp['mktcap'] = crsp['prc'] * crsp['shrout'] \n",
    "\n",
    "# print results\n",
    "crsp[['prc','shrout','mktcap']]"
   ]
  },
  {
   "cell_type": "markdown",
   "metadata": {},
   "source": [
    "### Compounded returns over past 12 months"
   ]
  },
  {
   "cell_type": "code",
   "execution_count": null,
   "metadata": {},
   "outputs": [],
   "source": [
    "# Start by creating a new variable that equals the gross return that month\n",
    "crsp['ret12'] = 1 + crsp['ret']    \n",
    "\n",
    "# Print out what we have so far\n",
    "crsp[['ret','ret12']] "
   ]
  },
  {
   "cell_type": "code",
   "execution_count": null,
   "metadata": {},
   "outputs": [],
   "source": [
    "# and every month for the past 11 months...\n",
    "for i in range(11):\n",
    "    # ... multiply it with the gross return from that past month\n",
    "    crsp['ret12'] = crsp['ret12'] * (1 + crsp.groupby(level = 'permno')['ret'].shift(i+1))\n",
    "    \n",
    "# Print out what we have so far\n",
    "crsp[['ret','ret12']] "
   ]
  },
  {
   "cell_type": "code",
   "execution_count": null,
   "metadata": {},
   "outputs": [],
   "source": [
    "# finally, subtract one to get net returns    \n",
    "crsp['ret12'] = crsp['ret12'] - 1\n",
    "\n",
    "# Print out what we have so far\n",
    "crsp[['ret','ret12']] "
   ]
  },
  {
   "cell_type": "code",
   "execution_count": null,
   "metadata": {},
   "outputs": [],
   "source": [
    "# Check results for one firm (easier to inspect)\n",
    "crsp.loc[10000,['ret', 'ret12']]"
   ]
  },
  {
   "cell_type": "markdown",
   "metadata": {},
   "source": [
    "#### Example\n",
    "Create a new dataframe called tsla that contains just the price and returns of TSLA. Plot the returns."
   ]
  },
  {
   "cell_type": "code",
   "execution_count": null,
   "metadata": {},
   "outputs": [],
   "source": [
    "# Extract data for tsla\n",
    "tsla = crsp.loc[crsp['ticker']=='TSLA', ['prc','ret']]\n",
    "tsla\n",
    "\n",
    "#plot\n",
    "#tsla['ret'].plot();"
   ]
  },
  {
   "cell_type": "code",
   "execution_count": null,
   "metadata": {},
   "outputs": [],
   "source": [
    "# reset the index\n",
    "tsla.reset_index(inplace=True)\n",
    "tsla\n",
    "\n",
    "#set index to mdate\n",
    "tsla.set_index('mdate',inplace = True)\n",
    "tsla\n",
    "\n",
    "#redo plot\n",
    "tsla['ret'].plot()"
   ]
  },
  {
   "cell_type": "markdown",
   "metadata": {},
   "source": [
    "### Save new version of the crsp table to a pickle file"
   ]
  },
  {
   "cell_type": "code",
   "execution_count": null,
   "metadata": {},
   "outputs": [],
   "source": [
    "# Save ret and mktcap to a new dataset called \"crsp_clean\" (in a pickle file) \n",
    "crsp.to_pickle('./clean_crsp.pkl.zip')"
   ]
  },
  {
   "cell_type": "code",
   "execution_count": null,
   "metadata": {},
   "outputs": [],
   "source": [
    "# Remember you can read this file with \"read_pickle\"\n",
    "crsp = pd.read_pickle('./clean_crsp.pkl.zip')\n",
    "crsp"
   ]
  }
 ],
 "metadata": {
  "kernelspec": {
   "display_name": "Python 3 (ipykernel)",
   "language": "python",
   "name": "python3"
  },
  "language_info": {
   "codemirror_mode": {
    "name": "ipython",
    "version": 3
   },
   "file_extension": ".py",
   "mimetype": "text/x-python",
   "name": "python",
   "nbconvert_exporter": "python",
   "pygments_lexer": "ipython3",
   "version": "3.8.5"
  },
  "toc": {
   "base_numbering": 1,
   "nav_menu": {},
   "number_sections": true,
   "sideBar": true,
   "skip_h1_title": false,
   "title_cell": "Table of Contents",
   "title_sidebar": "Contents",
   "toc_cell": false,
   "toc_position": {},
   "toc_section_display": true,
   "toc_window_display": false
  }
 },
 "nbformat": 4,
 "nbformat_minor": 4
}
